{
 "cells": [
  {
   "cell_type": "code",
   "execution_count": 1,
   "metadata": {},
   "outputs": [],
   "source": [
    "# Copyright(C) 2021 刘珅珅\n",
    "# Environment: python 3.7\n",
    "# Date: 2021.3.6\n",
    "# 最近公共祖先 II：lintcode 474"
   ]
  },
  {
   "cell_type": "code",
   "execution_count": 10,
   "metadata": {},
   "outputs": [],
   "source": [
    "## 两个结点都在树上，并且每个结点还有一个指向其父亲的parent指针\n",
    "class Solution:\n",
    "    \"\"\"\n",
    "    @param: root: The root of the tree\n",
    "    @param: A: node in the tree\n",
    "    @param: B: node in the tree\n",
    "    @return: The lowest common ancestor of A and B\n",
    "    \"\"\"\n",
    "    def lowestCommonAncestorII(self, root, A, B):\n",
    "        # write your code here\n",
    "        if not root or not A or not B:\n",
    "            return None\n",
    "        \n",
    "        ## 找到A的所有父结点并存入set中\n",
    "        ## A自己也是它本身的父结点\n",
    "        ancestors_A_set = set([A])\n",
    "        ancestor_A = A.parent\n",
    "        while ancestor_A:\n",
    "            ancestors_A_set.add(ancestor_A)\n",
    "            ancestor_A = ancestor_A.parent\n",
    "        \n",
    "        ## B结点自己也是它本身的父结点\n",
    "        ancestor_B = B\n",
    "        while ancestor_B:\n",
    "            if ancestor_B in ancestors_A_set:\n",
    "                return ancestor_B\n",
    "            ancestor_B = ancestor_B.parent\n",
    "        \n",
    "        return None\n",
    "\n",
    "        \n",
    "        "
   ]
  },
  {
   "cell_type": "code",
   "execution_count": null,
   "metadata": {},
   "outputs": [],
   "source": []
  }
 ],
 "metadata": {
  "kernelspec": {
   "display_name": "Python 3",
   "language": "python",
   "name": "python3"
  },
  "language_info": {
   "codemirror_mode": {
    "name": "ipython",
    "version": 3
   },
   "file_extension": ".py",
   "mimetype": "text/x-python",
   "name": "python",
   "nbconvert_exporter": "python",
   "pygments_lexer": "ipython3",
   "version": "3.7.1"
  }
 },
 "nbformat": 4,
 "nbformat_minor": 2
}
