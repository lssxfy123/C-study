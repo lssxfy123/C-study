{
 "cells": [
  {
   "cell_type": "code",
   "execution_count": 1,
   "metadata": {},
   "outputs": [],
   "source": [
    "# Copyright(C) 2021 刘珅珅\n",
    "# Environment: python 3.7\n",
    "# Date: 2021.3.6\n",
    "# 最近公共祖先：lintcode 88"
   ]
  },
  {
   "cell_type": "code",
   "execution_count": 10,
   "metadata": {},
   "outputs": [],
   "source": [
    "## 两个结点都在树上\n",
    "class Solution:\n",
    "    \"\"\"\n",
    "    @param: root: The root of the binary search tree.\n",
    "    @param: A: A TreeNode in a Binary.\n",
    "    @param: B: A TreeNode in a Binary.\n",
    "    @return: Return the least common ancestor(LCA) of the two nodes.\n",
    "    \"\"\"\n",
    "    def lowestCommonAncestor(self, root, A, B):\n",
    "        # write your code here\n",
    "        if not root:  ## 如果root的为None，说明其肯定不是A或者B的祖先\n",
    "            return None\n",
    "        \n",
    "        ## 表明root是A或B，则直接返回，因为A或B也是其本身的父结点\n",
    "        ## 即使B在A的子树中，其LCA仍然是A\n",
    "        if root == A or root == B:\n",
    "            return root\n",
    "        \n",
    "        ## 分别计算A和B在root的左子树上的最近公共祖先和右子树上的最近公共祖先\n",
    "        left_ancestor = self.lowestCommonAncestor(root.left, A, B)\n",
    "        right_ancestor = self.lowestCommonAncestor(root.right, A, B)\n",
    "        ## 如果两个公共祖先都存在，说明A和B分别在root的左子树和右子树上\n",
    "        ## 说明root就是其最近公共祖先\n",
    "        if left_ancestor and right_ancestor:\n",
    "            return root\n",
    "        \n",
    "        ## 如果左祖先存在，但右祖先不存在，有两种情况：\n",
    "        ## 一种是A和B都在左子树上，这时肯定要返回左祖先\n",
    "        ## 另一种是A和B只有一个在左子树上，因为之前root ==A or root ==B时函数以及返回了，\n",
    "        ## 这时候的左祖先肯定是A和B其中的一个\n",
    "        ## 这种情况下也要返回左祖先，如果返回None，就无法判断到底是A和B都不在左子树上\n",
    "        ## 还是只有其中1个在左子树上\n",
    "        if left_ancestor:\n",
    "            return left_ancestor\n",
    "        if right_ancestor:\n",
    "            return right_ancestor\n",
    "        \n",
    "        ## 返回None表示A和B不在以root为根结点的子树上，但存在于整颗树上\n",
    "        return None\n",
    "        \n",
    "        \n",
    "        "
   ]
  },
  {
   "cell_type": "code",
   "execution_count": null,
   "metadata": {},
   "outputs": [],
   "source": []
  }
 ],
 "metadata": {
  "kernelspec": {
   "display_name": "Python 3",
   "language": "python",
   "name": "python3"
  },
  "language_info": {
   "codemirror_mode": {
    "name": "ipython",
    "version": 3
   },
   "file_extension": ".py",
   "mimetype": "text/x-python",
   "name": "python",
   "nbconvert_exporter": "python",
   "pygments_lexer": "ipython3",
   "version": "3.7.1"
  }
 },
 "nbformat": 4,
 "nbformat_minor": 2
}
