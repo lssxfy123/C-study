{
 "cells": [
  {
   "cell_type": "code",
   "execution_count": 1,
   "metadata": {},
   "outputs": [],
   "source": [
    "# Copyright(C) 2021 刘珅珅\n",
    "# Environment: python 3.7\n",
    "# Date: 2021.3.6\n",
    "# BST中第K小的元素：lintcode 902"
   ]
  },
  {
   "cell_type": "code",
   "execution_count": 10,
   "metadata": {},
   "outputs": [],
   "source": [
    "## 如果二叉查找树经常被修改，优化kthSmallest操作\n",
    "class Solution:\n",
    "    \"\"\"\n",
    "    @param root: the given BST\n",
    "    @param k: the given k\n",
    "    @return: the kth smallest element in BST\n",
    "    \"\"\"\n",
    "    def kthSmallest(self, root, k):\n",
    "        # write your code here\n",
    "        \n",
    "        number_of_nodes = {}\n",
    "        \n",
    "        ## 先统计树中每个结点为根结点的子树上的结点数，根据BST的特性，\n",
    "        ## 可以使用类似快速选择的方式来丢弃一部分结点，直接在另一部分结点中查找\n",
    "        ## 这样的的好处是如果多次查找，查找的时间复杂度为O(h)\n",
    "        self.counter_nodes(root, number_of_nodes)\n",
    "        return self.quick_seleck_on_tree(root, k, number_of_nodes)\n",
    "        \n",
    "          \n",
    "    ## 统计每个结点以它为根结点的树的结点个数，时间复杂度为O(n)\n",
    "    def counter_nodes(self, root, number_of_nodes):\n",
    "        if not root:\n",
    "            return 0\n",
    "        \n",
    "        left_number = self.counter_nodes(root.left, number_of_nodes)\n",
    "        right_number = self.counter_nodes(root.right, number_of_nodes)\n",
    "        number_of_nodes[root] = left_number + right_number + 1\n",
    "        return left_number + right_number + 1\n",
    "    \n",
    "    ## 类似于之前的快速选择\n",
    "    def quick_seleck_on_tree(self, root, k, number_of_nodes):\n",
    "        if not root:\n",
    "            return -1\n",
    "        \n",
    "        ## 左子树的结点有多少个\n",
    "        left = 0 if root.left == None else number_of_nodes[root.left]\n",
    "        if left >= k:\n",
    "            return self.quick_seleck_on_tree(root.left, k, number_of_nodes)\n",
    "        \n",
    "        if (left + 1) == k:\n",
    "            return root.val\n",
    "        \n",
    "        ## 在右子树上找刨除掉左子树的结点数left和1个根结点之后的第k - left - 1个值\n",
    "        return self.quick_seleck_on_tree(root.right, k - left - 1, number_of_nodes)\n",
    "            \n",
    "            \n",
    "        \n",
    "        "
   ]
  },
  {
   "cell_type": "code",
   "execution_count": null,
   "metadata": {},
   "outputs": [],
   "source": []
  }
 ],
 "metadata": {
  "kernelspec": {
   "display_name": "Python 3",
   "language": "python",
   "name": "python3"
  },
  "language_info": {
   "codemirror_mode": {
    "name": "ipython",
    "version": 3
   },
   "file_extension": ".py",
   "mimetype": "text/x-python",
   "name": "python",
   "nbconvert_exporter": "python",
   "pygments_lexer": "ipython3",
   "version": "3.7.1"
  }
 },
 "nbformat": 4,
 "nbformat_minor": 2
}
