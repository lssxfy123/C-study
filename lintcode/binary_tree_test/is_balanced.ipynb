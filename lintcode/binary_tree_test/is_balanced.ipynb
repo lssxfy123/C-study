{
 "cells": [
  {
   "cell_type": "code",
   "execution_count": 1,
   "metadata": {},
   "outputs": [],
   "source": [
    "# Copyright(C) 2021 刘珅珅\n",
    "# Environment: python 3.7\n",
    "# Date: 2021.3.25\n",
    "# 平衡二叉树：lintcode 93"
   ]
  },
  {
   "cell_type": "code",
   "execution_count": 10,
   "metadata": {},
   "outputs": [],
   "source": [
    "class Solution:\n",
    "    \"\"\"\n",
    "    @param root: The root of binary tree.\n",
    "    @return: True if this Binary tree is Balanced, or false.\n",
    "    \"\"\"\n",
    "    def isBalanced(self, root):\n",
    "        # write your code here\n",
    "        if not root:\n",
    "            return True\n",
    "        \n",
    "        is_balanced, _ = self.get_height_and_balanced(root)\n",
    "        return is_balanced\n",
    "\n",
    "\n",
    "    ## 返回高度和平衡性  \n",
    "    def get_height_and_balanced(self, root):\n",
    "        if not root:\n",
    "            return True, 0\n",
    "        \n",
    "        is_left_balanced, left_child_tree_height = self.get_height_and_balanced(root.left)\n",
    "        is_right_balanced, right_child_tree_height = self.get_height_and_balanced(root.right)\n",
    "        root_height = max(left_child_tree_height, right_child_tree_height) + 1\n",
    "        if not is_left_balanced or not is_right_balanced:\n",
    "            return False, root_height\n",
    "        \n",
    "        if abs(left_child_tree_height - right_child_tree_height) > 1:\n",
    "            return False, root_height\n",
    "        \n",
    "        return True, root_height\n"
   ]
  },
  {
   "cell_type": "code",
   "execution_count": null,
   "metadata": {},
   "outputs": [],
   "source": []
  }
 ],
 "metadata": {
  "kernelspec": {
   "display_name": "Python 3",
   "language": "python",
   "name": "python3"
  },
  "language_info": {
   "codemirror_mode": {
    "name": "ipython",
    "version": 3
   },
   "file_extension": ".py",
   "mimetype": "text/x-python",
   "name": "python",
   "nbconvert_exporter": "python",
   "pygments_lexer": "ipython3",
   "version": "3.7.1"
  }
 },
 "nbformat": 4,
 "nbformat_minor": 2
}
