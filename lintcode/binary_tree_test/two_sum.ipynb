{
 "cells": [
  {
   "cell_type": "code",
   "execution_count": 1,
   "metadata": {},
   "outputs": [],
   "source": [
    "# Copyright(C) 2021 刘珅珅\n",
    "# Environment: python 3.7\n",
    "# Date: 2021.3.28\n",
    "# 两数之和 - BST版本：lintcode 689"
   ]
  },
  {
   "cell_type": "markdown",
   "metadata": {},
   "source": [
    "## 不允许使用额外空间"
   ]
  },
  {
   "cell_type": "code",
   "execution_count": 1,
   "metadata": {},
   "outputs": [],
   "source": [
    "\"\"\"\n",
    "Definition of TreeNode:\n",
    "class TreeNode:\n",
    "    def __init__(self, val):\n",
    "        self.val = val\n",
    "        self.left, self.right = None, None\n",
    "\"\"\"\n",
    "\n",
    "class Solution:\n",
    "    \"\"\"\n",
    "    @param: : the root of tree\n",
    "    @param: : the target sum\n",
    "    @return: two numbers from tree which sum is n\n",
    "    \"\"\"\n",
    "\n",
    "    def twoSum(self, root, n):\n",
    "        # write your code here\n",
    "        if not root:\n",
    "            return None\n",
    "        \n",
    "        ## 采用双指针算法\n",
    "        begin = end = root\n",
    "        \n",
    "        ## BST最左边的元素是最小结点\n",
    "        while begin.left:\n",
    "            begin = begin.left\n",
    "        \n",
    "        ## BST最右边的元素是最大结点\n",
    "        while end.right:\n",
    "            end = end.right\n",
    "        \n",
    "        ## 双指针算法\n",
    "        while begin and end and begin is not end:\n",
    "            if begin.val + end.val == n:\n",
    "                return [begin.val, end.val]\n",
    "            elif begin.val + end.val < n:\n",
    "                ## begin向后移动\n",
    "                begin = self.next_node(root, begin)\n",
    "            else:\n",
    "                ## end向前移动\n",
    "                end = self.prev_node(root, end)\n",
    "        \n",
    "        return None\n",
    "    \n",
    "    ## 查找begin的下一个结点\n",
    "    def next_node(self, root, begin):\n",
    "        if not root or not begin:\n",
    "            return None\n",
    "        \n",
    "        ## 右子树上查找\n",
    "        if root.val <= begin.val:\n",
    "            return self.next_node(root.right, begin)\n",
    "            \n",
    "        ## 左子树上查找\n",
    "        left = self.next_node(root.left, begin)\n",
    "        return left if left else root\n",
    "    \n",
    "    ## 查找end的前一个结点\n",
    "    def prev_node(self, root, end):\n",
    "        if not root or not end:\n",
    "            return None\n",
    "        \n",
    "        ## 左子树上查找\n",
    "        if root.val >= end.val:\n",
    "            return self.prev_node(root.left, end)\n",
    "        \n",
    "        right = self.prev_node(root.right, end)\n",
    "        return right if right else root\n",
    "            \n",
    "            \n",
    "                   "
   ]
  },
  {
   "cell_type": "code",
   "execution_count": null,
   "metadata": {},
   "outputs": [],
   "source": []
  }
 ],
 "metadata": {
  "kernelspec": {
   "display_name": "Python 3",
   "language": "python",
   "name": "python3"
  },
  "language_info": {
   "codemirror_mode": {
    "name": "ipython",
    "version": 3
   },
   "file_extension": ".py",
   "mimetype": "text/x-python",
   "name": "python",
   "nbconvert_exporter": "python",
   "pygments_lexer": "ipython3",
   "version": "3.7.1"
  }
 },
 "nbformat": 4,
 "nbformat_minor": 2
}
