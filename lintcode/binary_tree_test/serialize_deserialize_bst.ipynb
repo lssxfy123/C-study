{
 "cells": [
  {
   "cell_type": "code",
   "execution_count": 1,
   "metadata": {},
   "outputs": [],
   "source": [
    "# Copyright(C) 2021 刘珅珅\n",
    "# Environment: python 3.7\n",
    "# Date: 2021.3.26\n",
    "# 序列化和反序列化二叉搜索树：lintcode 1235"
   ]
  },
  {
   "cell_type": "markdown",
   "metadata": {},
   "source": [
    "# BFS实现二叉树的序列化和反序列化\n",
    "### 序列化时，把二叉树分层遍历，结果写入字符串中\n",
    "### 反序列时，先构建出根结点，然后插入其左右孩子，再判断其左右孩子的子结点并对应插入，依次类推"
   ]
  },
  {
   "cell_type": "code",
   "execution_count": 2,
   "metadata": {},
   "outputs": [],
   "source": [
    "import collections\n",
    "\n",
    "class Solution:\n",
    "    def serialize(self, root):\n",
    "        if not root:\n",
    "            return \"{}\"\n",
    "        \n",
    "        queue = collections.deque([root])\n",
    "        results = [str(root.val)]\n",
    "        while queue:\n",
    "            node = queue.popleft()\n",
    "            if node.left:\n",
    "                results.append(str(node.left.val))\n",
    "                queue.append(node.left)\n",
    "            else:\n",
    "                results.append('#')\n",
    "            \n",
    "            if node.right:\n",
    "                results.append(str(node.right.val))\n",
    "                queue.append(node.right)\n",
    "            else:\n",
    "                results.append('#')\n",
    "        \n",
    "        while results and results[-1] == '#':\n",
    "            results.pop()\n",
    "        \n",
    "        return \"{\" + ','.join(results) + \"}\"\n",
    "        \n",
    "    def deserialize(self, data):\n",
    "        if data == '{}':\n",
    "            return None\n",
    "        \n",
    "        values = data[1:-1].split(',')\n",
    "        root = TreeNode(values[0])\n",
    "        queue = collections.deque([root])\n",
    "        is_left_child = True\n",
    "        for val in values[1:]:\n",
    "            if val != '#':\n",
    "                node = TreeNode(val)\n",
    "                if is_left_child:\n",
    "                    queue[0].left = node\n",
    "                else:\n",
    "                    queue[0].right = node\n",
    "                queue.append(node)\n",
    "            if not is_left_child:\n",
    "                queue.popleft()\n",
    "            \n",
    "            is_left_child = not is_left_child\n",
    "        \n",
    "        return root\n",
    "            "
   ]
  },
  {
   "cell_type": "code",
   "execution_count": 7,
   "metadata": {},
   "outputs": [
    {
     "data": {
      "text/plain": [
       "[' 1', '2', '#', '4']"
      ]
     },
     "execution_count": 7,
     "metadata": {},
     "output_type": "execute_result"
    }
   ],
   "source": [
    "solution = Solution()\n"
   ]
  },
  {
   "cell_type": "code",
   "execution_count": null,
   "metadata": {},
   "outputs": [],
   "source": []
  }
 ],
 "metadata": {
  "kernelspec": {
   "display_name": "Python 3",
   "language": "python",
   "name": "python3"
  },
  "language_info": {
   "codemirror_mode": {
    "name": "ipython",
    "version": 3
   },
   "file_extension": ".py",
   "mimetype": "text/x-python",
   "name": "python",
   "nbconvert_exporter": "python",
   "pygments_lexer": "ipython3",
   "version": "3.7.1"
  }
 },
 "nbformat": 4,
 "nbformat_minor": 2
}
