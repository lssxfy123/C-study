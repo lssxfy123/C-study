{
 "cells": [
  {
   "cell_type": "code",
   "execution_count": 1,
   "metadata": {},
   "outputs": [],
   "source": [
    "# Copyright(C) 2021 刘珅珅\n",
    "# Environment: python 3.7\n",
    "# Date: 2021.3.26\n",
    "# 二叉树的序列化和反序列化：lintcode 7"
   ]
  },
  {
   "cell_type": "markdown",
   "metadata": {},
   "source": [
    "# BFS实现二叉树的序列化和反序列化\n",
    "### 序列化时，把二叉树分层遍历，结果写入字符串中\n",
    "### 反序列时，先构建出根结点，然后插入其左右孩子，再判断其左右孩子的子结点并对应插入，依次类推"
   ]
  },
  {
   "cell_type": "code",
   "execution_count": 12,
   "metadata": {},
   "outputs": [],
   "source": [
    "class Solution:\n",
    "    \"\"\"\n",
    "    @param root: An object of TreeNode, denote the root of the binary tree.\n",
    "    This method will be invoked first, you should design your own algorithm \n",
    "    to serialize a binary tree which denote by a root node to a string which\n",
    "    can be easily deserialized by your own \"deserialize\" method later.\n",
    "    \"\"\"\n",
    "    def serialize(self, root):\n",
    "        # write your code here\n",
    "        if not root:\n",
    "            return \"{}\"\n",
    "        \n",
    "        ## 不同于之前的BFS模板，queue中的值不能弹出，因为需要用其进行构建序列化的字符串\n",
    "        ## 用index来计算层数\n",
    "        queue = [root]\n",
    "        index = 0\n",
    "        while index < len(queue):\n",
    "            if queue[index]:\n",
    "                queue.append(queue[index].left)\n",
    "                queue.append(queue[index].right)\n",
    "            index += 1\n",
    "        \n",
    "        ## 去除末尾的空结点\n",
    "        while queue[-1] is None:\n",
    "            queue.pop()\n",
    "        \n",
    "        result = ','.join([str(node.val) if node else '#' for node in queue])\n",
    "        return '{' + result + '}'\n",
    "            \n",
    "\n",
    "    \"\"\"\n",
    "    @param data: A string serialized by your serialize method.\n",
    "    This method will be invoked second, the argument data is what exactly\n",
    "    you serialized at method \"serialize\", that means the data is not given by\n",
    "    system, it's given by your own serialize method. So the format of data is\n",
    "    designed by yourself, and deserialize it here as you serialize it in \n",
    "    \"serialize\" method.\n",
    "    \"\"\"\n",
    "    def deserialize(self, data):\n",
    "        # write your code here\n",
    "        data = data.strip('\\n')\n",
    "        if data == '{}':\n",
    "            return None\n",
    "        \n",
    "        length = len(data)\n",
    "        ## 第2个字符到倒数第二个字符是有效的\n",
    "        values = data[1:length - 1].split(',')\n",
    "        \n",
    "        ## 序列化时，把根结点放在第1个位置\n",
    "        root = TreeNode(values[0])\n",
    "        queue = [root]\n",
    "        index = 0\n",
    "        is_left_child = True\n",
    "        \n",
    "        ## val是当前结点的值，index指向需要判断左右孩子的结点\n",
    "        ## val结点如果不为'#'，默认是index结点的左孩子，它的下一个结点\n",
    "        ## 就是右孩子，所以is_left_child每次循环都会修改成相反的值，当\n",
    "        ## is_left_child为false时，就表示index结点的左右孩子都已插入完毕\n",
    "        ## 这时就把index加1\n",
    "        for val in values[1:]:\n",
    "            if val is not '#':\n",
    "                node = TreeNode(val)\n",
    "                if is_left_child:\n",
    "                    queue[index].left = node\n",
    "                else:\n",
    "                    queue[index].right = node\n",
    "                queue.append(node)\n",
    "            if not is_left_child:\n",
    "                index += 1\n",
    "            is_left_child = not is_left_child\n",
    "        \n",
    "        return root\n",
    "    \n",
    "            "
   ]
  },
  {
   "cell_type": "code",
   "execution_count": 7,
   "metadata": {},
   "outputs": [
    {
     "data": {
      "text/plain": [
       "[' 1', '2', '#', '4']"
      ]
     },
     "execution_count": 7,
     "metadata": {},
     "output_type": "execute_result"
    }
   ],
   "source": [
    "\" 1,2,#,4\".split(\",\")"
   ]
  },
  {
   "cell_type": "code",
   "execution_count": null,
   "metadata": {},
   "outputs": [],
   "source": []
  }
 ],
 "metadata": {
  "kernelspec": {
   "display_name": "Python 3",
   "language": "python",
   "name": "python3"
  },
  "language_info": {
   "codemirror_mode": {
    "name": "ipython",
    "version": 3
   },
   "file_extension": ".py",
   "mimetype": "text/x-python",
   "name": "python",
   "nbconvert_exporter": "python",
   "pygments_lexer": "ipython3",
   "version": "3.7.1"
  }
 },
 "nbformat": 4,
 "nbformat_minor": 2
}
