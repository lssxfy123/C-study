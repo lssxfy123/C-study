{
 "cells": [
  {
   "cell_type": "code",
   "execution_count": 1,
   "metadata": {},
   "outputs": [],
   "source": [
    "# Copyright(C) 2021 刘珅珅\n",
    "# Environment: python 3.7\n",
    "# Date: 2021.3.6\n",
    "# 最近公共祖先 III：lintcode 578"
   ]
  },
  {
   "cell_type": "code",
   "execution_count": 10,
   "metadata": {},
   "outputs": [],
   "source": [
    "## 两个结点不一定在树上\n",
    "class Solution:\n",
    "    \"\"\"\n",
    "    @param: root: The root of the binary tree.\n",
    "    @param: A: A TreeNode\n",
    "    @param: B: A TreeNode\n",
    "    @return: Return the LCA of the two nodes.\n",
    "    \"\"\"\n",
    "    def lowestCommonAncestor3(self, root, A, B):\n",
    "        # write your code here\n",
    "        a, b, lca = self.helper(root, A, B)\n",
    "        if a and b:\n",
    "            return lca\n",
    "        return None\n",
    "        \n",
    "    \n",
    "    ## 如果无法保证A和B在树中，就必须在返回值中包含A和B是否在树上的信息\n",
    "    ## 第1个返回值表示A是否在root为根结点的树中，第2个返回值表示B是否在以root\n",
    "    ## 为根结点的树中，第3个返回值是LCA\n",
    "    def helper(self, root, A, B):\n",
    "        if not root:\n",
    "            return False, False, None\n",
    "        \n",
    "        left_A, left_B, left_node = self.helper(root.left, A, B)\n",
    "        right_A, right_B, right_node = self.helper(root.right, A, B)\n",
    "        \n",
    "        ## A是否在root为根结点的树上\n",
    "        root_A = left_A or right_A or root == A\n",
    "        \n",
    "        ## B是否在root为根结点的树上\n",
    "        root_B = left_B or right_B or root == B\n",
    "        \n",
    "        ## 和之前的lintcode 88 相比，需要记录下A和B是否在以root为根结点的子树上\n",
    "        if root == A or root == B:\n",
    "            return root_A, root_B, root\n",
    "        \n",
    "        if left_node and right_node:\n",
    "            return root_A, root_B, root\n",
    "        \n",
    "        if left_node:\n",
    "            return root_A, root_B, left_node\n",
    "        if right_node:\n",
    "            return root_A, root_B, right_node\n",
    "        \n",
    "        return False, False, None\n",
    "        \n",
    "        "
   ]
  },
  {
   "cell_type": "code",
   "execution_count": null,
   "metadata": {},
   "outputs": [],
   "source": []
  }
 ],
 "metadata": {
  "kernelspec": {
   "display_name": "Python 3",
   "language": "python",
   "name": "python3"
  },
  "language_info": {
   "codemirror_mode": {
    "name": "ipython",
    "version": 3
   },
   "file_extension": ".py",
   "mimetype": "text/x-python",
   "name": "python",
   "nbconvert_exporter": "python",
   "pygments_lexer": "ipython3",
   "version": "3.7.1"
  }
 },
 "nbformat": 4,
 "nbformat_minor": 2
}
