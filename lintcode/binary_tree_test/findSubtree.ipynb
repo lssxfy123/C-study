{
 "cells": [
  {
   "cell_type": "code",
   "execution_count": 1,
   "metadata": {},
   "outputs": [],
   "source": [
    "# Copyright(C) 2021 刘珅珅\n",
    "# Environment: python 3.7\n",
    "# Date: 2021.3.6\n",
    "# 最小子树：lintcode 596"
   ]
  },
  {
   "cell_type": "code",
   "execution_count": 1,
   "metadata": {},
   "outputs": [],
   "source": [
    "## 使用全局变量-分治法\n",
    "class Solution:\n",
    "    \"\"\"\n",
    "    @param root: the root of binary tree\n",
    "    @return: the root of the minimum subtree\n",
    "    \"\"\"\n",
    "    def findSubtree(self, root):\n",
    "        # write your code here\n",
    "        self.minimum_sum = float('inf')\n",
    "        self.minimum_subtree_root = None\n",
    "        self.get_tree_sum(root)\n",
    "        \n",
    "        return self.minimum_subtree_root\n",
    "        \n",
    "    \n",
    "    ## 递归的定义，就是get_tree_sum函数\n",
    "    def get_tree_sum(self, root):\n",
    "        if not root:  ## 递归的出口\n",
    "            return 0\n",
    "        \n",
    "        ## 递归的拆解\n",
    "        left_sum = self.get_tree_sum(root.left)\n",
    "        right_sum = self.get_tree_sum(root.right)\n",
    "        root_sum = left_sum + root.val + right_sum\n",
    "        \n",
    "        ## 与求子树最大和不太一样，因为定义了类的变量，所以这里只需要比较root_sum\n",
    "        if root_sum < self.minimum_sum:\n",
    "            self.minimum_sum = root_sum\n",
    "            self.minimum_subtree_root = root\n",
    "        \n",
    "        return root_sum\n",
    "    \n",
    "\n",
    "        \n",
    "        "
   ]
  },
  {
   "cell_type": "code",
   "execution_count": 3,
   "metadata": {},
   "outputs": [],
   "source": [
    "## 不使用全局变量-分治法\n",
    "class Solution:\n",
    "    \"\"\"\n",
    "    @param root: the root of binary tree\n",
    "    @return: the root of the minimum subtree\n",
    "    \"\"\"\n",
    "    def findSubtree(self, root):\n",
    "        # write your code here\n",
    "        root_sum, root_mini_sum, subtree_root = self.get_tree_sum(root)\n",
    "        return subtree_root\n",
    "        \n",
    "    \n",
    "    ## 递归的定义，就是get_tree_sum函数\n",
    "    def get_tree_sum(self, root):\n",
    "        if not root:  ## 递归的出口\n",
    "            return 0, sys.maxsize, None\n",
    "        \n",
    "        ## 递归的拆解\n",
    "        left_sum, left_mini_sum, left_root = self.get_tree_sum(root.left)\n",
    "        right_sum, right_mini_sum, right_root  = self.get_tree_sum(root.right)\n",
    "        root_sum = root.val + left_sum + right_sum\n",
    "  \n",
    "        min_sum = min(left_mini_sum, root_sum, right_mini_sum)\n",
    "        if min_sum == left_mini_sum:\n",
    "            return root_sum, left_mini_sum, left_root\n",
    "        if min_sum == right_mini_sum:\n",
    "            return root_sum, right_mini_sum, right_root\n",
    "        \n",
    "        return root_sum, root_sum, root"
   ]
  },
  {
   "cell_type": "code",
   "execution_count": null,
   "metadata": {},
   "outputs": [],
   "source": []
  }
 ],
 "metadata": {
  "kernelspec": {
   "display_name": "Python 3",
   "language": "python",
   "name": "python3"
  },
  "language_info": {
   "codemirror_mode": {
    "name": "ipython",
    "version": 3
   },
   "file_extension": ".py",
   "mimetype": "text/x-python",
   "name": "python",
   "nbconvert_exporter": "python",
   "pygments_lexer": "ipython3",
   "version": "3.7.1"
  }
 },
 "nbformat": 4,
 "nbformat_minor": 2
}
