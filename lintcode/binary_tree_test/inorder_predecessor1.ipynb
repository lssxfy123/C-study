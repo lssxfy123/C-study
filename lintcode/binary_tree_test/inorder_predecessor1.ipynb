{
 "cells": [
  {
   "cell_type": "code",
   "execution_count": 1,
   "metadata": {},
   "outputs": [],
   "source": [
    "# Copyright(C) 2021 刘珅珅\n",
    "# Environment: python 3.7\n",
    "# Date: 2021.4.5\n",
    "# BST的中序前驱节点：lintcode 915"
   ]
  },
  {
   "cell_type": "code",
   "execution_count": 2,
   "metadata": {},
   "outputs": [],
   "source": [
    "class TreeNode:\n",
    "    def __init__(self, val):\n",
    "        self.val = val\n",
    "        self.left, self.right = None, None"
   ]
  },
  {
   "cell_type": "code",
   "execution_count": 2,
   "metadata": {},
   "outputs": [],
   "source": [
    "class Solution:\n",
    "    \"\"\"\n",
    "    @param root: the given BST\n",
    "    @param p: the given node\n",
    "    @return: the in-order predecessor of the given node in the BST\n",
    "    \"\"\"\n",
    "    def inorderPredecessor(self, root, p):\n",
    "        # write your code here\n",
    "        if not root:\n",
    "            return None\n",
    "        prev = None\n",
    "        while root:\n",
    "            ## root结点与p进行比较，如果大于等于p，就往左走，此时的root肯定不是p的中序前驱结点\n",
    "            ## 如果root<p，则记录下root并往右走，最后一次往右走所记录的prev就是p的中序前驱结点\n",
    "            ## 它表示比p小的最后一个值\n",
    "            if root.val >= p.val:\n",
    "                root = root.left\n",
    "            else:\n",
    "                prev = root\n",
    "                root = root.right\n",
    "        return prev\n",
    "   "
   ]
  },
  {
   "cell_type": "code",
   "execution_count": null,
   "metadata": {},
   "outputs": [],
   "source": []
  }
 ],
 "metadata": {
  "kernelspec": {
   "display_name": "Python 3",
   "language": "python",
   "name": "python3"
  },
  "language_info": {
   "codemirror_mode": {
    "name": "ipython",
    "version": 3
   },
   "file_extension": ".py",
   "mimetype": "text/x-python",
   "name": "python",
   "nbconvert_exporter": "python",
   "pygments_lexer": "ipython3",
   "version": "3.7.1"
  }
 },
 "nbformat": 4,
 "nbformat_minor": 2
}
