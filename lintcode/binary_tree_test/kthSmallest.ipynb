{
 "cells": [
  {
   "cell_type": "code",
   "execution_count": 1,
   "metadata": {},
   "outputs": [],
   "source": [
    "# Copyright(C) 2021 刘珅珅\n",
    "# Environment: python 3.7\n",
    "# Date: 2021.3.6\n",
    "# BST中第K小的元素：lintcode 902"
   ]
  },
  {
   "cell_type": "code",
   "execution_count": 10,
   "metadata": {},
   "outputs": [],
   "source": [
    "class Solution:\n",
    "    \"\"\"\n",
    "    @param root: the given BST\n",
    "    @param k: the given k\n",
    "    @return: the kth smallest element in BST\n",
    "    \"\"\"\n",
    "    def kthSmallest(self, root, k):\n",
    "        # write your code here\n",
    "        \n",
    "        ## 根据BST的特性，第k小的元素就是BST中序遍历走了k步所找的元素\n",
    "        ## BST的中序遍历可以参考lintcode 86\n",
    "        stack = []\n",
    "        while root:\n",
    "            stack.append(root)\n",
    "            root = root.left\n",
    "        \n",
    "        ## 要注意是k - 1，题目要求是第k小元素\n",
    "        for i in range(k - 1):\n",
    "            node = stack[-1]\n",
    "            if node.right:\n",
    "                node = node.right\n",
    "                while node:\n",
    "                    stack.append(node)\n",
    "                    node = node.left\n",
    "            else:\n",
    "                tmp = stack.pop()\n",
    "                while stack and stack[-1].right == tmp:\n",
    "                    tmp = stack.pop()\n",
    "                \n",
    "        return stack[-1].val\n",
    "            \n",
    "        \n",
    "        "
   ]
  },
  {
   "cell_type": "code",
   "execution_count": null,
   "metadata": {},
   "outputs": [],
   "source": []
  }
 ],
 "metadata": {
  "kernelspec": {
   "display_name": "Python 3",
   "language": "python",
   "name": "python3"
  },
  "language_info": {
   "codemirror_mode": {
    "name": "ipython",
    "version": 3
   },
   "file_extension": ".py",
   "mimetype": "text/x-python",
   "name": "python",
   "nbconvert_exporter": "python",
   "pygments_lexer": "ipython3",
   "version": "3.7.1"
  }
 },
 "nbformat": 4,
 "nbformat_minor": 2
}
