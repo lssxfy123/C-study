{
 "cells": [
  {
   "cell_type": "code",
   "execution_count": 1,
   "metadata": {},
   "outputs": [],
   "source": [
    "# Copyright(C) 2021 刘珅珅\n",
    "# Environment: python 3.7\n",
    "# Date: 2021.6.20\n",
    "# 二叉树中所有距离为 K 的结点：lintcode 1506"
   ]
  },
  {
   "cell_type": "code",
   "execution_count": 1,
   "metadata": {},
   "outputs": [],
   "source": [
    "class TreeNode:\n",
    "    def __init__(self, val):\n",
    "        self.val = val\n",
    "        self.left, self.right = None, None"
   ]
  },
  {
   "cell_type": "code",
   "execution_count": 6,
   "metadata": {},
   "outputs": [],
   "source": [
    "import collections\n",
    "\n",
    "class Solution:\n",
    "    \"\"\"\n",
    "    @param root: the root of the tree\n",
    "    @param target: the target\n",
    "    @param K: the given K\n",
    "    @return: All Nodes Distance K in Binary Tree\n",
    "    \"\"\"\n",
    "    def distanceK(self, root, target, K):\n",
    "        # Write your code here\n",
    "        parents = {}\n",
    "        self.build_parents(root, parents)\n",
    "        \n",
    "        queue = collections.deque([target])\n",
    "        visited = set([target])\n",
    "        distance = 0\n",
    "        \n",
    "        while queue:\n",
    "            if distance == K:\n",
    "                break\n",
    "            ## 类似于层序遍历\n",
    "            for _ in range(len(queue)):\n",
    "                node = queue.popleft()\n",
    "                if node.left and node.left not in visited:\n",
    "                    queue.append(node.left)\n",
    "                    visited.add(node.left)\n",
    "                \n",
    "                if node.right and node.right not in visited:\n",
    "                    queue.append(node.right)\n",
    "                    visited.add(node.right)\n",
    "                \n",
    "                if node in parents and parents[node] not in visited:\n",
    "                    queue.append(parents[node])\n",
    "                    visited.add(parents[node])\n",
    "            \n",
    "            distance += 1\n",
    "        \n",
    "        return [node.val for node in queue]\n",
    "\n",
    "    \n",
    "    ## 建立父子关系\n",
    "    def build_parents(self, root, parents):\n",
    "        if not root:\n",
    "            return None\n",
    "        \n",
    "        if root.left:\n",
    "            parents[root.left] = root\n",
    "            self.build_parents(root.left, parents)\n",
    "        \n",
    "        if root.right:\n",
    "            parents[root.right] = root\n",
    "            self.build_parents(root.right, parents)"
   ]
  },
  {
   "cell_type": "code",
   "execution_count": null,
   "metadata": {},
   "outputs": [],
   "source": []
  }
 ],
 "metadata": {
  "kernelspec": {
   "display_name": "Python 3",
   "language": "python",
   "name": "python3"
  },
  "language_info": {
   "codemirror_mode": {
    "name": "ipython",
    "version": 3
   },
   "file_extension": ".py",
   "mimetype": "text/x-python",
   "name": "python",
   "nbconvert_exporter": "python",
   "pygments_lexer": "ipython3",
   "version": "3.7.1"
  }
 },
 "nbformat": 4,
 "nbformat_minor": 2
}
