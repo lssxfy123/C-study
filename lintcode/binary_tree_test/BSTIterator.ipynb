{
 "cells": [
  {
   "cell_type": "code",
   "execution_count": 1,
   "metadata": {},
   "outputs": [],
   "source": [
    "# Copyright(C) 2021 刘珅珅\n",
    "# Environment: python 3.7\n",
    "# Date: 2021.3.6\n",
    "# 二叉查找树迭代器：lintcode 86"
   ]
  },
  {
   "cell_type": "code",
   "execution_count": 10,
   "metadata": {},
   "outputs": [],
   "source": [
    "class BSTIterator:\n",
    "    \"\"\"\n",
    "    @param: root: The root of binary tree.\n",
    "    \"\"\"\n",
    "    def __init__(self, root):\n",
    "        # do intialization if necessary\n",
    "        self.stack = []\n",
    "        \n",
    "        ## 将根结点及其左孩子入队\n",
    "        ## 队列中存储的就是从root到其最小的左子树以及沿途的所有结点\n",
    "        ## 队尾元素就是最小的左子树\n",
    "        while root:\n",
    "            self.stack.append(root)\n",
    "            root = root.left\n",
    "\n",
    "    \"\"\"\n",
    "    @return: True if there has next node, or false\n",
    "    \"\"\"\n",
    "    def hasNext(self):\n",
    "        # write your code here\n",
    "        return len(self.stack) > 0\n",
    "\n",
    "    \"\"\"\n",
    "    @return: return next node\n",
    "    \"\"\"\n",
    "    def _next(self):\n",
    "        # write your code here\n",
    "        ## 最小的左子树\n",
    "        node = self.stack[-1]\n",
    "        if node.right:\n",
    "            ## 如果其有右子树，则其右子树按照之前的规则入栈\n",
    "            ## 将右孩子及其右子树最小的左子树结点以及沿途结点都入栈\n",
    "            ## 注意：此时的node并未出栈，原因是栈中需要存储node的下一个结点\n",
    "            ## 它的下一个结点一定在右子树中。这时node结点也会作为返回值返回，但它仍然在栈中\n",
    "            ## 需要在后序的遍历中将其删除掉\n",
    "            right_node = node.right\n",
    "            while right_node:\n",
    "                self.stack.append(right_node)\n",
    "                right_node = right_node.left\n",
    "        else:\n",
    "            ## 如果没有右子树\n",
    "            tmp = self.stack.pop()  ## 弹出node\n",
    "            ## 如果栈中顶部的元素的右子树是tmp，则需要将其弹出栈中，因为这个栈顶元素就是之前已经返回但仍然留在栈中的元素\n",
    "            ## 只有它才会因为就有右子树，所以之前会将右子树从右孩子到其最小左子树压入栈中\n",
    "            ## 其实也可以将下面的while循环屏蔽掉，在上面的if中添加一个self.stack.pop()\n",
    "            ## 但不建议这么做，因为将根结点到其最小左子树的元素压栈中，在其他问题中可能会用到这些元素\n",
    "            while self.stack and self.stack[-1].right == tmp:\n",
    "                tmp = self.stack.pop()\n",
    "        \n",
    "        return node\n",
    "        \n",
    "        "
   ]
  },
  {
   "cell_type": "code",
   "execution_count": 1,
   "metadata": {},
   "outputs": [
    {
     "name": "stdout",
     "output_type": "stream",
     "text": [
      "3\n",
      "3\n"
     ]
    }
   ],
   "source": [
    "stack = [1, 2, 3]\n",
    "node = stack[-1]\n",
    "print(node)\n",
    "stack.pop()\n",
    "print(node)"
   ]
  },
  {
   "cell_type": "code",
   "execution_count": null,
   "metadata": {},
   "outputs": [],
   "source": []
  }
 ],
 "metadata": {
  "kernelspec": {
   "display_name": "Python 3",
   "language": "python",
   "name": "python3"
  },
  "language_info": {
   "codemirror_mode": {
    "name": "ipython",
    "version": 3
   },
   "file_extension": ".py",
   "mimetype": "text/x-python",
   "name": "python",
   "nbconvert_exporter": "python",
   "pygments_lexer": "ipython3",
   "version": "3.7.1"
  }
 },
 "nbformat": 4,
 "nbformat_minor": 2
}
