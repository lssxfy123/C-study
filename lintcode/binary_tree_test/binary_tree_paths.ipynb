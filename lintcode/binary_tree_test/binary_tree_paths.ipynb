{
 "cells": [
  {
   "cell_type": "code",
   "execution_count": 1,
   "metadata": {},
   "outputs": [],
   "source": [
    "# Copyright(C) 2021 刘珅珅\n",
    "# Environment: python 3.7\n",
    "# Date: 2021.3.30\n",
    "# 二叉树的所有路径：lintcode 480"
   ]
  },
  {
   "cell_type": "code",
   "execution_count": 10,
   "metadata": {},
   "outputs": [],
   "source": [
    "class Solution:\n",
    "    \"\"\"\n",
    "    @param root: the root of the binary tree\n",
    "    @return: all root-to-leaf paths\n",
    "    \"\"\"\n",
    "    def binaryTreePaths(self, root):\n",
    "        # write your code here\n",
    "        paths = []\n",
    "        if not root:\n",
    "            return paths\n",
    "        if not root.left and not root.right:\n",
    "            return [str(root.val)]\n",
    "        \n",
    "        ## 分治法，左子树\n",
    "        for path in self.binaryTreePaths(root.left):\n",
    "            paths.append(str(root.val) + \"->\" + path)\n",
    "        \n",
    "        for path in self.binaryTreePaths(root.right):\n",
    "            paths.append(str(root.val) + \"->\" + path)\n",
    "        \n",
    "        return paths\n",
    "            \n",
    "        "
   ]
  },
  {
   "cell_type": "code",
   "execution_count": null,
   "metadata": {},
   "outputs": [],
   "source": []
  }
 ],
 "metadata": {
  "kernelspec": {
   "display_name": "Python 3",
   "language": "python",
   "name": "python3"
  },
  "language_info": {
   "codemirror_mode": {
    "name": "ipython",
    "version": 3
   },
   "file_extension": ".py",
   "mimetype": "text/x-python",
   "name": "python",
   "nbconvert_exporter": "python",
   "pygments_lexer": "ipython3",
   "version": "3.7.1"
  }
 },
 "nbformat": 4,
 "nbformat_minor": 2
}
