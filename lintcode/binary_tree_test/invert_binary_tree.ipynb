{
 "cells": [
  {
   "cell_type": "code",
   "execution_count": 1,
   "metadata": {},
   "outputs": [],
   "source": [
    "# Copyright(C) 2021 刘珅珅\n",
    "# Environment: python 3.7\n",
    "# Date: 2021.4.20\n",
    "# 翻转二叉树：lintcode 175"
   ]
  },
  {
   "cell_type": "code",
   "execution_count": 10,
   "metadata": {},
   "outputs": [],
   "source": [
    "class Solution:\n",
    "    \"\"\"\n",
    "    @param root: a TreeNode, the root of the binary tree\n",
    "    @return: nothing\n",
    "    \"\"\"\n",
    "    def invertBinaryTree(self, root):\n",
    "        # write your code here\n",
    "        self.divide_conque(root)\n",
    "        \n",
    "    def divide_conque(self, root):\n",
    "        if not root:\n",
    "            return\n",
    "        tmp = root.left\n",
    "        root.left = root.right\n",
    "        root.right = tmp\n",
    "        self.divide_conque(root.left)\n",
    "        self.divide_conque(root.right)"
   ]
  },
  {
   "cell_type": "code",
   "execution_count": null,
   "metadata": {},
   "outputs": [],
   "source": []
  }
 ],
 "metadata": {
  "kernelspec": {
   "display_name": "Python 3",
   "language": "python",
   "name": "python3"
  },
  "language_info": {
   "codemirror_mode": {
    "name": "ipython",
    "version": 3
   },
   "file_extension": ".py",
   "mimetype": "text/x-python",
   "name": "python",
   "nbconvert_exporter": "python",
   "pygments_lexer": "ipython3",
   "version": "3.7.1"
  }
 },
 "nbformat": 4,
 "nbformat_minor": 2
}
