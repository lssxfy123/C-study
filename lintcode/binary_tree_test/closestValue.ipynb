{
 "cells": [
  {
   "cell_type": "code",
   "execution_count": 1,
   "metadata": {},
   "outputs": [],
   "source": [
    "# Copyright(C) 2021 刘珅珅\n",
    "# Environment: python 3.7\n",
    "# Date: 2021.3.6\n",
    "# 二叉搜索树中最接近的值：lintcode 900"
   ]
  },
  {
   "cell_type": "code",
   "execution_count": 10,
   "metadata": {},
   "outputs": [],
   "source": [
    "## 递归版\n",
    "class Solution:\n",
    "    \"\"\"\n",
    "    @param root: the given BST\n",
    "    @param target: the given target\n",
    "    @return: the value in the BST that is closest to the target\n",
    "    \"\"\"\n",
    "    def closestValue(self, root, target):\n",
    "        # write your code here\n",
    "        if not root:\n",
    "            return None\n",
    "        \n",
    "        ## 分别找上下边界\n",
    "        lower = self.get_lower_bound(self, root, target)\n",
    "        upper = self.get_upper_bound(self, root, target)\n",
    "        \n",
    "        if not lower:\n",
    "            return upper.val\n",
    "        \n",
    "        if not upper:\n",
    "            return lower.val\n",
    "        \n",
    "        if target - lower.val < upper.val - target:\n",
    "            return lower.val\n",
    "        return upper.val\n",
    "    \n",
    "    def get_lower_bound(self, root, target):\n",
    "        if not root:\n",
    "            return None\n",
    "        \n",
    "        if target < root.val:\n",
    "            return self.get_lower_bound(root.left, target)\n",
    "        \n",
    "        ## target大于等于root.val，在root右子树上找下边界\n",
    "        lower = self.get_lower_bound(root.right, target)\n",
    "        return lower if lower is not None else root\n",
    "    \n",
    "    def get_upper_bound(self, root, target):\n",
    "        if not root:\n",
    "            return None\n",
    "        \n",
    "        if target >= root.val:\n",
    "            return self.get_upper_bound(root.right, target)\n",
    "        \n",
    "        ## target小于root.val\n",
    "        upper = self.get_upper_bound(root.left, target)\n",
    "        \n",
    "        return upper if upper is not None else root\n",
    "\n"
   ]
  },
  {
   "cell_type": "code",
   "execution_count": null,
   "metadata": {},
   "outputs": [],
   "source": [
    "## 非递归版\n",
    "class Solution:\n",
    "    \"\"\"\n",
    "    @param root: the given BST\n",
    "    @param target: the given target\n",
    "    @return: the value in the BST that is closest to the target\n",
    "    \"\"\"\n",
    "    def closestValue(self, root, target):\n",
    "        # write your code here\n",
    "        closet = root.val\n",
    "        while root:\n",
    "            ## 更新最接近的值\n",
    "            if abs(closet - target) >= abs(root.val - target):\n",
    "                closet = root.val\n",
    "            \n",
    "            ## 遍历的规则是如果target小于当前节点的值，就一直向左子树遍历\n",
    "            ## 直到找到一个比target小的值，如果不存在root为None，跳出while循环\n",
    "            ## 如果存在，则在root的右子树上进行遍历，要找的目标值肯定在右子树中\n",
    "            ## 因为以root为左孩子的结点的值肯定比root和其右子树的值都要大，这是二叉搜索树的特点\n",
    "            ## 继续在root的右子树上查找，直到root为None\n",
    "            root = root.left if target < root.val else root.right\n",
    "        \n",
    "        return closet"
   ]
  }
 ],
 "metadata": {
  "kernelspec": {
   "display_name": "Python 3",
   "language": "python",
   "name": "python3"
  },
  "language_info": {
   "codemirror_mode": {
    "name": "ipython",
    "version": 3
   },
   "file_extension": ".py",
   "mimetype": "text/x-python",
   "name": "python",
   "nbconvert_exporter": "python",
   "pygments_lexer": "ipython3",
   "version": "3.7.1"
  }
 },
 "nbformat": 4,
 "nbformat_minor": 2
}
