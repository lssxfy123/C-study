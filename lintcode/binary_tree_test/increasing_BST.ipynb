{
 "cells": [
  {
   "cell_type": "code",
   "execution_count": 1,
   "metadata": {},
   "outputs": [],
   "source": [
    "# Copyright(C) 2021 刘珅珅\n",
    "# Environment: python 3.7\n",
    "# Date: 2021.6.17\n",
    "# 递增顺序查找树：lintcode 1744"
   ]
  },
  {
   "cell_type": "code",
   "execution_count": 1,
   "metadata": {},
   "outputs": [],
   "source": [
    "class TreeNode:\n",
    "    def __init__(self, val):\n",
    "        self.val = val\n",
    "        self.left, self.right = None, None"
   ]
  },
  {
   "cell_type": "code",
   "execution_count": 4,
   "metadata": {},
   "outputs": [],
   "source": [
    "class Solution:\n",
    "    \"\"\"\n",
    "    @param root: a binary search tree\n",
    "    @return: Root of a tree\n",
    "    \"\"\"\n",
    "    def increasingBST(self, root):\n",
    "        # Write your code here.\n",
    "        if not root:\n",
    "            return root\n",
    "        stack = []\n",
    "        while root:\n",
    "            stack.append(root)\n",
    "            root = root.left\n",
    "        \n",
    "        dummy = TreeNode(0)\n",
    "        tail = dummy\n",
    "        \"\"\"\n",
    "        这里的中序遍历和二叉树实现中的中序遍历不太一致，主要是为了方便生成新的树\n",
    "        因为node结点必须从栈中弹出后，才能添加到新树中，之前的中序遍历会出现结点访问过但不弹出的情况\n",
    "        \"\"\"\n",
    "        while stack:\n",
    "            node = stack.pop()\n",
    "            if not dummy.right:\n",
    "                dummy.right = node\n",
    "                \n",
    "            if node.right:\n",
    "                root = node.right\n",
    "                while root:\n",
    "                    stack.append(root)\n",
    "                    root = root.left\n",
    "            node.left = node.right = None\n",
    "            tail.right = node\n",
    "            tail = node\n",
    "            \n",
    "        return dummy.right\n",
    "                \n",
    "\n",
    "        \n",
    "                \n",
    "\n",
    "\n",
    "\n",
    "        "
   ]
  },
  {
   "cell_type": "code",
   "execution_count": null,
   "metadata": {},
   "outputs": [],
   "source": []
  }
 ],
 "metadata": {
  "kernelspec": {
   "display_name": "Python 3",
   "language": "python",
   "name": "python3"
  },
  "language_info": {
   "codemirror_mode": {
    "name": "ipython",
    "version": 3
   },
   "file_extension": ".py",
   "mimetype": "text/x-python",
   "name": "python",
   "nbconvert_exporter": "python",
   "pygments_lexer": "ipython3",
   "version": "3.7.1"
  }
 },
 "nbformat": 4,
 "nbformat_minor": 2
}
