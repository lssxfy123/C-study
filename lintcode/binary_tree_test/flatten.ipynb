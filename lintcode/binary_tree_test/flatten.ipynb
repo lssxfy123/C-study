{
 "cells": [
  {
   "cell_type": "code",
   "execution_count": 1,
   "metadata": {},
   "outputs": [],
   "source": [
    "# Copyright(C) 2021 刘珅珅\n",
    "# Environment: python 3.7\n",
    "# Date: 2021.3.6\n",
    "# 最将二叉树拆成链表：lintcode 453"
   ]
  },
  {
   "cell_type": "code",
   "execution_count": 10,
   "metadata": {},
   "outputs": [],
   "source": [
    "## 将二叉树按照前序遍历拆成链表\n",
    "## 不使用额外空间，意味着不能使用栈stack\n",
    "class Solution:\n",
    "    \"\"\"\n",
    "    @param root: a TreeNode, the root of the binary tree\n",
    "    @return: nothing\n",
    "    \"\"\"\n",
    "    def flatten(self, root):\n",
    "        # write your code here\n",
    "        if not root:\n",
    "            return\n",
    "        \n",
    "        ## 分治法的思想是先将左右子树分别拆成链表，然后进行合并\n",
    "        self.flatten_and_return_last(root)\n",
    "\n",
    "    \n",
    "    def flatten_and_return_last(self, root):\n",
    "        if not root:\n",
    "            return None\n",
    "        \n",
    "        left_last = self.flatten_and_return_last(root.left)\n",
    "        right_last = self.flatten_and_return_last(root.right)\n",
    "        \n",
    "        ## 合并\n",
    "        if left_last:\n",
    "            ## 右指针作为next指针，左指针置为None\n",
    "            left_last.right = root.right\n",
    "            root.right = root.left \n",
    "            root.left = None\n",
    "        \n",
    "        ## 返回最后一个结点，如果right_last存在就返回它\n",
    "        ## right_last为空，表明以root为根结点的子树没有右子树\n",
    "        ## 那么，如果left_last存在就返回它\n",
    "        ## 否则就返回root，这表示root为叶子结点\n",
    "        return right_last or left_last or root\n",
    "        \n",
    "        "
   ]
  },
  {
   "cell_type": "code",
   "execution_count": null,
   "metadata": {},
   "outputs": [],
   "source": []
  }
 ],
 "metadata": {
  "kernelspec": {
   "display_name": "Python 3",
   "language": "python",
   "name": "python3"
  },
  "language_info": {
   "codemirror_mode": {
    "name": "ipython",
    "version": 3
   },
   "file_extension": ".py",
   "mimetype": "text/x-python",
   "name": "python",
   "nbconvert_exporter": "python",
   "pygments_lexer": "ipython3",
   "version": "3.7.1"
  }
 },
 "nbformat": 4,
 "nbformat_minor": 2
}
