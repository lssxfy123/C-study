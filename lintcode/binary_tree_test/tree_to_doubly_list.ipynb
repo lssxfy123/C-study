{
 "cells": [
  {
   "cell_type": "code",
   "execution_count": 1,
   "metadata": {},
   "outputs": [],
   "source": [
    "# Copyright(C) 2021 刘珅珅\n",
    "# Environment: python 3.7\n",
    "# Date: 2021.6.19\n",
    "# 将二叉搜索树转换为已排序的双向链接列表：lintcode 1534"
   ]
  },
  {
   "cell_type": "code",
   "execution_count": 2,
   "metadata": {},
   "outputs": [],
   "source": [
    "class TreeNode:\n",
    "    def __init__(self, val):\n",
    "        self.val = val\n",
    "        self.left, self.right = None, None"
   ]
  },
  {
   "cell_type": "code",
   "execution_count": 3,
   "metadata": {},
   "outputs": [],
   "source": [
    "class Solution:\n",
    "    \"\"\"\n",
    "    @param root: root of a tree\n",
    "    @return: head node of a doubly linked list\n",
    "    \"\"\"\n",
    "    def treeToDoublyList(self, root):\n",
    "        # Write your code here.\n",
    "        if not root:\n",
    "            return None\n",
    "        \n",
    "        ## 中序遍历\n",
    "        dummy = TreeNode(0)\n",
    "        tail = dummy\n",
    "        stack = []\n",
    "        while root:\n",
    "            stack.append(root)\n",
    "            root = root.left\n",
    "        \n",
    "        while stack:\n",
    "            node = stack.pop()\n",
    "            if node.right:\n",
    "                root = node.right\n",
    "                while root:\n",
    "                    stack.append(root)\n",
    "                    root = root.left\n",
    "            \n",
    "            if not dummy.right:\n",
    "                dummy.right = node\n",
    "            tail.right = node\n",
    "            prev = tail\n",
    "            tail = node\n",
    "            node.left = prev\n",
    "        tail.right = dummy.right\n",
    "        dummy.right.left = tail\n",
    "        return dummy.right"
   ]
  },
  {
   "cell_type": "code",
   "execution_count": null,
   "metadata": {},
   "outputs": [],
   "source": []
  }
 ],
 "metadata": {
  "kernelspec": {
   "display_name": "Python 3",
   "language": "python",
   "name": "python3"
  },
  "language_info": {
   "codemirror_mode": {
    "name": "ipython",
    "version": 3
   },
   "file_extension": ".py",
   "mimetype": "text/x-python",
   "name": "python",
   "nbconvert_exporter": "python",
   "pygments_lexer": "ipython3",
   "version": "3.7.1"
  }
 },
 "nbformat": 4,
 "nbformat_minor": 2
}
