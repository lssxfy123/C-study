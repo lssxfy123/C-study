{
 "cells": [
  {
   "cell_type": "code",
   "execution_count": 1,
   "metadata": {},
   "outputs": [],
   "source": [
    "# Copyright(C) 2021 刘珅珅\n",
    "# Environment: python 3.7\n",
    "# Date: 2021.4.20\n",
    "# 具有最大平均数的子树：lintcode 597"
   ]
  },
  {
   "cell_type": "code",
   "execution_count": 10,
   "metadata": {},
   "outputs": [],
   "source": [
    "class Solution:\n",
    "    \"\"\"\n",
    "    @param root: the root of binary tree\n",
    "    @return: the root of the maximum average of subtree\n",
    "    \"\"\"\n",
    "    def findSubtree2(self, root):\n",
    "        # write your code here\n",
    "        average_node, _, _, _ = self.divide_conque(root)\n",
    "        return average_node\n",
    "    \n",
    "    def divide_conque(self, root):\n",
    "        if not root:\n",
    "            return None, 0, -float('inf'), 0\n",
    "        \n",
    "        left_root, left_sum, left_max_average, left_count = self.divide_conque(root.left)\n",
    "        right_root, right_sum, right_max_average, right_count = self.divide_conque(root.right)\n",
    "        count = left_count + right_count + 1\n",
    "        current_sum = left_sum + right_sum + root.val\n",
    "        current_average = current_sum / count\n",
    "        max_average = max(current_average, left_max_average, right_max_average)\n",
    "        if left_max_average == max_average:\n",
    "            return left_root, current_sum, left_max_average, count\n",
    "        \n",
    "        if right_max_average == max_average:\n",
    "            return right_root, current_sum, right_max_average, count\n",
    "        return root, current_sum, current_average,count\n",
    "        "
   ]
  },
  {
   "cell_type": "code",
   "execution_count": 1,
   "metadata": {},
   "outputs": [
    {
     "data": {
      "text/plain": [
       "0.8"
      ]
     },
     "execution_count": 1,
     "metadata": {},
     "output_type": "execute_result"
    }
   ],
   "source": [
    "4 / 5"
   ]
  },
  {
   "cell_type": "code",
   "execution_count": null,
   "metadata": {},
   "outputs": [],
   "source": []
  }
 ],
 "metadata": {
  "kernelspec": {
   "display_name": "Python 3",
   "language": "python",
   "name": "python3"
  },
  "language_info": {
   "codemirror_mode": {
    "name": "ipython",
    "version": 3
   },
   "file_extension": ".py",
   "mimetype": "text/x-python",
   "name": "python",
   "nbconvert_exporter": "python",
   "pygments_lexer": "ipython3",
   "version": "3.7.1"
  }
 },
 "nbformat": 4,
 "nbformat_minor": 2
}
