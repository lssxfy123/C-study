{
 "cells": [
  {
   "cell_type": "code",
   "execution_count": 1,
   "metadata": {},
   "outputs": [],
   "source": [
    "# Copyright(C) 2021 刘珅珅\n",
    "# Environment: python 3.7\n",
    "# Date: 2021.3.29\n",
    "# 修剪二叉搜索树：lintcode 701"
   ]
  },
  {
   "cell_type": "markdown",
   "metadata": {},
   "source": [
    "# 非递归版"
   ]
  },
  {
   "cell_type": "code",
   "execution_count": 1,
   "metadata": {},
   "outputs": [],
   "source": [
    "class Solution:\n",
    "    \"\"\"\n",
    "    @param root: given BST\n",
    "    @param minimum: the lower limit\n",
    "    @param maximum: the upper limit\n",
    "    @return: the root of the new tree \n",
    "    \"\"\"\n",
    "    def trimBST(self, root, minimum, maximum):\n",
    "        # write your code here\n",
    "        if not root:\n",
    "            return None\n",
    "        dummy = TreeNode(0)\n",
    "        ## 先裁剪掉所有小于minimum的结点\n",
    "        ## 先对根结点进行判断，并且在dummy结点的左孩子中存储root结点\n",
    "        while root and root.val < minimum:\n",
    "            root = root.right\n",
    "        dummy.left = root\n",
    "        \n",
    "        parent = dummy\n",
    "        while root:\n",
    "            while root and root.val < minimum:\n",
    "                root = root.right\n",
    "            \n",
    "            ## 修改父结点的左孩子\n",
    "            parent.left = root\n",
    "            parent = root\n",
    "            if root:\n",
    "                root = root.left\n",
    "                \n",
    "        root = dummy.left\n",
    "        \n",
    "        while root and root.val > maximum:\n",
    "            root = root.left\n",
    "        dummy.left = root\n",
    "        parent = dummy\n",
    "        \n",
    "        while root:\n",
    "            while root and root.val > maximum:\n",
    "                root = root.left\n",
    "            parent.right = root\n",
    "            parent = root\n",
    "            if root:\n",
    "                root = root.right\n",
    "        \n",
    "                \n",
    "\n",
    "        return dummy.left\n",
    "    \n",
    "\n",
    "                   "
   ]
  },
  {
   "cell_type": "code",
   "execution_count": null,
   "metadata": {},
   "outputs": [],
   "source": []
  }
 ],
 "metadata": {
  "kernelspec": {
   "display_name": "Python 3",
   "language": "python",
   "name": "python3"
  },
  "language_info": {
   "codemirror_mode": {
    "name": "ipython",
    "version": 3
   },
   "file_extension": ".py",
   "mimetype": "text/x-python",
   "name": "python",
   "nbconvert_exporter": "python",
   "pygments_lexer": "ipython3",
   "version": "3.7.1"
  }
 },
 "nbformat": 4,
 "nbformat_minor": 2
}
