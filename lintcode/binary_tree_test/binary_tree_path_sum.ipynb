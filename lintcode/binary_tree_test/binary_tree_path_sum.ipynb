{
 "cells": [
  {
   "cell_type": "code",
   "execution_count": 1,
   "metadata": {},
   "outputs": [],
   "source": [
    "# Copyright(C) 2021 刘珅珅\n",
    "# Environment: python 3.7\n",
    "# Date: 2021.4.5\n",
    "# 二叉树的路径和：lintcode 376"
   ]
  },
  {
   "cell_type": "code",
   "execution_count": 1,
   "metadata": {},
   "outputs": [],
   "source": [
    "class TreeNode:\n",
    "    def __init__(self, val):\n",
    "        self.val = val\n",
    "        self.left, self.right = None, None"
   ]
  },
  {
   "cell_type": "code",
   "execution_count": 3,
   "metadata": {},
   "outputs": [],
   "source": [
    "class Solution:\n",
    "    \"\"\"\n",
    "    @param: root: the root of binary tree\n",
    "    @param: target: An integer\n",
    "    @return: all valid paths\n",
    "    \"\"\"\n",
    "    def binaryTreePathSum(self, root, target):\n",
    "        # write your code here\n",
    "        if not root:\n",
    "            return []\n",
    "        \n",
    "        results = []\n",
    "        self.divide_conque(root, results, [], 0, target)\n",
    "        return results\n",
    "    \n",
    "    def divide_conque(self, root, results, path, path_sum, target):\n",
    "        if not root:\n",
    "            return\n",
    "        path.append(root.val)\n",
    "        path_sum += root.val\n",
    "        if not root.left and not root.right and target == path_sum:\n",
    "            results.append(path[:])\n",
    "            ## 这里要进行回溯操作，path中插入一个结点，都要进行回溯操作\n",
    "            ## 即使到了叶结点，path中的其它结点也可能与别的叶结点组成一条路径\n",
    "            path.pop()\n",
    "            return\n",
    "        \n",
    "        self.divide_conque(root.left, results, path, path_sum, target)\n",
    "        self.divide_conque(root.right, results, path, path_sum, target)\n",
    "        path.pop()\n",
    "        \n",
    "            "
   ]
  },
  {
   "cell_type": "code",
   "execution_count": null,
   "metadata": {},
   "outputs": [],
   "source": []
  }
 ],
 "metadata": {
  "kernelspec": {
   "display_name": "Python 3",
   "language": "python",
   "name": "python3"
  },
  "language_info": {
   "codemirror_mode": {
    "name": "ipython",
    "version": 3
   },
   "file_extension": ".py",
   "mimetype": "text/x-python",
   "name": "python",
   "nbconvert_exporter": "python",
   "pygments_lexer": "ipython3",
   "version": "3.7.1"
  }
 },
 "nbformat": 4,
 "nbformat_minor": 2
}
