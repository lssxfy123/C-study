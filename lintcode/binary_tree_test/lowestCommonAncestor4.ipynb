{
 "cells": [
  {
   "cell_type": "code",
   "execution_count": 1,
   "metadata": {},
   "outputs": [],
   "source": [
    "# Copyright(C) 2021 刘珅珅\n",
    "# Environment: python 3.7\n",
    "# Date: 2021.4.5\n",
    "# 最近公共祖先：lintcode 1311"
   ]
  },
  {
   "cell_type": "markdown",
   "metadata": {},
   "source": [
    "### 不同于lintcode 88，题目中的树是一颗二叉搜索树，并且没有重复结点"
   ]
  },
  {
   "cell_type": "code",
   "execution_count": 1,
   "metadata": {},
   "outputs": [],
   "source": [
    "class TreeNode:\n",
    "    def __init__(self, val):\n",
    "        self.val = val\n",
    "        self.left, self.right = None, None"
   ]
  },
  {
   "cell_type": "code",
   "execution_count": 10,
   "metadata": {},
   "outputs": [],
   "source": [
    "class Solution:\n",
    "    \"\"\"\n",
    "    @param root: root of the tree\n",
    "    @param p: the node p\n",
    "    @param q: the node q\n",
    "    @return: find the LCA of p and q\n",
    "    \"\"\"\n",
    "    def lowestCommonAncestor(self, root, p, q):\n",
    "        # write your code here\n",
    "        if not root:\n",
    "            return None\n",
    "        \n",
    "        ## 根据二叉搜索的特点，根结点比左子树的值都大，比右子树的值都小\n",
    "        if root.val > max(p.val, q.val):\n",
    "            return self.lowestCommonAncestor(root.left, p, q)\n",
    "        \n",
    "        if root.val < min(p.val, q.val):\n",
    "            return self.lowestCommonAncestor(root.right, p, q)\n",
    "        \n",
    "        return root"
   ]
  },
  {
   "cell_type": "code",
   "execution_count": null,
   "metadata": {},
   "outputs": [],
   "source": []
  }
 ],
 "metadata": {
  "kernelspec": {
   "display_name": "Python 3",
   "language": "python",
   "name": "python3"
  },
  "language_info": {
   "codemirror_mode": {
    "name": "ipython",
    "version": 3
   },
   "file_extension": ".py",
   "mimetype": "text/x-python",
   "name": "python",
   "nbconvert_exporter": "python",
   "pygments_lexer": "ipython3",
   "version": "3.7.1"
  }
 },
 "nbformat": 4,
 "nbformat_minor": 2
}
