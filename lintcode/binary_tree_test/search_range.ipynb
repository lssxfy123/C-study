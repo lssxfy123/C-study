{
 "cells": [
  {
   "cell_type": "code",
   "execution_count": 1,
   "metadata": {},
   "outputs": [],
   "source": [
    "# Copyright(C) 2021 刘珅珅\n",
    "# Environment: python 3.7\n",
    "# Date: 2021.3.28\n",
    "# 二叉查找树中搜索区间：lintcode 11"
   ]
  },
  {
   "cell_type": "code",
   "execution_count": 1,
   "metadata": {},
   "outputs": [],
   "source": [
    "class Solution:\n",
    "    \"\"\"\n",
    "    @param root: param root: The root of the binary search tree\n",
    "    @param k1: An integer\n",
    "    @param k2: An integer\n",
    "    @return: return: Return all keys that k1<=key<=k2 in ascending order\n",
    "    \"\"\"\n",
    "    def searchRange(self, root, k1, k2):\n",
    "        # write your code here\n",
    "        if not root or k2 < k1:\n",
    "            return []\n",
    "        \n",
    "        results = []\n",
    "        stack = []\n",
    "        ## 二叉树的中序遍历\n",
    "        while root:\n",
    "            stack.append(root)\n",
    "            root = root.left\n",
    "            \n",
    "        while stack:\n",
    "            node = stack[-1]\n",
    "            if k1 <= node.val <= k2:\n",
    "                results.append(node.val)\n",
    "            elif node.val > k2:\n",
    "                break\n",
    "                \n",
    "            if node.right:\n",
    "                node = node.right\n",
    "                while node:\n",
    "                    stack.append(node)\n",
    "                    node = node.left\n",
    "            else:\n",
    "                tmp = stack.pop()\n",
    "                while stack and stack[-1].right == tmp:\n",
    "                    tmp = stack.pop()\n",
    "                    \n",
    "        return results\n",
    "        \n"
   ]
  },
  {
   "cell_type": "code",
   "execution_count": null,
   "metadata": {},
   "outputs": [],
   "source": []
  }
 ],
 "metadata": {
  "kernelspec": {
   "display_name": "Python 3",
   "language": "python",
   "name": "python3"
  },
  "language_info": {
   "codemirror_mode": {
    "name": "ipython",
    "version": 3
   },
   "file_extension": ".py",
   "mimetype": "text/x-python",
   "name": "python",
   "nbconvert_exporter": "python",
   "pygments_lexer": "ipython3",
   "version": "3.7.1"
  }
 },
 "nbformat": 4,
 "nbformat_minor": 2
}
