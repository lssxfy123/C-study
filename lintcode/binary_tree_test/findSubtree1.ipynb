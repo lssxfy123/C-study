{
 "cells": [
  {
   "cell_type": "code",
   "execution_count": 1,
   "metadata": {},
   "outputs": [],
   "source": [
    "# Copyright(C) 2021 刘珅珅\n",
    "# Environment: python 3.7\n",
    "# Date: 2021.3.6\n",
    "# 最大子树：lintcode 628"
   ]
  },
  {
   "cell_type": "code",
   "execution_count": 10,
   "metadata": {},
   "outputs": [],
   "source": [
    "class Solution:\n",
    "    \"\"\"\n",
    "    @param root: the root of binary tree\n",
    "    @return: the maximum weight node\n",
    "    \"\"\"\n",
    "    def findSubtree(self, root):\n",
    "        # write your code here\n",
    "        if not root:\n",
    "            return root\n",
    "        \n",
    "        sum, max_sum, max_node = self.get_sum(root)\n",
    "        return max_node\n",
    "    \n",
    "    ## 解题思路是：利用分治算法，遍历根结点的左右子树，要计算左右子树中所有结点的和，并且\n",
    "    ## 要记录下结点和最大的子树以及其对应的子树根结点\n",
    "    def get_sum(self, root):\n",
    "        ## 如果根结点为空，则其子树的和以及子树最大和都设置为系统最大值的相反数\n",
    "        if not root:\n",
    "            return -sys.maxsize, -sys.maxsize, root\n",
    "        \n",
    "        ## 分别获取左子树和右子树所有结点和、左子树中所有子树中结点和最大值以及对应的子树结点\n",
    "        left_sum, left_max_sum, left_max_node = self.get_sum(root.left)\n",
    "        right_sum, right_max_sum, right_max_node = self.get_sum(root.right)\n",
    "        sum = root.val\n",
    "        if root.left:\n",
    "            sum += left_sum\n",
    "        if root.right:\n",
    "            sum += right_sum\n",
    "        \n",
    "        ## 比较左子树的最大和，右子树的最大和，当前树的和中最大值\n",
    "        max_sum = max(left_max_sum, right_max_sum, sum)\n",
    "        if max_sum == left_max_sum:\n",
    "            return sum, max_sum, left_max_node\n",
    "        if max_sum == right_max_sum:\n",
    "            return sum, max_sum, right_max_node\n",
    "        return sum, max_sum, root\n",
    "        "
   ]
  },
  {
   "cell_type": "code",
   "execution_count": null,
   "metadata": {},
   "outputs": [],
   "source": []
  }
 ],
 "metadata": {
  "kernelspec": {
   "display_name": "Python 3",
   "language": "python",
   "name": "python3"
  },
  "language_info": {
   "codemirror_mode": {
    "name": "ipython",
    "version": 3
   },
   "file_extension": ".py",
   "mimetype": "text/x-python",
   "name": "python",
   "nbconvert_exporter": "python",
   "pygments_lexer": "ipython3",
   "version": "3.7.1"
  }
 },
 "nbformat": 4,
 "nbformat_minor": 2
}
