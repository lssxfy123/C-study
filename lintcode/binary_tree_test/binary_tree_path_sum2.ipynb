{
 "cells": [
  {
   "cell_type": "code",
   "execution_count": 1,
   "metadata": {},
   "outputs": [],
   "source": [
    "# Copyright(C) 2021 刘珅珅\n",
    "# Environment: python 3.7\n",
    "# Date: 2021.4.5\n",
    "# 二叉树的路径和 II：lintcode 246"
   ]
  },
  {
   "cell_type": "code",
   "execution_count": 1,
   "metadata": {},
   "outputs": [],
   "source": [
    "class TreeNode:\n",
    "    def __init__(self, val):\n",
    "        self.val = val\n",
    "        self.left, self.right = None, None"
   ]
  },
  {
   "cell_type": "code",
   "execution_count": 2,
   "metadata": {},
   "outputs": [],
   "source": [
    "class Solution:\n",
    "    \"\"\"\n",
    "    @param: root: the root of binary tree\n",
    "    @param: target: An integer\n",
    "    @return: all valid paths\n",
    "    \"\"\"\n",
    "    def binaryTreePathSum2(self, root, target):\n",
    "        # write your code here\n",
    "        if not root:\n",
    "            return []\n",
    "        \n",
    "        results = []\n",
    "        path = []\n",
    "        self.dfs(root, target, 0, path, results)\n",
    "        return results\n",
    "    \n",
    "    \"\"\"\n",
    "    递归的定义：path记录到达每一层的当前root值，判断是否有以当前结点为终点的路径\n",
    "    \"\"\"\n",
    "    def dfs(self,root, target, level, path, results):\n",
    "        if not root:\n",
    "            return\n",
    "        path.append(root.val)\n",
    "        tmp = target\n",
    "        ## 判断是否有以当前结点root结尾的符合要求的路径\n",
    "        for i in range(level, -1, -1):\n",
    "            tmp -= path[i]\n",
    "            if tmp == 0:\n",
    "                results.append(path[i:])\n",
    "        \n",
    "        self.dfs(root.left, target, level + 1, path, results)\n",
    "        self.dfs(root.right, target, level + 1, path, results)\n",
    "        path.pop()"
   ]
  },
  {
   "cell_type": "code",
   "execution_count": null,
   "metadata": {},
   "outputs": [],
   "source": []
  }
 ],
 "metadata": {
  "kernelspec": {
   "display_name": "Python 3",
   "language": "python",
   "name": "python3"
  },
  "language_info": {
   "codemirror_mode": {
    "name": "ipython",
    "version": 3
   },
   "file_extension": ".py",
   "mimetype": "text/x-python",
   "name": "python",
   "nbconvert_exporter": "python",
   "pygments_lexer": "ipython3",
   "version": "3.7.1"
  }
 },
 "nbformat": 4,
 "nbformat_minor": 2
}
