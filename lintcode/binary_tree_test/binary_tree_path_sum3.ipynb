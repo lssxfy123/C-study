{
 "cells": [
  {
   "cell_type": "code",
   "execution_count": 1,
   "metadata": {},
   "outputs": [],
   "source": [
    "# Copyright(C) 2021 刘珅珅\n",
    "# Environment: python 3.7\n",
    "# Date: 2021.6.30\n",
    "# 二叉树的路径和 III：lintcode 472"
   ]
  },
  {
   "cell_type": "code",
   "execution_count": 1,
   "metadata": {},
   "outputs": [],
   "source": [
    "class ParentTreeNode:\n",
    "    def __init__(self, val):\n",
    "        self.val = val\n",
    "        self.parent, self.left, self.right = None, None, None"
   ]
  },
  {
   "cell_type": "code",
   "execution_count": null,
   "metadata": {},
   "outputs": [],
   "source": [
    "import collections\n",
    "\n",
    "class Solution:\n",
    "    \"\"\"\n",
    "    @param: root: the root of binary tree\n",
    "    @param: target: An integer\n",
    "    @return: all valid paths\n",
    "    \"\"\"\n",
    "    def binaryTreePathSum3(self, root, target):\n",
    "        # write your code here\n",
    "        if not root:\n",
    "            return []\n",
    "        \"\"\"\n",
    "        由于路径可以从任意结点出发到任意结点结束，所以需要遍历整个树，以每个结点为起始结点进行DFS\n",
    "        遍历二叉树可以采用中序，层序等方式\n",
    "        \"\"\"\n",
    "        queue = collections.deque([root])\n",
    "        result = []\n",
    "        while queue:\n",
    "            for _ in range(len(queue)):\n",
    "                node = queue.popleft()\n",
    "                paths = []\n",
    "                ## 以node为起始结点时，它的prev就是None\n",
    "                self.dfs(node, None, [], target, paths)\n",
    "                result += paths\n",
    "                if node.left:\n",
    "                    queue.append(node.left)\n",
    "                if node.right:\n",
    "                    queue.append(node.right)\n",
    "        return result\n",
    "                \n",
    "                \n",
    "    \n",
    "    def dfs(self, root, prev, path, target, paths):\n",
    "        if not root:\n",
    "            return\n",
    "        path.append(root.val)\n",
    "        if root.val == target:\n",
    "            paths.append(path[:])\n",
    "            ## 这里不能直接返回，因为题目中的路径和可以到任意结点结束，即使path满足了路径和为target\n",
    "            ## 依然可以往path中添加结点，使其重新满足target\n",
    "            \n",
    "        \"\"\"\n",
    "        root的左孩子，右孩子和父结点分别进行遍历，但需要判断它们不是上次访问过的结点，避免出现循环遍历的问题\n",
    "        \"\"\"\n",
    "        if root.left and root.left is not prev:\n",
    "            self.dfs(root.left, root, path, target - root.val, paths)\n",
    "        if root.right and root.right is not prev:\n",
    "            self.dfs(root.right, root, path, target - root.val, paths)\n",
    "        if root.parent and root.parent is not prev:\n",
    "            self.dfs(root.parent, root, path, target - root.val, paths)\n",
    "        path.pop()\n",
    "        "
   ]
  },
  {
   "cell_type": "code",
   "execution_count": 2,
   "metadata": {},
   "outputs": [],
   "source": [
    "class Solution:\n",
    "    \"\"\"\n",
    "    @param: root: the root of binary tree\n",
    "    @param: target: An integer\n",
    "    @return: all valid paths\n",
    "    \"\"\"\n",
    "    def binaryTreePathSum2(self, root, target):\n",
    "        # write your code here\n",
    "        if not root:\n",
    "            return []\n",
    "        \n",
    "        results = []\n",
    "        path = []\n",
    "        self.dfs(root, target, 0, path, results)\n",
    "        return results\n",
    "    \n",
    "    \"\"\"\n",
    "    递归的定义：path记录到达每一层的当前root值，判断是否有以当前结点为终点的路径\n",
    "    \"\"\"\n",
    "    def dfs(self,root, target, level, path, results):\n",
    "        if not root:\n",
    "            return\n",
    "        path.append(root.val)\n",
    "        tmp = target\n",
    "        ## 判断是否有以当前结点root结尾的符合要求的路径\n",
    "        for i in range(level, -1, -1):\n",
    "            tmp -= path[i]\n",
    "            if tmp == 0:\n",
    "                results.append(path[i:])\n",
    "        \n",
    "        self.dfs(root.left, target, level + 1, path, results)\n",
    "        self.dfs(root.right, target, level + 1, path, results)\n",
    "        path.pop()"
   ]
  },
  {
   "cell_type": "code",
   "execution_count": null,
   "metadata": {},
   "outputs": [],
   "source": []
  }
 ],
 "metadata": {
  "kernelspec": {
   "display_name": "Python 3",
   "language": "python",
   "name": "python3"
  },
  "language_info": {
   "codemirror_mode": {
    "name": "ipython",
    "version": 3
   },
   "file_extension": ".py",
   "mimetype": "text/x-python",
   "name": "python",
   "nbconvert_exporter": "python",
   "pygments_lexer": "ipython3",
   "version": "3.7.1"
  }
 },
 "nbformat": 4,
 "nbformat_minor": 2
}
