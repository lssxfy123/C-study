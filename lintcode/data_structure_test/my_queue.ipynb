{
 "cells": [
  {
   "cell_type": "code",
   "execution_count": 1,
   "metadata": {},
   "outputs": [],
   "source": [
    "# Copyright(C) 2021 刘珅珅\n",
    "# Environment: python 3.7\n",
    "# Date: 2021.3.31\n",
    "# 用栈实现队列：lintcode 40"
   ]
  },
  {
   "cell_type": "markdown",
   "metadata": {},
   "source": [
    "# 除了栈以外，不允许使用其他数据结构\n",
    "## 时间复杂度：push:O(1)\n",
    "## pop和top都为：O(n)"
   ]
  },
  {
   "cell_type": "code",
   "execution_count": 3,
   "metadata": {},
   "outputs": [],
   "source": [
    "class MyQueue:\n",
    "    \n",
    "    def __init__(self):\n",
    "        # do intialization if necessary\n",
    "        self.push_stack = []\n",
    "        self.pop_stack = []\n",
    "    \n",
    "    ## 如果pop_stack为空，则将push_stack中的数据全部弹入到pop_stack中\n",
    "    ## 根据stack\"先进后出\"的原则，push_stack中的元素最先入栈的肯定最后出栈，也就会\n",
    "    ## 最后进入pop_stack中，这样pop_stack中栈顶元素就是第一个元素\n",
    "    def push_to_pop(self):\n",
    "        if self.pop_stack:\n",
    "            return\n",
    "        while self.push_stack:\n",
    "            self.pop_stack.append(self.push_stack.pop())\n",
    "        \n",
    "    \"\"\"\n",
    "    @param: element: An integer\n",
    "    @return: nothing\n",
    "    \"\"\"\n",
    "    def push(self, element):\n",
    "        # write your code here\n",
    "        self.push_stack.append(element)\n",
    "\n",
    "    \"\"\"\n",
    "    @return: An integer\n",
    "    \"\"\"\n",
    "    def pop(self):\n",
    "        # write your code here\n",
    "        self.push_to_pop()\n",
    "        return self.pop_stack.pop()\n",
    "\n",
    "    \"\"\"\n",
    "    @return: An integer\n",
    "    \"\"\"\n",
    "    def top(self):\n",
    "        # write your code here\n",
    "        self.push_to_pop()\n",
    "        return self.pop_stack[-1]"
   ]
  },
  {
   "cell_type": "code",
   "execution_count": null,
   "metadata": {},
   "outputs": [],
   "source": []
  }
 ],
 "metadata": {
  "kernelspec": {
   "display_name": "Python 3",
   "language": "python",
   "name": "python3"
  },
  "language_info": {
   "codemirror_mode": {
    "name": "ipython",
    "version": 3
   },
   "file_extension": ".py",
   "mimetype": "text/x-python",
   "name": "python",
   "nbconvert_exporter": "python",
   "pygments_lexer": "ipython3",
   "version": "3.7.1"
  }
 },
 "nbformat": 4,
 "nbformat_minor": 2
}
