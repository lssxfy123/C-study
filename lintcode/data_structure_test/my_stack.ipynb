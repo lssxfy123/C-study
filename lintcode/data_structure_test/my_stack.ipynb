{
 "cells": [
  {
   "cell_type": "code",
   "execution_count": 1,
   "metadata": {},
   "outputs": [],
   "source": [
    "# Copyright(C) 2021 刘珅珅\n",
    "# Environment: python 3.7\n",
    "# Date: 2021.3.31\n",
    "# 双队列实现栈：lintcode 494"
   ]
  },
  {
   "cell_type": "markdown",
   "metadata": {},
   "source": [
    "# 除了队列以外，不允许使用其他数据结构\n",
    "## 时间复杂度：push:O(1)\n",
    "## pop和top都为：O(n)\n",
    "## isEmpty：O(1)"
   ]
  },
  {
   "cell_type": "code",
   "execution_count": 21,
   "metadata": {},
   "outputs": [],
   "source": [
    "import collections\n",
    "\n",
    "class Stack:\n",
    "    def __init__(self):\n",
    "        self.data_queue = collections.deque()\n",
    "        self.buffer_queue = collections.deque()\n",
    "        \n",
    "    \"\"\"\n",
    "    @param: x: An integer\n",
    "    @return: nothing\n",
    "    \"\"\"\n",
    "    def push(self, x):\n",
    "        # write your code here\n",
    "        self.data_queue.append(x)\n",
    "\n",
    "    \"\"\"\n",
    "    @return: nothing\n",
    "    \"\"\"\n",
    "    def pop(self):\n",
    "        # write your code here\n",
    "        ## 将data_queue中的元素保留1个，其余都入队到buffer_queue中\n",
    "        ## 队列\"先进先出\"的原则，data_queue中最后1个元素是最后进入的，也就是栈需要弹出的元素\n",
    "        ## 栈是\"后进先出\"的\n",
    "        for _ in range(len(self.data_queue) - 1):\n",
    "            self.buffer_queue.append(self.data_queue.popleft())\n",
    "        val = self.data_queue.popleft()\n",
    "        \n",
    "        ## 这里需要将data_queue和buffer_queue进行交换，因为队列\"先进先出\"的原则，所以\n",
    "        ## buffer_queue中元素的顺序和data_queue中元素的原始顺序是一致的，如果再进行1次pop操作\n",
    "        ## 就需要将buffer_queue中的元素保留1个，其余都弹出才行，这就是重复了上面的操作，所以\n",
    "        ## 直接交换data_queue和buffer_queuue\n",
    "        self.data_queue, self.buffer_queue = self.buffer_queue, self.data_queue\n",
    "        return val\n",
    "\n",
    "    \"\"\"\n",
    "    @return: An integer\n",
    "    \"\"\"\n",
    "    def top(self):\n",
    "        # write your code here\n",
    "        val = self.pop()\n",
    "        self.push(val)\n",
    "        return val\n",
    "\n",
    "    \"\"\"\n",
    "    @return: True if the stack is empty\n",
    "    \"\"\"\n",
    "    def isEmpty(self):\n",
    "        # write your code here\n",
    "        return not self.data_queue"
   ]
  },
  {
   "cell_type": "code",
   "execution_count": 22,
   "metadata": {},
   "outputs": [],
   "source": [
    "stack = Stack()"
   ]
  },
  {
   "cell_type": "code",
   "execution_count": 23,
   "metadata": {},
   "outputs": [
    {
     "name": "stdout",
     "output_type": "stream",
     "text": [
      "4\n",
      "3\n",
      "6\n",
      "5\n"
     ]
    }
   ],
   "source": [
    "stack.push(1)\n",
    "stack.push(2)\n",
    "stack.push(3)\n",
    "stack.push(4)\n",
    "\n",
    "print(stack.pop())\n",
    "print(stack.pop())\n",
    "stack.push(5)\n",
    "stack.push(6)\n",
    "\n",
    "print(stack.pop())\n",
    "print(stack.pop())"
   ]
  },
  {
   "cell_type": "code",
   "execution_count": null,
   "metadata": {},
   "outputs": [],
   "source": []
  }
 ],
 "metadata": {
  "kernelspec": {
   "display_name": "Python 3",
   "language": "python",
   "name": "python3"
  },
  "language_info": {
   "codemirror_mode": {
    "name": "ipython",
    "version": 3
   },
   "file_extension": ".py",
   "mimetype": "text/x-python",
   "name": "python",
   "nbconvert_exporter": "python",
   "pygments_lexer": "ipython3",
   "version": "3.7.1"
  }
 },
 "nbformat": 4,
 "nbformat_minor": 2
}
