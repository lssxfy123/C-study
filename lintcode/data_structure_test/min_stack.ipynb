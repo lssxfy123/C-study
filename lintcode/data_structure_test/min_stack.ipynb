{
 "cells": [
  {
   "cell_type": "code",
   "execution_count": 1,
   "metadata": {},
   "outputs": [],
   "source": [
    "# Copyright(C) 2021 刘珅珅\n",
    "# Environment: python 3.7\n",
    "# Date: 2021.3.30\n",
    "# 带最小值操作的栈：lintcode 12"
   ]
  },
  {
   "cell_type": "code",
   "execution_count": 3,
   "metadata": {},
   "outputs": [],
   "source": [
    "class MinStack:\n",
    "    \n",
    "    def __init__(self):\n",
    "        # do intialization if necessary\n",
    "        self.data = []\n",
    "        self.min_stack = []\n",
    "\n",
    "    \"\"\"\n",
    "    @param: number: An integer\n",
    "    @return: nothing\n",
    "    \"\"\"\n",
    "    def push(self, number):\n",
    "        # write your code here\n",
    "        self.data.append(number)\n",
    "        if len(self.min_stack) == 0:\n",
    "            self.min_stack.append(number)\n",
    "        else:\n",
    "            if self.min_stack[-1] > number:\n",
    "                self.min_stack.append(number)\n",
    "            else:\n",
    "                self.min_stack.append(self.min_stack[-1])\n",
    "                \n",
    "\n",
    "    \"\"\"\n",
    "    @return: An integer\n",
    "    \"\"\"\n",
    "    def pop(self):\n",
    "        # write your code here\n",
    "        if len(self.data) == 0:\n",
    "            return None\n",
    "        result = self.data.pop()\n",
    "        self.min_stack.pop()\n",
    "        return result\n",
    "\n",
    "    \"\"\"\n",
    "    @return: An integer\n",
    "    \"\"\"\n",
    "    def min(self):\n",
    "        # write your code here\n",
    "        if len(self.min_stack) > 0:\n",
    "            return self.min_stack[-1]\n",
    "        return None\n",
    "\n"
   ]
  },
  {
   "cell_type": "code",
   "execution_count": null,
   "metadata": {},
   "outputs": [],
   "source": []
  }
 ],
 "metadata": {
  "kernelspec": {
   "display_name": "Python 3",
   "language": "python",
   "name": "python3"
  },
  "language_info": {
   "codemirror_mode": {
    "name": "ipython",
    "version": 3
   },
   "file_extension": ".py",
   "mimetype": "text/x-python",
   "name": "python",
   "nbconvert_exporter": "python",
   "pygments_lexer": "ipython3",
   "version": "3.7.1"
  }
 },
 "nbformat": 4,
 "nbformat_minor": 2
}
