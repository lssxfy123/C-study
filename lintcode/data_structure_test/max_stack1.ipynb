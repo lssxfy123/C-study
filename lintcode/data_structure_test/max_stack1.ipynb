{
 "cells": [
  {
   "cell_type": "code",
   "execution_count": 1,
   "metadata": {},
   "outputs": [],
   "source": [
    "# Copyright(C) 2021 刘珅珅\n",
    "# Environment: python 3.7\n",
    "# Date: 2021.3.30\n",
    "# 最大栈：lintcode 859"
   ]
  },
  {
   "cell_type": "markdown",
   "metadata": {},
   "source": [
    "# 优化\n",
    "## push：O(logn)\n",
    "## pop: O(1)\n",
    "## top: O(1)\n",
    "## peekMax：O(logn)\n",
    "## popMax: O(logn)"
   ]
  },
  {
   "cell_type": "code",
   "execution_count": 3,
   "metadata": {},
   "outputs": [],
   "source": [
    "class MaxStack:\n",
    "    \n",
    "    def __init__(self):\n",
    "        # do intialization if necessary\n",
    "        self.data = []\n",
    "        self.max_stack = []\n",
    "    \n",
    "    \"\"\"\n",
    "    @param: number: An integer\n",
    "    @return: nothing\n",
    "    \"\"\"\n",
    "    def push(self, x):\n",
    "        # write your code here\n",
    "        self.data.append(x)\n",
    "        if len(self.max_stack) == 0 or self.max_stack[-1] < x:\n",
    "            self.max_stack.append(x)\n",
    "        else:\n",
    "            self.max_stack.append(self.max_stack[-1])\n",
    "\n",
    "    \"\"\"\n",
    "    @return: An integer\n",
    "    \"\"\"\n",
    "    def pop(self):\n",
    "        # write your code here\n",
    "        self.max_stack.pop()\n",
    "        return self.data.pop()\n",
    "\n",
    "    \"\"\"\n",
    "    @return: An integer\n",
    "    \"\"\"\n",
    "    def top(self):\n",
    "        # write your code here\n",
    "        return self.data[-1]\n",
    "\n",
    "    \"\"\"\n",
    "    @return: An integer\n",
    "    \"\"\"\n",
    "    def peekMax(self):\n",
    "        # write your code here\n",
    "        return self.max_stack[-1]\n",
    "\n",
    "    \"\"\"\n",
    "    @return: An integer\n",
    "    \"\"\"\n",
    "    def popMax(self):\n",
    "        # write your code here\n",
    "        max_value = self.peekMax()\n",
    "        ## 缓冲栈\n",
    "        buffer = []\n",
    "        \n",
    "        ## 查找栈中的最大值，并且把其后的值先放入缓冲栈中\n",
    "        ## data弹出非最大值元素时，max_stack也要跟着弹出\n",
    "        ## \n",
    "        while self.data[-1] != max_value:\n",
    "            buffer.append(self.pop())\n",
    "        \n",
    "        ## 从data中弹出最大值\n",
    "        self.pop()\n",
    "        while buffer:\n",
    "            self.push(buffer[-1])\n",
    "            buffer.pop()\n",
    "        return max_value"
   ]
  },
  {
   "cell_type": "code",
   "execution_count": null,
   "metadata": {},
   "outputs": [],
   "source": []
  }
 ],
 "metadata": {
  "kernelspec": {
   "display_name": "Python 3",
   "language": "python",
   "name": "python3"
  },
  "language_info": {
   "codemirror_mode": {
    "name": "ipython",
    "version": 3
   },
   "file_extension": ".py",
   "mimetype": "text/x-python",
   "name": "python",
   "nbconvert_exporter": "python",
   "pygments_lexer": "ipython3",
   "version": "3.7.1"
  }
 },
 "nbformat": 4,
 "nbformat_minor": 2
}
