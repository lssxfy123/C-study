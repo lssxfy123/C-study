{
 "cells": [
  {
   "cell_type": "code",
   "execution_count": 1,
   "metadata": {},
   "outputs": [],
   "source": [
    "# Copyright(C) 2021 刘珅珅\n",
    "# Environment: python 3.7\n",
    "# Date: 2021.7.9\n",
    "# 幸运数字：lintcode 1316"
   ]
  },
  {
   "cell_type": "code",
   "execution_count": 11,
   "metadata": {},
   "outputs": [],
   "source": [
    "class Solution:\n",
    "    \"\"\"\n",
    "    @param arr: the arr\n",
    "    @return: the sum of the luck number\n",
    "    \"\"\"\n",
    "    def luckNumber(self, arr):\n",
    "        # Write your code here.\n",
    "        index_number = []\n",
    "        for index, number in enumerate(arr):\n",
    "            index_number.append((index, number))\n",
    "        index_number.sort(key=lambda number : number[1])\n",
    "        \n",
    "        ## f_index存储index左边比arr[index]大的最小值\n",
    "        ## g_index存储index右边比arr[index]小的最大值\n",
    "        ## -1表示不存在这样的值\n",
    "        f_index = [-1] * len(index_number)\n",
    "        g_index = [-1] * len(index_number)\n",
    "        \n",
    "        stack = []\n",
    "        for i in range(len(index_number)):\n",
    "            \"\"\"\n",
    "            index_number中的元组，第一个值是索引，第二个值是从小到大有序的\n",
    "            while循环：如果栈顶元素的索引index大于index_number[i][0]，说明index_number[i]\n",
    "            在原始数组arr中的位置在栈顶元素index的左边，并且index_number[i]对应的元素值index_number[i][1]\n",
    "            大于等于栈顶元素索引对应的元素值arr[index]，index_number是按第二个值排序的。\n",
    "            而f_index存储的就是index左边比arr[index]大的最小值索引，正好就是index_number[i][1]\n",
    "            index_number数组之后的值都不会比它小，即使可能存在索引比index小的元素。\n",
    "            所以要把栈顶元素index出栈，并在f_index记录相应的最小值的索引\n",
    "            注意：要记录索引，而不是值，因为如果不存在满足条件的值，可以用-1对索引进行区分，\n",
    "            但不能用-1对值进行区分，因为arr中有可能存在-1\n",
    "            \"\"\"\n",
    "            while stack and stack[-1][0] > index_number[i][0]:\n",
    "                popped = stack.pop()\n",
    "                f_index[popped[0]] = index_number[i][0]\n",
    "            stack.append(index_number[i])\n",
    "        \n",
    "        ## 如果stack不为空，则说明其元素左边没有比它大的值，就在f_index中存储\"-1\"\n",
    "        while stack:\n",
    "            popped = stack.pop()\n",
    "            f_index[popped[0]] = -1\n",
    "        \n",
    "        for i in range(len(index_number)):\n",
    "            \"\"\"\n",
    "            栈顶元素的索引index小于index_number[i][0]，说明index_number[i]在原始数组arr中的位置\n",
    "            在index的右边，但index_number[i]对应的元素值比栈顶元素index对应的元素值大，不能使用，\n",
    "            如果stack在弹出栈顶元素后不为空，则新的栈顶元素prev_index的索引肯定比index大，因为如果\n",
    "            prev_index小于index，则之前的while循环中prev_index就会被从栈中弹出，并且prev_index对应的值\n",
    "            比index对应的值小，因为stack插入元素的顺序是按index_number的先后顺序进行的，index_number的第二个元素是有序的。\n",
    "            如果stack弹出栈顶元素index后为空，则说明在index右边的元素的值都大于它对应的值\n",
    "            \"\"\"\n",
    "            while stack and stack[-1][0] < index_number[i][0]:\n",
    "                popped = stack.pop()\n",
    "                if stack:\n",
    "                    g_index[popped[0]] = stack[-1][0]\n",
    "            stack.append(index_number[i])\n",
    "        ## 如果栈不为空\n",
    "        while stack:\n",
    "            popped = stack.pop()\n",
    "            if stack:\n",
    "                g_index[popped[0]] = stack[-1][0]\n",
    "        \n",
    "        luck_count = 0\n",
    "        for i in range(len(arr)):\n",
    "            if f_index[i] != -1 and g_index[i] != -1:\n",
    "                if arr[f_index[i]] % arr[g_index[i]] == 0:\n",
    "                    luck_count += 1\n",
    "        return luck_count\n",
    "            "
   ]
  },
  {
   "cell_type": "code",
   "execution_count": 12,
   "metadata": {},
   "outputs": [
    {
     "name": "stdout",
     "output_type": "stream",
     "text": [
      "2\n"
     ]
    }
   ],
   "source": [
    "solution = Solution()\n",
    "arr = [10,6,2,5,3]\n",
    "print(solution.luckNumber(arr))"
   ]
  },
  {
   "cell_type": "code",
   "execution_count": null,
   "metadata": {},
   "outputs": [],
   "source": []
  }
 ],
 "metadata": {
  "kernelspec": {
   "display_name": "Python 3",
   "language": "python",
   "name": "python3"
  },
  "language_info": {
   "codemirror_mode": {
    "name": "ipython",
    "version": 3
   },
   "file_extension": ".py",
   "mimetype": "text/x-python",
   "name": "python",
   "nbconvert_exporter": "python",
   "pygments_lexer": "ipython3",
   "version": "3.7.1"
  }
 },
 "nbformat": 4,
 "nbformat_minor": 2
}
