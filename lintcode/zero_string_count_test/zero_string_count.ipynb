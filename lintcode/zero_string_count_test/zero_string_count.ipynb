{
 "cells": [
  {
   "cell_type": "code",
   "execution_count": 2,
   "metadata": {},
   "outputs": [],
   "source": [
    "# Copyright(C) 2021 刘珅珅\n",
    "# Environment: python 3.7\n",
    "# Date: 2021.3.21\n",
    "# 全零子串的数量：lintcode 1870"
   ]
  },
  {
   "cell_type": "markdown",
   "metadata": {},
   "source": [
    "# 同向双指针：时间复杂度为O(n)"
   ]
  },
  {
   "cell_type": "code",
   "execution_count": 1,
   "metadata": {},
   "outputs": [],
   "source": [
    "class Solution:\n",
    "    \"\"\"\n",
    "    @param str: the string\n",
    "    @return: the number of substrings \n",
    "    \"\"\"\n",
    "    def stringCount(self, str):\n",
    "        # Write your code here.\n",
    "        if not str:\n",
    "            return 0\n",
    "        \n",
    "        result = 0\n",
    "        j = 1\n",
    "        for i in range(len(str)):\n",
    "            if str[i] != '0':\n",
    "                continue\n",
    "            j = max(j, i + 1)\n",
    "            while j < len(str) and str[j] == '0':\n",
    "                j += 1\n",
    "            \n",
    "            ## 字符串从i到j全是'0'，它的所有全为0的子串个数为j:j-i+(j-i+1)+(j-i+2)+..+1\n",
    "            ## 这里直接是result+=(j-i)是因为j不动，而i在每次都加1，循环的效果就和上面的公式一致了\n",
    "            result += (j - i)\n",
    "        \n",
    "        return result\n",
    "            \n",
    "            "
   ]
  },
  {
   "cell_type": "code",
   "execution_count": 2,
   "metadata": {},
   "outputs": [
    {
     "name": "stdout",
     "output_type": "stream",
     "text": [
      "9\n"
     ]
    }
   ],
   "source": [
    "solution = Solution()\n",
    "str = \"00010011\"\n",
    "print(solution.stringCount(str))"
   ]
  },
  {
   "cell_type": "code",
   "execution_count": null,
   "metadata": {},
   "outputs": [],
   "source": []
  }
 ],
 "metadata": {
  "kernelspec": {
   "display_name": "Python 3",
   "language": "python",
   "name": "python3"
  },
  "language_info": {
   "codemirror_mode": {
    "name": "ipython",
    "version": 3
   },
   "file_extension": ".py",
   "mimetype": "text/x-python",
   "name": "python",
   "nbconvert_exporter": "python",
   "pygments_lexer": "ipython3",
   "version": "3.7.1"
  }
 },
 "nbformat": 4,
 "nbformat_minor": 2
}
