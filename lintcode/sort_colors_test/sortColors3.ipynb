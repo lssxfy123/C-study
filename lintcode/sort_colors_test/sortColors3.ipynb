{
 "cells": [
  {
   "cell_type": "code",
   "execution_count": 1,
   "metadata": {},
   "outputs": [],
   "source": [
    "# Copyright(C) 2021 刘珅珅\n",
    "# Environment: python 3.7\n",
    "# Date: 2021.2.15\n",
    "# 排颜色 II：lintcode 143"
   ]
  },
  {
   "cell_type": "code",
   "execution_count": 12,
   "metadata": {},
   "outputs": [],
   "source": [
    "## 计数排序有两种，一种是时间复杂度为O(n+k)，空间复杂度也为O(n+k)，稳定排序\n",
    "## 另一种是时间复杂度为O(n+k)，空间复杂度为O(k)，即在原数组中进行排序，不稳定排序\n",
    "## 计数排序只能对整数数组进行排序，无法排浮点数数组\n",
    "class Solution:\n",
    "    \"\"\"\n",
    "    @param colors: A list of integer\n",
    "    @param k: An integer\n",
    "    @return: nothing\n",
    "    \"\"\"\n",
    "    def sortColors2(self, colors, k):\n",
    "        # write your code here\n",
    "        if not colors or len(colors) < 2:\n",
    "            return\n",
    "        \n",
    "        ## 如果不清楚最大值和最小值，则需要查找\n",
    "        max_value = k\n",
    "        min_value = 1\n",
    "        \n",
    "        ## 统计colors中每个元素出现的个数\n",
    "        ## 计数数组的索引对应的就是colors中元素值\n",
    "        ## 为了减少计数数组不必要的内存空间，它的长度\n",
    "        ## 取得是最大值和最小值之间的元素个数\n",
    "        ## 所以统计colors中元素个数时，对应的元素值要减去最小值，才是\n",
    "        ## 其在计数数组中的索引\n",
    "        count_array = [0 for _ in range(max_value - min_value + 1)]\n",
    "        for color in colors:\n",
    "            count_array[color - min_value] += 1\n",
    "        \n",
    "        ## 将前一个计数值加到后一个上，这样得到的计数数组中的值\n",
    "        ## 就是colors中的元素在排序后的数组中的最后的位置\n",
    "        ## 例：colors=[2,1,1,2,2]，统计出1的个数为2,2的个数为3\n",
    "        ## 相加后，count_array最终为[2, 5]，第1个元素2表示colors中1在排序后的数组\n",
    "        ## 中最后的位置为2，即colors最后的元素1在排序后的数组处于第2位；第2个元素5表示\n",
    "        ## colors中最后的2在排序后的数组中处于第5位\n",
    "        for i in range(1, len(count_array)):\n",
    "            count_array[i] += count_array[i - 1]\n",
    "        \n",
    "        tmp = [0 for _ in range(len(colors))]\n",
    "        \n",
    "        ## 逆序遍历，这样相同的元素，先排后面d保证稳定性\n",
    "        for i in range(len(colors) - 1, -1, -1):\n",
    "            tmp[count_array[colors[i] - min_value] - 1] = colors[i]\n",
    "            count_array[colors[i] - min_value] -= 1\n",
    "        \n",
    "        for j in range(len(colors)):\n",
    "            colors[j] = tmp[j]\n",
    "                \n",
    "                 "
   ]
  },
  {
   "cell_type": "code",
   "execution_count": 13,
   "metadata": {},
   "outputs": [
    {
     "name": "stdout",
     "output_type": "stream",
     "text": [
      "[1, 1, 2, 2, 2]\n"
     ]
    }
   ],
   "source": [
    "solution = Solution()\n",
    "colors = [2,1,1,2,2]\n",
    "k = 2\n",
    "solution.sortColors2(colors, k)\n",
    "print(colors)"
   ]
  },
  {
   "cell_type": "code",
   "execution_count": 1,
   "metadata": {},
   "outputs": [
    {
     "name": "stdout",
     "output_type": "stream",
     "text": [
      "7\n"
     ]
    }
   ],
   "source": [
    "a = {7:0}\n",
    "for i in a:\n",
    "    print(i)"
   ]
  },
  {
   "cell_type": "code",
   "execution_count": null,
   "metadata": {},
   "outputs": [],
   "source": []
  }
 ],
 "metadata": {
  "kernelspec": {
   "display_name": "Python 3",
   "language": "python",
   "name": "python3"
  },
  "language_info": {
   "codemirror_mode": {
    "name": "ipython",
    "version": 3
   },
   "file_extension": ".py",
   "mimetype": "text/x-python",
   "name": "python",
   "nbconvert_exporter": "python",
   "pygments_lexer": "ipython3",
   "version": "3.7.1"
  }
 },
 "nbformat": 4,
 "nbformat_minor": 2
}
