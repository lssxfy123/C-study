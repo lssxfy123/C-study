{
 "cells": [
  {
   "cell_type": "code",
   "execution_count": 1,
   "metadata": {},
   "outputs": [],
   "source": [
    "# Copyright(C) 2021 刘珅珅\n",
    "# Environment: python 3.7\n",
    "# Date: 2021.2.15\n",
    "# 排颜色 II：lintcode 143"
   ]
  },
  {
   "cell_type": "code",
   "execution_count": 12,
   "metadata": {},
   "outputs": [],
   "source": [
    "## 计数排序有两种，一种是时间复杂度为O(n+k)，空间复杂度也为O(n+k)，稳定排序\n",
    "## 另一种是时间复杂度为O(n+k)，空间复杂度为O(k)，即在原数组中进行排序，不稳定排序\n",
    "## 计数排序只能对整数数组进行排序，无法排浮点数数组\n",
    "class Solution:\n",
    "    \"\"\"\n",
    "    @param colors: A list of integer\n",
    "    @param k: An integer\n",
    "    @return: nothing\n",
    "    \"\"\"\n",
    "    def sortColors2(self, colors, k):\n",
    "        # write your code here\n",
    "        if not colors or len(colors) < 2:\n",
    "            return\n",
    "        \n",
    "        ## 如果不清楚最大值和最小值，则需要查找\n",
    "        max_value = k\n",
    "        min_value = 1\n",
    "        \n",
    "        ## 统计colors中每个元素出现的个数\n",
    "        ## 计数数组的索引对应的就是colors中元素值\n",
    "        ## 为了减少计数数组不必要的内存空间，它的长度\n",
    "        ## 取得是最大值和最小值之间的元素个数\n",
    "        ## 所以统计colors中元素个数时，对应的元素值要减去最小值，才是\n",
    "        ## 其在计数数组中的索引\n",
    "        count_array = [0 for _ in range(max_value - min_value + 1)]\n",
    "        for color in colors:\n",
    "            count_array[color - min_value] += 1\n",
    "        \n",
    "        ## 将前一个计数值加到后一个上，这样得到的计数数组中的值\n",
    "        ## 就是colors中的元素在排序后的数组中的最后的位置\n",
    "        ## 例：colors=[2,1,1,2,2]，统计出1的个数为2,2的个数为3\n",
    "        ## 相加后，count_array最终为[2, 5]，第1个元素2表示colors中1在排序后的数组\n",
    "        ## 中最后的位置为2，即colors最后的元素1在排序后的数组处于第2位；第2个元素5表示\n",
    "        ## colors中最后的2在排序后的数组中处于第5位\n",
    "        for i in range(1, len(count_array)):\n",
    "            count_array[i] += count_array[i - 1]\n",
    "        ## 备份计数数组\n",
    "        original_count_array = count_array[:]\n",
    "        \n",
    "        ## 不使用额外数组，原地排序，不稳定排序\n",
    "        index = len(colors) - 1\n",
    "        while index >= 0:\n",
    "            ## colors[index]应该在的位置\n",
    "            sort_index = count_array[colors[index] - min_value] - 1\n",
    "            original_sort_index = original_count_array[colors[index] - min_value] - 1\n",
    "            if index >= sort_index and index <= original_sort_index:\n",
    "                index -= 1\n",
    "                continue\n",
    "\n",
    "            print(index, sort_index)\n",
    "            colors[index], colors[sort_index] = colors[sort_index], colors[index]\n",
    "            print(colors)\n",
    "            count_array[colors[index] - min_value] -= 1\n",
    "               "
   ]
  },
  {
   "cell_type": "code",
   "execution_count": 13,
   "metadata": {},
   "outputs": [
    {
     "name": "stdout",
     "output_type": "stream",
     "text": [
      "19 7\n",
      "[3, 2, 3, 3, 4, 3, 3, 2, 4, 4, 1, 2, 1, 1, 1, 3, 4, 3, 4, 2]\n",
      "19 6\n",
      "[3, 2, 3, 3, 4, 3, 2, 2, 4, 4, 1, 2, 1, 1, 1, 3, 4, 3, 4, 3]\n",
      "19 13\n",
      "[3, 2, 3, 3, 4, 3, 2, 2, 4, 4, 1, 2, 1, 3, 1, 3, 4, 3, 4, 1]\n",
      "19 2\n",
      "[3, 2, 1, 3, 4, 3, 2, 2, 4, 4, 1, 2, 1, 3, 1, 3, 4, 3, 4, 3]\n",
      "19 12\n",
      "[3, 2, 1, 3, 4, 3, 2, 2, 4, 4, 1, 2, 3, 3, 1, 3, 4, 3, 4, 1]\n",
      "19 1\n",
      "[3, 1, 1, 3, 4, 3, 2, 2, 4, 4, 1, 2, 3, 3, 1, 3, 4, 3, 4, 2]\n",
      "19 5\n",
      "[3, 1, 1, 3, 4, 2, 2, 2, 4, 4, 1, 2, 3, 3, 1, 3, 4, 3, 4, 3]\n",
      "19 11\n",
      "[3, 1, 1, 3, 4, 2, 2, 2, 4, 4, 1, 3, 3, 3, 1, 3, 4, 3, 4, 2]\n",
      "19 4\n",
      "[3, 1, 1, 3, 2, 2, 2, 2, 4, 4, 1, 3, 3, 3, 1, 3, 4, 3, 4, 4]\n",
      "17 11\n",
      "[3, 1, 1, 3, 2, 2, 2, 2, 4, 4, 1, 3, 3, 3, 1, 3, 4, 3, 4, 4]\n",
      "17 10\n",
      "[3, 1, 1, 3, 2, 2, 2, 2, 4, 4, 3, 3, 3, 3, 1, 3, 4, 1, 4, 4]\n",
      "17 0\n",
      "[1, 1, 1, 3, 2, 2, 2, 2, 4, 4, 3, 3, 3, 3, 1, 3, 4, 3, 4, 4]\n",
      "17 9\n",
      "[1, 1, 1, 3, 2, 2, 2, 2, 4, 3, 3, 3, 3, 3, 1, 3, 4, 4, 4, 4]\n",
      "16 17\n",
      "[1, 1, 1, 3, 2, 2, 2, 2, 4, 3, 3, 3, 3, 3, 1, 3, 4, 4, 4, 4]\n",
      "15 9\n",
      "[1, 1, 1, 3, 2, 2, 2, 2, 4, 3, 3, 3, 3, 3, 1, 3, 4, 4, 4, 4]\n",
      "15 8\n",
      "[1, 1, 1, 3, 2, 2, 2, 2, 3, 3, 3, 3, 3, 3, 1, 4, 4, 4, 4, 4]\n",
      "14 0\n",
      "[1, 1, 1, 3, 2, 2, 2, 2, 3, 3, 3, 3, 3, 3, 1, 4, 4, 4, 4, 4]\n",
      "14 -1\n",
      "[1, 1, 1, 3, 2, 2, 2, 2, 3, 3, 3, 3, 3, 3, 4, 4, 4, 4, 4, 1]\n",
      "3 8\n",
      "[1, 1, 1, 3, 2, 2, 2, 2, 3, 3, 3, 3, 3, 3, 4, 4, 4, 4, 4, 1]\n",
      "3 7\n",
      "[1, 1, 1, 2, 2, 2, 2, 3, 3, 3, 3, 3, 3, 3, 4, 4, 4, 4, 4, 1]\n",
      "[1, 1, 1, 2, 2, 2, 2, 3, 3, 3, 3, 3, 3, 3, 4, 4, 4, 4, 4, 1]\n"
     ]
    }
   ],
   "source": [
    "solution = Solution()\n",
    "colors = [3,2,3,3,4,3,3,2,4,4,1,2,1,1,1,3,4,3,4,2]\n",
    "k = 4\n",
    "solution.sortColors2(colors, k)\n",
    "print(colors)"
   ]
  },
  {
   "cell_type": "code",
   "execution_count": 1,
   "metadata": {},
   "outputs": [
    {
     "name": "stdout",
     "output_type": "stream",
     "text": [
      "7\n"
     ]
    }
   ],
   "source": [
    "a = {7:0}\n",
    "for i in a:\n",
    "    print(i)"
   ]
  },
  {
   "cell_type": "code",
   "execution_count": null,
   "metadata": {},
   "outputs": [],
   "source": []
  }
 ],
 "metadata": {
  "kernelspec": {
   "display_name": "Python 3",
   "language": "python",
   "name": "python3"
  },
  "language_info": {
   "codemirror_mode": {
    "name": "ipython",
    "version": 3
   },
   "file_extension": ".py",
   "mimetype": "text/x-python",
   "name": "python",
   "nbconvert_exporter": "python",
   "pygments_lexer": "ipython3",
   "version": "3.7.1"
  }
 },
 "nbformat": 4,
 "nbformat_minor": 2
}
