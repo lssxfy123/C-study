{
 "cells": [
  {
   "cell_type": "code",
   "execution_count": 1,
   "metadata": {},
   "outputs": [],
   "source": [
    "# Copyright(C) 2021 刘珅珅\n",
    "# Environment: python 3.7\n",
    "# Date: 2021.2.15\n",
    "# 排颜色 II：lintcode 143"
   ]
  },
  {
   "cell_type": "code",
   "execution_count": 7,
   "metadata": {},
   "outputs": [],
   "source": [
    "## 计数排序有两种，一种是时间复杂度为O(n+k)，空间复杂度也为O(n+k)，稳定排序\n",
    "## 另一种是时间复杂度为O(n+k)，空间复杂度为O(k)，即在原数组中进行排序，不稳定排序\n",
    "## 计数排序只能对整数数组进行排序，无法排浮点数数组\n",
    "class Solution:\n",
    "    \"\"\"\n",
    "    @param colors: A list of integer\n",
    "    @param k: An integer\n",
    "    @return: nothing\n",
    "    \"\"\"\n",
    "    def sortColors2(self, colors, k):\n",
    "        # write your code here\n",
    "        if not colors or len(colors) < 2:\n",
    "            return\n",
    "        \n",
    "        ## 如果不清楚最大值和最小值，则需要查找\n",
    "        max_value = k\n",
    "        min_value = 1\n",
    "        \n",
    "        ## 统计colors中每个元素出现的个数\n",
    "        ## 计数数组的索引对应的就是colors中元素值\n",
    "        ## 为了减少计数数组不必要的内存空间，它的长度\n",
    "        ## 取得是最大值和最小值之间的元素个数\n",
    "        ## 所以统计colors中元素个数时，对应的元素值要减去最小值，才是\n",
    "        ## 其在计数数组中的索引\n",
    "        count_array = [0 for _ in range(max_value - min_value + 1)]\n",
    "        for color in colors:\n",
    "            count_array[color - min_value] += 1\n",
    "        \n",
    "        ## 将前一个计数值加到后一个上，这样得到的计数数组中的值\n",
    "        ## 就是colors中的元素在排序后的数组中的最后的位置\n",
    "        ## 例：colors=[2,1,1,2,2]，统计出1的个数为2,2的个数为3\n",
    "        ## 相加后，count_array最终为[2, 5]，第1个元素2表示colors中1在排序后的数组\n",
    "        ## 中最后的位置为2，即colors最后的元素1在排序后的数组处于第2位；第2个元素5表示\n",
    "        ## colors中最后的2在排序后的数组中处于第5位\n",
    "        for i in range(1, len(count_array)):\n",
    "            count_array[i] += count_array[i - 1]\n",
    "        ## 备份计数数组，用于判断之前已交换到正确位置的元素不再交换\n",
    "        original_count_array = count_array[:]\n",
    "        \n",
    "        ## 不使用额外数组，原地排序，不稳定排序\n",
    "        index = len(colors) - 1\n",
    "        while index >= 0:\n",
    "            ## colors[index]应该在的位置\n",
    "            ## 为了保证原地排序，从colors最后一个元素开始，将其交换到它应该在的位置\n",
    "            ## 然后仍然继续判断最后一个元素的位置是否正确，如果不正确，继续执行交换\n",
    "            ## 直到最后一个元素的位置正确为止，再判断倒数第2个元素，依次类推，显然这样交换\n",
    "            ## 会破坏数组的稳定性，因为两个交换的元素可能是相同的\n",
    "            sort_index = count_array[colors[index] - min_value] - 1\n",
    "            original_sort_index = original_count_array[colors[index] - min_value] - 1\n",
    "            print(\"index:{0}, sort_index:{1}, original_sort_index: {2}, element:{3}\".format(index, sort_index, original_sort_index, colors[index]))\n",
    "            ## 如果index大于或等于计数数组中其元素对应的值(sort_index是递减的)，即其应该在的位置，并且小于等于原始计数数组的值\n",
    "            ## 说明，index指向的元素是之前被交换到这里的元素，其位置已经正确，无需再交换\n",
    "            ## 例：colors = [1, 2, 1, 2, 1]\n",
    "            ## index:4, sort_index:2, original_sort_index: 2, element:1\n",
    "            ## index:4, sort_index:1, original_sort_index: 2, element:1\n",
    "            ## index:4, sort_index:4, original_sort_index: 4, element:2\n",
    "            ## index:3, sort_index:4, original_sort_index: 4, element:2\n",
    "            ## index:3, sort_index:3, original_sort_index: 4, element:2\n",
    "            ## index:2, sort_index:0, original_sort_index: 2, element:1\n",
    "            ## index:1, sort_index:0, original_sort_index: 2, element:1\n",
    "            ## index:0, sort_index:0, original_sort_index: 2, element:1\n",
    "            ## index=2到0时，这里的元素1都是已经交换过后的\n",
    "            if index >= sort_index and index <= original_sort_index:\n",
    "                index -= 1\n",
    "                continue\n",
    "\n",
    "            ## 先将计数数组中对应的索引去掉1，再执行交换\n",
    "            ## 否则交换过后，colors[index]的值已经改变了\n",
    "            count_array[colors[index] - min_value] -= 1\n",
    "            colors[index], colors[sort_index] = colors[sort_index], colors[index]\n",
    "               "
   ]
  },
  {
   "cell_type": "code",
   "execution_count": 8,
   "metadata": {},
   "outputs": [
    {
     "name": "stdout",
     "output_type": "stream",
     "text": [
      "index:4, sort_index:2, original_sort_index: 2, element:1\n",
      "index:4, sort_index:1, original_sort_index: 2, element:1\n",
      "index:4, sort_index:4, original_sort_index: 4, element:2\n",
      "index:3, sort_index:4, original_sort_index: 4, element:2\n",
      "index:3, sort_index:3, original_sort_index: 4, element:2\n",
      "index:2, sort_index:0, original_sort_index: 2, element:1\n",
      "index:1, sort_index:0, original_sort_index: 2, element:1\n",
      "index:0, sort_index:0, original_sort_index: 2, element:1\n",
      "[1, 1, 1, 2, 2]\n"
     ]
    }
   ],
   "source": [
    "solution = Solution()\n",
    "colors = [1, 2, 1, 2, 1]\n",
    "k = 2\n",
    "solution.sortColors2(colors, k)\n",
    "print(colors)"
   ]
  },
  {
   "cell_type": "code",
   "execution_count": 1,
   "metadata": {},
   "outputs": [
    {
     "name": "stdout",
     "output_type": "stream",
     "text": [
      "7\n"
     ]
    }
   ],
   "source": [
    "a = {7:0}\n",
    "for i in a:\n",
    "    print(i)"
   ]
  },
  {
   "cell_type": "code",
   "execution_count": null,
   "metadata": {},
   "outputs": [],
   "source": []
  }
 ],
 "metadata": {
  "kernelspec": {
   "display_name": "Python 3",
   "language": "python",
   "name": "python3"
  },
  "language_info": {
   "codemirror_mode": {
    "name": "ipython",
    "version": 3
   },
   "file_extension": ".py",
   "mimetype": "text/x-python",
   "name": "python",
   "nbconvert_exporter": "python",
   "pygments_lexer": "ipython3",
   "version": "3.7.1"
  }
 },
 "nbformat": 4,
 "nbformat_minor": 2
}
