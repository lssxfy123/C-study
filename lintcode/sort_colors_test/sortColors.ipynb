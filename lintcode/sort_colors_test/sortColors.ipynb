{
 "cells": [
  {
   "cell_type": "code",
   "execution_count": 1,
   "metadata": {},
   "outputs": [],
   "source": [
    "# Copyright(C) 2021 刘珅珅\n",
    "# Environment: python 3.7\n",
    "# Date: 2021.2.15\n",
    "# 颜色分类：lintcode 148"
   ]
  },
  {
   "cell_type": "code",
   "execution_count": 36,
   "metadata": {},
   "outputs": [],
   "source": [
    "class Solution:\n",
    "    \"\"\"\n",
    "    @param nums: A list of integer which is 0, 1 or 2 \n",
    "    @return: nothing\n",
    "    \"\"\"\n",
    "    def sortColors(self, nums):\n",
    "        # write your code here\n",
    "        if not nums or len(nums) <= 1:\n",
    "            return\n",
    "        \n",
    "        left = 0\n",
    "        right = len(nums) - 1\n",
    "        red = 0\n",
    "        white = 1\n",
    "        blue = 2\n",
    "        mid = 0\n",
    "        \n",
    "        ## 这里采用mid与right进行判别，只有mid遍历了整个数组\n",
    "        ## left指针有可能只遍历了部分数组\n",
    "        while mid <= right:\n",
    "            ## 采用3个指针来进行判别\n",
    "            ## 如果mid指向的元素为0，则肯定需要与left指针元素进行交换\n",
    "            ## 交换完毕后，left和mid都需要加1，因为left指向的元素为0\n",
    "            ## 而mid指向的元素肯定为0或1，因为left和mid之间为2的元素都被交换\n",
    "            ## 到了mid到right之间\n",
    "            if nums[mid] == red:\n",
    "                nums[left], nums[mid] = nums[mid], nums[left]\n",
    "                left += 1\n",
    "                mid += 1\n",
    "            ## 如果mid指向的元素为2，则与right指针元素进行交换\n",
    "            ## 交换完毕后，right指针减一，此时mid不能移动，因为\n",
    "            ## 它指向的元素仍然可能为2，需要一直将left到mid(包含mid)\n",
    "            ## 所有为2的元素全部移动走\n",
    "            elif nums[mid] == blue:\n",
    "                nums[mid], nums[right] = nums[right], nums[mid]\n",
    "                right -= 1\n",
    "            else:\n",
    "                mid += 1                    "
   ]
  },
  {
   "cell_type": "code",
   "execution_count": 37,
   "metadata": {},
   "outputs": [
    {
     "name": "stdout",
     "output_type": "stream",
     "text": [
      "[0, 0, 0, 0, 0, 0, 0, 1, 1, 1, 2, 2, 2, 2, 2]\n"
     ]
    }
   ],
   "source": [
    "solution = Solution()\n",
    "nums = [0,2,2,2,2,1,0,1,0,0,0,1,0,2,0]\n",
    "solution.sortColors(nums)\n",
    "print(nums)"
   ]
  },
  {
   "cell_type": "code",
   "execution_count": null,
   "metadata": {},
   "outputs": [],
   "source": []
  }
 ],
 "metadata": {
  "kernelspec": {
   "display_name": "Python 3",
   "language": "python",
   "name": "python3"
  },
  "language_info": {
   "codemirror_mode": {
    "name": "ipython",
    "version": 3
   },
   "file_extension": ".py",
   "mimetype": "text/x-python",
   "name": "python",
   "nbconvert_exporter": "python",
   "pygments_lexer": "ipython3",
   "version": "3.7.1"
  }
 },
 "nbformat": 4,
 "nbformat_minor": 2
}
