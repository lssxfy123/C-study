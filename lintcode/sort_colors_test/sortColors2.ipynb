{
 "cells": [
  {
   "cell_type": "code",
   "execution_count": 1,
   "metadata": {},
   "outputs": [],
   "source": [
    "# Copyright(C) 2021 刘珅珅\n",
    "# Environment: python 3.7\n",
    "# Date: 2021.2.15\n",
    "# 排颜色 II：lintcode 143"
   ]
  },
  {
   "cell_type": "code",
   "execution_count": 13,
   "metadata": {},
   "outputs": [],
   "source": [
    "class Solution:\n",
    "    \"\"\"\n",
    "    @param colors: A list of integer\n",
    "    @param k: An integer\n",
    "    @return: nothing\n",
    "    \"\"\"\n",
    "    def sortColors2(self, colors, k):\n",
    "        # write your code here\n",
    "        if not colors or len(colors) < 2:\n",
    "            return\n",
    "        self.sort(1, k, colors, 0, len(colors) - 1)\n",
    "    def sort(self, color_from, color_to, colors, start, end):\n",
    "        if start >= end or color_from == color_to:\n",
    "            return\n",
    "        \n",
    "        left,right = start, end\n",
    "        pivot = (color_from + color_to) // 2\n",
    "        \n",
    "        ## 相比于快速排序，由于数组中元素的上限和下限是已知的，分别为k和1，\n",
    "        ## 所以枢纽元就选择上限和下限的平均值，分割数组的时间复杂度为O(n),\n",
    "        ## 但递归的深度为logk，原因是对于快速排序即使某个区间的值相同\n",
    "        ## 但如果start < end，就会继续进行递归，但本问题中，数组中元素\n",
    "        ## 的最大和最小值已知，如果最大值和最小值相同(color_from == color_to)，就不需要在递归了\n",
    "        ## 相比于快速排序，colors[left] <= pivot，这是保证等于pivot的都在左边，这样可以减少递归\n",
    "        while left <= right:\n",
    "            while left <= right and colors[left] <= pivot:\n",
    "                left += 1\n",
    "            \n",
    "            while left <= right and colors[right] > pivot:\n",
    "                right -= 1\n",
    "            \n",
    "            if left <= right:\n",
    "                colors[left], colors[right] = colors[right], colors[left]\n",
    "                left += 1\n",
    "                right -= 1\n",
    "        \n",
    "        self.sort(color_from, pivot, colors, start, right)\n",
    "        self.sort(pivot + 1, color_to, colors, left, end)\n",
    "                \n",
    "                 "
   ]
  },
  {
   "cell_type": "code",
   "execution_count": 14,
   "metadata": {},
   "outputs": [
    {
     "name": "stdout",
     "output_type": "stream",
     "text": [
      "[1, 1, 2, 2, 2] 2 1\n",
      "[1, 1, 2, 2, 2]\n"
     ]
    }
   ],
   "source": [
    "solution = Solution()\n",
    "colors = [2,1,1,2,2]\n",
    "k = 2\n",
    "solution.sortColors2(colors, k)\n",
    "print(colors)"
   ]
  },
  {
   "cell_type": "code",
   "execution_count": null,
   "metadata": {},
   "outputs": [],
   "source": []
  }
 ],
 "metadata": {
  "kernelspec": {
   "display_name": "Python 3",
   "language": "python",
   "name": "python3"
  },
  "language_info": {
   "codemirror_mode": {
    "name": "ipython",
    "version": 3
   },
   "file_extension": ".py",
   "mimetype": "text/x-python",
   "name": "python",
   "nbconvert_exporter": "python",
   "pygments_lexer": "ipython3",
   "version": "3.7.1"
  }
 },
 "nbformat": 4,
 "nbformat_minor": 2
}
