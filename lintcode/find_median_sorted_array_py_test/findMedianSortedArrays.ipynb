{
 "cells": [
  {
   "cell_type": "code",
   "execution_count": 1,
   "metadata": {},
   "outputs": [],
   "source": [
    "# Copyright(C) 2021 刘珅珅\n",
    "# Environment: python 3.7\n",
    "# Date: 2021.2.28\n",
    "# 两个排序数组的中位数：lintcode 65"
   ]
  },
  {
   "cell_type": "code",
   "execution_count": 10,
   "metadata": {},
   "outputs": [],
   "source": [
    "class Solution:\n",
    "    \"\"\"\n",
    "    @param: A: An integer array\n",
    "    @param: B: An integer array\n",
    "    @return: a double whose format is *.5 or *.0\n",
    "    \"\"\"\n",
    "    def findMedianSortedArrays(self, A, B):\n",
    "        # write your code here\n",
    "        n, m = 0, 0\n",
    "        if A:\n",
    "            n = len(A)\n",
    "        if B:\n",
    "            m = len(B)\n",
    "        if (n + m) == 0:\n",
    "            return 0.0\n",
    "        \n",
    "        if (n + m) % 2 == 1:\n",
    "            return float(self.find_kth(A, B, 0, 0, (n + m) // 2 + 1))\n",
    "        \n",
    "        return float(self.find_kth(A, B, 0, 0, (n + m) // 2) + self.find_kth(A, B, 0, 0, (n + m) // 2 + 1)) / 2\n",
    "            \n",
    "     \n",
    "    ## 查找第k小元素，设为kMin\n",
    "    \"\"\"\n",
    "    查找第k个数，如果可以在O(1)的时间内把找第k个数，变成找第k/2个数，\n",
    "    并且这两个位置对应的值是相同的，则整体的实际复杂度为logk，即log(n+m)，满足要求，\n",
    "    这就要求我们要用O(1)的操作丢掉A或B(不能同时丢弃，无法保证O(1)，因为无法知道A和B的前k/2个元素在合并后的数组的分布)中的k/2个数，。\n",
    "    A数组的第k/2个数为A[k/2-1]，B数组的第k/2个数为B[k/2-1]，比较这两个数，谁小就丢弃对应的数组，\n",
    "    假设A[k/2-1]较小，可以参考归并排序中的合并，在合并两个排序数组时，从A和B的头开始，\n",
    "    谁小谁就先入到合并数组中，这样当A[k/2-1]进入到合并的数组后，B[k/2-1]肯定没有进入到合并数组中，\n",
    "    这时丢弃A的前k/2个数，则之前找第k个数，就变成了A剩余的元素和B中的元素找k/2个元素，就可以满足要求。\n",
    "\n",
    "    \"\"\"\n",
    "    def find_kth(self, A, B, index_A, index_B, k):\n",
    "        ## 如果A的起始位置index_A已经越界，则说明要查找的kMin肯定在B中，由于B是升序的，所以B[index_B + k - 1]就是要找的值\n",
    "        if len(A) == index_A:\n",
    "            return B[index_B + k - 1]\n",
    "        \n",
    "        if len(B) == index_B:\n",
    "            return A[index_A + k - 1]\n",
    "        \n",
    "        if k == 1:\n",
    "            return min(A[index_A], B[index_B])\n",
    "        \n",
    "        a = A[index_A + k // 2 - 1] if index_A + k // 2 - 1 < len(A) else None\n",
    "        b = B[index_B + k // 2 - 1] if index_B + k // 2 - 1 < len(B) else None\n",
    "        \n",
    "        ## a和b不可能同时为None，如果同时为None则表明kMin不住A和B中，显然是矛盾的\n",
    "        ## 除非是程序的逻辑有误\n",
    "        if b is None or (a is not None and a < b):\n",
    "            return self.find_kth(A, B, index_A + k // 2, index_B, k - k // 2)\n",
    "        \n",
    "        return self.find_kth(A, B, index_A, index_B + k // 2, k - k // 2)\n",
    "        \n",
    "        "
   ]
  },
  {
   "cell_type": "code",
   "execution_count": 11,
   "metadata": {},
   "outputs": [
    {
     "name": "stdout",
     "output_type": "stream",
     "text": [
      "3.5\n"
     ]
    }
   ],
   "source": [
    "A = [1,2,3,4,5,6]\n",
    "B = [2,3,4,5]\n",
    "solution = Solution()\n",
    "print(solution.findMedianSortedArrays(A, B))"
   ]
  },
  {
   "cell_type": "code",
   "execution_count": null,
   "metadata": {},
   "outputs": [],
   "source": []
  }
 ],
 "metadata": {
  "kernelspec": {
   "display_name": "Python 3",
   "language": "python",
   "name": "python3"
  },
  "language_info": {
   "codemirror_mode": {
    "name": "ipython",
    "version": 3
   },
   "file_extension": ".py",
   "mimetype": "text/x-python",
   "name": "python",
   "nbconvert_exporter": "python",
   "pygments_lexer": "ipython3",
   "version": "3.7.1"
  }
 },
 "nbformat": 4,
 "nbformat_minor": 2
}
