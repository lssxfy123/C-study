{
 "cells": [
  {
   "cell_type": "code",
   "execution_count": 1,
   "metadata": {},
   "outputs": [],
   "source": [
    "# Copyright(C) 2021 刘珅珅\n",
    "# Environment: python 3.7\n",
    "# Date: 2021.2.28\n",
    "# 两个排序数组的中位数：lintcode 65"
   ]
  },
  {
   "cell_type": "code",
   "execution_count": 10,
   "metadata": {},
   "outputs": [],
   "source": [
    "class Solution:\n",
    "    \"\"\"\n",
    "    @param: A: An integer array\n",
    "    @param: B: An integer array\n",
    "    @return: a double whose format is *.5 or *.0\n",
    "    \"\"\"\n",
    "    def findMedianSortedArrays(self, A, B):\n",
    "        # write your code here\n",
    "        n, m = 0, 0\n",
    "        if A:\n",
    "            n = len(A)\n",
    "        if B:\n",
    "            m = len(B)\n",
    "        if (n + m) == 0:\n",
    "            return 0.0\n",
    "        \n",
    "        if (n + m) % 2 == 1:\n",
    "            return float(self.find_kth(A, B, 0, 0, (n + m) // 2 + 1))\n",
    "        \n",
    "        return float(self.find_kth(A, B, 0, 0, (n + m) // 2) + self.find_kth(A, B, 0, 0, (n + m) // 2 + 1)) / 2\n",
    "            \n",
    "     \n",
    "    ## 查找第k小元素，设为kMin\n",
    "    ## A[0]...A[k/2 - 1]表示A中的前k/2个元素，B[0]...B[k/2 - 1]表示B中的前k/2个数\n",
    "    ## 如果A[k/2 - 1] < B[k/2 - 1]则表示kMin肯定不在A的前k/2个元素中，用反证法证明\n",
    "    ## 如果kMin在A的前k/2个元素中，则kMin<=A[k/2 - 1]，kMin表示它是A和B中第k小元素\n",
    "    ## A和B都是升序数组，现在A最多只能提供k/2(kMin=A[k/2 - 1])个元素，剩下的都由B来提供\n",
    "    ## B要提供至少k/2个元素，而且这些元素肯定都小于A[k/2 - 1]，显然这与B[k/2 - 1] > A[k/2 - 1]是矛盾的\n",
    "    ## 反之如果A[k/2 - 1]>B[k/2 - 1]，则表示kMin肯定不在B的前k/2个元素中\n",
    "    ## 如果A[k/2 - 1] == B[k/2 - 1]，则可以任选一个数组剔除掉k/2个元素，因为k如果为偶数，则kMin就等于A[k/2 - 1]或B[k/2 - 1]\n",
    "    ## 例如k=4，A和B的数组混合排序中前4个数字中，前2个数字为A[0]和B[0]，后2个数字为A[1]或B[1]，kMin就是A[1]或B[1]\n",
    "    ## k如果为奇数，则肯定不在A的前k/2个数和B的前k/2数之中，例如k=5，A和B混合排序的前5个数字中，A[0],B[0],A[1],B[1]肯定排在\n",
    "    ## 前4个，kMin不会在其中，所以可以任选一个数组剔除掉前k/2个元素\n",
    "    def find_kth(self, A, B, index_A, index_B, k):\n",
    "        ## 如果A的起始位置index_A已经越界，则说明要查找的kMin肯定在B中，由于B是升序的，所以B[index_B + k - 1]就是要找的值\n",
    "        if len(A) == index_A:\n",
    "            return B[index_B + k - 1]\n",
    "        \n",
    "        if len(B) == index_B:\n",
    "            return A[index_A + k - 1]\n",
    "        \n",
    "        if k == 1:\n",
    "            return min(A[index_A], B[index_B])\n",
    "        \n",
    "        a = A[index_A + k // 2 - 1] if index_A + k // 2 - 1 < len(A) else None\n",
    "        b = B[index_B + k // 2 - 1] if index_B + k // 2 - 1 < len(B) else None\n",
    "        \n",
    "        ## a和b不可能同时为None，如果同时为None则表明kMin不住A和B中，显然是矛盾的\n",
    "        ## 除非是程序的逻辑有误\n",
    "        if b is None or (a is not None and a < b):\n",
    "            return self.find_kth(A, B, index_A + k // 2, index_B, k - k // 2)\n",
    "        \n",
    "        return self.find_kth(A, B, index_A, index_B + k // 2, k - k // 2)\n",
    "        \n",
    "        "
   ]
  },
  {
   "cell_type": "code",
   "execution_count": 11,
   "metadata": {},
   "outputs": [
    {
     "name": "stdout",
     "output_type": "stream",
     "text": [
      "3.5\n"
     ]
    }
   ],
   "source": [
    "A = [1,2,3,4,5,6]\n",
    "B = [2,3,4,5]\n",
    "solution = Solution()\n",
    "print(solution.findMedianSortedArrays(A, B))"
   ]
  },
  {
   "cell_type": "code",
   "execution_count": null,
   "metadata": {},
   "outputs": [],
   "source": []
  }
 ],
 "metadata": {
  "kernelspec": {
   "display_name": "Python 3",
   "language": "python",
   "name": "python3"
  },
  "language_info": {
   "codemirror_mode": {
    "name": "ipython",
    "version": 3
   },
   "file_extension": ".py",
   "mimetype": "text/x-python",
   "name": "python",
   "nbconvert_exporter": "python",
   "pygments_lexer": "ipython3",
   "version": "3.7.1"
  }
 },
 "nbformat": 4,
 "nbformat_minor": 2
}
