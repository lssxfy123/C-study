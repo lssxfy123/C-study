{
 "cells": [
  {
   "cell_type": "code",
   "execution_count": 2,
   "metadata": {},
   "outputs": [],
   "source": [
    "# Copyright(C) 2021 刘珅珅\n",
    "# Environment: python 3.7\n",
    "# Date: 2021.4.21\n",
    "# 排序矩阵中的从小到大第k个数：lintcode 401"
   ]
  },
  {
   "cell_type": "markdown",
   "metadata": {},
   "source": [
    "## 二分法：求第k小的数，矩阵的最小值left和最大值right，计算出中间值mid=(left+right)，统计matrix中小于等于mid的个数num，判断num与k的关系，来修改left和right\n",
    "\n",
    "## 时间复制度："
   ]
  },
  {
   "cell_type": "code",
   "execution_count": 1,
   "metadata": {},
   "outputs": [],
   "source": [
    "class Solution:\n",
    "    \"\"\"\n",
    "    @param matrix: a matrix of integers\n",
    "    @param k: An integer\n",
    "    @return: the kth smallest number in the matrix\n",
    "    \"\"\"\n",
    "    def kthSmallest(self, matrix, k):\n",
    "        # write your code here\n",
    "        if not matrix or not matrix[0]:\n",
    "            return None\n",
    "        n, m = len(matrix), len(matrix[0])\n",
    "        ## matrix按按行递增，按列递增，第一个元素是最小值，最后一个元素是最大值\n",
    "        left = matrix[0][0]\n",
    "        right = matrix[n - 1][m - 1]\n",
    "        \n",
    "        while left <= right:\n",
    "            mid = (left + right) // 2\n",
    "            num, is_exist_in_matrix = self.calculate(mid, matrix)\n",
    "            print(mid, num)\n",
    "            if is_exist_in_matrix and num == k:\n",
    "                return mid\n",
    "            elif num < k:\n",
    "                left = mid + 1\n",
    "            else:\n",
    "                right = mid - 1\n",
    "                \n",
    "        return left\n",
    "    \n",
    "    ## 统计比target小或等的元素的个数以及target是否在matrix中\n",
    "    ## 时间复杂度O(nlogm)\n",
    "    def calculate(self, target, matrix):\n",
    "        n, m = len(matrix), len(matrix[0])\n",
    "        num = 0\n",
    "        is_exist_in_matrix = False\n",
    "        for i in range(n):\n",
    "            ## 每行的最后一个元素\n",
    "            if matrix[i][m - 1] < target:\n",
    "                num += m\n",
    "                continue\n",
    "            \n",
    "            ## 每行第1个元素\n",
    "            if matrix[i][0] > target:\n",
    "                break\n",
    "            \n",
    "            ## 二分查找最后1个比target小或等的位置\n",
    "            pos, is_exist = self.find_last_by_binary_search(i, matrix, target)\n",
    "            if is_exist:\n",
    "                is_exist_in_matrix = True\n",
    "            if pos != -1:\n",
    "                num += pos + 1\n",
    "        return num, is_exist_in_matrix\n",
    "                \n",
    "    \n",
    "    def find_last_by_binary_search(self, i, matrix, target):\n",
    "        pos = -1\n",
    "        is_exist = False\n",
    "        left, right = 0, len(matrix[0]) - 1\n",
    "        while left + 1 < right:\n",
    "            mid = (left + right) // 2\n",
    "            if matrix[i][mid] > target:\n",
    "                right = mid\n",
    "            else:\n",
    "                if matrix[i][mid] == target:\n",
    "                    is_exist = True\n",
    "                left = mid\n",
    "                pos = mid\n",
    "        if matrix[i][left] <= target:\n",
    "            pos = left\n",
    "        if matrix[i][right] <= target:\n",
    "            pos = right\n",
    "        \n",
    "        if matrix[i][left] == target or matrix[i][right] == target:\n",
    "            is_exist = True\n",
    "        \n",
    "        return pos, is_exist\n",
    "        \n",
    "        \n"
   ]
  },
  {
   "cell_type": "code",
   "execution_count": 2,
   "metadata": {},
   "outputs": [
    {
     "name": "stdout",
     "output_type": "stream",
     "text": [
      "5 4\n",
      "2 1\n",
      "1 1\n",
      "1\n"
     ]
    }
   ],
   "source": [
    "solution = Solution()\n",
    "matrix = [[1 ,5 ,7],[3 ,7 ,8],[4 ,8 ,9]]\n",
    "k = 1\n",
    "# matrix = [[1,2,3,4,5],[2,3,4,5,6],[3,4,5,6,7],[4,5,6,7,8]]\n",
    "# k = 19\n",
    "# matrix = [[998,1002],[998,1003],[999,1003],[1000,1003],[1000,1004]]\n",
    "# k = 7\n",
    "print(solution.kthSmallest(matrix, k))"
   ]
  },
  {
   "cell_type": "code",
   "execution_count": null,
   "metadata": {},
   "outputs": [],
   "source": []
  }
 ],
 "metadata": {
  "kernelspec": {
   "display_name": "Python 3",
   "language": "python",
   "name": "python3"
  },
  "language_info": {
   "codemirror_mode": {
    "name": "ipython",
    "version": 3
   },
   "file_extension": ".py",
   "mimetype": "text/x-python",
   "name": "python",
   "nbconvert_exporter": "python",
   "pygments_lexer": "ipython3",
   "version": "3.7.1"
  }
 },
 "nbformat": 4,
 "nbformat_minor": 2
}
