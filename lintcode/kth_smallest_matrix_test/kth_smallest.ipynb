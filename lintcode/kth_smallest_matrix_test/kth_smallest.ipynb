{
 "cells": [
  {
   "cell_type": "code",
   "execution_count": 2,
   "metadata": {},
   "outputs": [],
   "source": [
    "# Copyright(C) 2021 刘珅珅\n",
    "# Environment: python 3.7\n",
    "# Date: 2021.4.21\n",
    "# 排序矩阵中的从小到大第k个数：lintcode 401"
   ]
  },
  {
   "cell_type": "markdown",
   "metadata": {},
   "source": [
    "## 算法采用了一个小根堆，先把矩阵的第一个元素以及其坐标x和y插入堆中，循环k次，把当前堆顶元素弹出，由于矩阵是按行递增和按列递增的，所以把其同一行下一列的元素和其同一列下一行的元素都插入堆中，堆顶元素就是当前最小的元素\n",
    "\n",
    "## 时间复制度：O(klog2k)，也就是klogk"
   ]
  },
  {
   "cell_type": "code",
   "execution_count": 8,
   "metadata": {},
   "outputs": [],
   "source": [
    "import heapq\n",
    "\n",
    "class Solution:\n",
    "    \"\"\"\n",
    "    @param matrix: a matrix of integers\n",
    "    @param k: An integer\n",
    "    @return: the kth smallest number in the matrix\n",
    "    \"\"\"\n",
    "    def kthSmallest(self, matrix, k):\n",
    "        # write your code here\n",
    "        if not matrix or not matrix[0]:\n",
    "            return None\n",
    "        n, m = len(matrix), len(matrix[0])\n",
    "        min_heap = []\n",
    "        heapq.heappush(min_heap, (matrix[0][0], 0, 0))\n",
    "        visited = set([0])\n",
    "        kMin = None\n",
    "        for _ in range(k):\n",
    "            kMin, x, y = heapq.heappop(min_heap)\n",
    "            if x + 1 < n and (x + 1) * m + y not in visited:\n",
    "                heapq.heappush(min_heap, (matrix[x + 1][y], x + 1, y))\n",
    "                visited.add((x + 1) * m + y)\n",
    "            \n",
    "            if y + 1 < m and x * m + y + 1 not in visited:\n",
    "                heapq.heappush(min_heap, (matrix[x][y + 1], x, y + 1))\n",
    "                visited.add(x * m + y + 1)\n",
    "        \n",
    "        return kMin\n"
   ]
  },
  {
   "cell_type": "code",
   "execution_count": 9,
   "metadata": {},
   "outputs": [
    {
     "name": "stdout",
     "output_type": "stream",
     "text": [
      "7\n"
     ]
    }
   ],
   "source": [
    "solution = Solution()\n",
    "matrix = [[1 ,5 ,7],[3 ,7 ,8],[4 ,8 ,9]]\n",
    "k = 4\n",
    "matrix = [[1,2,3,4,5],[2,3,4,5,6],[3,4,5,6,7],[4,5,6,7,8]]\n",
    "k = 19\n",
    "print(solution.kthSmallest(matrix, k))"
   ]
  },
  {
   "cell_type": "code",
   "execution_count": null,
   "metadata": {},
   "outputs": [],
   "source": []
  }
 ],
 "metadata": {
  "kernelspec": {
   "display_name": "Python 3",
   "language": "python",
   "name": "python3"
  },
  "language_info": {
   "codemirror_mode": {
    "name": "ipython",
    "version": 3
   },
   "file_extension": ".py",
   "mimetype": "text/x-python",
   "name": "python",
   "nbconvert_exporter": "python",
   "pygments_lexer": "ipython3",
   "version": "3.7.1"
  }
 },
 "nbformat": 4,
 "nbformat_minor": 2
}
