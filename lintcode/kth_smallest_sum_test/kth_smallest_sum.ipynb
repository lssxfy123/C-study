{
 "cells": [
  {
   "cell_type": "code",
   "execution_count": 2,
   "metadata": {},
   "outputs": [],
   "source": [
    "# Copyright(C) 2021 刘珅珅\n",
    "# Environment: python 3.7\n",
    "# Date: 2021.4.21\n",
    "# 两个排序数组和的第K小：lintcode 465"
   ]
  },
  {
   "cell_type": "code",
   "execution_count": 4,
   "metadata": {},
   "outputs": [],
   "source": [
    "import heapq\n",
    "\n",
    "class Solution:\n",
    "    \"\"\"\n",
    "    @param A: an integer arrays sorted in ascending order\n",
    "    @param B: an integer arrays sorted in ascending order\n",
    "    @param k: An integer\n",
    "    @return: An integer\n",
    "    \"\"\"\n",
    "    def kthSmallestSum(self, A, B, k):\n",
    "        # write your code here\n",
    "        if not A or not B:\n",
    "            return None\n",
    "        \n",
    "        n, m = len(A), len(B)\n",
    "        min_heap = []\n",
    "        \"\"\"\n",
    "        把A中元素和B中元素的相加看成一个矩阵\n",
    "        maxtix[0][0] = A[0]+B[0], maxtrix[0][1] = A[0] + B[1],...\n",
    "        参考lintcode 401\n",
    "        \"\"\"\n",
    "        heapq.heappush(min_heap, (A[0] + B[0], 0, 0))\n",
    "        visited = set([0])\n",
    "        kMin = None\n",
    "        for _ in range(k):\n",
    "            kMin, x, y = heapq.heappop(min_heap)\n",
    "            if x + 1 < n and (x + 1) * m + y not in visited:\n",
    "                heapq.heappush(min_heap, (A[x + 1] + B[y], x + 1, y))\n",
    "                visited.add((x + 1) * m + y)\n",
    "            \n",
    "            if y + 1 < m and x * m + y + 1 not in visited:\n",
    "                heapq.heappush(min_heap, (A[x] + B[y + 1], x, y + 1))\n",
    "                visited.add(x * m + y + 1)\n",
    "        return kMin"
   ]
  },
  {
   "cell_type": "code",
   "execution_count": 5,
   "metadata": {},
   "outputs": [
    {
     "name": "stdout",
     "output_type": "stream",
     "text": [
      "7\n"
     ]
    }
   ],
   "source": [
    "solution = Solution()\n",
    "a = [1, 7, 11]\n",
    "b = [2, 4, 6]\n",
    "k = 3\n",
    "print(solution.kthSmallestSum(a, b, k))"
   ]
  },
  {
   "cell_type": "code",
   "execution_count": null,
   "metadata": {},
   "outputs": [],
   "source": []
  }
 ],
 "metadata": {
  "kernelspec": {
   "display_name": "Python 3",
   "language": "python",
   "name": "python3"
  },
  "language_info": {
   "codemirror_mode": {
    "name": "ipython",
    "version": 3
   },
   "file_extension": ".py",
   "mimetype": "text/x-python",
   "name": "python",
   "nbconvert_exporter": "python",
   "pygments_lexer": "ipython3",
   "version": "3.7.1"
  }
 },
 "nbformat": 4,
 "nbformat_minor": 2
}
