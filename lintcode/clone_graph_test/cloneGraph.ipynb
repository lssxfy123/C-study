{
 "cells": [
  {
   "cell_type": "code",
   "execution_count": 4,
   "metadata": {},
   "outputs": [],
   "source": [
    "# Copyright(C) 2021 刘珅珅\n",
    "# Environment: python 3.7\n",
    "# Date: 2021.3.3\n",
    "# 克隆图：lintcode 137\n",
    "import collections"
   ]
  },
  {
   "cell_type": "code",
   "execution_count": 2,
   "metadata": {},
   "outputs": [],
   "source": [
    "class UndirectedGraphNode:\n",
    "     def __init__(self, x):\n",
    "         self.label = x\n",
    "         self.neighbors = []\n"
   ]
  },
  {
   "cell_type": "code",
   "execution_count": null,
   "metadata": {},
   "outputs": [],
   "source": [
    "class Solution:\n",
    "    \"\"\"\n",
    "    @param node: A undirected graph node\n",
    "    @return: A undirected graph node\n",
    "    \"\"\"\n",
    "    def cloneGraph(self, node):\n",
    "        # write your code here\n",
    "        if not node:\n",
    "            return None\n",
    "        \n",
    "        ## 写代码时要将复杂的事情分开进行，不要写在一起\n",
    "        ## step 1. 查找所有结点\n",
    "        nodes = self.find_node_by_bfs(node)\n",
    "        \n",
    "        ## step 2. 复制所有结点\n",
    "        mapping = self.copy_nodes(nodes)\n",
    "        \n",
    "        ## step 3. 复制所有边\n",
    "        self.copy_edges(nodes, mapping)\n",
    "        \n",
    "        return mapping[node]\n",
    "    \n",
    "    ## 找出所有的结点\n",
    "    def find_node_by_bfs(self, node):\n",
    "        queue = collections.deque([node])\n",
    "        visited = set([node])\n",
    "        while queue:\n",
    "            cur_node = queue.popleft()\n",
    "            for neighbor in cur_node.neighbors:\n",
    "                if neighbor in visited:  ## 已访问过的邻居结点\n",
    "                    continue\n",
    "                visited.add(neighbor)\n",
    "                queue.append(neighbor)\n",
    "        return list(visited)\n",
    "    \n",
    "    ## 将所有结点克隆一份，并保存成映射表\n",
    "    ## key为原始结点，值为新结点\n",
    "    ## 方便后序克隆边\n",
    "    def copy_nodes(self, nodes):\n",
    "        mapping = {}\n",
    "        for node in nodes:\n",
    "            mapping[node] = UndirectedGraphNode(node.label)\n",
    "        \n",
    "        return mapping;\n",
    "\n",
    "    ## 克隆边，就是把原始结点对应的新结点中插入邻居结点，这样才能在图上构成边\n",
    "    def copy_edges(self,nodes, mapping):\n",
    "        for node in nodes:\n",
    "            new_node = mapping[node]\n",
    "            for neighbor in node.neighbors:\n",
    "                ## 原始结点的邻居结点在mapping中对应的结点\n",
    "                ## 就是new_node的邻居\n",
    "                new_neighbor = mapping[neighbor]\n",
    "                new_node.neighbors.append(new_neighbor)\n",
    "\n"
   ]
  }
 ],
 "metadata": {
  "kernelspec": {
   "display_name": "Python 3",
   "language": "python",
   "name": "python3"
  },
  "language_info": {
   "codemirror_mode": {
    "name": "ipython",
    "version": 3
   },
   "file_extension": ".py",
   "mimetype": "text/x-python",
   "name": "python",
   "nbconvert_exporter": "python",
   "pygments_lexer": "ipython3",
   "version": "3.7.1"
  }
 },
 "nbformat": 4,
 "nbformat_minor": 2
}
