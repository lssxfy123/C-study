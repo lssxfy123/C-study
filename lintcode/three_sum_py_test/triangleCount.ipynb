{
 "cells": [
  {
   "cell_type": "code",
   "execution_count": 1,
   "metadata": {},
   "outputs": [],
   "source": [
    "# Copyright(C) 2021 刘珅珅\n",
    "# Environment: python 3.7\n",
    "# Date: 2021.2.17\n",
    "#  三角形计数：lintcode 382"
   ]
  },
  {
   "cell_type": "code",
   "execution_count": 11,
   "metadata": {},
   "outputs": [],
   "source": [
    "class Solution:\n",
    "    \"\"\"\n",
    "    @param nums:  an array of n integers\n",
    "    @param target: a target\n",
    "    @return: the number of index triplets satisfy the condition nums[i] + nums[j] + nums[k] < target\n",
    "    \"\"\"\n",
    "    def triangleCount(self, S):\n",
    "        # Write your code here\n",
    "        if not S or len(S) < 3:\n",
    "            return 0\n",
    "        \n",
    "        ans = 0\n",
    "        S.sort()  ## 对数组排序\n",
    "        length = len(S)\n",
    "        for i in range(length):               \n",
    "            left = 0\n",
    "            right = i - 1\n",
    "            ## 针对i之前的数组进行双指针运算，套用两数之和\n",
    "            ## 如果针对i之后的数组进行运算，就只能\n",
    "            ## 比较S[left]+S[i]>S[right]，假如条件不成立\n",
    "            ## 无法判断left,right的移动方向，因为可能是left指向元素\n",
    "            ## 较小，也可能是right指向元素过大\n",
    "            while left < right:\n",
    "                ## 数组是排序的，如果S[left]+S[right] > S[i]\n",
    "                ## 那么left到right之间的元素都满足包含S[right], S[i]变长的三角形条件\n",
    "                if S[left] + S[right] > S[i]:\n",
    "                    ans += right - left\n",
    "                    right -= 1\n",
    "                    continue\n",
    "                left += 1\n",
    "                        \n",
    "        return ans\n",
    "    "
   ]
  },
  {
   "cell_type": "code",
   "execution_count": 12,
   "metadata": {},
   "outputs": [
    {
     "name": "stdout",
     "output_type": "stream",
     "text": [
      "0\n"
     ]
    }
   ],
   "source": [
    "solution = Solution()\n",
    "S = [-3, -3, -3]\n",
    "print(solution.triangleCount(S))"
   ]
  },
  {
   "cell_type": "code",
   "execution_count": 10,
   "metadata": {},
   "outputs": [
    {
     "data": {
      "text/plain": [
       "True"
      ]
     },
     "execution_count": 10,
     "metadata": {},
     "output_type": "execute_result"
    }
   ],
   "source": [
    "tmp = {7: 0}\n",
    "7 in tmp.keys()"
   ]
  },
  {
   "cell_type": "code",
   "execution_count": null,
   "metadata": {},
   "outputs": [],
   "source": []
  }
 ],
 "metadata": {
  "kernelspec": {
   "display_name": "Python 3",
   "language": "python",
   "name": "python3"
  },
  "language_info": {
   "codemirror_mode": {
    "name": "ipython",
    "version": 3
   },
   "file_extension": ".py",
   "mimetype": "text/x-python",
   "name": "python",
   "nbconvert_exporter": "python",
   "pygments_lexer": "ipython3",
   "version": "3.7.1"
  }
 },
 "nbformat": 4,
 "nbformat_minor": 2
}
