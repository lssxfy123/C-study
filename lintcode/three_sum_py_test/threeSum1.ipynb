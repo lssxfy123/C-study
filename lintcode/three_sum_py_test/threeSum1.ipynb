{
 "cells": [
  {
   "cell_type": "code",
   "execution_count": 1,
   "metadata": {},
   "outputs": [],
   "source": [
    "# Copyright(C) 2021 刘珅珅\n",
    "# Environment: python 3.7\n",
    "# Date: 2021.2.9\n",
    "# 三数之和：lintcode 918"
   ]
  },
  {
   "cell_type": "code",
   "execution_count": 7,
   "metadata": {},
   "outputs": [],
   "source": [
    "class Solution:\n",
    "    \"\"\"\n",
    "    @param nums:  an array of n integers\n",
    "    @param target: a target\n",
    "    @return: the number of index triplets satisfy the condition nums[i] + nums[j] + nums[k] < target\n",
    "    \"\"\"\n",
    "    def threeSumSmaller(self, nums, target):\n",
    "        # Write your code here\n",
    "        if not nums or len(nums) < 3:\n",
    "            return 0\n",
    "        \n",
    "        ans = 0\n",
    "        nums.sort()\n",
    "        for i in range(len(nums)):\n",
    "            ## 由于是要求所有满足条件的3个元素对的个数，即使数据重复，只要下标不同也行\n",
    "            ## 所以不像lintcode 57那样需要排除掉相邻的相同元素\n",
    "            target_diff = target - nums[i]\n",
    "            ans += self.findTwoSums(i + 1, len(nums) - 1, nums, target_diff)\n",
    "        return ans\n",
    "    \n",
    "    def findTwoSums(self, left, right, numbers, target):\n",
    "        ans = 0\n",
    "        while left < right:\n",
    "            two_sum = numbers[left] + numbers[right]\n",
    "            if two_sum < target:\n",
    "                ans += right - left\n",
    "                left += 1\n",
    "            else:\n",
    "                right -= 1\n",
    "        return ans\n",
    "\n",
    "    "
   ]
  },
  {
   "cell_type": "code",
   "execution_count": 9,
   "metadata": {},
   "outputs": [
    {
     "name": "stdout",
     "output_type": "stream",
     "text": [
      "3\n"
     ]
    }
   ],
   "source": [
    "solution = Solution()\n",
    "print(solution.threeSumSmaller([-2,0,-1,3], 2))"
   ]
  },
  {
   "cell_type": "code",
   "execution_count": 10,
   "metadata": {},
   "outputs": [
    {
     "data": {
      "text/plain": [
       "True"
      ]
     },
     "execution_count": 10,
     "metadata": {},
     "output_type": "execute_result"
    }
   ],
   "source": [
    "tmp = {7: 0}\n",
    "7 in tmp.keys()"
   ]
  },
  {
   "cell_type": "code",
   "execution_count": null,
   "metadata": {},
   "outputs": [],
   "source": []
  }
 ],
 "metadata": {
  "kernelspec": {
   "display_name": "Python 3",
   "language": "python",
   "name": "python3"
  },
  "language_info": {
   "codemirror_mode": {
    "name": "ipython",
    "version": 3
   },
   "file_extension": ".py",
   "mimetype": "text/x-python",
   "name": "python",
   "nbconvert_exporter": "python",
   "pygments_lexer": "ipython3",
   "version": "3.7.1"
  }
 },
 "nbformat": 4,
 "nbformat_minor": 2
}
