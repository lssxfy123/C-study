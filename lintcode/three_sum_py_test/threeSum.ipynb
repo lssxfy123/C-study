{
 "cells": [
  {
   "cell_type": "code",
   "execution_count": 1,
   "metadata": {},
   "outputs": [],
   "source": [
    "# Copyright(C) 2021 刘珅珅\n",
    "# Environment: python 3.7\n",
    "# Date: 2021.2.9\n",
    "# 三数之和：lintcode 57"
   ]
  },
  {
   "cell_type": "code",
   "execution_count": 24,
   "metadata": {},
   "outputs": [],
   "source": [
    "class Solution:\n",
    "    \"\"\"\n",
    "    @param numbers: Give an array numbers of n integer\n",
    "    @return: Find all unique triplets in the array which gives the sum of zero.\n",
    "    \"\"\"\n",
    "    def threeSum(self, numbers):\n",
    "        # write your code here\n",
    "        results = []\n",
    "        if not numbers or len(numbers) < 3:\n",
    "            return []\n",
    "        ## 时间复杂度O(nlogn)\n",
    "        numbers.sort()\n",
    "\n",
    "        ## 将三数之和分解为两数之和进行求解\n",
    "        for i in range(len(numbers)):\n",
    "            if i > 0 and numbers[i] == numbers[i - 1]:\n",
    "                continue\n",
    "            target = -numbers[i]\n",
    "            self.findTwoSums(i + 1, len(numbers) - 1, numbers, target, results)\n",
    "        \n",
    "        return results\n",
    "    \n",
    "    def findTwoSums(self, left, right, numbers, target, results):\n",
    "        last_pair = None\n",
    "        while left < right:\n",
    "            two_sum = numbers[left] + numbers[right]\n",
    "            if two_sum == target:\n",
    "                if (numbers[left], numbers[right]) != last_pair:\n",
    "                    results.append([-target, numbers[left], numbers[right]])\n",
    "                last_pair = (numbers[left], numbers[right])\n",
    "                left += 1\n",
    "                right -= 1\n",
    "                continue\n",
    "            \n",
    "            if two_sum < target:\n",
    "                left += 1\n",
    "            else:\n",
    "                right -= 1\n",
    "            \n",
    "            \n",
    "                    \n",
    "        \n",
    "    "
   ]
  },
  {
   "cell_type": "code",
   "execution_count": 25,
   "metadata": {},
   "outputs": [
    {
     "name": "stdout",
     "output_type": "stream",
     "text": [
      "[[-1, 0, 1]]\n"
     ]
    }
   ],
   "source": [
    "solution = Solution()\n",
    "print(solution.threeSum([1,0,-1,-1,-1,-1,0,1,1,1]))"
   ]
  },
  {
   "cell_type": "code",
   "execution_count": 10,
   "metadata": {},
   "outputs": [
    {
     "data": {
      "text/plain": [
       "True"
      ]
     },
     "execution_count": 10,
     "metadata": {},
     "output_type": "execute_result"
    }
   ],
   "source": [
    "tmp = {7: 0}\n",
    "7 in tmp.keys()"
   ]
  },
  {
   "cell_type": "code",
   "execution_count": null,
   "metadata": {},
   "outputs": [],
   "source": []
  }
 ],
 "metadata": {
  "kernelspec": {
   "display_name": "Python 3",
   "language": "python",
   "name": "python3"
  },
  "language_info": {
   "codemirror_mode": {
    "name": "ipython",
    "version": 3
   },
   "file_extension": ".py",
   "mimetype": "text/x-python",
   "name": "python",
   "nbconvert_exporter": "python",
   "pygments_lexer": "ipython3",
   "version": "3.7.1"
  }
 },
 "nbformat": 4,
 "nbformat_minor": 2
}
