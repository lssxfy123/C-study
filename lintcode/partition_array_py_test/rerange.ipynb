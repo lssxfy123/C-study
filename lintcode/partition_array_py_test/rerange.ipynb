{
 "cells": [
  {
   "cell_type": "code",
   "execution_count": 2,
   "metadata": {},
   "outputs": [],
   "source": [
    "# Copyright(C) 2021 刘珅珅\n",
    "# Environment: python 3.7\n",
    "# Date: 2021.2.12\n",
    "# 交错正负数：lintcode 144"
   ]
  },
  {
   "cell_type": "code",
   "execution_count": 4,
   "metadata": {},
   "outputs": [],
   "source": [
    "class Solution:\n",
    "    \"\"\"\n",
    "    @param: A: An integer array.\n",
    "    @return: nothing\n",
    "    \"\"\"\n",
    "    def rerange(self, A):\n",
    "        # write your code here\n",
    "        if not A or len(A) == 0:\n",
    "            return\n",
    "        \n",
    "        ## 统计正负数的个数\n",
    "        ## 正数多就把正数放数组前面，负数多就把负数放数组前面\n",
    "        pos, neg = 0, 0\n",
    "        for number in A:\n",
    "            if number > 0:\n",
    "                pos += 1\n",
    "            else:\n",
    "                neg += 1\n",
    "        \n",
    "        if pos == 0 or neg == 0:\n",
    "            return\n",
    "        self.partition(A, pos > neg)\n",
    "        self.interleave(A, pos == neg)\n",
    "        \n",
    "    def partition(self, A, start_positive):\n",
    "        flag = 1 if start_positive else -1;\n",
    "        left = 0\n",
    "        right = len(A) - 1\n",
    "        while left <= right:\n",
    "            while left <= right and A[left] * flag > 0:\n",
    "                left += 1\n",
    "            \n",
    "            ## 不用考虑等于0的情况，数组A中没有0\n",
    "            while left <= right and A[right] * flag < 0:\n",
    "                right -= 1\n",
    "            \n",
    "            if left <= right:\n",
    "                A[left], A[right] = A[right], A[left]\n",
    "                left += 1\n",
    "                right -= 1\n",
    "    \n",
    "    def interleave(self, A, has_same_length):\n",
    "        ## 之前将较多的数放在了数组的前面\n",
    "        ## 所以A中的第1个数不需要交换\n",
    "        left = 1\n",
    "        right = len(A) - 1\n",
    "        if has_same_length:  ## 如果正负数个数相同，最后一个数也不需要交换\n",
    "            right = len(A) - 2\n",
    "        \n",
    "        while left < right:\n",
    "            A[left], A[right] = A[right], A[left]\n",
    "            left += 2  ## 交换完成后，下一个位置的数不需要在交换了，所以直接加2\n",
    "            right -= 2\n",
    "        \n",
    "        \n",
    "\n",
    "    "
   ]
  },
  {
   "cell_type": "code",
   "execution_count": 5,
   "metadata": {},
   "outputs": [
    {
     "name": "stdout",
     "output_type": "stream",
     "text": [
      "[-33, -19, -9, 26, 21, 30]\n"
     ]
    }
   ],
   "source": [
    "solution = Solution()\n",
    "A = [-33,-19,30,26,21,-9]\n",
    "solution.rerange(A)"
   ]
  },
  {
   "cell_type": "code",
   "execution_count": null,
   "metadata": {},
   "outputs": [],
   "source": []
  },
  {
   "cell_type": "code",
   "execution_count": null,
   "metadata": {},
   "outputs": [],
   "source": []
  }
 ],
 "metadata": {
  "kernelspec": {
   "display_name": "Python 3",
   "language": "python",
   "name": "python3"
  },
  "language_info": {
   "codemirror_mode": {
    "name": "ipython",
    "version": 3
   },
   "file_extension": ".py",
   "mimetype": "text/x-python",
   "name": "python",
   "nbconvert_exporter": "python",
   "pygments_lexer": "ipython3",
   "version": "3.7.1"
  }
 },
 "nbformat": 4,
 "nbformat_minor": 2
}
