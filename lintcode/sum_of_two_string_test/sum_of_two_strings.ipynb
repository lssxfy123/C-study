{
 "cells": [
  {
   "cell_type": "code",
   "execution_count": 1,
   "metadata": {},
   "outputs": [],
   "source": [
    "# Copyright(C) 2021 刘珅珅\n",
    "# Environment: python 3.7\n",
    "# Date: 2021.4.4\n",
    "# 两字符串和：lintcode 1343"
   ]
  },
  {
   "cell_type": "code",
   "execution_count": 8,
   "metadata": {},
   "outputs": [],
   "source": [
    "class Solution:\n",
    "    \"\"\"\n",
    "    @param A: a string\n",
    "    @param B: a string\n",
    "    @return: return the sum of two strings\n",
    "    \"\"\"\n",
    "    def SumofTwoStrings(self, A, B):\n",
    "        # write your code here\n",
    "        if not A or not B:\n",
    "            return A or B\n",
    "        \n",
    "        ## 从两个字符串右端对齐开始相加\n",
    "        n, m = len(A), len(B)\n",
    "        first, second = n - 1, m - 1\n",
    "        \n",
    "        result = []\n",
    "        while first >= 0 and second >= 0:\n",
    "            result.append(self.string_add(A[first], B[second]))\n",
    "            first -= 1\n",
    "            second -= 1\n",
    "        \n",
    "        ## 从后往前计算相加和，需要反转\n",
    "        result.reverse()\n",
    "        result = ''.join(result)\n",
    "        if first >= 0:\n",
    "            result = A[0 : first + 1] + result\n",
    "        \n",
    "        if second >= 0:\n",
    "            result = B[0 : second + 1] + result\n",
    "        return result\n",
    "        \n",
    "    \n",
    "    def string_add(self, str1, str2):\n",
    "        num1 = int(str1)\n",
    "        num2 = int(str2)\n",
    "        return str(num1 + num2)\n",
    "\n",
    "        \n",
    "    "
   ]
  },
  {
   "cell_type": "code",
   "execution_count": 9,
   "metadata": {},
   "outputs": [
    {
     "name": "stdout",
     "output_type": "stream",
     "text": [
      "9 4\n",
      "9 1\n",
      "9 3\n",
      "1121013\n"
     ]
    }
   ],
   "source": [
    "solution = Solution()\n",
    "A = \"99\"\n",
    "B = \"111\"\n",
    "A = \"999\"\n",
    "B = \"1314\"\n",
    "print(solution.SumofTwoStrings(A, B))"
   ]
  },
  {
   "cell_type": "code",
   "execution_count": null,
   "metadata": {},
   "outputs": [],
   "source": []
  }
 ],
 "metadata": {
  "kernelspec": {
   "display_name": "Python 3",
   "language": "python",
   "name": "python3"
  },
  "language_info": {
   "codemirror_mode": {
    "name": "ipython",
    "version": 3
   },
   "file_extension": ".py",
   "mimetype": "text/x-python",
   "name": "python",
   "nbconvert_exporter": "python",
   "pygments_lexer": "ipython3",
   "version": "3.7.1"
  }
 },
 "nbformat": 4,
 "nbformat_minor": 2
}
