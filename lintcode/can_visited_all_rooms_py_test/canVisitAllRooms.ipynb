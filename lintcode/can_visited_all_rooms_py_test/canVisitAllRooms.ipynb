{
 "cells": [
  {
   "cell_type": "code",
   "execution_count": 1,
   "metadata": {},
   "outputs": [],
   "source": [
    "# Copyright(C) 2021 刘珅珅\n",
    "# Environment: python 3.7\n",
    "# Date: 2021.6.29\n",
    "# 钥匙和房间：lintcode 1428"
   ]
  },
  {
   "cell_type": "code",
   "execution_count": 15,
   "metadata": {},
   "outputs": [],
   "source": [
    "import collections\n",
    "\n",
    "class Solution:\n",
    "    \"\"\"\n",
    "    @param rooms: a list of keys rooms[i]\n",
    "    @return: can you enter every room\n",
    "    \"\"\"\n",
    "    def canVisitAllRooms(self, rooms):\n",
    "        # Write your code here\n",
    "        n = len(rooms)\n",
    "        queue = collections.deque([0])\n",
    "        visited = set([0])\n",
    "\n",
    "        while queue:\n",
    "            room_key = queue.popleft()\n",
    "            for next_room_key in rooms[room_key]:\n",
    "                if next_room_key in visited:\n",
    "                    continue\n",
    "                visited.add(next_room_key)\n",
    "                queue.append(next_room_key)\n",
    "        if len(visited) == n:\n",
    "            return True\n",
    "        return False\n",
    "        "
   ]
  },
  {
   "cell_type": "code",
   "execution_count": 16,
   "metadata": {},
   "outputs": [
    {
     "name": "stdout",
     "output_type": "stream",
     "text": [
      "False\n"
     ]
    }
   ],
   "source": [
    "solution = Solution()\n",
    "rooms = [[1],[2],[3],[]]\n",
    "rooms = [[1,3],[3,0,1],[2],[0]]\n",
    "print(solution.canVisitAllRooms(rooms))"
   ]
  },
  {
   "cell_type": "code",
   "execution_count": 3,
   "metadata": {},
   "outputs": [
    {
     "name": "stdout",
     "output_type": "stream",
     "text": [
      "deque([1])\n"
     ]
    }
   ],
   "source": [
    "\n",
    "rooms = [[1], [2], [3]]\n",
    "queue = collections.deque(rooms[0])\n",
    "print(queue)"
   ]
  },
  {
   "cell_type": "code",
   "execution_count": null,
   "metadata": {},
   "outputs": [],
   "source": []
  }
 ],
 "metadata": {
  "kernelspec": {
   "display_name": "Python 3",
   "language": "python",
   "name": "python3"
  },
  "language_info": {
   "codemirror_mode": {
    "name": "ipython",
    "version": 3
   },
   "file_extension": ".py",
   "mimetype": "text/x-python",
   "name": "python",
   "nbconvert_exporter": "python",
   "pygments_lexer": "ipython3",
   "version": "3.7.1"
  }
 },
 "nbformat": 4,
 "nbformat_minor": 2
}
