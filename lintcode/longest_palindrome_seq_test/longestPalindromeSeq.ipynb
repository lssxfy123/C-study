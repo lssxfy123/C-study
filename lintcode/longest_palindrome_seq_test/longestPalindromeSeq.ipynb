{
 "cells": [
  {
   "cell_type": "code",
   "execution_count": 1,
   "metadata": {},
   "outputs": [],
   "source": [
    "# Copyright(C) 2021 刘珅珅\n",
    "# Environment: python 3.7\n",
    "# Date: 2021.1.31\n",
    "# 最长回文子序列：lintcode 667"
   ]
  },
  {
   "cell_type": "code",
   "execution_count": 5,
   "metadata": {},
   "outputs": [],
   "source": [
    "## n^2的时间复杂度\n",
    "## 动态规划\n",
    "class Solution:\n",
    "    \"\"\"\n",
    "    @param s: input string\n",
    "    @return: a string as the longest palindromic substring\n",
    "    \"\"\"\n",
    "    def longestPalindromeSubseq(self, s):\n",
    "        # write your code here\n",
    "        if not s:\n",
    "            return 0\n",
    "        \n",
    "        s_length = len(s)\n",
    "        ## palindrome_seq_length_array[i][j]表示字符串从i到j的子串中回文序列的长度\n",
    "        palindrome_seq_length_array = [[0] * s_length for _ in range(s_length)]\n",
    "        ## 长度为1的子串回文序列都为1\n",
    "        for i in range(s_length):\n",
    "            palindrome_seq_length_array[i][i] = 1\n",
    "        \n",
    "        ## 子串的遍历长度从小到大，较长的子串的回文序列长度是根据较短的子串计算出来的\n",
    "        for length in range(2, s_length + 1):\n",
    "            for i in range(s_length - length + 1):\n",
    "                j = length + i - 1\n",
    "                \n",
    "                ## 状态转移方程：如果s[i]==s[j]，则i到j的回文序列相当于i+1到j-1的子串的回文序列在两端加上s[i]和s[j]\n",
    "                ## 所以长度+2\n",
    "                ## 如果s[i]!=s[j]，则表示i到j的回文序列肯定不会同时包含s[i]和s[j]，则其长度就是选择s[i]的从i到j-1的\n",
    "                ## 回文序列长度和选择s[j]的从i+1到j的回文序列长度中较大的值\n",
    "                if s[i] == s[j]:\n",
    "                    palindrome_seq_length_array[i][j] = palindrome_seq_length_array[i + 1][j - 1] + 2\n",
    "                    continue\n",
    "                palindrome_seq_length_array[i][j] = max(palindrome_seq_length_array[i][j - 1], palindrome_seq_length_array[i + 1][j])\n",
    "        return palindrome_seq_length_array[0][s_length - 1]\n",
    "    "
   ]
  },
  {
   "cell_type": "code",
   "execution_count": 9,
   "metadata": {},
   "outputs": [
    {
     "name": "stdout",
     "output_type": "stream",
     "text": [
      "4\n"
     ]
    }
   ],
   "source": [
    "solution = Solution()\n",
    "print(solution.longestPalindromeSubseq(\"bbbab\"))"
   ]
  },
  {
   "cell_type": "code",
   "execution_count": null,
   "metadata": {},
   "outputs": [],
   "source": []
  }
 ],
 "metadata": {
  "kernelspec": {
   "display_name": "Python 3",
   "language": "python",
   "name": "python3"
  },
  "language_info": {
   "codemirror_mode": {
    "name": "ipython",
    "version": 3
   },
   "file_extension": ".py",
   "mimetype": "text/x-python",
   "name": "python",
   "nbconvert_exporter": "python",
   "pygments_lexer": "ipython3",
   "version": "3.7.1"
  }
 },
 "nbformat": 4,
 "nbformat_minor": 2
}
