{
 "cells": [
  {
   "cell_type": "code",
   "execution_count": 1,
   "metadata": {},
   "outputs": [],
   "source": [
    "# Copyright(C) 2021 刘珅珅\n",
    "# Environment: python 3.7\n",
    "# Date: 2021.1.31\n",
    "# 最长回文子序列：lintcode 667"
   ]
  },
  {
   "cell_type": "code",
   "execution_count": 15,
   "metadata": {},
   "outputs": [],
   "source": [
    "## n^2的时间复杂度\n",
    "## 中心点枚举的优化\n",
    "## 代码更为简练\n",
    "class Solution:\n",
    "    \"\"\"\n",
    "    @param s: input string\n",
    "    @return: a string as the longest palindromic substring\n",
    "    \"\"\"\n",
    "    def longestPalindromeSubseq(self, s):\n",
    "        # write your code here\n",
    "        if not s or len(s) <= 1:\n",
    "            return s\n",
    "        length = len(s)\n",
    "        ## 以字符串中每个元素为中心点，查找其所在的最大回文串\n",
    "        ## 分两种情况：偶数长度回文串和奇数长度回文串\n",
    "        palindrome_seq_length = 0\n",
    "        for mid in range(length):\n",
    "            palindrome_length_left = max(palindrome_length_left, self.get_palindrome_from_s(s, mid, mid))\n",
    "            palindrome_length_left = max(palindrome_length_left, self.get_palindrome_from_s(s, mid, mid + 1))\n",
    "        result = s[palindrome_length_left[1]:palindrome_length_left[1] + palindrome_length_left[0]]\n",
    "        return result\n",
    "    \n",
    "    ## 获取字符串s中以left和right为中心点的最长回文串\n",
    "    ## 如果left==right，查找出来的奇数长度的回文串\n",
    "    ## 如果right==left+1，查找出来的是偶数长度的回文串\n",
    "    ## 返回最长回文串的长度,左边界\n",
    "    def get_palindrome_seq_length_from_s(self, s, left, right):\n",
    "        length = len(s)\n",
    "        result = 0\n",
    "        while left >= 0 and right < length:\n",
    "            if s[left] == s[right]:\n",
    "                result += 2\n",
    "            left -= 1\n",
    "            right += 1\n",
    "        return result"
   ]
  },
  {
   "cell_type": "code",
   "execution_count": 17,
   "metadata": {},
   "outputs": [
    {
     "name": "stdout",
     "output_type": "stream",
     "text": [
      "a\n"
     ]
    }
   ],
   "source": [
    "solution = Solution()\n",
    "print(solution.longestPalindrome(\"a\"))"
   ]
  },
  {
   "cell_type": "code",
   "execution_count": null,
   "metadata": {},
   "outputs": [],
   "source": []
  }
 ],
 "metadata": {
  "kernelspec": {
   "display_name": "Python 3",
   "language": "python",
   "name": "python3"
  },
  "language_info": {
   "codemirror_mode": {
    "name": "ipython",
    "version": 3
   },
   "file_extension": ".py",
   "mimetype": "text/x-python",
   "name": "python",
   "nbconvert_exporter": "python",
   "pygments_lexer": "ipython3",
   "version": "3.7.1"
  }
 },
 "nbformat": 4,
 "nbformat_minor": 2
}
