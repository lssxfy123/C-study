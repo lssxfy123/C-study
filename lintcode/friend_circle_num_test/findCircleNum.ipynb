{
 "cells": [
  {
   "cell_type": "code",
   "execution_count": 3,
   "metadata": {},
   "outputs": [],
   "source": [
    "# Copyright(C) 2021 刘珅珅\n",
    "# Environment: python 3.7\n",
    "# Date: 2021.2.27\n",
    "# 朋友圈：lintcode 1179\n",
    "import collections"
   ]
  },
  {
   "cell_type": "code",
   "execution_count": 4,
   "metadata": {},
   "outputs": [],
   "source": [
    "class Solution:\n",
    "    \"\"\"\n",
    "    @param M: a matrix\n",
    "    @return: the total number of friend circles among all the students\n",
    "    \"\"\"\n",
    "    def findCircleNum(self, M):\n",
    "        # Write your code here\n",
    "        if not M:\n",
    "            return 0\n",
    "        \n",
    "        return self.bfs(M)\n",
    "        \n",
    "    ## bfs搜索，遍历每个朋友，如果有没有访问过的，就以其为起点，找出所有的直接和间接朋友\n",
    "    \"\"\"\n",
    "    时间复杂度为O(n ^ 2)，尽管有3重循环，两重for，一重while，但最内层的循环体最多会执行n^2次\n",
    "    这是九章算法中提到的如何计算时间复杂度\n",
    "    \"\"\"\n",
    "    def bfs(self, M):\n",
    "        ## 初始化一个标记数组\n",
    "        ## key代码朋友索引，value代表是否已经被访问过\n",
    "        visited = {i : False for i in range(len(M))}\n",
    "        ans = 0\n",
    "        for i in range(len(M)):\n",
    "            if not visited[i]:  ## 如果第i个朋友没有访问过，则肯定会增加一个朋友圈\n",
    "                ans += 1\n",
    "            \n",
    "            visited[i] = True  ## 标记第i个朋友访问过\n",
    "            queue = collections.deque()\n",
    "            queue.append(i)\n",
    "            while queue:\n",
    "                now = queue.popleft()\n",
    "                for j in range(len(M)):\n",
    "                    ## 如果发现和now是朋友的人，并且之前没有访问过，也要将其压入队列中\n",
    "                    if M[now][j] == 1 and not visited[j]:\n",
    "                        visited[j] = True\n",
    "                        queue.append(j)\n",
    "        return ans\n",
    "            \n",
    "        "
   ]
  },
  {
   "cell_type": "code",
   "execution_count": 5,
   "metadata": {},
   "outputs": [
    {
     "name": "stdout",
     "output_type": "stream",
     "text": [
      "2\n"
     ]
    }
   ],
   "source": [
    "solution = Solution()\n",
    "M = [[1,1,0],[1,1,0],[0,0,1]]\n",
    "print(solution.findCircleNum(M))"
   ]
  },
  {
   "cell_type": "code",
   "execution_count": null,
   "metadata": {},
   "outputs": [],
   "source": []
  }
 ],
 "metadata": {
  "kernelspec": {
   "display_name": "Python 3",
   "language": "python",
   "name": "python3"
  },
  "language_info": {
   "codemirror_mode": {
    "name": "ipython",
    "version": 3
   },
   "file_extension": ".py",
   "mimetype": "text/x-python",
   "name": "python",
   "nbconvert_exporter": "python",
   "pygments_lexer": "ipython3",
   "version": "3.7.1"
  }
 },
 "nbformat": 4,
 "nbformat_minor": 2
}
