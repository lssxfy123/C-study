{
 "cells": [
  {
   "cell_type": "code",
   "execution_count": 1,
   "metadata": {},
   "outputs": [],
   "source": [
    "# Copyright(C) 2021 刘珅珅\n",
    "# Environment: python 3.7\n",
    "# Date: 2021.4.25\n",
    "# 迷你推特：lintcode 501"
   ]
  },
  {
   "cell_type": "code",
   "execution_count": 24,
   "metadata": {},
   "outputs": [],
   "source": [
    "class MiniTwitter:\n",
    "    \n",
    "    def __init__(self):\n",
    "        # do intialization if necessary\n",
    "\n",
    "    \"\"\"\n",
    "    @param: user_id: An integer\n",
    "    @param: tweet_text: a string\n",
    "    @return: a tweet\n",
    "    \"\"\"\n",
    "    def postTweet(self, user_id, tweet_text):\n",
    "        # write your code here\n",
    "\n",
    "    \"\"\"\n",
    "    @param: user_id: An integer\n",
    "    @return: a list of 10 new feeds recently and sort by timeline\n",
    "    \"\"\"\n",
    "    def getNewsFeed(self, user_id):\n",
    "        # write your code here\n",
    "\n",
    "    \"\"\"\n",
    "    @param: user_id: An integer\n",
    "    @return: a list of 10 new posts recently and sort by timeline\n",
    "    \"\"\"\n",
    "    def getTimeline(self, user_id):\n",
    "        # write your code here\n",
    "\n",
    "    \"\"\"\n",
    "    @param: from_user_id: An integer\n",
    "    @param: to_user_id: An integer\n",
    "    @return: nothing\n",
    "    \"\"\"\n",
    "    def follow(self, from_user_id, to_user_id):\n",
    "        # write your code here\n",
    "\n",
    "    \"\"\"\n",
    "    @param: from_user_id: An integer\n",
    "    @param: to_user_id: An integer\n",
    "    @return: nothing\n",
    "    \"\"\"\n",
    "    def unfollow(self, from_user_id, to_user_id):\n",
    "        # write your code here"
   ]
  },
  {
   "cell_type": "code",
   "execution_count": 25,
   "metadata": {},
   "outputs": [
    {
     "name": "stdout",
     "output_type": "stream",
     "text": [
      "[[-1, 0, 1]]\n"
     ]
    }
   ],
   "source": [
    "solution = Solution()\n",
    "print(solution.threeSum([1,0,-1,-1,-1,-1,0,1,1,1]))"
   ]
  },
  {
   "cell_type": "code",
   "execution_count": 10,
   "metadata": {},
   "outputs": [
    {
     "data": {
      "text/plain": [
       "True"
      ]
     },
     "execution_count": 10,
     "metadata": {},
     "output_type": "execute_result"
    }
   ],
   "source": [
    "tmp = {7: 0}\n",
    "7 in tmp.keys()"
   ]
  },
  {
   "cell_type": "code",
   "execution_count": null,
   "metadata": {},
   "outputs": [],
   "source": []
  }
 ],
 "metadata": {
  "kernelspec": {
   "display_name": "Python 3",
   "language": "python",
   "name": "python3"
  },
  "language_info": {
   "codemirror_mode": {
    "name": "ipython",
    "version": 3
   },
   "file_extension": ".py",
   "mimetype": "text/x-python",
   "name": "python",
   "nbconvert_exporter": "python",
   "pygments_lexer": "ipython3",
   "version": "3.7.1"
  }
 },
 "nbformat": 4,
 "nbformat_minor": 2
}
