{
 "cells": [
  {
   "cell_type": "code",
   "execution_count": 1,
   "metadata": {},
   "outputs": [],
   "source": [
    "# Copyright(C) 2021 刘珅珅\n",
    "# Environment: python 3.7\n",
    "# Date: 2021.4.25\n",
    "# 迷你推特：lintcode 501"
   ]
  },
  {
   "cell_type": "code",
   "execution_count": 8,
   "metadata": {},
   "outputs": [],
   "source": [
    "import heapq\n",
    "\n",
    "class Tmp:\n",
    "    def __init__(self, order, tweet):\n",
    "        self.order = order\n",
    "        self.tweet = tweet\n",
    "    \n",
    "    def __lt__(self, other):\n",
    "        if self.order > other.order:\n",
    "            return True\n",
    "        return False\n",
    "\n",
    "class MiniTwitter:\n",
    "    \n",
    "    def __init__(self):\n",
    "        # do intialization if necessary\n",
    "        self.order = 0\n",
    "        \n",
    "        ## 存储用户的tweet\n",
    "        self.user_tweets = {}\n",
    "        \n",
    "        ## 存储朋友关系\n",
    "        self.friends = {}\n",
    "\n",
    "    \"\"\"\n",
    "    @param: user_id: An integer\n",
    "    @param: tweet_text: a string\n",
    "    @return: a tweet\n",
    "    \"\"\"\n",
    "    def postTweet(self, user_id, tweet_text):\n",
    "        # write your code here\n",
    "        tweet = Tweet.create(user_id, tweet_text)\n",
    "        self.order += 1\n",
    "        if user_id in self.user_tweets:\n",
    "            self.user_tweets[user_id].append((self.order, tweet))\n",
    "        else:\n",
    "            self.user_tweets[user_id] = [(self.order, tweet)]\n",
    "        return tweet\n",
    "\n",
    "    \"\"\"\n",
    "    @param: user_id: An integer\n",
    "    @return: a list of 10 new feeds recently and sort by timeline\n",
    "    \"\"\"\n",
    "    def getNewsFeed(self, user_id):\n",
    "        # write your code here\n",
    "        ## 把自己的10条tweet和follow的朋友的10条tweet都取出来\n",
    "        arrays = []\n",
    "        if user_id in self.user_tweets:\n",
    "            arrays.append(self.user_tweets[user_id][-10:][::-1])\n",
    "        \n",
    "        if user_id in self.friends:\n",
    "            for friend_id in self.friends[user_id]:\n",
    "                if friend_id in self.user_tweets:\n",
    "                    arrays.append(self.user_tweets[friend_id][-10:][::-1])\n",
    "        tweets = self.merge_sorted_array(arrays)\n",
    "        return [tweet for tweet in tweets[0:10]]\n",
    "    \n",
    "    ## K路归并排序\n",
    "    def merge_sorted_array(self, arrays):\n",
    "        result = []\n",
    "        max_heap = []\n",
    "        for index, array in enumerate(arrays):\n",
    "            heapq.heappush(max_heap, (Tmp(array[0][0], array[0][1]), index, 0))\n",
    "        \n",
    "        while max_heap:\n",
    "            tmp, index, val_index = heapq.heappop(max_heap)\n",
    "            result.append(tmp.tweet)\n",
    "            if val_index + 1 < len(arrays[index]) :\n",
    "                heapq.heappush(max_heap, (Tmp(arrays[index][val_index + 1][0], arrays[index][val_index + 1][1]) , index, val_index + 1))\n",
    "        return result\n",
    "    \n",
    "\n",
    "    \"\"\"\n",
    "    @param: user_id: An integer\n",
    "    @return: a list of 10 new posts recently and sort by timeline\n",
    "    \"\"\"\n",
    "    def getTimeline(self, user_id):\n",
    "        # write your code here\n",
    "        if user_id in self.user_tweets:\n",
    "            ## user_tweets中每个用户发布的tweets列表中，越新的tweet在列表中越靠后\n",
    "            ## python中的写法[-10:]表示取列表的最后10个元素，如果列表长度小于10，则取所有元素\n",
    "            tweets = self.user_tweets[user_id][-10:]\n",
    "            ## 从末尾开始取值\n",
    "            return [tweet[1] for tweet in tweets[::-1]]\n",
    "        return []\n",
    "\n",
    "    \"\"\"\n",
    "    @param: from_user_id: An integer\n",
    "    @param: to_user_id: An integer\n",
    "    @return: nothing\n",
    "    \"\"\"\n",
    "    def follow(self, from_user_id, to_user_id):\n",
    "        # write your code here\n",
    "        ## 使用哈希表，这样follow和unfollow都可以是O(1)的时间\n",
    "        if from_user_id not in self.friends:\n",
    "            self.friends[from_user_id] = set()\n",
    "        self.friends[from_user_id].add(to_user_id)\n",
    "\n",
    "    \"\"\"\n",
    "    @param: from_user_id: An integer\n",
    "    @param: to_user_id: An integer\n",
    "    @return: nothing\n",
    "    \"\"\"\n",
    "    def unfollow(self, from_user_id, to_user_id):\n",
    "        # write your code here\n",
    "        if from_user_id in self.friends:\n",
    "            self.friends[from_user_id].remove(to_user_id)"
   ]
  },
  {
   "cell_type": "code",
   "execution_count": 9,
   "metadata": {},
   "outputs": [],
   "source": [
    "mini_tweeter = MiniTwitter()"
   ]
  },
  {
   "cell_type": "code",
   "execution_count": 11,
   "metadata": {},
   "outputs": [
    {
     "data": {
      "text/plain": [
       "[1, 2, 3]"
      ]
     },
     "execution_count": 11,
     "metadata": {},
     "output_type": "execute_result"
    }
   ],
   "source": [
    "a = [1, 2, 3]\n",
    "a[0:10]"
   ]
  },
  {
   "cell_type": "code",
   "execution_count": null,
   "metadata": {},
   "outputs": [],
   "source": []
  }
 ],
 "metadata": {
  "kernelspec": {
   "display_name": "Python 3",
   "language": "python",
   "name": "python3"
  },
  "language_info": {
   "codemirror_mode": {
    "name": "ipython",
    "version": 3
   },
   "file_extension": ".py",
   "mimetype": "text/x-python",
   "name": "python",
   "nbconvert_exporter": "python",
   "pygments_lexer": "ipython3",
   "version": "3.7.1"
  }
 },
 "nbformat": 4,
 "nbformat_minor": 2
}
