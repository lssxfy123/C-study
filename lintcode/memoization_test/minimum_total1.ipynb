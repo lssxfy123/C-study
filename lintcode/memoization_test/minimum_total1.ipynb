{
 "cells": [
  {
   "cell_type": "code",
   "execution_count": 1,
   "metadata": {},
   "outputs": [],
   "source": [
    "# Copyright(C) 2021 刘珅珅\n",
    "# Environment: python 3.7\n",
    "# Date: 2021.3.14\n",
    "# 数字三角形：lintcode 109"
   ]
  },
  {
   "cell_type": "code",
   "execution_count": 5,
   "metadata": {},
   "outputs": [],
   "source": [
    "class Solution:\n",
    "    \"\"\"\n",
    "    @param triangle: a list of lists of integers\n",
    "    @return: An integer, minimum path sum\n",
    "    \"\"\"\n",
    "    def minimumTotal(self, triangle):\n",
    "        # write your code here\n",
    "        \n",
    "        return self.divide_conquer(0, 0, triangle, {})\n",
    "    \n",
    "    ## 这个递归函数定义的是从点(x, y)出发，走到最底层的最短路径和\n",
    "    ## 例如从(0,0)出发，会有(1,0)和(1,1)两个选择，而从(1,0)开始，会有(2,0)和(2,1)，\n",
    "    ## 从(1,1)出发会有(2,1)和(2,2)，可以看出两边都会计算从(2,1)开始的路径和，这样就会\n",
    "    ## 造成重复计算，所以需要把之前计算过的(x,y)进行存储\n",
    "    def divide_conquer(self, x, y,triangle, memorization):\n",
    "        ## x等于len(triangle)，表明x已越界，已经无路可走，路径和为0\n",
    "        if x == len(triangle):\n",
    "            return 0\n",
    "        \n",
    "        ## 如果以(x,y)为起始点的路径已经计算过，就不再计算\n",
    "        if (x, y) in memorization:\n",
    "            return memorization[(x, y)]\n",
    "        \n",
    "        left_sum = self.divide_conquer(x + 1, y, triangle, memorization)\n",
    "        right_sum = self.divide_conquer(x + 1, y + 1, triangle, memorization)\n",
    "        memorization[(x, y)]= min(left_sum, right_sum) + triangle[x][y]\n",
    "        return memorization[(x, y)]\n",
    "\n"
   ]
  },
  {
   "cell_type": "code",
   "execution_count": 6,
   "metadata": {},
   "outputs": [
    {
     "name": "stdout",
     "output_type": "stream",
     "text": [
      "11\n"
     ]
    }
   ],
   "source": [
    "solution = Solution()\n",
    "triangle = [[2],[3,4],[6,5,7],[4,1,8,3]]\n",
    "print(solution.minimumTotal(triangle))"
   ]
  },
  {
   "cell_type": "code",
   "execution_count": null,
   "metadata": {},
   "outputs": [],
   "source": []
  }
 ],
 "metadata": {
  "kernelspec": {
   "display_name": "Python 3",
   "language": "python",
   "name": "python3"
  },
  "language_info": {
   "codemirror_mode": {
    "name": "ipython",
    "version": 3
   },
   "file_extension": ".py",
   "mimetype": "text/x-python",
   "name": "python",
   "nbconvert_exporter": "python",
   "pygments_lexer": "ipython3",
   "version": "3.7.1"
  }
 },
 "nbformat": 4,
 "nbformat_minor": 2
}
