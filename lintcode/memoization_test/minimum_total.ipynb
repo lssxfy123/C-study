{
 "cells": [
  {
   "cell_type": "code",
   "execution_count": 1,
   "metadata": {},
   "outputs": [],
   "source": [
    "# Copyright(C) 2021 刘珅珅\n",
    "# Environment: python 3.7\n",
    "# Date: 2021.3.14\n",
    "# 数字三角形：lintcode 109"
   ]
  },
  {
   "cell_type": "code",
   "execution_count": 1,
   "metadata": {},
   "outputs": [],
   "source": [
    "## 无法在lintcode上通过\n",
    "class Solution:\n",
    "    \"\"\"\n",
    "    @param triangle: a list of lists of integers\n",
    "    @return: An integer, minimum path sum\n",
    "    \"\"\"\n",
    "    def minimumTotal(self, triangle):\n",
    "        # write your code here\n",
    "        return self.divide_conquer(0, 0, triangle)\n",
    "    \n",
    "    ## 从点(x, y)出发，按照数字三角形的构成，总共有两条路径可选\n",
    "    ## (x + 1, y)和(x + 1, y + 1)，分别计算这两条路径的和，然后\n",
    "    ## 进行归并，选择较小的一条路径，这个函数的返回值是以(x,y)开始\n",
    "    ## 的最短路径和\n",
    "    ## 时间复杂度是O(2 ^ n)，其中n为数字三角形的层数\n",
    "    ## 在lintcode上无法通过\n",
    "    def divide_conquer(self, x, y,triangle):\n",
    "        ## x等于len(triangle)，表明x已越界，已经无路可走，路径和为0\n",
    "        if x == len(triangle):\n",
    "            return 0\n",
    "        \n",
    "        left_sum = self.divide_conquer(x + 1, y, triangle)\n",
    "        right_sum = self.divide_conquer(x + 1, y + 1, triangle)\n",
    "        return min(left_sum, right_sum) + triangle[x][y]\n",
    "\n"
   ]
  },
  {
   "cell_type": "code",
   "execution_count": 3,
   "metadata": {},
   "outputs": [
    {
     "name": "stdout",
     "output_type": "stream",
     "text": [
      "11\n"
     ]
    }
   ],
   "source": [
    "solution = Solution()\n",
    "triangle = [[2],[3,4],[6,5,7],[4,1,8,3]]\n",
    "print(solution.minimumTotal(triangle))"
   ]
  },
  {
   "cell_type": "code",
   "execution_count": null,
   "metadata": {},
   "outputs": [],
   "source": []
  }
 ],
 "metadata": {
  "kernelspec": {
   "display_name": "Python 3",
   "language": "python",
   "name": "python3"
  },
  "language_info": {
   "codemirror_mode": {
    "name": "ipython",
    "version": 3
   },
   "file_extension": ".py",
   "mimetype": "text/x-python",
   "name": "python",
   "nbconvert_exporter": "python",
   "pygments_lexer": "ipython3",
   "version": "3.7.1"
  }
 },
 "nbformat": 4,
 "nbformat_minor": 2
}
