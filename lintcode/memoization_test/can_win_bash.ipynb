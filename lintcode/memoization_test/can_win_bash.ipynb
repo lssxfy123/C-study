{
 "cells": [
  {
   "cell_type": "code",
   "execution_count": 1,
   "metadata": {},
   "outputs": [],
   "source": [
    "# Copyright(C) 2021 刘珅珅\n",
    "# Environment: python 3.7\n",
    "# Date: 2021.3.14\n",
    "# 巴什博弈：lintcode 1300"
   ]
  },
  {
   "cell_type": "code",
   "execution_count": 1,
   "metadata": {},
   "outputs": [],
   "source": [
    "class Solution:\n",
    "    \"\"\"\n",
    "    @param n: an integer\n",
    "    @return: whether you can win the game given the number of stones in the heap\n",
    "    \"\"\"\n",
    "    def canWinBash(self, n):\n",
    "        # write your code here\n",
    "        \n",
    "        return self.memo_search(n, {})\n",
    "    \n",
    "    ## 直接用记忆化搜索，会出现栈溢出的问题，因为递归深度太深\n",
    "    ## 时间复杂度为O(n)，递归栈的深度也是O(n)，正因为时间复杂度为O(n)，所以n可以取得比较大\n",
    "    ## 导致递归栈深度也太深\n",
    "    ## 如果时间复杂度是O(n^2)，递归栈深度为O(n)，反而溢出的可能性会变小，因为如果n较大，在递归栈溢出前，已经超时了\n",
    "    def memo_search(self, n, memoization):\n",
    "        if n <= 3:\n",
    "            return True\n",
    "        \n",
    "        if n in memoization:\n",
    "            return memoization[n]\n",
    "        \n",
    "        for i in range(1, 4):\n",
    "            ## 只要有一种情况满足先取i个后，剩下n-i一个无法再先手获胜(即你的朋友无法取胜)，则n个石头的先手肯定赢\n",
    "            if not self.memo_search(n - i, memoization):\n",
    "                memoization[n] = True\n",
    "                return True\n",
    "        memoization[n] = False\n",
    "        return False\n"
   ]
  },
  {
   "cell_type": "code",
   "execution_count": 4,
   "metadata": {},
   "outputs": [
    {
     "name": "stdout",
     "output_type": "stream",
     "text": [
      "True\n"
     ]
    }
   ],
   "source": [
    "solution = Solution()\n",
    "n = 10\n",
    "print(solution.canWinBash(n))"
   ]
  },
  {
   "cell_type": "code",
   "execution_count": null,
   "metadata": {},
   "outputs": [],
   "source": []
  }
 ],
 "metadata": {
  "kernelspec": {
   "display_name": "Python 3",
   "language": "python",
   "name": "python3"
  },
  "language_info": {
   "codemirror_mode": {
    "name": "ipython",
    "version": 3
   },
   "file_extension": ".py",
   "mimetype": "text/x-python",
   "name": "python",
   "nbconvert_exporter": "python",
   "pygments_lexer": "ipython3",
   "version": "3.7.1"
  }
 },
 "nbformat": 4,
 "nbformat_minor": 2
}
