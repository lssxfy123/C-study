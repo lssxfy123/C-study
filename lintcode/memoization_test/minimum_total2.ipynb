{
 "cells": [
  {
   "cell_type": "code",
   "execution_count": 1,
   "metadata": {},
   "outputs": [],
   "source": [
    "# Copyright(C) 2021 刘珅珅\n",
    "# Environment: python 3.7\n",
    "# Date: 2021.3.14\n",
    "# 数字三角形：lintcode 109"
   ]
  },
  {
   "cell_type": "code",
   "execution_count": 9,
   "metadata": {},
   "outputs": [],
   "source": [
    "## 自底向上的动态规划\n",
    "class Solution:\n",
    "    \"\"\"\n",
    "    @param triangle: a list of lists of integers\n",
    "    @return: An integer, minimum path sum\n",
    "    \"\"\"\n",
    "    ## 使用for循环递推的方式实现\n",
    "    def minimumTotal(self, triangle):\n",
    "        # write your code here\n",
    "        if not triangle or not triangle[0]:\n",
    "            return -1\n",
    "        ## dp[x][y]就是从(x,y)开始的路径和的最小值\n",
    "        ## 状态转移方程：dp[x][y] = min(dp[x + 1][y], dp[x + 1][y + 1]) + triangle[x][y]\n",
    "        dp = [[0] * (i + 1) for i in range(len(triangle))]\n",
    "        \n",
    "        ## 初始化最后一层\n",
    "        ## 数字三角形，最后一层的元素个数和数字三角形的层数是相同的\n",
    "        n = len(triangle)\n",
    "        ## 最后一层的dp值就是其元素本身\n",
    "        for i in range(n):\n",
    "            dp[n - 1][i] = triangle[n - 1][i]\n",
    "        \n",
    "        for x in range(len(triangle) - 2, -1, -1):\n",
    "            for y in range(x + 1):  ## x是从0开始，表示第x层，第x层总共应该有x+1个元素\n",
    "                dp[x][y] = min(dp[x + 1][y], dp[x + 1][y + 1]) + triangle[x][y]\n",
    "        \n",
    "        return dp[0][0]\n",
    "\n"
   ]
  },
  {
   "cell_type": "code",
   "execution_count": 10,
   "metadata": {},
   "outputs": [
    {
     "name": "stdout",
     "output_type": "stream",
     "text": [
      "11\n"
     ]
    }
   ],
   "source": [
    "solution = Solution()\n",
    "triangle = [[2],[3,4],[6,5,7],[4,1,8,3]]\n",
    "print(solution.minimumTotal(triangle))"
   ]
  },
  {
   "cell_type": "code",
   "execution_count": null,
   "metadata": {},
   "outputs": [],
   "source": []
  }
 ],
 "metadata": {
  "kernelspec": {
   "display_name": "Python 3",
   "language": "python",
   "name": "python3"
  },
  "language_info": {
   "codemirror_mode": {
    "name": "ipython",
    "version": 3
   },
   "file_extension": ".py",
   "mimetype": "text/x-python",
   "name": "python",
   "nbconvert_exporter": "python",
   "pygments_lexer": "ipython3",
   "version": "3.7.1"
  }
 },
 "nbformat": 4,
 "nbformat_minor": 2
}
