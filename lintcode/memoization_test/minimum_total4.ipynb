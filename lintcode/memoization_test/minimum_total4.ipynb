{
 "cells": [
  {
   "cell_type": "code",
   "execution_count": 1,
   "metadata": {},
   "outputs": [],
   "source": [
    "# Copyright(C) 2021 刘珅珅\n",
    "# Environment: python 3.7\n",
    "# Date: 2021.3.20\n",
    "# 数字三角形：lintcode 109"
   ]
  },
  {
   "cell_type": "markdown",
   "metadata": {},
   "source": [
    "# 滚动数组进行空间优化"
   ]
  },
  {
   "cell_type": "code",
   "execution_count": 13,
   "metadata": {},
   "outputs": [],
   "source": [
    "## 自顶向下的动态规划\n",
    "class Solution:\n",
    "    \"\"\"\n",
    "    @param triangle: a list of lists of integers\n",
    "    @return: An integer, minimum path sum\n",
    "    \"\"\"\n",
    "    ## 使用for循环递推的方式实现\n",
    "    def minimumTotal(self, triangle):\n",
    "        # write your code here\n",
    "        if not triangle or not triangle[0]:\n",
    "            return -1\n",
    "        ## 状态转移方程：dp[x%2][y] = min(dp[(x - 1)%2][y], dp[(x - 1)%2][y - 1]) + triangle[x][y]\n",
    "        n = len(triangle)\n",
    "        dp = [[0] * n, [0] * n]\n",
    "        dp[0][0] = triangle[0][0]\n",
    "        \n",
    "        ##  不能像之前那样直接初始化最左边第0列和最右边第n列，因为没有为它们开辟空间\n",
    "#         for x in range(1, n):\n",
    "#             dp[x][0] = dp[x - 1][0] + triangle[x][0]\n",
    "#             dp[x][x] = dp[x - 1][x - 1] + triangle[x][x]\n",
    "            \n",
    "        for x in range(1, n):\n",
    "            ## 初始化，只有dp的第1维需要模2\n",
    "            dp[x % 2][0] = dp[(x - 1) % 2][0] + triangle[x][0]\n",
    "            dp[x % 2][x] = dp[(x - 1) % 2][x - 1] + triangle[x][x]\n",
    "            for y in range(1, x): \n",
    "                dp[x % 2][y] = min(dp[(x - 1) % 2][y], dp[(x - 1) % 2][y - 1]) + triangle[x][y]\n",
    "        \n",
    "        ## 最后一层的任意结点点都有可能是最短路径的终点\n",
    "        return min(dp[(n - 1) % 2])\n",
    "\n",
    "\n"
   ]
  },
  {
   "cell_type": "code",
   "execution_count": 14,
   "metadata": {},
   "outputs": [
    {
     "name": "stdout",
     "output_type": "stream",
     "text": [
      "11\n"
     ]
    }
   ],
   "source": [
    "solution = Solution()\n",
    "triangle = [[2],[3,4],[6,5,7],[4,1,8,3]]\n",
    "print(solution.minimumTotal(triangle))"
   ]
  },
  {
   "cell_type": "code",
   "execution_count": null,
   "metadata": {},
   "outputs": [],
   "source": []
  }
 ],
 "metadata": {
  "kernelspec": {
   "display_name": "Python 3",
   "language": "python",
   "name": "python3"
  },
  "language_info": {
   "codemirror_mode": {
    "name": "ipython",
    "version": 3
   },
   "file_extension": ".py",
   "mimetype": "text/x-python",
   "name": "python",
   "nbconvert_exporter": "python",
   "pygments_lexer": "ipython3",
   "version": "3.7.1"
  }
 },
 "nbformat": 4,
 "nbformat_minor": 2
}
