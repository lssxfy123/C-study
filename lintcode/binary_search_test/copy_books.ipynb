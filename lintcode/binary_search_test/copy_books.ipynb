{
 "cells": [
  {
   "cell_type": "code",
   "execution_count": 1,
   "metadata": {},
   "outputs": [],
   "source": [
    "# Copyright(C) 2021 刘珅珅\n",
    "# Environment: python 3.7\n",
    "# Date: 2021.3.23\n",
    "# 书籍复印：lintcode 437"
   ]
  },
  {
   "cell_type": "markdown",
   "metadata": {},
   "source": [
    "# 时间复杂度的要求为O(nk)\n",
    "### 对顺序有要求，不能进行排序"
   ]
  },
  {
   "cell_type": "code",
   "execution_count": 11,
   "metadata": {},
   "outputs": [],
   "source": [
    "## 时间复杂度为O(nlog(sum))\n",
    "class Solution:\n",
    "    \"\"\"\n",
    "    @param pages: an array of integers\n",
    "    @param k: An integer\n",
    "    @return: an integer\n",
    "    \"\"\"\n",
    "    def copyBooks(self, pages, k):\n",
    "        # write your code here\n",
    "        if not pages:\n",
    "            return 0\n",
    "        if k == 0:\n",
    "            return -1\n",
    "        \n",
    "        ## 最小时间为pages中的最大值\n",
    "        min_time = max(pages)\n",
    "        \n",
    "        ## 最大时间为sum(pages)，即一个人完成所有复印\n",
    "        max_time = sum(pages)\n",
    "        \n",
    "        left, right = min_time, max_time\n",
    "        while left + 1 < right:\n",
    "            mid = (left + right) // 2\n",
    "            if self.can_copy_books_in_time(pages, mid, k):\n",
    "                right = mid\n",
    "            else:\n",
    "                left = mid\n",
    "        \n",
    "        if self.can_copy_books_in_time(pages, left, k):\n",
    "            return left\n",
    "        return right\n",
    "    \n",
    "    ## 判断k个人花time时间能不能复印完pages\n",
    "    ## time肯定大于或等于pages中的最大值\n",
    "    def can_copy_books_in_time(self, pages, time, k):\n",
    "        spend_time = 0\n",
    "        for i in range(len(pages)):\n",
    "            if k == 0:\n",
    "                return False\n",
    "            \n",
    "            ## 由于复印pages中的书籍必须连续，所以每个人都尽可能多复印\n",
    "            ## 当预估花费时间超过time时，换后一个人来，这里要注意spend_time不能清零，而应该\n",
    "            ## 设置为pages[i]，因为后一个人肯定要复印pages[i]\n",
    "            if spend_time + pages[i] > time:\n",
    "                k -= 1\n",
    "                spend_time = pages[i]\n",
    "                continue\n",
    "            \n",
    "            spend_time += pages[i]\n",
    "        ## k大于0，表明有1个人能在time时间内将剩余的pages都复印完\n",
    "        return k > 0\n",
    "                \n"
   ]
  },
  {
   "cell_type": "code",
   "execution_count": 13,
   "metadata": {},
   "outputs": [
    {
     "name": "stdout",
     "output_type": "stream",
     "text": [
      "4 5\n",
      "4\n"
     ]
    }
   ],
   "source": [
    "solution = Solution()\n",
    "pages = [3,2,4]\n",
    "k = 2\n",
    "k = 3\n",
    "print(solution.copyBooks(pages, k))"
   ]
  },
  {
   "cell_type": "code",
   "execution_count": null,
   "metadata": {},
   "outputs": [],
   "source": []
  }
 ],
 "metadata": {
  "kernelspec": {
   "display_name": "Python 3",
   "language": "python",
   "name": "python3"
  },
  "language_info": {
   "codemirror_mode": {
    "name": "ipython",
    "version": 3
   },
   "file_extension": ".py",
   "mimetype": "text/x-python",
   "name": "python",
   "nbconvert_exporter": "python",
   "pygments_lexer": "ipython3",
   "version": "3.7.1"
  }
 },
 "nbformat": 4,
 "nbformat_minor": 2
}
