{
 "cells": [
  {
   "cell_type": "code",
   "execution_count": 1,
   "metadata": {},
   "outputs": [],
   "source": [
    "# Copyright(C) 2021 刘珅珅\n",
    "# Environment: python 3.7\n",
    "# Date: 2021.2.21\n",
    "# 在大数组中查找：lintcode 447"
   ]
  },
  {
   "cell_type": "code",
   "execution_count": 7,
   "metadata": {},
   "outputs": [],
   "source": [
    "class Solution:\n",
    "    \"\"\"\n",
    "    @param reader: An instance of ArrayReader.\n",
    "    @param target: An integer\n",
    "    @return: An integer which is the first index of target.\n",
    "    \"\"\"\n",
    "    def searchBigSortedArray(self, reader, target):\n",
    "        # write your code here\n",
    "        kth = 1\n",
    "\n",
    "        ## 倍增的思想，由于数组中是上升的非负整数\n",
    "        ## 假设数组中大于或等于target的起始位置为n\n",
    "        ## while循环至多执行logn次就会到达n处\n",
    "        ## 时间复杂度为logn\n",
    "        while reader.get(kth - 1) < target:\n",
    "            kth *= 2\n",
    "        \n",
    "        ## left其实可以写成 kth // 2，但为了保证二分模板的一致性，写成left = 0，不影响时间复杂度\n",
    "        left, right = 0, kth - 1\n",
    "        while left + 1 < right:\n",
    "            mid = left + (right - left) // 2\n",
    "            if reader.get(mid) == target:\n",
    "                right = mid\n",
    "            elif reader.get(mid) < target:\n",
    "                left = mid\n",
    "            else:\n",
    "                right = mid\n",
    "        \n",
    "        if reader.get(left) == target:\n",
    "            return left\n",
    "        \n",
    "        if reader.get(right) == target:\n",
    "            return right\n",
    "        \n",
    "        return -1\n",
    "            "
   ]
  }
 ],
 "metadata": {
  "kernelspec": {
   "display_name": "Python 3",
   "language": "python",
   "name": "python3"
  },
  "language_info": {
   "codemirror_mode": {
    "name": "ipython",
    "version": 3
   },
   "file_extension": ".py",
   "mimetype": "text/x-python",
   "name": "python",
   "nbconvert_exporter": "python",
   "pygments_lexer": "ipython3",
   "version": "3.7.1"
  }
 },
 "nbformat": 4,
 "nbformat_minor": 2
}
