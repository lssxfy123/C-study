{
 "cells": [
  {
   "cell_type": "code",
   "execution_count": 1,
   "metadata": {},
   "outputs": [],
   "source": [
    "# Copyright(C) 2021 刘珅珅\n",
    "# Environment: python 3.7\n",
    "# Date: 2021.4.4\n",
    "# 目标出现总和：lintcode 462"
   ]
  },
  {
   "cell_type": "code",
   "execution_count": 1,
   "metadata": {},
   "outputs": [],
   "source": [
    "class Solution:\n",
    "    \"\"\"\n",
    "    @param A: A an integer array sorted in ascending order\n",
    "    @param target: An integer\n",
    "    @return: An integer\n",
    "    \"\"\"\n",
    "    def totalOccurrence(self, A, target):\n",
    "        # write your code here\n",
    "        if not A:\n",
    "            return 0\n",
    "        result = 0\n",
    "        first = self.binary_search_first(A, target)\n",
    "        if first < 0:\n",
    "            return 0\n",
    "        last = self.binary_search_last(A, target)\n",
    "        return last - first + 1\n",
    "    \n",
    "    def binary_search_first(self, A, target):\n",
    "        start, end = 0, len(A) - 1\n",
    "        while start + 1 < end:\n",
    "            mid = (start + end) // 2\n",
    "            if A[mid] < target:\n",
    "                start = mid\n",
    "            else:\n",
    "                end = mid\n",
    "        \n",
    "        if A[start] == target:\n",
    "            return start\n",
    "        if A[end] == target:\n",
    "            return end\n",
    "        return -1\n",
    "    \n",
    "        \n",
    "    def binary_search_last(self, A, target):\n",
    "        start, end = 0, len(A) - 1\n",
    "        while start + 1 < end:\n",
    "            mid = (start + end) // 2\n",
    "            if A[mid] > target:\n",
    "                end = mid\n",
    "            else:\n",
    "                start = mid\n",
    "        \n",
    "        if A[end] == target:\n",
    "            return end\n",
    "        if A[start] == target:\n",
    "            return start\n",
    "        return -1\n"
   ]
  },
  {
   "cell_type": "code",
   "execution_count": null,
   "metadata": {},
   "outputs": [],
   "source": []
  }
 ],
 "metadata": {
  "kernelspec": {
   "display_name": "Python 3",
   "language": "python",
   "name": "python3"
  },
  "language_info": {
   "codemirror_mode": {
    "name": "ipython",
    "version": 3
   },
   "file_extension": ".py",
   "mimetype": "text/x-python",
   "name": "python",
   "nbconvert_exporter": "python",
   "pygments_lexer": "ipython3",
   "version": "3.7.1"
  }
 },
 "nbformat": 4,
 "nbformat_minor": 2
}
