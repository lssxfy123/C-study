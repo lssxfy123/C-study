{
 "cells": [
  {
   "cell_type": "code",
   "execution_count": 1,
   "metadata": {},
   "outputs": [],
   "source": [
    "# Copyright(C) 2021 刘珅珅\n",
    "# Environment: python 3.7\n",
    "# Date: 2021.3.24\n",
    "# 在排序数组中查找元素的第一个和最后一个位置：lintcode 1536"
   ]
  },
  {
   "cell_type": "markdown",
   "metadata": {},
   "source": [
    "### 要求时间复杂度为O(logn)，所以只能两次二分，找target的第一个和最后一个，不能找到一个target后，然后向两边扩展，在极端情况下时间复杂度为O(logn)"
   ]
  },
  {
   "cell_type": "code",
   "execution_count": 1,
   "metadata": {},
   "outputs": [],
   "source": [
    "class Solution:\n",
    "    \"\"\"\n",
    "    @param nums: the array of integers\n",
    "    @param target: \n",
    "    @return: the starting and ending position\n",
    "    \"\"\"\n",
    "    def searchRange(self, nums, target):\n",
    "        # Write your code here.\n",
    "        if not nums:\n",
    "            return [-1, -1]\n",
    "        \n",
    "        first = self.find_first(nums, 0, len(nums) - 1, target)\n",
    "        if first == -1:\n",
    "            return [-1, -1]\n",
    "        \n",
    "        last = self.find_last(nums, first, len(nums) - 1, target)\n",
    "        return [first, last]\n",
    "        \n",
    "    \n",
    "    def find_first(self, nums, start, end, target):\n",
    "        while start + 1 < end:\n",
    "            mid = (start + end) // 2\n",
    "            if nums[mid] < target:\n",
    "                start = mid\n",
    "            else:\n",
    "                end = mid\n",
    "        if nums[start] == target:\n",
    "            return start\n",
    "        if nums[end] == target:\n",
    "            return end\n",
    "        return -1\n",
    "    \n",
    "    def find_last(self, nums, start, end, target):\n",
    "        while start + 1 < end:\n",
    "            mid = (start + end) // 2\n",
    "            if nums[mid] > target:\n",
    "                end = mid\n",
    "            else:\n",
    "                start = mid\n",
    "        if nums[end] == target:\n",
    "            return end\n",
    "        return start"
   ]
  },
  {
   "cell_type": "code",
   "execution_count": 3,
   "metadata": {},
   "outputs": [
    {
     "name": "stdout",
     "output_type": "stream",
     "text": [
      "[3, 3]\n"
     ]
    }
   ],
   "source": [
    "solution = Solution()\n",
    "nums = [5,7,7,8,10]\n",
    "target = 8\n",
    "print(solution.searchRange(nums, target))"
   ]
  },
  {
   "cell_type": "code",
   "execution_count": null,
   "metadata": {},
   "outputs": [],
   "source": []
  }
 ],
 "metadata": {
  "kernelspec": {
   "display_name": "Python 3",
   "language": "python",
   "name": "python3"
  },
  "language_info": {
   "codemirror_mode": {
    "name": "ipython",
    "version": 3
   },
   "file_extension": ".py",
   "mimetype": "text/x-python",
   "name": "python",
   "nbconvert_exporter": "python",
   "pygments_lexer": "ipython3",
   "version": "3.7.1"
  }
 },
 "nbformat": 4,
 "nbformat_minor": 2
}
