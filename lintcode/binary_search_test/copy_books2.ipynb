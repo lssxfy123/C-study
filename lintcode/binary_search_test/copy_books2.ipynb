{
 "cells": [
  {
   "cell_type": "code",
   "execution_count": 1,
   "metadata": {},
   "outputs": [],
   "source": [
    "# Copyright(C) 2021 刘珅珅\n",
    "# Environment: python 3.7\n",
    "# Date: 2021.4.3\n",
    "# 书籍复印：lintcode 437"
   ]
  },
  {
   "cell_type": "markdown",
   "metadata": {},
   "source": [
    "# 动态规划优化版，时间复杂度为O(kn)，四边形不等式优化\n"
   ]
  },
  {
   "cell_type": "code",
   "execution_count": 10,
   "metadata": {},
   "outputs": [],
   "source": [
    "class Solution:\n",
    "    \"\"\"\n",
    "    @param pages: an array of integers\n",
    "    @param k: An integer\n",
    "    @return: an integer\n",
    "    \"\"\"\n",
    "    def copyBooks(self, pages, k):\n",
    "        # write your code here\n",
    "        if not pages:\n",
    "            return 0\n",
    "        if k == 0:\n",
    "            return -1\n",
    "        \n",
    "        ## 状态：dp[i][j]表示前i本树分给j个人所花费的最小时间\n",
    "        n = len(pages)\n",
    "        dp = [[float('inf')] * (k + 1) for _ in range(n + 1)]\n",
    "        \n",
    "        ## 划分点\n",
    "        cut = [[0] * (k + 1) for _ in range(n + 1)]\n",
    "        \n",
    "        ## 初始化：0本书花费时间为0\n",
    "        for i in range(k + 1):\n",
    "            dp[0][i] = 0\n",
    "        \n",
    "        ## prefix_sum存放的是前i本书由1个人完成需要花费的时间\n",
    "        prefix_sum = [0] * (n + 1)\n",
    "        for i in range(1, n + 1):\n",
    "            prefix_sum[i] = prefix_sum[i - 1] + pages[i - 1]\n",
    "        \n",
    "        for i in range(1, n + 1):\n",
    "            for j in range(1, k + 1):\n",
    "                ## 状态转移方程：要求出前j-1个人完成前m本书的最小时间，第j个人完成m+1到i的书花费的时间\n",
    "                for m in range(cut[i][j - 1], i):\n",
    "                    ## 1个人完成复印m+1到i花费的时间\n",
    "                    cost = prefix_sum[i] - prefix_sum[m]\n",
    "                    total_cost = max(dp[m][j - 1], cost)\n",
    "                    if total_cost < dp[i][j]:\n",
    "                        dp[i][j] = total_cost\n",
    "                        cut[i][j] = m\n",
    "        \n",
    "        \n",
    "        return dp[n][k]\n",
    "    \n",
    "                \n"
   ]
  },
  {
   "cell_type": "code",
   "execution_count": 11,
   "metadata": {},
   "outputs": [
    {
     "name": "stdout",
     "output_type": "stream",
     "text": [
      "[[0, 0, 0], [inf, 3, 3], [inf, 5, 3], [inf, 9, 5]]\n",
      "5\n"
     ]
    }
   ],
   "source": [
    "solution = Solution()\n",
    "pages = [3,2,4]\n",
    "k = 2\n",
    "\n",
    "print(solution.copyBooks(pages, k))"
   ]
  },
  {
   "cell_type": "code",
   "execution_count": null,
   "metadata": {},
   "outputs": [],
   "source": []
  }
 ],
 "metadata": {
  "kernelspec": {
   "display_name": "Python 3",
   "language": "python",
   "name": "python3"
  },
  "language_info": {
   "codemirror_mode": {
    "name": "ipython",
    "version": 3
   },
   "file_extension": ".py",
   "mimetype": "text/x-python",
   "name": "python",
   "nbconvert_exporter": "python",
   "pygments_lexer": "ipython3",
   "version": "3.7.1"
  }
 },
 "nbformat": 4,
 "nbformat_minor": 2
}
