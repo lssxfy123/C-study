{
 "cells": [
  {
   "cell_type": "code",
   "execution_count": 1,
   "metadata": {},
   "outputs": [],
   "source": [
    "# Copyright(C) 2021 刘珅珅\n",
    "# Environment: python 3.7\n",
    "# Date: 2021.3.23\n",
    "# 数据流中位数：lintcode 81"
   ]
  },
  {
   "cell_type": "markdown",
   "metadata": {},
   "source": [
    "### 时间复杂度要求为O(nlogn)，所以不能频繁使用排序来求中位数，如果logn的时间复杂度求得一个满足要求的元素可以考虑使用二分法或堆"
   ]
  },
  {
   "cell_type": "code",
   "execution_count": 3,
   "metadata": {},
   "outputs": [],
   "source": [
    "import heapq\n",
    "\n",
    "class Solution:\n",
    "    \"\"\"\n",
    "    @param nums: A list of integers\n",
    "    @return: the median of numbers\n",
    "    \"\"\"\n",
    "    def medianII(self, nums):\n",
    "        # write your code here\n",
    "        if not nums:\n",
    "            return []\n",
    "        max_heap = []\n",
    "        min_heap = []\n",
    "        medians = []\n",
    "        \n",
    "        ## 把数据流中的数一左一右的放入到两个堆中，先放到max_heap中，并保证max_heap的最大值比min_heap的最小值要小\n",
    "        ## 这样max_heap的最大值就一直是中位数\n",
    "        for num in nums:\n",
    "            if len(max_heap) <= len(min_heap):\n",
    "                ## python没有大根堆，放入num的相反数\n",
    "                heapq.heappush(max_heap, -num)\n",
    "            else:\n",
    "                heapq.heappush(min_heap, num)\n",
    "            \n",
    "            if len(min_heap) == 0:\n",
    "                medians.append(-max_heap[0])\n",
    "                continue\n",
    "            \n",
    "            ## 索引0表示堆顶元素位置\n",
    "            ## 如果左半部分的最大值比右半部分的最小值大，则将min_heap的最小值弹出，并放入大根堆中（注意是相反数）\n",
    "            ## 把max_heap的最大值弹出，并放入小根堆中\n",
    "            if -max_heap[0] > min_heap[0]:\n",
    "                heapq.heappush(max_heap, -heapq.heappop(min_heap))\n",
    "                heapq.heappush(min_heap, -heapq.heappop(max_heap))\n",
    "            \n",
    "            medians.append(-max_heap[0])\n",
    "            \n",
    "        \n",
    "        return medians\n",
    "    \n",
    "    \n"
   ]
  },
  {
   "cell_type": "code",
   "execution_count": 5,
   "metadata": {},
   "outputs": [
    {
     "name": "stdout",
     "output_type": "stream",
     "text": [
      "[4, 4, 4, 3, 3, 3, 3]\n"
     ]
    }
   ],
   "source": [
    "solution = Solution()\n",
    "nums = [1,2,3,4,5]\n",
    "nums = [4,5,1,3,2,6,0]\n",
    "print(solution.medianII(nums))"
   ]
  },
  {
   "cell_type": "code",
   "execution_count": null,
   "metadata": {},
   "outputs": [],
   "source": []
  }
 ],
 "metadata": {
  "kernelspec": {
   "display_name": "Python 3",
   "language": "python",
   "name": "python3"
  },
  "language_info": {
   "codemirror_mode": {
    "name": "ipython",
    "version": 3
   },
   "file_extension": ".py",
   "mimetype": "text/x-python",
   "name": "python",
   "nbconvert_exporter": "python",
   "pygments_lexer": "ipython3",
   "version": "3.7.1"
  }
 },
 "nbformat": 4,
 "nbformat_minor": 2
}
