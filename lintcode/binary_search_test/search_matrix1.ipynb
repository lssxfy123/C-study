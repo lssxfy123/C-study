{
 "cells": [
  {
   "cell_type": "code",
   "execution_count": 1,
   "metadata": {},
   "outputs": [],
   "source": [
    "# Copyright(C) 2021 刘珅珅\n",
    "# Environment: python 3.7\n",
    "# Date: 2021.3.22\n",
    "# 搜索二维矩阵 II：lintcode 38"
   ]
  },
  {
   "cell_type": "markdown",
   "metadata": {},
   "source": [
    "# 时间复杂度要求为O(n + m)，空间复杂度O(1)，意味着不能用哈希表\n",
    "### 由于是找所有的target，所以时间复杂度不可能低于O(n)，比如target正好在对角线上，这就意味着无法使用二分法"
   ]
  },
  {
   "cell_type": "code",
   "execution_count": 9,
   "metadata": {},
   "outputs": [],
   "source": [
    "class Solution:\n",
    "    \"\"\"\n",
    "    @param matrix: A list of lists of integers\n",
    "    @param target: An integer you want to search in matrix\n",
    "    @return: An integer indicate the total occurrence of target in the given matrix\n",
    "    \"\"\"\n",
    "    def searchMatrix(self, matrix, target):\n",
    "        # write your code here\n",
    "        if not matrix or not matrix[0]:\n",
    "            return 0\n",
    "        m, n = len(matrix), len(matrix[0])\n",
    "        x, y = m - 1, 0\n",
    "        count = 0\n",
    "        ## 从矩阵的左下角开始进行判断\n",
    "        ## 时间复杂度为O(n+m)，最坏的情况是x从m-1一直到0，然后y从0增加到n-1\n",
    "        while x >= 0 and y < n:\n",
    "            ## 如果左下角的元素等于target，统计次数加1，由于矩阵的行和列是严格递增的，说明x行和y列都不会再有target了\n",
    "            if matrix[x][y] == target:\n",
    "                count += 1\n",
    "                x -= 1\n",
    "                y += 1\n",
    "            ## 如果左下角的元素小于target，说明第y列不会有target\n",
    "            ## 否则说明第x行不会有target\n",
    "            elif matrix[x][y] < target:\n",
    "                y += 1\n",
    "            else:\n",
    "                x -= 1\n",
    "                \n",
    "        \n",
    "        return count\n",
    "                \n",
    "        \n",
    "        \n",
    "        \n"
   ]
  },
  {
   "cell_type": "code",
   "execution_count": 10,
   "metadata": {},
   "outputs": [
    {
     "name": "stdout",
     "output_type": "stream",
     "text": [
      "2 0\n",
      "1 1\n",
      "0 1\n",
      "2\n"
     ]
    }
   ],
   "source": [
    "solution = Solution()\n",
    "matrix = [[1, 3, 5, 7],\n",
    "      [2, 4, 7, 8],\n",
    "      [3, 5, 9, 10]\n",
    "    ]\n",
    "target = 3\n",
    "print(solution.searchMatrix(matrix, target))"
   ]
  },
  {
   "cell_type": "code",
   "execution_count": 8,
   "metadata": {},
   "outputs": [
    {
     "data": {
      "text/plain": [
       "[1, 3, 5, 7]"
      ]
     },
     "execution_count": 8,
     "metadata": {},
     "output_type": "execute_result"
    }
   ],
   "source": [
    "matrix = [[1,3,5,7],[10,11,16,20],[23,30,34,50]]\n",
    "matrix[:][0]"
   ]
  },
  {
   "cell_type": "code",
   "execution_count": null,
   "metadata": {},
   "outputs": [],
   "source": []
  }
 ],
 "metadata": {
  "kernelspec": {
   "display_name": "Python 3",
   "language": "python",
   "name": "python3"
  },
  "language_info": {
   "codemirror_mode": {
    "name": "ipython",
    "version": 3
   },
   "file_extension": ".py",
   "mimetype": "text/x-python",
   "name": "python",
   "nbconvert_exporter": "python",
   "pygments_lexer": "ipython3",
   "version": "3.7.1"
  }
 },
 "nbformat": 4,
 "nbformat_minor": 2
}
