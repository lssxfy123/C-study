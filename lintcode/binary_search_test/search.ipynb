{
 "cells": [
  {
   "cell_type": "code",
   "execution_count": 1,
   "metadata": {},
   "outputs": [],
   "source": [
    "# Copyright(C) 2021 刘珅珅\n",
    "# Environment: python 3.7\n",
    "# Date: 2021.2.21\n",
    "# 搜索旋转排序数组：lintcode 62"
   ]
  },
  {
   "cell_type": "code",
   "execution_count": 13,
   "metadata": {},
   "outputs": [],
   "source": [
    "class Solution:\n",
    "    \"\"\"\n",
    "    @param A: an integer rotated sorted array\n",
    "    @param target: an integer to be searched\n",
    "    @return: an integer\n",
    "    \"\"\"\n",
    "    def search(self, A, target):\n",
    "        # write your code here\n",
    "        if not A or len(A) == 0:\n",
    "            return -1\n",
    "        \n",
    "        ## 两次二分查找\n",
    "        ## 首先找到最小值的位置\n",
    "        min_index = self.find_min_index(A)\n",
    "        \n",
    "        ## 如果target在最小值和末尾元素之间\n",
    "        if A[min_index] <= target <= A[-1]:\n",
    "            return self.binary_search(A, min_index, len(A) - 1, target)\n",
    "        \n",
    "        ## target在头部元素和最小值的前一个值之间(按照旋转数组的特性，其为最大值)\n",
    "        return self.binary_search(A, 0, min_index - 1, target)\n",
    "            \n",
    "    \n",
    "    ## 参考lintcode 159\n",
    "    def find_min_index(self, A):\n",
    "        left, right = 0, len(A) - 1\n",
    "        target = A[-1]\n",
    "        while left + 1 < right:\n",
    "            mid = (left + right) // 2\n",
    "            if A[mid] <= target:\n",
    "                right = mid\n",
    "            else:\n",
    "                left = mid\n",
    "        \n",
    "        if A[left] < A[right]:\n",
    "            return left\n",
    "        return right\n",
    "    \n",
    "    def binary_search(self, A, start, end, target):\n",
    "        while start + 1 < end:\n",
    "            mid = (start + end) // 2\n",
    "            if A[mid] == target:\n",
    "                return mid\n",
    "            \n",
    "            if A[mid] > target:\n",
    "                end = mid\n",
    "            else:\n",
    "                start = mid\n",
    "                \n",
    "        \n",
    "        if A[start] == target:\n",
    "            return start\n",
    "        if A[end] == target:\n",
    "            return end\n",
    "        \n",
    "        return -1"
   ]
  },
  {
   "cell_type": "code",
   "execution_count": 14,
   "metadata": {},
   "outputs": [
    {
     "name": "stdout",
     "output_type": "stream",
     "text": [
      "5\n"
     ]
    }
   ],
   "source": [
    "solution = Solution()\n",
    "nums = [6,8,9,1,3,5]\n",
    "target = 5\n",
    "print(solution.search(nums, target))"
   ]
  },
  {
   "cell_type": "code",
   "execution_count": null,
   "metadata": {},
   "outputs": [],
   "source": []
  }
 ],
 "metadata": {
  "kernelspec": {
   "display_name": "Python 3",
   "language": "python",
   "name": "python3"
  },
  "language_info": {
   "codemirror_mode": {
    "name": "ipython",
    "version": 3
   },
   "file_extension": ".py",
   "mimetype": "text/x-python",
   "name": "python",
   "nbconvert_exporter": "python",
   "pygments_lexer": "ipython3",
   "version": "3.7.1"
  }
 },
 "nbformat": 4,
 "nbformat_minor": 2
}
