{
 "cells": [
  {
   "cell_type": "code",
   "execution_count": 1,
   "metadata": {},
   "outputs": [],
   "source": [
    "# Copyright(C) 2021 刘珅珅\n",
    "# Environment: python 3.7\n",
    "# Date: 2021.3.23\n",
    "# 书籍复印：lintcode 437"
   ]
  },
  {
   "cell_type": "markdown",
   "metadata": {},
   "source": [
    "# 动态规划版，时间复杂度为O(k*n^2)\n",
    "# 无法通过lintcode测试，时间复杂度过高"
   ]
  },
  {
   "cell_type": "code",
   "execution_count": 1,
   "metadata": {},
   "outputs": [],
   "source": [
    "class Solution:\n",
    "    \"\"\"\n",
    "    @param pages: an array of integers\n",
    "    @param k: An integer\n",
    "    @return: an integer\n",
    "    \"\"\"\n",
    "    def copyBooks(self, pages, k):\n",
    "        # write your code here\n",
    "        if not pages:\n",
    "            return 0\n",
    "        if k == 0:\n",
    "            return -1\n",
    "        \n",
    "        ## 状态：dp[i][j]表示前i本树分给j个人所花费的最小时间\n",
    "        n = len(pages)\n",
    "        dp = [[float('inf')] * (k + 1) for _ in range(n + 1)]\n",
    "        \n",
    "        ## 初始化：0本书花费时间为0\n",
    "        for i in range(k + 1):\n",
    "            dp[0][i] = 0\n",
    "        \n",
    "        ## prefix_sum存放的是前i本书由1个人完成需要花费的时间\n",
    "        prefix_sum = [0] * (n + 1)\n",
    "        for i in range(1, n + 1):\n",
    "            prefix_sum[i] = prefix_sum[i - 1] + pages[i - 1]\n",
    "        \n",
    "        for i in range(1, n + 1):\n",
    "            for j in range(1, k + 1):\n",
    "                ## 状态转移方程：要求出前j-1个人完成前m本书的最小时间，第j个人完成m+1到i的书花费的时间\n",
    "                for m in range(i):\n",
    "                    ## 1个人完成复印m+1到i花费的时间\n",
    "                    cost = prefix_sum[i] - prefix_sum[m]\n",
    "                    ## 1个人只能从前往后依次复印\n",
    "                    ## j-1个完成前m本书的最小时间，第j个人完成m+1到i的时间，二者中的较大值，就是前j个人完成前i个书花费的时间\n",
    "                    ## 这样的选择方式总共有i种，dp[i][j]就选最小花费\n",
    "                    total_cost = max(dp[m][j - 1], cost)\n",
    "                    dp[i][j] = min(dp[i][j], total_cost)\n",
    "        \n",
    "        return dp[n][k]\n",
    "    \n",
    "                \n"
   ]
  },
  {
   "cell_type": "code",
   "execution_count": 2,
   "metadata": {},
   "outputs": [
    {
     "name": "stdout",
     "output_type": "stream",
     "text": [
      "4\n"
     ]
    }
   ],
   "source": [
    "solution = Solution()\n",
    "pages = [3,2,4]\n",
    "k = 2\n",
    "k = 3\n",
    "print(solution.copyBooks(pages, k))"
   ]
  },
  {
   "cell_type": "code",
   "execution_count": null,
   "metadata": {},
   "outputs": [],
   "source": []
  }
 ],
 "metadata": {
  "kernelspec": {
   "display_name": "Python 3",
   "language": "python",
   "name": "python3"
  },
  "language_info": {
   "codemirror_mode": {
    "name": "ipython",
    "version": 3
   },
   "file_extension": ".py",
   "mimetype": "text/x-python",
   "name": "python",
   "nbconvert_exporter": "python",
   "pygments_lexer": "ipython3",
   "version": "3.7.1"
  }
 },
 "nbformat": 4,
 "nbformat_minor": 2
}
