{
 "cells": [
  {
   "cell_type": "code",
   "execution_count": 1,
   "metadata": {},
   "outputs": [],
   "source": [
    "# Copyright(C) 2021 刘珅珅\n",
    "# Environment: python 3.7\n",
    "# Date: 2021.3.22\n",
    "# 包裹黑色像素点的最小矩形：lintcode 600"
   ]
  },
  {
   "cell_type": "code",
   "execution_count": 7,
   "metadata": {},
   "outputs": [],
   "source": [
    "class Solution:\n",
    "    \"\"\"\n",
    "    @param image: a binary matrix with '0' and '1'\n",
    "    @param x: the location of one of the black pixels\n",
    "    @param y: the location of one of the black pixels\n",
    "    @return: an integer\n",
    "    \"\"\"\n",
    "    def minArea(self, image, x, y):\n",
    "        # write your code here\n",
    "        if not image or not image[0]:\n",
    "            return 0\n",
    "        \n",
    "        n, m = len(image), len(image[0])\n",
    "        \n",
    "        ## 时间复杂度为O(mlogn+nlogm)\n",
    "        \n",
    "        ## 在0到y列去查找最左边的'1'所在的列\n",
    "        left = self.find_first(image, 0, y, self.check_column)\n",
    "        \n",
    "        ## 在0到x行去查找最上边的'1'所在的行\n",
    "        top = self.find_first(image, 0, x, self.check_row)\n",
    "        \n",
    "        ## 在y到m-1列去查找最右边的'1'所在的列\n",
    "        right = self.find_last(image, y, m - 1, self.check_column)\n",
    "        \n",
    "        ## 在x到n-1行去查找最下边的'1'所在的行\n",
    "        bottom = self.find_last(image, x, n - 1, self.check_row)\n",
    "        \n",
    "        return (right - left + 1) * (bottom - top + 1)\n",
    "        \n",
    "    \n",
    "    ## 二分法并不一定都在排序的数组上进行，只要start和end指针总是把target包围起来，并且范围所缩所小就行\n",
    "    ## 可以使用二分法的原因是，当某1行或某1列有'1'时，由于1'是连通的，找最左边或最上边的'1'所在的列或行\n",
    "    ## end指针肯定往左或往上移动\n",
    "    def find_first(self, image, start, end, check_func):\n",
    "        while start + 1 < end:\n",
    "            mid = (start + end) // 2\n",
    "            if check_func(image, mid):\n",
    "                end = mid\n",
    "            else:\n",
    "                start = mid\n",
    "            \n",
    "        if check_func(image, start):\n",
    "            return start\n",
    "        return end\n",
    "    \n",
    "    ## 寻找最右边或最下边的'1'时，由于'1'是连通的，mid行或mid列有'1'时，start指针肯定往右或往下移动\n",
    "    def find_last(self, image, start, end, check_func):\n",
    "        while start + 1 < end:\n",
    "            mid = (start + end) // 2\n",
    "            if check_func(image, mid):\n",
    "                start = mid\n",
    "            else:\n",
    "                end = mid\n",
    "\n",
    "        if check_func(image, end):\n",
    "            return end\n",
    "        return start\n",
    "            \n",
    "        \n",
    "    \n",
    "    ## 判断列上是否有'1'\n",
    "    ## 时间复杂度O(n)\n",
    "    def check_column(self, image, column):\n",
    "        for i in range(len(image)):\n",
    "            if image[i][column] == '1':\n",
    "                return True\n",
    "        return False\n",
    "    \n",
    "    ## 判断行上是否有'1'\n",
    "    ## 时间复杂度O(m)\n",
    "    def check_row(self, image, row):\n",
    "        for j in range(len(image[0])):\n",
    "            if image[row][j] == '1':\n",
    "                return True\n",
    "        return False\n",
    "        "
   ]
  },
  {
   "cell_type": "code",
   "execution_count": 8,
   "metadata": {},
   "outputs": [
    {
     "name": "stdout",
     "output_type": "stream",
     "text": [
      "1 2 0 2\n",
      "6\n"
     ]
    }
   ],
   "source": [
    "solution = Solution()\n",
    "image = [\"0010\",\"0110\",\"0100\"]\n",
    "x = 0\n",
    "y = 2\n",
    "print(solution.minArea(image, x, y))"
   ]
  },
  {
   "cell_type": "code",
   "execution_count": 8,
   "metadata": {},
   "outputs": [
    {
     "data": {
      "text/plain": [
       "[1, 3, 5, 7]"
      ]
     },
     "execution_count": 8,
     "metadata": {},
     "output_type": "execute_result"
    }
   ],
   "source": [
    "matrix = [[1,3,5,7],[10,11,16,20],[23,30,34,50]]\n",
    "matrix[:][0]"
   ]
  },
  {
   "cell_type": "code",
   "execution_count": null,
   "metadata": {},
   "outputs": [],
   "source": []
  }
 ],
 "metadata": {
  "kernelspec": {
   "display_name": "Python 3",
   "language": "python",
   "name": "python3"
  },
  "language_info": {
   "codemirror_mode": {
    "name": "ipython",
    "version": 3
   },
   "file_extension": ".py",
   "mimetype": "text/x-python",
   "name": "python",
   "nbconvert_exporter": "python",
   "pygments_lexer": "ipython3",
   "version": "3.7.1"
  }
 },
 "nbformat": 4,
 "nbformat_minor": 2
}
