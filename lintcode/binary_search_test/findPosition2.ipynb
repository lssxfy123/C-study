{
 "cells": [
  {
   "cell_type": "code",
   "execution_count": 1,
   "metadata": {},
   "outputs": [],
   "source": [
    "# Copyright(C) 2021 刘珅珅\n",
    "# Environment: python 3.7\n",
    "# Date: 2021.2.15\n",
    "# 目标最后位置：lintcode 458"
   ]
  },
  {
   "cell_type": "code",
   "execution_count": 2,
   "metadata": {},
   "outputs": [],
   "source": [
    "## 非递归版本\n",
    "class Solution:\n",
    "    \"\"\"\n",
    "    @param nums: An integer array sorted in ascending order\n",
    "    @param target: An integer\n",
    "    @return: An integer\n",
    "    \"\"\"\n",
    "    def lastPosition(self, nums, target):\n",
    "        # write your code here\n",
    "        if not nums or len(nums) == 0:\n",
    "            return -1\n",
    "        \n",
    "        start = 0\n",
    "        end = len(nums) - 1\n",
    "        \n",
    "        ## start + 1 < end而不是start<end，这是为了防止start与end相差1，而target正好在end位置的情况\n",
    "        while start + 1 < end:\n",
    "            ## 在C++,Java中要写成mid = start + (end - start) / 2\n",
    "            mid = (start + end) // 2\n",
    "            if nums[mid] == target:\n",
    "                start = mid\n",
    "            elif nums[mid] < target:\n",
    "                start = mid\n",
    "            else:\n",
    "                end = mid\n",
    "\n",
    "        ## while循环结束后，单独处理start,end\n",
    "        if nums[end] == target:\n",
    "            return end\n",
    "        if nums[start] == target:\n",
    "            return start\n",
    "        \n",
    "        return -1\n",
    "            "
   ]
  },
  {
   "cell_type": "code",
   "execution_count": 3,
   "metadata": {},
   "outputs": [
    {
     "name": "stdout",
     "output_type": "stream",
     "text": [
      "4\n"
     ]
    }
   ],
   "source": [
    "solution = Solution()\n",
    "nums = [1, 2, 2, 2, 4, 5,6,7, 8, 9]\n",
    "target = 4\n",
    "print(solution.lastPosition(nums, target))"
   ]
  },
  {
   "cell_type": "code",
   "execution_count": null,
   "metadata": {},
   "outputs": [],
   "source": []
  }
 ],
 "metadata": {
  "kernelspec": {
   "display_name": "Python 3",
   "language": "python",
   "name": "python3"
  },
  "language_info": {
   "codemirror_mode": {
    "name": "ipython",
    "version": 3
   },
   "file_extension": ".py",
   "mimetype": "text/x-python",
   "name": "python",
   "nbconvert_exporter": "python",
   "pygments_lexer": "ipython3",
   "version": "3.7.1"
  }
 },
 "nbformat": 4,
 "nbformat_minor": 2
}
