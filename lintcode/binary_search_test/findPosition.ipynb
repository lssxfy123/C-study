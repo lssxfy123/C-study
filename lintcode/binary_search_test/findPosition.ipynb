{
 "cells": [
  {
   "cell_type": "code",
   "execution_count": 1,
   "metadata": {},
   "outputs": [],
   "source": [
    "# Copyright(C) 2021 刘珅珅\n",
    "# Environment: python 3.7\n",
    "# Date: 2021.2.15\n",
    "# 经典二分查找问题：lintcode 457"
   ]
  },
  {
   "cell_type": "code",
   "execution_count": 7,
   "metadata": {},
   "outputs": [],
   "source": [
    "## 递归版本\n",
    "class Solution:\n",
    "    \"\"\"\n",
    "    @param nums: An integer array sorted in ascending order\n",
    "    @param target: An integer\n",
    "    @return: An integer\n",
    "    \"\"\"\n",
    "    def findPosition(self, nums, target):\n",
    "        # write your code here\n",
    "        if not nums or len(nums) == 0:\n",
    "            return -1\n",
    "        \n",
    "        return self.binary_search(nums, target, 0, len(nums) - 1)\n",
    "    \n",
    "    ## 递归的方式实现二分法\n",
    "    def binary_search(self, nums, target, start, end):\n",
    "        if start + 1 >= end:\n",
    "            if nums[start] == target:\n",
    "                return start\n",
    "            if nums[end] == target:\n",
    "                return end\n",
    "\n",
    "            return -1\n",
    "        mid = (start + end) // 2\n",
    "        if nums[mid] < target:\n",
    "            return self.binary_search(nums, target, mid, end)\n",
    "        \n",
    "        if nums[mid] > target:\n",
    "            return self.binary_search(nums, target, start, mid)\n",
    "        \n",
    "        return mid\n",
    "\n",
    "        "
   ]
  },
  {
   "cell_type": "code",
   "execution_count": 8,
   "metadata": {},
   "outputs": [
    {
     "name": "stdout",
     "output_type": "stream",
     "text": [
      "0\n"
     ]
    }
   ],
   "source": [
    "solution = Solution()\n",
    "nums = [1,2,2,4,5,5]\n",
    "target = 1\n",
    "print(solution.findPosition(nums, target))"
   ]
  },
  {
   "cell_type": "code",
   "execution_count": null,
   "metadata": {},
   "outputs": [],
   "source": []
  }
 ],
 "metadata": {
  "kernelspec": {
   "display_name": "Python 3",
   "language": "python",
   "name": "python3"
  },
  "language_info": {
   "codemirror_mode": {
    "name": "ipython",
    "version": 3
   },
   "file_extension": ".py",
   "mimetype": "text/x-python",
   "name": "python",
   "nbconvert_exporter": "python",
   "pygments_lexer": "ipython3",
   "version": "3.7.1"
  }
 },
 "nbformat": 4,
 "nbformat_minor": 2
}
