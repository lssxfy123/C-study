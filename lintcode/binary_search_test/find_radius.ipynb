{
 "cells": [
  {
   "cell_type": "code",
   "execution_count": 1,
   "metadata": {},
   "outputs": [],
   "source": [
    "# Copyright(C) 2021 刘珅珅\n",
    "# Environment: python 3.7\n",
    "# Date: 2021.7.7\n",
    "# 加热器：lintcode 1219"
   ]
  },
  {
   "cell_type": "markdown",
   "metadata": {},
   "source": [
    "### 该题目不太适合二分答案，即先判断radius的最大和最小值，然后在答案上二分，因为判断半径是否能覆盖所有房屋时，会涉及到区间是否可以合并的问题，houses中的数据并不一定是连续的"
   ]
  },
  {
   "cell_type": "code",
   "execution_count": 1,
   "metadata": {},
   "outputs": [],
   "source": [
    "class Solution:\n",
    "    \"\"\"\n",
    "    @param houses: positions of houses\n",
    "    @param heaters: positions of heaters\n",
    "    @return: the minimum radius standard of heaters\n",
    "    \"\"\"\n",
    "    def findRadius(self, houses, heaters):\n",
    "        # Write your code here\n",
    "        house_count = len(houses)\n",
    "        heater_count = len(heaters)\n",
    "        if house_count == 0:\n",
    "            return 0\n",
    "        if heater_count == 0:\n",
    "            return float('inf')\n",
    "        \n",
    "        ## 加热器的位置进行排序\n",
    "        heaters.sort()\n",
    "        result = 0\n",
    "        for house in houses:\n",
    "            radius = self.find_closest_heater(house, heaters)\n",
    "            ## 只有最大的radius才能满足所有房屋\n",
    "            result = max(radius, result)\n",
    "        return result\n",
    "    \n",
    "    ## 查找离房子最近的加热器半径\n",
    "    def find_closest_heater(self, house, heaters):\n",
    "        start = 0\n",
    "        end = len(heaters) - 1\n",
    "        ## 查找离house最近的前后加热器\n",
    "        while start + 1 < end:\n",
    "            mid = (start + end) // 2\n",
    "            ## 加热器的位置正好与house的位置相同\n",
    "            if heaters[mid] == house:\n",
    "                return 0\n",
    "            if heaters[mid] < house:\n",
    "                start = mid\n",
    "            else:\n",
    "                end = mid\n",
    "        \n",
    "        start_radius = abs(house - heaters[start])\n",
    "        end_radius = abs(house - heaters[end])\n",
    "        return min(start_radius, end_radius)\n",
    "        \n",
    "\n",
    "        \n",
    "\n"
   ]
  },
  {
   "cell_type": "code",
   "execution_count": 2,
   "metadata": {},
   "outputs": [
    {
     "name": "stdout",
     "output_type": "stream",
     "text": [
      "1\n"
     ]
    }
   ],
   "source": [
    "solution = Solution()\n",
    "houses = [1,2,3,4]\n",
    "heaters = [1,4]\n",
    "print(solution.findRadius(houses, heaters))"
   ]
  },
  {
   "cell_type": "code",
   "execution_count": null,
   "metadata": {},
   "outputs": [],
   "source": []
  }
 ],
 "metadata": {
  "kernelspec": {
   "display_name": "Python 3",
   "language": "python",
   "name": "python3"
  },
  "language_info": {
   "codemirror_mode": {
    "name": "ipython",
    "version": 3
   },
   "file_extension": ".py",
   "mimetype": "text/x-python",
   "name": "python",
   "nbconvert_exporter": "python",
   "pygments_lexer": "ipython3",
   "version": "3.7.1"
  }
 },
 "nbformat": 4,
 "nbformat_minor": 2
}
