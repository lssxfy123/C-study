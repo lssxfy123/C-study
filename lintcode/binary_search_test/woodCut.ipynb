{
 "cells": [
  {
   "cell_type": "code",
   "execution_count": 1,
   "metadata": {},
   "outputs": [],
   "source": [
    "# Copyright(C) 2021 刘珅珅\n",
    "# Environment: python 3.7\n",
    "# Date: 2021.2.24\n",
    "# 木材加工：lintcode 183"
   ]
  },
  {
   "cell_type": "code",
   "execution_count": 7,
   "metadata": {},
   "outputs": [],
   "source": [
    "class Solution:\n",
    "    \"\"\"\n",
    "    @param L: Given n pieces of wood with length L[i]\n",
    "    @param k: An integer\n",
    "    @return: The maximum length of the small pieces\n",
    "    \"\"\"\n",
    "    def woodCut(self, L, k):\n",
    "        # write your code here\n",
    "        if not L or len(L) == 0:\n",
    "            return 0\n",
    "        \n",
    "        ## 切出木段的最小值，为最长的木头切k段\n",
    "        max_length = self.find_max(L)\n",
    "        min_wood_length = max_lenght // k\n",
    "        max_wood_length = max_length\n",
    "    \n",
    "    def find_max(self, L):\n",
    "        max_length = L[0]\n",
    "        for i in range(1, len(L)):\n",
    "            if L[i] > max_length:\n",
    "                max_length = L[i]\n",
    "        return max_length\n"
   ]
  }
 ],
 "metadata": {
  "kernelspec": {
   "display_name": "Python 3",
   "language": "python",
   "name": "python3"
  },
  "language_info": {
   "codemirror_mode": {
    "name": "ipython",
    "version": 3
   },
   "file_extension": ".py",
   "mimetype": "text/x-python",
   "name": "python",
   "nbconvert_exporter": "python",
   "pygments_lexer": "ipython3",
   "version": "3.7.1"
  }
 },
 "nbformat": 4,
 "nbformat_minor": 2
}
