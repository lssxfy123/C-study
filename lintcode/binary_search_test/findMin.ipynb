{
 "cells": [
  {
   "cell_type": "code",
   "execution_count": 1,
   "metadata": {},
   "outputs": [],
   "source": [
    "# Copyright(C) 2021 刘珅珅\n",
    "# Environment: python 3.7\n",
    "# Date: 2021.2.21\n",
    "# 寻找旋转排序数组中的最小值：lintcode 159"
   ]
  },
  {
   "cell_type": "code",
   "execution_count": 7,
   "metadata": {},
   "outputs": [],
   "source": [
    "class Solution:\n",
    "    \"\"\"\n",
    "    @param nums: a rotated sorted array\n",
    "    @return: the minimum number in the array\n",
    "    \"\"\"\n",
    "    def findMin(self, nums):\n",
    "        # write your code here\n",
    "        if not nums or len(nums) == 0:\n",
    "            return None\n",
    "        \n",
    "        left, right = 0, len(nums) - 1\n",
    "        ## 旋转排序后的数组分成了两个升序的序列，其分割处就是最小值\n",
    "        ## 分割这两个序列有两种方式(手动绘图看得比较明显)，数组中没有重复元素\n",
    "        ## 其一是A[mid] < nums[0]，则肯定在第二个序列\n",
    "        ## 其二是A[mid] <= nums[-1]，则也是在第二个序列，\n",
    "        ## 之所以选择nums[-1]是因为原始排序数组其实是特殊的旋转排序数组，这时如果选择nums[0]就无法找到最小值了\n",
    "        target = nums[-1]\n",
    "        while left + 1 < right:\n",
    "            mid = (left + right) // 2           \n",
    "            if nums[mid] <= target:\n",
    "                right = mid\n",
    "            else:\n",
    "                left = mid\n",
    "        \n",
    "        return min(nums[left], nums[right])\n",
    "        \n",
    "            "
   ]
  },
  {
   "cell_type": "code",
   "execution_count": 8,
   "metadata": {},
   "outputs": [
    {
     "name": "stdout",
     "output_type": "stream",
     "text": [
      "0 3 6\n",
      "3 4 6\n",
      "0\n"
     ]
    }
   ],
   "source": [
    "solution = Solution()\n",
    "nums = [4, 5, 6, 7, 0, 1, 2]\n",
    "print(solution.findMin(nums))"
   ]
  },
  {
   "cell_type": "code",
   "execution_count": null,
   "metadata": {},
   "outputs": [],
   "source": []
  }
 ],
 "metadata": {
  "kernelspec": {
   "display_name": "Python 3",
   "language": "python",
   "name": "python3"
  },
  "language_info": {
   "codemirror_mode": {
    "name": "ipython",
    "version": 3
   },
   "file_extension": ".py",
   "mimetype": "text/x-python",
   "name": "python",
   "nbconvert_exporter": "python",
   "pygments_lexer": "ipython3",
   "version": "3.7.1"
  }
 },
 "nbformat": 4,
 "nbformat_minor": 2
}
