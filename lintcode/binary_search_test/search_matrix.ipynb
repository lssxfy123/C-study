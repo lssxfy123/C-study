{
 "cells": [
  {
   "cell_type": "code",
   "execution_count": 1,
   "metadata": {},
   "outputs": [],
   "source": [
    "# Copyright(C) 2021 刘珅珅\n",
    "# Environment: python 3.7\n",
    "# Date: 2021.3.22\n",
    "# 搜索二维矩阵：lintcode 28"
   ]
  },
  {
   "cell_type": "markdown",
   "metadata": {},
   "source": [
    "# 时间复杂度要求为O(logn + logm)\n",
    "### 不能先在第1列上找到比target小的元素所在的最后一行，然后再在这一行去判断是否存在，尽管在列和行上都可以使用 二分，但获取第1列元素的时间复杂度为O(m)\n",
    "### 同样，也不能直接对矩阵进行二分（lintcode 390），因为矩阵的中间点如果比target小的话，无法判断是应该向左还是想要移动（可以判断向上还是向下，只要判断中间行的尾元素与target的大小）"
   ]
  },
  {
   "cell_type": "code",
   "execution_count": 6,
   "metadata": {},
   "outputs": [],
   "source": [
    "class Solution:\n",
    "    \"\"\"\n",
    "    @param matrix: matrix, a list of lists of integers\n",
    "    @param target: An integer\n",
    "    @return: a boolean, indicate whether matrix contains target\n",
    "    \"\"\"\n",
    "    def searchMatrix(self, matrix, target):\n",
    "        # write your code here\n",
    "        if not matrix or not matrix[0]:\n",
    "            return False\n",
    "        m, n = len(matrix), len(matrix[0])\n",
    "        \n",
    "        ## 时间复杂度为O(log(n * m))=O(logn + logm)\n",
    "        start, end = 0, n * m - 1\n",
    "        while start + 1 < end:\n",
    "            mid = (start + end) // 2\n",
    "            if self.get(matrix, mid) < target:\n",
    "                start = mid\n",
    "            else:\n",
    "                end = mid\n",
    "        \n",
    "        if self.get(matrix, start) == target or self.get(matrix, end) == target:\n",
    "            return True\n",
    "        return False\n",
    "    \n",
    "    ## 把一个二维矩阵，看成一个数组，二维坐标转一维坐标\n",
    "    ## x, y->x*m+y\n",
    "    def get(self, matrix, index):\n",
    "        x = index // len(matrix[0])\n",
    "        y = index % len(matrix[0])\n",
    "        return matrix[x][y]\n",
    "\n",
    "    \n",
    "    "
   ]
  },
  {
   "cell_type": "code",
   "execution_count": 7,
   "metadata": {},
   "outputs": [
    {
     "name": "stdout",
     "output_type": "stream",
     "text": [
      "True\n"
     ]
    }
   ],
   "source": [
    "solution = Solution()\n",
    "matrix = [\n",
    "  [1, 3, 5, 7],\n",
    "  [10, 11, 16, 20],\n",
    "  [23, 30, 34, 50]]\n",
    "target = 3\n",
    "matrix = [[1,3,5,7],[10,11,16,20],[23,30,34,50]]\n",
    "target = 7\n",
    "print(solution.searchMatrix(matrix, target))"
   ]
  },
  {
   "cell_type": "code",
   "execution_count": 8,
   "metadata": {},
   "outputs": [
    {
     "data": {
      "text/plain": [
       "[1, 3, 5, 7]"
      ]
     },
     "execution_count": 8,
     "metadata": {},
     "output_type": "execute_result"
    }
   ],
   "source": [
    "matrix = [[1,3,5,7],[10,11,16,20],[23,30,34,50]]\n",
    "matrix[:][0]"
   ]
  },
  {
   "cell_type": "code",
   "execution_count": null,
   "metadata": {},
   "outputs": [],
   "source": []
  }
 ],
 "metadata": {
  "kernelspec": {
   "display_name": "Python 3",
   "language": "python",
   "name": "python3"
  },
  "language_info": {
   "codemirror_mode": {
    "name": "ipython",
    "version": 3
   },
   "file_extension": ".py",
   "mimetype": "text/x-python",
   "name": "python",
   "nbconvert_exporter": "python",
   "pygments_lexer": "ipython3",
   "version": "3.7.1"
  }
 },
 "nbformat": 4,
 "nbformat_minor": 2
}
