{
 "cells": [
  {
   "cell_type": "code",
   "execution_count": 1,
   "metadata": {},
   "outputs": [],
   "source": [
    "# Copyright(C) 2021 刘珅珅\n",
    "# Environment: python 3.7\n",
    "# Date: 2021.2.21\n",
    "# 搜索旋转排序数组：lintcode 62"
   ]
  },
  {
   "cell_type": "code",
   "execution_count": 11,
   "metadata": {},
   "outputs": [],
   "source": [
    "class Solution:\n",
    "    \"\"\"\n",
    "    @param A: an integer rotated sorted array\n",
    "    @param target: an integer to be searched\n",
    "    @return: an integer\n",
    "    \"\"\"\n",
    "    def search(self, A, target):\n",
    "        # write your code here\n",
    "        if not A or len(A) == 0:\n",
    "            return -1\n",
    "        \n",
    "        left, right = 0, len(A) - 1\n",
    "        ## 二分法的基本原理，就是将target包围在A[left]和A[right]之间\n",
    "        while left + 1 < right:\n",
    "            mid = (left + right) // 2\n",
    "            if A[mid] == target:\n",
    "                return mid\n",
    "            \n",
    "            ## 排序数组旋转后，将数组分成两个上升的序列(如果未旋转，则只有1个上升序列)\n",
    "            ## 无论哪种情况，如果A[mid] >= A[left]，说明mid和left在同一个序列中(mid>=left，如果处在不同序列，则A[mid]<A[left])\n",
    "            if A[mid] >= A[left]:\n",
    "                ## 如果target在A[left]与A[mid]中间，则肯定是将right指针左移到mid，这样移动后，target仍然在A[left]和A[right]之间\n",
    "                ## 这符合二分法的基本原理\n",
    "                if A[left] <= target < A[mid]:\n",
    "                    right = mid\n",
    "                else:\n",
    "                    ## target不在A[left]和A[mid]之间:\n",
    "                    ## 1. target < A[left](此时肯定小于A[mid], 因为A[mid]>=A[left])，说明target要么不在A中(未旋转的数组)，要么在右下的\n",
    "                    ## 上升序列中，此时left指针右移到mid，移动后，target在A[left]和A[right]之间\n",
    "                    ## 2. target > A[mid]，此时target肯定在左上部分的上升序列中，将left指针右移到mid，移动后，target在A[left]和A[right]之间\n",
    "                    left = mid\n",
    "            else:\n",
    "                ## 如果A[mid] < A[left]，说明肯定有两个上升序列，而且mid和left在不同序列中，left在左上部分的序列，mid在右下序列\n",
    "                ## 如果target在A[mid]和A[right]之间，肯定是将left指针右移到mid，这样移动后，target仍然在A[left]和A[right]之间\n",
    "                if A[mid] < target <= A[right]:\n",
    "                    left = mid\n",
    "                else:\n",
    "                    ## 1. target < A[mid]，此时target也肯定在右下序列(左上序列的值都大于等于A[left], A[left] > A[mid])，\n",
    "                    ## 所以将right指针左移，移动后，target仍然在A[left]和A[right]之间\n",
    "                    ## 2. target > A[right]，此时target肯定在左上序列(A[right]是右下序列的最大值)，mid在右下序列，所以将right指针左移，\n",
    "                    ## 移动后，target仍然在A[left]和A[right]之间\n",
    "                    right = mid\n",
    "                \n",
    "        \n",
    "        if A[left] == target:\n",
    "            return left\n",
    "        if A[right] == target:\n",
    "            return right\n",
    "        \n",
    "        return -1\n",
    "\n",
    "        \n",
    "            "
   ]
  },
  {
   "cell_type": "code",
   "execution_count": 12,
   "metadata": {},
   "outputs": [
    {
     "name": "stdout",
     "output_type": "stream",
     "text": [
      "5\n"
     ]
    }
   ],
   "source": [
    "solution = Solution()\n",
    "nums = [6,8,9,1,3,5]\n",
    "target = 5\n",
    "print(solution.search(nums, target))"
   ]
  },
  {
   "cell_type": "code",
   "execution_count": null,
   "metadata": {},
   "outputs": [],
   "source": []
  }
 ],
 "metadata": {
  "kernelspec": {
   "display_name": "Python 3",
   "language": "python",
   "name": "python3"
  },
  "language_info": {
   "codemirror_mode": {
    "name": "ipython",
    "version": 3
   },
   "file_extension": ".py",
   "mimetype": "text/x-python",
   "name": "python",
   "nbconvert_exporter": "python",
   "pygments_lexer": "ipython3",
   "version": "3.7.1"
  }
 },
 "nbformat": 4,
 "nbformat_minor": 2
}
