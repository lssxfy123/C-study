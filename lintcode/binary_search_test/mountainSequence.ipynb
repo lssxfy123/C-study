{
 "cells": [
  {
   "cell_type": "code",
   "execution_count": 1,
   "metadata": {},
   "outputs": [],
   "source": [
    "# Copyright(C) 2021 刘珅珅\n",
    "# Environment: python 3.7\n",
    "# Date: 2021.2.16\n",
    "# 山脉序列中的最大值：lintcode 585"
   ]
  },
  {
   "cell_type": "code",
   "execution_count": 1,
   "metadata": {},
   "outputs": [],
   "source": [
    "class Solution:\n",
    "    \"\"\"\n",
    "    @param nums: An integer array sorted in ascending order\n",
    "    @param target: An integer\n",
    "    @return: An integer\n",
    "    \"\"\"\n",
    "    def mountainSequence(self, nums):\n",
    "        # write your code here\n",
    "        if not nums or len(nums) == 0:\n",
    "            return None\n",
    "        if len(nums) == 1:\n",
    "            return nums[0]\n",
    "        \n",
    "        start = 0\n",
    "        end = len(nums) - 1\n",
    "        \n",
    "        ## start + 1 < end而不是start<end，这是为了防止start与end相差1，而target正好在end位置的情况\n",
    "        while start + 1 < end:\n",
    "            ## 在C++,Java中要写成mid = start + (end - start) / 2\n",
    "            mid = (start + end) // 2\n",
    "            if nums[mid] > nums[mid - 1] and nums[mid] > nums[mid + 1]:\n",
    "                return nums[mid]\n",
    "            \n",
    "            if nums[mid] > nums[mid - 1] or nums[mid] < nums[mid + 1]:\n",
    "                start = mid\n",
    "                continue\n",
    "            \n",
    "            if nums[mid] > nums[mid + 1] or nums[mid] < nums[mid - 1]:\n",
    "                end = mid\n",
    "                \n",
    "            \n",
    "        ## while循环结束后，单独处理start,end\n",
    "        if nums[end] >= nums[start]:\n",
    "            return nums[end]\n",
    "        return nums[start]\n",
    "            "
   ]
  },
  {
   "cell_type": "code",
   "execution_count": 4,
   "metadata": {},
   "outputs": [
    {
     "name": "stdout",
     "output_type": "stream",
     "text": [
      "8\n"
     ]
    }
   ],
   "source": [
    "solution = Solution()\n",
    "nums = [1, 2, 4, 8, 6, 3]\n",
    "print(solution.mountainSequence(nums))"
   ]
  },
  {
   "cell_type": "code",
   "execution_count": null,
   "metadata": {},
   "outputs": [],
   "source": []
  }
 ],
 "metadata": {
  "kernelspec": {
   "display_name": "Python 3",
   "language": "python",
   "name": "python3"
  },
  "language_info": {
   "codemirror_mode": {
    "name": "ipython",
    "version": 3
   },
   "file_extension": ".py",
   "mimetype": "text/x-python",
   "name": "python",
   "nbconvert_exporter": "python",
   "pygments_lexer": "ipython3",
   "version": "3.7.1"
  }
 },
 "nbformat": 4,
 "nbformat_minor": 2
}
