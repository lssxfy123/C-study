{
 "cells": [
  {
   "cell_type": "code",
   "execution_count": 1,
   "metadata": {},
   "outputs": [],
   "source": [
    "# Copyright(C) 2021 刘珅珅\n",
    "# Environment: python 3.7\n",
    "# Date: 2021.4.20\n",
    "# 最长上升连续子序列：lintcode 397"
   ]
  },
  {
   "cell_type": "code",
   "execution_count": 1,
   "metadata": {},
   "outputs": [],
   "source": [
    "class Solution:\n",
    "    \"\"\"\n",
    "    @param A: An array of Integer\n",
    "    @return: an integer\n",
    "    \"\"\"\n",
    "    def longestIncreasingContinuousSubsequence(self, A):\n",
    "        # write your code here\n",
    "        if not A:\n",
    "            return 0\n",
    "        ## incr记录以A[i]为终点的上升序列的长度\n",
    "        ## desc记录以A[i]为终点的下降序列的长度\n",
    "        longest, incr, desc = 1, 1, 1\n",
    "        for i in range(1, len(A)):\n",
    "            if A[i] > A[i - 1]:\n",
    "                incr += 1\n",
    "                desc = 1\n",
    "            elif A[i] < A[i - 1]:\n",
    "                incr = 1\n",
    "                desc += 1\n",
    "            ## 相等的情况\n",
    "            else:\n",
    "                incr = 1\n",
    "                desc = 1\n",
    "            longest = max(longest, incr, desc)\n",
    "        return longest\n",
    "            "
   ]
  },
  {
   "cell_type": "code",
   "execution_count": 2,
   "metadata": {},
   "outputs": [
    {
     "name": "stdout",
     "output_type": "stream",
     "text": [
      "4\n"
     ]
    }
   ],
   "source": [
    "A = [5, 4, 2, 1, 3]\n",
    "solution = Solution()\n",
    "print(solution.longestIncreasingContinuousSubsequence(A))"
   ]
  },
  {
   "cell_type": "code",
   "execution_count": null,
   "metadata": {},
   "outputs": [],
   "source": []
  }
 ],
 "metadata": {
  "kernelspec": {
   "display_name": "Python 3",
   "language": "python",
   "name": "python3"
  },
  "language_info": {
   "codemirror_mode": {
    "name": "ipython",
    "version": 3
   },
   "file_extension": ".py",
   "mimetype": "text/x-python",
   "name": "python",
   "nbconvert_exporter": "python",
   "pygments_lexer": "ipython3",
   "version": "3.7.1"
  }
 },
 "nbformat": 4,
 "nbformat_minor": 2
}
