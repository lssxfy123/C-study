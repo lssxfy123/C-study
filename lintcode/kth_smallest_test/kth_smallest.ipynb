{
 "cells": [
  {
   "cell_type": "code",
   "execution_count": 2,
   "metadata": {},
   "outputs": [],
   "source": [
    "# Copyright(C) 2021 刘珅珅\n",
    "# Environment: python 3.7\n",
    "# Date: 2021.4.13\n",
    "# 无序数组K小元素：lintcode 461"
   ]
  },
  {
   "cell_type": "code",
   "execution_count": 1,
   "metadata": {},
   "outputs": [],
   "source": [
    "class Solution:\n",
    "    \"\"\"\n",
    "    @param k: An integer\n",
    "    @param nums: An integer array\n",
    "    @return: kth smallest element\n",
    "    \"\"\"\n",
    "    def kthSmallest(self, k, nums):\n",
    "        # write your code here\n",
    "        if not nums or k <= 0:\n",
    "            return -1\n",
    "        self.quick_select(nums, 0, len(nums) - 1, k)\n",
    "        if k < len(nums):\n",
    "            return nums[k - 1]\n",
    "        return nums[-1]\n",
    "    \n",
    "    def quick_select(self, nums, start, end, k):\n",
    "        if start >= end:\n",
    "            return\n",
    "        \n",
    "        left = start\n",
    "        right = end\n",
    "        pivot = nums[(start + end) // 2]\n",
    "        while left <= right:\n",
    "            while left <= right and nums[left] < pivot:\n",
    "                left += 1\n",
    "            while left <= right and nums[right] > pivot:\n",
    "                right -= 1\n",
    "            \n",
    "            if left <= right:\n",
    "                nums[left], nums[right] = nums[right], nums[left]\n",
    "                left += 1\n",
    "                right -= 1\n",
    "        if k - 1 <= right:\n",
    "            self.quick_select(nums, start, right, k)\n",
    "        else:\n",
    "            self.quick_select(nums, left, end, k)\n",
    "        "
   ]
  },
  {
   "cell_type": "code",
   "execution_count": 2,
   "metadata": {},
   "outputs": [
    {
     "name": "stdout",
     "output_type": "stream",
     "text": [
      "3\n"
     ]
    }
   ],
   "source": [
    "solution = Solution()\n",
    "nums = [3, 4, 1, 2, 5]\n",
    "k = 3\n",
    "print(solution.kthSmallest(k, nums))"
   ]
  },
  {
   "cell_type": "code",
   "execution_count": null,
   "metadata": {},
   "outputs": [],
   "source": []
  }
 ],
 "metadata": {
  "kernelspec": {
   "display_name": "Python 3",
   "language": "python",
   "name": "python3"
  },
  "language_info": {
   "codemirror_mode": {
    "name": "ipython",
    "version": 3
   },
   "file_extension": ".py",
   "mimetype": "text/x-python",
   "name": "python",
   "nbconvert_exporter": "python",
   "pygments_lexer": "ipython3",
   "version": "3.7.1"
  }
 },
 "nbformat": 4,
 "nbformat_minor": 2
}
