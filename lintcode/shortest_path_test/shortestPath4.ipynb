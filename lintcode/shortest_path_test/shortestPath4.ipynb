{
 "cells": [
  {
   "cell_type": "code",
   "execution_count": 2,
   "metadata": {},
   "outputs": [],
   "source": [
    "# Copyright(C) 2021 刘珅珅\n",
    "# Environment: python 3.7\n",
    "# Date: 2021.3.5\n",
    "# 骑士的最短路线：lintcode 611\n",
    "import collections"
   ]
  },
  {
   "cell_type": "code",
   "execution_count": 3,
   "metadata": {},
   "outputs": [],
   "source": [
    "class Point:\n",
    "    def __init__(self, a=0, b=0):\n",
    "        self.x = a\n",
    "        self.y = b"
   ]
  },
  {
   "cell_type": "code",
   "execution_count": 13,
   "metadata": {},
   "outputs": [],
   "source": [
    "class Solution:\n",
    "    def __init__(self):\n",
    "        self.DIRECTIONS = [(1, 2), (1, -2), (-1, 2), (-1, -2), (2, 1), (2, -1), (-2, 1), (-2, -1)]\n",
    "    \"\"\"\n",
    "    @param grid: a chessboard included 0 (false) and 1 (true)\n",
    "    @param source: a point\n",
    "    @param destination: a point\n",
    "    @return: the shortest path \n",
    "    \"\"\"\n",
    "    def shortestPath(self, grid, source, destination):\n",
    "        # write your code here\n",
    "        if not grid or not grid[0] or not source or not destination:\n",
    "            return -1\n",
    "        \n",
    "        n, m = len(grid), len(grid[0])\n",
    "        queue = collections.deque([(source.x,source.y)])\n",
    "        distance = {(source.x, source.y): 0}  ## 不直接用source为key的原因是grid中不是Point\n",
    "        \n",
    "        while queue:\n",
    "            x, y = queue.popleft()\n",
    "            if x == destination.x and y == destination.y:  ## 到达目的地\n",
    "                return distance[(x, y)]\n",
    "            \n",
    "            for delta_x, delta_y in self.DIRECTIONS:\n",
    "                new_x = x + delta_x\n",
    "                new_y = y + delta_y\n",
    "                \n",
    "                if not self.is_valid(grid, new_x, new_y, distance):\n",
    "                    continue\n",
    "                distance[(new_x, new_y)] = distance[(x, y)] + 1\n",
    "                queue.append((new_x, new_y))\n",
    "        \n",
    "        return -1\n",
    "    \n",
    "    def is_valid(self, grid, x, y, distance):\n",
    "        n, m = len(grid), len(grid[0])\n",
    "        if not(0 <= x < n and 0 <= y < m):\n",
    "            return False\n",
    "        \n",
    "        if (x, y) in distance:\n",
    "            return False\n",
    "        return not grid[x][y]\n",
    "        "
   ]
  },
  {
   "cell_type": "code",
   "execution_count": 14,
   "metadata": {},
   "outputs": [
    {
     "name": "stdout",
     "output_type": "stream",
     "text": [
      "2\n"
     ]
    }
   ],
   "source": [
    "solution = Solution()\n",
    "grid = [[0,0,0],[0,0,0],[0,0,0]]\n",
    "src = Point(2, 0)\n",
    "dest = Point(2, 2)\n",
    "print(solution.shortestPath(grid, src, dest))"
   ]
  },
  {
   "cell_type": "code",
   "execution_count": 8,
   "metadata": {},
   "outputs": [
    {
     "name": "stdout",
     "output_type": "stream",
     "text": [
      "[[False, False, False, False], [False, False, False, False], [False, False, False, False]]\n"
     ]
    }
   ],
   "source": [
    "        n, m = 3, 4\n",
    "\n",
    "        visited = [[False for _ in range(m)] for _ in range(n)]\n",
    "        print(visited)"
   ]
  },
  {
   "cell_type": "code",
   "execution_count": null,
   "metadata": {},
   "outputs": [],
   "source": []
  }
 ],
 "metadata": {
  "kernelspec": {
   "display_name": "Python 3",
   "language": "python",
   "name": "python3"
  },
  "language_info": {
   "codemirror_mode": {
    "name": "ipython",
    "version": 3
   },
   "file_extension": ".py",
   "mimetype": "text/x-python",
   "name": "python",
   "nbconvert_exporter": "python",
   "pygments_lexer": "ipython3",
   "version": "3.7.1"
  }
 },
 "nbformat": 4,
 "nbformat_minor": 2
}
