{
 "cells": [
  {
   "cell_type": "code",
   "execution_count": 1,
   "metadata": {},
   "outputs": [],
   "source": [
    "# Copyright(C) 2021 刘珅珅\n",
    "# Environment: python 3.7\n",
    "# Date: 2021.3.26\n",
    "# 骑士的最短路线：lintcode 611\n",
    "import collections"
   ]
  },
  {
   "cell_type": "code",
   "execution_count": 3,
   "metadata": {},
   "outputs": [],
   "source": [
    "class Point:\n",
    "    def __init__(self, a=0, b=0):\n",
    "        self.x = a\n",
    "        self.y = b"
   ]
  },
  {
   "cell_type": "markdown",
   "metadata": {},
   "source": [
    "# 双向宽度优先搜索"
   ]
  },
  {
   "cell_type": "code",
   "execution_count": 9,
   "metadata": {},
   "outputs": [],
   "source": [
    "class Solution:\n",
    "    def __init__(self):\n",
    "        self.DIRECTIONS = [(1, 2), (1, -2), (-1, 2), (-1, -2), (2, 1), (2, -1), (-2, 1), (-2, -1)]\n",
    "    \"\"\"\n",
    "    @param grid: a chessboard included 0 (false) and 1 (true)\n",
    "    @param source: a point\n",
    "    @param destination: a point\n",
    "    @return: the shortest path \n",
    "    \"\"\"\n",
    "    def shortestPath(self, grid, source, destination):\n",
    "        # write your code here\n",
    "        if not grid or not grid[0] or not source or not destination:\n",
    "            return -1\n",
    "        \n",
    "        if grid[destination.x][destination.y]:\n",
    "            return -1\n",
    "        \n",
    "        if (source.x, source.y) == (destination.x, destination.y):\n",
    "            return 0\n",
    "        \n",
    "        n, m = len(grid), len(grid[0])\n",
    "        ## 前向队列，从起点出发\n",
    "        forward_queue = collections.deque([(source.x,source.y)])\n",
    "        forward_set = set([(source.x, source.y)])\n",
    "        \n",
    "        ## 后向队列，从终点出发\n",
    "        backward_queue = collections.deque([(destination.x, destination.y)])\n",
    "        backward_set = set([(destination.x, destination.y)])\n",
    "        distance = 0\n",
    "        \n",
    "        while forward_queue and backward_queue:\n",
    "            distance += 1\n",
    "            if self.extend_queue(forward_queue, forward_set, backward_set, grid):\n",
    "                return distance\n",
    "            \n",
    "            distance += 1\n",
    "            if self.extend_queue(backward_queue, backward_set, forward_set, grid):\n",
    "                return distance\n",
    "            \n",
    "        \n",
    "        return -1\n",
    "    \n",
    "    def extend_queue(self, queue, visited, opposite_visited, grid):\n",
    "        for _ in range(len(queue)):\n",
    "            x, y = queue.popleft()\n",
    "            for delta_x, delta_y in self.DIRECTIONS:\n",
    "                new_x, new_y = x + delta_x, y + delta_y\n",
    "                if not self.is_valid(grid, new_x, new_y, visited):\n",
    "                    continue\n",
    "                \n",
    "                if (new_x, new_y) in opposite_visited:\n",
    "                    return True\n",
    "                queue.append((new_x, new_y))\n",
    "                visited.add((new_x, new_y))\n",
    "        return False\n",
    "    \n",
    "    def is_valid(self, grid, x, y, visited):\n",
    "        n, m = len(grid), len(grid[0])\n",
    "        if not(0 <= x < n and 0 <= y < m):\n",
    "            return False\n",
    "        \n",
    "        if (x, y) in visited:\n",
    "            return False\n",
    "        return not grid[x][y]\n",
    "        "
   ]
  },
  {
   "cell_type": "code",
   "execution_count": 10,
   "metadata": {},
   "outputs": [
    {
     "name": "stdout",
     "output_type": "stream",
     "text": [
      "2\n"
     ]
    }
   ],
   "source": [
    "solution = Solution()\n",
    "grid = [[1,1,0,0],[0,0,0,0],[0,1,1,1],[1,1,1,0]]\n",
    "src = Point(1, 0)\n",
    "dest = Point(2, 2)\n",
    "print(solution.shortestPath(grid, src, dest))"
   ]
  },
  {
   "cell_type": "code",
   "execution_count": null,
   "metadata": {},
   "outputs": [],
   "source": []
  }
 ],
 "metadata": {
  "kernelspec": {
   "display_name": "Python 3",
   "language": "python",
   "name": "python3"
  },
  "language_info": {
   "codemirror_mode": {
    "name": "ipython",
    "version": 3
   },
   "file_extension": ".py",
   "mimetype": "text/x-python",
   "name": "python",
   "nbconvert_exporter": "python",
   "pygments_lexer": "ipython3",
   "version": "3.7.1"
  }
 },
 "nbformat": 4,
 "nbformat_minor": 2
}
