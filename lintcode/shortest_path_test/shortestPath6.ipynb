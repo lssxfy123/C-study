{
 "cells": [
  {
   "cell_type": "code",
   "execution_count": 3,
   "metadata": {},
   "outputs": [],
   "source": [
    "# Copyright(C) 2021 刘珅珅\n",
    "# Environment: python 3.7\n",
    "# Date: 2021.3.27\n",
    "# 骑士的最短路径II：lintcode 630\n",
    "import collections"
   ]
  },
  {
   "cell_type": "markdown",
   "metadata": {},
   "source": [
    "# 双向宽度优先搜索"
   ]
  },
  {
   "cell_type": "code",
   "execution_count": 6,
   "metadata": {},
   "outputs": [],
   "source": [
    "class Solution:\n",
    "    def __init__(self):\n",
    "        ## BFS的方向和动态规划有所不同，BFS是从(x, y)下一步能走到哪里\n",
    "        ## 而动态规划一般是从哪个点能走到(x, y)，它们的方向一般是相反的\n",
    "        ## 起始只能朝右走A\n",
    "        self.FORWARD_DIRECTIONS = [(1, 2), (-1, 2), (2, 1), (-2, 1)]\n",
    "        \n",
    "        ## 终点只能朝左走\n",
    "        self.BACKWARD_DIRECTIONS = [(-1, -2), (1, -2), (2, -1), (-2, -1)]\n",
    "    \"\"\"\n",
    "    @param grid: a chessboard included 0 (false) and 1 (true)\n",
    "    @param source: a point\n",
    "    @param destination: a point\n",
    "    @return: the shortest path \n",
    "    \"\"\"\n",
    "    def shortestPath2(self, grid):\n",
    "        # write your code here\n",
    "        if not grid or not grid[0]:\n",
    "            return -1\n",
    "        \n",
    "        n, m = len(grid), len(grid[0])\n",
    "        if grid[n - 1][m - 1]:\n",
    "            return -1\n",
    "        \n",
    "        if n * m == 1:\n",
    "            return 0\n",
    "        \n",
    "        \n",
    "        ## 前向队列，从起点出发\n",
    "        forward_queue = collections.deque([(0, 0)])\n",
    "        forward_set = set([(0, 0)])\n",
    "        \n",
    "        ## 后向队列，从终点出发\n",
    "        backward_queue = collections.deque([(n - 1, m - 1)])\n",
    "        backward_set = set([(n - 1, m - 1)])\n",
    "        distance = 0\n",
    "        \n",
    "        ## distance加两次，是因为从起点走了1步，从终点走了1步\n",
    "        while forward_queue and backward_queue:\n",
    "            distance += 1\n",
    "            if self.extend_queue(forward_queue, forward_set, self.FORWARD_DIRECTIONS, backward_set, grid):\n",
    "                return distance\n",
    "            \n",
    "            distance += 1\n",
    "            if self.extend_queue(backward_queue, backward_set, self.BACKWARD_DIRECTIONS, forward_set, grid):\n",
    "                return distance\n",
    "            \n",
    "        return -1\n",
    "    \n",
    "    def extend_queue(self, queue, visited, directions, opposite_visited, grid):\n",
    "        for _ in range(len(queue)):\n",
    "            x, y = queue.popleft()\n",
    "            for delta_x, delta_y in directions:\n",
    "                new_x, new_y = x + delta_x, y + delta_y\n",
    "                if not self.is_valid(grid, new_x, new_y, visited):\n",
    "                    continue\n",
    "                \n",
    "                if (new_x, new_y) in opposite_visited:\n",
    "                    return True\n",
    "                queue.append((new_x, new_y))\n",
    "                visited.add((new_x, new_y))\n",
    "        return False\n",
    "    \n",
    "    def is_valid(self, grid, x, y, visited):\n",
    "        n, m = len(grid), len(grid[0])\n",
    "        if not(0 <= x < n and 0 <= y < m):\n",
    "            return False\n",
    "        \n",
    "        if (x, y) in visited:\n",
    "            return False\n",
    "        return not grid[x][y]\n",
    "        "
   ]
  },
  {
   "cell_type": "code",
   "execution_count": 7,
   "metadata": {},
   "outputs": [
    {
     "name": "stdout",
     "output_type": "stream",
     "text": [
      "3\n"
     ]
    }
   ],
   "source": [
    "solution = Solution()\n",
    "grid = [[0,0,0,0],[0,0,0,0],[0,0,0,0]]\n",
    "print(solution.shortestPath2(grid))"
   ]
  },
  {
   "cell_type": "code",
   "execution_count": null,
   "metadata": {},
   "outputs": [],
   "source": []
  }
 ],
 "metadata": {
  "kernelspec": {
   "display_name": "Python 3",
   "language": "python",
   "name": "python3"
  },
  "language_info": {
   "codemirror_mode": {
    "name": "ipython",
    "version": 3
   },
   "file_extension": ".py",
   "mimetype": "text/x-python",
   "name": "python",
   "nbconvert_exporter": "python",
   "pygments_lexer": "ipython3",
   "version": "3.7.1"
  }
 },
 "nbformat": 4,
 "nbformat_minor": 2
}
