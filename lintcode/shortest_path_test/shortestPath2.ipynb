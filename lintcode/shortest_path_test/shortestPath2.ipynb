{
 "cells": [
  {
   "cell_type": "code",
   "execution_count": 1,
   "metadata": {},
   "outputs": [],
   "source": [
    "# Copyright(C) 2021 刘珅珅\n",
    "# Environment: python 3.7\n",
    "# Date: 2021.2.27\n",
    "# 骑士的最短路径II：lintcode 630\n",
    "import collections"
   ]
  },
  {
   "cell_type": "code",
   "execution_count": 8,
   "metadata": {},
   "outputs": [],
   "source": [
    "## 哨兵方法的BFS\n",
    "class Solution:\n",
    "    \"\"\"\n",
    "    @param grid: a chessboard included 0 and 1\n",
    "    @return: the shortest path\n",
    "    \"\"\"\n",
    "    def shortestPath2(self, grid):\n",
    "        # write your code here\n",
    "        if not grid or not grid[0]:\n",
    "            return -1\n",
    "        \n",
    "        n, m = len(grid), len(grid[0])\n",
    "        if grid[n - 1][m - 1]:  ## 目的地如果是障碍，就永远无法抵达终点\n",
    "            return -1\n",
    "        if n == 1 and m == 1:\n",
    "            return 0\n",
    "        \n",
    "        DIRECTIONS = [(1, 2), (-1, 2), (2, 1), (-2, 1)]  ## 方向数组\n",
    "        queue = collections.deque()\n",
    "        queue.append((0, 0))\n",
    "        queue.append(None)  ## 插入哨兵\n",
    "        min_path = 0\n",
    "        visited = [[False for _ in range(m)] for _ in range(n)]\n",
    "        \n",
    "        ## 使用BFS算法，采用了其中的哨兵法\n",
    "        while queue:\n",
    "            current_pos = queue.popleft()\n",
    "            if not current_pos:\n",
    "                if queue:\n",
    "                    min_path += 1\n",
    "                    queue.append(None)\n",
    "                    continue\n",
    "                else:\n",
    "                    min_path = -1\n",
    "                    break\n",
    "            x, y = current_pos[0], current_pos[1]\n",
    "            if x == n - 1 and y == m - 1:\n",
    "                break\n",
    "            \n",
    "            for delta_x, delta_y in DIRECTIONS:\n",
    "                new_x = x + delta_x\n",
    "                new_y = y + delta_y\n",
    "                if 0 <= new_x < n and 0 <= new_y < m and not visited[new_x][new_y] and grid[new_x][new_y] == 0:\n",
    "                    visited[new_x][new_y] = True\n",
    "                    queue.append((new_x, new_y))\n",
    " \n",
    "            print(queue, min_path)\n",
    "        return min_path\n",
    "        \n",
    "  \n",
    "                    \n",
    "        "
   ]
  },
  {
   "cell_type": "code",
   "execution_count": 9,
   "metadata": {},
   "outputs": [
    {
     "name": "stdout",
     "output_type": "stream",
     "text": [
      "deque([None, (1, 2)]) 0\n",
      "deque([None]) 1\n",
      "-1\n"
     ]
    }
   ],
   "source": [
    "solution = Solution()\n",
    "grid = [[0,0,0,0],[0,0,0,0],[0,0,0,0]]\n",
    "#rid = [[0,1,0],[0,0,1],[0,0,0]]\n",
    "grid = [[0,0,0,0],[0,0,0,0],[0,1,0,0]]\n",
    "print(solution.shortestPath2(grid))"
   ]
  },
  {
   "cell_type": "code",
   "execution_count": 8,
   "metadata": {},
   "outputs": [
    {
     "name": "stdout",
     "output_type": "stream",
     "text": [
      "[[False, False, False, False], [False, False, False, False], [False, False, False, False]]\n"
     ]
    }
   ],
   "source": [
    "        n, m = 3, 4\n",
    "\n",
    "        visited = [[False for _ in range(m)] for _ in range(n)]\n",
    "        print(visited)"
   ]
  },
  {
   "cell_type": "code",
   "execution_count": null,
   "metadata": {},
   "outputs": [],
   "source": []
  }
 ],
 "metadata": {
  "kernelspec": {
   "display_name": "Python 3",
   "language": "python",
   "name": "python3"
  },
  "language_info": {
   "codemirror_mode": {
    "name": "ipython",
    "version": 3
   },
   "file_extension": ".py",
   "mimetype": "text/x-python",
   "name": "python",
   "nbconvert_exporter": "python",
   "pygments_lexer": "ipython3",
   "version": "3.7.1"
  }
 },
 "nbformat": 4,
 "nbformat_minor": 2
}
