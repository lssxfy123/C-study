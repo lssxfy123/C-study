{
 "cells": [
  {
   "cell_type": "code",
   "execution_count": 2,
   "metadata": {},
   "outputs": [],
   "source": [
    "# Copyright(C) 2021 刘珅珅\n",
    "# Environment: python 3.7\n",
    "# Date: 2021.4.5\n",
    "# 六度问题：lintcode 531"
   ]
  },
  {
   "cell_type": "markdown",
   "metadata": {},
   "source": [
    "# 时间复杂度：O(n+m)，n为无向图结点数，m为无向图边数"
   ]
  },
  {
   "cell_type": "code",
   "execution_count": 1,
   "metadata": {},
   "outputs": [],
   "source": [
    "class UndirectedGraphNode:\n",
    "    def __init__(self, x):\n",
    "        self.label = x\n",
    "        self.neighbors = []"
   ]
  },
  {
   "cell_type": "code",
   "execution_count": 2,
   "metadata": {},
   "outputs": [],
   "source": [
    "import collections\n",
    "\n",
    "class Solution:\n",
    "    \"\"\"\n",
    "    @param: graph: a list of Undirected graph node\n",
    "    @param: s: Undirected graph node\n",
    "    @param: t: Undirected graph nodes\n",
    "    @return: an integer\n",
    "    \"\"\"\n",
    "    def sixDegrees(self, graph, s, t):\n",
    "        # write your code here\n",
    "        if not graph:\n",
    "            return -1\n",
    "        queue = collections.deque([s])\n",
    "        distance = {s : 0}\n",
    "        \n",
    "        while queue:\n",
    "            node = queue.popleft()\n",
    "            if node == t:\n",
    "                return distance[node]\n",
    "            for neighbor in node.neighbors:\n",
    "                if neighbor in distance:\n",
    "                    continue\n",
    "                queue.append(neighbor)\n",
    "                distance[neighbor] = distance[node] + 1\n",
    "        return -1\n"
   ]
  },
  {
   "cell_type": "code",
   "execution_count": null,
   "metadata": {},
   "outputs": [],
   "source": []
  }
 ],
 "metadata": {
  "kernelspec": {
   "display_name": "Python 3",
   "language": "python",
   "name": "python3"
  },
  "language_info": {
   "codemirror_mode": {
    "name": "ipython",
    "version": 3
   },
   "file_extension": ".py",
   "mimetype": "text/x-python",
   "name": "python",
   "nbconvert_exporter": "python",
   "pygments_lexer": "ipython3",
   "version": "3.7.1"
  }
 },
 "nbformat": 4,
 "nbformat_minor": 2
}
