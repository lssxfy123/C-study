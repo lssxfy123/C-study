{
 "cells": [
  {
   "cell_type": "code",
   "execution_count": 1,
   "metadata": {},
   "outputs": [],
   "source": [
    "# Copyright(C) 2021 刘珅珅\n",
    "# Environment: python 3.7\n",
    "# Date: 2021.3.24\n",
    "# 统计前面比自己小的数的个数：lintcode 249"
   ]
  },
  {
   "cell_type": "markdown",
   "metadata": {},
   "source": [
    "# 采用分块检索法，时间复杂度为：$\\sqrt{N}$，其中N为区间的长度，不是数组的长度，本题中区间长度为10000，即数组A中元素的取值范围"
   ]
  },
  {
   "cell_type": "code",
   "execution_count": 1,
   "metadata": {},
   "outputs": [],
   "source": [
    "class Block:\n",
    "    def __init__(self):\n",
    "        self.total = 0\n",
    "        self.counter = {}\n",
    "\n",
    "## 把区间分成101个小区间\n",
    "class BlockArray:\n",
    "    def __init__(self, max_value):\n",
    "        self.blocks = [Block() for _ in range(max_value // 100 + 1)]\n",
    "    \n",
    "    ## 将value插入到对应的区间中\n",
    "    def insert(self, value):\n",
    "        block_index = value // 100\n",
    "        block = self.blocks[block_index]\n",
    "        block.total += 1\n",
    "        block.counter[value] = block.counter.get(value, 0) + 1\n",
    "    \n",
    "    ## 统计比value小的所有值的个数\n",
    "    def count_smaller(self, value):\n",
    "        count = 0\n",
    "        block_index = value // 100\n",
    "        ## 先统计所有小于value所在区间的区间的元素个数\n",
    "        for i in range(block_index):\n",
    "            count += self.blocks[i].total\n",
    "        \n",
    "        ## 本区间比value小的元素个数\n",
    "        counter = self.blocks[block_index].counter\n",
    "        for val in counter:\n",
    "            if val < value:\n",
    "                count += counter[val]\n",
    "        return count\n",
    "\n",
    "class Solution:\n",
    "    \"\"\"\n",
    "    @param A: an integer array\n",
    "    @return: A list of integers includes the index of the first number and the index of the last number\n",
    "    \"\"\"\n",
    "    def countOfSmallerNumberII(self, A):\n",
    "        # write your code here\n",
    "        if not A:\n",
    "            return []\n",
    "        block_array = BlockArray(10000)\n",
    "        results = []\n",
    "        for num in A:\n",
    "            count = block_array.count_smaller(num)\n",
    "            results.append(count)\n",
    "            block_array.insert(num)\n",
    "        \n",
    "        return results\n"
   ]
  },
  {
   "cell_type": "code",
   "execution_count": 3,
   "metadata": {},
   "outputs": [
    {
     "name": "stdout",
     "output_type": "stream",
     "text": [
      "[0, 1, 0, 0, 2]\n"
     ]
    }
   ],
   "source": [
    "A = [1,2,7,8,5]\n",
    "A = [7,8,2,1,3]\n",
    "solution = Solution()\n",
    "print(solution.countOfSmallerNumberII(A))"
   ]
  },
  {
   "cell_type": "code",
   "execution_count": null,
   "metadata": {},
   "outputs": [],
   "source": []
  }
 ],
 "metadata": {
  "kernelspec": {
   "display_name": "Python 3",
   "language": "python",
   "name": "python3"
  },
  "language_info": {
   "codemirror_mode": {
    "name": "ipython",
    "version": 3
   },
   "file_extension": ".py",
   "mimetype": "text/x-python",
   "name": "python",
   "nbconvert_exporter": "python",
   "pygments_lexer": "ipython3",
   "version": "3.7.1"
  }
 },
 "nbformat": 4,
 "nbformat_minor": 2
}
