{
 "cells": [
  {
   "cell_type": "code",
   "execution_count": 1,
   "metadata": {},
   "outputs": [],
   "source": [
    "# Copyright(C) 2021 刘珅珅\n",
    "# Environment: python 3.7\n",
    "# Date: 2021.4.19\n",
    "# 图是否是树：lintcode 178\n",
    "import collections"
   ]
  },
  {
   "cell_type": "code",
   "execution_count": 4,
   "metadata": {},
   "outputs": [],
   "source": [
    "class Solution:\n",
    "    \"\"\"\n",
    "    @param n: An integer\n",
    "    @param edges: a list of undirected edges\n",
    "    @return: true if it's a valid tree, or false\n",
    "    \"\"\"\n",
    "    def validTree(self, n, edges):\n",
    "        # write your code here\n",
    "        ## 如果图有n-1条边，并且没有环，无向图就是一棵树\n",
    "        ## n个结点如果边数不是n-1条，则肯定不会是一棵树，大于n-1条，表示肯定有环\n",
    "        ## 小于n-1条，表示至少有1个点是不连通的\n",
    "        ## 等于n-1条，也未必是一棵树，有可能有结点没有连通，另外的结点包含环\n",
    "        if len(edges) != n - 1:\n",
    "            return False\n",
    "        \n",
    "        graph = self.build_graph(n, edges)\n",
    "        queue = collections.deque()\n",
    "        queue.append(0)\n",
    "        visited = {0 : True}\n",
    "        \n",
    "        while queue:\n",
    "            node = queue.popleft()\n",
    "            for neighbor in graph[node]:\n",
    "                if neighbor in visited:\n",
    "                    continue\n",
    "                visited[neighbor] = True\n",
    "                queue.append(neighbor)\n",
    "        \n",
    "        ## 如果n个结点都被访问过，并且边数是n-1，则表示图是一棵树\n",
    "        return len(visited) == n\n",
    "        \n",
    "    \n",
    "    ## 建图\n",
    "    def build_graph(self, n, edges):\n",
    "        graph = {}\n",
    "        for i in range(n):\n",
    "            graph[i] = []\n",
    "        \n",
    "        for u, v in edges:\n",
    "            graph[u].append(v)\n",
    "            graph[v].append(u)\n",
    "        return graph\n",
    "        "
   ]
  },
  {
   "cell_type": "code",
   "execution_count": 5,
   "metadata": {},
   "outputs": [
    {
     "name": "stdout",
     "output_type": "stream",
     "text": [
      "True\n"
     ]
    }
   ],
   "source": [
    "n = 5\n",
    "edges = [[0, 1], [0, 2], [0, 3], [1, 4]]\n",
    "solution = Solution()\n",
    "print(solution.validTree(n, edges))"
   ]
  },
  {
   "cell_type": "code",
   "execution_count": null,
   "metadata": {},
   "outputs": [],
   "source": []
  }
 ],
 "metadata": {
  "kernelspec": {
   "display_name": "Python 3",
   "language": "python",
   "name": "python3"
  },
  "language_info": {
   "codemirror_mode": {
    "name": "ipython",
    "version": 3
   },
   "file_extension": ".py",
   "mimetype": "text/x-python",
   "name": "python",
   "nbconvert_exporter": "python",
   "pygments_lexer": "ipython3",
   "version": "3.7.1"
  }
 },
 "nbformat": 4,
 "nbformat_minor": 2
}
