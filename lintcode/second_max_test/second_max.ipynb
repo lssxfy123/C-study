{
 "cells": [
  {
   "cell_type": "code",
   "execution_count": 1,
   "metadata": {},
   "outputs": [],
   "source": [
    "# Copyright(C) 2021 刘珅珅\n",
    "# Environment: python 3.7\n",
    "# Date: 2021.4.12\n",
    "# 数组第二大数：lintcode 479"
   ]
  },
  {
   "cell_type": "code",
   "execution_count": 1,
   "metadata": {},
   "outputs": [],
   "source": [
    "class Solution:\n",
    "    \"\"\"\n",
    "    @param nums: An integer array\n",
    "    @return: The second max number in the array.\n",
    "    \"\"\"\n",
    "    def secondMax(self, nums):\n",
    "        # write your code here\n",
    "        if not nums or len(nums) <= 1:\n",
    "            return -1\n",
    "        \n",
    "        first = second = -float('inf')\n",
    "        for num in nums:\n",
    "            if  num >= first:\n",
    "                second = first\n",
    "                first = num\n",
    "            else:\n",
    "                if num >= second:\n",
    "                    second = num\n",
    "        return second\n"
   ]
  },
  {
   "cell_type": "code",
   "execution_count": 2,
   "metadata": {},
   "outputs": [
    {
     "name": "stdout",
     "output_type": "stream",
     "text": [
      "3\n"
     ]
    }
   ],
   "source": [
    "solution = Solution()\n",
    "nums = [1,3,2,4]\n",
    "print(solution.secondMax(nums))"
   ]
  },
  {
   "cell_type": "code",
   "execution_count": null,
   "metadata": {},
   "outputs": [],
   "source": []
  }
 ],
 "metadata": {
  "kernelspec": {
   "display_name": "Python 3",
   "language": "python",
   "name": "python3"
  },
  "language_info": {
   "codemirror_mode": {
    "name": "ipython",
    "version": 3
   },
   "file_extension": ".py",
   "mimetype": "text/x-python",
   "name": "python",
   "nbconvert_exporter": "python",
   "pygments_lexer": "ipython3",
   "version": "3.7.1"
  }
 },
 "nbformat": 4,
 "nbformat_minor": 2
}
