{
 "cells": [
  {
   "cell_type": "code",
   "execution_count": 1,
   "metadata": {},
   "outputs": [],
   "source": [
    "# Copyright(C) 2021 刘珅珅\n",
    "# Environment: python 3.7\n",
    "# Date: 2021.4.20\n",
    "# 乱序字符串：lintcode 171"
   ]
  },
  {
   "cell_type": "markdown",
   "metadata": {},
   "source": [
    "# 时间复杂度：O(n * klogk)，k为字符串的平均长度，n为字符串数组长度"
   ]
  },
  {
   "cell_type": "code",
   "execution_count": 4,
   "metadata": {},
   "outputs": [],
   "source": [
    "class Solution:\n",
    "    \"\"\"\n",
    "    @param strs: A list of strings\n",
    "    @return: A list of strings\n",
    "    \"\"\"\n",
    "    def anagrams(self, strs):\n",
    "        # write your code here\n",
    "        if not strs:\n",
    "            return []\n",
    "        \n",
    "        hash_map = {}\n",
    "        for str in strs:\n",
    "            sorted_str = ''.join(sorted(str))\n",
    "            if sorted_str not in hash_map:\n",
    "                hash_map[sorted_str] = [str]\n",
    "            else:\n",
    "                hash_map[sorted_str].append(str)\n",
    "        result = []\n",
    "        for key in hash_map:\n",
    "            if len(hash_map[key]) >= 2:\n",
    "                result += hash_map[key]\n",
    "        return result\n",
    "                "
   ]
  },
  {
   "cell_type": "code",
   "execution_count": 5,
   "metadata": {},
   "outputs": [
    {
     "name": "stdout",
     "output_type": "stream",
     "text": [
      "['lint', 'intl', 'inlt']\n"
     ]
    }
   ],
   "source": [
    "solution = Solution()\n",
    "strs = [\"lint\", \"intl\", \"inlt\", \"code\"]\n",
    "print(solution.anagrams(strs))"
   ]
  },
  {
   "cell_type": "code",
   "execution_count": null,
   "metadata": {},
   "outputs": [],
   "source": []
  }
 ],
 "metadata": {
  "kernelspec": {
   "display_name": "Python 3",
   "language": "python",
   "name": "python3"
  },
  "language_info": {
   "codemirror_mode": {
    "name": "ipython",
    "version": 3
   },
   "file_extension": ".py",
   "mimetype": "text/x-python",
   "name": "python",
   "nbconvert_exporter": "python",
   "pygments_lexer": "ipython3",
   "version": "3.7.1"
  }
 },
 "nbformat": 4,
 "nbformat_minor": 2
}
