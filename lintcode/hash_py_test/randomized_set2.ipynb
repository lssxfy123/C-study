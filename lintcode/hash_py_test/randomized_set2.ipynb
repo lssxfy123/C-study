{
 "cells": [
  {
   "cell_type": "code",
   "execution_count": 1,
   "metadata": {},
   "outputs": [],
   "source": [
    "# Copyright(C) 2021 刘珅珅\n",
    "# Environment: python 3.7\n",
    "# Date: 2021.3.25\n",
    "# Insert Delete GetRandom O(1) - 允许重复：lintcode 954"
   ]
  },
  {
   "cell_type": "code",
   "execution_count": 1,
   "metadata": {},
   "outputs": [],
   "source": [
    "import random\n",
    "\n",
    "class RandomizedCollection(object):\n",
    "\n",
    "    def __init__(self):\n",
    "        \"\"\"\n",
    "        Initialize your data structure here.\n",
    "        \"\"\"\n",
    "        self.numbers = []\n",
    "        self.val_index = {}\n",
    "        \n",
    "\n",
    "    def insert(self, val):\n",
    "        \"\"\"\n",
    "        Inserts a value to the collection. Returns true if the collection did not already contain the specified element.\n",
    "        :type val: int\n",
    "        :rtype: bool\n",
    "        \"\"\"\n",
    "        flag = val in self.val_index\n",
    "        self.numbers.append(val)\n",
    "        if not flag:\n",
    "            ## 不同于lintcode 657，这里存储索引要用哈希表set，保证插入/删除的时间复杂度为O(1)\n",
    "            self.val_index[val] = set()\n",
    "        \n",
    "        self.val_index[val].add(len(self.numbers) - 1)\n",
    "        return flag\n",
    "\n",
    "    def remove(self, val):\n",
    "        \"\"\"\n",
    "        Removes a value from the collection. Returns true if the collection contained the specified element.\n",
    "        :type val: int\n",
    "        :rtype: bool\n",
    "        \"\"\"\n",
    "        if val not in self.val_index:\n",
    "            return False\n",
    "        \n",
    "        ## 用数组的最后一个元素去覆盖要删除的元素\n",
    "        last = self.numbers[-1]\n",
    "        ## 不能从self.val_index获取，因为set中的元素是无序的\n",
    "        last_index = len(self.numbers) - 1\n",
    "        \n",
    "        ## 从val对应的set中任意弹出一个索引\n",
    "        idx = self.val_index[val].pop()\n",
    "        if idx != last_index:\n",
    "            ## 把last元素对应的索引set中删除last_index\n",
    "            ## 因为之后要把last元素放置到idx处\n",
    "            self.val_index[last].remove(last_index)\n",
    "        ## set自动去重\n",
    "        self.val_index[last].add(idx)\n",
    "        self.numbers[idx] = last\n",
    "        self.numbers.pop()\n",
    "        \n",
    "        ## 如果val不存在了，就从哈希表中删除掉\n",
    "        if not self.val_index[val]:\n",
    "            del self.val_index[val]\n",
    "        return True\n",
    "        \n",
    "\n",
    "    def getRandom(self):\n",
    "        \"\"\"\n",
    "        Get a random element from the collection.\n",
    "        :rtype: int\n",
    "        \"\"\"\n",
    "        ## 与lintcode 657是一致的\n",
    "        return self.numbers[random.randint(0, len(self.numbers) - 1)]\n",
    "\n"
   ]
  },
  {
   "cell_type": "code",
   "execution_count": null,
   "metadata": {},
   "outputs": [],
   "source": []
  }
 ],
 "metadata": {
  "kernelspec": {
   "display_name": "Python 3",
   "language": "python",
   "name": "python3"
  },
  "language_info": {
   "codemirror_mode": {
    "name": "ipython",
    "version": 3
   },
   "file_extension": ".py",
   "mimetype": "text/x-python",
   "name": "python",
   "nbconvert_exporter": "python",
   "pygments_lexer": "ipython3",
   "version": "3.7.1"
  }
 },
 "nbformat": 4,
 "nbformat_minor": 2
}
