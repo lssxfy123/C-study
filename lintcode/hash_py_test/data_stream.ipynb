{
 "cells": [
  {
   "cell_type": "code",
   "execution_count": 1,
   "metadata": {},
   "outputs": [],
   "source": [
    "# Copyright(C) 2021 刘珅珅\n",
    "# Environment: python 3.7\n",
    "# Date: 2021.3.13\n",
    "# 数据流中第一个独特的数 II：lintcode 960"
   ]
  },
  {
   "cell_type": "code",
   "execution_count": 10,
   "metadata": {},
   "outputs": [],
   "source": [
    "## 貌似lintcode已经定义了一个ListNode类\n",
    "class DoubleListNode:\n",
    "    def __init__(self, val = None, prev = None, next = None):\n",
    "        self.val = val\n",
    "        self.prev = prev\n",
    "        self.next = next\n",
    "\n",
    "## 解题思路：需要使用链表和哈希表，因为是求第一个独特的数，数据需要按顺序存储，可以使用数组或链表\n",
    "## 但数值无法在O(1)的时间复杂度内删除任意位置的数组元素，而链表可以，只要知道元素的位置，就可以在O(1)\n",
    "## 注意：这里和lintcode 657中的要求不同，那里可以使用数组尾部元素进行覆盖，然后删除尾部元素，而本题\n",
    "## 要求顺序不能变\n",
    "class DataStream:\n",
    "\n",
    "    def __init__(self):\n",
    "        # do intialization if necessary\n",
    "        self.dummy = DoubleListNode()\n",
    "        self.tail = self.dummy\n",
    "        self.num_to_node = {}\n",
    "        self.duplicate = set()  ## 存储已经删除掉的重复数字，如果后续添加的元素中有这样的数字，直接不添加\n",
    "          \n",
    "    \"\"\"\n",
    "    @param num: next number in stream\n",
    "    @return: nothing\n",
    "    \"\"\"\n",
    "    def add(self, num):\n",
    "        # write your code here\n",
    "        if num in self.duplicate:\n",
    "            return\n",
    "        \n",
    "        if num not in self.num_to_node:\n",
    "            ## 添加到尾部\n",
    "            self.push_back(num)\n",
    "            return\n",
    "        \n",
    "        ## num已经在num_to_node中，但不在duplicate中\n",
    "        self.duplicate.add(num)\n",
    "        ## 删除num_to_node中和num相同的结点\n",
    "        self.remove(num)\n",
    "    \n",
    "    def push_back(self, num):\n",
    "        node = DoubleListNode(num)\n",
    "        node.prev = self.tail\n",
    "        self.tail.next = node\n",
    "        self.tail = node\n",
    "        node.next = None\n",
    "        self.num_to_node[num] = node\n",
    "    \n",
    "    def remove(self, num):\n",
    "        node = self.num_to_node[num]\n",
    "        prev = node.prev\n",
    "        next = node.next\n",
    "        prev.next = next\n",
    "        if not next:  ## 如果next为None，说明node结点是尾结点\n",
    "            self.tail = prev\n",
    "        else:\n",
    "            next.prev = prev\n",
    "        del self.num_to_node[num]\n",
    "        \n",
    "\n",
    "    \"\"\"\n",
    "    @return: the first unique number in stream\n",
    "    \"\"\"\n",
    "    ## 要求只遍历一次\n",
    "    def firstUnique(self):\n",
    "        # write your code here\n",
    "        if not self.dummy.next:  ## 哨兵结点dummy的next就是第1个独特数的结点\n",
    "            return None\n",
    "        return self.dummy.next.val\n",
    "            \n"
   ]
  },
  {
   "cell_type": "code",
   "execution_count": 11,
   "metadata": {},
   "outputs": [
    {
     "name": "stdout",
     "output_type": "stream",
     "text": [
      "1\n",
      "{2: <__main__.ListNode object at 0x000002DC7EB9D5F8>}\n",
      "2\n"
     ]
    }
   ],
   "source": [
    "solution = DataStream()\n",
    "solution.add(1)\n",
    "solution.add(2)\n",
    "print(solution.firstUnique())\n",
    "solution.add(1)\n",
    "print(solution.firstUnique())"
   ]
  },
  {
   "cell_type": "code",
   "execution_count": null,
   "metadata": {},
   "outputs": [],
   "source": []
  }
 ],
 "metadata": {
  "kernelspec": {
   "display_name": "Python 3",
   "language": "python",
   "name": "python3"
  },
  "language_info": {
   "codemirror_mode": {
    "name": "ipython",
    "version": 3
   },
   "file_extension": ".py",
   "mimetype": "text/x-python",
   "name": "python",
   "nbconvert_exporter": "python",
   "pygments_lexer": "ipython3",
   "version": "3.7.1"
  }
 },
 "nbformat": 4,
 "nbformat_minor": 2
}
