{
 "cells": [
  {
   "cell_type": "code",
   "execution_count": 1,
   "metadata": {},
   "outputs": [],
   "source": [
    "# Copyright(C) 2021 刘珅珅\n",
    "# Environment: python 3.7\n",
    "# Date: 2021.3.13\n",
    "# 重哈希：lintcode 129"
   ]
  },
  {
   "cell_type": "code",
   "execution_count": 1,
   "metadata": {},
   "outputs": [],
   "source": [
    "class Solution:\n",
    "    \"\"\"\n",
    "    @param hashTable: A list of The first node of linked list\n",
    "    @return: A list of The first node of linked list which have twice size\n",
    "    \"\"\"\n",
    "    def rehashing(self, hashTable):\n",
    "        # write your code here\n",
    "        hash_size = 2 * len(hashTable)\n",
    "        resultHashTable = [None for _ in range(hash_size)]\n",
    "        for node in hashTable:\n",
    "            while node:\n",
    "                self.add(node.val, resultHashTable)\n",
    "                node = node.next\n",
    "        \n",
    "        return resultHashTable\n",
    "\n",
    "    ## 解决冲突\n",
    "    def conflict(self, number, conflict_node):\n",
    "        while conflict_node.next:\n",
    "            conflict_node = conflit_node.next\n",
    "        conflict_node.next = ListNode(number)\n",
    "        \n",
    "    \n",
    "    def add(self, number, resultHashTable):\n",
    "        hash_code = self.hash_func(number, len(resultHashTable))\n",
    "        if resultHashTable[hash_code] == None: ## 哈希表对应的位置没有元素\n",
    "            resultHashTable[hash_code] = ListNode(number)\n",
    "        else:  ## 分离链表法解决冲突\n",
    "            self.conflict(number, resultHashTable[hash_code])\n",
    "    \n",
    "    def hash_func(self, key, capacity):\n",
    "        return key % capacity\n",
    "\n",
    "        "
   ]
  },
  {
   "cell_type": "code",
   "execution_count": 3,
   "metadata": {},
   "outputs": [
    {
     "name": "stdout",
     "output_type": "stream",
     "text": [
      "78\n"
     ]
    }
   ],
   "source": [
    "solution = Solution()\n",
    "key = \"abcd\"\n",
    "HASH_SIZE = 100\n",
    "print(solution.hashCode(key, HASH_SIZE))"
   ]
  },
  {
   "cell_type": "code",
   "execution_count": null,
   "metadata": {},
   "outputs": [],
   "source": []
  }
 ],
 "metadata": {
  "kernelspec": {
   "display_name": "Python 3",
   "language": "python",
   "name": "python3"
  },
  "language_info": {
   "codemirror_mode": {
    "name": "ipython",
    "version": 3
   },
   "file_extension": ".py",
   "mimetype": "text/x-python",
   "name": "python",
   "nbconvert_exporter": "python",
   "pygments_lexer": "ipython3",
   "version": "3.7.1"
  }
 },
 "nbformat": 4,
 "nbformat_minor": 2
}
