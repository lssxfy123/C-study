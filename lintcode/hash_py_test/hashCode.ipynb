{
 "cells": [
  {
   "cell_type": "code",
   "execution_count": 1,
   "metadata": {},
   "outputs": [],
   "source": [
    "# Copyright(C) 2021 刘珅珅\n",
    "# Environment: python 3.7\n",
    "# Date: 2021.3.13\n",
    "# 哈希函数：lintcode 128"
   ]
  },
  {
   "cell_type": "code",
   "execution_count": 1,
   "metadata": {},
   "outputs": [],
   "source": [
    "class Solution:\n",
    "    \"\"\"\n",
    "    @param key: A string you should hash\n",
    "    @param HASH_SIZE: An integer\n",
    "    @return: An integer\n",
    "    \"\"\"\n",
    "    def hashCode(self, key, HASH_SIZE):\n",
    "        # write your code here\n",
    "        hash_code = 0\n",
    "        base = 33\n",
    "        for char in key:\n",
    "            hash_code = ord(char) + hash_code * base\n",
    "            hash_code = hash_code % HASH_SIZE\n",
    "        \n",
    "        return hash_code\n",
    "\n",
    "        "
   ]
  },
  {
   "cell_type": "code",
   "execution_count": 3,
   "metadata": {},
   "outputs": [
    {
     "name": "stdout",
     "output_type": "stream",
     "text": [
      "78\n"
     ]
    }
   ],
   "source": [
    "solution = Solution()\n",
    "key = \"abcd\"\n",
    "HASH_SIZE = 100\n",
    "print(solution.hashCode(key, HASH_SIZE))"
   ]
  },
  {
   "cell_type": "code",
   "execution_count": null,
   "metadata": {},
   "outputs": [],
   "source": []
  }
 ],
 "metadata": {
  "kernelspec": {
   "display_name": "Python 3",
   "language": "python",
   "name": "python3"
  },
  "language_info": {
   "codemirror_mode": {
    "name": "ipython",
    "version": 3
   },
   "file_extension": ".py",
   "mimetype": "text/x-python",
   "name": "python",
   "nbconvert_exporter": "python",
   "pygments_lexer": "ipython3",
   "version": "3.7.1"
  }
 },
 "nbformat": 4,
 "nbformat_minor": 2
}
