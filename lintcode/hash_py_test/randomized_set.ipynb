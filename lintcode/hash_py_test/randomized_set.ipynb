{
 "cells": [
  {
   "cell_type": "code",
   "execution_count": 1,
   "metadata": {},
   "outputs": [],
   "source": [
    "# Copyright(C) 2021 刘珅珅\n",
    "# Environment: python 3.7\n",
    "# Date: 2021.3.13\n",
    "# O(1)实现数组插入/删除/随机访问：lintcode 657"
   ]
  },
  {
   "cell_type": "code",
   "execution_count": 1,
   "metadata": {},
   "outputs": [],
   "source": [
    "import random\n",
    "\n",
    "class RandomizedSet:\n",
    "    \n",
    "    def __init__(self):\n",
    "        # do intialization if necessary\n",
    "        ## 不能只使用一个哈希表，因为插入/删除需要返回是否成功\n",
    "        ## 后续还有一个follow up lintcode 954，允许重复元素，这样值使用一个哈希表就不行了\n",
    "        self.value_to_index = {}\n",
    "        self.numbers = []\n",
    "\n",
    "    \"\"\"\n",
    "    @param: val: a value to the set\n",
    "    @return: true if the set did not already contain the specified element or false\n",
    "    \"\"\"\n",
    "    def insert(self, val):\n",
    "        # write your code here\n",
    "        ## 重复元素不插入\n",
    "        if val in self.value_to_index:\n",
    "            return False\n",
    "        \n",
    "        self.numbers.append(val)\n",
    "        self.value_to_index[val] = len(self.numbers) - 1\n",
    "        return True\n",
    "\n",
    "    \"\"\"\n",
    "    @param: val: a value from the set\n",
    "    @return: true if the set contained the specified element or false\n",
    "    \"\"\"\n",
    "    def remove(self, val):\n",
    "        # write your code here\n",
    "        if val not in self.value_to_index:\n",
    "            return False\n",
    "        \n",
    "        ## 删除需要0(1)的时间复杂度，所以只能在数组的末尾删除\n",
    "        ## 首先用数组的尾部元素来覆盖要删除的元素，找到其对应的index\n",
    "        ## 将numbers[index]赋值为last，然后更新哈希表中对应的值\n",
    "        index = self.value_to_index[val]\n",
    "        last = self.numbers[-1]\n",
    "        self.numbers[index] = last\n",
    "        self.value_to_index[last] = index\n",
    "        \n",
    "        self.numbers.pop()\n",
    "        del self.value_to_index[val]\n",
    "        return True\n",
    "\n",
    "    \"\"\"\n",
    "    @return: Get a random element from the set\n",
    "    \"\"\"\n",
    "    def getRandom(self):\n",
    "        # write your code here\n",
    "        return self.numbers[random.randint(0, len(self.numbers) - 1)]\n",
    "    \n"
   ]
  },
  {
   "cell_type": "code",
   "execution_count": null,
   "metadata": {},
   "outputs": [],
   "source": []
  }
 ],
 "metadata": {
  "kernelspec": {
   "display_name": "Python 3",
   "language": "python",
   "name": "python3"
  },
  "language_info": {
   "codemirror_mode": {
    "name": "ipython",
    "version": 3
   },
   "file_extension": ".py",
   "mimetype": "text/x-python",
   "name": "python",
   "nbconvert_exporter": "python",
   "pygments_lexer": "ipython3",
   "version": "3.7.1"
  }
 },
 "nbformat": 4,
 "nbformat_minor": 2
}
