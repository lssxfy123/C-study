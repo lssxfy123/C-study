{
 "cells": [
  {
   "cell_type": "code",
   "execution_count": 1,
   "metadata": {},
   "outputs": [],
   "source": [
    "# Copyright(C) 2021 刘珅珅\n",
    "# Environment: python 3.7\n",
    "# Date: 2021.3.13\n",
    "# 数据流中第一个唯一的数字：lintcode 685"
   ]
  },
  {
   "cell_type": "code",
   "execution_count": 1,
   "metadata": {},
   "outputs": [],
   "source": [
    "class Solution:\n",
    "    \"\"\"\n",
    "    @param nums: a continuous stream of numbers\n",
    "    @param number: a number\n",
    "    @return: returns the first unique number\n",
    "    \"\"\"\n",
    "    def firstUniqueNumber(self, nums, number):\n",
    "        # Write your code here\n",
    "        ## 使用1个哈希表记录nums中每个数字出现的次数\n",
    "        ## 然后遍历nums，看看哪个数字只出现了1次\n",
    "        counter = {}\n",
    "        for num in nums:\n",
    "            counter[num] = counter.get(num, 0) + 1\n",
    "            if num == number:  ## 只需要找终止数字之前的只出现一次的数字\n",
    "                break\n",
    "        else:  ## 终止数字number不在nums中\n",
    "            return -1\n",
    "        \n",
    "        for num in nums:\n",
    "            if counter[num] == 1:\n",
    "                return num\n",
    "            if num == number:\n",
    "                break\n",
    "        \n",
    "        return -1\n",
    "            \n"
   ]
  },
  {
   "cell_type": "code",
   "execution_count": 3,
   "metadata": {},
   "outputs": [
    {
     "name": "stdout",
     "output_type": "stream",
     "text": [
      "-1\n"
     ]
    }
   ],
   "source": [
    "solution = Solution()\n",
    "nums = [1, 2, 2, 1, 3, 4, 4, 5, 6]\n",
    "number = 7\n",
    "print(solution.firstUniqueNumber(nums, number))"
   ]
  },
  {
   "cell_type": "code",
   "execution_count": null,
   "metadata": {},
   "outputs": [],
   "source": []
  }
 ],
 "metadata": {
  "kernelspec": {
   "display_name": "Python 3",
   "language": "python",
   "name": "python3"
  },
  "language_info": {
   "codemirror_mode": {
    "name": "ipython",
    "version": 3
   },
   "file_extension": ".py",
   "mimetype": "text/x-python",
   "name": "python",
   "nbconvert_exporter": "python",
   "pygments_lexer": "ipython3",
   "version": "3.7.1"
  }
 },
 "nbformat": 4,
 "nbformat_minor": 2
}
