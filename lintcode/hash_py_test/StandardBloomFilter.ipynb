{
 "cells": [
  {
   "cell_type": "code",
   "execution_count": 1,
   "metadata": {},
   "outputs": [],
   "source": [
    "# Copyright(C) 2021 刘珅珅\n",
    "# Environment: python 3.7\n",
    "# Date: 2021.11.17\n",
    "# 标准型布隆过滤器：lintcode 556"
   ]
  },
  {
   "cell_type": "code",
   "execution_count": 1,
   "metadata": {},
   "outputs": [],
   "source": [
    "# 创建hash函数\n",
    "class HashFunction:  \n",
    "    \n",
    "    def __init__(self, cap, seed):\n",
    "        self.cap = cap\n",
    "        self.seed = seed\n",
    "    \n",
    "    def hash(self, value):\n",
    "        ret = 0\n",
    "        for i in value:\n",
    "            ret += self.seed * ret + ord(i)\n",
    "            ret %= self.cap\n",
    "\n",
    "        return ret   "
   ]
  },
  {
   "cell_type": "code",
   "execution_count": 2,
   "metadata": {},
   "outputs": [],
   "source": [
    "import random\n",
    "\n",
    "class StandardBloomFilter:\n",
    "    \"\"\"\n",
    "    @param: k: An integer\n",
    "    \"\"\"\n",
    "    def __init__(self, k):\n",
    "        # do intialization if necessary\n",
    "        self.bitset = dict()\n",
    "        self.hash_func = []\n",
    "        for i in range(k):\n",
    "            self.hash_func.append(HashFunction(random.randint(10000, 20000), i * 2 + 3))\n",
    "\n",
    "    \"\"\"\n",
    "    @param: word: A string\n",
    "    @return: nothing\n",
    "    \"\"\"\n",
    "    def add(self, word):\n",
    "        # write your code here\n",
    "        for func in self.hash_func:\n",
    "            position = func.hash(word)\n",
    "            self.bitset[position] = 1\n",
    "\n",
    "    \"\"\"\n",
    "    @param: word: A string\n",
    "    @return: True if contains word\n",
    "    \"\"\"\n",
    "    def contains(self, word):\n",
    "        # write your code here\n",
    "        for func in self.hash_func:\n",
    "            position = func.hash(word)\n",
    "            if position not in self.bitset:\n",
    "                return False\n",
    "        return True\n"
   ]
  },
  {
   "cell_type": "code",
   "execution_count": 4,
   "metadata": {},
   "outputs": [
    {
     "data": {
      "text/plain": [
       "False"
      ]
     },
     "execution_count": 4,
     "metadata": {},
     "output_type": "execute_result"
    }
   ],
   "source": [
    "bf = StandardBloomFilter(3)\n",
    "bf.add(\"lint\")\n",
    "bf.add(\"code\")\n",
    "bf.contains(\"word\")"
   ]
  },
  {
   "cell_type": "code",
   "execution_count": null,
   "metadata": {},
   "outputs": [],
   "source": []
  }
 ],
 "metadata": {
  "kernelspec": {
   "display_name": "Python 3",
   "language": "python",
   "name": "python3"
  },
  "language_info": {
   "codemirror_mode": {
    "name": "ipython",
    "version": 3
   },
   "file_extension": ".py",
   "mimetype": "text/x-python",
   "name": "python",
   "nbconvert_exporter": "python",
   "pygments_lexer": "ipython3",
   "version": "3.7.1"
  }
 },
 "nbformat": 4,
 "nbformat_minor": 2
}
