{
 "cells": [
  {
   "cell_type": "code",
   "execution_count": 1,
   "metadata": {},
   "outputs": [],
   "source": [
    "# Copyright(C) 2021 刘珅珅\n",
    "# Environment: python 3.7\n",
    "# Date: 2021.3.23\n",
    "# 两个链表的交叉：lintcode 380"
   ]
  },
  {
   "cell_type": "code",
   "execution_count": 10,
   "metadata": {},
   "outputs": [],
   "source": [
    "class Solution:\n",
    "    \"\"\"\n",
    "    @param headA: the first list\n",
    "    @param headB: the second list\n",
    "    @return: a ListNode\n",
    "    \"\"\"\n",
    "    def getIntersectionNode(self, headA, headB):\n",
    "        # write your code here\n",
    "        if not headA or not headB:\n",
    "            return None\n",
    "        \n",
    "        ## 将其中一个链表的尾结点链接到另一个链表的头结点，如果交叉，则新的链表肯定有环\n",
    "        end = headA\n",
    "        while end.next:\n",
    "            end = end.next\n",
    "        end.next = headB\n",
    "        \n",
    "        slow = fast = headA\n",
    "        while fast and fast.next:\n",
    "            slow = slow.next\n",
    "            fast = fast.next.next\n",
    "            if slow == fast:\n",
    "                break\n",
    "        ## 有环\n",
    "        if slow == fast:\n",
    "            slow = headA\n",
    "            while slow != fast:\n",
    "                slow = slow.next\n",
    "                fast = fast.next\n",
    "            return slow\n",
    "        return None\n",
    "            "
   ]
  },
  {
   "cell_type": "code",
   "execution_count": null,
   "metadata": {},
   "outputs": [],
   "source": []
  }
 ],
 "metadata": {
  "kernelspec": {
   "display_name": "Python 3",
   "language": "python",
   "name": "python3"
  },
  "language_info": {
   "codemirror_mode": {
    "name": "ipython",
    "version": 3
   },
   "file_extension": ".py",
   "mimetype": "text/x-python",
   "name": "python",
   "nbconvert_exporter": "python",
   "pygments_lexer": "ipython3",
   "version": "3.7.1"
  }
 },
 "nbformat": 4,
 "nbformat_minor": 2
}
