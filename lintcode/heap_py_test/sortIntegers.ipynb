{
 "cells": [
  {
   "cell_type": "code",
   "execution_count": 1,
   "metadata": {},
   "outputs": [],
   "source": [
    "# Copyright(C) 2021 刘珅珅\n",
    "# Environment: python 3.7\n",
    "# Date: 2021.3.13\n",
    "# 整数排序(堆排序)：lintcode 463"
   ]
  },
  {
   "cell_type": "code",
   "execution_count": 1,
   "metadata": {},
   "outputs": [],
   "source": [
    "## 堆排序：降序排列用小顶堆，升序排列用大顶堆\n",
    "## 时间复杂为O(nlogn)\n",
    "class Solution:\n",
    "    \"\"\"\n",
    "    @param: A: Given an integer array\n",
    "    @return: nothing\n",
    "    \"\"\"\n",
    "    def sortIntegers(self, A):\n",
    "        # write your code here\n",
    "        if not A or len(A) <= 1:\n",
    "            return\n",
    "        \n",
    "        self.build_heap(A)\n",
    "        for i in range(len(A) - 1, -1, -1):\n",
    "            ## A[0]就是堆中的最大值，将其与最后一个元素进行交换，这样最大值就交换到了数组最后\n",
    "            ## 然后对A[0]进行下滤操作，将堆中剩下元素(刨除掉最后一个元素)的最大值移动到堆顶\n",
    "            ## 这样最终形成一个排序数组\n",
    "            A[i], A[0] = A[0], A[i]\n",
    "            self.sift_down(A, 0, i - 1)\n",
    "\n",
    "    \n",
    "    ## 构建堆\n",
    "    def build_heap(self, A):\n",
    "        for i in range(len(A) // 2, -1, -1):\n",
    "            self.sift_down(A, i, len(A) - 1)\n",
    "    \n",
    "    ## 下滤操作\n",
    "    def sift_down(self, A, left, right):\n",
    "        k = left\n",
    "        while k * 2 + 1 <= right:\n",
    "            son = 2 * k + 1\n",
    "            if k * 2 + 2 <= right and A[son] < A[k * 2 + 2]:  ## 左右孩子中较大值的索引，构建大顶堆\n",
    "                son = k * 2 + 2\n",
    "                \n",
    "            if A[son] <= A[k]:\n",
    "                break\n",
    "            \n",
    "            A[son], A[k] = A[k], A[son]\n",
    "            k = son\n"
   ]
  },
  {
   "cell_type": "code",
   "execution_count": 4,
   "metadata": {},
   "outputs": [
    {
     "name": "stdout",
     "output_type": "stream",
     "text": [
      "[1, 2, 3, 4, 5]\n"
     ]
    }
   ],
   "source": [
    "solution = Solution()\n",
    "A = [3,2,1,4,5]\n",
    "#A = [15,5,10]\n",
    "solution.sortIntegers(A)\n",
    "print(A)"
   ]
  },
  {
   "cell_type": "code",
   "execution_count": 2,
   "metadata": {},
   "outputs": [
    {
     "data": {
      "text/plain": [
       "-9223372036854775807"
      ]
     },
     "execution_count": 2,
     "metadata": {},
     "output_type": "execute_result"
    }
   ],
   "source": [
    "import sys\n",
    "-sys.maxsize"
   ]
  },
  {
   "cell_type": "code",
   "execution_count": null,
   "metadata": {},
   "outputs": [],
   "source": []
  }
 ],
 "metadata": {
  "kernelspec": {
   "display_name": "Python 3",
   "language": "python",
   "name": "python3"
  },
  "language_info": {
   "codemirror_mode": {
    "name": "ipython",
    "version": 3
   },
   "file_extension": ".py",
   "mimetype": "text/x-python",
   "name": "python",
   "nbconvert_exporter": "python",
   "pygments_lexer": "ipython3",
   "version": "3.7.1"
  }
 },
 "nbformat": 4,
 "nbformat_minor": 2
}
