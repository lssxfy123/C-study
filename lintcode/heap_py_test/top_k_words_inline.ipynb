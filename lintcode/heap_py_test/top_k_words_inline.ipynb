{
 "cells": [
  {
   "cell_type": "code",
   "execution_count": 1,
   "metadata": {},
   "outputs": [],
   "source": [
    "# Copyright(C) 2021 刘珅珅\n",
    "# Environment: python 3.7\n",
    "# Date: 2021.3.24\n",
    "# 最常使用的K个单词II：lintcode 550"
   ]
  },
  {
   "cell_type": "code",
   "execution_count": 1,
   "metadata": {},
   "outputs": [],
   "source": [
    "## 最简单的做法是采用小顶堆进行存储，小顶堆的数量维持在k个，如果超出，就弹出最小值，则小顶堆中存储的就是前K大的数\n",
    "import heapq\n",
    "\n",
    "class TopK:\n",
    "    \"\"\"\n",
    "    @param: k: An integer\n",
    "    \"\"\"\n",
    "    def __init__(self, k):\n",
    "        # do intialization if necessary\n",
    "\n",
    "    \"\"\"\n",
    "    @param: word: A string\n",
    "    @return: nothing\n",
    "    \"\"\"\n",
    "    def add(self, word):\n",
    "        # write your code here\n",
    "\n",
    "    \"\"\"\n",
    "    @return: the current top k frequent words.\n",
    "    \"\"\"\n",
    "    def topk(self):\n",
    "        # write your code here"
   ]
  },
  {
   "cell_type": "code",
   "execution_count": null,
   "metadata": {},
   "outputs": [],
   "source": []
  }
 ],
 "metadata": {
  "kernelspec": {
   "display_name": "Python 3",
   "language": "python",
   "name": "python3"
  },
  "language_info": {
   "codemirror_mode": {
    "name": "ipython",
    "version": 3
   },
   "file_extension": ".py",
   "mimetype": "text/x-python",
   "name": "python",
   "nbconvert_exporter": "python",
   "pygments_lexer": "ipython3",
   "version": "3.7.1"
  }
 },
 "nbformat": 4,
 "nbformat_minor": 2
}
