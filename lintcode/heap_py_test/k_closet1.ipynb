{
 "cells": [
  {
   "cell_type": "code",
   "execution_count": 1,
   "metadata": {},
   "outputs": [],
   "source": [
    "# Copyright(C) 2021 刘珅珅\n",
    "# Environment: python 3.7\n",
    "# Date: 2021.3.14\n",
    "# K个最近的点：lintcode 612"
   ]
  },
  {
   "cell_type": "code",
   "execution_count": 1,
   "metadata": {},
   "outputs": [],
   "source": [
    "## 考虑用堆来处理，如果要实现时间复杂度为O(nlogk)，就需要使用大顶堆。\n",
    "## 因为小顶堆需要把所有数据都插入堆中，这个时间复杂度就是O(nlogn)\n",
    "## 或者不使用语言本身的堆，而是对数组进行一个堆化处理(参考lintcode 130)，建立一个小根堆\n",
    "## 然后弹出k个最小值，这样时间复杂度为O(n + klogn)，如果k远小于n的情况下，就是O(n)\n",
    "import heapq\n",
    "\n",
    "class Solution:\n",
    "    \"\"\"\n",
    "    @param points: a list of points\n",
    "    @param origin: a point\n",
    "    @param k: An integer\n",
    "    @return: the k closest points\n",
    "    \"\"\"\n",
    "    def kClosest(self, points, origin, k):\n",
    "        # write your code here\n",
    "        max_heap = []\n",
    "        for point in points:\n",
    "            distance = self.get_distance(point, origin)\n",
    "            ## 大根堆就是把元素取反加入到堆中\n",
    "            heapq.heappush(max_heap, (-distance, -point.x, -point.y))\n",
    "            if len(max_heap) > k:\n",
    "                heapq.heappop(max_heap)\n",
    "        \n",
    "        result = []\n",
    "        for _ in range(k):\n",
    "            _, x, y = heapq.heappop(max_heap)\n",
    "            result.append(Point(-x, -y))\n",
    "        \n",
    "        ## result是从大到小排序\n",
    "        result.reverse()\n",
    "        return result\n",
    "    \n",
    "    def get_distance(self, point, origin):\n",
    "        return (point.x - origin.x) ** 2 + (point.y - origin.y) ** 2 \n"
   ]
  },
  {
   "cell_type": "code",
   "execution_count": 3,
   "metadata": {},
   "outputs": [
    {
     "name": "stdout",
     "output_type": "stream",
     "text": [
      "12\n"
     ]
    }
   ],
   "source": [
    "solution = Solution()\n",
    "n = 10\n",
    "print(solution.nthUglyNumber(n))"
   ]
  },
  {
   "cell_type": "code",
   "execution_count": 2,
   "metadata": {},
   "outputs": [
    {
     "data": {
      "text/plain": [
       "-9223372036854775807"
      ]
     },
     "execution_count": 2,
     "metadata": {},
     "output_type": "execute_result"
    }
   ],
   "source": [
    "import sys\n",
    "-sys.maxsize"
   ]
  },
  {
   "cell_type": "code",
   "execution_count": null,
   "metadata": {},
   "outputs": [],
   "source": []
  }
 ],
 "metadata": {
  "kernelspec": {
   "display_name": "Python 3",
   "language": "python",
   "name": "python3"
  },
  "language_info": {
   "codemirror_mode": {
    "name": "ipython",
    "version": 3
   },
   "file_extension": ".py",
   "mimetype": "text/x-python",
   "name": "python",
   "nbconvert_exporter": "python",
   "pygments_lexer": "ipython3",
   "version": "3.7.1"
  }
 },
 "nbformat": 4,
 "nbformat_minor": 2
}
