{
 "cells": [
  {
   "cell_type": "code",
   "execution_count": 1,
   "metadata": {},
   "outputs": [],
   "source": [
    "# Copyright(C) 2021 刘珅珅\n",
    "# Environment: python 3.7\n",
    "# Date: 2021.3.14\n",
    "# 前K大数 II：lintcode 545"
   ]
  },
  {
   "cell_type": "code",
   "execution_count": 1,
   "metadata": {},
   "outputs": [],
   "source": [
    "## 最简单的做法是采用小顶堆进行存储，小顶堆的数量维持在k个，如果超出，就弹出最小值，则小顶堆中存储的就是前K大的数\n",
    "import heapq\n",
    "\n",
    "class Solution:\n",
    "    \"\"\"\n",
    "    @param: k: An integer\n",
    "    \"\"\"\n",
    "    def __init__(self, k):\n",
    "        # do intialization if necessary\n",
    "        self.min_heap = []\n",
    "        self.k = k\n",
    "\n",
    "    \"\"\"\n",
    "    @param: num: Number to be added\n",
    "    @return: nothing\n",
    "    \"\"\"\n",
    "    def add(self, num):\n",
    "        # write your code here\n",
    "        heapq.heappush(self.min_heap, num)\n",
    "        if len(self.min_heap) > self.k:\n",
    "            heapq.heappop(self.min_heap)\n",
    "\n",
    "    \"\"\"\n",
    "    @return: Top k element\n",
    "    \"\"\"\n",
    "    def topk(self):\n",
    "        # write your code here\n",
    "        ## 小根堆中存储的就是前k大值，按照降序排列输出即可，不用弹出\n",
    "        return sorted(self.min_heap, reverse=True)\n"
   ]
  },
  {
   "cell_type": "code",
   "execution_count": 3,
   "metadata": {},
   "outputs": [
    {
     "name": "stdout",
     "output_type": "stream",
     "text": [
      "12\n"
     ]
    }
   ],
   "source": [
    "solution = Solution()\n",
    "n = 10\n",
    "print(solution.nthUglyNumber(n))"
   ]
  },
  {
   "cell_type": "code",
   "execution_count": 2,
   "metadata": {},
   "outputs": [
    {
     "data": {
      "text/plain": [
       "-9223372036854775807"
      ]
     },
     "execution_count": 2,
     "metadata": {},
     "output_type": "execute_result"
    }
   ],
   "source": [
    "import sys\n",
    "-sys.maxsize"
   ]
  },
  {
   "cell_type": "code",
   "execution_count": null,
   "metadata": {},
   "outputs": [],
   "source": []
  }
 ],
 "metadata": {
  "kernelspec": {
   "display_name": "Python 3",
   "language": "python",
   "name": "python3"
  },
  "language_info": {
   "codemirror_mode": {
    "name": "ipython",
    "version": 3
   },
   "file_extension": ".py",
   "mimetype": "text/x-python",
   "name": "python",
   "nbconvert_exporter": "python",
   "pygments_lexer": "ipython3",
   "version": "3.7.1"
  }
 },
 "nbformat": 4,
 "nbformat_minor": 2
}
