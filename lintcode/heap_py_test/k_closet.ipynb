{
 "cells": [
  {
   "cell_type": "code",
   "execution_count": 1,
   "metadata": {},
   "outputs": [],
   "source": [
    "# Copyright(C) 2021 刘珅珅\n",
    "# Environment: python 3.7\n",
    "# Date: 2021.3.14\n",
    "# K个最近的点：lintcode 612"
   ]
  },
  {
   "cell_type": "code",
   "execution_count": 1,
   "metadata": {},
   "outputs": [],
   "source": [
    "## 最简单的做法，计算所有点到原点的距离，然后快速排序，时间复杂度为O(nlogn)\n",
    "## 比较好的做法，计算所有点到原点的距离，然后利用快速选择找到第k大的元素kMin，\n",
    "## 再从所有原点距离中找到比kMin小的距离(如果不够，就用kMin补全)，然后对距离排序\n",
    "## 时间复杂度为O(n + klogk)\n",
    "class Solution:\n",
    "    \"\"\"\n",
    "    @param points: a list of points\n",
    "    @param origin: a point\n",
    "    @param k: An integer\n",
    "    @return: the k closest points\n",
    "    \"\"\"\n",
    "    def kClosest(self, points, origin, k):\n",
    "        # write your code here\n",
    "        ## 需要记录位置，如果distance相同，排序时要考虑坐标位置\n",
    "        distance_and_positions = [((p.x - origin.x) ** 2 + (p.y - origin.y) ** 2, p.x, p.y) for p in points]\n",
    "        self.quick_select(distance_and_positions, k, 0, len(distance_and_positions) - 1)\n",
    "        k_min = distance_and_positions[0]\n",
    "        if k < len(distance_and_positions):\n",
    "            k_min = distance_and_positions[k - 1]\n",
    "        else:\n",
    "            k_min = distance_and_positions[-1]\n",
    "        \n",
    "        k_closet = []\n",
    "        for distance_pos in distance_and_positions:\n",
    "            if distance_pos < k_min:  ## 不能是包含等于，因为kmin有可能有好几个，而我们要找的k个最小值，应该先放小于kmin的，不够再补kmin\n",
    "                k_closet.append(distance_pos)\n",
    "        \n",
    "        while len(k_closet) < k:\n",
    "            k_closet.append(k_min)\n",
    "        \n",
    "        ## 对k_closest进行排序\n",
    "        self.quick_sort(k_closet, 0, k - 1)\n",
    "        \n",
    "        return [Point(x, y) for _, x, y in k_closet]\n",
    "    \n",
    "    def quick_sort(self, array, start, end):\n",
    "        if start >= end:\n",
    "            return\n",
    "        \n",
    "        left = start\n",
    "        right = end\n",
    "        pivot = array[(left + right) // 2]\n",
    "        while left <= right:\n",
    "            while left <= right and array[left] < pivot:\n",
    "                left += 1\n",
    "            while left <= right and array[right] > pivot:\n",
    "                right -= 1\n",
    "            \n",
    "            if left <= right:\n",
    "                array[left], array[right] = array[right], array[left]\n",
    "                left += 1\n",
    "                right -= 1\n",
    "        \n",
    "        self.quick_sort(array, start, right)\n",
    "        self.quick_sort(array, left, end)\n",
    "    \n",
    "        \n",
    "    ## 时间复杂度为0(n)，参考《九章学习第三课-排序算法.docx》的证明\n",
    "    def quick_select(self, distance_and_position, k, start, end):\n",
    "        if start >= end:\n",
    "            return\n",
    "        \n",
    "        left = start\n",
    "        right = end\n",
    "        pivot = distance_and_position[(left + right) // 2]\n",
    "        while left <= right:\n",
    "            while left <= right and distance_and_position[left] < pivot:  ## python中可以这样比较两个元组\n",
    "                left += 1\n",
    "            while left <= right and distance_and_position[right] > pivot:\n",
    "                right -= 1\n",
    "            \n",
    "            if left <= right:\n",
    "                distance_and_position[left], distance_and_position[right] = distance_and_position[right], distance_and_position[left]\n",
    "                left += 1\n",
    "                right -= 1\n",
    " \n",
    "        if k - 1 <= right:\n",
    "            self.quick_select(distance_and_position, k, start, right)\n",
    "        else:\n",
    "            self.quick_select(distance_and_position, k, left, end)"
   ]
  },
  {
   "cell_type": "code",
   "execution_count": 3,
   "metadata": {},
   "outputs": [
    {
     "name": "stdout",
     "output_type": "stream",
     "text": [
      "12\n"
     ]
    }
   ],
   "source": [
    "solution = Solution()\n",
    "n = 10\n",
    "print(solution.nthUglyNumber(n))"
   ]
  },
  {
   "cell_type": "code",
   "execution_count": 2,
   "metadata": {},
   "outputs": [
    {
     "data": {
      "text/plain": [
       "-9223372036854775807"
      ]
     },
     "execution_count": 2,
     "metadata": {},
     "output_type": "execute_result"
    }
   ],
   "source": [
    "import sys\n",
    "-sys.maxsize"
   ]
  },
  {
   "cell_type": "code",
   "execution_count": null,
   "metadata": {},
   "outputs": [],
   "source": []
  }
 ],
 "metadata": {
  "kernelspec": {
   "display_name": "Python 3",
   "language": "python",
   "name": "python3"
  },
  "language_info": {
   "codemirror_mode": {
    "name": "ipython",
    "version": 3
   },
   "file_extension": ".py",
   "mimetype": "text/x-python",
   "name": "python",
   "nbconvert_exporter": "python",
   "pygments_lexer": "ipython3",
   "version": "3.7.1"
  }
 },
 "nbformat": 4,
 "nbformat_minor": 2
}
