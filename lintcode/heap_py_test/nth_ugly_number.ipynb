{
 "cells": [
  {
   "cell_type": "code",
   "execution_count": 1,
   "metadata": {},
   "outputs": [],
   "source": [
    "# Copyright(C) 2021 刘珅珅\n",
    "# Environment: python 3.7\n",
    "# Date: 2021.3.13\n",
    "# 丑数 II：lintcode 4"
   ]
  },
  {
   "cell_type": "code",
   "execution_count": 1,
   "metadata": {},
   "outputs": [],
   "source": [
    "## 采用堆来实现，不同于C++实现的3根指针方法\n",
    "## 时间复杂度为O(nlogn)，堆的插入是O(logn)的\n",
    "import heapq\n",
    "\n",
    "class Solution:\n",
    "    \"\"\"\n",
    "    @param n: An integer\n",
    "    @return: return a  integer as description.\n",
    "    \"\"\"\n",
    "    def nthUglyNumber(self, n):\n",
    "        # write your code here\n",
    "        visited = set([1])  ## 记录已经插入堆中的丑数\n",
    "        heap = [1]\n",
    "        \n",
    "        for _ in range(n):\n",
    "            val = heapq.heappop(heap)  ## 弹出并返回堆中的最小值\n",
    "            for factor in [2, 3, 5]:\n",
    "                if val * factor in visited:\n",
    "                    continue\n",
    "                visited.add(val * factor)\n",
    "                heapq.heappush(heap, val * factor)\n",
    "        return val\n"
   ]
  },
  {
   "cell_type": "code",
   "execution_count": 3,
   "metadata": {},
   "outputs": [
    {
     "name": "stdout",
     "output_type": "stream",
     "text": [
      "12\n"
     ]
    }
   ],
   "source": [
    "solution = Solution()\n",
    "n = 10\n",
    "print(solution.nthUglyNumber(n))"
   ]
  },
  {
   "cell_type": "code",
   "execution_count": 2,
   "metadata": {},
   "outputs": [
    {
     "data": {
      "text/plain": [
       "-9223372036854775807"
      ]
     },
     "execution_count": 2,
     "metadata": {},
     "output_type": "execute_result"
    }
   ],
   "source": [
    "import sys\n",
    "-sys.maxsize"
   ]
  },
  {
   "cell_type": "code",
   "execution_count": null,
   "metadata": {},
   "outputs": [],
   "source": []
  }
 ],
 "metadata": {
  "kernelspec": {
   "display_name": "Python 3",
   "language": "python",
   "name": "python3"
  },
  "language_info": {
   "codemirror_mode": {
    "name": "ipython",
    "version": 3
   },
   "file_extension": ".py",
   "mimetype": "text/x-python",
   "name": "python",
   "nbconvert_exporter": "python",
   "pygments_lexer": "ipython3",
   "version": "3.7.1"
  }
 },
 "nbformat": 4,
 "nbformat_minor": 2
}
