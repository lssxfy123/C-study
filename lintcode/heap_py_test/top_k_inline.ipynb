{
 "cells": [
  {
   "cell_type": "code",
   "execution_count": 1,
   "metadata": {},
   "outputs": [],
   "source": [
    "# Copyright(C) 2021 刘珅珅\n",
    "# Environment: python 3.7\n",
    "# Date: 2021.3.14\n",
    "# 前K大数 II：lintcode 545"
   ]
  },
  {
   "cell_type": "code",
   "execution_count": 1,
   "metadata": {},
   "outputs": [],
   "source": [
    "## 如果直接采用数组存储，add方法的时间复杂度为O(1)，但topK方法的时间复杂度就是nlogk或者nlogn或者O(n + klogk)\n",
    "## 采用大顶堆存储，add方法的时间复杂度为O(logn)，topK方法的时间复杂度是klogn\n",
    "import heapq\n",
    "\n",
    "class Solution:\n",
    "    \"\"\"\n",
    "    @param: k: An integer\n",
    "    \"\"\"\n",
    "    def __init__(self, k):\n",
    "        # do intialization if necessary\n",
    "        self.max_heap = []\n",
    "        self.k = k\n",
    "\n",
    "    \"\"\"\n",
    "    @param: num: Number to be added\n",
    "    @return: nothing\n",
    "    \"\"\"\n",
    "    def add(self, num):\n",
    "        # write your code here\n",
    "        heapq.heappush(self.max_heap, -num)  ## 大顶堆存储其相反数\n",
    "\n",
    "    \"\"\"\n",
    "    @return: Top k element\n",
    "    \"\"\"\n",
    "    def topk(self):\n",
    "        # write your code here\n",
    "        k_closest = []\n",
    "        ## 判断长度，避免堆为空，弹出异常的问题\n",
    "        length = self.k if self.k <= len(self.max_heap) else len(self.max_heap) \n",
    "        for _ in range(length):\n",
    "            k_closest.append(-heapq.heappop(self.max_heap)) \n",
    "        \n",
    "        ## 从堆中弹出前k个数后，还要把它重新加入堆中，不能删除掉，否则连续两次调用topK的结果就是不同的\n",
    "        for num in k_closest:\n",
    "            heapq.heappop(self.max_heap, -num)\n",
    "        return k_closest\n"
   ]
  },
  {
   "cell_type": "code",
   "execution_count": 3,
   "metadata": {},
   "outputs": [
    {
     "name": "stdout",
     "output_type": "stream",
     "text": [
      "12\n"
     ]
    }
   ],
   "source": [
    "solution = Solution()\n",
    "n = 10\n",
    "print(solution.nthUglyNumber(n))"
   ]
  },
  {
   "cell_type": "code",
   "execution_count": 2,
   "metadata": {},
   "outputs": [
    {
     "data": {
      "text/plain": [
       "-9223372036854775807"
      ]
     },
     "execution_count": 2,
     "metadata": {},
     "output_type": "execute_result"
    }
   ],
   "source": [
    "import sys\n",
    "-sys.maxsize"
   ]
  },
  {
   "cell_type": "code",
   "execution_count": null,
   "metadata": {},
   "outputs": [],
   "source": []
  }
 ],
 "metadata": {
  "kernelspec": {
   "display_name": "Python 3",
   "language": "python",
   "name": "python3"
  },
  "language_info": {
   "codemirror_mode": {
    "name": "ipython",
    "version": 3
   },
   "file_extension": ".py",
   "mimetype": "text/x-python",
   "name": "python",
   "nbconvert_exporter": "python",
   "pygments_lexer": "ipython3",
   "version": "3.7.1"
  }
 },
 "nbformat": 4,
 "nbformat_minor": 2
}
