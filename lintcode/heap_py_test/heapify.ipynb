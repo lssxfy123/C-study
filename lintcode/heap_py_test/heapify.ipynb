{
 "cells": [
  {
   "cell_type": "code",
   "execution_count": 1,
   "metadata": {},
   "outputs": [],
   "source": [
    "# Copyright(C) 2021 刘珅珅\n",
    "# Environment: python 3.7\n",
    "# Date: 2021.3.13\n",
    "# 堆化：lintcode 130"
   ]
  },
  {
   "cell_type": "code",
   "execution_count": 10,
   "metadata": {},
   "outputs": [],
   "source": [
    "class Solution:\n",
    "    \"\"\"\n",
    "    @param: A: Given an integer array\n",
    "    @return: nothing\n",
    "    \"\"\"\n",
    "    def heapify(self, A):\n",
    "        # write your code here\n",
    "        if not A:\n",
    "            return\n",
    "        size = len(A)\n",
    "        for i in range(len(A) // 2, -1, -1):\n",
    "            self.sift_down(A, i)\n",
    "    \n",
    "    ## 下滤操作\n",
    "    def sift_down(self, A, index):\n",
    "        n = len(A)\n",
    "        while index < n:\n",
    "            left = 2 * index + 1\n",
    "            right = 2 * index + 2\n",
    "            min_index = index\n",
    "            ## 求出父结点和其左右孩子中的最小值，并记录对应的索引\n",
    "            if left < n and A[left] < A[min_index]: \n",
    "                min_index = left\n",
    "            \n",
    "            if right < n and A[right] < A[min_index]:\n",
    "                min_index = right\n",
    "            \n",
    "            if min_index == index:  ## 已经满足了小顶堆的特性\n",
    "                break\n",
    "            \n",
    "            ## 交换父结点与最小的子结点，并且继续进行下滤操作\n",
    "            ## 不能在这里就停止下滤，因为交换后，当前结点满足了小顶堆的要求\n",
    "            ## 但之前以最小子结点为父结点的子树未必就会还满足要求\n",
    "            A[min_index], A[index] = A[index], A[min_index]\n",
    "            index = min_index\n"
   ]
  },
  {
   "cell_type": "code",
   "execution_count": 11,
   "metadata": {},
   "outputs": [
    {
     "name": "stdout",
     "output_type": "stream",
     "text": [
      "[5, 15, 10]\n"
     ]
    }
   ],
   "source": [
    "solution = Solution()\n",
    "A = [3,2,1,4,5]\n",
    "A = [15,5,10]\n",
    "solution.heapify(A)\n",
    "print(A)"
   ]
  },
  {
   "cell_type": "code",
   "execution_count": 2,
   "metadata": {},
   "outputs": [
    {
     "data": {
      "text/plain": [
       "-9223372036854775807"
      ]
     },
     "execution_count": 2,
     "metadata": {},
     "output_type": "execute_result"
    }
   ],
   "source": [
    "import sys\n",
    "-sys.maxsize"
   ]
  },
  {
   "cell_type": "code",
   "execution_count": null,
   "metadata": {},
   "outputs": [],
   "source": []
  }
 ],
 "metadata": {
  "kernelspec": {
   "display_name": "Python 3",
   "language": "python",
   "name": "python3"
  },
  "language_info": {
   "codemirror_mode": {
    "name": "ipython",
    "version": 3
   },
   "file_extension": ".py",
   "mimetype": "text/x-python",
   "name": "python",
   "nbconvert_exporter": "python",
   "pygments_lexer": "ipython3",
   "version": "3.7.1"
  }
 },
 "nbformat": 4,
 "nbformat_minor": 2
}
