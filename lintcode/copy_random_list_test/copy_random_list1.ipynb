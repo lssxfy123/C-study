{
 "cells": [
  {
   "cell_type": "code",
   "execution_count": 1,
   "metadata": {},
   "outputs": [],
   "source": [
    "# Copyright(C) 2021 刘珅珅\n",
    "# Environment: python 3.7\n",
    "# Date: 2021.4.20\n",
    "# 制带随机指针的链表：lintcode 105"
   ]
  },
  {
   "cell_type": "markdown",
   "metadata": {},
   "source": [
    "# O(1)的空间复杂度"
   ]
  },
  {
   "cell_type": "code",
   "execution_count": 1,
   "metadata": {},
   "outputs": [],
   "source": [
    "class RandomListNode:\n",
    "    def __init__(self, x):\n",
    "        self.label = x\n",
    "        self.next = None\n",
    "        self.random = None"
   ]
  },
  {
   "cell_type": "code",
   "execution_count": 10,
   "metadata": {},
   "outputs": [],
   "source": [
    "class Solution:\n",
    "    # @param head: A RandomListNode\n",
    "    # @return: A RandomListNode\n",
    "    def copyRandomList(self, head):\n",
    "        # write your code here\n",
    "        if not head:\n",
    "            return None\n",
    "        \n",
    "        new_head = RandomListNode(head.label)\n",
    "        dummy = RandomListNode(0)\n",
    "        dummy.next = new_head\n",
    "        while head:\n",
    "            if head.next:\n",
    "                new_head.next = RandomListNode(head.next.label)\n",
    "            if head.random:\n",
    "                new_head.random = RandomListNode(head.random.label)\n",
    "            head = head.next\n",
    "            new_head = new_head.next\n",
    "        \n",
    "        return dummy.next\n",
    "        \n",
    "\n",
    "        \n"
   ]
  },
  {
   "cell_type": "code",
   "execution_count": null,
   "metadata": {},
   "outputs": [],
   "source": []
  }
 ],
 "metadata": {
  "kernelspec": {
   "display_name": "Python 3",
   "language": "python",
   "name": "python3"
  },
  "language_info": {
   "codemirror_mode": {
    "name": "ipython",
    "version": 3
   },
   "file_extension": ".py",
   "mimetype": "text/x-python",
   "name": "python",
   "nbconvert_exporter": "python",
   "pygments_lexer": "ipython3",
   "version": "3.7.1"
  }
 },
 "nbformat": 4,
 "nbformat_minor": 2
}
