{
 "cells": [
  {
   "cell_type": "code",
   "execution_count": 2,
   "metadata": {},
   "outputs": [],
   "source": [
    "# Copyright(C) 2021 刘珅珅\n",
    "# Environment: python 3.7\n",
    "# Date: 2021.4.5\n",
    "# 移除子串：lintcode 624"
   ]
  },
  {
   "cell_type": "markdown",
   "metadata": {},
   "source": [
    "# 时间复杂度：假设字符串长度为m，子串队列的长度最坏情况为O(m^2)，每个子串都要进行n个单词的查找，最坏(子串长度为O(m)个不同字符，n个单词都为1个字符)为O(mn)，所以时间复杂度为O(n*m^3)"
   ]
  },
  {
   "cell_type": "code",
   "execution_count": 1,
   "metadata": {},
   "outputs": [],
   "source": [
    "import collections\n",
    "\n",
    "class Solution:\n",
    "    \"\"\"\n",
    "    @param s: a string\n",
    "    @param dict: a set of n substrings\n",
    "    @return: the minimum length\n",
    "    \"\"\"\n",
    "    def minLength(self, s, dict):\n",
    "        # write your code here\n",
    "        if not s:\n",
    "            return 0\n",
    "        queue = collections.deque([s])\n",
    "        visited = set([s])\n",
    "        min_length = len(s)\n",
    "        \n",
    "        \"\"\"\n",
    "        解题思路：遍历dict中的子串，把s删除每个子串后的结果加入到队列中，然后再重复之前的操作，维护一个最小长度\n",
    "        \"\"\"\n",
    "        while queue:\n",
    "            s1 = queue.popleft()\n",
    "            for sub in dict:\n",
    "                index = s1.find(sub)\n",
    "                while index != -1:\n",
    "                    ## 删除sub后的新字符串\n",
    "                    new_s = s1[:index] + s1[index + len(sub):]\n",
    "                    if new_s not in visited:\n",
    "                        if len(new_s) < min_length:\n",
    "                            min_length = len(new_s)\n",
    "                        visited.add(new_s)\n",
    "                        queue.append(new_s)\n",
    "                    \n",
    "                    ## 对于同一个sub，可能会在s中存在多个位置，要分别把删除不同位置sub的结果字符串都压入队列中\n",
    "                    ## 使用while循环就是同一个sub一次性处理完，如果只处理一次，下一次for循环变量还会再重新计算\n",
    "                    ## 一次性处理的好处就是find函数可以设置查找起始位置，可以节约计算量\n",
    "                    index = s1.find(sub, index + 1)\n",
    "        \n",
    "        return min_length\n",
    "                    \n",
    "                    \n",
    "                    \n",
    "        "
   ]
  },
  {
   "cell_type": "code",
   "execution_count": 2,
   "metadata": {},
   "outputs": [
    {
     "name": "stdout",
     "output_type": "stream",
     "text": [
      "2\n"
     ]
    }
   ],
   "source": [
    "s =\"ccdaabcdbb\"\n",
    "dict = [\"ab\",\"cd\"]\n",
    "solution = Solution()\n",
    "print(solution.minLength(s, dict))"
   ]
  },
  {
   "cell_type": "code",
   "execution_count": null,
   "metadata": {},
   "outputs": [],
   "source": []
  }
 ],
 "metadata": {
  "kernelspec": {
   "display_name": "Python 3",
   "language": "python",
   "name": "python3"
  },
  "language_info": {
   "codemirror_mode": {
    "name": "ipython",
    "version": 3
   },
   "file_extension": ".py",
   "mimetype": "text/x-python",
   "name": "python",
   "nbconvert_exporter": "python",
   "pygments_lexer": "ipython3",
   "version": "3.7.1"
  }
 },
 "nbformat": 4,
 "nbformat_minor": 2
}
