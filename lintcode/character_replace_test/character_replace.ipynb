{
 "cells": [
  {
   "cell_type": "code",
   "execution_count": 1,
   "metadata": {},
   "outputs": [],
   "source": [
    "# Copyright(C) 2021 刘珅珅\n",
    "# Environment: python 3.7\n",
    "# Date: 2021.3.21\n",
    "# 替换后的最长重复字符：lintcode 1246"
   ]
  },
  {
   "cell_type": "code",
   "execution_count": 5,
   "metadata": {},
   "outputs": [],
   "source": [
    "class Solution:\n",
    "    \"\"\"\n",
    "    @param s: a string\n",
    "    @param k: a integer\n",
    "    @return: return a integer\n",
    "    \"\"\"\n",
    "    def characterReplacement(self, s, k):\n",
    "        # write your code here\n",
    "        if not s:\n",
    "            return 0\n",
    "        longest = 0\n",
    "        j = 0\n",
    "        ## 最大频率：记录从i到j-1的子串中出现最多的字符的个数，替换时就把其它字符都替换成这个字符\n",
    "        max_freq = 0\n",
    "        counter = {}\n",
    "        answer = 0\n",
    "        ## 时间复杂度为O(n)，因为内层循环while的循环体最大只可能执行n次，同向双指针，j不会出现回退的情况\n",
    "        for i in range(len(s)):\n",
    "            ## while的判断条件j-i-max_freq表示i到j-1这段字符如果要替换成完全相同的字符串，需要进行替换的次数\n",
    "            ## 之所以要包含等于k，是因为如果等于k就退出，j后面的字符有可能是max_freq所对应的字符，这样的字符\n",
    "            ## 是不会增加替换次数的，直接退出的话，子字符串就不是最长的\n",
    "            while j < len(s) and j - i - max_freq <= k:\n",
    "                counter[s[j]] = counter.get(s[j], 0) + 1\n",
    "                ## 每增加一个字符，就更新一次max_freq\n",
    "                max_freq = max(max_freq, counter[s[j]])\n",
    "                j += 1\n",
    "            \n",
    "            ## 进行判断\n",
    "            ## 从i到j-1替换成完全相同的字符串，需要k+1次替换\n",
    "            ## 则i到j-2需要k次（否则，肯定j-2时就退出while循环了）\n",
    "            if j - i - max_freq > k:\n",
    "                answer = max(answer, j - i -1)\n",
    "            else:\n",
    "                answer = max(answer, j - i)\n",
    "            \n",
    "            ## i要往后移动1位，所以要更新counter和max_freq\n",
    "            counter[s[i]] -= 1\n",
    "            ## 这个max的时间复杂度为O(26)，也就是O(1)，因为大写字母只有26个\n",
    "            max_freq = max(counter.values())\n",
    "        \n",
    "        return answer\n",
    "        \n",
    "        "
   ]
  },
  {
   "cell_type": "code",
   "execution_count": 6,
   "metadata": {},
   "outputs": [
    {
     "name": "stdout",
     "output_type": "stream",
     "text": [
      "4\n"
     ]
    }
   ],
   "source": [
    "s = \"ABAB\"\n",
    "k = 2\n",
    "solution = Solution()\n",
    "print(solution.characterReplacement(s, k))"
   ]
  },
  {
   "cell_type": "code",
   "execution_count": 10,
   "metadata": {},
   "outputs": [
    {
     "data": {
      "text/plain": [
       "True"
      ]
     },
     "execution_count": 10,
     "metadata": {},
     "output_type": "execute_result"
    }
   ],
   "source": [
    "tmp = {7: 0}\n",
    "7 in tmp.keys()"
   ]
  },
  {
   "cell_type": "code",
   "execution_count": null,
   "metadata": {},
   "outputs": [],
   "source": []
  }
 ],
 "metadata": {
  "kernelspec": {
   "display_name": "Python 3",
   "language": "python",
   "name": "python3"
  },
  "language_info": {
   "codemirror_mode": {
    "name": "ipython",
    "version": 3
   },
   "file_extension": ".py",
   "mimetype": "text/x-python",
   "name": "python",
   "nbconvert_exporter": "python",
   "pygments_lexer": "ipython3",
   "version": "3.7.1"
  }
 },
 "nbformat": 4,
 "nbformat_minor": 2
}
