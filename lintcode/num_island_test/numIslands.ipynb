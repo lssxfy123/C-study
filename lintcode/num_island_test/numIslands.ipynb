{
 "cells": [
  {
   "cell_type": "code",
   "execution_count": 3,
   "metadata": {},
   "outputs": [],
   "source": [
    "# Copyright(C) 2021 刘珅珅\n",
    "# Environment: python 3.7\n",
    "# Date: 2021.3.5\n",
    "# 岛屿的个数：lintcode 433\n",
    "import collections"
   ]
  },
  {
   "cell_type": "code",
   "execution_count": 6,
   "metadata": {},
   "outputs": [],
   "source": [
    "\n",
    "class Solution:\n",
    "    def __init__(self):\n",
    "        self.DIRECTIONS = [(1, 0), (-1, 0), (0, 1), (0, -1)]\n",
    "    \"\"\"\n",
    "    @param grid: a boolean 2D matrix\n",
    "    @return: an integer\n",
    "    \"\"\"\n",
    "    def numIslands(self, grid):\n",
    "        # write your code here\n",
    "        if not grid or not grid[0]:\n",
    "            return 0\n",
    "        \n",
    "        nums = 0\n",
    "        n, m = len(grid), len(grid[0])\n",
    "        visited = set()\n",
    "        \n",
    "        for i in range(n):\n",
    "            for j in range(m):\n",
    "                if grid[i][j] and (i, j) not in visited:\n",
    "                    self.bfs(grid, i, j, visited)\n",
    "                    nums += 1\n",
    "        return nums\n",
    "    \n",
    "    ## 从点(x, y)开始，把所有和它邻接的点都放入visited\n",
    "    def bfs(self, grid, x, y, visited):\n",
    "        queue = collections.deque([(x, y)])\n",
    "        visited.add((x, y))\n",
    "        while queue:\n",
    "            x, y = queue.popleft()\n",
    "            for delta_x, delta_y in self.DIRECTIONS:\n",
    "                new_x = x + delta_x\n",
    "                new_y = y + delta_y\n",
    "                \n",
    "                if not self.is_valid(new_x, new_y, grid, visited):\n",
    "                    continue\n",
    "                queue.append((new_x, new_y))\n",
    "                visited.add((new_x, new_y))\n",
    "                \n",
    "    \n",
    "    def is_valid(self, x, y, grid, visited):\n",
    "        n, m = len(grid), len(grid[0])\n",
    "        if x < 0 or x >= n or y < 0 or y >= m:\n",
    "            return False\n",
    "        \n",
    "        if (x, y) in visited:\n",
    "            return False\n",
    "        \n",
    "        return grid[x][y]  ## grid[x][y]为0表示海，为1表示岛\n",
    "                \n",
    "\n",
    "        \n",
    "\n",
    "    "
   ]
  },
  {
   "cell_type": "code",
   "execution_count": 7,
   "metadata": {},
   "outputs": [
    {
     "name": "stdout",
     "output_type": "stream",
     "text": [
      "3\n"
     ]
    }
   ],
   "source": [
    "solution = Solution()\n",
    "grid = [[1,1,0,0,0],[0,1,0,0,1],[0,0,0,1,1],[0,0,0,0,0],[0,0,0,0,1]]\n",
    "print(solution.numIslands(grid))"
   ]
  },
  {
   "cell_type": "code",
   "execution_count": null,
   "metadata": {},
   "outputs": [],
   "source": []
  },
  {
   "cell_type": "code",
   "execution_count": null,
   "metadata": {},
   "outputs": [],
   "source": []
  }
 ],
 "metadata": {
  "kernelspec": {
   "display_name": "Python 3",
   "language": "python",
   "name": "python3"
  },
  "language_info": {
   "codemirror_mode": {
    "name": "ipython",
    "version": 3
   },
   "file_extension": ".py",
   "mimetype": "text/x-python",
   "name": "python",
   "nbconvert_exporter": "python",
   "pygments_lexer": "ipython3",
   "version": "3.7.1"
  }
 },
 "nbformat": 4,
 "nbformat_minor": 2
}
