{
 "cells": [
  {
   "cell_type": "code",
   "execution_count": 10,
   "metadata": {},
   "outputs": [],
   "source": [
    "# Copyright(C) 2021 刘珅珅\n",
    "# Environment: python 3.7\n",
    "# Date: 2021.2.7\n",
    "# 字符串查找：lintcode 594"
   ]
  },
  {
   "cell_type": "code",
   "execution_count": 41,
   "metadata": {},
   "outputs": [],
   "source": [
    "class Solution:\n",
    "    \"\"\"\n",
    "    @param source: \n",
    "    @param target: \n",
    "    @return: return the index\n",
    "    \"\"\"\n",
    "    def strStr(self, source, target):\n",
    "        # Write your code here\n",
    "        if source is None or target is None or len(source) < len(target):\n",
    "            return -1\n",
    "\n",
    "        if len(target) == 0:\n",
    "            return 0\n",
    "        \n",
    "        ## Robin karp算法\n",
    "        ## 哈希算法O(n+m)的时间复杂度\n",
    "        base = 33\n",
    "        HASH_SIZE = 100000\n",
    "        target_code = 0\n",
    "        target_length = len(target)\n",
    "        \n",
    "        ## source = \"abcde\"，长度为n，target为\"bcd，长度为m\n",
    "        ## 首先计算\"abc\"的hash值(时间复杂度为O(m))，并与target的hash值比较\n",
    "        ## 如果不等，则下一次要计算\"bcd\"的hash值，为了保证O(n+m)的时间复杂度\n",
    "        ## “bcd”的时间复杂度不能再从头开始计算了，而是在\"abc\"的hash值\n",
    "        ## 的基础上，先计算\"abcd\"的hash值，时间复杂度为O(1)，然后剔除掉\"a\"\n",
    "        ## 计算字符串的hash值，参考lintcode 128的算法，其实就是把每个字符\n",
    "        ## 乘以以base为底的n次幂，然后对HASH_SIZE取模,例如\n",
    "        ## hash(\"abcd\")=(a * (base)^3 + b * (base)^2 + c * base + d) % HASH_SIZE\n",
    "        ## 为了防止溢出，不直接计算，而是通过循环的方式计算，然后每次循环\n",
    "        ## 都对HASH_SIZE取模\n",
    "        ## 从\"abcd\"的hash值去掉\"a\"，其实就是减去(a * (base)^3)%HASH_SIZE\n",
    "        ## 剔除时同样不能直接进行计算，所以先保存下面这个power用于剔除\"a\"\n",
    "        power = 1\n",
    "        for i in range(len(target)):\n",
    "            power = (power * base) % HASH_SIZE\n",
    "        \n",
    "        ## 计算目标字符串的hash值\n",
    "        for ch in target:\n",
    "            target_code = (ord(ch) + target_code * base) % HASH_SIZE\n",
    "               \n",
    "        source_code = 0\n",
    "        source_length = len(source)       \n",
    "        for j in range(source_length):\n",
    "            source_code = (ord(source[j]) + source_code * base) % HASH_SIZE\n",
    "            if j < target_length - 1:  ## 不够target_length长度\n",
    "                continue\n",
    "            \n",
    "            if j  >= target_length:\n",
    "                ## abcd - a\n",
    "                source_code = (source_code - power * ord(source[j - target_length])) % HASH_SIZE\n",
    "                if source_code < 0:\n",
    "                    source_code += HASH_SIZE\n",
    "     \n",
    "            if source_code == target_code:\n",
    "                for i in range(target_length):\n",
    "                    if target[i] != source[j - target_length + 1 + i]:\n",
    "                        break\n",
    "                else:\n",
    "                    return j - target_length + 1\n",
    "\n",
    "        return -1  \n",
    "    "
   ]
  },
  {
   "cell_type": "code",
   "execution_count": 42,
   "metadata": {},
   "outputs": [
    {
     "name": "stdout",
     "output_type": "stream",
     "text": [
      "8966 10089\n",
      "10089 10089\n",
      "1\n",
      "66382 52359\n",
      "6305 52359\n",
      "15173 52359\n",
      "52359 52359\n",
      "3\n"
     ]
    }
   ],
   "source": [
    "solution = Solution()\n",
    "print(solution.strStr(\"abcde\", \"bcd\"))\n",
    "print(solution.strStr(\"tartarget\", \"target\"))"
   ]
  },
  {
   "cell_type": "code",
   "execution_count": 4,
   "metadata": {},
   "outputs": [],
   "source": [
    "def hash_code(target):\n",
    "    base = 33\n",
    "    HASH_SIZE = 100000\n",
    "    target_code = 0\n",
    "    for ch in target:\n",
    "        target_code = ord(ch) + target_code * base\n",
    "        target_code = target_code % HASH_SIZE\n",
    "    return target_code"
   ]
  },
  {
   "cell_type": "code",
   "execution_count": 6,
   "metadata": {},
   "outputs": [
    {
     "name": "stdout",
     "output_type": "stream",
     "text": [
      "8966\n",
      "95978\n",
      "10089\n",
      "97\n"
     ]
    }
   ],
   "source": [
    "print(hash_code(\"abc\"))\n",
    "print(hash_code(\"abcd\"))\n",
    "print(hash_code(\"bcd\"))\n",
    "print(hash_code(\"a\"))"
   ]
  },
  {
   "cell_type": "code",
   "execution_count": 15,
   "metadata": {},
   "outputs": [
    {
     "name": "stdout",
     "output_type": "stream",
     "text": [
      "85889\n"
     ]
    }
   ],
   "source": [
    "power = 1\n",
    "for i in range(3):\n",
    "    power = (power * 33) % 100000\n",
    "print((power * 97)%100000)"
   ]
  },
  {
   "cell_type": "code",
   "execution_count": 12,
   "metadata": {},
   "outputs": [
    {
     "data": {
      "text/plain": [
       "10089"
      ]
     },
     "execution_count": 12,
     "metadata": {},
     "output_type": "execute_result"
    }
   ],
   "source": [
    "95978 - 85889"
   ]
  },
  {
   "cell_type": "code",
   "execution_count": null,
   "metadata": {},
   "outputs": [],
   "source": []
  }
 ],
 "metadata": {
  "kernelspec": {
   "display_name": "Python 3",
   "language": "python",
   "name": "python3"
  },
  "language_info": {
   "codemirror_mode": {
    "name": "ipython",
    "version": 3
   },
   "file_extension": ".py",
   "mimetype": "text/x-python",
   "name": "python",
   "nbconvert_exporter": "python",
   "pygments_lexer": "ipython3",
   "version": "3.7.1"
  }
 },
 "nbformat": 4,
 "nbformat_minor": 2
}
