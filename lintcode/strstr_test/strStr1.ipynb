{
 "cells": [
  {
   "cell_type": "code",
   "execution_count": 10,
   "metadata": {},
   "outputs": [],
   "source": [
    "# Copyright(C) 2021 刘珅珅\n",
    "# Environment: python 3.7\n",
    "# Date: 2021.2.7\n",
    "# 字符串查找：lintcode 594"
   ]
  },
  {
   "cell_type": "code",
   "execution_count": 29,
   "metadata": {},
   "outputs": [],
   "source": [
    "class Solution:\n",
    "    \"\"\"\n",
    "    @param source: \n",
    "    @param target: \n",
    "    @return: return the index\n",
    "    \"\"\"\n",
    "    def strStr(self, source, target):\n",
    "        # Write your code here\n",
    "        if not source and target:\n",
    "            return -1\n",
    "        \n",
    "        if not target or len(target) == 0:\n",
    "            return 0\n",
    "        ## Robin karp算法\n",
    "        ## 哈希算法O(n+m)的时间复杂度\n",
    "        ## 记录下目标字符串中每个字符的移动长度\n",
    "        ## 即如果将target[i]与源字符串某个相同字符对齐\n",
    "        ## 需要移动的最小量\n",
    "        ## 反序计算是为了计算target中相同字符的最小量\n",
    "        ## 越靠近尾部的字符，移动量越小\n",
    "        target_marks = {}\n",
    "        for i in range(len(target) - 1, -1, -1):\n",
    "            if (not target_marks.get(target[i])):\n",
    "                target_marks[target[i]] = len(target) - i\n",
    "\n",
    "        ## 起始查找位置\n",
    "        start = 0\n",
    "        ## 终止查找位置\n",
    "        end = len(source) - len(target) + 1\n",
    "        ## 核心是移动目标字符串\n",
    "        match_length = 0  ## 匹配长度\n",
    "        while start < end:  ## 如果start>=end，则表示剩余的字符长度小于目标字符串长度，停止查找\n",
    "            for j in range(len(target)):\n",
    "                if source[j + start] != target[j]:  ## 发生失配现象\n",
    "                    break\n",
    "                match_length += 1\n",
    "            \n",
    "            if match_length == len(target):\n",
    "                return start\n",
    "            \n",
    "            if (start + len(target) >= len(source)):\n",
    "                break\n",
    "                \n",
    "            ## 失配，表明从start到start+len(target) - 1肯定不匹配目标字符串target\n",
    "            ## 下一个字符source[start+len(target)]如果不在目标字符串target中\n",
    "            ## 则start直接移动len(target)+1个字符，表明start到start+len(target)+1都\n",
    "            ## 不包含目标字符串target\n",
    "            ## source[start+len(target)]如果在目标字符串target中\n",
    "            ## 则start移动source[start+len(target)]在target中对应字符的移动量target_marks[source[start + len(target)]]\n",
    "            ## 这样以来，target中对应的字符会与source[start+len(target)]正好对齐\n",
    "            if (not target_marks.get(source[start + len(target)])):\n",
    "                start += len(target) + 1\n",
    "            else:\n",
    "                start += target_marks[source[start + len(target)]]\n",
    "            match_length = 0\n",
    "            \n",
    "        return -1  "
   ]
  },
  {
   "cell_type": "code",
   "execution_count": 30,
   "metadata": {},
   "outputs": [
    {
     "name": "stdout",
     "output_type": "stream",
     "text": [
      "{'t': 1, 'e': 2, 'g': 3, 'r': 4, 'a': 5}\n",
      "start 2 3\n",
      "3\n"
     ]
    }
   ],
   "source": [
    "solution = Solution()\n",
    "print(solution.strStr(\"tartarget\", \"target\"))"
   ]
  },
  {
   "cell_type": "code",
   "execution_count": 3,
   "metadata": {},
   "outputs": [
    {
     "data": {
      "text/plain": [
       "97"
      ]
     },
     "execution_count": 3,
     "metadata": {},
     "output_type": "execute_result"
    }
   ],
   "source": [
    "ord('a')"
   ]
  },
  {
   "cell_type": "code",
   "execution_count": null,
   "metadata": {},
   "outputs": [],
   "source": []
  }
 ],
 "metadata": {
  "kernelspec": {
   "display_name": "Python 3",
   "language": "python",
   "name": "python3"
  },
  "language_info": {
   "codemirror_mode": {
    "name": "ipython",
    "version": 3
   },
   "file_extension": ".py",
   "mimetype": "text/x-python",
   "name": "python",
   "nbconvert_exporter": "python",
   "pygments_lexer": "ipython3",
   "version": "3.7.1"
  }
 },
 "nbformat": 4,
 "nbformat_minor": 2
}
