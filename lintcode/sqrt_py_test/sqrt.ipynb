{
 "cells": [
  {
   "cell_type": "code",
   "execution_count": 1,
   "metadata": {},
   "outputs": [],
   "source": [
    "# Copyright(C) 2021 刘珅珅\n",
    "# Environment: python 3.7\n",
    "# Date: 2021.2.24\n",
    "# 对x开根：lintcode 141"
   ]
  },
  {
   "cell_type": "code",
   "execution_count": 1,
   "metadata": {},
   "outputs": [],
   "source": [
    "## O(log(x))的时间复杂度要求，首先就应该想到二分法\n",
    "class Solution:\n",
    "    \"\"\"\n",
    "    @param x: An integer\n",
    "    @return: The sqrt of x\n",
    "    \"\"\"\n",
    "    def sqrt(self, x):\n",
    "        # write your code here\n",
    "        if x <= 0:\n",
    "            return 0\n",
    "        \n",
    "        if x <= 2:\n",
    "            return 1\n",
    "        \n",
    "        start, end = 1, x // 2\n",
    "        while start + 1 < end:\n",
    "            mid = (start + end) // 2\n",
    "            ## 不能用mid * mid，避免溢出\n",
    "            if x // mid == mid:\n",
    "                return mid\n",
    "            \n",
    "            ## mid * mid > x，说明要找的值在start到mid中间\n",
    "            if x // mid < mid:\n",
    "                end = mid\n",
    "            else:\n",
    "                start = mid  ## mid * mid > x，说明要找的值在mid到end中间\n",
    "        \n",
    "        if x // end >= end:\n",
    "            return end\n",
    "        return start\n",
    "        "
   ]
  },
  {
   "cell_type": "code",
   "execution_count": 7,
   "metadata": {},
   "outputs": [
    {
     "name": "stdout",
     "output_type": "stream",
     "text": [
      "1\n"
     ]
    }
   ],
   "source": [
    "solution = Solution()\n",
    "x = 5\n",
    "print(solution.sqrt(3))"
   ]
  },
  {
   "cell_type": "code",
   "execution_count": null,
   "metadata": {},
   "outputs": [],
   "source": []
  }
 ],
 "metadata": {
  "kernelspec": {
   "display_name": "Python 3",
   "language": "python",
   "name": "python3"
  },
  "language_info": {
   "codemirror_mode": {
    "name": "ipython",
    "version": 3
   },
   "file_extension": ".py",
   "mimetype": "text/x-python",
   "name": "python",
   "nbconvert_exporter": "python",
   "pygments_lexer": "ipython3",
   "version": "3.7.1"
  }
 },
 "nbformat": 4,
 "nbformat_minor": 2
}
