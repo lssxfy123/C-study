{
 "cells": [
  {
   "cell_type": "code",
   "execution_count": 1,
   "metadata": {},
   "outputs": [],
   "source": [
    "# Copyright(C) 2021 刘珅珅\n",
    "# Environment: python 3.7\n",
    "# Date: 2021.2.15\n",
    "#  x的n次幂：lintcode 428"
   ]
  },
  {
   "cell_type": "code",
   "execution_count": 13,
   "metadata": {},
   "outputs": [],
   "source": [
    "## 递归版\n",
    "class Solution:\n",
    "    \"\"\"\n",
    "    @param x {float}: the base number\n",
    "    @param n {int}: the power number\n",
    "    @return {float}: the result\n",
    "    \"\"\"\n",
    "    def myPow(self, x, n):\n",
    "        # write your code here\n",
    "        if n == 0:\n",
    "            return 1\n",
    "        \n",
    "        if x == 0 and n < 0:\n",
    "            return 0\n",
    "        \n",
    "        ## 考虑负幂的情况\n",
    "        if n < 0:\n",
    "            x = 1 / x\n",
    "            n = -n\n",
    "        \n",
    "        return self.recursion_pow(x, n)\n",
    "        \n",
    "\n",
    "    def recursion_pow(self, x, n):\n",
    "        if n == 1:\n",
    "            return x\n",
    "\n",
    "        tmp = self.recursion_pow(x, n // 2)\n",
    "        if n % 2 == 1:\n",
    "            return tmp * tmp * x\n",
    "        \n",
    "        return tmp * tmp"
   ]
  },
  {
   "cell_type": "code",
   "execution_count": 14,
   "metadata": {},
   "outputs": [
    {
     "name": "stdout",
     "output_type": "stream",
     "text": [
      "0.25\n"
     ]
    }
   ],
   "source": [
    "solution = Solution()\n",
    "\n",
    "print(solution.myPow(2, -2))\n"
   ]
  },
  {
   "cell_type": "code",
   "execution_count": 8,
   "metadata": {},
   "outputs": [
    {
     "data": {
      "text/plain": [
       "-1"
      ]
     },
     "execution_count": 8,
     "metadata": {},
     "output_type": "execute_result"
    }
   ],
   "source": [
    "-2 // 2"
   ]
  },
  {
   "cell_type": "code",
   "execution_count": null,
   "metadata": {},
   "outputs": [],
   "source": []
  }
 ],
 "metadata": {
  "kernelspec": {
   "display_name": "Python 3",
   "language": "python",
   "name": "python3"
  },
  "language_info": {
   "codemirror_mode": {
    "name": "ipython",
    "version": 3
   },
   "file_extension": ".py",
   "mimetype": "text/x-python",
   "name": "python",
   "nbconvert_exporter": "python",
   "pygments_lexer": "ipython3",
   "version": "3.7.1"
  }
 },
 "nbformat": 4,
 "nbformat_minor": 2
}
