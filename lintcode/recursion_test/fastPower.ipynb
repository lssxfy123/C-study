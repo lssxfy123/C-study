{
 "cells": [
  {
   "cell_type": "code",
   "execution_count": 1,
   "metadata": {},
   "outputs": [],
   "source": [
    "# Copyright(C) 2021 刘珅珅\n",
    "# Environment: python 3.7\n",
    "# Date: 2021.2.15\n",
    "# 快速幂：lintcode 140"
   ]
  },
  {
   "cell_type": "code",
   "execution_count": 8,
   "metadata": {},
   "outputs": [],
   "source": [
    "class Solution:\n",
    "    \"\"\"\n",
    "    @param a: A 32bit integer\n",
    "    @param b: A 32bit integer\n",
    "    @param n: A 32bit integer\n",
    "    @return: An integer\n",
    "    \"\"\"\n",
    "    def fastPower(self, a, b, n):\n",
    "        # write your code here\n",
    "        ## ## (a ^ n) % p = ((a ^ n/2) % p * (a ^ n/2) % p) % p \n",
    "        if n == 0:\n",
    "            return 1 % b\n",
    "        return self.binary_power(a, b, n)\n",
    "    \n",
    "    def binary_power(self, a, b, n):\n",
    "        if n == 1:\n",
    "            return a % b\n",
    "        tmp = self.binary_power(a, b, n // 2)\n",
    "        tmp *= tmp\n",
    "        if n % 2 == 1:\n",
    "            tmp *= (a % b)\n",
    "        return tmp % b\n",
    "\n",
    "        "
   ]
  },
  {
   "cell_type": "code",
   "execution_count": 10,
   "metadata": {},
   "outputs": [
    {
     "name": "stdout",
     "output_type": "stream",
     "text": [
      "0\n"
     ]
    }
   ],
   "source": [
    "solution = Solution()\n",
    "\n",
    "print(solution.fastPower(100, 1000, 1000))\n"
   ]
  },
  {
   "cell_type": "code",
   "execution_count": 3,
   "metadata": {},
   "outputs": [
    {
     "data": {
      "text/plain": [
       "1"
      ]
     },
     "execution_count": 3,
     "metadata": {},
     "output_type": "execute_result"
    }
   ],
   "source": [
    "1 % 2"
   ]
  },
  {
   "cell_type": "code",
   "execution_count": null,
   "metadata": {},
   "outputs": [],
   "source": []
  }
 ],
 "metadata": {
  "kernelspec": {
   "display_name": "Python 3",
   "language": "python",
   "name": "python3"
  },
  "language_info": {
   "codemirror_mode": {
    "name": "ipython",
    "version": 3
   },
   "file_extension": ".py",
   "mimetype": "text/x-python",
   "name": "python",
   "nbconvert_exporter": "python",
   "pygments_lexer": "ipython3",
   "version": "3.7.1"
  }
 },
 "nbformat": 4,
 "nbformat_minor": 2
}
