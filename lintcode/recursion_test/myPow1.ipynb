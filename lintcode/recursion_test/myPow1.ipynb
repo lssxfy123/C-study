{
 "cells": [
  {
   "cell_type": "code",
   "execution_count": 1,
   "metadata": {},
   "outputs": [],
   "source": [
    "# Copyright(C) 2021 刘珅珅\n",
    "# Environment: python 3.7\n",
    "# Date: 2021.2.16\n",
    "#  x的n次幂：lintcode 428"
   ]
  },
  {
   "cell_type": "code",
   "execution_count": 3,
   "metadata": {},
   "outputs": [],
   "source": [
    "## 非递归版\n",
    "class Solution:\n",
    "    \"\"\"\n",
    "    @param x {float}: the base number\n",
    "    @param n {int}: the power number\n",
    "    @return {float}: the result\n",
    "    \"\"\"\n",
    "    def myPow(self, x, n):\n",
    "        # write your code here\n",
    "        if x == 0 and n < 0:\n",
    "            return 0\n",
    "        \n",
    "        if n < 0:\n",
    "            x = 1 / x\n",
    "            n = -n\n",
    "            \n",
    "        ans = 1\n",
    "        tmp = x\n",
    "        ## 将n转换为二进制，例如n=5转换为(101)2\n",
    "        ## x^5 = x^4 * x，就是其二进制为1的位乘上对应的x的幂次\n",
    "        ## 这里第一个1对应的x的幂次为1，第2个1对应的x的幂次为4\n",
    "        ## 这里tmp的值依次为x, x^2, x^4, x^8...\n",
    "        while n != 0:\n",
    "            if n % 2 == 1:\n",
    "                ans *= tmp\n",
    "            \n",
    "            tmp *= tmp\n",
    "            n = n // 2\n",
    "\n",
    "        return ans\n",
    "        "
   ]
  },
  {
   "cell_type": "code",
   "execution_count": 4,
   "metadata": {},
   "outputs": [
    {
     "name": "stdout",
     "output_type": "stream",
     "text": [
      "16\n"
     ]
    }
   ],
   "source": [
    "solution = Solution()\n",
    "\n",
    "print(solution.myPow(2, 20))\n"
   ]
  },
  {
   "cell_type": "code",
   "execution_count": 16,
   "metadata": {},
   "outputs": [
    {
     "data": {
      "text/plain": [
       "-1"
      ]
     },
     "execution_count": 16,
     "metadata": {},
     "output_type": "execute_result"
    }
   ],
   "source": [
    "-2 // 2"
   ]
  },
  {
   "cell_type": "code",
   "execution_count": null,
   "metadata": {},
   "outputs": [],
   "source": []
  }
 ],
 "metadata": {
  "kernelspec": {
   "display_name": "Python 3",
   "language": "python",
   "name": "python3"
  },
  "language_info": {
   "codemirror_mode": {
    "name": "ipython",
    "version": 3
   },
   "file_extension": ".py",
   "mimetype": "text/x-python",
   "name": "python",
   "nbconvert_exporter": "python",
   "pygments_lexer": "ipython3",
   "version": "3.7.1"
  }
 },
 "nbformat": 4,
 "nbformat_minor": 2
}
