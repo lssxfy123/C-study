{
 "cells": [
  {
   "cell_type": "code",
   "execution_count": 1,
   "metadata": {},
   "outputs": [],
   "source": [
    "# Copyright(C) 2021 刘珅珅\n",
    "# Environment: python 3.7\n",
    "# Date: 2021.2.16\n",
    "# 快速幂：lintcode 140"
   ]
  },
  {
   "cell_type": "code",
   "execution_count": 1,
   "metadata": {},
   "outputs": [],
   "source": [
    "## 非递归版本\n",
    "class Solution:\n",
    "    \"\"\"\n",
    "    @param a: A 32bit integer\n",
    "    @param b: A 32bit integer\n",
    "    @param n: A 32bit integer\n",
    "    @return: An integer\n",
    "    \"\"\"\n",
    "    def fastPower(self, a, b, n):\n",
    "        # write your code here\n",
    "        ## ## (a ^ n) % p = ((a ^ n/2) % p * (a ^ n/2) % p) % p \n",
    "        if n == 0:\n",
    "            return 1 % b\n",
    "        \n",
    "        ## lintcode 428 求x的n次幂的算法\n",
    "        ## 为了防止溢出，每次相乘操作后都要对b取模\n",
    "        ## 根据取模运算的特点，不会对最终结果有影响\n",
    "        ## 例如n=5，转换为二进制为(101)2，所以 a^5 % b = (a^4 * a)%b\n",
    "        ## 根据取模运算规则，就等于(a^4 % b * a % b) % b=(((a^2%b * a^2%b)%b)%b * a%b)%b\n",
    "        ## 所以while循环中的多次取模没有什么影响\n",
    "        ans = 1\n",
    "        tmp = a\n",
    "        while n != 0:\n",
    "            if n % 2 == 1:\n",
    "                ans = (tmp * ans) % b\n",
    "            tmp = (tmp * tmp) % b\n",
    "            n = n // 2\n",
    "            \n",
    "        return ans % b\n",
    "          "
   ]
  },
  {
   "cell_type": "code",
   "execution_count": 2,
   "metadata": {},
   "outputs": [
    {
     "name": "stdout",
     "output_type": "stream",
     "text": [
      "0\n"
     ]
    }
   ],
   "source": [
    "solution = Solution()\n",
    "\n",
    "print(solution.fastPower(100, 1000, 1000))\n"
   ]
  },
  {
   "cell_type": "code",
   "execution_count": 3,
   "metadata": {},
   "outputs": [
    {
     "data": {
      "text/plain": [
       "1"
      ]
     },
     "execution_count": 3,
     "metadata": {},
     "output_type": "execute_result"
    }
   ],
   "source": [
    "1 % 2"
   ]
  },
  {
   "cell_type": "code",
   "execution_count": null,
   "metadata": {},
   "outputs": [],
   "source": []
  }
 ],
 "metadata": {
  "kernelspec": {
   "display_name": "Python 3",
   "language": "python",
   "name": "python3"
  },
  "language_info": {
   "codemirror_mode": {
    "name": "ipython",
    "version": 3
   },
   "file_extension": ".py",
   "mimetype": "text/x-python",
   "name": "python",
   "nbconvert_exporter": "python",
   "pygments_lexer": "ipython3",
   "version": "3.7.1"
  }
 },
 "nbformat": 4,
 "nbformat_minor": 2
}
