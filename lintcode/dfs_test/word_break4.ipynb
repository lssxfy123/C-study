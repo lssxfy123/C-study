{
 "cells": [
  {
   "cell_type": "code",
   "execution_count": 1,
   "metadata": {},
   "outputs": [],
   "source": [
    "# Copyright(C) 2021 刘珅珅\n",
    "# Environment: python 3.7\n",
    "# Date: 2021.3.18\n",
    "# 单词拆分II：lintcode 582"
   ]
  },
  {
   "cell_type": "markdown",
   "metadata": {},
   "source": [
    "## 使用动态规划对DFS进行剪枝优化\n",
    "## 另一种优化方案"
   ]
  },
  {
   "cell_type": "code",
   "execution_count": 5,
   "metadata": {},
   "outputs": [],
   "source": [
    "class Solution:\n",
    "    \"\"\"\n",
    "    @param: s: A string\n",
    "    @param: wordDict: A set of words.\n",
    "    @return: All possible sentences.\n",
    "    \"\"\"\n",
    "    def wordBreak(self, s, wordDict):\n",
    "        # write your code here\n",
    "        if not wordDict:\n",
    "            return []\n",
    "        \n",
    "        memo = {}\n",
    "        self.dfs(s, wordDict, memo)\n",
    "        return memo[s]\n",
    "    \n",
    "    ## memo存储从i开始的后缀中能够被break出来的所有方案\n",
    "    def dfs(self, s, wordDict, memo):\n",
    "        ## 递归的出口\n",
    "        if s in memo:\n",
    "            return memo[s]\n",
    "        \n",
    "        ## 方案总数\n",
    "        partitions = []\n",
    "        if len(s) == 0:\n",
    "            return partitions\n",
    "\n",
    "        ## 查找s中从index开始的字符串是否在wordDict中\n",
    "        for i in range(1, len(s)):\n",
    "            prefix = s[:i]\n",
    "            if prefix not in wordDict:\n",
    "                continue\n",
    "            \n",
    "            suffix = s[i:]\n",
    "            sub_partitions = self.dfs(suffix, wordDict, memo)\n",
    "            for sub in sub_partitions:\n",
    "                partitions.append(prefix + \" \" + sub)\n",
    "            \n",
    "        ## 如果s本身也在字典中\n",
    "        if s in wordDict:\n",
    "            partitions.append(s)\n",
    "            \n",
    "        memo[s] = partitions\n",
    "        return partitions\n",
    "    \n",
    "        \n",
    "        "
   ]
  },
  {
   "cell_type": "code",
   "execution_count": 6,
   "metadata": {},
   "outputs": [
    {
     "name": "stdout",
     "output_type": "stream",
     "text": [
      "[]\n"
     ]
    }
   ],
   "source": [
    "s = \"a\"\n",
    "wordDict = [\"\"]\n",
    "\n",
    "solution = Solution()\n",
    "print(solution.wordBreak(s, wordDict))"
   ]
  },
  {
   "cell_type": "code",
   "execution_count": null,
   "metadata": {},
   "outputs": [],
   "source": []
  }
 ],
 "metadata": {
  "kernelspec": {
   "display_name": "Python 3",
   "language": "python",
   "name": "python3"
  },
  "language_info": {
   "codemirror_mode": {
    "name": "ipython",
    "version": 3
   },
   "file_extension": ".py",
   "mimetype": "text/x-python",
   "name": "python",
   "nbconvert_exporter": "python",
   "pygments_lexer": "ipython3",
   "version": "3.7.1"
  }
 },
 "nbformat": 4,
 "nbformat_minor": 2
}
