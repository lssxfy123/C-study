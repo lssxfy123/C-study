{
 "cells": [
  {
   "cell_type": "code",
   "execution_count": 1,
   "metadata": {},
   "outputs": [],
   "source": [
    "# Copyright(C) 2021 刘珅珅\n",
    "# Environment: python 3.7\n",
    "# Date: 2021.3.7\n",
    "# 旅行商问题：lintcode 816"
   ]
  },
  {
   "cell_type": "code",
   "execution_count": 10,
   "metadata": {},
   "outputs": [],
   "source": [
    "## 暴力DFS+剪枝\n",
    "class Result:\n",
    "    def __init__(self):\n",
    "        self.min_cost = float('inf')\n",
    "        \n",
    "class Solution:\n",
    "    \"\"\"\n",
    "    @param n: an integer,denote the number of cities\n",
    "    @param roads: a list of three-tuples,denote the road between cities\n",
    "    @return: return the minimum cost to travel all cities\n",
    "    \"\"\"\n",
    "    def minCost(self, n, roads):\n",
    "        # Write your code here\n",
    "        \n",
    "        ## 构建图，题目中的参数roads是一个序列，需要构建图，才好查找下一个城市\n",
    "        graph = self.build_graph(n, roads)\n",
    "        \n",
    "        ## DFS搜索，题目需要从城市1开始，初始的visited中也要添加1进去\n",
    "        result = Result()\n",
    "        self.dfs(1, n, [1], set([1]), 0, graph, result)\n",
    "        return result.min_cost\n",
    "    \n",
    "    ## 剪枝：剪去部分路径，并不是在剪枝中直接查找最优解\n",
    "    ## 如果要把city加入到路径中，就判断添加了city的path是否有更优的情况，注意并不是判断它是否是最优解\n",
    "    ## 这里的剪枝算法是，判断路径中两个连接点path[i-1]和path[i]的cost+path最后一个结点path[-1]到city的cost(如果city加入路径，path之前的最后结点与city相连)\n",
    "    ## 是否大于从path[i-1]连接到path[-1]+path[i]连接到city，如果大于，说明目前的path中添加city肯定不是最优解\n",
    "    ## 例如：path:[1,2,3,4,5,6,7]，city为8，剪枝算法中会判断graph[2][3]+graph[7][8] > graph[2][7] + graph[3][8]\n",
    "    ## graph[3][4]+graph[7][8] > graph[3][7] + graph[4][8]...等情况，只有有1个满足，就说明8不适合进入path\n",
    "    ## 这里只判断连接到path最后1个结点7的情形，因为它之前的结点在之前剪枝操作已判断过了\n",
    "    ## 只选择两个相邻结点是为了简化剪枝运算，毕竟剪枝只是剪去部分路径\n",
    "    def has_better_path(self, city, path, graph):\n",
    "        for i in range(1, len(path)):  ## path的第1个值是城市1\n",
    "            ## 这里需要判断某些路径是否为有效路径，因为建图的时候，根据给出的roads建图，某些路径可能不存在\n",
    "            ## 如果不判断是否有效，可能会导致KeyError\n",
    "            if self.is_valid_path(graph, path[i - 1], path[-1]) and self.is_valid_path(graph, path[i], city):\n",
    "                if graph[path[i - 1]][path[i]] + graph[path[-1]][city] > graph[path[i - 1]][path[-1]] + graph[path[i]][city]:\n",
    "                    return True\n",
    "        return False\n",
    "\n",
    "    \n",
    "    ## 一个城市只能通过1次，所以需要visited\n",
    "    def dfs(self, city, n, path, visited, cost, graph, result):\n",
    "        if len(visited) == n:  ## 已访问了n个城市\n",
    "            result.min_cost = min(result.min_cost, cost)\n",
    "            return\n",
    "        \n",
    "        ## 下一个城市\n",
    "        for next_city in graph[city]:\n",
    "            if next_city in visited:\n",
    "                continue\n",
    "            \n",
    "            if self.has_better_path(next_city, path, graph):\n",
    "                continue\n",
    "            \n",
    "            ## 选择进入next_city\n",
    "            visited.add(next_city)\n",
    "            path.append(next_city)\n",
    "            self.dfs(next_city, n, path, visited, cost + graph[city][next_city], graph, result)\n",
    "            visited.remove(next_city)\n",
    "            path.pop()\n",
    "        \n",
    "    \n",
    "    def build_graph(self, n, roads):\n",
    "        ## 互动视频中的建图方式有点问题，1的下一个城市也有1,2的下一个城市也有2，并且cost为'inf'，这样会导致某些输入样例会超时\n",
    "        ## 还是如下建图方式比较好\n",
    "        graph = {i: {} for i in range(1, n + 1)}\n",
    "        for a, b, c in roads:\n",
    "            if b not in graph[a]:\n",
    "                graph[a][b] = c\n",
    "            else:\n",
    "                graph[a][b] = min(graph[a][b], c)\n",
    "            if a not in graph[b]:\n",
    "                graph[b][a] = c\n",
    "            else:\n",
    "                graph[b][a] = min(graph[b][a], c)\n",
    "        return graph\n",
    "\n",
    "    def is_valid_path(self, graph, prev, next):\n",
    "        if next in graph[prev]:\n",
    "            return True\n",
    "        return False\n"
   ]
  },
  {
   "cell_type": "code",
   "execution_count": 11,
   "metadata": {},
   "outputs": [
    {
     "name": "stdout",
     "output_type": "stream",
     "text": [
      "{1: {2: 2, 3: 40, 4: 43, 5: 8, 6: 38, 7: 33, 8: 24, 9: 8, 10: 5}, 2: {1: 2, 3: 21, 4: 48, 5: 2, 6: 42, 7: 43, 8: 19, 9: 8, 10: 15}, 3: {1: 40, 2: 21, 4: 17, 5: 4, 6: 14, 7: 8, 8: 9, 9: 46, 10: 44}, 4: {1: 43, 2: 48, 3: 17, 5: 11, 6: 2, 7: 49, 8: 35, 9: 17, 10: 32}, 5: {1: 8, 2: 2, 3: 4, 4: 11, 6: 44, 7: 50, 8: 20, 9: 34, 10: 20}, 6: {1: 38, 2: 42, 3: 14, 4: 2, 5: 44, 7: 14, 8: 23, 9: 26, 10: 35}, 7: {1: 33, 2: 43, 3: 8, 4: 49, 5: 50, 6: 14, 8: 14, 9: 2, 10: 9}, 8: {1: 24, 2: 19, 3: 9, 4: 35, 5: 20, 6: 23, 7: 14, 9: 24, 10: 6}, 9: {1: 8, 2: 8, 3: 46, 4: 17, 5: 34, 6: 26, 7: 2, 8: 24, 10: 25}, 10: {1: 5, 2: 15, 3: 44, 4: 32, 5: 20, 6: 35, 7: 9, 8: 6, 9: 25}}\n",
      "52\n"
     ]
    }
   ],
   "source": [
    "solution = Solution()\n",
    "n = 3\n",
    "nums = [[1,2,1],[2,3,2],[1,3,3]]\n",
    "n = 10\n",
    "nums = [[1,2,2],[1,3,40],[1,4,43],[1,5,8],[1,6,38],[1,7,33],[1,8,24],[1,9,8],[1,10,5],[2,3,21],[2,4,48],[2,5,2],[2,6,42],[2,7,43],[2,8,19],[2,9,8],[2,10,15],[3,4,17],[3,5,4],[3,6,14],[3,7,8],[3,8,9],[3,9,46],[3,10,44],[4,5,11],[4,6,2],[4,7,49],[4,8,35],[4,9,17],[4,10,32],[5,6,44],[5,7,50],[5,8,20],[5,9,34],[5,10,20],[6,7,14],[6,8,23],[6,9,26],[6,10,35],[7,8,14],[7,9,2],[7,10,9],[8,9,24],[8,10,6],[9,10,25]]\n",
    "print(solution.minCost(n, nums))"
   ]
  },
  {
   "cell_type": "code",
   "execution_count": 12,
   "metadata": {},
   "outputs": [
    {
     "name": "stdout",
     "output_type": "stream",
     "text": [
      "{1: {2: 9, 3: 2}, 2: {1: 9, 3: 1, 4: 3}, 3: {2: 1, 4: 9, 1: 2}, 4: {3: 9, 5: 4, 2: 3}, 5: {4: 4}}\n"
     ]
    },
    {
     "ename": "KeyError",
     "evalue": "4",
     "output_type": "error",
     "traceback": [
      "\u001b[1;31m---------------------------------------------------------------------------\u001b[0m",
      "\u001b[1;31mKeyError\u001b[0m                                  Traceback (most recent call last)",
      "\u001b[1;32m<ipython-input-12-7ec1ec1d90c3>\u001b[0m in \u001b[0;36m<module>\u001b[1;34m\u001b[0m\n\u001b[0;32m      1\u001b[0m \u001b[0mn\u001b[0m \u001b[1;33m=\u001b[0m \u001b[1;36m5\u001b[0m\u001b[1;33m\u001b[0m\u001b[1;33m\u001b[0m\u001b[0m\n\u001b[0;32m      2\u001b[0m \u001b[0mnums\u001b[0m \u001b[1;33m=\u001b[0m \u001b[1;33m[\u001b[0m\u001b[1;33m[\u001b[0m\u001b[1;36m1\u001b[0m\u001b[1;33m,\u001b[0m\u001b[1;36m2\u001b[0m\u001b[1;33m,\u001b[0m\u001b[1;36m9\u001b[0m\u001b[1;33m]\u001b[0m\u001b[1;33m,\u001b[0m\u001b[1;33m[\u001b[0m\u001b[1;36m2\u001b[0m\u001b[1;33m,\u001b[0m\u001b[1;36m3\u001b[0m\u001b[1;33m,\u001b[0m\u001b[1;36m1\u001b[0m\u001b[1;33m]\u001b[0m\u001b[1;33m,\u001b[0m\u001b[1;33m[\u001b[0m\u001b[1;36m3\u001b[0m\u001b[1;33m,\u001b[0m\u001b[1;36m4\u001b[0m\u001b[1;33m,\u001b[0m\u001b[1;36m9\u001b[0m\u001b[1;33m]\u001b[0m\u001b[1;33m,\u001b[0m\u001b[1;33m[\u001b[0m\u001b[1;36m4\u001b[0m\u001b[1;33m,\u001b[0m\u001b[1;36m5\u001b[0m\u001b[1;33m,\u001b[0m\u001b[1;36m4\u001b[0m\u001b[1;33m]\u001b[0m\u001b[1;33m,\u001b[0m\u001b[1;33m[\u001b[0m\u001b[1;36m2\u001b[0m\u001b[1;33m,\u001b[0m\u001b[1;36m4\u001b[0m\u001b[1;33m,\u001b[0m\u001b[1;36m3\u001b[0m\u001b[1;33m]\u001b[0m\u001b[1;33m,\u001b[0m\u001b[1;33m[\u001b[0m\u001b[1;36m1\u001b[0m\u001b[1;33m,\u001b[0m\u001b[1;36m3\u001b[0m\u001b[1;33m,\u001b[0m\u001b[1;36m2\u001b[0m\u001b[1;33m]\u001b[0m\u001b[1;33m,\u001b[0m\u001b[1;33m[\u001b[0m\u001b[1;36m5\u001b[0m\u001b[1;33m,\u001b[0m\u001b[1;36m4\u001b[0m\u001b[1;33m,\u001b[0m\u001b[1;36m9\u001b[0m\u001b[1;33m]\u001b[0m\u001b[1;33m]\u001b[0m\u001b[1;33m\u001b[0m\u001b[1;33m\u001b[0m\u001b[0m\n\u001b[1;32m----> 3\u001b[1;33m \u001b[0mprint\u001b[0m\u001b[1;33m(\u001b[0m\u001b[0msolution\u001b[0m\u001b[1;33m.\u001b[0m\u001b[0mminCost\u001b[0m\u001b[1;33m(\u001b[0m\u001b[0mn\u001b[0m\u001b[1;33m,\u001b[0m \u001b[0mnums\u001b[0m\u001b[1;33m)\u001b[0m\u001b[1;33m)\u001b[0m\u001b[1;33m\u001b[0m\u001b[1;33m\u001b[0m\u001b[0m\n\u001b[0m",
      "\u001b[1;32m<ipython-input-10-36b745456185>\u001b[0m in \u001b[0;36mminCost\u001b[1;34m(self, n, roads)\u001b[0m\n\u001b[0;32m     19\u001b[0m         \u001b[1;31m## DFS搜索，题目需要从城市1开始，初始的visited中也要添加1进去\u001b[0m\u001b[1;33m\u001b[0m\u001b[1;33m\u001b[0m\u001b[1;33m\u001b[0m\u001b[0m\n\u001b[0;32m     20\u001b[0m         \u001b[0mresult\u001b[0m \u001b[1;33m=\u001b[0m \u001b[0mResult\u001b[0m\u001b[1;33m(\u001b[0m\u001b[1;33m)\u001b[0m\u001b[1;33m\u001b[0m\u001b[1;33m\u001b[0m\u001b[0m\n\u001b[1;32m---> 21\u001b[1;33m         \u001b[0mself\u001b[0m\u001b[1;33m.\u001b[0m\u001b[0mdfs\u001b[0m\u001b[1;33m(\u001b[0m\u001b[1;36m1\u001b[0m\u001b[1;33m,\u001b[0m \u001b[0mn\u001b[0m\u001b[1;33m,\u001b[0m \u001b[1;33m[\u001b[0m\u001b[1;36m1\u001b[0m\u001b[1;33m]\u001b[0m\u001b[1;33m,\u001b[0m \u001b[0mset\u001b[0m\u001b[1;33m(\u001b[0m\u001b[1;33m[\u001b[0m\u001b[1;36m1\u001b[0m\u001b[1;33m]\u001b[0m\u001b[1;33m)\u001b[0m\u001b[1;33m,\u001b[0m \u001b[1;36m0\u001b[0m\u001b[1;33m,\u001b[0m \u001b[0mgraph\u001b[0m\u001b[1;33m,\u001b[0m \u001b[0mresult\u001b[0m\u001b[1;33m)\u001b[0m\u001b[1;33m\u001b[0m\u001b[1;33m\u001b[0m\u001b[0m\n\u001b[0m\u001b[0;32m     22\u001b[0m         \u001b[1;32mreturn\u001b[0m \u001b[0mresult\u001b[0m\u001b[1;33m.\u001b[0m\u001b[0mmin_cost\u001b[0m\u001b[1;33m\u001b[0m\u001b[1;33m\u001b[0m\u001b[0m\n\u001b[0;32m     23\u001b[0m \u001b[1;33m\u001b[0m\u001b[0m\n",
      "\u001b[1;32m<ipython-input-10-36b745456185>\u001b[0m in \u001b[0;36mdfs\u001b[1;34m(self, city, n, path, visited, cost, graph, result)\u001b[0m\n\u001b[0;32m     47\u001b[0m             \u001b[0mvisited\u001b[0m\u001b[1;33m.\u001b[0m\u001b[0madd\u001b[0m\u001b[1;33m(\u001b[0m\u001b[0mnext_city\u001b[0m\u001b[1;33m)\u001b[0m\u001b[1;33m\u001b[0m\u001b[1;33m\u001b[0m\u001b[0m\n\u001b[0;32m     48\u001b[0m             \u001b[0mpath\u001b[0m\u001b[1;33m.\u001b[0m\u001b[0mappend\u001b[0m\u001b[1;33m(\u001b[0m\u001b[0mnext_city\u001b[0m\u001b[1;33m)\u001b[0m\u001b[1;33m\u001b[0m\u001b[1;33m\u001b[0m\u001b[0m\n\u001b[1;32m---> 49\u001b[1;33m             \u001b[0mself\u001b[0m\u001b[1;33m.\u001b[0m\u001b[0mdfs\u001b[0m\u001b[1;33m(\u001b[0m\u001b[0mnext_city\u001b[0m\u001b[1;33m,\u001b[0m \u001b[0mn\u001b[0m\u001b[1;33m,\u001b[0m \u001b[0mpath\u001b[0m\u001b[1;33m,\u001b[0m \u001b[0mvisited\u001b[0m\u001b[1;33m,\u001b[0m \u001b[0mcost\u001b[0m \u001b[1;33m+\u001b[0m \u001b[0mgraph\u001b[0m\u001b[1;33m[\u001b[0m\u001b[0mcity\u001b[0m\u001b[1;33m]\u001b[0m\u001b[1;33m[\u001b[0m\u001b[0mnext_city\u001b[0m\u001b[1;33m]\u001b[0m\u001b[1;33m,\u001b[0m \u001b[0mgraph\u001b[0m\u001b[1;33m,\u001b[0m \u001b[0mresult\u001b[0m\u001b[1;33m)\u001b[0m\u001b[1;33m\u001b[0m\u001b[1;33m\u001b[0m\u001b[0m\n\u001b[0m\u001b[0;32m     50\u001b[0m             \u001b[0mvisited\u001b[0m\u001b[1;33m.\u001b[0m\u001b[0mremove\u001b[0m\u001b[1;33m(\u001b[0m\u001b[0mnext_city\u001b[0m\u001b[1;33m)\u001b[0m\u001b[1;33m\u001b[0m\u001b[1;33m\u001b[0m\u001b[0m\n\u001b[0;32m     51\u001b[0m             \u001b[0mpath\u001b[0m\u001b[1;33m.\u001b[0m\u001b[0mpop\u001b[0m\u001b[1;33m(\u001b[0m\u001b[1;33m)\u001b[0m\u001b[1;33m\u001b[0m\u001b[1;33m\u001b[0m\u001b[0m\n",
      "\u001b[1;32m<ipython-input-10-36b745456185>\u001b[0m in \u001b[0;36mdfs\u001b[1;34m(self, city, n, path, visited, cost, graph, result)\u001b[0m\n\u001b[0;32m     47\u001b[0m             \u001b[0mvisited\u001b[0m\u001b[1;33m.\u001b[0m\u001b[0madd\u001b[0m\u001b[1;33m(\u001b[0m\u001b[0mnext_city\u001b[0m\u001b[1;33m)\u001b[0m\u001b[1;33m\u001b[0m\u001b[1;33m\u001b[0m\u001b[0m\n\u001b[0;32m     48\u001b[0m             \u001b[0mpath\u001b[0m\u001b[1;33m.\u001b[0m\u001b[0mappend\u001b[0m\u001b[1;33m(\u001b[0m\u001b[0mnext_city\u001b[0m\u001b[1;33m)\u001b[0m\u001b[1;33m\u001b[0m\u001b[1;33m\u001b[0m\u001b[0m\n\u001b[1;32m---> 49\u001b[1;33m             \u001b[0mself\u001b[0m\u001b[1;33m.\u001b[0m\u001b[0mdfs\u001b[0m\u001b[1;33m(\u001b[0m\u001b[0mnext_city\u001b[0m\u001b[1;33m,\u001b[0m \u001b[0mn\u001b[0m\u001b[1;33m,\u001b[0m \u001b[0mpath\u001b[0m\u001b[1;33m,\u001b[0m \u001b[0mvisited\u001b[0m\u001b[1;33m,\u001b[0m \u001b[0mcost\u001b[0m \u001b[1;33m+\u001b[0m \u001b[0mgraph\u001b[0m\u001b[1;33m[\u001b[0m\u001b[0mcity\u001b[0m\u001b[1;33m]\u001b[0m\u001b[1;33m[\u001b[0m\u001b[0mnext_city\u001b[0m\u001b[1;33m]\u001b[0m\u001b[1;33m,\u001b[0m \u001b[0mgraph\u001b[0m\u001b[1;33m,\u001b[0m \u001b[0mresult\u001b[0m\u001b[1;33m)\u001b[0m\u001b[1;33m\u001b[0m\u001b[1;33m\u001b[0m\u001b[0m\n\u001b[0m\u001b[0;32m     50\u001b[0m             \u001b[0mvisited\u001b[0m\u001b[1;33m.\u001b[0m\u001b[0mremove\u001b[0m\u001b[1;33m(\u001b[0m\u001b[0mnext_city\u001b[0m\u001b[1;33m)\u001b[0m\u001b[1;33m\u001b[0m\u001b[1;33m\u001b[0m\u001b[0m\n\u001b[0;32m     51\u001b[0m             \u001b[0mpath\u001b[0m\u001b[1;33m.\u001b[0m\u001b[0mpop\u001b[0m\u001b[1;33m(\u001b[0m\u001b[1;33m)\u001b[0m\u001b[1;33m\u001b[0m\u001b[1;33m\u001b[0m\u001b[0m\n",
      "\u001b[1;32m<ipython-input-10-36b745456185>\u001b[0m in \u001b[0;36mdfs\u001b[1;34m(self, city, n, path, visited, cost, graph, result)\u001b[0m\n\u001b[0;32m     41\u001b[0m                 \u001b[1;32mcontinue\u001b[0m\u001b[1;33m\u001b[0m\u001b[1;33m\u001b[0m\u001b[0m\n\u001b[0;32m     42\u001b[0m \u001b[1;33m\u001b[0m\u001b[0m\n\u001b[1;32m---> 43\u001b[1;33m             \u001b[1;32mif\u001b[0m \u001b[0mself\u001b[0m\u001b[1;33m.\u001b[0m\u001b[0mhas_better_path\u001b[0m\u001b[1;33m(\u001b[0m\u001b[0mnext_city\u001b[0m\u001b[1;33m,\u001b[0m \u001b[0mpath\u001b[0m\u001b[1;33m,\u001b[0m \u001b[0mgraph\u001b[0m\u001b[1;33m)\u001b[0m\u001b[1;33m:\u001b[0m\u001b[1;33m\u001b[0m\u001b[1;33m\u001b[0m\u001b[0m\n\u001b[0m\u001b[0;32m     44\u001b[0m                 \u001b[1;32mcontinue\u001b[0m\u001b[1;33m\u001b[0m\u001b[1;33m\u001b[0m\u001b[0m\n\u001b[0;32m     45\u001b[0m \u001b[1;33m\u001b[0m\u001b[0m\n",
      "\u001b[1;32m<ipython-input-10-36b745456185>\u001b[0m in \u001b[0;36mhas_better_path\u001b[1;34m(self, city, path, graph)\u001b[0m\n\u001b[0;32m     25\u001b[0m     \u001b[1;32mdef\u001b[0m \u001b[0mhas_better_path\u001b[0m\u001b[1;33m(\u001b[0m\u001b[0mself\u001b[0m\u001b[1;33m,\u001b[0m \u001b[0mcity\u001b[0m\u001b[1;33m,\u001b[0m \u001b[0mpath\u001b[0m\u001b[1;33m,\u001b[0m \u001b[0mgraph\u001b[0m\u001b[1;33m)\u001b[0m\u001b[1;33m:\u001b[0m\u001b[1;33m\u001b[0m\u001b[1;33m\u001b[0m\u001b[0m\n\u001b[0;32m     26\u001b[0m         \u001b[1;32mfor\u001b[0m \u001b[0mi\u001b[0m \u001b[1;32min\u001b[0m \u001b[0mrange\u001b[0m\u001b[1;33m(\u001b[0m\u001b[1;36m1\u001b[0m\u001b[1;33m,\u001b[0m \u001b[0mlen\u001b[0m\u001b[1;33m(\u001b[0m\u001b[0mpath\u001b[0m\u001b[1;33m)\u001b[0m\u001b[1;33m)\u001b[0m\u001b[1;33m:\u001b[0m  \u001b[1;31m## path的第1个值是城市1\u001b[0m\u001b[1;33m\u001b[0m\u001b[1;33m\u001b[0m\u001b[0m\n\u001b[1;32m---> 27\u001b[1;33m             \u001b[1;32mif\u001b[0m \u001b[0mgraph\u001b[0m\u001b[1;33m[\u001b[0m\u001b[0mpath\u001b[0m\u001b[1;33m[\u001b[0m\u001b[0mi\u001b[0m \u001b[1;33m-\u001b[0m \u001b[1;36m1\u001b[0m\u001b[1;33m]\u001b[0m\u001b[1;33m]\u001b[0m\u001b[1;33m[\u001b[0m\u001b[0mpath\u001b[0m\u001b[1;33m[\u001b[0m\u001b[0mi\u001b[0m\u001b[1;33m]\u001b[0m\u001b[1;33m]\u001b[0m \u001b[1;33m+\u001b[0m \u001b[0mgraph\u001b[0m\u001b[1;33m[\u001b[0m\u001b[0mpath\u001b[0m\u001b[1;33m[\u001b[0m\u001b[1;33m-\u001b[0m\u001b[1;36m1\u001b[0m\u001b[1;33m]\u001b[0m\u001b[1;33m]\u001b[0m\u001b[1;33m[\u001b[0m\u001b[0mcity\u001b[0m\u001b[1;33m]\u001b[0m \u001b[1;33m>\u001b[0m \u001b[0mgraph\u001b[0m\u001b[1;33m[\u001b[0m\u001b[0mpath\u001b[0m\u001b[1;33m[\u001b[0m\u001b[0mi\u001b[0m \u001b[1;33m-\u001b[0m \u001b[1;36m1\u001b[0m\u001b[1;33m]\u001b[0m\u001b[1;33m]\u001b[0m\u001b[1;33m[\u001b[0m\u001b[0mpath\u001b[0m\u001b[1;33m[\u001b[0m\u001b[1;33m-\u001b[0m\u001b[1;36m1\u001b[0m\u001b[1;33m]\u001b[0m\u001b[1;33m]\u001b[0m \u001b[1;33m+\u001b[0m \u001b[0mgraph\u001b[0m\u001b[1;33m[\u001b[0m\u001b[0mpath\u001b[0m\u001b[1;33m[\u001b[0m\u001b[0mi\u001b[0m\u001b[1;33m]\u001b[0m\u001b[1;33m]\u001b[0m\u001b[1;33m[\u001b[0m\u001b[0mcity\u001b[0m\u001b[1;33m]\u001b[0m\u001b[1;33m:\u001b[0m\u001b[1;33m\u001b[0m\u001b[1;33m\u001b[0m\u001b[0m\n\u001b[0m\u001b[0;32m     28\u001b[0m                 \u001b[1;32mreturn\u001b[0m \u001b[1;32mTrue\u001b[0m\u001b[1;33m\u001b[0m\u001b[1;33m\u001b[0m\u001b[0m\n\u001b[0;32m     29\u001b[0m         \u001b[1;32mreturn\u001b[0m \u001b[1;32mFalse\u001b[0m\u001b[1;33m\u001b[0m\u001b[1;33m\u001b[0m\u001b[0m\n",
      "\u001b[1;31mKeyError\u001b[0m: 4"
     ]
    }
   ],
   "source": [
    "n = 5\n",
    "nums = [[1,2,9],[2,3,1],[3,4,9],[4,5,4],[2,4,3],[1,3,2],[5,4,9]]\n",
    "print(solution.minCost(n, nums))"
   ]
  },
  {
   "cell_type": "code",
   "execution_count": 1,
   "metadata": {},
   "outputs": [
    {
     "data": {
      "text/plain": [
       "{1: {1: inf, 2: inf, 3: inf, 4: inf, 5: inf},\n",
       " 2: {1: inf, 2: inf, 3: inf, 4: inf, 5: inf},\n",
       " 3: {1: inf, 2: inf, 3: inf, 4: inf, 5: inf},\n",
       " 4: {1: inf, 2: inf, 3: inf, 4: inf, 5: inf},\n",
       " 5: {1: inf, 2: inf, 3: inf, 4: inf, 5: inf}}"
      ]
     },
     "execution_count": 1,
     "metadata": {},
     "output_type": "execute_result"
    }
   ],
   "source": [
    "n = 5\n",
    "{i:{j : float('inf') for j in range(1, n + 1)} for i in range(1, n + 1)}"
   ]
  },
  {
   "cell_type": "code",
   "execution_count": null,
   "metadata": {},
   "outputs": [],
   "source": []
  }
 ],
 "metadata": {
  "kernelspec": {
   "display_name": "Python 3",
   "language": "python",
   "name": "python3"
  },
  "language_info": {
   "codemirror_mode": {
    "name": "ipython",
    "version": 3
   },
   "file_extension": ".py",
   "mimetype": "text/x-python",
   "name": "python",
   "nbconvert_exporter": "python",
   "pygments_lexer": "ipython3",
   "version": "3.7.1"
  }
 },
 "nbformat": 4,
 "nbformat_minor": 2
}
