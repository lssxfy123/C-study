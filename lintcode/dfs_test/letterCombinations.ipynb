{
 "cells": [
  {
   "cell_type": "code",
   "execution_count": 1,
   "metadata": {},
   "outputs": [],
   "source": [
    "# Copyright(C) 2021 刘珅珅\n",
    "# Environment: python 3.7\n",
    "# Date: 2021.3.8\n",
    "# 电话号码的字母组合：lintcode 425"
   ]
  },
  {
   "cell_type": "code",
   "execution_count": 3,
   "metadata": {},
   "outputs": [],
   "source": [
    "class Solution:\n",
    "    \"\"\"\n",
    "    @param digits: A digital string\n",
    "    @return: all posible letter combinations\n",
    "    \"\"\"\n",
    "    def letterCombinations(self, digits):\n",
    "        # write your code here\n",
    "        if not digits:\n",
    "            return []\n",
    "        graph = self.build_graph()\n",
    "        ## digits.sort() ## 不能进行排序，\"23\"和\"32\"输出的结果集是不同的\n",
    "        results = []\n",
    "        self.dfs(digits, graph, 0, [], results)\n",
    "        return results\n",
    "    \n",
    "    def dfs(self, digits, graph, index, combination, results):\n",
    "        if len(combination) == len(digits):\n",
    "            results.append(''.join(combination[:]))\n",
    "            return\n",
    "        \n",
    "        for letter in graph[digits[index]]:\n",
    "            combination.append(letter)\n",
    "            self.dfs(digits, graph, index + 1, combination, results)\n",
    "            combination.pop()\n",
    "    \n",
    "    def build_graph(self):\n",
    "        graph = {}\n",
    "        graph[\"2\"] = \"abc\"\n",
    "        graph[\"3\"] = \"def\"\n",
    "        graph[\"4\"] = \"ghi\"\n",
    "        graph[\"5\"] = \"jkl\"\n",
    "        graph[\"6\"] = \"mno\"\n",
    "        graph[\"7\"] = \"pqrs\"\n",
    "        graph[\"8\"] = \"tuv\"\n",
    "        graph[\"9\"] = \"wxyz\"\n",
    "        return graph\n",
    "\n",
    "        \n",
    "    \n"
   ]
  },
  {
   "cell_type": "code",
   "execution_count": 4,
   "metadata": {},
   "outputs": [
    {
     "name": "stdout",
     "output_type": "stream",
     "text": [
      "['ad', 'ae', 'af', 'bd', 'be', 'bf', 'cd', 'ce', 'cf']\n"
     ]
    }
   ],
   "source": [
    "digits = \"23\"\n",
    "solution = Solution()\n",
    "print(solution.letterCombinations(digits))"
   ]
  },
  {
   "cell_type": "code",
   "execution_count": 1,
   "metadata": {},
   "outputs": [
    {
     "data": {
      "text/plain": [
       "[False, False, False]"
      ]
     },
     "execution_count": 1,
     "metadata": {},
     "output_type": "execute_result"
    }
   ],
   "source": [
    "[False] * 3"
   ]
  },
  {
   "cell_type": "code",
   "execution_count": null,
   "metadata": {},
   "outputs": [],
   "source": []
  }
 ],
 "metadata": {
  "kernelspec": {
   "display_name": "Python 3",
   "language": "python",
   "name": "python3"
  },
  "language_info": {
   "codemirror_mode": {
    "name": "ipython",
    "version": 3
   },
   "file_extension": ".py",
   "mimetype": "text/x-python",
   "name": "python",
   "nbconvert_exporter": "python",
   "pygments_lexer": "ipython3",
   "version": "3.7.1"
  }
 },
 "nbformat": 4,
 "nbformat_minor": 2
}
