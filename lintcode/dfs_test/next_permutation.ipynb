{
 "cells": [
  {
   "cell_type": "code",
   "execution_count": 1,
   "metadata": {},
   "outputs": [],
   "source": [
    "# Copyright(C) 2021 刘珅珅\n",
    "# Environment: python 3.7\n",
    "# Date: 2021.3.28\n",
    "# 下一个排列：lintcode 52"
   ]
  },
  {
   "cell_type": "code",
   "execution_count": 3,
   "metadata": {},
   "outputs": [],
   "source": [
    "\"\"\"\n",
    "1. 从右往左遍历数组 nums，直到找到一个位置 i ，满足 nums[i] > nums[i - 1] 或者 i 为 0 。\n",
    "2. i 不为 0 时，用j再次从右到左遍历 nums ，寻找第一个 nums[j] > nums[i - 1] 。而后交换 nums[j] 和 nums[i - 1] 。\n",
    "注意，满足要求的 j 一定存在！且交换后 nums[i] 及右侧数组仍为降序数组。\n",
    "3. 将 nums[i] 及右侧的数组翻转，使其升序。\n",
    "\"\"\"\n",
    "class Solution:\n",
    "    \"\"\"\n",
    "    @param nums: A list of integers\n",
    "    @return: A list of integers\n",
    "    \"\"\"\n",
    "    def nextPermutation(self, nums):\n",
    "        # write your code here\n",
    "        if not nums or len(nums) <= 1:\n",
    "            return nums\n",
    "        \n",
    "        ## step 1\n",
    "        n = len(nums)\n",
    "        i = n - 1\n",
    "        while i > 0 and nums[i] <= nums[i - 1]:\n",
    "            i -= 1\n",
    "        \n",
    "        ## step 2\n",
    "        if i != 0:\n",
    "            j = n - 1\n",
    "            ## 满足要求的j肯定存在，因为i>0，则表示至少有1个nums[i]>nums[i-1]\n",
    "            while nums[j] <= nums[i - 1]:\n",
    "                j -= 1\n",
    "            nums[j], nums[i - 1] = nums[i - 1], nums[j]\n",
    "        \n",
    "        ## step 3\n",
    "        self.reverse(nums, i, n - 1)\n",
    "        return nums\n",
    "        \n",
    "    def reverse(self, nums, i, j):\n",
    "        while i < j:\n",
    "            nums[i], nums[j] = nums[j], nums[i]\n",
    "            i += 1\n",
    "            j -= 1\n",
    "    \n",
    "            \n",
    "            "
   ]
  },
  {
   "cell_type": "code",
   "execution_count": 4,
   "metadata": {},
   "outputs": [
    {
     "name": "stdout",
     "output_type": "stream",
     "text": [
      "[1, 2, 3, 4]\n"
     ]
    }
   ],
   "source": [
    "nums = [4,3,2,1]\n",
    "solution = Solution()\n",
    "print(solution.nextPermutation(nums))"
   ]
  },
  {
   "cell_type": "code",
   "execution_count": null,
   "metadata": {},
   "outputs": [],
   "source": []
  }
 ],
 "metadata": {
  "kernelspec": {
   "display_name": "Python 3",
   "language": "python",
   "name": "python3"
  },
  "language_info": {
   "codemirror_mode": {
    "name": "ipython",
    "version": 3
   },
   "file_extension": ".py",
   "mimetype": "text/x-python",
   "name": "python",
   "nbconvert_exporter": "python",
   "pygments_lexer": "ipython3",
   "version": "3.7.1"
  }
 },
 "nbformat": 4,
 "nbformat_minor": 2
}
