{
 "cells": [
  {
   "cell_type": "code",
   "execution_count": 1,
   "metadata": {},
   "outputs": [],
   "source": [
    "# Copyright(C) 2021 刘珅珅\n",
    "# Environment: python 3.7\n",
    "# Date: 2021.4.6\n",
    "# 寻找丢失的数 II：lintcode 570"
   ]
  },
  {
   "cell_type": "code",
   "execution_count": 1,
   "metadata": {},
   "outputs": [],
   "source": [
    "class Solution:\n",
    "    \"\"\"\n",
    "    @param n: An integer\n",
    "    @param str: a string with number from 1-n in random order and miss one number\n",
    "    @return: An integer\n",
    "    \"\"\"\n",
    "    def findMissing2(self, n, str):\n",
    "        # write your code here\n",
    "        if n < 1 or not str:\n",
    "            return -1\n",
    "        \n",
    "        max_num_length = 1\n",
    "        if n >= 10:\n",
    "            max_num_length = 2\n",
    "        results = []\n",
    "        visited = [False] * (n + 1)\n",
    "        self.dfs(s, [], n, max_num_length, results, visited)\n",
    "\n",
    "    \n",
    "    def dfs(self, s, path, n, max_num_length, results, visited):\n",
    "        if s == \"\" and len(path) == n - 1:\n",
    "            results.append(path[:])\n",
    "            return\n",
    "        \n",
    "        for i in range(max_num_length):\n",
    "            if i + 1 <= len(s):\n",
    "                num = self.get_valid_num(s[:i + 1], n)\n",
    "                if num < 0:\n",
    "                    continue\n",
    "                if visited[num]:\n",
    "                    continue\n",
    "\n",
    "                visited[num] = True\n",
    "                self.dfs(s[i + 1:], path, n, max_num_length, results, visited)\n",
    "                visited[num] = False\n",
    "    \n",
    "    def get_valid_num(self, s, n):\n",
    "        num = int(s)\n",
    "        max_num = n\n",
    "        if n >= 10:\n",
    "            max_num = 9\n",
    "        if len(s) == 1 and 1 <= num <= max_num:\n",
    "            return num\n",
    "        if len(s) == 2 and 10 <= num <= n:\n",
    "            return num\n",
    "        return -1\n",
    "\n",
    "        \n",
    "    \n"
   ]
  },
  {
   "cell_type": "code",
   "execution_count": 2,
   "metadata": {},
   "outputs": [
    {
     "name": "stdout",
     "output_type": "stream",
     "text": [
      "[['19', '20', '1', '2', '3', '4', '5', '6', '7', '8', '9', '10', '11', '12', '13', '14', '15', '16', '18'], ['19', '20', '12', '3', '4', '5', '6', '7', '8', '9', '10', '1', '11', '2', '13', '14', '15', '16', '18'], ['19', '20', '12', '3', '4', '5', '6', '7', '8', '9', '10', '11', '1', '2', '13', '14', '15', '16', '18']]\n",
      "None\n"
     ]
    }
   ],
   "source": [
    "s = \"19201234567891011121314151618\"\n",
    "n = 20\n",
    "solution = Solution()\n",
    "print(solution.findMissing2(n, s))"
   ]
  },
  {
   "cell_type": "code",
   "execution_count": null,
   "metadata": {},
   "outputs": [],
   "source": []
  }
 ],
 "metadata": {
  "kernelspec": {
   "display_name": "Python 3",
   "language": "python",
   "name": "python3"
  },
  "language_info": {
   "codemirror_mode": {
    "name": "ipython",
    "version": 3
   },
   "file_extension": ".py",
   "mimetype": "text/x-python",
   "name": "python",
   "nbconvert_exporter": "python",
   "pygments_lexer": "ipython3",
   "version": "3.7.1"
  }
 },
 "nbformat": 4,
 "nbformat_minor": 2
}
