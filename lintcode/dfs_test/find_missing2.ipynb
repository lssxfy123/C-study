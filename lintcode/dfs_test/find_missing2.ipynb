{
 "cells": [
  {
   "cell_type": "code",
   "execution_count": 1,
   "metadata": {},
   "outputs": [],
   "source": [
    "# Copyright(C) 2021 刘珅珅\n",
    "# Environment: python 3.7\n",
    "# Date: 2021.4.6\n",
    "# 寻找丢失的数 II：lintcode 570"
   ]
  },
  {
   "cell_type": "markdown",
   "metadata": {},
   "source": [
    "# 时间复杂度：O(C(n, len))，len是字符串的长度，C表示组合数，但实际应该远小于这个值"
   ]
  },
  {
   "cell_type": "code",
   "execution_count": 13,
   "metadata": {},
   "outputs": [],
   "source": [
    "class Solution:\n",
    "    \"\"\"\n",
    "    @param n: An integer\n",
    "    @param str: a string with number from 1-n in random order and miss one number\n",
    "    @return: An integer\n",
    "    \"\"\"\n",
    "    def findMissing2(self, n, str):\n",
    "        # write your code here\n",
    "        if n < 1 or not str:\n",
    "            return -1\n",
    "        \n",
    "        ## n<100有1到2个字符组合成数字\n",
    "        max_num_length = 1\n",
    "        if n >= 10:\n",
    "            max_num_length = 2\n",
    "        results = []\n",
    "        visited = [False] * (n + 1)\n",
    "        return self.dfs(str, n, max_num_length, visited)\n",
    "\n",
    "    \n",
    "    \"\"\"\n",
    "    递归的定义：尝试各种可能的拆分，每次拆分1个数字后，就从s中删除掉，并在visited中\n",
    "    保存使用了哪个数字，如果s为空，visited中未使用的数字就是丢失的数字\n",
    "    \"\"\"\n",
    "    def dfs(self, s, n, max_num_length, visited):\n",
    "        if s == \"\":\n",
    "            miss_number = -1\n",
    "            for i in range(1, n + 1):\n",
    "                if visited[i] == False:\n",
    "                    miss_number = i\n",
    "                    break\n",
    "            return miss_number\n",
    "        \n",
    "        ## 剪枝\n",
    "        if s[0] == \"0\":\n",
    "            return -1\n",
    "        \n",
    "        for i in range(max_num_length):\n",
    "            if i + 1 <= len(s):\n",
    "                num = self.get_valid_num(s[:i + 1], n)\n",
    "                if num < 0:\n",
    "                    continue\n",
    "                if visited[num]:\n",
    "                    continue\n",
    "\n",
    "                visited[num] = True\n",
    "                miss_number = self.dfs(s[i + 1:], n, max_num_length, visited)\n",
    "                if miss_number != -1:\n",
    "                    return miss_number\n",
    "                visited[num] = False\n",
    "        return -1\n",
    "    \n",
    "    def get_valid_num(self, s, n):\n",
    "        num = int(s)\n",
    "        max_num = n\n",
    "        if n >= 10:\n",
    "            max_num = 9\n",
    "        if len(s) == 1 and 1 <= num <= max_num:\n",
    "            return num\n",
    "        if len(s) == 2 and 10 <= num <= n:\n",
    "            return num\n",
    "        return -1\n",
    "\n",
    "        \n",
    "    \n"
   ]
  },
  {
   "cell_type": "code",
   "execution_count": 14,
   "metadata": {},
   "outputs": [
    {
     "name": "stdout",
     "output_type": "stream",
     "text": [
      "17\n"
     ]
    }
   ],
   "source": [
    "s = \"19201234567891011121314151618\"\n",
    "n = 20\n",
    "solution = Solution()\n",
    "print(solution.findMissing2(n, s))"
   ]
  },
  {
   "cell_type": "code",
   "execution_count": null,
   "metadata": {},
   "outputs": [],
   "source": []
  }
 ],
 "metadata": {
  "kernelspec": {
   "display_name": "Python 3",
   "language": "python",
   "name": "python3"
  },
  "language_info": {
   "codemirror_mode": {
    "name": "ipython",
    "version": 3
   },
   "file_extension": ".py",
   "mimetype": "text/x-python",
   "name": "python",
   "nbconvert_exporter": "python",
   "pygments_lexer": "ipython3",
   "version": "3.7.1"
  }
 },
 "nbformat": 4,
 "nbformat_minor": 2
}
