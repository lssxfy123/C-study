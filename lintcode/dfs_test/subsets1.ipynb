{
 "cells": [
  {
   "cell_type": "code",
   "execution_count": 1,
   "metadata": {},
   "outputs": [],
   "source": [
    "# Copyright(C) 2021 刘珅珅\n",
    "# Environment: python 3.7\n",
    "# Date: 2021.3.7\n",
    "# 子集：lintcode 17"
   ]
  },
  {
   "cell_type": "code",
   "execution_count": 12,
   "metadata": {},
   "outputs": [],
   "source": [
    "class Solution:\n",
    "    \"\"\"\n",
    "    @param nums: A set of numbers\n",
    "    @return: A list of lists\n",
    "    \"\"\"\n",
    "    def subsets(self, nums):\n",
    "        # write your code here\n",
    "        results = []\n",
    "        ## 如果nums为[]，也是有1个子集的\n",
    "\n",
    "        ## 要求组合中每个序列都是升序\n",
    "        nums.sort()\n",
    "        self.dfs(nums, 0, [], results)\n",
    "        return results\n",
    "    \n",
    "    ## 另一种深度优先搜索\n",
    "    def dfs(self, nums, index, combination, results):\n",
    "        results.append(combination[:])\n",
    "        \n",
    "        ## 每次把以nums[index]开头的元素的子集都找到，例如对于序列[1,2,3]\n",
    "        ## 先把空序列插入结果集，然后把[1]插入结果集，然后把[1,2]插入结果集，再把[1,2,3]插入结果集\n",
    "        ## 之所以在前面添加到结果集中，是因为构造的这颗递归树中，每个结点都是要找的子集，这和之前的\n",
    "        ## 版本有所不同，之前都对nums中每个数都执行选或不选，这里是选择了某个元素后，插入结果集中，\n",
    "        ## 然后继续选其后面的元素，直到选完为止\n",
    "        for i in range(index, len(nums)):\n",
    "            combination.append(nums[i])\n",
    "            self.dfs(nums, i + 1, combination, results)\n",
    "            combination.pop() ## 回溯"
   ]
  },
  {
   "cell_type": "code",
   "execution_count": 13,
   "metadata": {},
   "outputs": [
    {
     "name": "stdout",
     "output_type": "stream",
     "text": [
      "[[], [1], [1, 2], [1, 2, 3], [1, 3], [2], [2, 3], [3]]\n"
     ]
    }
   ],
   "source": [
    "solution = Solution()\n",
    "nums = [1,2,3]\n",
    "#nums = [0]\n",
    "print(solution.subsets(nums))"
   ]
  },
  {
   "cell_type": "code",
   "execution_count": null,
   "metadata": {},
   "outputs": [],
   "source": []
  }
 ],
 "metadata": {
  "kernelspec": {
   "display_name": "Python 3",
   "language": "python",
   "name": "python3"
  },
  "language_info": {
   "codemirror_mode": {
    "name": "ipython",
    "version": 3
   },
   "file_extension": ".py",
   "mimetype": "text/x-python",
   "name": "python",
   "nbconvert_exporter": "python",
   "pygments_lexer": "ipython3",
   "version": "3.7.1"
  }
 },
 "nbformat": 4,
 "nbformat_minor": 2
}
