{
 "cells": [
  {
   "cell_type": "code",
   "execution_count": 1,
   "metadata": {},
   "outputs": [],
   "source": [
    "# Copyright(C) 2021 刘珅珅\n",
    "# Environment: python 3.7\n",
    "# Date: 2021.4.7\n",
    "# 数字组合 II：lintcode 153"
   ]
  },
  {
   "cell_type": "markdown",
   "metadata": {},
   "source": [
    "## 有重复数字"
   ]
  },
  {
   "cell_type": "code",
   "execution_count": 1,
   "metadata": {},
   "outputs": [],
   "source": [
    "class Solution:\n",
    "    \"\"\"\n",
    "    @param num: Given the candidate numbers\n",
    "    @param target: Given the target number\n",
    "    @return: All the combinations that sum to target\n",
    "    \"\"\"\n",
    "    def combinationSum2(self, num, target):\n",
    "        # write your code here\n",
    "        if not num:\n",
    "            return []\n",
    "        num.sort()\n",
    "        results = []\n",
    "        self.dfs(num, target, 0, [], results)\n",
    "        return results\n",
    "        \n",
    "    def dfs(self, nums, target, index, combination, results):\n",
    "        if target < 0:\n",
    "            return\n",
    "        if target == 0:\n",
    "            results.append(combination[:])\n",
    "            return\n",
    "        \n",
    "        for i in range(index, len(nums)):\n",
    "            if i > 0 and nums[i - 1] == nums[i] and i > index:\n",
    "                continue\n",
    "            combination.append(nums[i])\n",
    "            self.dfs(nums, target - nums[i], i + 1, combination, results)\n",
    "            combination.pop()\n",
    "        \n",
    "    \n"
   ]
  },
  {
   "cell_type": "code",
   "execution_count": 3,
   "metadata": {},
   "outputs": [
    {
     "name": "stdout",
     "output_type": "stream",
     "text": [
      "[[1, 1]]\n"
     ]
    }
   ],
   "source": [
    "num = [7,1,2,5,1,6,10]\n",
    "num = [1, 1, 1]\n",
    "target = 8\n",
    "target = 2\n",
    "solution = Solution()\n",
    "print(solution.combinationSum2(num, target))"
   ]
  },
  {
   "cell_type": "code",
   "execution_count": null,
   "metadata": {},
   "outputs": [],
   "source": []
  }
 ],
 "metadata": {
  "kernelspec": {
   "display_name": "Python 3",
   "language": "python",
   "name": "python3"
  },
  "language_info": {
   "codemirror_mode": {
    "name": "ipython",
    "version": 3
   },
   "file_extension": ".py",
   "mimetype": "text/x-python",
   "name": "python",
   "nbconvert_exporter": "python",
   "pygments_lexer": "ipython3",
   "version": "3.7.1"
  }
 },
 "nbformat": 4,
 "nbformat_minor": 2
}
