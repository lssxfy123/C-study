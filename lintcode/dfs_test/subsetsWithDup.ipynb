{
 "cells": [
  {
   "cell_type": "code",
   "execution_count": 1,
   "metadata": {},
   "outputs": [],
   "source": [
    "# Copyright(C) 2021 刘珅珅\n",
    "# Environment: python 3.7\n",
    "# Date: 2021.3.7\n",
    "# 子集 II：lintcode 18"
   ]
  },
  {
   "cell_type": "code",
   "execution_count": 4,
   "metadata": {},
   "outputs": [],
   "source": [
    "class Solution:\n",
    "    \"\"\"\n",
    "    @param nums: A set of numbers\n",
    "    @return: A list of lists\n",
    "    \"\"\"\n",
    "    def subsetsWithDup(self, nums):\n",
    "        # write your code here\n",
    "        results = []\n",
    "        ## 如果nums为[]，也是有1个子集的\n",
    "\n",
    "        ## 要求组合中每个序列都是升序\n",
    "        ## nums可能有重复的值\n",
    "        ## 不能先找到所有可能的序列，然后在去重\n",
    "        nums.sort()\n",
    "        self.dfs(nums, 0, [], results)\n",
    "        return results\n",
    "    \n",
    "    def dfs(self, nums, index, combination, results):\n",
    "        results.append(combination[:])\n",
    "        \n",
    "        ## 每次把以nums[index]开头的元素的子集都找到，例如对于序列[1,2,3]\n",
    "        ## 先把空序列插入结果集，然后把[1]插入结果集，然后把[1,2]插入结果集，再把[1,2,3]插入结果集\n",
    "        ## 之所以在前面添加到结果集中，是因为构造的这颗递归树中，每个结点都是要找的子集，这和之前的\n",
    "        ## 版本有所不同，之前都对nums中每个数都执行选或不选，这里是选择了某个元素后，插入结果集中，\n",
    "        ## 然后继续选其后面的元素，直到选完为止\n",
    "        for i in range(index, len(nums)):\n",
    "            ## 如果第i个元素和第i-1个元素相同，并且第i-1个元素没有被挑选到子集中\n",
    "            ## 则说明，nums[i]不应该进入子集，否则必须会重复，如果nums[i-1]在子集中\n",
    "            ## 那么nums[i]也可以进入子集，例如[1,2,2,3]，[1,2,2],[2,2,3]都是子集\n",
    "            ## 判断nums[i-1]是否在子集中：for循环中的i是从index开始的\n",
    "            ## 如果i>index说明之前肯定没有把nums[i-1]挑选到了当前子集中，因为我们挑选的规则是只要能挑选就一直选\n",
    "            ## 如果nums[i-1]在当前子集中，则i肯定等于index，也就是把nums[i]放入到当前子集中\n",
    "            ## 如果i>index只可能是子集把nums[i-1]弹出后才出现，所以这时不能再把nums[i]放入子集中\n",
    "            if i > 0 and nums[i] == nums[i - 1] and i > index:\n",
    "                continue\n",
    "            combination.append(nums[i])\n",
    "            self.dfs(nums, i + 1, combination, results)\n",
    "            combination.pop() ## 回溯"
   ]
  },
  {
   "cell_type": "code",
   "execution_count": 5,
   "metadata": {},
   "outputs": [
    {
     "name": "stdout",
     "output_type": "stream",
     "text": [
      "[[], [1], [1, 2], [1, 2, 2], [2], [2, 2]]\n"
     ]
    }
   ],
   "source": [
    "solution = Solution()\n",
    "nums = [1,2,2]\n",
    "#nums = [0]\n",
    "print(solution.subsetsWithDup(nums))"
   ]
  },
  {
   "cell_type": "code",
   "execution_count": null,
   "metadata": {},
   "outputs": [],
   "source": []
  }
 ],
 "metadata": {
  "kernelspec": {
   "display_name": "Python 3",
   "language": "python",
   "name": "python3"
  },
  "language_info": {
   "codemirror_mode": {
    "name": "ipython",
    "version": 3
   },
   "file_extension": ".py",
   "mimetype": "text/x-python",
   "name": "python",
   "nbconvert_exporter": "python",
   "pygments_lexer": "ipython3",
   "version": "3.7.1"
  }
 },
 "nbformat": 4,
 "nbformat_minor": 2
}
