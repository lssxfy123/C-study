{
 "cells": [
  {
   "cell_type": "code",
   "execution_count": 1,
   "metadata": {},
   "outputs": [],
   "source": [
    "# Copyright(C) 2021 刘珅珅\n",
    "# Environment: python 3.7\n",
    "# Date: 2021.4.6\n",
    "# 分割字符串：lintcode 680"
   ]
  },
  {
   "cell_type": "code",
   "execution_count": 8,
   "metadata": {},
   "outputs": [],
   "source": [
    "class Solution:\n",
    "    \"\"\"\n",
    "    @param: : a string to be split\n",
    "    @return: all possible split string array\n",
    "    \"\"\"\n",
    "\n",
    "    def splitString(self, s):\n",
    "        # write your code here\n",
    "        results = []\n",
    "        self.dfs(results, [], s)\n",
    "        return results\n",
    "        \n",
    "    \"\"\"\n",
    "    递归的定义：每次从s中拿出1个或2个字符插入到current中，并从s中移除掉插入的字符\n",
    "    当s为空时，当前的搜索存入结果集中\n",
    "    \"\"\"\n",
    "    def dfs(self, results, current, s):\n",
    "        if s == \"\":\n",
    "            results.append(current[:])\n",
    "            return\n",
    "        for i in range(2):\n",
    "            if i + 1 <= len(s):\n",
    "                current.append(s[:i + 1])\n",
    "                self.dfs(results, current, s[i + 1:])\n",
    "                current.pop()"
   ]
  },
  {
   "cell_type": "code",
   "execution_count": 9,
   "metadata": {},
   "outputs": [
    {
     "name": "stdout",
     "output_type": "stream",
     "text": [
      "[['1', '2', '3'], ['1', '23'], ['12', '3']]\n"
     ]
    }
   ],
   "source": [
    "s = \"123\"\n",
    "solution = Solution()\n",
    "print(solution.splitString(s))"
   ]
  },
  {
   "cell_type": "code",
   "execution_count": null,
   "metadata": {},
   "outputs": [],
   "source": []
  }
 ],
 "metadata": {
  "kernelspec": {
   "display_name": "Python 3",
   "language": "python",
   "name": "python3"
  },
  "language_info": {
   "codemirror_mode": {
    "name": "ipython",
    "version": 3
   },
   "file_extension": ".py",
   "mimetype": "text/x-python",
   "name": "python",
   "nbconvert_exporter": "python",
   "pygments_lexer": "ipython3",
   "version": "3.7.1"
  }
 },
 "nbformat": 4,
 "nbformat_minor": 2
}
