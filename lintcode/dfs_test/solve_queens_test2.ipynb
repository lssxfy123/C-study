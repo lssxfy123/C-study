{
 "cells": [
  {
   "cell_type": "code",
   "execution_count": 1,
   "metadata": {},
   "outputs": [],
   "source": [
    "# Copyright(C) 2021 刘珅珅\n",
    "# Environment: python 3.7\n",
    "# Date: 2021.3.29\n",
    "# N皇后问题 II：lintcode 34"
   ]
  },
  {
   "cell_type": "code",
   "execution_count": 1,
   "metadata": {},
   "outputs": [],
   "source": [
    "class Solution:\n",
    "    def __init__(self):\n",
    "        self.total = 0\n",
    "        \n",
    "    \"\"\"\n",
    "    @param n: The number of queens.\n",
    "    @return: The total number of distinct solutions.\n",
    "    \"\"\"\n",
    "    def totalNQueens(self, n):\n",
    "        # write your code here\n",
    "        visited = {\"column\" : set(), \"sum\" : set(), \"difference\" : set()}\n",
    "        self.search(n, [], visited)\n",
    "        return self.total\n",
    "    \n",
    "    def search(self, n, columns, visited):\n",
    "        row = len(columns)\n",
    "        if row == n:\n",
    "            self.total += 1\n",
    "            return\n",
    "        \n",
    "        for column in range(n):\n",
    "            if not self.is_valid(columns, visited, column):\n",
    "                continue\n",
    "            columns.append(column)\n",
    "            visited[\"column\"].add(column)\n",
    "            visited[\"sum\"].add(row + column)\n",
    "            visited[\"difference\"].add(row - column)\n",
    "            \n",
    "            self.search(n, columns, visited)\n",
    "            \n",
    "            columns.pop()\n",
    "            visited[\"column\"].remove(column)\n",
    "            visited[\"sum\"].remove(row + column)\n",
    "            visited[\"difference\"].remove(row - column)\n",
    "    \n",
    "    def is_valid(self, columns, visited, column):\n",
    "        row = len(columns)\n",
    "        if column in visited[\"column\"]:\n",
    "            return False\n",
    "        if row + column in visited[\"sum\"]:\n",
    "            return False\n",
    "        if row - column in visited[\"difference\"]:\n",
    "            return False\n",
    "        return True"
   ]
  },
  {
   "cell_type": "code",
   "execution_count": 2,
   "metadata": {},
   "outputs": [
    {
     "name": "stdout",
     "output_type": "stream",
     "text": [
      "2\n"
     ]
    }
   ],
   "source": [
    "solution = Solution()\n",
    "print(solution.totalNQueens(4))"
   ]
  },
  {
   "cell_type": "code",
   "execution_count": null,
   "metadata": {},
   "outputs": [],
   "source": []
  }
 ],
 "metadata": {
  "kernelspec": {
   "display_name": "Python 3",
   "language": "python",
   "name": "python3"
  },
  "language_info": {
   "codemirror_mode": {
    "name": "ipython",
    "version": 3
   },
   "file_extension": ".py",
   "mimetype": "text/x-python",
   "name": "python",
   "nbconvert_exporter": "python",
   "pygments_lexer": "ipython3",
   "version": "3.7.1"
  }
 },
 "nbformat": 4,
 "nbformat_minor": 2
}
