{
 "cells": [
  {
   "cell_type": "code",
   "execution_count": 1,
   "metadata": {},
   "outputs": [],
   "source": [
    "# Copyright(C) 2021 刘珅珅\n",
    "# Environment: python 3.7\n",
    "# Date: 2021.3.7\n",
    "# 全排列：lintcode 15"
   ]
  },
  {
   "cell_type": "code",
   "execution_count": 3,
   "metadata": {},
   "outputs": [],
   "source": [
    "class Solution:\n",
    "    \"\"\"\n",
    "    @param: nums: A list of integers.\n",
    "    @return: A list of permutations.\n",
    "    \"\"\"\n",
    "    def permute(self, nums):\n",
    "        # write your code here\n",
    "        if not nums:\n",
    "            return [[]]\n",
    "        \n",
    "        permutations = []\n",
    "        self.dfs(nums, set(), [], permutations)\n",
    "        return permutations\n",
    "    \n",
    "    def dfs(self, nums, visited, permutation, permutations):\n",
    "        ## 递归的出口\n",
    "        if len(nums) == len(permutation):\n",
    "            permutations.append(permutation[:])\n",
    "            return\n",
    "        \n",
    "        ## 对于全排列而言，在for循环中需要访问它所有的元素，这和之前lintcode 17的子集不太一样，子集需要有一个index来记录访问到\n",
    "        ## 第几个元素，之前就不再访问了。而全排列则需要访问所有元素，所以需要一个visited来记录那些已经访问过的元素\n",
    "        ## 例如对于[1,2,3]而言，刚开始时把1加入排列中，同时标记1已经访问过，然后递归执行dfs，进入dfs时，for循环同样是访问所有元素，\n",
    "        ## 所以需要判断num是否在visited中，否则又会把1加入排列中\n",
    "        for num in nums:\n",
    "            if num in visited:\n",
    "                continue\n",
    "            \n",
    "            visited.add(num)\n",
    "            permutation.append(num)\n",
    "            self.dfs(nums, visited, permutation, permutations)\n",
    "            \n",
    "            ## 回溯时，要把permutation和visited中都回溯\n",
    "            permutation.pop()\n",
    "            visited.remove(num)\n",
    "        "
   ]
  },
  {
   "cell_type": "code",
   "execution_count": 4,
   "metadata": {},
   "outputs": [
    {
     "name": "stdout",
     "output_type": "stream",
     "text": [
      "[[1, 2, 3], [1, 3, 2], [2, 1, 3], [2, 3, 1], [3, 1, 2], [3, 2, 1]]\n"
     ]
    }
   ],
   "source": [
    "solution = Solution()\n",
    "nums = [1,2,3]\n",
    "#nums = [0]\n",
    "print(solution.permute(nums))"
   ]
  },
  {
   "cell_type": "code",
   "execution_count": null,
   "metadata": {},
   "outputs": [],
   "source": []
  }
 ],
 "metadata": {
  "kernelspec": {
   "display_name": "Python 3",
   "language": "python",
   "name": "python3"
  },
  "language_info": {
   "codemirror_mode": {
    "name": "ipython",
    "version": 3
   },
   "file_extension": ".py",
   "mimetype": "text/x-python",
   "name": "python",
   "nbconvert_exporter": "python",
   "pygments_lexer": "ipython3",
   "version": "3.7.1"
  }
 },
 "nbformat": 4,
 "nbformat_minor": 2
}
