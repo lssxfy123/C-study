{
 "cells": [
  {
   "cell_type": "code",
   "execution_count": 1,
   "metadata": {},
   "outputs": [],
   "source": [
    "# Copyright(C) 2021 刘珅珅\n",
    "# Environment: python 3.7\n",
    "# Date: 2021.6.22\n",
    "# Android解锁模式：lintcode 909"
   ]
  },
  {
   "cell_type": "code",
   "execution_count": 1,
   "metadata": {},
   "outputs": [],
   "source": [
    "class Solution:\n",
    "    \"\"\"\n",
    "    @param m: an integer\n",
    "    @param n: an integer\n",
    "    @return: the total number of unlock patterns of the Android lock screen\n",
    "    \"\"\"\n",
    "    def numberOfPatterns(self, m, n):\n",
    "        # Write your code here\n",
    "        ## 建立一个jumps数组，jumps[x][y]判断两个数字x,y之间是否有中间键，为0表示没有，否则中间键就是jumps[x][y]\n",
    "        jumps = [[0 for j in range(10)] for i in range(10)]\n",
    "        jumps[1][3] = jumps[3][1] = 2  ## 1->3和3->1的中间键是2\n",
    "        jumps[4][6] = jumps[6][4] = 5\n",
    "        jumps[7][9] = jumps[9][7] = 8\n",
    "        jumps[1][7] = jumps[7][1] = 4\n",
    "        jumps[2][8] = jumps[8][2] = 5\n",
    "        jumps[3][9] = jumps[9][3] = 6\n",
    "        jumps[1][9] = jumps[9][1] = jumps[3][7] = jumps[7][3] = 5\n",
    "        \n",
    "        visited = [False for i in range(10)]\n",
    "        ans = 0\n",
    "        for step in range(m, n + 1):\n",
    "            ## 1, 3, 7, 9是对称的\n",
    "            ans += self.dfs(1, step - 1, jumps, visited) * 4\n",
    "            ## 2, 4, 6, 8也是对称的\n",
    "            ans += self.dfs(2, step - 1, jumps, visited) * 4\n",
    "            ans += self.dfs(5, step - 1, jumps, visited)\n",
    "        return ans\n",
    "    \n",
    "    def dfs(self, num, step, jumps, visited):\n",
    "        if step < 0:\n",
    "            return 0\n",
    "        if step == 0:\n",
    "            return 1\n",
    "        visited[num] = True\n",
    "        ans = 0\n",
    "        for next_num in range(1, 10):\n",
    "            ## 如果next_num没有访问过，并且num->next_num之间没有中间键或num->next_num的中间键已经被访问过\n",
    "            if not visited[next_num] and (jumps[num][next_num] == 0 or visited[jumps[num][next_num]]):\n",
    "                ans += self.dfs(next_num, step - 1, jumps, visited)\n",
    "        \n",
    "        ## 回溯\n",
    "        visited[num] = False\n",
    "        return ans\n",
    "    \n",
    "        \n"
   ]
  },
  {
   "cell_type": "code",
   "execution_count": 2,
   "metadata": {},
   "outputs": [
    {
     "name": "stdout",
     "output_type": "stream",
     "text": [
      "9\n"
     ]
    }
   ],
   "source": [
    "solution = Solution()\n",
    "m = 1\n",
    "n = 1\n",
    "print(solution.numberOfPatterns(m, n))"
   ]
  },
  {
   "cell_type": "code",
   "execution_count": null,
   "metadata": {},
   "outputs": [],
   "source": []
  }
 ],
 "metadata": {
  "kernelspec": {
   "display_name": "Python 3",
   "language": "python",
   "name": "python3"
  },
  "language_info": {
   "codemirror_mode": {
    "name": "ipython",
    "version": 3
   },
   "file_extension": ".py",
   "mimetype": "text/x-python",
   "name": "python",
   "nbconvert_exporter": "python",
   "pygments_lexer": "ipython3",
   "version": "3.7.1"
  }
 },
 "nbformat": 4,
 "nbformat_minor": 2
}
