{
 "cells": [
  {
   "cell_type": "code",
   "execution_count": 1,
   "metadata": {},
   "outputs": [],
   "source": [
    "# Copyright(C) 2021 刘珅珅\n",
    "# Environment: python 3.7\n",
    "# Date: 2021.3.8\n",
    "# 电话号码的字母组合 II：在lintcode 425的基础上，要求所有组成的字符串都在一个字典中"
   ]
  },
  {
   "cell_type": "code",
   "execution_count": 16,
   "metadata": {},
   "outputs": [],
   "source": [
    "class Solution:\n",
    "    \"\"\"\n",
    "    @param digits: A digital string\n",
    "    @return: all posible letter combinations\n",
    "    \"\"\"\n",
    "    def letterCombinations(self, digits, wordSet):\n",
    "        # write your code here\n",
    "        if not digits:\n",
    "            return []\n",
    "        graph = self.build_graph()\n",
    "        prefix_is_word = self.get_prefix_words(wordSet)\n",
    "        print(prefix_is_word)\n",
    "\n",
    "        results = []\n",
    "        self.dfs(digits, graph, prefix_is_word, 0, \"\", results)\n",
    "        return results\n",
    "    \n",
    "    def get_prefix_words(self, wordSet):\n",
    "        prefix_is_word = {}\n",
    "        prefix_is_word[\"\"] = False  ## 空字符串也设置在前缀树中，否则后续dfs搜索时，判断单词是否在前缀树中时，会无法进行\n",
    "        for word in wordSet:\n",
    "            for i in range(len(word)):\n",
    "                prefix = word[:i + 1]\n",
    "                if prefix not in prefix_is_word:\n",
    "                    prefix_is_word[prefix] = False\n",
    "            prefix_is_word[word] = True\n",
    "        return prefix_is_word\n",
    "    \n",
    "    def dfs(self, digits, graph, prefix_is_word, index, word, results):\n",
    "        if word not in prefix_is_word:\n",
    "            return\n",
    "        if len(word) == len(digits):\n",
    "            results.append(word)\n",
    "            return\n",
    "        \n",
    "        for letter in graph[digits[index]]:\n",
    "            self.dfs(digits, graph, prefix_is_word, index + 1, word + letter, results)\n",
    "    \n",
    "    def build_graph(self):\n",
    "        graph = {}\n",
    "        graph[\"2\"] = \"abc\"\n",
    "        graph[\"3\"] = \"def\"\n",
    "        graph[\"4\"] = \"ghi\"\n",
    "        graph[\"5\"] = \"jkl\"\n",
    "        graph[\"6\"] = \"mno\"\n",
    "        graph[\"7\"] = \"pqrs\"\n",
    "        graph[\"8\"] = \"tuv\"\n",
    "        graph[\"9\"] = \"wxyz\"\n",
    "        return graph\n",
    "\n",
    "        \n",
    "    \n"
   ]
  },
  {
   "cell_type": "code",
   "execution_count": 17,
   "metadata": {},
   "outputs": [
    {
     "name": "stdout",
     "output_type": "stream",
     "text": [
      "{'': False, 'a': False, 'af': True, 'b': False, 'bd': True}\n",
      "['af', 'bd']\n"
     ]
    }
   ],
   "source": [
    "digits = \"23\"\n",
    "solution = Solution()\n",
    "print(solution.letterCombinations(digits, [\"af\", \"bd\"]))"
   ]
  }
 ],
 "metadata": {
  "kernelspec": {
   "display_name": "Python 3",
   "language": "python",
   "name": "python3"
  },
  "language_info": {
   "codemirror_mode": {
    "name": "ipython",
    "version": 3
   },
   "file_extension": ".py",
   "mimetype": "text/x-python",
   "name": "python",
   "nbconvert_exporter": "python",
   "pygments_lexer": "ipython3",
   "version": "3.7.1"
  }
 },
 "nbformat": 4,
 "nbformat_minor": 2
}
