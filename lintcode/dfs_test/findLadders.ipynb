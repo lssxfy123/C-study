{
 "cells": [
  {
   "cell_type": "code",
   "execution_count": 1,
   "metadata": {},
   "outputs": [],
   "source": [
    "# Copyright(C) 2021 刘珅珅\n",
    "# Environment: python 3.7\n",
    "# Date: 2021.3.12\n",
    "# 单词接龙 II：lintcode 121\n",
    "import collections"
   ]
  },
  {
   "cell_type": "code",
   "execution_count": 10,
   "metadata": {},
   "outputs": [],
   "source": [
    "class Solution:\n",
    "    \"\"\"\n",
    "    @param: start: a string\n",
    "    @param: end: a string\n",
    "    @param: dict: a set of string\n",
    "    @return: a list of lists of string\n",
    "    \"\"\"\n",
    "    def findLadders(self, start, end, dict):\n",
    "        # write your code here\n",
    "        ## 先把start和end都添加到dict中，以便于计算所有单词的距离\n",
    "        dict.add(start)\n",
    "        dict.add(end)\n",
    "        results = []\n",
    "        distance = {}\n",
    "        path = [start]  ## 所有的路径都是以start开始，初始时加入，在dfs中弹出栈顶元素时，start也不会被弹出\n",
    "        \n",
    "        self.bfs(end, distance, dict)\n",
    "        self.dfs(start, end, dict, distance, path, results)\n",
    "        return results\n",
    "    \n",
    "    ## results中的最短路径肯定没有完全相同的，因为每个单词它的\n",
    "    ## 下一个可能的单词列表中，肯定没有相同的单词，这是因为所有可能下一个单词\n",
    "    ## 都在dict中，dict是一个set，没有相同的单词\n",
    "    def dfs(self, current, end, dict, distance, path, results):\n",
    "        if current == end:\n",
    "            results.append(path[:])\n",
    "            return\n",
    "        \n",
    "        for next_word in self.get_next_words(current, dict):\n",
    "            ## 如果next_word的距离不是当前单词距离减1，则说明其肯定不是当前单词current所在的最短路径中的点\n",
    "            if distance[next_word] != distance[current] - 1:\n",
    "                continue\n",
    "            path.append(next_word)\n",
    "            self.dfs(next_word, end, dict, distance, path, results)\n",
    "            path.pop()\n",
    "    \n",
    "    ## 计算所有可能转换的并且在字典中的单词到end的最短距离，end本身的距离为0\n",
    "    ## distance中的key不一定包含所有dict中的单词，因为可能有单词永远也不会被转换到\n",
    "    ## 从end开始，找到它所有可能的下一个单词，然后判断是否已经在distance中\n",
    "    ## 如果不在其距离就是当前单词的距离加1，如果在就不入队，这样求的是每个单词的最短距离\n",
    "    ## 从下面的while循环可以看出，即使next_word中有start，也不会退出循环，这样就会把所有\n",
    "    ## 可能转换到的在字典中的单词都计算距离\n",
    "    def bfs(self, end, distance, dict):\n",
    "        distance[end] = 0\n",
    "        queue = collections.deque([end])\n",
    "        while queue:\n",
    "            word = queue.popleft()\n",
    "            for next_word in self.get_next_words(word, dict):\n",
    "                if next_word not in distance:\n",
    "                    distance[next_word] = distance[word] + 1\n",
    "                    queue.append(next_word)\n",
    "                \n",
    "    \n",
    "    def get_next_words(self, word, dict):\n",
    "        words = []\n",
    "        for i in range(len(word)):\n",
    "            for char in 'abcdefghijklmnopqrstuvwxyz':\n",
    "                if char == word[i]:\n",
    "                    continue\n",
    "                next_word = word[:i] + char + word[i + 1:]\n",
    "                if next_word in dict:\n",
    "                    words.append(next_word)\n",
    "        return words\n",
    "        \n",
    "\n",
    "        \n",
    "    \n"
   ]
  },
  {
   "cell_type": "code",
   "execution_count": 11,
   "metadata": {},
   "outputs": [
    {
     "name": "stdout",
     "output_type": "stream",
     "text": [
      "[['a', 'c']]\n"
     ]
    }
   ],
   "source": [
    "start =\"hit\"\n",
    "end = \"cog\"\n",
    "dict =[\"hot\",\"dot\",\"dog\",\"lot\",\"log\"]\n",
    "\n",
    "start = \"a\"\n",
    "end = \"c\"\n",
    "dict =[\"a\",\"b\",\"c\"]\n",
    "\n",
    "solution = Solution()\n",
    "print(solution.findLadders(start, end, set(dict)))"
   ]
  },
  {
   "cell_type": "code",
   "execution_count": 1,
   "metadata": {},
   "outputs": [
    {
     "data": {
      "text/plain": [
       "[False, False, False]"
      ]
     },
     "execution_count": 1,
     "metadata": {},
     "output_type": "execute_result"
    }
   ],
   "source": [
    "[False] * 3"
   ]
  },
  {
   "cell_type": "code",
   "execution_count": null,
   "metadata": {},
   "outputs": [],
   "source": []
  }
 ],
 "metadata": {
  "kernelspec": {
   "display_name": "Python 3",
   "language": "python",
   "name": "python3"
  },
  "language_info": {
   "codemirror_mode": {
    "name": "ipython",
    "version": 3
   },
   "file_extension": ".py",
   "mimetype": "text/x-python",
   "name": "python",
   "nbconvert_exporter": "python",
   "pygments_lexer": "ipython3",
   "version": "3.7.1"
  }
 },
 "nbformat": 4,
 "nbformat_minor": 2
}
