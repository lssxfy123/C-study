{
 "cells": [
  {
   "cell_type": "code",
   "execution_count": 1,
   "metadata": {},
   "outputs": [],
   "source": [
    "# Copyright(C) 2021 刘珅珅\n",
    "# Environment: python 3.7\n",
    "# Date: 2021.4.7\n",
    "# 组合：lintcode 152"
   ]
  },
  {
   "cell_type": "code",
   "execution_count": 1,
   "metadata": {},
   "outputs": [],
   "source": [
    "class Solution:\n",
    "    \"\"\"\n",
    "    @param n: Given the range of numbers\n",
    "    @param k: Given the numbers of combinations\n",
    "    @return: All the combinations of k numbers out of 1..n\n",
    "    \"\"\"\n",
    "    def combine(self, n, k):\n",
    "        # write your code here\n",
    "        if k <= 0 or n <= 0 or k > n:\n",
    "            return []\n",
    "        results = []\n",
    "        self.dfs(n, k, 1, [], results)\n",
    "        return results\n",
    "    \n",
    "    \"\"\"\n",
    "    递归的定义：循环求解第index元素开头的组合\n",
    "    \"\"\"\n",
    "    def dfs(self, n, k, index, combination, results):\n",
    "        ## 递归的出口\n",
    "        if len(combination) == k:\n",
    "            results.append(combination[:])\n",
    "            return\n",
    "        if index == n + 1:\n",
    "            return\n",
    "        \n",
    "        for i in range(index, n + 1):\n",
    "            combination.append(i)\n",
    "            self.dfs(n, k, i + 1, combination, results)\n",
    "            combination.pop()\n",
    "        \n",
    "\n"
   ]
  },
  {
   "cell_type": "code",
   "execution_count": 3,
   "metadata": {},
   "outputs": [
    {
     "name": "stdout",
     "output_type": "stream",
     "text": [
      "[[1], [2], [3], [4]]\n"
     ]
    }
   ],
   "source": [
    "n = 4\n",
    "k = 2\n",
    "k = 1\n",
    "solution = Solution()\n",
    "print(solution.combine(n, k))"
   ]
  },
  {
   "cell_type": "code",
   "execution_count": null,
   "metadata": {},
   "outputs": [],
   "source": []
  }
 ],
 "metadata": {
  "kernelspec": {
   "display_name": "Python 3",
   "language": "python",
   "name": "python3"
  },
  "language_info": {
   "codemirror_mode": {
    "name": "ipython",
    "version": 3
   },
   "file_extension": ".py",
   "mimetype": "text/x-python",
   "name": "python",
   "nbconvert_exporter": "python",
   "pygments_lexer": "ipython3",
   "version": "3.7.1"
  }
 },
 "nbformat": 4,
 "nbformat_minor": 2
}
