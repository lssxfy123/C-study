{
 "cells": [
  {
   "cell_type": "code",
   "execution_count": 1,
   "metadata": {},
   "outputs": [],
   "source": [
    "# Copyright(C) 2021 刘珅珅\n",
    "# Environment: python 3.7\n",
    "# Date: 2021.4.7\n",
    "# 删除无效的括号：lintcode 780"
   ]
  },
  {
   "cell_type": "markdown",
   "metadata": {},
   "source": [
    "# 宽度优先搜索，时间复杂度为O(n^2)，n为字符串的长度，最坏情况下所有字符都为左括号或右括号"
   ]
  },
  {
   "cell_type": "code",
   "execution_count": 4,
   "metadata": {},
   "outputs": [],
   "source": [
    "import collections\n",
    "\n",
    "class Solution:\n",
    "    \"\"\"\n",
    "    @param s: The input string\n",
    "    @return: Return all possible results\n",
    "    \"\"\"\n",
    "    def removeInvalidParentheses(self, s):\n",
    "        # Write your code here\n",
    "        if s is None:\n",
    "            return []\n",
    "        \n",
    "        queue = collections.deque([s])\n",
    "        visited = set([s])\n",
    "        results = []\n",
    "        found = False\n",
    "        \"\"\"\n",
    "        原始字符串入队，把它删除一个左括号或右括号的字符串作为下一步的结果入队，如果字符串合法，则表明不再需要删除括号了，就判断队列\n",
    "        中剩下的字符串有哪些合法插入结果集中\n",
    "        \"\"\"\n",
    "        while queue:\n",
    "            s = queue.popleft()\n",
    "            if self.is_valid(s):\n",
    "                results.append(s)\n",
    "                found = True\n",
    "            elif not found:\n",
    "                for i in range(len(s)):\n",
    "                    if s[i] != \"(\" and s[i] != \")\":\n",
    "                        continue\n",
    "                    new_s = s[:i] + s[i + 1:]\n",
    "                    if new_s in visited:\n",
    "                        continue\n",
    "                    visited.add(new_s)\n",
    "                    queue.append(new_s)\n",
    "            \n",
    "\n",
    "        return results\n",
    "    \n",
    "    def is_valid(self, s):\n",
    "        stack = []\n",
    "        n = len(s)\n",
    "        for i in range(n):\n",
    "            if s[i] == \"(\":\n",
    "                stack.append(s[i])\n",
    "                continue\n",
    "            if s[i] == \")\":\n",
    "                if len(stack) > 0:\n",
    "                    stack.pop()\n",
    "                else:\n",
    "                    return False\n",
    "        return len(stack) == 0\n",
    "            \n",
    "            \n"
   ]
  },
  {
   "cell_type": "code",
   "execution_count": 7,
   "metadata": {},
   "outputs": [
    {
     "name": "stdout",
     "output_type": "stream",
     "text": [
      "['(())()', '()()()']\n"
     ]
    }
   ],
   "source": [
    "s = \"()())()\"\n",
    "#s = \"(a)())()\"\n",
    "#s = \")(\"\n",
    "solution = Solution()\n",
    "print(solution.removeInvalidParentheses(s))"
   ]
  },
  {
   "cell_type": "code",
   "execution_count": null,
   "metadata": {},
   "outputs": [],
   "source": []
  }
 ],
 "metadata": {
  "kernelspec": {
   "display_name": "Python 3",
   "language": "python",
   "name": "python3"
  },
  "language_info": {
   "codemirror_mode": {
    "name": "ipython",
    "version": 3
   },
   "file_extension": ".py",
   "mimetype": "text/x-python",
   "name": "python",
   "nbconvert_exporter": "python",
   "pygments_lexer": "ipython3",
   "version": "3.7.1"
  }
 },
 "nbformat": 4,
 "nbformat_minor": 2
}
