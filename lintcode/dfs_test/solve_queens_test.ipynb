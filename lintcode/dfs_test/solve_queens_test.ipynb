{
 "cells": [
  {
   "cell_type": "code",
   "execution_count": 1,
   "metadata": {},
   "outputs": [],
   "source": [
    "# Copyright(C) 2021 刘珅珅\n",
    "# Environment: python 3.7\n",
    "# Date: 2021.3.29\n",
    "# N皇后问题：lintcode 33"
   ]
  },
  {
   "cell_type": "code",
   "execution_count": 12,
   "metadata": {},
   "outputs": [],
   "source": [
    "class Solution:\n",
    "    \"\"\"\n",
    "    @param: n: The number of queens\n",
    "    @return: All distinct solutions\n",
    "    \"\"\"\n",
    "    ## 入口函数\n",
    "    def solveNQueens(self, n):\n",
    "        # write your code here\n",
    "        results = []\n",
    "        self.search(n, [], results)\n",
    "        return results\n",
    "    \n",
    "    ## 搜索函数\n",
    "    def search(self, n, columns, results):\n",
    "        row = len(columns)\n",
    "        \n",
    "        ## 递归的出口\n",
    "        if row == n:\n",
    "            results.append(self.draw_chessborad(columns))\n",
    "            return\n",
    "        \n",
    "        for column in range(n):\n",
    "            if not self.is_valid(columns, row, column):\n",
    "                continue\n",
    "                \n",
    "            columns.append(column)\n",
    "            self.search(n, columns, results)\n",
    "            columns.pop()\n",
    "    \n",
    "    ## 判断函数：选择第row的第column列是否合法\n",
    "    ## columns是已经使用的列,它的索引代表行号\n",
    "    ## row肯定和columns中的列的行号不同，因为在搜索\n",
    "    ## 中是按每行只放一个皇后\n",
    "    def is_valid(self, columns, row, column):\n",
    "        for r, c in enumerate(columns):\n",
    "            ## column列已经使用，肯定不合法\n",
    "            if c == column:\n",
    "                return False\n",
    "            \n",
    "            ## 主对角线\n",
    "            if r - c == row - column:\n",
    "                return False\n",
    "            \n",
    "            ## 副对角线\n",
    "            if r + c == row + column:\n",
    "                return False\n",
    "        \n",
    "        return True\n",
    "            \n",
    "            \n",
    "            \n",
    "        \n",
    "    \n",
    "    ## 打印函数\n",
    "    def draw_chessborad(self, columns):\n",
    "        board = []\n",
    "        n = len(columns)\n",
    "        for i in range(n):\n",
    "            row = ['Q' if j == columns[i] else '.' for j in range(n)]\n",
    "            board.append(''.join(row))\n",
    "        return board\n"
   ]
  },
  {
   "cell_type": "code",
   "execution_count": 3,
   "metadata": {},
   "outputs": [
    {
     "name": "stdout",
     "output_type": "stream",
     "text": [
      "0 2\n",
      "1 3\n",
      "2 5\n"
     ]
    }
   ],
   "source": [
    "cols = [2, 3, 5]\n",
    "for r, c in enumerate(cols):\n",
    "    print(r, c)"
   ]
  },
  {
   "cell_type": "code",
   "execution_count": null,
   "metadata": {},
   "outputs": [],
   "source": []
  }
 ],
 "metadata": {
  "kernelspec": {
   "display_name": "Python 3",
   "language": "python",
   "name": "python3"
  },
  "language_info": {
   "codemirror_mode": {
    "name": "ipython",
    "version": 3
   },
   "file_extension": ".py",
   "mimetype": "text/x-python",
   "name": "python",
   "nbconvert_exporter": "python",
   "pygments_lexer": "ipython3",
   "version": "3.7.1"
  }
 },
 "nbformat": 4,
 "nbformat_minor": 2
}
