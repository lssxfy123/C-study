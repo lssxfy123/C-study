{
 "cells": [
  {
   "cell_type": "code",
   "execution_count": 1,
   "metadata": {},
   "outputs": [],
   "source": [
    "# Copyright(C) 2021 刘珅珅\n",
    "# Environment: python 3.7\n",
    "# Date: 2021.3.7\n",
    "# 子集：lintcode 17"
   ]
  },
  {
   "cell_type": "code",
   "execution_count": 1,
   "metadata": {},
   "outputs": [],
   "source": [
    "class Solution:\n",
    "    \"\"\"\n",
    "    @param nums: A set of numbers\n",
    "    @return: A list of lists\n",
    "    \"\"\"\n",
    "    def subsets(self, nums):\n",
    "        # write your code here\n",
    "        results = []\n",
    "        ## 如果nums为[]，也是有1个子集的\n",
    "\n",
    "        ## 要求组合是升序\n",
    "        nums.sort()\n",
    "        self.dfs(nums, 0, [], results)\n",
    "        return results\n",
    "    \n",
    "    ## 递归的定义\n",
    "    def dfs(self, nums, index, combination, results):\n",
    "        ## 递归的出口\n",
    "        if index == len(nums):\n",
    "            ## 这里index等于len(nums)并不意味着combination中就有index个数，它只是做出了index次选择\n",
    "            ## 求子集就是对nums中的每个数都进行选择，所以这里是递归的出口\n",
    "            ## 插入结果集时要进行一次拷贝，避免后序程序会修改combination\n",
    "            results.append(combination[:])\n",
    "            return\n",
    "        \n",
    "        ## 递归的拆解\n",
    "        ## 选择第index个数\n",
    "        combination.append(nums[index])\n",
    "        self.dfs(nums, index + 1, combination, results)\n",
    "        \n",
    "        ## 不选择第index个数\n",
    "        combination.pop()\n",
    "        self.dfs(nums, index + 1, combination, results)\n",
    "        \n",
    "\n",
    "        \n",
    "            "
   ]
  },
  {
   "cell_type": "code",
   "execution_count": 4,
   "metadata": {},
   "outputs": [
    {
     "name": "stdout",
     "output_type": "stream",
     "text": [
      "[[1, 2, 3], [1, 2], [1, 3], [1], [2, 3], [2], [3], []]\n"
     ]
    }
   ],
   "source": [
    "solution = Solution()\n",
    "nums = [1,2,3]\n",
    "print(solution.subsets(nums))"
   ]
  },
  {
   "cell_type": "code",
   "execution_count": null,
   "metadata": {},
   "outputs": [],
   "source": []
  }
 ],
 "metadata": {
  "kernelspec": {
   "display_name": "Python 3",
   "language": "python",
   "name": "python3"
  },
  "language_info": {
   "codemirror_mode": {
    "name": "ipython",
    "version": 3
   },
   "file_extension": ".py",
   "mimetype": "text/x-python",
   "name": "python",
   "nbconvert_exporter": "python",
   "pygments_lexer": "ipython3",
   "version": "3.7.1"
  }
 },
 "nbformat": 4,
 "nbformat_minor": 2
}
