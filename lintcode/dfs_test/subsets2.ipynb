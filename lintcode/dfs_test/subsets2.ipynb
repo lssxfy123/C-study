{
 "cells": [
  {
   "cell_type": "code",
   "execution_count": 1,
   "metadata": {},
   "outputs": [],
   "source": [
    "# Copyright(C) 2021 刘珅珅\n",
    "# Environment: python 3.7\n",
    "# Date: 2021.3.7\n",
    "# 子集：lintcode 17"
   ]
  },
  {
   "cell_type": "code",
   "execution_count": 1,
   "metadata": {},
   "outputs": [],
   "source": [
    "## 非递归方式\n",
    "class Solution:\n",
    "    \"\"\"\n",
    "    @param nums: A set of numbers\n",
    "    @return: A list of lists\n",
    "    \"\"\"\n",
    "    def subsets(self, nums):\n",
    "        # write your code here\n",
    "        results = []\n",
    "        nums.sort()\n",
    "        ## 如果nums为[]，也是有1个子集的\n",
    "        \n",
    "        ## 子集的个数为2 ^ len(nums)\n",
    "        ## 每个子集看成一个二进制数\n",
    "        ##0 --- [] ---->000\n",
    "        ##1 ---- [1] --->001\n",
    "        ## 2 ---[2] --->010\n",
    "        ## 3 ---[1,2,3] --->111\n",
    "        n = len(nums)\n",
    "        \n",
    "        subset_number = (1 << n)\n",
    "        for i in range(subset_number):\n",
    "            combination = []\n",
    "            for j in range(n):\n",
    "                ## i可以看出是1个长度为n的二进制数，不足高位补0\n",
    "                ## 下面这个条件是在判断其第j位是否为1，如果是1就将nums[j]添加到子集中\n",
    "                if (i & (1 << j)):\n",
    "                    combination.append(nums[j])\n",
    "            results.append(combination)\n",
    "                \n",
    "        return results\n",
    "    "
   ]
  },
  {
   "cell_type": "code",
   "execution_count": 2,
   "metadata": {},
   "outputs": [
    {
     "name": "stdout",
     "output_type": "stream",
     "text": [
      "[[], [1], [2], [1, 2], [3], [1, 3], [2, 3], [1, 2, 3]]\n"
     ]
    }
   ],
   "source": [
    "solution = Solution()\n",
    "nums = [1,2,3]\n",
    "#nums = [0]\n",
    "print(solution.subsets(nums))"
   ]
  },
  {
   "cell_type": "code",
   "execution_count": null,
   "metadata": {},
   "outputs": [],
   "source": []
  }
 ],
 "metadata": {
  "kernelspec": {
   "display_name": "Python 3",
   "language": "python",
   "name": "python3"
  },
  "language_info": {
   "codemirror_mode": {
    "name": "ipython",
    "version": 3
   },
   "file_extension": ".py",
   "mimetype": "text/x-python",
   "name": "python",
   "nbconvert_exporter": "python",
   "pygments_lexer": "ipython3",
   "version": "3.7.1"
  }
 },
 "nbformat": 4,
 "nbformat_minor": 2
}
