{
 "cells": [
  {
   "cell_type": "code",
   "execution_count": 1,
   "metadata": {},
   "outputs": [],
   "source": [
    "# Copyright(C) 2021 刘珅珅\n",
    "# Environment: python 3.7\n",
    "# Date: 2021.3.8\n",
    "# 单词搜索 II：lintcode 132"
   ]
  },
  {
   "cell_type": "code",
   "execution_count": 14,
   "metadata": {},
   "outputs": [],
   "source": [
    "## 解题的思路是在矩阵中搜索一个单词，看是否在字典中\n",
    "## 问题的难点在于在搜索过程中，怎么判断走过路径上的字符\n",
    "## 组成的字符串是否可能是一个字典中的单词，这要判断字符串\n",
    "## 是否是一个单词的前缀\n",
    "class Solution:\n",
    "    def __init__(self):\n",
    "        self.DIRECTION = [(0, 1), (0, -1), (1, 0), (-1, 0)]\n",
    "    \"\"\"\n",
    "    @param board: A list of lists of character\n",
    "    @param words: A list of string\n",
    "    @return: A list of string\n",
    "    \"\"\"\n",
    "    def wordSearchII(self, board, words):\n",
    "        # write your code here\n",
    "        if not words or not board or not board[0]:\n",
    "            return []\n",
    "        result_set = set()  ## 不需要重复单词\n",
    "        visited = [[False] * len(board[0]) for _ in range(len(board))]\n",
    "        prefix_is_word = self.get_prefix_set(words)\n",
    "        print(prefix_is_word)\n",
    "        \n",
    "        ## 从矩阵中的每一个点开始，搜索整个矩阵来查找单词\n",
    "        for x in range(len(board)):\n",
    "            for y in range(len(board[x])):\n",
    "                visited[x][y] = True\n",
    "                self.dfs(board, prefix_is_word, x, y, visited, board[x][y], result_set)\n",
    "                visited[x][y] = False\n",
    "        \n",
    "        return list(result_set)\n",
    "        \n",
    "    \n",
    "    ## 将每个单词和其前缀放入一个dict中\n",
    "    ## 如果是单词就将值设为True，如果只是前缀就设置为False\n",
    "    ## 这用来判断搜索时，如果已搜索的字符串不在这个前缀树中\n",
    "    ## 则该路径肯定不行\n",
    "    def get_prefix_set(self, words):\n",
    "        prefix_is_word = {}\n",
    "        for word in words:\n",
    "            for i in range(len(word)):\n",
    "                prefix = word[:i + 1]  ## 单词的前缀\n",
    "                ## 单词的前缀如果也是单词，即使这里设置为False\n",
    "                ## 后序也会设置为True\n",
    "                if prefix not in prefix_is_word:\n",
    "                    prefix_is_word[prefix] = False\n",
    "            prefix_is_word[word] = True\n",
    "        return prefix_is_word\n",
    "    \n",
    "    def is_valid_move(self, board, x, y):\n",
    "        return (0 <= x < len(board) and 0 <= y < len(board[0]))\n",
    "    \n",
    "    def dfs(self, board, prefix_is_word, x, y, visited, word, result_set):\n",
    "        if word not in prefix_is_word:  ## 如果查找的字符串不在前缀树中\n",
    "            return\n",
    "        \n",
    "        ## 这里的word是一个字符串，不是列表，原因是方便判断\n",
    "        ## 如果使用列表，每次都需要将列表转换为字符串\n",
    "        if prefix_is_word[word]:\n",
    "            ## 添加进行结果集中后，不能return\n",
    "            ## 因为这个word后续还可以加上字符组成新的单词\n",
    "            result_set.add(word)\n",
    "\n",
    "        \n",
    "        for direction in self.DIRECTION:\n",
    "            new_x = x + direction[0]\n",
    "            new_y = y + direction[1]\n",
    "            \n",
    "            if not self.is_valid_move(board, new_x, new_y) or visited[new_x][new_y]:\n",
    "                continue\n",
    "            visited[new_x][new_y] = True\n",
    "            self.dfs(board, prefix_is_word, new_x, new_y, visited, word + board[new_x][new_y], result_set)\n",
    "            ## 不再需要对word进行手动回溯，它本身是一个字符串，操作系统会自动进行回溯\n",
    "            visited[new_x][new_y] = False\n",
    "                \n",
    "        \n",
    "        \n",
    "\n",
    "        \n",
    "    \n"
   ]
  },
  {
   "cell_type": "code",
   "execution_count": 15,
   "metadata": {},
   "outputs": [
    {
     "name": "stdout",
     "output_type": "stream",
     "text": [
      "{'s': False, 'se': True, 'see': True}\n",
      "['see', 'se']\n"
     ]
    }
   ],
   "source": [
    "board = [\"doaf\",\"agai\",\"wcan\"]\n",
    "words = [\"dog\",\"dad\",\"dgdg\",\"can\",\"again\"]\n",
    "\n",
    "board = [\"abce\",\"sfcs\",\"adee\"]\n",
    "words = [\"see\",\"se\"]\n",
    "\n",
    "solution = Solution()\n",
    "print(solution.wordSearchII(board, words))"
   ]
  },
  {
   "cell_type": "code",
   "execution_count": 1,
   "metadata": {},
   "outputs": [
    {
     "data": {
      "text/plain": [
       "[False, False, False]"
      ]
     },
     "execution_count": 1,
     "metadata": {},
     "output_type": "execute_result"
    }
   ],
   "source": [
    "[False] * 3"
   ]
  },
  {
   "cell_type": "code",
   "execution_count": null,
   "metadata": {},
   "outputs": [],
   "source": []
  }
 ],
 "metadata": {
  "kernelspec": {
   "display_name": "Python 3",
   "language": "python",
   "name": "python3"
  },
  "language_info": {
   "codemirror_mode": {
    "name": "ipython",
    "version": 3
   },
   "file_extension": ".py",
   "mimetype": "text/x-python",
   "name": "python",
   "nbconvert_exporter": "python",
   "pygments_lexer": "ipython3",
   "version": "3.7.1"
  }
 },
 "nbformat": 4,
 "nbformat_minor": 2
}
