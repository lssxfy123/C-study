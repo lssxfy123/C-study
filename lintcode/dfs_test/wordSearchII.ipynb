{
 "cells": [
  {
   "cell_type": "code",
   "execution_count": 1,
   "metadata": {},
   "outputs": [],
   "source": [
    "# Copyright(C) 2021 刘珅珅\n",
    "# Environment: python 3.7\n",
    "# Date: 2021.3.8\n",
    "# 单词搜索 II：lintcode 132"
   ]
  },
  {
   "cell_type": "code",
   "execution_count": 4,
   "metadata": {},
   "outputs": [],
   "source": [
    "## 解题的思路是在矩阵中搜索一个单词，看是否在字典中\n",
    "## 问题的难点在于在搜索过程中，怎么判断走过路径上的字符\n",
    "## 组成的字符串是否可能是一个字典中的单词，这要判断字符串\n",
    "## 是否是一个单词的前缀\n",
    "class Solution:\n",
    "    \"\"\"\n",
    "    @param board: A list of lists of character\n",
    "    @param words: A list of string\n",
    "    @return: A list of string\n",
    "    \"\"\"\n",
    "    def wordSearchII(self, board, words):\n",
    "        # write your code here\n",
    "        if not words or not board or not board[0]:\n",
    "            return []\n",
    "    \n",
    "    def dfs(self, board, words, combination):\n",
    "        \n",
    "\n",
    "        \n",
    "    \n"
   ]
  },
  {
   "cell_type": "code",
   "execution_count": 5,
   "metadata": {},
   "outputs": [
    {
     "name": "stdout",
     "output_type": "stream",
     "text": [
      "{0: 'doaf', 1: 'agai', 2: 'wcan'}\n"
     ]
    }
   ],
   "source": [
    "board = [\"doaf\",\"agai\",\"wcan\"]\n",
    "words = [\"dog\",\"dad\",\"dgdg\",\"can\",\"again\"]\n",
    "\n",
    "solution = Solution()\n",
    "print(solution.build_graph(board))"
   ]
  },
  {
   "cell_type": "code",
   "execution_count": 1,
   "metadata": {},
   "outputs": [
    {
     "data": {
      "text/plain": [
       "[False, False, False]"
      ]
     },
     "execution_count": 1,
     "metadata": {},
     "output_type": "execute_result"
    }
   ],
   "source": [
    "[False] * 3"
   ]
  },
  {
   "cell_type": "code",
   "execution_count": null,
   "metadata": {},
   "outputs": [],
   "source": []
  }
 ],
 "metadata": {
  "kernelspec": {
   "display_name": "Python 3",
   "language": "python",
   "name": "python3"
  },
  "language_info": {
   "codemirror_mode": {
    "name": "ipython",
    "version": 3
   },
   "file_extension": ".py",
   "mimetype": "text/x-python",
   "name": "python",
   "nbconvert_exporter": "python",
   "pygments_lexer": "ipython3",
   "version": "3.7.1"
  }
 },
 "nbformat": 4,
 "nbformat_minor": 2
}
