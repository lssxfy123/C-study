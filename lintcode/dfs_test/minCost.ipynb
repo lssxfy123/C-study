{
 "cells": [
  {
   "cell_type": "code",
   "execution_count": 1,
   "metadata": {},
   "outputs": [],
   "source": [
    "# Copyright(C) 2021 刘珅珅\n",
    "# Environment: python 3.7\n",
    "# Date: 2021.3.7\n",
    "# 旅行商问题：lintcode 816"
   ]
  },
  {
   "cell_type": "code",
   "execution_count": 2,
   "metadata": {},
   "outputs": [],
   "source": [
    "class Result:\n",
    "    def __init__(self):\n",
    "        self.min_cost = float('inf')"
   ]
  },
  {
   "cell_type": "code",
   "execution_count": 12,
   "metadata": {},
   "outputs": [],
   "source": [
    "\n",
    "\n",
    "## 暴力DFS\n",
    "class Solution:\n",
    "    \"\"\"\n",
    "    @param n: an integer,denote the number of cities\n",
    "    @param roads: a list of three-tuples,denote the road between cities\n",
    "    @return: return the minimum cost to travel all cities\n",
    "    \"\"\"\n",
    "    def minCost(self, n, roads):\n",
    "        # Write your code here\n",
    "        \n",
    "        ## 构建图，题目中的参数roads是一个序列，需要构建图，才好查找下一个城市\n",
    "        graph = self.build_graph(n, roads)\n",
    "        print(graph)\n",
    "        \n",
    "        ## DFS搜索，题目需要从城市1开始，初始的visited中也要添加1进去\n",
    "        result = Result()\n",
    "        self.dfs(1, n, set([1]), 0, graph, result)\n",
    "        return result.min_cost\n",
    "    \n",
    "    ## 一个城市只能通过1次，所以需要visited\n",
    "    def dfs(self, city, n, visited, cost, graph, result):\n",
    "        if len(visited) == n:  ## 已访问了n个城市\n",
    "            result.min_cost = min(result.min_cost, cost)\n",
    "            return\n",
    "        \n",
    "        ## 下一个城市\n",
    "        for next_city in graph[city]:\n",
    "            if next_city in visited:\n",
    "                continue\n",
    "            \n",
    "            ## 选择进入next_city\n",
    "            visited.add(next_city)\n",
    "            self.dfs(next_city, n, visited, cost + graph[city][next_city], graph, result)\n",
    "            visited.remove(next_city)\n",
    "        \n",
    "    \n",
    "    def build_graph(self, n, roads):\n",
    "        ## 互动视频中的建图方式有点问题，1的下一个城市也有1,2的下一个城市也有2，并且cost为'inf'，这样会导致某些输入样例会超时\n",
    "        ## 还是如下建图方式比较好\n",
    "        graph = {i: {} for i in range(1, n + 1)}\n",
    "        for a, b, c in roads:\n",
    "            if b not in graph[a]:\n",
    "                graph[a][b] = c\n",
    "            else:\n",
    "                graph[a][b] = min(graph[a][b], c)\n",
    "            if a not in graph[b]:\n",
    "                graph[b][a] = c\n",
    "            else:\n",
    "                graph[b][a] = min(graph[b][a], c)\n",
    "        return graph\n",
    "    \n",
    "        "
   ]
  },
  {
   "cell_type": "code",
   "execution_count": 13,
   "metadata": {},
   "outputs": [
    {
     "name": "stdout",
     "output_type": "stream",
     "text": [
      "{1: {2: 2, 3: 40, 4: 43, 5: 8, 6: 38, 7: 33, 8: 24, 9: 8, 10: 5}, 2: {1: 2, 3: 21, 4: 48, 5: 2, 6: 42, 7: 43, 8: 19, 9: 8, 10: 15}, 3: {1: 40, 2: 21, 4: 17, 5: 4, 6: 14, 7: 8, 8: 9, 9: 46, 10: 44}, 4: {1: 43, 2: 48, 3: 17, 5: 11, 6: 2, 7: 49, 8: 35, 9: 17, 10: 32}, 5: {1: 8, 2: 2, 3: 4, 4: 11, 6: 44, 7: 50, 8: 20, 9: 34, 10: 20}, 6: {1: 38, 2: 42, 3: 14, 4: 2, 5: 44, 7: 14, 8: 23, 9: 26, 10: 35}, 7: {1: 33, 2: 43, 3: 8, 4: 49, 5: 50, 6: 14, 8: 14, 9: 2, 10: 9}, 8: {1: 24, 2: 19, 3: 9, 4: 35, 5: 20, 6: 23, 7: 14, 9: 24, 10: 6}, 9: {1: 8, 2: 8, 3: 46, 4: 17, 5: 34, 6: 26, 7: 2, 8: 24, 10: 25}, 10: {1: 5, 2: 15, 3: 44, 4: 32, 5: 20, 6: 35, 7: 9, 8: 6, 9: 25}}\n",
      "52\n"
     ]
    }
   ],
   "source": [
    "solution = Solution()\n",
    "n = 3\n",
    "nums = [[1,2,1],[2,3,2],[1,3,3]]\n",
    "n = 10\n",
    "nums = [[1,2,2],[1,3,40],[1,4,43],[1,5,8],[1,6,38],[1,7,33],[1,8,24],[1,9,8],[1,10,5],[2,3,21],[2,4,48],[2,5,2],[2,6,42],[2,7,43],[2,8,19],[2,9,8],[2,10,15],[3,4,17],[3,5,4],[3,6,14],[3,7,8],[3,8,9],[3,9,46],[3,10,44],[4,5,11],[4,6,2],[4,7,49],[4,8,35],[4,9,17],[4,10,32],[5,6,44],[5,7,50],[5,8,20],[5,9,34],[5,10,20],[6,7,14],[6,8,23],[6,9,26],[6,10,35],[7,8,14],[7,9,2],[7,10,9],[8,9,24],[8,10,6],[9,10,25]]\n",
    "print(solution.minCost(n, nums))"
   ]
  },
  {
   "cell_type": "code",
   "execution_count": 14,
   "metadata": {},
   "outputs": [
    {
     "name": "stdout",
     "output_type": "stream",
     "text": [
      "{1: {1: inf, 2: 2, 3: 40, 4: 43, 5: 8, 6: 38, 7: 33, 8: 24, 9: 8, 10: 5}, 2: {1: 2, 2: inf, 3: 21, 4: 48, 5: 2, 6: 42, 7: 43, 8: 19, 9: 8, 10: 15}, 3: {1: 40, 2: 21, 3: inf, 4: 17, 5: 4, 6: 14, 7: 8, 8: 9, 9: 46, 10: 44}, 4: {1: 43, 2: 48, 3: 17, 4: inf, 5: 11, 6: 2, 7: 49, 8: 35, 9: 17, 10: 32}, 5: {1: 8, 2: 2, 3: 4, 4: 11, 5: inf, 6: 44, 7: 50, 8: 20, 9: 34, 10: 20}, 6: {1: 38, 2: 42, 3: 14, 4: 2, 5: 44, 6: inf, 7: 14, 8: 23, 9: 26, 10: 35}, 7: {1: 33, 2: 43, 3: 8, 4: 49, 5: 50, 6: 14, 7: inf, 8: 14, 9: 2, 10: 9}, 8: {1: 24, 2: 19, 3: 9, 4: 35, 5: 20, 6: 23, 7: 14, 8: inf, 9: 24, 10: 6}, 9: {1: 8, 2: 8, 3: 46, 4: 17, 5: 34, 6: 26, 7: 2, 8: 24, 9: inf, 10: 25}, 10: {1: 5, 2: 15, 3: 44, 4: 32, 5: 20, 6: 35, 7: 9, 8: 6, 9: 25, 10: inf}}\n"
     ]
    }
   ],
   "source": [
    "print(solution.build_graph1(n, nums))"
   ]
  },
  {
   "cell_type": "code",
   "execution_count": 1,
   "metadata": {},
   "outputs": [
    {
     "data": {
      "text/plain": [
       "{1: {1: inf, 2: inf, 3: inf, 4: inf, 5: inf},\n",
       " 2: {1: inf, 2: inf, 3: inf, 4: inf, 5: inf},\n",
       " 3: {1: inf, 2: inf, 3: inf, 4: inf, 5: inf},\n",
       " 4: {1: inf, 2: inf, 3: inf, 4: inf, 5: inf},\n",
       " 5: {1: inf, 2: inf, 3: inf, 4: inf, 5: inf}}"
      ]
     },
     "execution_count": 1,
     "metadata": {},
     "output_type": "execute_result"
    }
   ],
   "source": [
    "n = 5\n",
    "{i:{j : float('inf') for j in range(1, n + 1)} for i in range(1, n + 1)}"
   ]
  },
  {
   "cell_type": "code",
   "execution_count": null,
   "metadata": {},
   "outputs": [],
   "source": []
  }
 ],
 "metadata": {
  "kernelspec": {
   "display_name": "Python 3",
   "language": "python",
   "name": "python3"
  },
  "language_info": {
   "codemirror_mode": {
    "name": "ipython",
    "version": 3
   },
   "file_extension": ".py",
   "mimetype": "text/x-python",
   "name": "python",
   "nbconvert_exporter": "python",
   "pygments_lexer": "ipython3",
   "version": "3.7.1"
  }
 },
 "nbformat": 4,
 "nbformat_minor": 2
}
