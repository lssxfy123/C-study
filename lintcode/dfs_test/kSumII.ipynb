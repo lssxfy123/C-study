{
 "cells": [
  {
   "cell_type": "code",
   "execution_count": 1,
   "metadata": {},
   "outputs": [],
   "source": [
    "# Copyright(C) 2021 刘珅珅\n",
    "# Environment: python 3.7\n",
    "# Date: 2021.3.8\n",
    "# k数和 II：lintcode 90"
   ]
  },
  {
   "cell_type": "code",
   "execution_count": 5,
   "metadata": {},
   "outputs": [],
   "source": [
    "class Solution:\n",
    "    \"\"\"\n",
    "    @param A: an integer array\n",
    "    @param k: a postive integer <= length(A)\n",
    "    @param targer: an integer\n",
    "    @return: A list of lists of integer\n",
    "    \"\"\"\n",
    "    def kSumII(self, A, k, target):\n",
    "        # write your code here\n",
    "        A.sort()\n",
    "        results = []\n",
    "        self.dfs(A, 0, k, target, [], results)\n",
    "        return results\n",
    "    \n",
    "    def dfs(self, A, start_index, k, target, combination, results):\n",
    "        if len(combination) == k and target == 0:\n",
    "            results.append(combination[:])\n",
    "            return\n",
    "        if len(combination) == k or target < 0:\n",
    "            return\n",
    "        \n",
    "        for i in range(start_index, len(A)):\n",
    "            combination.append(A[i])\n",
    "            self.dfs(A, i + 1, k, target - A[i], combination, results)\n",
    "            combination.pop()\n",
    "        \n",
    "        \n",
    "    \n"
   ]
  },
  {
   "cell_type": "code",
   "execution_count": 7,
   "metadata": {},
   "outputs": [
    {
     "name": "stdout",
     "output_type": "stream",
     "text": [
      "[[1, 3, 4]]\n"
     ]
    }
   ],
   "source": [
    "A = [1,2,3,4]\n",
    "k = 2\n",
    "target = 5\n",
    "A = [1,3,4,6]\n",
    "k = 3\n",
    "target = 8\n",
    "solution = Solution()\n",
    "print(solution.kSumII(A, k, target))"
   ]
  },
  {
   "cell_type": "code",
   "execution_count": 1,
   "metadata": {},
   "outputs": [
    {
     "data": {
      "text/plain": [
       "[False, False, False]"
      ]
     },
     "execution_count": 1,
     "metadata": {},
     "output_type": "execute_result"
    }
   ],
   "source": [
    "[False] * 3"
   ]
  },
  {
   "cell_type": "code",
   "execution_count": null,
   "metadata": {},
   "outputs": [],
   "source": []
  }
 ],
 "metadata": {
  "kernelspec": {
   "display_name": "Python 3",
   "language": "python",
   "name": "python3"
  },
  "language_info": {
   "codemirror_mode": {
    "name": "ipython",
    "version": 3
   },
   "file_extension": ".py",
   "mimetype": "text/x-python",
   "name": "python",
   "nbconvert_exporter": "python",
   "pygments_lexer": "ipython3",
   "version": "3.7.1"
  }
 },
 "nbformat": 4,
 "nbformat_minor": 2
}
