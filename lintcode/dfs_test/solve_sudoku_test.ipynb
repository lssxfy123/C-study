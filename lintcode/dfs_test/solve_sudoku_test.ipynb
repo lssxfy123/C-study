{
 "cells": [
  {
   "cell_type": "code",
   "execution_count": 1,
   "metadata": {},
   "outputs": [],
   "source": [
    "# Copyright(C) 2021 刘珅珅\n",
    "# Environment: python 3.7\n",
    "# Date: 2021.3.31\n",
    "# 数独：lintcode 802"
   ]
  },
  {
   "cell_type": "markdown",
   "metadata": {},
   "source": [
    "# 时间复杂度为O(1)"
   ]
  },
  {
   "cell_type": "code",
   "execution_count": 1,
   "metadata": {},
   "outputs": [],
   "source": [
    "\"\"\"\n",
    "数独总共9行9列，要求每行每列都放置1-9个数，不能重复，数独中有9个九宫格，要求每个九宫格中的数字也是1-9，不能重复\n",
    "\"\"\"\n",
    "class Solution:\n",
    "    \"\"\"\n",
    "    @param board: the sudoku puzzle\n",
    "    @return: nothing\n",
    "    \"\"\"\n",
    "    def solveSudoku(self, board):\n",
    "        # write your code here\n",
    "        used = self.initial_used(board)\n",
    "        self.dfs(board, 0, used)\n",
    "    \n",
    "    ## 判断row行column列是否可用填充val\n",
    "    def is_valid(self, row, column, val, used):\n",
    "        if val in used['row'][row]:\n",
    "            return False\n",
    "        if val in used['column'][column]:\n",
    "            return False\n",
    "        if val in used['box'][row // 3 * 3 + column // 3]:\n",
    "            return False\n",
    "        return True\n",
    "    \n",
    "    ## 递归的定义，填入第index个元素，index的范围为：0-80\n",
    "    def dfs(self, board, index, used):\n",
    "        if index == 81:\n",
    "            return True\n",
    "        \n",
    "        ## index对应的行号i和列号j\n",
    "        ## index = i * 9 + j\n",
    "        i, j = index % 9, index // 9\n",
    "        \n",
    "        ## board[i][j]不为0，表示index已经添加上，直接查找下一个位置\n",
    "        if board[i][j]:\n",
    "            return self.dfs(board, index + 1, used)\n",
    "        \n",
    "        ## 填充的元素为1-9，判断是否合法\n",
    "        for val in range(1, 10):\n",
    "            if not self.is_valid(i, j, val, used):\n",
    "                continue\n",
    "            \n",
    "            used['row'][i].add(val)\n",
    "            used['column'][j].add(val)\n",
    "            used['box'][i // 3 * 3 + j // 3].add(val)\n",
    "            \n",
    "            board[i][j] = val\n",
    "            \n",
    "            ## 如果index+1及以后的位置都能成功填入数据，则表示board[i][j]=val也是合法的\n",
    "            ## 可用直接返回不用再继续搜索了\n",
    "            if self.dfs(board, index + 1, used):\n",
    "                return True\n",
    "            \n",
    "            ## 回溯\n",
    "            board[i][j] = 0\n",
    "            \n",
    "            used['row'][i].remove(val)\n",
    "            used['column'][j].remove(val)\n",
    "            used['box'][i // 3 * 3 + j // 3].remove(val)\n",
    "        \n",
    "        return False\n",
    "    \n",
    "    \"\"\"\n",
    "    创建一个哈希表，分别存储每一行，每一列，每个九宫格中已经使用了1-9中的哪些数字\n",
    "    key = row存储的是一个列表，其中有9个set，列表索引表示行号，对应set中存储这一行已经使用的数字\n",
    "    key=column和key=box与之类似\n",
    "    \"\"\"\n",
    "    def initial_used(self, board):\n",
    "        used = {\n",
    "            'row' : [set() for _ in range(9)],\n",
    "            'column' : [set() for _ in range(9)],\n",
    "            'box' : [set() for _ in range(9)]\n",
    "        }\n",
    "        \n",
    "        for i in range(9):\n",
    "            for j in range(9):\n",
    "                ## board[i][j] == 0，可以放任何数字\n",
    "                if not board[i][j]:\n",
    "                    continue\n",
    "                used['row'][i].add(board[i][j])\n",
    "                used['column'][j].add(board[i][j])\n",
    "                ## 第i行第j列所在的九宫格索引为：i // 3 * 3 + j // 3\n",
    "                used['box'][i // 3 * 3 + j // 3].add(board[i][j])\n",
    "        return used"
   ]
  },
  {
   "cell_type": "code",
   "execution_count": 3,
   "metadata": {},
   "outputs": [
    {
     "name": "stdout",
     "output_type": "stream",
     "text": [
      "None\n",
      "[[5, 1, 9, 7, 4, 8, 6, 3, 2], [7, 8, 3, 6, 5, 2, 4, 1, 9], [4, 2, 6, 1, 3, 9, 8, 7, 5], [3, 5, 7, 9, 8, 6, 2, 4, 1], [2, 6, 4, 3, 1, 7, 5, 9, 8], [1, 9, 8, 5, 2, 4, 3, 6, 7], [9, 7, 5, 8, 6, 3, 1, 2, 4], [8, 3, 2, 4, 9, 1, 7, 5, 6], [6, 4, 1, 2, 7, 5, 9, 8, 3]]\n"
     ]
    }
   ],
   "source": [
    "board = [[0,0,9,7,4,8,0,0,0],[7,0,0,0,0,0,0,0,0],[0,2,0,1,0,9,0,0,0],[0,0,7,0,0,0,2,4,0],[0,6,4,0,1,0,5,9,0],[0,9,8,0,0,0,3,0,0],[0,0,0,8,0,3,0,2,0],[0,0,0,0,0,0,0,0,6],[0,0,0,2,7,5,9,0,0]]\n",
    "solution = Solution()\n",
    "print(solution.solveSudoku(board))\n",
    "print(board)"
   ]
  },
  {
   "cell_type": "code",
   "execution_count": null,
   "metadata": {},
   "outputs": [],
   "source": []
  }
 ],
 "metadata": {
  "kernelspec": {
   "display_name": "Python 3",
   "language": "python",
   "name": "python3"
  },
  "language_info": {
   "codemirror_mode": {
    "name": "ipython",
    "version": 3
   },
   "file_extension": ".py",
   "mimetype": "text/x-python",
   "name": "python",
   "nbconvert_exporter": "python",
   "pygments_lexer": "ipython3",
   "version": "3.7.1"
  }
 },
 "nbformat": 4,
 "nbformat_minor": 2
}
