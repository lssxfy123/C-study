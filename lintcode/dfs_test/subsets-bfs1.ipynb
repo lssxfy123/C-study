{
 "cells": [
  {
   "cell_type": "code",
   "execution_count": 1,
   "metadata": {},
   "outputs": [],
   "source": [
    "# Copyright(C) 2021 刘珅珅\n",
    "# Environment: python 3.7\n",
    "# Date: 2021.3.9\n",
    "# 子集：lintcode 17"
   ]
  },
  {
   "cell_type": "code",
   "execution_count": 1,
   "metadata": {},
   "outputs": [],
   "source": [
    "## bfs实现子集：第二种搜索树的实现\n",
    "import collections\n",
    "\n",
    "class Solution:\n",
    "    \"\"\"\n",
    "    @param nums: A set of numbers\n",
    "    @return: A list of lists\n",
    "    \"\"\"\n",
    "    def subsets(self, nums):\n",
    "        # write your code here\n",
    "        ## 如果nums为[]，也是有1个子集的\n",
    "        if not nums:\n",
    "            return [[]]\n",
    "        \n",
    "\n",
    "        ## 要求组合是升序\n",
    "        nums.sort()\n",
    "        queue = [[]]\n",
    "        ## nums中的每个元素都看成一层，把上一层的所有子集都加上当前层的元素\n",
    "        for num in nums:\n",
    "            for i in range(len(queue)):\n",
    "                ## 将上一层的子集都复制一份，并添加上当前层的元素\n",
    "                subset = list(queue[i])\n",
    "                subset.append(num)\n",
    "                ## queue插入元素不会影响for循环的长度，range(len(queue))计算的范围在循环开始时就固定了\n",
    "                ## 另外并没有像搜索树中画的那样把生成二叉树上的所有结点\n",
    "                queue.append(subset)\n",
    "        return queue\n"
   ]
  },
  {
   "cell_type": "code",
   "execution_count": 2,
   "metadata": {},
   "outputs": [
    {
     "name": "stdout",
     "output_type": "stream",
     "text": [
      "[[], [1], [2], [1, 2], [3], [1, 3], [2, 3], [1, 2, 3]]\n"
     ]
    }
   ],
   "source": [
    "solution = Solution()\n",
    "nums = [1,2,3]\n",
    "print(solution.subsets(nums))"
   ]
  },
  {
   "cell_type": "code",
   "execution_count": 6,
   "metadata": {},
   "outputs": [
    {
     "name": "stdout",
     "output_type": "stream",
     "text": [
      "deque([2])\n"
     ]
    }
   ],
   "source": [
    "queue = collections.deque([])\n",
    "queue.append(2)\n",
    "print(queue)"
   ]
  },
  {
   "cell_type": "code",
   "execution_count": null,
   "metadata": {},
   "outputs": [],
   "source": []
  }
 ],
 "metadata": {
  "kernelspec": {
   "display_name": "Python 3",
   "language": "python",
   "name": "python3"
  },
  "language_info": {
   "codemirror_mode": {
    "name": "ipython",
    "version": 3
   },
   "file_extension": ".py",
   "mimetype": "text/x-python",
   "name": "python",
   "nbconvert_exporter": "python",
   "pygments_lexer": "ipython3",
   "version": "3.7.1"
  }
 },
 "nbformat": 4,
 "nbformat_minor": 2
}
