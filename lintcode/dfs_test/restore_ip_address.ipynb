{
 "cells": [
  {
   "cell_type": "code",
   "execution_count": 1,
   "metadata": {},
   "outputs": [],
   "source": [
    "# Copyright(C) 2021 刘珅珅\n",
    "# Environment: python 3.7\n",
    "# Date: 2021.4.6\n",
    "# 恢复IP地址：lintcode 426"
   ]
  },
  {
   "cell_type": "markdown",
   "metadata": {},
   "source": [
    "# 与lintcode 570类似，时间复杂度为O(2^n)，每个数字后面都可能加点，实际搜索的状态有2^n个"
   ]
  },
  {
   "cell_type": "code",
   "execution_count": 8,
   "metadata": {},
   "outputs": [],
   "source": [
    "class Solution:\n",
    "    \"\"\"\n",
    "    @param s: the IP string\n",
    "    @return: All possible valid IP addresses\n",
    "    \"\"\"\n",
    "    def restoreIpAddresses(self, s):\n",
    "        # write your code here\n",
    "        results = []\n",
    "        self.dfs(s, [], results)\n",
    "        return results\n",
    "    \n",
    "    def dfs(self, s, path, results):\n",
    "        if len(s) == 0 and len(path) == 4:\n",
    "            results.append(\".\".join(path))\n",
    "            return\n",
    "        \n",
    "        for i in range(3):\n",
    "            if i + 1 <= len(s):\n",
    "                if not self.is_valid(s[:i + 1]):\n",
    "                    continue\n",
    "                path.append(s[:i + 1])\n",
    "                self.dfs(s[i + 1:], path, results)\n",
    "                path.pop()\n",
    "        \n",
    "        \n",
    "    def is_valid(self, s):\n",
    "        num = int(s)\n",
    "        if len(s) == 1 and 0 <= num <= 9:\n",
    "            return True\n",
    "        if len(s) == 2 and 10 <= num <= 99:\n",
    "            return True\n",
    "        if len(s) == 3 and 100 <= num <= 255:\n",
    "            return True\n",
    "        return False\n",
    "        "
   ]
  },
  {
   "cell_type": "code",
   "execution_count": 9,
   "metadata": {},
   "outputs": [
    {
     "name": "stdout",
     "output_type": "stream",
     "text": [
      "['255.255.255.255']\n",
      "None\n"
     ]
    }
   ],
   "source": [
    "s = \"25525511135\"\n",
    "s = \"255255255255\"\n",
    "solution = Solution()\n",
    "print(solution.restoreIpAddresses(s))"
   ]
  },
  {
   "cell_type": "code",
   "execution_count": null,
   "metadata": {},
   "outputs": [],
   "source": []
  }
 ],
 "metadata": {
  "kernelspec": {
   "display_name": "Python 3",
   "language": "python",
   "name": "python3"
  },
  "language_info": {
   "codemirror_mode": {
    "name": "ipython",
    "version": 3
   },
   "file_extension": ".py",
   "mimetype": "text/x-python",
   "name": "python",
   "nbconvert_exporter": "python",
   "pygments_lexer": "ipython3",
   "version": "3.7.1"
  }
 },
 "nbformat": 4,
 "nbformat_minor": 2
}
