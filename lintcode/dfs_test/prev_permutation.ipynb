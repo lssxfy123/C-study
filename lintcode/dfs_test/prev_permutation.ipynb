{
 "cells": [
  {
   "cell_type": "code",
   "execution_count": 1,
   "metadata": {},
   "outputs": [],
   "source": [
    "# Copyright(C) 2021 刘珅珅\n",
    "# Environment: python 3.7\n",
    "# Date: 2021.3.28\n",
    "# 上一个排列：lintcode 51"
   ]
  },
  {
   "cell_type": "code",
   "execution_count": 1,
   "metadata": {},
   "outputs": [],
   "source": [
    "\"\"\"\n",
    "1. 从右往左遍历数组 nums，直到找到一个位置 i ，满足 nums[i] > nums[i + 1] 或者 i 为 0 ，即查找第1个非下降点。i后面的元素是升序排列\n",
    "2. 将i后面的元素变成降序排列。\n",
    "3. 查找i后面的第1个比nums[i]小d的元素，然后将这个元素与nums[i]交换。\n",
    "\"\"\"\n",
    "class Solution:\n",
    "    \"\"\"\n",
    "    @param: nums: A list of integers\n",
    "    @return: A list of integers that's previous permuation\n",
    "    \"\"\"\n",
    "    def previousPermuation(self, nums):\n",
    "        # write your code here\n",
    "        if not nums or len(nums) == 1:\n",
    "            return nums\n",
    "        \n",
    "        n = len(nums)\n",
    "        ## step 1\n",
    "        for i in range(n - 2, -1, -1):\n",
    "            if nums[i] > nums[i + 1]:\n",
    "                break\n",
    "        else:\n",
    "            ## nums是升序数组，直接翻转就是其上一个排列\n",
    "            nums.reverse()\n",
    "            return nums\n",
    "        \n",
    "        ## step 2\n",
    "        self.reverse(nums, i + 1, n - 1)\n",
    "        \n",
    "        ## step 3，比nums[i]小的值肯定存在，否则在step 1时就会直接返回了\n",
    "        for j in range(i + 1, n):\n",
    "            if nums[j] < nums[i]:\n",
    "                break\n",
    "        nums[j], nums[i] = nums[i], nums[j]\n",
    "        return nums\n",
    "        \n",
    "        \n",
    "    def reverse(self, nums, i, j):\n",
    "        while i < j:\n",
    "            nums[i], nums[j] = nums[j], nums[i]\n",
    "            i += 1\n",
    "            j -= 1  \n",
    "            "
   ]
  },
  {
   "cell_type": "code",
   "execution_count": 3,
   "metadata": {},
   "outputs": [
    {
     "name": "stdout",
     "output_type": "stream",
     "text": [
      "[1, 2, 3, 6, 5, 4]\n"
     ]
    }
   ],
   "source": [
    "nums = [4,3,2,1]\n",
    "nums = [1, 2, 4, 3, 5, 6]\n",
    "solution = Solution()\n",
    "print(solution.previousPermuation(nums))"
   ]
  },
  {
   "cell_type": "code",
   "execution_count": null,
   "metadata": {},
   "outputs": [],
   "source": []
  }
 ],
 "metadata": {
  "kernelspec": {
   "display_name": "Python 3",
   "language": "python",
   "name": "python3"
  },
  "language_info": {
   "codemirror_mode": {
    "name": "ipython",
    "version": 3
   },
   "file_extension": ".py",
   "mimetype": "text/x-python",
   "name": "python",
   "nbconvert_exporter": "python",
   "pygments_lexer": "ipython3",
   "version": "3.7.1"
  }
 },
 "nbformat": 4,
 "nbformat_minor": 2
}
