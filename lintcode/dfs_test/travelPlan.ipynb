{
 "cells": [
  {
   "cell_type": "code",
   "execution_count": 1,
   "metadata": {},
   "outputs": [],
   "source": [
    "# Copyright(C) 2021 刘珅珅\n",
    "# Environment: python 3.7\n",
    "# Date: 2021.7.5\n",
    "# 旅行计划：lintcode 1891"
   ]
  },
  {
   "cell_type": "code",
   "execution_count": 12,
   "metadata": {},
   "outputs": [],
   "source": [
    "class Solution:\n",
    "    \"\"\"\n",
    "    @param arr: the distance between any two cities\n",
    "    @return: the minimum distance Alice needs to walk to complete the travel plan\n",
    "    \"\"\"\n",
    "    def travelPlan(self, arr):\n",
    "        # Write your code here.\n",
    "        if not arr:\n",
    "            return 0\n",
    "        n = len(arr[0])\n",
    "        if n == 0:\n",
    "            return 0\n",
    "        all_costs = []\n",
    "        self.dfs(arr, 0, 0, set(), all_costs)\n",
    "        return min(all_costs)\n",
    "    \n",
    "    def dfs(self, arr, cost, city, visited, all_costs):\n",
    "        if len(visited) == len(arr) - 1:\n",
    "            all_costs.append(cost + arr[city][0])\n",
    "            return\n",
    "        \n",
    "        for next_city in range(1, len(arr)):\n",
    "            if next_city in visited:\n",
    "                continue\n",
    "            visited.add(next_city)\n",
    "            self.dfs(arr, cost + arr[city][next_city], next_city, visited, all_costs)\n",
    "            visited.remove(next_city)\n",
    "            "
   ]
  },
  {
   "cell_type": "code",
   "execution_count": 11,
   "metadata": {},
   "outputs": [
    {
     "name": "stdout",
     "output_type": "stream",
     "text": [
      "1 set()\n",
      "1 {1}\n",
      "2 {1}\n",
      "2 set()\n",
      "1 {2}\n",
      "2 {2}\n",
      "11\n"
     ]
    }
   ],
   "source": [
    "arr = [[0,1,2],[1,0,2],[2,1,0]]\n",
    "arr = [[0,10000,2],[5,0,10000],[10000,4,0]]\n",
    "solution = Solution()\n",
    "print(solution.travelPlan(arr))"
   ]
  },
  {
   "cell_type": "code",
   "execution_count": null,
   "metadata": {},
   "outputs": [],
   "source": []
  }
 ],
 "metadata": {
  "kernelspec": {
   "display_name": "Python 3",
   "language": "python",
   "name": "python3"
  },
  "language_info": {
   "codemirror_mode": {
    "name": "ipython",
    "version": 3
   },
   "file_extension": ".py",
   "mimetype": "text/x-python",
   "name": "python",
   "nbconvert_exporter": "python",
   "pygments_lexer": "ipython3",
   "version": "3.7.1"
  }
 },
 "nbformat": 4,
 "nbformat_minor": 2
}
