{
 "cells": [
  {
   "cell_type": "code",
   "execution_count": 1,
   "metadata": {},
   "outputs": [],
   "source": [
    "# Copyright(C) 2021 刘珅珅\n",
    "# Environment: python 3.7\n",
    "# Date: 2021.3.18\n",
    "# 单词拆分II：lintcode 582"
   ]
  },
  {
   "cell_type": "markdown",
   "metadata": {},
   "source": [
    "## 找所有方案，不适合用动态规划"
   ]
  },
  {
   "cell_type": "code",
   "execution_count": 14,
   "metadata": {},
   "outputs": [],
   "source": [
    "class Solution:\n",
    "    \"\"\"\n",
    "    @param: s: A string\n",
    "    @param: wordDict: A set of words.\n",
    "    @return: All possible sentences.\n",
    "    \"\"\"\n",
    "    def wordBreak(self, s, wordDict):\n",
    "        # write your code here\n",
    "        if not wordDict:\n",
    "            return []\n",
    "        results = []\n",
    "    \n",
    "    def dfs(self, s, index, wordDict, results):\n",
    "        ## 递归的出口\n",
    "        if index == len(s):\n",
    "            \n",
    "        \n",
    "        for i in range(index, len(s)):\n",
    "            \n",
    "        \n",
    "        "
   ]
  },
  {
   "cell_type": "code",
   "execution_count": 15,
   "metadata": {},
   "outputs": [
    {
     "name": "stdout",
     "output_type": "stream",
     "text": [
      "{'s': False, 'se': True, 'see': True}\n",
      "['see', 'se']\n"
     ]
    }
   ],
   "source": [
    "s = \"lintcode\"\n",
    "wordDict = [\"de\",\"ding\",\"co\",\"code\",\"lint\"]\n",
    "\n",
    "solution = Solution()\n",
    "print(solution.wordBreak(board, words))"
   ]
  },
  {
   "cell_type": "code",
   "execution_count": null,
   "metadata": {},
   "outputs": [],
   "source": []
  }
 ],
 "metadata": {
  "kernelspec": {
   "display_name": "Python 3",
   "language": "python",
   "name": "python3"
  },
  "language_info": {
   "codemirror_mode": {
    "name": "ipython",
    "version": 3
   },
   "file_extension": ".py",
   "mimetype": "text/x-python",
   "name": "python",
   "nbconvert_exporter": "python",
   "pygments_lexer": "ipython3",
   "version": "3.7.1"
  }
 },
 "nbformat": 4,
 "nbformat_minor": 2
}
