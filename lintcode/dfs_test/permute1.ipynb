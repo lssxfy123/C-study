{
 "cells": [
  {
   "cell_type": "code",
   "execution_count": 1,
   "metadata": {},
   "outputs": [],
   "source": [
    "# Copyright(C) 2021 刘珅珅\n",
    "# Environment: python 3.7\n",
    "# Date: 2021.3.28\n",
    "# 全排列：lintcode 15"
   ]
  },
  {
   "cell_type": "code",
   "execution_count": 3,
   "metadata": {},
   "outputs": [],
   "source": [
    "class Solution:\n",
    "    \"\"\"\n",
    "    @param: nums: A list of integers.\n",
    "    @return: A list of permutations.\n",
    "    \"\"\"\n",
    "    def permute(self, nums):\n",
    "        # write your code here\n",
    "        if not nums:\n",
    "            return [[]]\n",
    "        ## 排序后，查找下一个排列时，如果i==0，就表示找完了\n",
    "        nums.sort()\n",
    "        \n",
    "        permutations = [nums[:]]\n",
    "        while self.next_permutation(nums):\n",
    "            permutations.append(nums[:])\n",
    "        return permutations\n",
    "    \n",
    "    def next_permutation(self, nums):\n",
    "        # write your code here\n",
    "        if not nums or len(nums) <= 1:\n",
    "            return False\n",
    "        \n",
    "        ## step 1\n",
    "        n = len(nums)\n",
    "        i = n - 1\n",
    "        while i > 0 and nums[i] <= nums[i - 1]:\n",
    "            i -= 1\n",
    "        \n",
    "        if i <= 0:\n",
    "            return False\n",
    "        \n",
    "        ## step 2\n",
    "        if i != 0:\n",
    "            j = n - 1\n",
    "            ## 满足要求的j肯定存在，因为i>0，则表示至少有1个nums[i]>nums[i-1]\n",
    "            while nums[j] <= nums[i - 1]:\n",
    "                j -= 1\n",
    "            nums[j], nums[i - 1] = nums[i - 1], nums[j]\n",
    "        \n",
    "        ## step 3\n",
    "        self.reverse(nums, i, n - 1)\n",
    "        return True\n",
    "        \n",
    "    def reverse(self, nums, i, j):\n",
    "        while i < j:\n",
    "            nums[i], nums[j] = nums[j], nums[i]\n",
    "            i += 1\n",
    "            j -= 1\n",
    "        "
   ]
  },
  {
   "cell_type": "code",
   "execution_count": 4,
   "metadata": {},
   "outputs": [
    {
     "name": "stdout",
     "output_type": "stream",
     "text": [
      "[[1, 2, 3], [1, 3, 2], [2, 1, 3], [2, 3, 1], [3, 1, 2], [3, 2, 1]]\n"
     ]
    }
   ],
   "source": [
    "solution = Solution()\n",
    "nums = [1,2,3]\n",
    "#nums = [0]\n",
    "print(solution.permute(nums))"
   ]
  },
  {
   "cell_type": "code",
   "execution_count": null,
   "metadata": {},
   "outputs": [],
   "source": []
  }
 ],
 "metadata": {
  "kernelspec": {
   "display_name": "Python 3",
   "language": "python",
   "name": "python3"
  },
  "language_info": {
   "codemirror_mode": {
    "name": "ipython",
    "version": 3
   },
   "file_extension": ".py",
   "mimetype": "text/x-python",
   "name": "python",
   "nbconvert_exporter": "python",
   "pygments_lexer": "ipython3",
   "version": "3.7.1"
  }
 },
 "nbformat": 4,
 "nbformat_minor": 2
}
