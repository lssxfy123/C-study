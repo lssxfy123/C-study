{
 "cells": [
  {
   "cell_type": "code",
   "execution_count": 1,
   "metadata": {},
   "outputs": [],
   "source": [
    "# Copyright(C) 2021 刘珅珅\n",
    "# Environment: python 3.7\n",
    "# Date: 2021.3.8\n",
    "# 字符串的不同排列：lintcode 10"
   ]
  },
  {
   "cell_type": "code",
   "execution_count": 2,
   "metadata": {},
   "outputs": [],
   "source": [
    "class Solution:\n",
    "    \"\"\"\n",
    "    @param: :  A list of integers\n",
    "    @return: A list of unique permutations\n",
    "    \"\"\"\n",
    "\n",
    "    def stringPermutation2(self, str):\n",
    "        # write your code here\n",
    "        results = []\n",
    "        nums = list(str)\n",
    "        nums.sort()\n",
    "        visited = {i : False for i in range(len(nums))}\n",
    "        self.dfs(nums, visited, [], results)\n",
    "        return results\n",
    "    \n",
    "    def dfs(self, nums, visited, permutation, results):\n",
    "        if len(permutation) == len(nums):\n",
    "            results.append(''.join(permutation[:]))\n",
    "            return\n",
    "        \n",
    "        for i in range(len(nums)):\n",
    "            if visited[i]:  ## 第i个元素已经选择\n",
    "                continue\n",
    "            if i > 0 and nums[i - 1] == nums[i] and not visited[i - 1]:\n",
    "                continue\n",
    "            permutation.append(nums[i])\n",
    "            visited[i] = True\n",
    "            self.dfs(nums, visited, permutation, results)\n",
    "            permutation.pop()\n",
    "            visited[i] = False\n",
    "    \n",
    "        "
   ]
  },
  {
   "cell_type": "code",
   "execution_count": 3,
   "metadata": {},
   "outputs": [
    {
     "name": "stdout",
     "output_type": "stream",
     "text": [
      "['aab', 'aba', 'baa']\n"
     ]
    }
   ],
   "source": [
    "solution = Solution()\n",
    "str = \"aab\"\n",
    "print(solution.stringPermutation2(str))"
   ]
  },
  {
   "cell_type": "code",
   "execution_count": null,
   "metadata": {},
   "outputs": [],
   "source": []
  }
 ],
 "metadata": {
  "kernelspec": {
   "display_name": "Python 3",
   "language": "python",
   "name": "python3"
  },
  "language_info": {
   "codemirror_mode": {
    "name": "ipython",
    "version": 3
   },
   "file_extension": ".py",
   "mimetype": "text/x-python",
   "name": "python",
   "nbconvert_exporter": "python",
   "pygments_lexer": "ipython3",
   "version": "3.7.1"
  }
 },
 "nbformat": 4,
 "nbformat_minor": 2
}
