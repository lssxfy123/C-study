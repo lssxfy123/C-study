{
 "cells": [
  {
   "cell_type": "code",
   "execution_count": 1,
   "metadata": {},
   "outputs": [],
   "source": [
    "# Copyright(C) 2021 刘珅珅\n",
    "# Environment: python 3.7\n",
    "# Date: 2021.6.28\n",
    "# 查找和替换模式：lintcode 1592"
   ]
  },
  {
   "cell_type": "code",
   "execution_count": 15,
   "metadata": {},
   "outputs": [],
   "source": [
    "class Solution:\n",
    "    \"\"\"\n",
    "    @param words: word list\n",
    "    @param pattern: pattern string\n",
    "    @return: list of matching words\n",
    "    \"\"\"\n",
    "    def findAndReplacePattern(self, words, pattern):\n",
    "        # Write your code here.\n",
    "        result = []\n",
    "        for word in words:\n",
    "            if self.is_match(word, pattern):\n",
    "                result.append(word)\n",
    "        return result\n",
    "    \n",
    "    ## 不需要像lintcode 829那么复杂，pattern和word长度相同，而且pattern[i]和word[i]匹配\n",
    "    def is_match(self, word, pattern):\n",
    "        pattern_to_word = {}\n",
    "        for i in range(len(pattern)):\n",
    "            if pattern[i] not in pattern_to_word:\n",
    "                pattern_to_word[pattern[i]] = word[i]\n",
    "                continue\n",
    "            \n",
    "            ## 发生失配\n",
    "            if pattern_to_word[pattern[i]] != word[i]:\n",
    "                return False\n",
    "        \n",
    "        ## 保证没有多个字母映射到同一个字母的情况\n",
    "        if len(set(pattern_to_word.keys())) != len(set(pattern_to_word.values())):\n",
    "            return False\n",
    " \n",
    "        return True\n"
   ]
  },
  {
   "cell_type": "code",
   "execution_count": 16,
   "metadata": {},
   "outputs": [
    {
     "name": "stdout",
     "output_type": "stream",
     "text": [
      "['mee', 'aqq']\n"
     ]
    }
   ],
   "source": [
    "solution = Solution()\n",
    "words = [\"abc\",\"deq\",\"mee\",\"aqq\",\"dkd\",\"ccc\"]\n",
    "pattern = \"abb\"\n",
    "print(solution.findAndReplacePattern(words, pattern))"
   ]
  },
  {
   "cell_type": "code",
   "execution_count": 7,
   "metadata": {},
   "outputs": [
    {
     "name": "stdout",
     "output_type": "stream",
     "text": [
      "False\n"
     ]
    }
   ],
   "source": [
    "pattern = \"lwpstyfsjf\"\n",
    "str = \"htkvcxwxkymrvrpcxw\"\n",
    "solution = Solution()\n",
    "print(solution.wordPatternMatch(pattern, str))"
   ]
  },
  {
   "cell_type": "code",
   "execution_count": 7,
   "metadata": {},
   "outputs": [
    {
     "data": {
      "text/plain": [
       "False"
      ]
     },
     "execution_count": 7,
     "metadata": {},
     "output_type": "execute_result"
    }
   ],
   "source": [
    "\"\" is None"
   ]
  },
  {
   "cell_type": "code",
   "execution_count": null,
   "metadata": {},
   "outputs": [],
   "source": []
  }
 ],
 "metadata": {
  "kernelspec": {
   "display_name": "Python 3",
   "language": "python",
   "name": "python3"
  },
  "language_info": {
   "codemirror_mode": {
    "name": "ipython",
    "version": 3
   },
   "file_extension": ".py",
   "mimetype": "text/x-python",
   "name": "python",
   "nbconvert_exporter": "python",
   "pygments_lexer": "ipython3",
   "version": "3.7.1"
  }
 },
 "nbformat": 4,
 "nbformat_minor": 2
}
