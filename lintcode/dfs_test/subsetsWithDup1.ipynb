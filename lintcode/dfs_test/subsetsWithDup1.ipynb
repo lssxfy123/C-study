{
 "cells": [
  {
   "cell_type": "code",
   "execution_count": 1,
   "metadata": {},
   "outputs": [],
   "source": [
    "# Copyright(C) 2021 刘珅珅\n",
    "# Environment: python 3.7\n",
    "# Date: 2021.3.7\n",
    "# 子集 II：lintcode 18"
   ]
  },
  {
   "cell_type": "code",
   "execution_count": 3,
   "metadata": {},
   "outputs": [],
   "source": [
    "## 另一种重复元素的解法\n",
    "class Solution:\n",
    "    \"\"\"\n",
    "    @param nums: A set of numbers\n",
    "    @return: A list of lists\n",
    "    \"\"\"\n",
    "    def subsetsWithDup(self, nums):\n",
    "        # write your code here\n",
    "        results = []\n",
    "        ## 如果nums为[]，也是有1个子集的\n",
    "\n",
    "        ## 要求组合中每个序列都是升序\n",
    "        ## nums可能有重复的值\n",
    "        ## 不能先找到所有可能的序列，然后在去重\n",
    "        nums.sort()\n",
    "        visited = set()\n",
    "        self.dfs(nums, 0, [], results, visited)\n",
    "        return results\n",
    "    \n",
    "    def get_hash(self, combination):\n",
    "        hash_string = \"-\".join([str(num) for num in combination])\n",
    "        return hash_string\n",
    "    \n",
    "    def dfs(self, nums, index, combination, results, visited):\n",
    "        ## hash表去重\n",
    "        hash_string = self.get_hash(combination)\n",
    "        if hash_string in visited:\n",
    "            return\n",
    "        visited.add(hash_string)\n",
    "        results.append(combination[:])\n",
    " \n",
    "        for i in range(index, len(nums)):\n",
    "            combination.append(nums[i])\n",
    "            self.dfs(nums, i + 1, combination, results, visited)\n",
    "            combination.pop() ## 回溯"
   ]
  },
  {
   "cell_type": "code",
   "execution_count": 4,
   "metadata": {},
   "outputs": [
    {
     "name": "stdout",
     "output_type": "stream",
     "text": [
      "[[], [1], [1, 2], [1, 2, 2], [2], [2, 2]]\n"
     ]
    }
   ],
   "source": [
    "solution = Solution()\n",
    "nums = [1,2,2]\n",
    "#nums = [0]\n",
    "print(solution.subsetsWithDup(nums))"
   ]
  },
  {
   "cell_type": "code",
   "execution_count": null,
   "metadata": {},
   "outputs": [],
   "source": []
  }
 ],
 "metadata": {
  "kernelspec": {
   "display_name": "Python 3",
   "language": "python",
   "name": "python3"
  },
  "language_info": {
   "codemirror_mode": {
    "name": "ipython",
    "version": 3
   },
   "file_extension": ".py",
   "mimetype": "text/x-python",
   "name": "python",
   "nbconvert_exporter": "python",
   "pygments_lexer": "ipython3",
   "version": "3.7.1"
  }
 },
 "nbformat": 4,
 "nbformat_minor": 2
}
