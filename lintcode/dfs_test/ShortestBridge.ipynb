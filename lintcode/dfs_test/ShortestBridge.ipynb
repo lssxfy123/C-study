{
 "cells": [
  {
   "cell_type": "code",
   "execution_count": 1,
   "metadata": {},
   "outputs": [],
   "source": [
    "# Copyright(C) 2021 刘珅珅\n",
    "# Environment: python 3.7\n",
    "# Date: 2021.7.6\n",
    "# 最短的桥：lintcode 1708"
   ]
  },
  {
   "cell_type": "code",
   "execution_count": 19,
   "metadata": {},
   "outputs": [],
   "source": [
    "import collections\n",
    "\n",
    "class Solution:\n",
    "    def ShortestBridge(self, A):\n",
    "        \"\"\"\n",
    "        题目中的岛屿的概念比较奇怪，由4面相连的1形成的最大组，A中的一个单独的1也可以是一个岛屿\n",
    "        例如：A=[[0,1][1,0]]，第一个\"1\"是一个岛屿，第二个\"1\"是一个岛屿\n",
    "        A=[[1,1,1,1,1],[1,0,0,0,1],[1,0,1,0,1],[1,0,0,0,1],[1,1,1,1,1]]，第三行第三列的\"1\"是一个岛屿，剩下所有的\"1\"组成另外的岛屿\n",
    "        所以要先找到第一个岛屿并且确定其范围，然后用BFS算法，从第一个岛屿的每个位置出发找到另一个岛屿的最短距离\n",
    "        \"\"\"\n",
    "        directions = [(0, 1), (0, -1), (1, 0), (-1, 0)]\n",
    "        first_island_points = []\n",
    "        first_island_visited = set()\n",
    "        start_x, start_y = self.find_first_land(A)\n",
    "        first_island_visited.add((start_x, start_y))\n",
    "        first_island_points.append((start_x, start_y))\n",
    "        self.find_first_island_by_dfs(A, start_x, start_y, first_island_visited, directions, first_island_points)\n",
    "        \n",
    "        queue = collections.deque(first_island_points)\n",
    "        step = 0\n",
    "        while queue:\n",
    "            for _ in range(len(queue)):\n",
    "                x, y = queue.popleft()\n",
    "                for next_direction in directions:\n",
    "                    new_x, new_y = x + next_direction[0], y + next_direction[1]\n",
    "                    if not self.is_valid(new_x, new_y, A):\n",
    "                        continue\n",
    "                    if (new_x, new_y) in first_island_visited:\n",
    "                        continue\n",
    "                    if A[new_x][new_y] == 1:\n",
    "                        return step\n",
    "                    queue.append((new_x, new_y))\n",
    "                    first_island_visited.add((new_x, new_y))\n",
    "            step += 1\n",
    "        \n",
    "        return step\n",
    "        \n",
    "\n",
    "    \n",
    "    ## 找到第一个陆地\n",
    "    def find_first_land(self, A):\n",
    "        for i in range(len(A)):\n",
    "            for j in range(len(A[0])):\n",
    "                if A[i][j] == 1:\n",
    "                    return (i, j)\n",
    "    ## 找到第一个岛屿\n",
    "    def find_first_island_by_dfs(self, A, start_x, start_y, visited, directions, points):\n",
    "        for next_direction in directions:\n",
    "            x, y = start_x + next_direction[0], start_y + next_direction[1]\n",
    "            if not self.is_valid(x, y, A):\n",
    "                continue\n",
    "            if (x, y) in visited or A[x][y] != 1:\n",
    "                continue\n",
    "            points.append((x, y))\n",
    "            visited.add((x, y))\n",
    "            self.find_first_island_by_dfs(A, x, y, visited, directions, points)\n",
    "    \n",
    "    def is_valid(self, x, y, A):\n",
    "        return x >= 0 and x < len(A) and y >= 0 and y < len(A[0])\n",
    "        "
   ]
  },
  {
   "cell_type": "code",
   "execution_count": 22,
   "metadata": {},
   "outputs": [
    {
     "name": "stdout",
     "output_type": "stream",
     "text": [
      "1\n"
     ]
    }
   ],
   "source": [
    "A = [[0,1],[1,0]]\n",
    "A = [[0,1,0],[0,0,0],[0,0,1]]\n",
    "A = [[1,1,1,1,1],[1,0,0,0,1],[1,0,1,0,1],[1,0,0,0,1],[1,1,1,1,1]]\n",
    "solution = Solution()\n",
    "print(solution.ShortestBridge(A))"
   ]
  },
  {
   "cell_type": "code",
   "execution_count": null,
   "metadata": {},
   "outputs": [],
   "source": []
  },
  {
   "cell_type": "code",
   "execution_count": null,
   "metadata": {},
   "outputs": [],
   "source": []
  }
 ],
 "metadata": {
  "kernelspec": {
   "display_name": "Python 3",
   "language": "python",
   "name": "python3"
  },
  "language_info": {
   "codemirror_mode": {
    "name": "ipython",
    "version": 3
   },
   "file_extension": ".py",
   "mimetype": "text/x-python",
   "name": "python",
   "nbconvert_exporter": "python",
   "pygments_lexer": "ipython3",
   "version": "3.7.1"
  }
 },
 "nbformat": 4,
 "nbformat_minor": 2
}
