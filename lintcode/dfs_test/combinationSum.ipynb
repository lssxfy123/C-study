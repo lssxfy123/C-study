{
 "cells": [
  {
   "cell_type": "code",
   "execution_count": 1,
   "metadata": {},
   "outputs": [],
   "source": [
    "# Copyright(C) 2021 刘珅珅\n",
    "# Environment: python 3.7\n",
    "# Date: 2021.3.8\n",
    "# 数字组合：lintcode 135"
   ]
  },
  {
   "cell_type": "code",
   "execution_count": 3,
   "metadata": {},
   "outputs": [],
   "source": [
    "class Solution:\n",
    "    \"\"\"\n",
    "    @param candidates: A list of integers\n",
    "    @param target: An integer\n",
    "    @return: A list of lists of integers\n",
    "    \"\"\"\n",
    "    def combinationSum(self, candidates, target):\n",
    "        # write your code here\n",
    "        if target <= 0:\n",
    "            return []\n",
    "        results = []\n",
    "        ## 由于candidates中有重复元素，并且选择组合时1个元素可以选择多次\n",
    "        ## 所以可以进行去重处理\n",
    "        candidates = list(set(candidates))  ## 去重\n",
    "        candidates.sort()  ## 排序\n",
    "        self.dfs(candidates, target, 0, [], results)\n",
    "        return results\n",
    "    \n",
    "    def dfs(self, candidates, target, start_index, combination, results):\n",
    "        ## 递归的出口\n",
    "        if target < 0:\n",
    "            return\n",
    "        if target == 0:\n",
    "            results.append(combination[:])\n",
    "            return\n",
    "        \n",
    "        for i in range(start_index, len(candidates)):\n",
    "            combination.append(candidates[i])\n",
    "            ## 同一个元素可以选择多次，相比于lintcode 17中的子集，传递到start_index是i，\n",
    "            ## i从start_index开始，这样就可以对同一个元素选择多次\n",
    "            self.dfs(candidates, target - candidates[i], i, combination, results)\n",
    "            combination.pop()\n",
    "        \n",
    "    \n"
   ]
  },
  {
   "cell_type": "code",
   "execution_count": 4,
   "metadata": {},
   "outputs": [
    {
     "name": "stdout",
     "output_type": "stream",
     "text": [
      "[[2, 2, 3], [7]]\n"
     ]
    }
   ],
   "source": [
    "candidates = [2, 3, 6, 7]\n",
    "target = 7\n",
    "solution = Solution()\n",
    "print(solution.combinationSum(candidates, target))"
   ]
  },
  {
   "cell_type": "code",
   "execution_count": 1,
   "metadata": {},
   "outputs": [
    {
     "data": {
      "text/plain": [
       "[False, False, False]"
      ]
     },
     "execution_count": 1,
     "metadata": {},
     "output_type": "execute_result"
    }
   ],
   "source": [
    "[False] * 3"
   ]
  },
  {
   "cell_type": "code",
   "execution_count": null,
   "metadata": {},
   "outputs": [],
   "source": []
  }
 ],
 "metadata": {
  "kernelspec": {
   "display_name": "Python 3",
   "language": "python",
   "name": "python3"
  },
  "language_info": {
   "codemirror_mode": {
    "name": "ipython",
    "version": 3
   },
   "file_extension": ".py",
   "mimetype": "text/x-python",
   "name": "python",
   "nbconvert_exporter": "python",
   "pygments_lexer": "ipython3",
   "version": "3.7.1"
  }
 },
 "nbformat": 4,
 "nbformat_minor": 2
}
