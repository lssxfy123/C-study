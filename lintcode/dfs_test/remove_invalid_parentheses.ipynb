{
 "cells": [
  {
   "cell_type": "code",
   "execution_count": 1,
   "metadata": {},
   "outputs": [],
   "source": [
    "# Copyright(C) 2021 刘珅珅\n",
    "# Environment: python 3.7\n",
    "# Date: 2021.4.7\n",
    "# 删除无效的括号：lintcode 780"
   ]
  },
  {
   "cell_type": "markdown",
   "metadata": {},
   "source": [
    "# DFS，时间复杂度最坏为O(n*2^n)，n为字符串的长度，每个字符都要判断删或不删"
   ]
  },
  {
   "cell_type": "code",
   "execution_count": 11,
   "metadata": {},
   "outputs": [],
   "source": [
    "class Solution:\n",
    "    \"\"\"\n",
    "    @param s: The input string\n",
    "    @return: Return all possible results\n",
    "    \"\"\"\n",
    "    def removeInvalidParentheses(self, s):\n",
    "        # Write your code here\n",
    "        if not s:\n",
    "            return [s]\n",
    "        left_count, right_count = self.left_right_parenthese_count(s)\n",
    "        results = []\n",
    "        self.dfs(s, left_count, right_count, 0, results)\n",
    "        return results\n",
    "    \n",
    "    \"\"\"\n",
    "    递归的定义：第index个字符是否可用删除掉，使用左括号和右括号分开来判断是否递归，这比整体判断要快\n",
    "    \"\"\"\n",
    "    def dfs(self, s, left_count, right_count, index, results):\n",
    "        ## 递归的出口：如果左括号和右括号不需要删除了\n",
    "        if left_count == 0 and right_count == 0:\n",
    "            if self.is_valid(s):\n",
    "                results.append(s)\n",
    "            return\n",
    "        \n",
    "        for i in range(index, len(s)):\n",
    "            ## 连续相同的括号，避免重复结果，参考lintcode 18\n",
    "            if i > index and i > 0 and s[i - 1] == s[i]:\n",
    "                continue\n",
    "            if s[i] == \"(\" and left_count > 0:\n",
    "                self.dfs(s[:i] + s[i + 1:], left_count - 1, right_count, i, results)\n",
    "            if s[i] == \")\" and right_count > 0:\n",
    "                self.dfs(s[:i] + s[i + 1:], left_count, right_count - 1, i, results)\n",
    "    \n",
    "    def is_valid(self, s):\n",
    "        left_count, right_count = self.left_right_parenthese_count(s)\n",
    "        return left_count == 0 and right_count == 0\n",
    "    \n",
    "    ## 获取需要删除的左括号和右括号的个数\n",
    "    def left_right_parenthese_count(self, s):\n",
    "        n = len(s)\n",
    "        left_count = 0\n",
    "        right_count = 0\n",
    "        for i in range(n):\n",
    "            if s[i] == \"(\":\n",
    "                left_count += 1\n",
    "                continue\n",
    "            if s[i] == \")\":\n",
    "                if left_count > 0:\n",
    "                    left_count -= 1\n",
    "                else:\n",
    "                    right_count += 1\n",
    "        return left_count, right_count\n",
    "            \n",
    "            \n"
   ]
  },
  {
   "cell_type": "code",
   "execution_count": 14,
   "metadata": {},
   "outputs": [
    {
     "name": "stdout",
     "output_type": "stream",
     "text": [
      "['(a())()', '(a)()()']\n"
     ]
    }
   ],
   "source": [
    "s = \"()())()\"\n",
    "s = \"(a)())()\"\n",
    "# s = \")(\"\n",
    "solution = Solution()\n",
    "print(solution.removeInvalidParentheses(s))"
   ]
  },
  {
   "cell_type": "code",
   "execution_count": null,
   "metadata": {},
   "outputs": [],
   "source": []
  }
 ],
 "metadata": {
  "kernelspec": {
   "display_name": "Python 3",
   "language": "python",
   "name": "python3"
  },
  "language_info": {
   "codemirror_mode": {
    "name": "ipython",
    "version": 3
   },
   "file_extension": ".py",
   "mimetype": "text/x-python",
   "name": "python",
   "nbconvert_exporter": "python",
   "pygments_lexer": "ipython3",
   "version": "3.7.1"
  }
 },
 "nbformat": 4,
 "nbformat_minor": 2
}
