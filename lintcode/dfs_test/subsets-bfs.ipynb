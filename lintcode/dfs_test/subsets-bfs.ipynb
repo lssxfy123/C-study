{
 "cells": [
  {
   "cell_type": "code",
   "execution_count": 1,
   "metadata": {},
   "outputs": [],
   "source": [
    "# Copyright(C) 2021 刘珅珅\n",
    "# Environment: python 3.7\n",
    "# Date: 2021.3.9\n",
    "# 子集：lintcode 17"
   ]
  },
  {
   "cell_type": "code",
   "execution_count": 1,
   "metadata": {},
   "outputs": [],
   "source": [
    "## bfs实现子集\n",
    "import collections\n",
    "\n",
    "class Solution:\n",
    "    \"\"\"\n",
    "    @param nums: A set of numbers\n",
    "    @return: A list of lists\n",
    "    \"\"\"\n",
    "    def subsets(self, nums):\n",
    "        # write your code here\n",
    "        ## 如果nums为[]，也是有1个子集的\n",
    "        if not nums:\n",
    "            return [[]]\n",
    "        \n",
    "\n",
    "        ## 要求组合是升序\n",
    "        nums.sort()\n",
    "        queue = [[]]\n",
    "        ## 传统型的bfs，[]表示第1个结点，它的邻结点为[1], [2], [3]\n",
    "        index = 0\n",
    "        while index < len(queue):\n",
    "            subset = queue[index]\n",
    "            index += 1\n",
    "            for num in nums:\n",
    "                ## subset为[]，nums中的元素都要使用\n",
    "                ## 如果subset不为空，由于nums是排序的并且没有重复元素\n",
    "                ## 只有比subset[-1]大的元素才是它的邻结点\n",
    "                if subset and subset[-1] >= num:\n",
    "                    continue\n",
    "                queue.append(subset + [num])\n",
    "        return queue\n"
   ]
  },
  {
   "cell_type": "code",
   "execution_count": 2,
   "metadata": {},
   "outputs": [
    {
     "name": "stdout",
     "output_type": "stream",
     "text": [
      "[[], [1], [2], [3], [1, 2], [1, 3], [2, 3], [1, 2, 3]]\n"
     ]
    }
   ],
   "source": [
    "solution = Solution()\n",
    "nums = [1,2,3]\n",
    "print(solution.subsets(nums))"
   ]
  },
  {
   "cell_type": "code",
   "execution_count": 6,
   "metadata": {},
   "outputs": [
    {
     "name": "stdout",
     "output_type": "stream",
     "text": [
      "deque([2])\n"
     ]
    }
   ],
   "source": [
    "queue = collections.deque([])\n",
    "queue.append(2)\n",
    "print(queue)"
   ]
  },
  {
   "cell_type": "code",
   "execution_count": null,
   "metadata": {},
   "outputs": [],
   "source": []
  }
 ],
 "metadata": {
  "kernelspec": {
   "display_name": "Python 3",
   "language": "python",
   "name": "python3"
  },
  "language_info": {
   "codemirror_mode": {
    "name": "ipython",
    "version": 3
   },
   "file_extension": ".py",
   "mimetype": "text/x-python",
   "name": "python",
   "nbconvert_exporter": "python",
   "pygments_lexer": "ipython3",
   "version": "3.7.1"
  }
 },
 "nbformat": 4,
 "nbformat_minor": 2
}
