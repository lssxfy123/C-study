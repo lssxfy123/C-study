{
 "cells": [
  {
   "cell_type": "code",
   "execution_count": 1,
   "metadata": {},
   "outputs": [],
   "source": [
    "# Copyright(C) 2021 刘珅珅\n",
    "# Environment: python 3.7\n",
    "# Date: 2021.3.18\n",
    "# 单词拆分II：lintcode 582"
   ]
  },
  {
   "cell_type": "markdown",
   "metadata": {},
   "source": [
    "## 使用动态规划对DFS进行剪枝优化"
   ]
  },
  {
   "cell_type": "code",
   "execution_count": 12,
   "metadata": {},
   "outputs": [],
   "source": [
    "class Solution:\n",
    "    \"\"\"\n",
    "    @param: s: A string\n",
    "    @param: wordDict: A set of words.\n",
    "    @return: All possible sentences.\n",
    "    \"\"\"\n",
    "    def wordBreak(self, s, wordDict):\n",
    "        # write your code here\n",
    "        if not wordDict:\n",
    "            return []\n",
    "        results = []\n",
    "        max_length = self.get_max_length(wordDict)\n",
    "        \n",
    "        self.dfs(s, 0, max_length, wordDict, {}, [], results)\n",
    "        return results\n",
    "    \n",
    "    def dfs(self, s, index, max_length, wordDict, memo, sentence, results):\n",
    "        ## 递归的出口\n",
    "        if index == len(s):\n",
    "            results.append(\" \".join(sentence))\n",
    "            return\n",
    "        \n",
    "        ## s从index开始的字符串无法break\n",
    "        if not self.is_possible(s, index, max_length, wordDict, memo):\n",
    "            return\n",
    "\n",
    "        ## 查找s中从index开始的字符串是否在wordDict中\n",
    "        for i in range(index, len(s)):\n",
    "            ## 如果从index开始的字符串的长度大于wordDict中的最大字符串长度\n",
    "            if i + 1 - index > max_length:\n",
    "                break\n",
    "            \n",
    "            word = s[index : i + 1]\n",
    "            if word not in wordDict:\n",
    "                continue\n",
    "            sentence.append(word)\n",
    "            self.dfs(s, index + len(word), max_length, wordDict, memo, sentence, results)\n",
    "            sentence.pop()\n",
    "    \n",
    "    ## s字符串从index开始的后缀是否可以break\n",
    "    def is_possible(self, s, index, max_length, wordDict, memo):\n",
    "        if index == len(s):\n",
    "            memo[index] = True\n",
    "            return True\n",
    "        \n",
    "        ## 利用记忆化搜索剪枝\n",
    "        if index in memo:\n",
    "            return memo[index]\n",
    "        \n",
    "        memo[index] = False\n",
    "        for i in range(index, len(s)):\n",
    "            if i + 1 - index > max_length:\n",
    "                break\n",
    "            word = s[index : i + 1]\n",
    "            if word not in wordDict:\n",
    "                continue\n",
    "            \n",
    "            if self.is_possible(s, index + len(word), max_length, wordDict, memo):\n",
    "                memo[index] = True\n",
    "                break\n",
    "        \n",
    "        return memo[index]\n",
    "    \n",
    "    def get_max_length(self, wordDict):\n",
    "        return max([len(word) for word in wordDict])\n",
    "            \n",
    "        \n",
    "        "
   ]
  },
  {
   "cell_type": "code",
   "execution_count": 13,
   "metadata": {},
   "outputs": [
    {
     "name": "stdout",
     "output_type": "stream",
     "text": [
      "[]\n"
     ]
    }
   ],
   "source": [
    "s = \"a\"\n",
    "wordDict = [\"\"]\n",
    "\n",
    "solution = Solution()\n",
    "print(solution.wordBreak(s, wordDict))"
   ]
  },
  {
   "cell_type": "code",
   "execution_count": null,
   "metadata": {},
   "outputs": [],
   "source": []
  }
 ],
 "metadata": {
  "kernelspec": {
   "display_name": "Python 3",
   "language": "python",
   "name": "python3"
  },
  "language_info": {
   "codemirror_mode": {
    "name": "ipython",
    "version": 3
   },
   "file_extension": ".py",
   "mimetype": "text/x-python",
   "name": "python",
   "nbconvert_exporter": "python",
   "pygments_lexer": "ipython3",
   "version": "3.7.1"
  }
 },
 "nbformat": 4,
 "nbformat_minor": 2
}
