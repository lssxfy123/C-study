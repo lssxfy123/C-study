{
 "cells": [
  {
   "cell_type": "code",
   "execution_count": 1,
   "metadata": {},
   "outputs": [],
   "source": [
    "# Copyright(C) 2021 刘珅珅\n",
    "# Environment: python 3.7\n",
    "# Date: 2021.3.29\n",
    "# N皇后问题：lintcode 33"
   ]
  },
  {
   "cell_type": "markdown",
   "metadata": {},
   "source": [
    "## 优化方案：is_valid可以进行优化，每次搜索完某行某列时，存储下来，下次判断是否可用时，就不用进行for循环了\n",
    "# 但时间复杂度并没有优化，因为O(S*n^2)中n^2是打印花费时间，这个并没有被优化"
   ]
  },
  {
   "cell_type": "code",
   "execution_count": 3,
   "metadata": {},
   "outputs": [],
   "source": [
    "class Solution:\n",
    "    \"\"\"\n",
    "    @param: n: The number of queens\n",
    "    @return: All distinct solutions\n",
    "    \"\"\"\n",
    "    ## 入口函数\n",
    "    def solveNQueens(self, n):\n",
    "        # write your code here\n",
    "        results = []\n",
    "        ## key=column存储已使用的行，\"sum\"表示已使用的副对角线位置，\"difference\"表示已使用的主对角线位置\n",
    "        visited = {\"column\" : set(), \"sum\" : set(), \"difference\" : set()}\n",
    "        self.search(n, [], visited, results)\n",
    "        return results\n",
    "    \n",
    "    ## 搜索函数\n",
    "    def search(self, n, columns, visited, results):\n",
    "        row = len(columns)\n",
    "        \n",
    "        ## 递归的出口\n",
    "        if row == n:\n",
    "            results.append(self.draw_chessborad(columns))\n",
    "            return\n",
    "        \n",
    "        for column in range(n):\n",
    "            if not self.is_valid(columns, visited, column):\n",
    "                continue\n",
    "            visited[\"column\"].add(column)\n",
    "            visited[\"sum\"].add(row + column)\n",
    "            visited[\"difference\"].add(row - column)\n",
    "            \n",
    "            columns.append(column)\n",
    "            self.search(n, columns, visited, results)\n",
    "            columns.pop()\n",
    "            \n",
    "            visited[\"column\"].remove(column)\n",
    "            visited[\"sum\"].remove(row + column)\n",
    "            visited[\"difference\"].remove(row - column)\n",
    "    \n",
    "    ## 判断函数：选择第column列是否合法\n",
    "    def is_valid(self, columns, visited, column):\n",
    "        row = len(columns)\n",
    "        if column in visited[\"column\"]:\n",
    "            return False\n",
    "        if row + column in visited[\"sum\"]:\n",
    "            return False\n",
    "        if row - column in visited[\"difference\"]:\n",
    "            return False\n",
    "        \n",
    "        return True\n",
    "            \n",
    "    \n",
    "    ## 打印函数\n",
    "    def draw_chessborad(self, columns):\n",
    "        board = []\n",
    "        n = len(columns)\n",
    "        for i in range(n):\n",
    "            row = ['Q' if j == columns[i] else '.' for j in range(n)]\n",
    "            board.append(''.join(row))\n",
    "        return board\n"
   ]
  },
  {
   "cell_type": "code",
   "execution_count": 4,
   "metadata": {},
   "outputs": [
    {
     "name": "stdout",
     "output_type": "stream",
     "text": [
      "[['.Q..', '...Q', 'Q...', '..Q.'], ['..Q.', 'Q...', '...Q', '.Q..']]\n"
     ]
    }
   ],
   "source": [
    "solution = Solution()\n",
    "print(solution.solveNQueens(4))"
   ]
  },
  {
   "cell_type": "code",
   "execution_count": null,
   "metadata": {},
   "outputs": [],
   "source": []
  }
 ],
 "metadata": {
  "kernelspec": {
   "display_name": "Python 3",
   "language": "python",
   "name": "python3"
  },
  "language_info": {
   "codemirror_mode": {
    "name": "ipython",
    "version": 3
   },
   "file_extension": ".py",
   "mimetype": "text/x-python",
   "name": "python",
   "nbconvert_exporter": "python",
   "pygments_lexer": "ipython3",
   "version": "3.7.1"
  }
 },
 "nbformat": 4,
 "nbformat_minor": 2
}
