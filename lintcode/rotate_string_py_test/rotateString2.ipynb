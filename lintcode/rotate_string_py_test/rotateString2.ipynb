{
 "cells": [
  {
   "cell_type": "code",
   "execution_count": 2,
   "metadata": {},
   "outputs": [],
   "source": [
    "# Copyright(C) 2021 刘珅珅\n",
    "# Environment: python 3.7\n",
    "# Date: 2021.2.25\n",
    "# 旋转字符串II：lintcode 1790"
   ]
  },
  {
   "cell_type": "code",
   "execution_count": 18,
   "metadata": {},
   "outputs": [],
   "source": [
    "class Solution:\n",
    "    \"\"\"\n",
    "    @param str: An array of char\n",
    "    @param left: a left offset\n",
    "    @param right: a right offset\n",
    "    @return: return a rotate string\n",
    "    \"\"\"\n",
    "    def RotateString2(self, str, left, right):\n",
    "        # write your code here\n",
    "        if not str or len(str) < 2:\n",
    "            return str\n",
    "        total_offset = abs(left - right) % len(str)\n",
    "        if total_offset == 0:\n",
    "            return str\n",
    "\n",
    "        flag = True if left > right else False\n",
    "        if flag:\n",
    "            return str[total_offset:] + str[:total_offset]\n",
    "        return str[len(str) - total_offset:] + str[:len(str) - total_offset]\n",
    "        "
   ]
  },
  {
   "cell_type": "code",
   "execution_count": 19,
   "metadata": {},
   "outputs": [
    {
     "name": "stdout",
     "output_type": "stream",
     "text": [
      "['f', 'g', 'a', 'b', 'c', 'd', 'e']\n"
     ]
    }
   ],
   "source": [
    "solution = Solution()\n",
    "str1 = \"abcdefg\"\n",
    "chars = list(str1)\n",
    "left = 1\n",
    "right = 3\n",
    "print(solution.RotateString2(chars, left, right))"
   ]
  },
  {
   "cell_type": "code",
   "execution_count": 8,
   "metadata": {},
   "outputs": [
    {
     "data": {
      "text/plain": [
       "'gf'"
      ]
     },
     "execution_count": 8,
     "metadata": {},
     "output_type": "execute_result"
    }
   ],
   "source": [
    "str1 = \"abcdefg\"\n",
    "str1[0:2]\n",
    "str1[-1:-3:-1]"
   ]
  },
  {
   "cell_type": "code",
   "execution_count": null,
   "metadata": {},
   "outputs": [],
   "source": []
  }
 ],
 "metadata": {
  "kernelspec": {
   "display_name": "Python 3",
   "language": "python",
   "name": "python3"
  },
  "language_info": {
   "codemirror_mode": {
    "name": "ipython",
    "version": 3
   },
   "file_extension": ".py",
   "mimetype": "text/x-python",
   "name": "python",
   "nbconvert_exporter": "python",
   "pygments_lexer": "ipython3",
   "version": "3.7.1"
  }
 },
 "nbformat": 4,
 "nbformat_minor": 2
}
