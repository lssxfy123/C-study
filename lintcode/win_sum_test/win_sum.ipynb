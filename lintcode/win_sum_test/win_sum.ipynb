{
 "cells": [
  {
   "cell_type": "code",
   "execution_count": 1,
   "metadata": {},
   "outputs": [],
   "source": [
    "# Copyright(C) 2021 刘珅珅\n",
    "# Environment: python 3.7\n",
    "# Date: 2021.3.21\n",
    "# 滑动窗口内数的和：lintcode 604"
   ]
  },
  {
   "cell_type": "code",
   "execution_count": 3,
   "metadata": {},
   "outputs": [],
   "source": [
    "class Solution:\n",
    "    \"\"\"\n",
    "    @param nums: a list of integers.\n",
    "    @param k: length of window.\n",
    "    @return: the sum of the element inside the window at each moving.\n",
    "    \"\"\"\n",
    "    def winSum(self, nums, k):\n",
    "        # write your code here\n",
    "        if not nums or len(nums) < k:\n",
    "            return []\n",
    "        j = 0\n",
    "        window_sum = 0\n",
    "        result = []\n",
    "        ## 不使用sum函数,使用sum函数会出现一些重复计算的问题\n",
    "        for i in range(len(nums) - k + 1):\n",
    "            ## 这里计算窗口中的元素和，用了一个巧妙的方法\n",
    "            ## 当j-i == k时，跳出while循环，此时的j是下一个窗口的终点\n",
    "            ## 当i经过循环加1后，j-i重新小于k，可以直接计算window_sum\n",
    "            ## 两个相邻的窗口左边剔除1个，右边增加一个\n",
    "            ## 这里不用特别处理j>=len(nums)的情况，由于i的范围是0到len(nums)-k+1\n",
    "            ## 所以j==len(nums)时，循环会自动结束\n",
    "            while j < len(nums) and j - i < k:\n",
    "                window_sum += nums[j]\n",
    "                j += 1\n",
    "            \n",
    "            if j - i == k:\n",
    "                result.append(window_sum)\n",
    "            \n",
    "            ## 这里减去nums[i]是为下一个窗口的计算做准备\n",
    "            ## 下一个窗口不包含nums[i]\n",
    "            window_sum -= nums[i]\n",
    "        \n",
    "        return result\n"
   ]
  },
  {
   "cell_type": "code",
   "execution_count": 4,
   "metadata": {},
   "outputs": [
    {
     "name": "stdout",
     "output_type": "stream",
     "text": [
      "[10, 16, 16]\n"
     ]
    }
   ],
   "source": [
    "nums = [1,2,7,7,2]\n",
    "k = 3\n",
    "solution = Solution()\n",
    "print(solution.winSum(nums, k))"
   ]
  },
  {
   "cell_type": "code",
   "execution_count": 10,
   "metadata": {},
   "outputs": [
    {
     "data": {
      "text/plain": [
       "True"
      ]
     },
     "execution_count": 10,
     "metadata": {},
     "output_type": "execute_result"
    }
   ],
   "source": [
    "tmp = {7: 0}\n",
    "7 in tmp.keys()"
   ]
  },
  {
   "cell_type": "code",
   "execution_count": null,
   "metadata": {},
   "outputs": [],
   "source": []
  }
 ],
 "metadata": {
  "kernelspec": {
   "display_name": "Python 3",
   "language": "python",
   "name": "python3"
  },
  "language_info": {
   "codemirror_mode": {
    "name": "ipython",
    "version": 3
   },
   "file_extension": ".py",
   "mimetype": "text/x-python",
   "name": "python",
   "nbconvert_exporter": "python",
   "pygments_lexer": "ipython3",
   "version": "3.7.1"
  }
 },
 "nbformat": 4,
 "nbformat_minor": 2
}
