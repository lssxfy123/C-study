{
 "cells": [
  {
   "cell_type": "code",
   "execution_count": 10,
   "metadata": {},
   "outputs": [],
   "source": [
    "# Copyright(C) 2021 刘珅珅\n",
    "# Environment: python 3.7\n",
    "# Date: 2021.2.9\n",
    "# 两数之和：lintcode 56"
   ]
  },
  {
   "cell_type": "code",
   "execution_count": 11,
   "metadata": {},
   "outputs": [],
   "source": [
    "class Solution:\n",
    "    \"\"\"\n",
    "    @param numbers: An array of Integer\n",
    "    @param target: target = numbers[index1] + numbers[index2]\n",
    "    @return: [index1 + 1, index2 + 1] (index1 < index2)\n",
    "    \"\"\"\n",
    "    ## 哈希表方法\n",
    "    ## 时间复杂度O(n),空间复杂度O(n)\n",
    "    def twoSum(self, numbers, target):\n",
    "        # write your code here\n",
    "        if numbers is None or len(numbers) < 2:\n",
    "            return None\n",
    "        length = len(numbers)\n",
    "        diff_map = {}\n",
    "        for i in range(length):\n",
    "            if numbers[i] in diff_map.keys():\n",
    "                return diff_map[numbers[i]], i\n",
    "            \n",
    "            diff = target - numbers[i] \n",
    "            \n",
    "            if diff not in diff_map.keys():\n",
    "                diff_map[diff] = i\n",
    "        return None\n",
    "    "
   ]
  },
  {
   "cell_type": "code",
   "execution_count": 12,
   "metadata": {},
   "outputs": [
    {
     "name": "stdout",
     "output_type": "stream",
     "text": [
      "7\n",
      "{7: 0}\n",
      "(0, 1)\n"
     ]
    }
   ],
   "source": [
    "solution = Solution()\n",
    "print(solution.twoSum([2, 7, 11, 15], 9))"
   ]
  },
  {
   "cell_type": "code",
   "execution_count": 10,
   "metadata": {},
   "outputs": [
    {
     "data": {
      "text/plain": [
       "True"
      ]
     },
     "execution_count": 10,
     "metadata": {},
     "output_type": "execute_result"
    }
   ],
   "source": [
    "tmp = {7: 0}\n",
    "7 in tmp.keys()"
   ]
  },
  {
   "cell_type": "code",
   "execution_count": null,
   "metadata": {},
   "outputs": [],
   "source": []
  }
 ],
 "metadata": {
  "kernelspec": {
   "display_name": "Python 3",
   "language": "python",
   "name": "python3"
  },
  "language_info": {
   "codemirror_mode": {
    "name": "ipython",
    "version": 3
   },
   "file_extension": ".py",
   "mimetype": "text/x-python",
   "name": "python",
   "nbconvert_exporter": "python",
   "pygments_lexer": "ipython3",
   "version": "3.7.1"
  }
 },
 "nbformat": 4,
 "nbformat_minor": 2
}
