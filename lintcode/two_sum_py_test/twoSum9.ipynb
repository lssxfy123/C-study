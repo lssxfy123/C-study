{
 "cells": [
  {
   "cell_type": "code",
   "execution_count": 2,
   "metadata": {},
   "outputs": [],
   "source": [
    "# Copyright(C) 2021 刘珅珅\n",
    "# Environment: python 3.7\n",
    "# Date: 2021.4.13\n",
    "# 两数和 II-输入已排序的数组：lintcode 608"
   ]
  },
  {
   "cell_type": "code",
   "execution_count": 1,
   "metadata": {},
   "outputs": [],
   "source": [
    "class Solution:\n",
    "    \"\"\"\n",
    "    @param nums: an array of Integer\n",
    "    @param target: target = nums[index1] + nums[index2]\n",
    "    @return: [index1 + 1, index2 + 1] (index1 < index2)\n",
    "    \"\"\"\n",
    "    def twoSum(self, nums, target):\n",
    "        # write your code here\n",
    "        if not nums or len(nums) <= 1:\n",
    "            return [-1, -1]\n",
    "        left, right = 0, len(nums) - 1\n",
    "        \n",
    "        while left < right:\n",
    "            two_sum = nums[left] + nums[right]\n",
    "            if two_sum == target:\n",
    "                return [left + 1, right + 1]\n",
    "            if two_sum < target:\n",
    "                left += 1\n",
    "            else:\n",
    "                right -= 1\n",
    "        return [-1, -1]"
   ]
  },
  {
   "cell_type": "code",
   "execution_count": 2,
   "metadata": {},
   "outputs": [
    {
     "name": "stdout",
     "output_type": "stream",
     "text": [
      "[1, 2]\n"
     ]
    }
   ],
   "source": [
    "solution = Solution()\n",
    "nums = [2,7,11,15]\n",
    "target = 9\n",
    "print(solution.twoSum(nums, target))"
   ]
  },
  {
   "cell_type": "code",
   "execution_count": null,
   "metadata": {},
   "outputs": [],
   "source": []
  }
 ],
 "metadata": {
  "kernelspec": {
   "display_name": "Python 3",
   "language": "python",
   "name": "python3"
  },
  "language_info": {
   "codemirror_mode": {
    "name": "ipython",
    "version": 3
   },
   "file_extension": ".py",
   "mimetype": "text/x-python",
   "name": "python",
   "nbconvert_exporter": "python",
   "pygments_lexer": "ipython3",
   "version": "3.7.1"
  }
 },
 "nbformat": 4,
 "nbformat_minor": 2
}
