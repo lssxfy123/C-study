{
 "cells": [
  {
   "cell_type": "code",
   "execution_count": 2,
   "metadata": {},
   "outputs": [],
   "source": [
    "# Copyright(C) 2021 刘珅珅\n",
    "# Environment: python 3.7\n",
    "# Date: 2021.2.12\n",
    "# 两数之和-小于或等于目标值：lintcode 609"
   ]
  },
  {
   "cell_type": "code",
   "execution_count": 10,
   "metadata": {},
   "outputs": [],
   "source": [
    "class Solution:\n",
    "    \"\"\"\n",
    "    @param numbers: An array of Integer\n",
    "    @param target: target = numbers[index1] + numbers[index2]\n",
    "    @return: [index1 + 1, index2 + 1] (index1 < index2)\n",
    "    \"\"\"\n",
    "    ## 双指针算法\n",
    "    ## 时间复杂度O(nlog(n)),空间复杂度O(1)\n",
    "    def twoSum5(self, numbers, target):\n",
    "        # write your code here\n",
    "        if numbers is None or len(numbers) < 2:\n",
    "            return 0\n",
    "        \n",
    "        numbers.sort()\n",
    "        \n",
    "        ## 对于排序后的列表用双指针法\n",
    "        left = 0\n",
    "        right = len(numbers) - 1\n",
    "        count = 0\n",
    "        while (left < right):\n",
    "            if numbers[left] + numbers[right] <= target:\n",
    "                count += (right - left)\n",
    "                left += 1\n",
    "            elif numbers[left] + numbers[right] > target:\n",
    "                right -= 1\n",
    "        return count\n",
    "    "
   ]
  },
  {
   "cell_type": "code",
   "execution_count": 11,
   "metadata": {},
   "outputs": [
    {
     "name": "stdout",
     "output_type": "stream",
     "text": [
      "[2, 7, 11, 15]\n",
      "3\n",
      "5\n",
      "5\n"
     ]
    }
   ],
   "source": [
    "solution = Solution()\n",
    "print(solution.twoSum5([2, 7, 11, 15], 24))"
   ]
  },
  {
   "cell_type": "code",
   "execution_count": null,
   "metadata": {},
   "outputs": [],
   "source": []
  }
 ],
 "metadata": {
  "kernelspec": {
   "display_name": "Python 3",
   "language": "python",
   "name": "python3"
  },
  "language_info": {
   "codemirror_mode": {
    "name": "ipython",
    "version": 3
   },
   "file_extension": ".py",
   "mimetype": "text/x-python",
   "name": "python",
   "nbconvert_exporter": "python",
   "pygments_lexer": "ipython3",
   "version": "3.7.1"
  }
 },
 "nbformat": 4,
 "nbformat_minor": 2
}
