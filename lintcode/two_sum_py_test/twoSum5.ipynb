{
 "cells": [
  {
   "cell_type": "code",
   "execution_count": 2,
   "metadata": {},
   "outputs": [],
   "source": [
    "# Copyright(C) 2021 刘珅珅\n",
    "# Environment: python 3.7\n",
    "# Date: 2021.2.12\n",
    "# 两数之和 II：lintcode 443"
   ]
  },
  {
   "cell_type": "code",
   "execution_count": 2,
   "metadata": {},
   "outputs": [],
   "source": [
    "class Solution:\n",
    "    \"\"\"\n",
    "    @param nums: an array of integer\n",
    "    @param target: An integer\n",
    "    @return: an integer\n",
    "    \"\"\"\n",
    "    def twoSum2(self, nums, target):\n",
    "        # write your code here\n",
    "        if not nums or len(nums) < 2:\n",
    "            return 0\n",
    "        \n",
    "        ## 用了一个降序排列\n",
    "        nums.sort(reverse = True)\n",
    "        left = 0\n",
    "        right = len(nums) - 1\n",
    "        ans = 0\n",
    "        while left < right:\n",
    "            two_sum = nums[left] + nums[right]\n",
    "            if two_sum > target:\n",
    "                ans += right - left\n",
    "                left += 1\n",
    "            else:\n",
    "                right -= 1\n",
    "        return ans\n",
    "                \n",
    "\n",
    "    "
   ]
  },
  {
   "cell_type": "code",
   "execution_count": 5,
   "metadata": {},
   "outputs": [
    {
     "name": "stdout",
     "output_type": "stream",
     "text": [
      "6\n"
     ]
    }
   ],
   "source": [
    "solution = Solution()\n",
    "nums = [1, 1, 1, 1]\n",
    "target = 1\n",
    "print(solution.twoSum2(nums, target))"
   ]
  },
  {
   "cell_type": "code",
   "execution_count": null,
   "metadata": {},
   "outputs": [],
   "source": []
  }
 ],
 "metadata": {
  "kernelspec": {
   "display_name": "Python 3",
   "language": "python",
   "name": "python3"
  },
  "language_info": {
   "codemirror_mode": {
    "name": "ipython",
    "version": 3
   },
   "file_extension": ".py",
   "mimetype": "text/x-python",
   "name": "python",
   "nbconvert_exporter": "python",
   "pygments_lexer": "ipython3",
   "version": "3.7.1"
  }
 },
 "nbformat": 4,
 "nbformat_minor": 2
}
