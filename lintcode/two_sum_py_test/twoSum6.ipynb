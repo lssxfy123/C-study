{
 "cells": [
  {
   "cell_type": "code",
   "execution_count": 2,
   "metadata": {},
   "outputs": [],
   "source": [
    "# Copyright(C) 2021 刘珅珅\n",
    "# Environment: python 3.7\n",
    "# Date: 2021.2.25\n",
    "# 两数之和 - 不同组成：lintcode 587"
   ]
  },
  {
   "cell_type": "code",
   "execution_count": 4,
   "metadata": {},
   "outputs": [],
   "source": [
    "class Solution:\n",
    "    \"\"\"\n",
    "    @param nums: an array of integer\n",
    "    @param target: An integer\n",
    "    @return: An integer\n",
    "    \"\"\"\n",
    "    def twoSum6(self, nums, target):\n",
    "        # write your code here\n",
    "        if not nums or len(nums) < 2:\n",
    "            return 0\n",
    "        nums.sort()  ## 对数组排序\n",
    "        \n",
    "        left, right = 0, len(nums) - 1\n",
    "        ans = 0\n",
    "        last_pair = (0, 0)\n",
    "        while left < right:\n",
    "            two_sum = nums[left] + nums[right]\n",
    "            ## 要注意题目要求的是不同的数组对\n",
    "            if two_sum == target and last_pair != (nums[left], nums[right]):\n",
    "                ans += 1\n",
    "                last_pair = (nums[left], nums[right])\n",
    "                left += 1\n",
    "                right -= 1\n",
    "            elif two_sum > target:\n",
    "                right -= 1\n",
    "            else:\n",
    "                left += 1\n",
    "        \n",
    "        return ans\n",
    "            "
   ]
  },
  {
   "cell_type": "code",
   "execution_count": 6,
   "metadata": {},
   "outputs": [
    {
     "name": "stdout",
     "output_type": "stream",
     "text": [
      "0 1\n",
      "1 1\n",
      "1\n"
     ]
    }
   ],
   "source": [
    "solution = Solution()\n",
    "nums = [1,1,2,45,46,46]\n",
    "nums = [1, 1]\n",
    "target = 2\n",
    "print(solution.twoSum6(nums, target))"
   ]
  },
  {
   "cell_type": "code",
   "execution_count": null,
   "metadata": {},
   "outputs": [],
   "source": []
  }
 ],
 "metadata": {
  "kernelspec": {
   "display_name": "Python 3",
   "language": "python",
   "name": "python3"
  },
  "language_info": {
   "codemirror_mode": {
    "name": "ipython",
    "version": 3
   },
   "file_extension": ".py",
   "mimetype": "text/x-python",
   "name": "python",
   "nbconvert_exporter": "python",
   "pygments_lexer": "ipython3",
   "version": "3.7.1"
  }
 },
 "nbformat": 4,
 "nbformat_minor": 2
}
