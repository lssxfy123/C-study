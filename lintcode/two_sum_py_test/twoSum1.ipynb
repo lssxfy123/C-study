{
 "cells": [
  {
   "cell_type": "code",
   "execution_count": 10,
   "metadata": {},
   "outputs": [],
   "source": [
    "# Copyright(C) 2021 刘珅珅\n",
    "# Environment: python 3.7\n",
    "# Date: 2021.2.9\n",
    "# 两数之后：lintcode 56"
   ]
  },
  {
   "cell_type": "code",
   "execution_count": 8,
   "metadata": {},
   "outputs": [],
   "source": [
    "class Solution:\n",
    "    \"\"\"\n",
    "    @param numbers: An array of Integer\n",
    "    @param target: target = numbers[index1] + numbers[index2]\n",
    "    @return: [index1 + 1, index2 + 1] (index1 < index2)\n",
    "    \"\"\"\n",
    "    ## 双指针算法\n",
    "    ## 时间复杂度O(nlog(n)),空间复杂度O(n)\n",
    "    def twoSum(self, numbers, target):\n",
    "        # write your code here\n",
    "        if numbers is None or len(numbers) < 2:\n",
    "            return None\n",
    "\n",
    "        ## 首先获取list的值和对应的索引组成的列表\n",
    "        ## enumerate()返回的是(索引,值)的形式，要进行一次转换\n",
    "        ## 以便于在后面进行排序\n",
    "        number_index_list = [(number, index) for index, number in enumerate(numbers)]\n",
    "        number_index_list = sorted(number_index_list)\n",
    "        \n",
    "        ## 对于排序后的列表用二分法\n",
    "        left = 0\n",
    "        right = len(number_index_list) - 1\n",
    "        while (left < right):\n",
    "            if number_index_list[left][0] + number_index_list[right][0] < target:\n",
    "                left += 1\n",
    "            elif number_index_list[left][0] + number_index_list[right][0] > target:\n",
    "                right -= 1\n",
    "            else:\n",
    "                return min(number_index_list[left][1], number_index_list[right][1]), max(number_index_list[left][1], number_index_list[right][1])\n",
    "        return None\n",
    "    "
   ]
  },
  {
   "cell_type": "code",
   "execution_count": 9,
   "metadata": {},
   "outputs": [
    {
     "name": "stdout",
     "output_type": "stream",
     "text": [
      "(0, 2)\n"
     ]
    }
   ],
   "source": [
    "solution = Solution()\n",
    "print(solution.twoSum([1,0,-1], 0))"
   ]
  },
  {
   "cell_type": "code",
   "execution_count": 10,
   "metadata": {},
   "outputs": [
    {
     "data": {
      "text/plain": [
       "True"
      ]
     },
     "execution_count": 10,
     "metadata": {},
     "output_type": "execute_result"
    }
   ],
   "source": [
    "tmp = {7: 0}\n",
    "7 in tmp.keys()"
   ]
  },
  {
   "cell_type": "code",
   "execution_count": null,
   "metadata": {},
   "outputs": [],
   "source": []
  }
 ],
 "metadata": {
  "kernelspec": {
   "display_name": "Python 3",
   "language": "python",
   "name": "python3"
  },
  "language_info": {
   "codemirror_mode": {
    "name": "ipython",
    "version": 3
   },
   "file_extension": ".py",
   "mimetype": "text/x-python",
   "name": "python",
   "nbconvert_exporter": "python",
   "pygments_lexer": "ipython3",
   "version": "3.7.1"
  }
 },
 "nbformat": 4,
 "nbformat_minor": 2
}
