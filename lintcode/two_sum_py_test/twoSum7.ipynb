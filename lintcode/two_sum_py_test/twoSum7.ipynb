{
 "cells": [
  {
   "cell_type": "code",
   "execution_count": 2,
   "metadata": {},
   "outputs": [],
   "source": [
    "# Copyright(C) 2021 刘珅珅\n",
    "# Environment: python 3.7\n",
    "# Date: 2021.3.21\n",
    "#  两数和 - 差等于目标值：lintcode 610"
   ]
  },
  {
   "cell_type": "markdown",
   "metadata": {},
   "source": [
    "### 题目要求不使用额外空间，如果可以使用额外空间，直接用哈希表就行了"
   ]
  },
  {
   "cell_type": "markdown",
   "metadata": {},
   "source": [
    "# 第一种解法：二分法，时间复杂度为O(nlogn)"
   ]
  },
  {
   "cell_type": "code",
   "execution_count": 11,
   "metadata": {},
   "outputs": [],
   "source": [
    "class Solution:\n",
    "    \"\"\"\n",
    "    @param nums: an array of Integer\n",
    "    @param target: an integer\n",
    "    @return: [num1, num2] (num1 < num2)\n",
    "    \"\"\"\n",
    "    def twoSum7(self, nums, target):\n",
    "        # write your code here\n",
    "        if not nums:\n",
    "            return [-1, -1]\n",
    "        ## target有可能为负值\n",
    "        target = abs(target)\n",
    "        \n",
    "        result = [-1, -1]\n",
    "        for i in range(len(nums) - 1):\n",
    "            j = self.binary_search(nums, i + 1, len(nums) - 1, target + nums[i])\n",
    "            if j != -1:\n",
    "                result = [nums[i], nums[j]]\n",
    "        return result\n",
    "        \n",
    "    ## 二分法\n",
    "    def binary_search(self, nums,start, end, target):\n",
    "        ## 二分的模板\n",
    "        while start + 1 < end:\n",
    "            mid = (start + end) // 2\n",
    "            if nums[mid] == target:\n",
    "                return mid\n",
    "            if nums[mid] < target:\n",
    "                start = mid\n",
    "            else:\n",
    "                end = mid\n",
    "        if nums[start] == target:\n",
    "            return start\n",
    "        if nums[end] == target:\n",
    "            return end\n",
    "        return -1\n",
    "            "
   ]
  },
  {
   "cell_type": "code",
   "execution_count": 12,
   "metadata": {},
   "outputs": [
    {
     "name": "stdout",
     "output_type": "stream",
     "text": [
      "[2, 7]\n"
     ]
    }
   ],
   "source": [
    "solution = Solution()\n",
    "nums = [2,7,15,24]\n",
    "target = 5\n",
    "print(solution.twoSum7(nums, target))"
   ]
  },
  {
   "cell_type": "code",
   "execution_count": null,
   "metadata": {},
   "outputs": [],
   "source": []
  }
 ],
 "metadata": {
  "kernelspec": {
   "display_name": "Python 3",
   "language": "python",
   "name": "python3"
  },
  "language_info": {
   "codemirror_mode": {
    "name": "ipython",
    "version": 3
   },
   "file_extension": ".py",
   "mimetype": "text/x-python",
   "name": "python",
   "nbconvert_exporter": "python",
   "pygments_lexer": "ipython3",
   "version": "3.7.1"
  }
 },
 "nbformat": 4,
 "nbformat_minor": 2
}
