{
 "cells": [
  {
   "cell_type": "code",
   "execution_count": 2,
   "metadata": {},
   "outputs": [],
   "source": [
    "# Copyright(C) 2021 刘珅珅\n",
    "# Environment: python 3.7\n",
    "# Date: 2021.2.12\n",
    "# 两数之和 III-数据结构设计：lintcode 607"
   ]
  },
  {
   "cell_type": "code",
   "execution_count": 8,
   "metadata": {},
   "outputs": [],
   "source": [
    "## 哈希表做法\n",
    "class TwoSum:\n",
    "    def __init__(self):\n",
    "        self.map = {}\n",
    "        \n",
    "    \"\"\"\n",
    "    @param number: An integer\n",
    "    @return: nothing\n",
    "    \"\"\"\n",
    "    def add(self, number):\n",
    "        # write your code here\n",
    "        if number in self.map.keys():\n",
    "            self.map[number] += 1\n",
    "            return\n",
    "    \n",
    "        self.map[number] = 1\n",
    "\n",
    "    \"\"\"\n",
    "    @param value: An integer\n",
    "    @return: Find if there exists any pair of numbers which sum is equal to the value.\n",
    "    \"\"\"\n",
    "    def find(self, value):\n",
    "        # write your code here\n",
    "        for number, count in self.map.items():\n",
    "            diff = value - number\n",
    "            if diff != number and diff in self.map.keys():\n",
    "                return True\n",
    "            if diff == number and count > 1:\n",
    "                return True\n",
    "        \n",
    "        return False\n",
    "    "
   ]
  },
  {
   "cell_type": "code",
   "execution_count": 10,
   "metadata": {},
   "outputs": [
    {
     "name": "stdout",
     "output_type": "stream",
     "text": [
      "False\n"
     ]
    }
   ],
   "source": [
    "solution = TwoSum()\n",
    "solution.add(1)\n",
    "solution.add(3)\n",
    "solution.add(5)\n",
    "solution.add(7)\n",
    "print(solution.find(9))"
   ]
  },
  {
   "cell_type": "code",
   "execution_count": null,
   "metadata": {},
   "outputs": [],
   "source": []
  }
 ],
 "metadata": {
  "kernelspec": {
   "display_name": "Python 3",
   "language": "python",
   "name": "python3"
  },
  "language_info": {
   "codemirror_mode": {
    "name": "ipython",
    "version": 3
   },
   "file_extension": ".py",
   "mimetype": "text/x-python",
   "name": "python",
   "nbconvert_exporter": "python",
   "pygments_lexer": "ipython3",
   "version": "3.7.1"
  }
 },
 "nbformat": 4,
 "nbformat_minor": 2
}
