{
 "cells": [
  {
   "cell_type": "code",
   "execution_count": 2,
   "metadata": {},
   "outputs": [],
   "source": [
    "# Copyright(C) 2021 刘珅珅\n",
    "# Environment: python 3.7\n",
    "# Date: 2021.2.12\n",
    "# 两数之和 III-数据结构设计：lintcode 607"
   ]
  },
  {
   "cell_type": "code",
   "execution_count": 8,
   "metadata": {},
   "outputs": [],
   "source": [
    "## 双指针做法\n",
    "class TwoSum:\n",
    "    def __init__(self):\n",
    "        self.array = []\n",
    "        \n",
    "    \"\"\"\n",
    "    @param number: An integer\n",
    "    @return: nothing\n",
    "    \"\"\"\n",
    "    def add(self, number):\n",
    "        # write your code here\n",
    "        self.array.append(number)\n",
    "        \n",
    "        # 不能在插入时对数组进行排序，因为插入操作也会耗时，会将后面的数据依次后移，每次插入时都会\n",
    "        ## 如此，导致非常耗时。不如在查找时再整体排序，即使O(nlogn)的时间复杂度\n",
    "        \n",
    "#         index = len(self.array) - 1\n",
    "#         while index > 0 and self.array[index - 1] > self.array[index]:\n",
    "#             self.array[index - 1], self.array[index] = self.array[index], self.array[index - 1]\n",
    "            \n",
    "    \"\"\"\n",
    "    @param value: An integer\n",
    "    @return: Find if there exists any pair of numbers which sum is equal to the value.\n",
    "    \"\"\"\n",
    "    def find(self, value):\n",
    "        # write your code here\n",
    "        self.array.sort()\n",
    "        left = 0\n",
    "        right = len(self.array) - 1\n",
    "        while left < right:\n",
    "            two_sum = self.array[left] + self.array[right]\n",
    "            if two_sum == value:\n",
    "                return True\n",
    "            \n",
    "            if two_sum < value:\n",
    "                left += 1\n",
    "                continue\n",
    "            \n",
    "            if two_sum > value:\n",
    "                right -= 1\n",
    "            \n",
    "        return False\n",
    "    "
   ]
  },
  {
   "cell_type": "code",
   "execution_count": 10,
   "metadata": {},
   "outputs": [
    {
     "name": "stdout",
     "output_type": "stream",
     "text": [
      "False\n"
     ]
    }
   ],
   "source": [
    "solution = TwoSum()\n",
    "solution.add(1)\n",
    "solution.add(3)\n",
    "solution.add(5)\n",
    "solution.add(7)\n",
    "print(solution.find(9))"
   ]
  },
  {
   "cell_type": "code",
   "execution_count": null,
   "metadata": {},
   "outputs": [],
   "source": []
  }
 ],
 "metadata": {
  "kernelspec": {
   "display_name": "Python 3",
   "language": "python",
   "name": "python3"
  },
  "language_info": {
   "codemirror_mode": {
    "name": "ipython",
    "version": 3
   },
   "file_extension": ".py",
   "mimetype": "text/x-python",
   "name": "python",
   "nbconvert_exporter": "python",
   "pygments_lexer": "ipython3",
   "version": "3.7.1"
  }
 },
 "nbformat": 4,
 "nbformat_minor": 2
}
