{
 "cells": [
  {
   "cell_type": "code",
   "execution_count": 2,
   "metadata": {},
   "outputs": [],
   "source": [
    "# Copyright(C) 2021 刘珅珅\n",
    "# Environment: python 3.7\n",
    "# Date: 2021.4.13\n",
    "# 两数之和 VII：lintcode 1879"
   ]
  },
  {
   "cell_type": "markdown",
   "metadata": {},
   "source": [
    "# O(n)的时间复杂度，O(1)的空间复杂度"
   ]
  },
  {
   "cell_type": "markdown",
   "metadata": {},
   "source": [
    "## 算法描述：left，right分别指向最小值和最大值，然后按双指针的方式移动，每次left移动时不再是+1，而是计算比nums[left]大的最值，right移动时不再是是-1，而是计算比nums[right]小的最大值"
   ]
  },
  {
   "cell_type": "markdown",
   "metadata": {},
   "source": [
    "## 时间复杂度的计算比较复杂，采用了双指针算法，有3种情况\n",
    "### 如果初始状态下，nums[left]>=0，说明nums中全部为正数，这相当于nums是直接按元素值排序，和普通的双指针没有区别，所以时间复杂度为O(n)\n",
    "### 如果初始状态下nums[right]<=0，说明nums中全部为负数，nums按绝对值排序，其实也就是按元素孩子降序排列，也和普通的双指针没有区别，时间复杂度也为O(n)\n",
    "### 初始状态下nums[left]<0，nums[right]>0，nums中有正有负，在计算left和right的过程中，next_small和next_big中，如果nums[left]和nums[right]的符号不发生改变，next_small和next_big加起来会把nums遍历一遍，时间复杂度也是O(n)。\n",
    "### 如果符号发生改变，nums[left]可能会由负转正，nums[right]也有可能会由正转负，但这两种情况只会发生一种，如果同时发生，就会不满足while循环的条件。假设nums[left]由负变正，则在next_small中，前一个0到left-1没有找到小于0的值，则继续从0到n-1找大于0的值，因为0到left-1没有比0小的值，所以这个O(n)的for循环其实不会遍历nums数组n次，而是只会查找1次，这样nums[left]由负转正，之后再计算left时，就会执行left+1到n的循环，而且不会再发生nums[left]再由正转负的情况了，因为next_small始终计算是比上一个nums[left]大的最小值。next_small最多会把nums数组遍历两遍，所以时间复杂度为O(2n)，也就是O(n)\n"
   ]
  },
  {
   "cell_type": "code",
   "execution_count": 7,
   "metadata": {},
   "outputs": [],
   "source": [
    "class Solution:\n",
    "    \"\"\"\n",
    "    @param nums: the input array\n",
    "    @param target: the target number\n",
    "    @return: return the target pair\n",
    "    \"\"\"\n",
    "    def twoSumVII(self, nums, target):\n",
    "        # write your code here\n",
    "        if not nums or len(nums) < 2:\n",
    "            return []\n",
    "        \n",
    "        ## 求出最小值和最大值\n",
    "        n = len(nums)\n",
    "        left = right = 0\n",
    "        for i in range(n):\n",
    "            if nums[i] < nums[left]:\n",
    "                left = i\n",
    "            if nums[i] > nums[right]:\n",
    "                right = i\n",
    "        \n",
    "        ## left指向nums最小值，right指向nums最大值\n",
    "        ## 移动left时，需要查找其下一个最小值，也就是比当前nums[left]大的最小值\n",
    "        ## 移动right时，需要查找下一个最大值，也就是比当前nums[right]小的最大值\n",
    "        ## nums中没有相同值，所以如果left不等于right，nums[left]和nums[right]不会相等\n",
    "        ## 如果nums[left]>nums[right]就相当于双指针中的left和right交错了\n",
    "        results = []\n",
    "        while nums[left] < nums[right]:\n",
    "            two_sum = nums[left] + nums[right]\n",
    "            ## left指针要右移，但不是简单的+1，而是找下一个最小值\n",
    "            if two_sum < target:\n",
    "                left = self.next_small(left, nums)\n",
    "                if left == -1:\n",
    "                    break\n",
    "            elif two_sum > target:\n",
    "                right = self.next_big(right, nums)\n",
    "                if right == -1:\n",
    "                    break\n",
    "            else:\n",
    "                tmp = [left, right]\n",
    "                if left > right:\n",
    "                    tmp[0], tmp[1] = tmp[1], tmp[0]\n",
    "                results.append(tmp)\n",
    "                left = self.next_small(left, nums)\n",
    "                right = self.next_big(right, nums)\n",
    "        return results\n",
    "                \n",
    "    def next_small(self, left, nums):\n",
    "        n = len(nums)\n",
    "        ## nums数组是绝对值升序排列的\n",
    "        ## 要查找的是比nums[left]大的最小值\n",
    "        if nums[left] < 0:\n",
    "            for i in range(left - 1, -1, -1):\n",
    "                if nums[i] < 0:\n",
    "                    return i\n",
    "            for i in range(n):\n",
    "                if nums[i] >= 0:\n",
    "                    return i\n",
    "            return -1\n",
    "        \n",
    "        for i in range(left + 1, n):\n",
    "            if nums[i] >= 0:\n",
    "                return i\n",
    "        return -1\n",
    "    \n",
    "    def next_big(self, right, nums):\n",
    "        n = len(nums)\n",
    "        if nums[right] > 0:\n",
    "            for i in range(right - 1, -1, -1):\n",
    "                if nums[i] > 0:\n",
    "                    return i\n",
    "            for i in range(n):\n",
    "                if nums[i] <= 0:\n",
    "                    return i\n",
    "            return -1\n",
    "        \n",
    "        ## nums[right]<0，比他小的值只可能在right后面，因为\n",
    "        ## nums是绝对值升序的\n",
    "        for i in range(right + 1, n):\n",
    "            if nums[i] <= 0:\n",
    "                return i\n",
    "        return -1\n",
    "\n",
    "            "
   ]
  },
  {
   "cell_type": "code",
   "execution_count": 8,
   "metadata": {},
   "outputs": [
    {
     "name": "stdout",
     "output_type": "stream",
     "text": [
      "3 4\n",
      "1 2\n",
      "1 2\n",
      "0 0\n",
      "[[3, 4], [1, 2]]\n"
     ]
    }
   ],
   "source": [
    "solution = Solution()\n",
    "nums = [0,-1,2,-3,4]\n",
    "target = 1\n",
    "print(solution.twoSumVII(nums, target))"
   ]
  },
  {
   "cell_type": "code",
   "execution_count": null,
   "metadata": {},
   "outputs": [],
   "source": []
  }
 ],
 "metadata": {
  "kernelspec": {
   "display_name": "Python 3",
   "language": "python",
   "name": "python3"
  },
  "language_info": {
   "codemirror_mode": {
    "name": "ipython",
    "version": 3
   },
   "file_extension": ".py",
   "mimetype": "text/x-python",
   "name": "python",
   "nbconvert_exporter": "python",
   "pygments_lexer": "ipython3",
   "version": "3.7.1"
  }
 },
 "nbformat": 4,
 "nbformat_minor": 2
}
