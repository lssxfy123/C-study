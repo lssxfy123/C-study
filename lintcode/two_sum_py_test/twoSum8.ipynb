{
 "cells": [
  {
   "cell_type": "code",
   "execution_count": 2,
   "metadata": {},
   "outputs": [],
   "source": [
    "# Copyright(C) 2021 刘珅珅\n",
    "# Environment: python 3.7\n",
    "# Date: 2021.3.21\n",
    "#  两数和 - 差等于目标值：lintcode 610"
   ]
  },
  {
   "cell_type": "markdown",
   "metadata": {},
   "source": [
    "### 题目要求不使用额外空间，如果可以使用额外空间，直接用哈希表就行了"
   ]
  },
  {
   "cell_type": "markdown",
   "metadata": {},
   "source": [
    "# 同向双指针：\n",
    "### 两根指针，初始状态下i=0,j=1，如果nums[j]-nums[i]<target，由于数组是有序的，说明j要往右移\n",
    "### 如果nums[j]-nums[i]>target，则i往右移，j不动(i+1>j时，要把j置成i+1)"
   ]
  },
  {
   "cell_type": "code",
   "execution_count": 5,
   "metadata": {},
   "outputs": [],
   "source": [
    "## 时间复杂度为O(n)，虽然有两重循环，但i和j都最多遍历数组一遍\n",
    "class Solution:\n",
    "    \"\"\"\n",
    "    @param nums: an array of Integer\n",
    "    @param target: an integer\n",
    "    @return: [num1, num2] (num1 < num2)\n",
    "    \"\"\"\n",
    "    def twoSum7(self, nums, target):\n",
    "        # write your code here\n",
    "        if not nums:\n",
    "            return [-1, -1]\n",
    "        ## target有可能为负值\n",
    "        target = abs(target)\n",
    "        \n",
    "        result = [-1, -1]\n",
    "        j = 1\n",
    "        for i in range(len(nums)):\n",
    "            j = max(j, i + 1)\n",
    "            \n",
    "            ## j向右移动\n",
    "            while j < len(nums) and nums[j] - nums[i] < target:\n",
    "                j += 1\n",
    "            if j >= len(nums):\n",
    "                break\n",
    "            \n",
    "            if nums[j] - nums[i] == target:\n",
    "                return [nums[i], nums[j]]\n",
    "            \n",
    "            ## i向右移动，直接在for循环中移动\n",
    "        return result\n",
    "        \n",
    "            "
   ]
  },
  {
   "cell_type": "code",
   "execution_count": 7,
   "metadata": {},
   "outputs": [
    {
     "name": "stdout",
     "output_type": "stream",
     "text": [
      "[2, 7]\n"
     ]
    }
   ],
   "source": [
    "solution = Solution()\n",
    "nums = [2,7,15,24]\n",
    "target = 5\n",
    "print(solution.twoSum7(nums, target))"
   ]
  },
  {
   "cell_type": "code",
   "execution_count": null,
   "metadata": {},
   "outputs": [],
   "source": []
  }
 ],
 "metadata": {
  "kernelspec": {
   "display_name": "Python 3",
   "language": "python",
   "name": "python3"
  },
  "language_info": {
   "codemirror_mode": {
    "name": "ipython",
    "version": 3
   },
   "file_extension": ".py",
   "mimetype": "text/x-python",
   "name": "python",
   "nbconvert_exporter": "python",
   "pygments_lexer": "ipython3",
   "version": "3.7.1"
  }
 },
 "nbformat": 4,
 "nbformat_minor": 2
}
