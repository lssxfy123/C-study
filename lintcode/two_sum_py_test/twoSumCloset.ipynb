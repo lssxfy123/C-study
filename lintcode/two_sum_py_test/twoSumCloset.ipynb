{
 "cells": [
  {
   "cell_type": "code",
   "execution_count": 2,
   "metadata": {},
   "outputs": [],
   "source": [
    "# Copyright(C) 2021 刘珅珅\n",
    "# Environment: python 3.7\n",
    "# Date: 2021.4.13\n",
    "# 两数和的最接近值：lintcode 533"
   ]
  },
  {
   "cell_type": "code",
   "execution_count": 1,
   "metadata": {},
   "outputs": [],
   "source": [
    "class Solution:\n",
    "    \"\"\"\n",
    "    @param nums: an integer array\n",
    "    @param target: An integer\n",
    "    @return: the difference between the sum and the target\n",
    "    \"\"\"\n",
    "    def twoSumClosest(self, nums, target):\n",
    "        # write your code here\n",
    "        if not nums or len(nums) <= 1:\n",
    "            return -1\n",
    "        \n",
    "        nums.sort()\n",
    "        left, right = 0, len(nums) - 1\n",
    "        min_diff = float('inf')\n",
    "        while left < right:\n",
    "            two_sum = nums[left] + nums[right]\n",
    "            if two_sum < target:\n",
    "                left += 1\n",
    "                min_diff = min(min_diff, target - two_sum)\n",
    "            else:\n",
    "                right -= 1\n",
    "                min_diff = min(min_diff, two_sum - target)\n",
    "        return min_diff\n",
    "            "
   ]
  },
  {
   "cell_type": "code",
   "execution_count": 2,
   "metadata": {},
   "outputs": [
    {
     "name": "stdout",
     "output_type": "stream",
     "text": [
      "1\n"
     ]
    }
   ],
   "source": [
    "solution = Solution()\n",
    "nums = [-1, 2, 1, -4]\n",
    "target = 4\n",
    "print(solution.twoSumClosest(nums, target))"
   ]
  },
  {
   "cell_type": "code",
   "execution_count": null,
   "metadata": {},
   "outputs": [],
   "source": []
  }
 ],
 "metadata": {
  "kernelspec": {
   "display_name": "Python 3",
   "language": "python",
   "name": "python3"
  },
  "language_info": {
   "codemirror_mode": {
    "name": "ipython",
    "version": 3
   },
   "file_extension": ".py",
   "mimetype": "text/x-python",
   "name": "python",
   "nbconvert_exporter": "python",
   "pygments_lexer": "ipython3",
   "version": "3.7.1"
  }
 },
 "nbformat": 4,
 "nbformat_minor": 2
}
