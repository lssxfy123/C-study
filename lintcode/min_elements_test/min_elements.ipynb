{
 "cells": [
  {
   "cell_type": "code",
   "execution_count": 1,
   "metadata": {},
   "outputs": [],
   "source": [
    "# Copyright(C) 2021 刘珅珅\n",
    "# Environment: python 3.7\n",
    "# Date: 2021.3.25\n",
    "# 最小子集：lintcode 761"
   ]
  },
  {
   "cell_type": "code",
   "execution_count": 7,
   "metadata": {},
   "outputs": [],
   "source": [
    "class Solution:\n",
    "    \"\"\"\n",
    "    @param arr:  an array of non-negative integers\n",
    "    @return: minimum number of elements\n",
    "    \"\"\"\n",
    "    def minElements(self, arr):\n",
    "        # write your code here\n",
    "        if not arr:\n",
    "            return 0\n",
    "        \n",
    "        arr.sort(reverse=True)\n",
    "        arr_sum = sum(arr)\n",
    "        half_sum = arr_sum // 2\n",
    "        count = 0\n",
    "        cur_sum = 0\n",
    "        for i in range(len(arr)):\n",
    "            count += 1\n",
    "            cur_sum += arr[i]\n",
    "            if cur_sum > half_sum:\n",
    "                break\n",
    "        \n",
    "        return count\n"
   ]
  },
  {
   "cell_type": "code",
   "execution_count": 8,
   "metadata": {},
   "outputs": [
    {
     "name": "stdout",
     "output_type": "stream",
     "text": [
      "1\n"
     ]
    }
   ],
   "source": [
    "arr = [3,1,7,1]\n",
    "solution = Solution()\n",
    "print(solution.minElements(arr))"
   ]
  },
  {
   "cell_type": "code",
   "execution_count": null,
   "metadata": {},
   "outputs": [],
   "source": []
  }
 ],
 "metadata": {
  "kernelspec": {
   "display_name": "Python 3",
   "language": "python",
   "name": "python3"
  },
  "language_info": {
   "codemirror_mode": {
    "name": "ipython",
    "version": 3
   },
   "file_extension": ".py",
   "mimetype": "text/x-python",
   "name": "python",
   "nbconvert_exporter": "python",
   "pygments_lexer": "ipython3",
   "version": "3.7.1"
  }
 },
 "nbformat": 4,
 "nbformat_minor": 2
}
