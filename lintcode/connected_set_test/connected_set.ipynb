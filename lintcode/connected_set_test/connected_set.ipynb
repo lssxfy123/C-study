{
 "cells": [
  {
   "cell_type": "code",
   "execution_count": 1,
   "metadata": {},
   "outputs": [],
   "source": [
    "# Copyright(C) 2021 刘珅珅\n",
    "# Environment: python 3.7\n",
    "# Date: 2021.4.19\n",
    "# 找无向图的连通块：lintcode 431\n",
    "import collections"
   ]
  },
  {
   "cell_type": "code",
   "execution_count": 2,
   "metadata": {},
   "outputs": [],
   "source": [
    "class Solution:\n",
    "    \"\"\"\n",
    "    @param nodes: a array of Undirected graph node\n",
    "    @return: a connected set of a Undirected graph\n",
    "    \"\"\"\n",
    "    def connectedSet(self, nodes):\n",
    "        # write your code here\n",
    "        if not nodes:\n",
    "            return []\n",
    "        results = []\n",
    "        \n",
    "        ## 连通块：任意两个顶点通过路径相连，不一定所有的顶点都是直接相邻\n",
    "        global_set = set()\n",
    "        for node in nodes:\n",
    "            if node in global_set:\n",
    "                continue\n",
    "            global_set.add(node)\n",
    "            local_set = set([node])\n",
    "            queue = collections.deque([node])\n",
    "            result = []\n",
    "            while queue:\n",
    "                vertex = queue.popleft()\n",
    "                result.append(vertex.label)\n",
    "                for neighbor in vertex.neighbors:\n",
    "                    if neighbor in local_set:\n",
    "                        continue\n",
    "                    local_set.add(neighbor)\n",
    "                    ## 全局已访问的结点也要添加上neighbor\n",
    "                    global_set.add(neighbor)\n",
    "                    queue.append(neighbor)\n",
    "            result.sort()\n",
    "            results.append(result)\n",
    "        return results\n",
    "            \n",
    "        "
   ]
  },
  {
   "cell_type": "code",
   "execution_count": null,
   "metadata": {},
   "outputs": [],
   "source": []
  }
 ],
 "metadata": {
  "kernelspec": {
   "display_name": "Python 3",
   "language": "python",
   "name": "python3"
  },
  "language_info": {
   "codemirror_mode": {
    "name": "ipython",
    "version": 3
   },
   "file_extension": ".py",
   "mimetype": "text/x-python",
   "name": "python",
   "nbconvert_exporter": "python",
   "pygments_lexer": "ipython3",
   "version": "3.7.1"
  }
 },
 "nbformat": 4,
 "nbformat_minor": 2
}
