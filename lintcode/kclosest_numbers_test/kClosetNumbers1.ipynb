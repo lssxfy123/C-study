{
 "cells": [
  {
   "cell_type": "code",
   "execution_count": 1,
   "metadata": {},
   "outputs": [],
   "source": [
    "# Copyright(C) 2021 刘珅珅\n",
    "# Environment: python 3.7\n",
    "# Date: 2021.2.21\n",
    "# 在排序数组中找最接近的K个数：lintcode 460"
   ]
  },
  {
   "cell_type": "code",
   "execution_count": 9,
   "metadata": {},
   "outputs": [],
   "source": [
    "class Solution:\n",
    "    \"\"\"\n",
    "    @param A: an integer array\n",
    "    @param target: An integer\n",
    "    @param k: An integer\n",
    "    @return: an integer array\n",
    "    \"\"\"\n",
    "    def kClosestNumbers(self, A, target, k):\n",
    "        # write your code here\n",
    "        result = []\n",
    "        if not A:\n",
    "            return result\n",
    "        \n",
    "        ## 找到第1个大于等于target的位置，其左边位置的元素就小于target\n",
    "        right = self.find_upper_closest_number(A, target)\n",
    "        left = right - 1  ## A[left] < target\n",
    "        print(left, right)\n",
    "        for _ in range(k):\n",
    "            ## 双指针算法，左边的更接近，将其插入result，左指针减1，右指针不动\n",
    "            if self.is_left_closer(A, left, right, target):\n",
    "                result.append(A[left])\n",
    "                left -= 1\n",
    "            else:\n",
    "                result.append(A[right])\n",
    "                right += 1\n",
    "        return result\n",
    "        \n",
    "    ## 查找第1个大于等于target数，即A[right] >= target\n",
    "    def find_upper_closest_number(self, A, target):\n",
    "        left = 0\n",
    "        right = len(A) - 1\n",
    "    \n",
    "        ## 与查找第1个等于target的二分类似\n",
    "        while (left + 1 < right):\n",
    "            mid = (left + right) // 2           \n",
    "            if A[mid] >= target:\n",
    "                right = mid\n",
    "            else:\n",
    "                left = mid\n",
    "    \n",
    "        ## 因为查找的是第1个大于等于target的数\n",
    "        if A[left] >= target:\n",
    "            return left\n",
    "    \n",
    "        if A[right] >= target:\n",
    "            return right\n",
    "    \n",
    "        ## 如果没有找到，说明A中所有数都小于target，返回A的长度\n",
    "        return len(A)\n",
    "    \n",
    "    ## 判断是否是左边的元素更接近target\n",
    "    def is_left_closer(self, A, left, right, target):\n",
    "        ## 如果left小于0，说明左边没有了元素，剩下的接近target的元素都在右边\n",
    "        if left < 0:\n",
    "            return False\n",
    "        \n",
    "        ## 如果right大于等于len(A)，说明接近target的元素都在左边\n",
    "        if right >= len(A):\n",
    "            return True\n",
    "        \n",
    "        ## A[left]<target，A[right] >= target\n",
    "        ## 如果A[left]和A[right]与target的差距相同，则left在前\n",
    "        return target - A[left] <= A[right] - target\n",
    "  \n",
    "            "
   ]
  },
  {
   "cell_type": "code",
   "execution_count": 10,
   "metadata": {},
   "outputs": [
    {
     "name": "stdout",
     "output_type": "stream",
     "text": [
      "0 1\n",
      "[2, 1, 3]\n"
     ]
    }
   ],
   "source": [
    "solution = Solution()\n",
    "A = [1,2,3]\n",
    "target = 2\n",
    "k = 3\n",
    "print(solution.kClosestNumbers(A, target, k))"
   ]
  },
  {
   "cell_type": "code",
   "execution_count": 67,
   "metadata": {},
   "outputs": [
    {
     "name": "stdout",
     "output_type": "stream",
     "text": [
      "[1]\n",
      "[1, 4, 8, 12]\n"
     ]
    }
   ],
   "source": [
    "A = [1,4,8,12,16,28,38]\n",
    "target = 1\n",
    "k = 4\n",
    "print(kClosestNumbers(A, target, k))"
   ]
  },
  {
   "cell_type": "code",
   "execution_count": 55,
   "metadata": {},
   "outputs": [
    {
     "name": "stdout",
     "output_type": "stream",
     "text": [
      "[10, 6, 4]\n"
     ]
    }
   ],
   "source": [
    "A = [1,4,6,10,20]\n",
    "print(A[-2:-5:-1])"
   ]
  },
  {
   "cell_type": "code",
   "execution_count": null,
   "metadata": {},
   "outputs": [],
   "source": []
  }
 ],
 "metadata": {
  "kernelspec": {
   "display_name": "Python 3",
   "language": "python",
   "name": "python3"
  },
  "language_info": {
   "codemirror_mode": {
    "name": "ipython",
    "version": 3
   },
   "file_extension": ".py",
   "mimetype": "text/x-python",
   "name": "python",
   "nbconvert_exporter": "python",
   "pygments_lexer": "ipython3",
   "version": "3.7.1"
  }
 },
 "nbformat": 4,
 "nbformat_minor": 2
}
