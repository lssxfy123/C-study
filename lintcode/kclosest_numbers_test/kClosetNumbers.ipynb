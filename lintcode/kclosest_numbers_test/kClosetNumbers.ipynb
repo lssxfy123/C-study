{
 "cells": [
  {
   "cell_type": "code",
   "execution_count": 1,
   "metadata": {},
   "outputs": [],
   "source": [
    "# Copyright(C) 2021 刘珅珅\n",
    "# Environment: python 3.7\n",
    "# Date: 2021.1.24\n",
    "# 所有doc文件转换docx"
   ]
  },
  {
   "cell_type": "code",
   "execution_count": 65,
   "metadata": {},
   "outputs": [],
   "source": [
    "def kClosestNumbers(A, target, k):\n",
    "    result = []\n",
    "    if not A:\n",
    "        return result\n",
    "    if k <= 0:\n",
    "        return result\n",
    "    \n",
    "    start = 0\n",
    "    end = len(A) - 1\n",
    "    \n",
    "    ## 二分法查找等于或最接近target的值\n",
    "    while (start + 1 < end):\n",
    "        mid = (start + end) // 2           \n",
    "        if A[mid] == target:  ## 等于target\n",
    "            result.append(A[mid])\n",
    "            break\n",
    "        elif A[mid] < target:\n",
    "            ## target与A[mid]的差距如果大于target与A[mid+1]\n",
    "            ## 则表示要找的目标值肯定在mid到end中间，因为A[mid-1]<A[mid]\n",
    "            ## 它与target的差距只会更大\n",
    "            ## target与A[mid]的差距如果小于或等于target与A[mid+1]\n",
    "            ## 则表示A[mid]就是最接近的值，跳出循环\n",
    "            ## 原因是A[mid-1]<A[mid]，它与target的差距只会更大\n",
    "            ## 而A[mid+1]之后的数组元素都大于或等于A[mid+1]\n",
    "            ## 它们与target的差距也只会更大\n",
    "            if (target - A[mid]) > abs(target - A[mid + 1]):\n",
    "                start = mid\n",
    "            else:\n",
    "                result.append(A[mid])\n",
    "                break\n",
    "        else:\n",
    "            ## target与A[mid]的差距如果大于target与A[mid-1]\n",
    "            ## 则表示要找的目标值肯定在start到mid中间，因为A[mid+1]>A[mid]\n",
    "            ## 它与target的差距只会更大\n",
    "            ## target与A[mid]的差距如果小于或等于target与A[mid-1]\n",
    "            ## 则表示A[mid]就是最接近的值，跳出循环\n",
    "            ## 原因是A[mid-1]<A[mid]，它与target的差距只会更大\n",
    "            ## 而A[mid+1]之后的数组元素都大于或等于A[mid+1]\n",
    "            ## 它们与target的差距也只会更大\n",
    "            if (A[mid] - target) > abs(target - A[mid - 1]):\n",
    "                end = mid\n",
    "            else:\n",
    "                result.append(A[mid])\n",
    "                break\n",
    "    if len(result) == 0:  ## 跳出上述的while循环时，仍然没有找到最接近的值\n",
    "        if abs(A[start] - target) <= abs(A[end] - target):\n",
    "            mid = start\n",
    "            result.append(A[start])\n",
    "        else:\n",
    "            mid = end\n",
    "            result.append(A[end])\n",
    "    print(result)\n",
    "\n",
    "    length = len(A)\n",
    "    left_index = 1\n",
    "    right_index = 1\n",
    "    start = 0\n",
    "    end = len(A) - 1\n",
    "    \n",
    "    ## 查找剩下的k-1个距离target相对近的值\n",
    "    ## 以mid即最接近target的下标为原点\n",
    "    ## 分别向左和向右进行比较，谁更接近target就插入到result中\n",
    "    ## 分别采用两个指针left_index和right_index进行判断\n",
    "    k -= 1\n",
    "    while k > 0:\n",
    "        if mid - left_index >= start:\n",
    "            left = A[mid - left_index]\n",
    "        else:\n",
    "            ## 左指针left_index越界，即mid左边的数组元素已经比较完毕\n",
    "            ## 剩下的k个值肯定都在右边，由于数组本身是排序的，直接\n",
    "            ## 将数组中right_index所指向的元素以及后面的k-1个元素插入到result中\n",
    "            result.extend(A[mid + right_index:mid + right_index + k])\n",
    "            break\n",
    "        if mid + right_index <= end:\n",
    "            right = A[mid + right_index]\n",
    "        else:\n",
    "            ## 右指针right_index越界，即mid右边的数组元素已经比较完毕\n",
    "            ## 剩下的k个值肯定都在左边，数组本身是升序排序的，由于要求\n",
    "            ## 结果按接近程序排序，所以要将数组左指针所指向的元素mid-left_index\n",
    "            ## 以及前面的k-1个元素倒序插入到result中\n",
    "            result.extend(A[-(length -(mid - left_index)):-(length -(mid - left_index)) - k:-1])\n",
    "            break\n",
    "        \n",
    "        ## 左边更接近，将left插入result并将左指针left_index加1\n",
    "        if abs(left - target) <= abs(right - target):\n",
    "            result.append(left)\n",
    "            left_index += 1\n",
    "        else:  ## 右边更接近，将right插入result并将左指针right_index加1\n",
    "            result.append(right)\n",
    "            right_index += 1\n",
    "        k -= 1\n",
    "    return result\n",
    "            "
   ]
  },
  {
   "cell_type": "code",
   "execution_count": 66,
   "metadata": {},
   "outputs": [
    {
     "name": "stdout",
     "output_type": "stream",
     "text": [
      "[25]\n",
      "[25, 35, 15, 45, 10, 50, 1]\n"
     ]
    }
   ],
   "source": [
    "A = [1,10,15,25,35,45,50,59]\n",
    "target = 30\n",
    "k = 7\n",
    "print(kClosestNumbers(A, target, k))"
   ]
  },
  {
   "cell_type": "code",
   "execution_count": 67,
   "metadata": {},
   "outputs": [
    {
     "name": "stdout",
     "output_type": "stream",
     "text": [
      "[1]\n",
      "[1, 4, 8, 12]\n"
     ]
    }
   ],
   "source": [
    "A = [1,4,8,12,16,28,38]\n",
    "target = 1\n",
    "k = 4\n",
    "print(kClosestNumbers(A, target, k))"
   ]
  },
  {
   "cell_type": "code",
   "execution_count": 55,
   "metadata": {},
   "outputs": [
    {
     "name": "stdout",
     "output_type": "stream",
     "text": [
      "[10, 6, 4]\n"
     ]
    }
   ],
   "source": [
    "A = [1,4,6,10,20]\n",
    "print(A[-2:-5:-1])"
   ]
  },
  {
   "cell_type": "code",
   "execution_count": null,
   "metadata": {},
   "outputs": [],
   "source": []
  }
 ],
 "metadata": {
  "kernelspec": {
   "display_name": "Python 3",
   "language": "python",
   "name": "python3"
  },
  "language_info": {
   "codemirror_mode": {
    "name": "ipython",
    "version": 3
   },
   "file_extension": ".py",
   "mimetype": "text/x-python",
   "name": "python",
   "nbconvert_exporter": "python",
   "pygments_lexer": "ipython3",
   "version": "3.7.1"
  }
 },
 "nbformat": 4,
 "nbformat_minor": 2
}
