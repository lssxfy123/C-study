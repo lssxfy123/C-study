{
 "cells": [
  {
   "cell_type": "code",
   "execution_count": 1,
   "metadata": {},
   "outputs": [],
   "source": [
    "# Copyright(C) 2020 刘珅珅\n",
    "# Environment: python 3.7\n",
    "# Date: 2020.8.7\n",
    "# 所有doc文件转换docx\n",
    "import os\n",
    "import re\n",
    "import datetime"
   ]
  },
  {
   "cell_type": "code",
   "execution_count": 7,
   "metadata": {},
   "outputs": [],
   "source": [
    "def kClosestNumbers(A, target, k):\n",
    "    result = []\n",
    "    if not A:\n",
    "        return result\n",
    "    if len(A) <= k:\n",
    "        return A\n",
    "    \n",
    "    start = 0\n",
    "    end = len(A) - 1\n",
    "    while (start + 1 < end):\n",
    "        mid = (start + end) // 2           \n",
    "        if A[mid] == target:\n",
    "            break\n",
    "        elif A[mid] < target:\n",
    "            if (target - A[mid]) > abs(target - A[mid + 1]):\n",
    "                start = mid\n",
    "            else:\n",
    "                break\n",
    "        else:\n",
    "            if (A[mid] - target) < abs(target - A[mid - 1]):\n",
    "                end = mid\n",
    "            else:\n",
    "                break\n",
    "    result.append(A[mid])  \n",
    "    k -= 1\n",
    "    start = 0\n",
    "    end = len(A) - 1\n",
    "    while k > 0:\n",
    "        if mid\n",
    "    return result\n",
    "            "
   ]
  },
  {
   "cell_type": "code",
   "execution_count": 8,
   "metadata": {},
   "outputs": [
    {
     "name": "stdout",
     "output_type": "stream",
     "text": [
      "[4]\n"
     ]
    }
   ],
   "source": [
    "A = [1, 4, 6, 8]\n",
    "target = 3\n",
    "k = 3\n",
    "print(kClosestNumbers(A, target, 3))"
   ]
  },
  {
   "cell_type": "code",
   "execution_count": 10,
   "metadata": {},
   "outputs": [
    {
     "name": "stdout",
     "output_type": "stream",
     "text": [
      "[2]\n"
     ]
    }
   ],
   "source": [
    "A = [1, 2, 3, 4]\n",
    "target = 2\n",
    "k = 3\n",
    "print(kClosestNumbers(A, target, 3))"
   ]
  },
  {
   "cell_type": "code",
   "execution_count": null,
   "metadata": {},
   "outputs": [],
   "source": []
  }
 ],
 "metadata": {
  "kernelspec": {
   "display_name": "Python 3",
   "language": "python",
   "name": "python3"
  },
  "language_info": {
   "codemirror_mode": {
    "name": "ipython",
    "version": 3
   },
   "file_extension": ".py",
   "mimetype": "text/x-python",
   "name": "python",
   "nbconvert_exporter": "python",
   "pygments_lexer": "ipython3",
   "version": "3.7.1"
  }
 },
 "nbformat": 4,
 "nbformat_minor": 2
}
