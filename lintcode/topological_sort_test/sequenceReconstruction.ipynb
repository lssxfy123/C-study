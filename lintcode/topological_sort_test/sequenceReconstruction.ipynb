{
 "cells": [
  {
   "cell_type": "code",
   "execution_count": 1,
   "metadata": {},
   "outputs": [],
   "source": [
    "# Copyright(C) 2021 刘珅珅\n",
    "# Environment: python 3.7\n",
    "# Date: 2021.3.6\n",
    "# 序列重构：lintcode 605\n",
    "import collections"
   ]
  },
  {
   "cell_type": "code",
   "execution_count": 4,
   "metadata": {},
   "outputs": [],
   "source": [
    "class Solution:\n",
    "    \"\"\"\n",
    "    @param org: a permutation of the integers from 1 to n\n",
    "    @param seqs: a list of sequences\n",
    "    @return: true if it can be reconstructed only one or false\n",
    "    \"\"\"\n",
    "    def sequenceReconstruction(self, org, seqs):\n",
    "        # write your code here\n",
    "        \n",
    "        ## 建图\n",
    "        graph = self.build_graph(seqs)\n",
    "        \n",
    "        ## 计算入度\n",
    "        in_degree = self.get_indegree(graph)\n",
    "        \n",
    "        ## 入度为0的结点\n",
    "        start_nodes = [node for node in graph if in_degree[node] == 0]\n",
    "        queue = collections.deque(start_nodes)\n",
    "        orders = []  ## 需要获取最终的拓扑序，来判断是否存在拓扑序\n",
    "        \n",
    "        while queue:\n",
    "            ## 队列中是入度为0的结点，如果同一时刻有多个入度为0的结点\n",
    "            ## 则拓扑序要么没有，要么肯定不止一个\n",
    "            if len(queue) > 1:\n",
    "                return False\n",
    "            node = queue.popleft()\n",
    "            orders.append(node)\n",
    "            \n",
    "            for neighbor in graph[node]:\n",
    "                in_degree[neighbor] -= 1\n",
    "                if in_degree[neighbor] == 0:\n",
    "                    queue.append(neighbor)\n",
    "        \n",
    "        ## 没有拓扑序\n",
    "        if len(orders) != len(graph):\n",
    "            return False\n",
    "        \n",
    "        return orders == org\n",
    "    \n",
    "    def build_graph(self, seqs):\n",
    "        graph = {}\n",
    "        \n",
    "        ## sep 1. 将seqs中所有不同的值都作为图的结点\n",
    "        for seq in seqs:\n",
    "            for node in seq:\n",
    "                if node not in graph:\n",
    "                    graph[node] = set()\n",
    "        \n",
    "        ## 添加邻接点\n",
    "        for seq in seqs:\n",
    "            ## 每个序列中，后一个结点是前一个结点的邻接点\n",
    "            for i in range(1, len(seq)):\n",
    "                graph[seq[i - 1]].add(seq[i])\n",
    "            \n",
    "        return graph\n",
    "    \n",
    "    def get_indegree(self, graph):\n",
    "        in_degree = {node : 0 for node in graph}\n",
    "        \n",
    "        for node in graph:\n",
    "            for neighbor in graph[node]:\n",
    "                in_degree[neighbor] += 1\n",
    "        return in_degree\n",
    "        \n",
    "\n",
    "\n",
    "        "
   ]
  },
  {
   "cell_type": "code",
   "execution_count": 7,
   "metadata": {},
   "outputs": [
    {
     "name": "stdout",
     "output_type": "stream",
     "text": [
      "True\n"
     ]
    }
   ],
   "source": [
    "solution = Solution()\n",
    "org = [4,1,5,2,6,3]\n",
    "seqs = [[5,2,6,3],[4,1,5,2]]\n",
    "# org = [1,2,3]\n",
    "# seqs = [[1,2],[1,3],[2,3]]\n",
    "# org = [1,2,3]\n",
    "# seqs = [[1,2],[1,3]]\n",
    "print(solution.sequenceReconstruction(org, seqs))"
   ]
  },
  {
   "cell_type": "code",
   "execution_count": 1,
   "metadata": {},
   "outputs": [
    {
     "data": {
      "text/plain": [
       "range(0, 0)"
      ]
     },
     "execution_count": 1,
     "metadata": {},
     "output_type": "execute_result"
    }
   ],
   "source": []
  },
  {
   "cell_type": "code",
   "execution_count": null,
   "metadata": {},
   "outputs": [],
   "source": []
  }
 ],
 "metadata": {
  "kernelspec": {
   "display_name": "Python 3",
   "language": "python",
   "name": "python3"
  },
  "language_info": {
   "codemirror_mode": {
    "name": "ipython",
    "version": 3
   },
   "file_extension": ".py",
   "mimetype": "text/x-python",
   "name": "python",
   "nbconvert_exporter": "python",
   "pygments_lexer": "ipython3",
   "version": "3.7.1"
  }
 },
 "nbformat": 4,
 "nbformat_minor": 2
}
