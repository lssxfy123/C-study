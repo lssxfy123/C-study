{
 "cells": [
  {
   "cell_type": "code",
   "execution_count": 1,
   "metadata": {},
   "outputs": [],
   "source": [
    "# Copyright(C) 2021 刘珅珅\n",
    "# Environment: python 3.7\n",
    "# Date: 2021.4.15\n",
    "# 安排课程：lintcode 615\n",
    "import collections"
   ]
  },
  {
   "cell_type": "code",
   "execution_count": 15,
   "metadata": {},
   "outputs": [],
   "source": [
    "class Solution:\n",
    "    \"\"\"\n",
    "    @param numCourses: a total of n courses\n",
    "    @param prerequisites: a list of prerequisite pairs\n",
    "    @return: true if can finish all courses or false\n",
    "    \"\"\"\n",
    "    def canFinish(self, numCourses, prerequisites):\n",
    "        # write your code here\n",
    "        if not numCourses:\n",
    "            return False\n",
    "        \n",
    "        ## 建图\n",
    "        graph = [[] for _ in range(numCourses)]\n",
    "        \n",
    "        ## 入度\n",
    "        in_degree = [0] * numCourses\n",
    "        \n",
    "        ## 根据题目中prerequisites的定义，\n",
    "        ## node_out指向node_in。例如[[1, 0], [2, 0]]表示要学习课程0，必须修课程1或课程2\n",
    "        ## 用图表示就是0分别指向1和2\n",
    "        for node_in, node_out in prerequisites:\n",
    "            graph[node_out].append(node_in)\n",
    "            in_degree[node_in] += 1\n",
    "        \n",
    "        ## 拓扑序\n",
    "        order = []\n",
    "        \n",
    "        ## 入度为0的点\n",
    "        start_nodes = [i for i in range(len(in_degree)) if in_degree[i] == 0]\n",
    "        queue = collections.deque(start_nodes)\n",
    "        num_choose = 0\n",
    "        print(start_nodes)\n",
    "        while queue:\n",
    "            node = queue.popleft()\n",
    "            order.append(node)\n",
    "            num_choose += 1\n",
    "            \n",
    "            for neighbor in graph[node]:\n",
    "                in_degree[neighbor] -= 1\n",
    "                print(in_degree)\n",
    "                if in_degree[neighbor] == 0:\n",
    "                    queue.append(neighbor)\n",
    "        print(order)\n",
    "        return num_choose == numCourses"
   ]
  },
  {
   "cell_type": "code",
   "execution_count": 16,
   "metadata": {},
   "outputs": [
    {
     "name": "stdout",
     "output_type": "stream",
     "text": [
      "[0]\n",
      "[0, 0]\n",
      "[0, 1]\n",
      "True\n"
     ]
    }
   ],
   "source": [
    "solution = Solution()\n",
    "n = 2\n",
    "prerequisites = []\n",
    "prerequisites = [[1,0],[0,1]]\n",
    "prerequisites = [[1,0]] \n",
    "print(solution.canFinish(n, prerequisites))"
   ]
  },
  {
   "cell_type": "code",
   "execution_count": null,
   "metadata": {},
   "outputs": [],
   "source": []
  }
 ],
 "metadata": {
  "kernelspec": {
   "display_name": "Python 3",
   "language": "python",
   "name": "python3"
  },
  "language_info": {
   "codemirror_mode": {
    "name": "ipython",
    "version": 3
   },
   "file_extension": ".py",
   "mimetype": "text/x-python",
   "name": "python",
   "nbconvert_exporter": "python",
   "pygments_lexer": "ipython3",
   "version": "3.7.1"
  }
 },
 "nbformat": 4,
 "nbformat_minor": 2
}
