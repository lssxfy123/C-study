{
 "cells": [
  {
   "cell_type": "code",
   "execution_count": 10,
   "metadata": {},
   "outputs": [],
   "source": [
    "# Copyright(C) 2021 刘珅珅\n",
    "# Environment: python 3.7\n",
    "# Date: 2021.3.5\n",
    "# 拓扑排序：lintcode 127\n",
    "import collections"
   ]
  },
  {
   "cell_type": "code",
   "execution_count": 11,
   "metadata": {},
   "outputs": [],
   "source": [
    "class Solution:\n",
    "    \"\"\"\n",
    "    @param: graph: A list of Directed graph node\n",
    "    @return: Any topological order for the given graph.\n",
    "    \"\"\"\n",
    "    def topSort(self, graph):\n",
    "        # write your code here\n",
    "        if not graph:\n",
    "            return None\n",
    "        \n",
    "        ## 查找所有结点的入度\n",
    "        node_to_indegree self.get_indegree(graph)\n",
    "        \n",
    "        ## bfs\n",
    "        order = []\n",
    "        \n",
    "        ## 所有入度为0的点\n",
    "        start_nodes = [node for node in graph if node_to_indegree[node] == 0]\n",
    "        queue = collections.deque(start_nodes)\n",
    "        \n",
    "        while queue:\n",
    "            node = queue.popleft()\n",
    "            order.append(node)  ## 出队的顺序就是拓扑序\n",
    "            \n",
    "            for neighbor in node.neighbors:\n",
    "                node_to_indegree[neighbor] -= 1  ## 弹出node后，它的所有邻接点的入度减1\n",
    "                ## node_to_indegree起到了其他BFS算法中visited的作用，最后一次访问它时，它的入度为0，才会进入队列\n",
    "                if node_to_indegree[neighbor] == 0:\n",
    "                    queue.append(neighbor)\n",
    "        return order\n",
    "        \n",
    "    \n",
    "    def get_indegree(self, graph):\n",
    "        node_to_indegree = {x : 0 for x in graph}\n",
    "        \n",
    "        for node in graph:\n",
    "            for neighbor in node.neighbors:\n",
    "                node_to_indegree[neighbor] += 1\n",
    "        return node_to_indegree"
   ]
  },
  {
   "cell_type": "code",
   "execution_count": null,
   "metadata": {},
   "outputs": [],
   "source": []
  }
 ],
 "metadata": {
  "kernelspec": {
   "display_name": "Python 3",
   "language": "python",
   "name": "python3"
  },
  "language_info": {
   "codemirror_mode": {
    "name": "ipython",
    "version": 3
   },
   "file_extension": ".py",
   "mimetype": "text/x-python",
   "name": "python",
   "nbconvert_exporter": "python",
   "pygments_lexer": "ipython3",
   "version": "3.7.1"
  }
 },
 "nbformat": 4,
 "nbformat_minor": 2
}
