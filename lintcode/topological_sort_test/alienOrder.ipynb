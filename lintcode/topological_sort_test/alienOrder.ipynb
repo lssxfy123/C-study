{
 "cells": [
  {
   "cell_type": "code",
   "execution_count": 2,
   "metadata": {},
   "outputs": [],
   "source": [
    "# Copyright(C) 2021 刘珅珅\n",
    "# Environment: python 3.7\n",
    "# Date: 2021.3.7\n",
    "# 外星人字典：lintcode 892\n",
    "import collections\n",
    "from heapq import heappush, heappop, heapify"
   ]
  },
  {
   "cell_type": "code",
   "execution_count": 11,
   "metadata": {},
   "outputs": [],
   "source": [
    "class Solution:\n",
    "    \"\"\"\n",
    "    @param words: a list of words\n",
    "    @return: a string which is correct order\n",
    "    \"\"\"\n",
    "    def alienOrder(self, words):\n",
    "        # Write your code here  \n",
    "        graph = self.build_graph(words)\n",
    "        if not graph:\n",
    "            return \"\"\n",
    "        \n",
    "        in_degree = self.get_indegree(graph)\n",
    "        \n",
    "        ## 入度为0的结点\n",
    "        queue = [node for node in graph if in_degree[node] == 0]\n",
    "        order = []\n",
    "        \n",
    "        ## 优先队列\n",
    "        ## 拓扑排序有可能会有多个情况， 题目要求最小的字典序，所以使用优先队列，每次弹出最小的入度为0的结点\n",
    "        heapify(queue)\n",
    "        \n",
    "        while queue:\n",
    "            node = heappop(queue)\n",
    "            order.append(node)\n",
    "            \n",
    "            for neighbor in graph[node]:\n",
    "                in_degree[neighbor] -= 1\n",
    "                if in_degree[neighbor] == 0:\n",
    "                    heappush(queue, neighbor)\n",
    "        \n",
    "        ## order比较的对象是图，而不是words\n",
    "        if len(order) == len(graph):\n",
    "            return \"\".join(order)\n",
    "        return \"\"\n",
    "    \n",
    "    def build_graph(self, words):\n",
    "        graph = {}\n",
    "        \n",
    "        ## 所有出现在每个字符串中的不同字符都是一个结点\n",
    "        for word in words:\n",
    "            for ch in word:\n",
    "                if ch not in graph:\n",
    "                    graph[ch] = set()\n",
    "        \n",
    "        ## 添加邻接点:words中的每个字符串是在新语言的规则下按字典序排序的，也就是说前一个单词按字典序是排在后一个单词的前面\n",
    "        ## [\"wrt\", \"wrf\"]中单词\"wrt\"排在\"wrf\"前面，它们的前两个字符相同，所以第3个字符\"t\"在字典序中肯定在\"f\"之前，否则wrt不会在\n",
    "        ## wrf之前，在拓扑排序中表示: r -> f，f是r的邻接点\n",
    "        length = len(words)\n",
    "        for i in range(length - 1):\n",
    "            ## 取前一个字符串和后一个字符串长度的较小值\n",
    "            for j in range(min(len(words[i]), len(words[i + 1]))):\n",
    "                if words[i][j] != words[i + 1][j]:\n",
    "                    graph[words[i][j]].add(words[i + 1][j])\n",
    "                    break  ## 每次只能判断一个字符\n",
    "            else:\n",
    "                ## 如果words[i]和words[i + 1]的前k个字符都相同，k为words[i]和word[i + 1]长度的较小值\n",
    "                ## 同时words[i]长度大于words[i + 1]，说明words的顺序是无效的，图不存在\n",
    "                if len(words[i]) > len(words[i + 1]):\n",
    "                    return None\n",
    "        return graph\n",
    "        \n",
    "    def get_indegree(self, graph):\n",
    "        in_degree = {node : 0 for node in graph}\n",
    "        \n",
    "        for node in graph:\n",
    "            for neighbor in graph[node]:\n",
    "                in_degree[neighbor] += 1\n",
    "        return in_degree\n",
    "            \n",
    "            "
   ]
  },
  {
   "cell_type": "code",
   "execution_count": 12,
   "metadata": {},
   "outputs": [
    {
     "name": "stdout",
     "output_type": "stream",
     "text": [
      "wertf\n"
     ]
    }
   ],
   "source": [
    "solution = Solution()\n",
    "words = [\"wrt\",\"wrf\",\"er\",\"ett\",\"rftt\"]\n",
    "print(solution.alienOrder(words))"
   ]
  },
  {
   "cell_type": "code",
   "execution_count": 1,
   "metadata": {},
   "outputs": [
    {
     "data": {
      "text/plain": [
       "range(0, 0)"
      ]
     },
     "execution_count": 1,
     "metadata": {},
     "output_type": "execute_result"
    }
   ],
   "source": []
  },
  {
   "cell_type": "code",
   "execution_count": null,
   "metadata": {},
   "outputs": [],
   "source": []
  }
 ],
 "metadata": {
  "kernelspec": {
   "display_name": "Python 3",
   "language": "python",
   "name": "python3"
  },
  "language_info": {
   "codemirror_mode": {
    "name": "ipython",
    "version": 3
   },
   "file_extension": ".py",
   "mimetype": "text/x-python",
   "name": "python",
   "nbconvert_exporter": "python",
   "pygments_lexer": "ipython3",
   "version": "3.7.1"
  }
 },
 "nbformat": 4,
 "nbformat_minor": 2
}
