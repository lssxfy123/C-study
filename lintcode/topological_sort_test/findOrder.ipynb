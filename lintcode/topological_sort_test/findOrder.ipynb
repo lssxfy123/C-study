{
 "cells": [
  {
   "cell_type": "code",
   "execution_count": 3,
   "metadata": {},
   "outputs": [],
   "source": [
    "# Copyright(C) 2021 刘珅珅\n",
    "# Environment: python 3.7\n",
    "# Date: 2021.3.5\n",
    "# 安排课程：lintcode 616\n",
    "import collections"
   ]
  },
  {
   "cell_type": "code",
   "execution_count": 11,
   "metadata": {},
   "outputs": [],
   "source": [
    "class Solution:\n",
    "    \"\"\"\n",
    "    @param: graph: A list of Directed graph node\n",
    "    @return: Any topological order for the given graph.\n",
    "    \"\"\"\n",
    "    def findOrder(self, numCourses, prerequisites):\n",
    "        # write your code here\n",
    "        ## 如果prerequisites为空，numCourses不为0\n",
    "        ## 表明修任何课都不需要先修其他课，例如numCourses = 1，输出应为[0]\n",
    "        ## numCourses = 2，输出应为[0, 1]\n",
    "        if not numCourses:\n",
    "            return []\n",
    "        \n",
    "        ## 建立图，参数给出的不是图\n",
    "        ## graph是一个包含numCourses个空list的list\n",
    "        ## 其下标就是课程标号，对应的空list就是要放入的邻接点neighbors\n",
    "        graph = [[] for _ in range(numCourses)]\n",
    "        in_degree = [0] * numCourses\n",
    "        \n",
    "        ## 根据题目中prerequisites的定义，\n",
    "        ## node_out指向node_in。例如[[1, 0], [2, 0]]表示要学习课程0，必须修课程1或课程2\n",
    "        ## 用图表示就是0分别指向1和2\n",
    "        for node_in, node_out in prerequisites:\n",
    "            graph[node_out].append(node_in)\n",
    "            in_degree[node_in] += 1\n",
    "        \n",
    "        order = []\n",
    "        \n",
    "        ## 查找图中所有入度为0的结点\n",
    "        start_nodes = [i for i in range(len(in_degree)) if in_degree[i] == 0]\n",
    "        queue = collections.deque(start_nodes)\n",
    "        num_choose = 0\n",
    "        \n",
    "        while queue:\n",
    "            now = queue.popleft()\n",
    "            order.append(now)  ## 出队的顺序就是拓扑序\n",
    "            num_choose += 1  ## 用来记录多少个结点进入了拓扑序\n",
    "            \n",
    "            for next in graph[now]:  ## graph[now]就是now的所有邻接点\n",
    "                in_degree[next] -= 1  ## 所有邻接点的入度减1\n",
    "                if in_degree[next] == 0:\n",
    "                    queue.append(next)\n",
    "        \n",
    "        ## 存在拓扑序\n",
    "        if num_choose == numCourses:\n",
    "            return order\n",
    "        return []\n",
    "        "
   ]
  },
  {
   "cell_type": "code",
   "execution_count": 12,
   "metadata": {},
   "outputs": [
    {
     "name": "stdout",
     "output_type": "stream",
     "text": [
      "[0, 1] [0, 0]\n",
      "[0, 1]\n"
     ]
    }
   ],
   "source": [
    "solution = Solution()\n",
    "n = 2\n",
    "prerequisites = []\n",
    "\n",
    "print(solution.findOrder(n, prerequisites))"
   ]
  },
  {
   "cell_type": "code",
   "execution_count": null,
   "metadata": {},
   "outputs": [],
   "source": []
  }
 ],
 "metadata": {
  "kernelspec": {
   "display_name": "Python 3",
   "language": "python",
   "name": "python3"
  },
  "language_info": {
   "codemirror_mode": {
    "name": "ipython",
    "version": 3
   },
   "file_extension": ".py",
   "mimetype": "text/x-python",
   "name": "python",
   "nbconvert_exporter": "python",
   "pygments_lexer": "ipython3",
   "version": "3.7.1"
  }
 },
 "nbformat": 4,
 "nbformat_minor": 2
}
