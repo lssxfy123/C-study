{
 "cells": [
  {
   "cell_type": "code",
   "execution_count": 1,
   "metadata": {},
   "outputs": [],
   "source": [
    "# Copyright(C) 2021 刘珅珅\n",
    "# Environment: python 3.7\n",
    "# Date: 2021.3.21\n",
    "# 最多有k个不同字符的最长子字符串：lintcode 386"
   ]
  },
  {
   "cell_type": "markdown",
   "metadata": {},
   "source": [
    "# 同向双指针"
   ]
  },
  {
   "cell_type": "code",
   "execution_count": 9,
   "metadata": {},
   "outputs": [],
   "source": [
    "class Solution:\n",
    "    \"\"\"\n",
    "    @param s: A string\n",
    "    @param k: An integer\n",
    "    @return: An integer\n",
    "    \"\"\"\n",
    "    def lengthOfLongestSubstringKDistinct(self, s, k):\n",
    "        # write your code here\n",
    "        if not s or k == 0:\n",
    "            return 0\n",
    "        \n",
    "        left = 0\n",
    "        counter = {}\n",
    "        longest = 0\n",
    "        for right in range(len(s)):\n",
    "            ## 记录每个字符出现的个数\n",
    "            counter[s[right]] = counter.get(s[right], 0) + 1\n",
    "            \n",
    "            ## 如果记录表中的字符个数大于k个，则需要删除1个字符，保持counter中的不同字符个数为k\n",
    "            ## 删除的方法是从left开始，从左向右依次把s[left]对应的字符数减1，直到有字符出现的次数为0，然后把它从counter中删除掉\n",
    "            ## 这样删除的原因是题目要求的子串的长度，所以不能改变字符的顺序，也不能直接去删除出现次数最少的字符\n",
    "            ## while的循环条件保证了肯定counter中肯定会删除一个字符，因为left到right之间的距离就是counter所有新增字符的次数总和\n",
    "            while left <= right and len(counter) > k:\n",
    "                ## s[left]肯定在哈希表中，因为哈希表存储的是从0到right的所有字符每个字符出现的个数\n",
    "                ## 将左指针对应的字符的个数减1\n",
    "                counter[s[left]] -= 1\n",
    "                if counter[s[left]] == 0:\n",
    "                    del counter[s[left]]\n",
    "                \n",
    "                left += 1\n",
    "                \n",
    "            longest = max(longest, right - left + 1)\n",
    "        return longest\n"
   ]
  },
  {
   "cell_type": "code",
   "execution_count": 10,
   "metadata": {},
   "outputs": [
    {
     "name": "stdout",
     "output_type": "stream",
     "text": [
      "4\n"
     ]
    }
   ],
   "source": [
    "s = \"eceba\"\n",
    "k = 3\n",
    "s = \"WORLD\"\n",
    "k = 4\n",
    "solution = Solution()\n",
    "print(solution.lengthOfLongestSubstringKDistinct(s, k))"
   ]
  },
  {
   "cell_type": "code",
   "execution_count": null,
   "metadata": {},
   "outputs": [],
   "source": []
  }
 ],
 "metadata": {
  "kernelspec": {
   "display_name": "Python 3",
   "language": "python",
   "name": "python3"
  },
  "language_info": {
   "codemirror_mode": {
    "name": "ipython",
    "version": 3
   },
   "file_extension": ".py",
   "mimetype": "text/x-python",
   "name": "python",
   "nbconvert_exporter": "python",
   "pygments_lexer": "ipython3",
   "version": "3.7.1"
  }
 },
 "nbformat": 4,
 "nbformat_minor": 2
}
