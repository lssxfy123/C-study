{
 "cells": [
  {
   "cell_type": "code",
   "execution_count": 2,
   "metadata": {},
   "outputs": [],
   "source": [
    "# Copyright(C) 2021 刘珅珅\n",
    "# Environment: python 3.7\n",
    "# Date: 2021.4.5\n",
    "# 滑动拼图 II：lintcode 794"
   ]
  },
  {
   "cell_type": "markdown",
   "metadata": {},
   "source": [
    "# 时间复杂度"
   ]
  },
  {
   "cell_type": "code",
   "execution_count": 6,
   "metadata": {},
   "outputs": [],
   "source": [
    "import collections\n",
    "\n",
    "class Solution:\n",
    "    \"\"\"\n",
    "    @param init_state: the initial state of chessboard\n",
    "    @param final_state: the final state of chessboard\n",
    "    @return: return an integer, denote the number of minimum moving\n",
    "    \"\"\"\n",
    "    def minMoveStep(self, init_state, final_state):\n",
    "        # # write your code here\n",
    "        ## 首先把init_state, final_state转换为字符串，这是为了方便后续的比较\n",
    "        source = self.matrix_to_string(init_state)\n",
    "        target = self.matrix_to_string(final_state)\n",
    "        \n",
    "        queue = collections.deque([source])\n",
    "        distance = {source : 0}\n",
    "        \n",
    "        while queue:\n",
    "            current = queue.popleft()\n",
    "            if current == target:\n",
    "                return distance[current]\n",
    "            for next_str in self.get_next_states(current):\n",
    "                if next_str in distance:\n",
    "                    continue\n",
    "                queue.append(next_str)\n",
    "                distance[next_str] = distance[current] + 1\n",
    "        return -1\n",
    "    \n",
    "    def get_next_states(self, current):\n",
    "        directions = [(1, 0), (-1, 0), (0, 1), (0, -1)]\n",
    "        zero_index = current.find('0')\n",
    "        states = []\n",
    "        \n",
    "        ## 二维坐标转一维坐标：index = x * m + y\n",
    "        ## 反过来, x, y = index // m, index % m\n",
    "        zero_x, zero_y = zero_index // 3, zero_index % 3\n",
    "        \n",
    "        for dx, dy in directions:\n",
    "            new_x, new_y = zero_x + dx, zero_y + dy\n",
    "            if new_x < 0 or new_x >= 3 or new_y < 0 or new_y >= 3:\n",
    "                continue\n",
    "            ## 字符串不能直接修改，先转换为列表\n",
    "            next_state = list(current)\n",
    "            replace_index = new_x * 3 + new_y\n",
    "            ## 把'0'和replace_index的字符进行交换\n",
    "            next_state[zero_index] = next_state[replace_index]\n",
    "            next_state[replace_index] = '0'\n",
    "            states.append(\"\".join(next_state))\n",
    "        return states\n",
    "        \n",
    "    def matrix_to_string(self, matrix):\n",
    "        result = []\n",
    "        for i in range(3):\n",
    "            for j in range(3):\n",
    "                result.append(str(matrix[i][j]))\n",
    "        return \"\".join(result)"
   ]
  },
  {
   "cell_type": "code",
   "execution_count": 7,
   "metadata": {},
   "outputs": [
    {
     "name": "stdout",
     "output_type": "stream",
     "text": [
      "4\n"
     ]
    }
   ],
   "source": [
    "init_state = [[2,8,3],[1,0,4],[7,6,5]]\n",
    "final_state = [[1,2,3],[8,0,4],[7,6,5]]\n",
    "solution = Solution()\n",
    "print(solution.minMoveStep(init_state, final_state))"
   ]
  },
  {
   "cell_type": "code",
   "execution_count": null,
   "metadata": {},
   "outputs": [],
   "source": []
  }
 ],
 "metadata": {
  "kernelspec": {
   "display_name": "Python 3",
   "language": "python",
   "name": "python3"
  },
  "language_info": {
   "codemirror_mode": {
    "name": "ipython",
    "version": 3
   },
   "file_extension": ".py",
   "mimetype": "text/x-python",
   "name": "python",
   "nbconvert_exporter": "python",
   "pygments_lexer": "ipython3",
   "version": "3.7.1"
  }
 },
 "nbformat": 4,
 "nbformat_minor": 2
}
