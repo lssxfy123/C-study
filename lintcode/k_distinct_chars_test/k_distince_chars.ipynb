{
 "cells": [
  {
   "cell_type": "code",
   "execution_count": 1,
   "metadata": {},
   "outputs": [],
   "source": [
    "# Copyright(C) 2021 刘珅珅\n",
    "# Environment: python 3.7\n",
    "# Date: 2021.4.4\n",
    "# 至少K个不同字符的子串：lintcode 1375"
   ]
  },
  {
   "cell_type": "code",
   "execution_count": 3,
   "metadata": {},
   "outputs": [],
   "source": [
    "class Solution:\n",
    "    \"\"\"\n",
    "    @param s: a string\n",
    "    @param k: an integer\n",
    "    @return: the number of substrings there are that contain at least k distinct characters\n",
    "    \"\"\"\n",
    "    def kDistinctCharacters(self, s, k):\n",
    "        # Write your code here\n",
    "        if not s or len(s) < k:\n",
    "            return 0\n",
    "        \n",
    "        result = 0\n",
    "        right = 0\n",
    "        n = len(s)\n",
    "        char_to_count = {}\n",
    "        \n",
    "        \"\"\"\n",
    "        解题思路：同向双指针，先固定left，right一直向右移动，直到子串中包含k个不同字符，\n",
    "        这样从left开始，到right之后的子串肯定也包含至少k个不同字符，统计完以left开头的k个不同字符子串后，\n",
    "        把s[left]对应的字符个数减1，再移动left指针，继续之前的循环操作\n",
    "        \"\"\"\n",
    "        for left in range(n):\n",
    "            while len(char_to_count) < k and right < n:\n",
    "                char_to_count[s[right]] = char_to_count.get(s[right], 0) + 1\n",
    "                right += 1\n",
    "            \n",
    "            ## 从left到right包含了k个不同的字符，则从left开始，到right之后的位置构成的子串肯定最少包含k个字符\n",
    "            if len(char_to_count) == k:\n",
    "                result += n - right + 1\n",
    "            \n",
    "            ## left指针之后要后移一位，当前char_to_count[s[left]]要减去1\n",
    "            char_to_count[s[left]] -= 1\n",
    "            if char_to_count[s[left]] == 0:\n",
    "                del char_to_count[s[left]]\n",
    "        \n",
    "        return result\n",
    "            \n"
   ]
  },
  {
   "cell_type": "code",
   "execution_count": 5,
   "metadata": {},
   "outputs": [
    {
     "name": "stdout",
     "output_type": "stream",
     "text": [
      "55\n"
     ]
    }
   ],
   "source": [
    "solution = Solution()\n",
    "s = \"abcabcabca\"\n",
    "s = \"abcabcabcabc\"\n",
    "k = 4\n",
    "k = 3\n",
    "print(solution.kDistinctCharacters(s, k))"
   ]
  },
  {
   "cell_type": "code",
   "execution_count": null,
   "metadata": {},
   "outputs": [],
   "source": []
  }
 ],
 "metadata": {
  "kernelspec": {
   "display_name": "Python 3",
   "language": "python",
   "name": "python3"
  },
  "language_info": {
   "codemirror_mode": {
    "name": "ipython",
    "version": 3
   },
   "file_extension": ".py",
   "mimetype": "text/x-python",
   "name": "python",
   "nbconvert_exporter": "python",
   "pygments_lexer": "ipython3",
   "version": "3.7.1"
  }
 },
 "nbformat": 4,
 "nbformat_minor": 2
}
