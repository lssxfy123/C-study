{
 "cells": [
  {
   "cell_type": "code",
   "execution_count": 2,
   "metadata": {},
   "outputs": [],
   "source": [
    "# Copyright(C) 2021 刘珅珅\n",
    "# Environment: python 3.7\n",
    "# Date: 2021.3.30\n",
    "# 翻转链表 II：lintcode 36"
   ]
  },
  {
   "cell_type": "code",
   "execution_count": 1,
   "metadata": {},
   "outputs": [],
   "source": [
    "class ListNode(object):\n",
    "    def __init__(self, val, next=None):\n",
    "        self.val = val\n",
    "        self.next = next"
   ]
  },
  {
   "cell_type": "code",
   "execution_count": 4,
   "metadata": {},
   "outputs": [],
   "source": [
    "class Solution:\n",
    "    \"\"\"\n",
    "    @param head: ListNode head is the head of the linked list \n",
    "    @param m: An integer\n",
    "    @param n: An integer\n",
    "    @return: The head of the reversed ListNode\n",
    "    \"\"\"\n",
    "    def reverseBetween(self, head, m, n):\n",
    "        # write your code here\n",
    "        if m > n or not head:\n",
    "            return head\n",
    "        \n",
    "        dummy = ListNode(0)\n",
    "        dummy.next = head\n",
    "        \n",
    "        ## 查找第m-1个结点\n",
    "        mth_prev = self.find_kth(dummy, m - 1)\n",
    "        if not mth_prev:\n",
    "            return dummy.next\n",
    "        \n",
    "        mth = mth_prev.next\n",
    "        \n",
    "        ## 查找第n个结点\n",
    "        nth = self.find_kth(dummy, n)\n",
    "        nth_next = nth.next\n",
    "        \n",
    "        ## 设置nth.next = None后，mth到nth就可以按照lintcode 35那样直接进行链表翻转了\n",
    "        nth.next = None\n",
    "        \n",
    "        ## 翻转第m个结点到第n个结点\n",
    "        ## 翻转过后，nth就是头结点，也是原始链表的第m个结点\n",
    "        ## mth就变成了第n个结点\n",
    "        self.reverse(mth)\n",
    "        mth_prev.next = nth\n",
    "        mth.next = nth_next\n",
    "        \n",
    "        ## 不能直接返回head，当m>1时，dummy.next指向的就是head\n",
    "        ## 当m=1时，head会发生变化，但mth_prev就是dummy，新的头结点是nth，而mth_prev.next就是nth\n",
    "        return dummy.next\n",
    "    \n",
    "    def reverse(self, head):\n",
    "        prev = None\n",
    "        while head:\n",
    "            tmp = head.next\n",
    "            head.next = prev\n",
    "            prev = head\n",
    "            head = tmp\n",
    "        return prev\n",
    "    \n",
    "    ## 查找第k个结点，题目中给的样例可以看出第1个结点是链表的头结点\n",
    "    ## 所以需要一个哨兵结点放置在头结点的前面\n",
    "    def find_kth(self, head, k):\n",
    "        for _ in range(k):\n",
    "            if not head:\n",
    "                return None\n",
    "            head = head.next\n",
    "        return head\n",
    "            \n",
    "    "
   ]
  },
  {
   "cell_type": "code",
   "execution_count": 4,
   "metadata": {},
   "outputs": [
    {
     "name": "stdout",
     "output_type": "stream",
     "text": [
      "0\n"
     ]
    }
   ],
   "source": []
  },
  {
   "cell_type": "code",
   "execution_count": null,
   "metadata": {},
   "outputs": [],
   "source": []
  }
 ],
 "metadata": {
  "kernelspec": {
   "display_name": "Python 3",
   "language": "python",
   "name": "python3"
  },
  "language_info": {
   "codemirror_mode": {
    "name": "ipython",
    "version": 3
   },
   "file_extension": ".py",
   "mimetype": "text/x-python",
   "name": "python",
   "nbconvert_exporter": "python",
   "pygments_lexer": "ipython3",
   "version": "3.7.1"
  }
 },
 "nbformat": 4,
 "nbformat_minor": 2
}
