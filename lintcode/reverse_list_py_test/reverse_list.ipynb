{
 "cells": [
  {
   "cell_type": "code",
   "execution_count": 2,
   "metadata": {},
   "outputs": [],
   "source": [
    "# Copyright(C) 2021 刘珅珅\n",
    "# Environment: python 3.7\n",
    "# Date: 2021.3.30\n",
    "# 翻转链表：lintcode 35"
   ]
  },
  {
   "cell_type": "code",
   "execution_count": 1,
   "metadata": {},
   "outputs": [],
   "source": [
    "class ListNode(object):\n",
    "    def __init__(self, val, next=None):\n",
    "        self.val = val\n",
    "        self.next = next"
   ]
  },
  {
   "cell_type": "code",
   "execution_count": 4,
   "metadata": {},
   "outputs": [],
   "source": [
    "class Solution:\n",
    "    \"\"\"\n",
    "    @param head: n\n",
    "    @return: The new head of reversed linked list.\n",
    "    \"\"\"\n",
    "    def reverse(self, head):\n",
    "        # write your code here\n",
    "        ## 前继结点\n",
    "        prev = None\n",
    "        while head:\n",
    "            ## 先存储当前结点的后继结点\n",
    "            tmp = head.next\n",
    "            \n",
    "            ## 将当前结点的next指针指向前继结点\n",
    "            head.next = prev\n",
    "            \n",
    "            ## 存储当前结点为前继结点\n",
    "            prev = head\n",
    "            \n",
    "            ## 当前结点指向下一个结点\n",
    "            head = tmp\n",
    "\n",
    "        ## 新链表的头指针就是prev结点，当head指向None结点时，prev指向其前继结点，也就是原链表的最后一个结点\n",
    "        return prev\n",
    "            \n",
    "            \n",
    "    "
   ]
  },
  {
   "cell_type": "code",
   "execution_count": null,
   "metadata": {},
   "outputs": [],
   "source": []
  },
  {
   "cell_type": "code",
   "execution_count": null,
   "metadata": {},
   "outputs": [],
   "source": []
  }
 ],
 "metadata": {
  "kernelspec": {
   "display_name": "Python 3",
   "language": "python",
   "name": "python3"
  },
  "language_info": {
   "codemirror_mode": {
    "name": "ipython",
    "version": 3
   },
   "file_extension": ".py",
   "mimetype": "text/x-python",
   "name": "python",
   "nbconvert_exporter": "python",
   "pygments_lexer": "ipython3",
   "version": "3.7.1"
  }
 },
 "nbformat": 4,
 "nbformat_minor": 2
}
