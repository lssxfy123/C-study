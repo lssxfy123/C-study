{
 "cells": [
  {
   "cell_type": "code",
   "execution_count": 1,
   "metadata": {},
   "outputs": [],
   "source": [
    "# Copyright(C) 2021 刘珅珅\n",
    "# Environment: python 3.7\n",
    "# Date: 2021.2.19\n",
    "# 队列维护：lintcode 492"
   ]
  },
  {
   "cell_type": "code",
   "execution_count": 4,
   "metadata": {},
   "outputs": [],
   "source": [
    "## 使用链表来实现\n",
    "class Node:\n",
    "    def __init__(self, value):\n",
    "        self.next = None\n",
    "        self.val = value\n",
    "        \n",
    "class MyQueue:\n",
    "    def __init__(self):\n",
    "        self.front = None  ## 头指针\n",
    "        self.tail = None   ## 尾指针\n",
    "        \n",
    "    \"\"\"\n",
    "    @param: item: An integer\n",
    "    @return: nothing\n",
    "    \"\"\"\n",
    "    def enqueue(self, item):\n",
    "        # write your code here\n",
    "        node = Node(item)\n",
    "        if not self.front:\n",
    "            self.front = node\n",
    "            self.tail = self.front\n",
    "        else:\n",
    "            self.tail.next = node\n",
    "            self.tail = node\n",
    "\n",
    "    \"\"\"\n",
    "    @return: An integer\n",
    "    \"\"\"\n",
    "    def dequeue(self):\n",
    "        # write your code here\n",
    "        if self.front:\n",
    "            item = self.front.val\n",
    "            self.front = self.front.next\n",
    "            return item\n",
    "        return None"
   ]
  },
  {
   "cell_type": "code",
   "execution_count": 5,
   "metadata": {},
   "outputs": [
    {
     "name": "stdout",
     "output_type": "stream",
     "text": [
      "1\n",
      "2\n",
      "3\n"
     ]
    }
   ],
   "source": [
    "my_queue = MyQueue()\n",
    "my_queue.enqueue(1)\n",
    "my_queue.enqueue(2)\n",
    "my_queue.enqueue(3)\n",
    "print(my_queue.dequeue())\n",
    "print(my_queue.dequeue())\n",
    "print(my_queue.dequeue())"
   ]
  },
  {
   "cell_type": "code",
   "execution_count": null,
   "metadata": {},
   "outputs": [],
   "source": []
  }
 ],
 "metadata": {
  "kernelspec": {
   "display_name": "Python 3",
   "language": "python",
   "name": "python3"
  },
  "language_info": {
   "codemirror_mode": {
    "name": "ipython",
    "version": 3
   },
   "file_extension": ".py",
   "mimetype": "text/x-python",
   "name": "python",
   "nbconvert_exporter": "python",
   "pygments_lexer": "ipython3",
   "version": "3.7.1"
  }
 },
 "nbformat": 4,
 "nbformat_minor": 2
}
