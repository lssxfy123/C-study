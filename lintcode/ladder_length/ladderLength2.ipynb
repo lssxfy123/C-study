{
 "cells": [
  {
   "cell_type": "code",
   "execution_count": 1,
   "metadata": {},
   "outputs": [],
   "source": [
    "# Copyright(C) 2021 刘珅珅\n",
    "# Environment: python 3.7\n",
    "# Date: 2021.3.5\n",
    "# 单词接龙 II：lintcode 121\n",
    "import collections"
   ]
  },
  {
   "cell_type": "code",
   "execution_count": 10,
   "metadata": {},
   "outputs": [],
   "source": [
    "class Solution:\n",
    "    \"\"\"\n",
    "    @param: start: a string\n",
    "    @param: end: a string\n",
    "    @param: dict: a set of string\n",
    "    @return: a list of lists of string\n",
    "    \"\"\"\n",
    "    def findLadders(self, start, end, dict):\n",
    "        # write your code here\n",
    "        if not dict:\n",
    "            return []\n",
    "        \n",
    "        ## 查找所有的最短序列，需要进行分层\n",
    "        dict.add(end)\n",
    "        queue = collections.deque([start, None])\n",
    "        visited = set([start])\n",
    "        result = []\n",
    "        paths = []\n",
    "        is_end_level = False\n",
    "        \n",
    "        while queue:\n",
    "            word = queue.popleft()\n",
    "            if not word:\n",
    "                if is_end_level or not queue:\n",
    "                    break\n",
    "                \n",
    "                queue.append(None)\n",
    "                continue\n",
    "            \n",
    "            result.append(word)\n",
    "            if word == end:\n",
    "                is_end_level = True\n",
    "                paths.append(result)\n",
    "                print(result)\n",
    "                result = []\n",
    "            \n",
    "            for next_word in self.get_next_word(word, dict):\n",
    "                if next_word in visited:\n",
    "                    continue\n",
    "                queue.append(next_word)\n",
    "        return paths\n",
    "            \n",
    "    def get_next_word(self, word, dict):\n",
    "        words = []\n",
    "        \n",
    "         ## 两重for循环中，最内层的循环执行了25 * (L + L + L) * L次\n",
    "        ## 所以时间复杂度为O(L ^ 2)\n",
    "        for i in range(len(word)):  ## 这里的时间复杂度为O(L)\n",
    "            ## 替换第i个字符，找到只替换word中一个字符后产生的所有字符串\n",
    "            for char in \"abcdefghijklmnopqrstuvwxyz\":\n",
    "                ## python中目前没有替换字符串中指定位置的函数\n",
    "                if char == word[i]:\n",
    "                    continue\n",
    "                ## 字符串的替换比较麻烦，要先把i左边和右边的字符串存储起来，然后和char一起组合成新的字符串\n",
    "                left, right = word[:i], word[i + 1:]  ## 这里的复制字符串的时间复杂度也为O(L)\n",
    "                tmp = left + char + right  ## 这里3个字符串相加的的时间复杂度也是O(L)\n",
    "                \n",
    "                ## 这里的时间复杂度为O(L)，dict是Python中的set，它是一个哈希表，但访问一次的时间并非O(1)，而是\n",
    "                ## O(sizeof(key))，当key是int时，为O(1)，如果是字符串的话，就是O(L)\n",
    "                if tmp in dict:  \n",
    "                    words.append(tmp)\n",
    "        return words\n",
    "    \n",
    "            \n",
    "            \n",
    "      "
   ]
  },
  {
   "cell_type": "code",
   "execution_count": 11,
   "metadata": {},
   "outputs": [
    {
     "name": "stdout",
     "output_type": "stream",
     "text": [
      "['hit', 'hot', 'dot', 'lot', 'hot', 'lot', 'dog', 'dot', 'hot', 'log', 'dot', 'lot', 'dot', 'hot', 'log', 'cog']\n",
      "['log', 'dot', 'hot', 'lot', 'dog', 'dot', 'lot', 'cog']\n",
      "[['hit', 'hot', 'dot', 'lot', 'hot', 'lot', 'dog', 'dot', 'hot', 'log', 'dot', 'lot', 'dot', 'hot', 'log', 'cog'], ['log', 'dot', 'hot', 'lot', 'dog', 'dot', 'lot', 'cog']]\n"
     ]
    }
   ],
   "source": [
    "solution = Solution()\n",
    "start =\"hit\"\n",
    "end = \"cog\"\n",
    "dict = {\"hot\",\"dot\",\"dog\",\"lot\",\"log\"}\n",
    "# start = \"a\"\n",
    "# end = \"c\"\n",
    "# dict = {\"b\"}\n",
    "print(solution.findLadders(start, end ,dict))"
   ]
  },
  {
   "cell_type": "code",
   "execution_count": null,
   "metadata": {},
   "outputs": [],
   "source": []
  }
 ],
 "metadata": {
  "kernelspec": {
   "display_name": "Python 3",
   "language": "python",
   "name": "python3"
  },
  "language_info": {
   "codemirror_mode": {
    "name": "ipython",
    "version": 3
   },
   "file_extension": ".py",
   "mimetype": "text/x-python",
   "name": "python",
   "nbconvert_exporter": "python",
   "pygments_lexer": "ipython3",
   "version": "3.7.1"
  }
 },
 "nbformat": 4,
 "nbformat_minor": 2
}
