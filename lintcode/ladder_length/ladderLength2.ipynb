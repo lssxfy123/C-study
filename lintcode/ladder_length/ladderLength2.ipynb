{
 "cells": [
  {
   "cell_type": "code",
   "execution_count": 1,
   "metadata": {},
   "outputs": [],
   "source": [
    "# Copyright(C) 2021 刘珅珅\n",
    "# Environment: python 3.7\n",
    "# Date: 2021.3.27\n",
    "# 单词接龙：lintcode 120\n",
    "import collections"
   ]
  },
  {
   "cell_type": "markdown",
   "metadata": {},
   "source": [
    "# 双向宽度优先搜索"
   ]
  },
  {
   "cell_type": "code",
   "execution_count": 19,
   "metadata": {},
   "outputs": [],
   "source": [
    "class Solution:\n",
    "    \"\"\"\n",
    "    @param: start: a string\n",
    "    @param: end: a string\n",
    "    @param: dict: a set of string\n",
    "    @return: An integer\n",
    "    \"\"\"\n",
    "    ## 这是一个简单图的最短路径问题，将单词看出结点，能否通过变换\n",
    "    ## 1个字母变成另一个单词，看成一条边\n",
    "    def ladderLength(self, start, end, dict):\n",
    "        # write your code here\n",
    "        if not dict:\n",
    "            return 0\n",
    "        \n",
    "        dict.add(end)\n",
    "        dict.add(start)\n",
    "        graph = self.build_graph(dict)\n",
    "        \n",
    "        forward_queue = collections.deque([start])\n",
    "        forward_set = set([start])\n",
    "        \n",
    "        backward_queue = collections.deque([end])\n",
    "        backward_set = set([end])\n",
    "        distance = 1\n",
    "        while forward_queue and backward_queue:\n",
    "            distance += 1\n",
    "            if self.extend_queue(forward_queue, forward_set, backward_set, dict, graph):\n",
    "                return distance\n",
    "            \n",
    "            distance += 1\n",
    "            if self.extend_queue(backward_queue, backward_set, forward_set, dict, graph):\n",
    "                return distance\n",
    "        return 0\n",
    "    \n",
    "    ## 构建单词图，每个单词的下一个可能的单词都存储起来，避免后续的重复计算\n",
    "    def build_graph(self, dict):\n",
    "        graph = {}\n",
    "        for word in dict:\n",
    "            graph[word] = self.get_next_words(word, dict)\n",
    "        return graph\n",
    "         \n",
    "    ## 双向BFS时，每次拓展queue时，只考虑当前queue中的结点的下一个结点\n",
    "    def extend_queue(self, queue, visited, opposite_visited, dict, graph):\n",
    "        for _ in range(len(queue)):\n",
    "            word = queue.popleft()\n",
    "            for next_word in graph[word]:\n",
    "                if next_word in opposite_visited:\n",
    "                    return True\n",
    "                \n",
    "                if next_word in visited:\n",
    "                    continue\n",
    "                queue.append(next_word)\n",
    "                visited.add(next_word)\n",
    "        return False\n",
    "\n",
    "\n",
    "    \n",
    "    \"\"\"时间复杂度为O(L ^ 2)\"\"\"\n",
    "    def get_next_words(self, word, dict):\n",
    "        words = set()\n",
    "        \n",
    "        ## 两重for循环中，最内层的循环执行了25 * (L + L + L) * L次\n",
    "        ## 所以时间复杂度为O(L ^ 2)\n",
    "        for i in range(len(word)):  ## 这里的时间复杂度为O(L)\n",
    "            ## 替换第i个字符，找到只替换word中一个字符后产生的所有字符串\n",
    "            for char in \"abcdefghijklmnopqrstuvwxyz\":\n",
    "                ## python中目前没有替换字符串中指定位置的函数\n",
    "                if char == word[i]:\n",
    "                    continue\n",
    "                ## 字符串的替换比较麻烦，要先把i左边和右边的字符串存储起来，然后和char一起组合成新的字符串\n",
    "                left, right = word[:i], word[i + 1:]  ## 这里的复制字符串的时间复杂度也为O(L)\n",
    "                tmp = left + char + right  ## 这里3个字符串相加的的时间复杂度也是O(L)\n",
    "                \n",
    "                ## 这里的时间复杂度为O(L)，dict是Python中的set，它是一个哈希表，但访问一次的时间并非O(1)，而是\n",
    "                ## O(sizeof(key))，当key是int时，为O(1)，如果是字符串的话，就是O(L)\n",
    "                if tmp in dict:  \n",
    "                    words.add(tmp)\n",
    "        return words\n",
    "            \n",
    "        "
   ]
  },
  {
   "cell_type": "code",
   "execution_count": 20,
   "metadata": {},
   "outputs": [
    {
     "name": "stdout",
     "output_type": "stream",
     "text": [
      "5\n"
     ]
    }
   ],
   "source": [
    "solution = Solution()\n",
    "start =\"hit\"\n",
    "end = \"cog\"\n",
    "dict = {\"hot\",\"dot\",\"dog\",\"lot\",\"log\"}\n",
    "# start = \"a\"\n",
    "# end = \"c\"\n",
    "# dict = {\"b\"}\n",
    "print(solution.ladderLength(start, end ,dict))"
   ]
  },
  {
   "cell_type": "code",
   "execution_count": null,
   "metadata": {},
   "outputs": [],
   "source": []
  }
 ],
 "metadata": {
  "kernelspec": {
   "display_name": "Python 3",
   "language": "python",
   "name": "python3"
  },
  "language_info": {
   "codemirror_mode": {
    "name": "ipython",
    "version": 3
   },
   "file_extension": ".py",
   "mimetype": "text/x-python",
   "name": "python",
   "nbconvert_exporter": "python",
   "pygments_lexer": "ipython3",
   "version": "3.7.1"
  }
 },
 "nbformat": 4,
 "nbformat_minor": 2
}
