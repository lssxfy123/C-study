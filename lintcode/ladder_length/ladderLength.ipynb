{
 "cells": [
  {
   "cell_type": "code",
   "execution_count": 5,
   "metadata": {},
   "outputs": [],
   "source": [
    "# Copyright(C) 2021 刘珅珅\n",
    "# Environment: python 3.7\n",
    "# Date: 2021.2.27\n",
    "# 单词接龙：lintcode 120\n",
    "import collections"
   ]
  },
  {
   "cell_type": "code",
   "execution_count": 41,
   "metadata": {},
   "outputs": [],
   "source": [
    "class Solution:\n",
    "    \"\"\"\n",
    "    @param: start: a string\n",
    "    @param: end: a string\n",
    "    @param: dict: a set of string\n",
    "    @return: An integer\n",
    "    \"\"\"\n",
    "    def ladderLength(self, start, end, dict):\n",
    "        # write your code here\n",
    "        if not dict:\n",
    "            return 0\n",
    "        \n",
    "        ## 将start首先入队，这是分了方便在后续的循环中统一处理\n",
    "        ## 也可以先将start可能的后续字符串都查找到，然后再入队\n",
    "        queue = collections.deque([start])\n",
    "        if end not in dict:\n",
    "            dict.add(end)  ## 先将end添加到字典中，这样以来之后只要查找到转换字符串在dict中就行了\n",
    "        ## 标记数组，原本是打算用dict的，但传入的参数dict貌似是按照集合set来处理的，没有下标，不好用列表解析\n",
    "        ## 这里要把start放入列表中，否则得到set中就是start每个字符都变成集合中的一个元素，而不是start放入集合中\n",
    "        ## set对象的add则不会有这种问题\n",
    "        visited = set([start])  ## start放入集合，如果dict中有start，就不再访问它\n",
    "       \n",
    "        distance = 0\n",
    "        while queue:\n",
    "            distance += 1\n",
    "            for _ in range(len(queue)):\n",
    "                word = queue.popleft()\n",
    "                if word == end:\n",
    "                    return distance\n",
    "                next_words = self.get_next_words(word)\n",
    "                for next_word in next_words:\n",
    "                    if next_word not in dict or next_word in visited:\n",
    "                        continue\n",
    "                    queue.append(next_word)\n",
    "                    visited.add(next_word)\n",
    "        return distance\n",
    "\n",
    "\n",
    "    def get_next_words(self, word):\n",
    "        words = []\n",
    "        for i in range(len(word)):\n",
    "            ## 替换第i个字符，找到只替换word中一个字符后产生的所有字符串\n",
    "            for char in \"abcdefghijklmnopqrstuvwxyz\":\n",
    "                ## python中目前没有替换字符串中指定位置的函数\n",
    "                if char == word[i]:\n",
    "                    continue\n",
    "                ## 字符串的替换比较麻烦，要先把i左边和右边的字符串存储起来，然后和char一起组合成新的字符串\n",
    "                left, right = word[:i], word[i + 1:]\n",
    "                tmp = left + char + right\n",
    "                words.append(tmp)\n",
    "        return words\n",
    "            \n",
    "        "
   ]
  },
  {
   "cell_type": "code",
   "execution_count": 42,
   "metadata": {},
   "outputs": [
    {
     "name": "stdout",
     "output_type": "stream",
     "text": [
      "2\n"
     ]
    }
   ],
   "source": [
    "solution = Solution()\n",
    "start =\"hit\"\n",
    "end = \"cog\"\n",
    "dict = {\"hot\",\"dot\",\"dog\",\"lot\",\"log\"}\n",
    "start = \"a\"\n",
    "end = \"c\"\n",
    "dict = {\"b\"}\n",
    "print(solution.ladderLength(start, end ,dict))"
   ]
  },
  {
   "cell_type": "code",
   "execution_count": null,
   "metadata": {},
   "outputs": [],
   "source": []
  }
 ],
 "metadata": {
  "kernelspec": {
   "display_name": "Python 3",
   "language": "python",
   "name": "python3"
  },
  "language_info": {
   "codemirror_mode": {
    "name": "ipython",
    "version": 3
   },
   "file_extension": ".py",
   "mimetype": "text/x-python",
   "name": "python",
   "nbconvert_exporter": "python",
   "pygments_lexer": "ipython3",
   "version": "3.7.1"
  }
 },
 "nbformat": 4,
 "nbformat_minor": 2
}
