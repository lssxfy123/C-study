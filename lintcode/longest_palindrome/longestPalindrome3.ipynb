{
 "cells": [
  {
   "cell_type": "code",
   "execution_count": 1,
   "metadata": {},
   "outputs": [],
   "source": [
    "# Copyright(C) 2021 刘珅珅\n",
    "# Environment: python 3.7\n",
    "# Date: 2021.2.9\n",
    "# 最长回文串"
   ]
  },
  {
   "cell_type": "code",
   "execution_count": 18,
   "metadata": {},
   "outputs": [],
   "source": [
    "class Solution:\n",
    "    \"\"\"\n",
    "    @param s: input string\n",
    "    @return: a string as the longest palindromic substring\n",
    "    \"\"\"\n",
    "    def longestPalindrome(self, s):\n",
    "        # write your code here\n",
    "        if not s:\n",
    "            return 0\n",
    "        length = len(s)\n",
    "        s_count = {}\n",
    "        \n",
    "        ## 统计字符串中每个字符出现的次数\n",
    "        for i in s:\n",
    "            if i in s_count:\n",
    "                s_count[i] += 1\n",
    "            else:\n",
    "                s_count[i] = 1\n",
    "                \n",
    "        max_length = 0\n",
    "        \n",
    "        is_exist_odd_count = False\n",
    "        for (ch, count) in s_count.items():\n",
    "            if count > 1:\n",
    "                ## 偶数次字符都可以用于组建回文串\n",
    "                if count % 2 == 0:\n",
    "                    max_length += count\n",
    "                else:\n",
    "                    is_exist_odd_count = True\n",
    "                    max_length += count - 1\n",
    "            else:\n",
    "                is_exist_odd_count = True\n",
    "                          \n",
    "        if is_exist_odd_count:\n",
    "            max_length += 1\n",
    "        return max_length\n",
    "        "
   ]
  },
  {
   "cell_type": "code",
   "execution_count": 20,
   "metadata": {},
   "outputs": [
    {
     "name": "stdout",
     "output_type": "stream",
     "text": [
      "5\n"
     ]
    }
   ],
   "source": [
    "soluion = Solution()\n",
    "print(soluion.longestPalindrome(\"aaacbbb\"))"
   ]
  },
  {
   "cell_type": "code",
   "execution_count": 8,
   "metadata": {},
   "outputs": [
    {
     "name": "stdout",
     "output_type": "stream",
     "text": [
      "a\n"
     ]
    }
   ],
   "source": [
    "d = {'a': 1}\n",
    "for i in d:\n",
    "    print(i)"
   ]
  },
  {
   "cell_type": "code",
   "execution_count": null,
   "metadata": {},
   "outputs": [],
   "source": []
  }
 ],
 "metadata": {
  "kernelspec": {
   "display_name": "Python 3",
   "language": "python",
   "name": "python3"
  },
  "language_info": {
   "codemirror_mode": {
    "name": "ipython",
    "version": 3
   },
   "file_extension": ".py",
   "mimetype": "text/x-python",
   "name": "python",
   "nbconvert_exporter": "python",
   "pygments_lexer": "ipython3",
   "version": "3.7.1"
  }
 },
 "nbformat": 4,
 "nbformat_minor": 2
}
