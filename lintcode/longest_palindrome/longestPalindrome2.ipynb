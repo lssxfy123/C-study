{
 "cells": [
  {
   "cell_type": "code",
   "execution_count": 1,
   "metadata": {},
   "outputs": [],
   "source": [
    "# Copyright(C) 2021 刘珅珅\n",
    "# Environment: python 3.7\n",
    "# Date: 2021.1.27\n",
    "# 最长回文子串"
   ]
  },
  {
   "cell_type": "code",
   "execution_count": 14,
   "metadata": {},
   "outputs": [],
   "source": [
    "## n^2的时间复杂度\n",
    "## 动态规划\n",
    "class Solution:\n",
    "    \"\"\"\n",
    "    @param s: input string\n",
    "    @return: a string as the longest palindromic substring\n",
    "    \"\"\"\n",
    "    def longestPalindrome(self, s):\n",
    "        # write your code here\n",
    "        if not s or len(s) <= 1:\n",
    "            return s\n",
    "        length = len(s)\n",
    "        result = []\n",
    "        \n",
    "        ## 构造一个二维布尔型矩阵\n",
    "        ## is_palindrome[i][j]:表示以i为起始，以j为结束的字符串是否为回文串\n",
    "        is_palindrome = [[False] * length for _ in range(length)]\n",
    "        \n",
    "        ## 表示1个字符的子串肯定是回文的\n",
    "        for i in range(length):\n",
    "            is_palindrome[i][i] = True\n",
    "        \n",
    "        ## is_palindrome矩阵中当i>j没有实际意义\n",
    "        ## 设置is_palindrome[i][i-1]为True是为了满足后序的状态转移方程中\n",
    "        ## 如果子串的长度为2，即j=i+1时的情况\n",
    "        ## 这是边界条件的判断\n",
    "        for i in range(1, length):\n",
    "            is_palindrome[i][i - 1] = True\n",
    "            \n",
    "        ## 动态规划\n",
    "        start, longest = 0, 1\n",
    "        ## 子串的长度从2开始，因为长度为1的子串肯定是回文的\n",
    "        for palindrome_len in range(2, length + 1):\n",
    "            for i in range(length - palindrome_len + 1):\n",
    "                j = i + palindrome_len - 1  ## 右边界\n",
    "                ## 状态转移方程:以i为起始，以j为结束的字符串是否回文取决于:\n",
    "                ## 以i+1起始，以j-1为结束的字符串是否回文并且s[i]==s[j]\n",
    "                is_palindrome[i][j] = is_palindrome[i + 1][j - 1] and s[i] == s[j]\n",
    "                if is_palindrome[i][j] and longest < palindrome_len:\n",
    "                    start, longest = i, palindrome_len\n",
    "        result = s[start:start + longest]\n",
    "        return result\n",
    "        "
   ]
  },
  {
   "cell_type": "code",
   "execution_count": 15,
   "metadata": {},
   "outputs": [
    {
     "name": "stdout",
     "output_type": "stream",
     "text": [
      "aa\n"
     ]
    }
   ],
   "source": [
    "soluion = Solution()\n",
    "print(soluion.longestPalindrome(\"aa\"))"
   ]
  },
  {
   "cell_type": "code",
   "execution_count": null,
   "metadata": {},
   "outputs": [],
   "source": []
  }
 ],
 "metadata": {
  "kernelspec": {
   "display_name": "Python 3",
   "language": "python",
   "name": "python3"
  },
  "language_info": {
   "codemirror_mode": {
    "name": "ipython",
    "version": 3
   },
   "file_extension": ".py",
   "mimetype": "text/x-python",
   "name": "python",
   "nbconvert_exporter": "python",
   "pygments_lexer": "ipython3",
   "version": "3.7.1"
  }
 },
 "nbformat": 4,
 "nbformat_minor": 2
}
