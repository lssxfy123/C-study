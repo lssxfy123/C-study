{
 "cells": [
  {
   "cell_type": "code",
   "execution_count": 1,
   "metadata": {},
   "outputs": [],
   "source": [
    "# Copyright(C) 2021 刘珅珅\n",
    "# Environment: python 3.7\n",
    "# Date: 2021.1.27\n",
    "# 最长回文子串"
   ]
  },
  {
   "cell_type": "code",
   "execution_count": 40,
   "metadata": {},
   "outputs": [],
   "source": [
    "## n^2的时间复杂度\n",
    "## 动态规划\n",
    "class Solution:\n",
    "    \"\"\"\n",
    "    @param s: input string\n",
    "    @return: a string as the longest palindromic substring\n",
    "    \"\"\"\n",
    "    def longestPalindrome(self, s):\n",
    "        # write your code here\n",
    "        if not s or len(s) <= 1:\n",
    "            return s\n",
    "        length = len(s)\n",
    "        result = []\n",
    "        ## 枚举所有可能的子串，判断是否为回文串\n",
    "        for i in range(length):\n",
    "            for j in range(length, 0, -1):\n",
    "                if (self.isPalindrome(s[i:j])):\n",
    "                    if not result:\n",
    "                        result = s[i:j]\n",
    "                    elif len(result) < len(s[i:j]):\n",
    "                        result = s[i:j]\n",
    "                    break\n",
    "            if len(result) >= (length - i):  ## 后续的子串如果长度小于或等于已有的回文子串，就不再进行比较\n",
    "                break\n",
    "        return result\n",
    "    def isPalindrome(self, s):  ## 判断是否为回文串\n",
    "        length = len(s)\n",
    "        mid = length // 2\n",
    "        if length % 2 == 0:\n",
    "            if s[0:mid] == s[len(s) - 1: mid - 1:-1]:\n",
    "                return True\n",
    "        else:\n",
    "            if s[0:mid] == s[len(s):mid:-1]:\n",
    "                return True\n",
    "        return False\n",
    "        "
   ]
  }
 ],
 "metadata": {
  "kernelspec": {
   "display_name": "Python 3",
   "language": "python",
   "name": "python3"
  },
  "language_info": {
   "codemirror_mode": {
    "name": "ipython",
    "version": 3
   },
   "file_extension": ".py",
   "mimetype": "text/x-python",
   "name": "python",
   "nbconvert_exporter": "python",
   "pygments_lexer": "ipython3",
   "version": "3.7.1"
  }
 },
 "nbformat": 4,
 "nbformat_minor": 2
}
