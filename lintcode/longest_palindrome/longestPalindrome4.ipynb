{
 "cells": [
  {
   "cell_type": "code",
   "execution_count": 1,
   "metadata": {},
   "outputs": [],
   "source": [
    "# Copyright(C) 2021 刘珅珅\n",
    "# Environment: python 3.7\n",
    "# Date: 2021.4.1\n",
    "# 最长回文串：lintcode 200"
   ]
  },
  {
   "cell_type": "code",
   "execution_count": 17,
   "metadata": {},
   "outputs": [],
   "source": [
    "## n^2的时间复杂度\n",
    "## 动态规划\n",
    "class Solution:\n",
    "    \"\"\"\n",
    "    @param s: input string\n",
    "    @return: a string as the longest palindromic substring\n",
    "    \"\"\"\n",
    "    def longestPalindrome(self, s):\n",
    "        # write your code here\n",
    "        if not s or len(s) <= 1:\n",
    "            return s\n",
    "        \n",
    "        n = len(s)\n",
    "        ## 状态：dp[i][j]表示第i个字符到第j个字符是否是回文串\n",
    "        dp = [[False] * n for _ in range(n) ]\n",
    "        \n",
    "        ## 初始化：1个字符时肯定是回文串\n",
    "        for i in range(n):\n",
    "            dp[i][i] = True\n",
    "        \n",
    "        ## 两个字符的情况：之所以判断两个字符的情况是因为状态转移方程中没法处理两个字符的情况\n",
    "        ## 状态转移方程为：dp[i][j] = dp[i+1][j-1] and s[i]==s[j]，即i到j是否回文，取决于s[i]==s[j]并且\n",
    "        ## s[i+1][j-1]回文，i到j的长度至少为3，所以要初始化dp[i][i+1]这种情况\n",
    "        start, end, longest = 0, 0, 1\n",
    "        for i in range(n - 1):\n",
    "            if s[i] == s[i + 1]:\n",
    "                dp[i][i + 1] = True\n",
    "                start, end = i, i + 1\n",
    "                longest = 2\n",
    "        \n",
    "        \n",
    "        ## 状态转移方程：大区间依赖于小区间\n",
    "        for i in range(n - 1, -1, -1):\n",
    "            ## i到j的长度至少为3，为1，为2时初始化过了\n",
    "            for j in range(i + 2, n):\n",
    "                ## 当i=n-1时，循环体不会被执行\n",
    "                dp[i][j] = dp[i + 1][j - 1] and s[i] == s[j]\n",
    "                if dp[i][j] and longest < (j - i + 1):\n",
    "                    start, end = i, j\n",
    "                    longest = j - i + 1\n",
    "        \n",
    "        result = s[start : end + 1]\n",
    "        return result\n",
    "        \n",
    "\n",
    "                    "
   ]
  },
  {
   "cell_type": "code",
   "execution_count": 18,
   "metadata": {},
   "outputs": [
    {
     "name": "stdout",
     "output_type": "stream",
     "text": [
      "aaabaaa\n"
     ]
    }
   ],
   "source": [
    "soluion = Solution()\n",
    "print(soluion.longestPalindrome(\"aaaabaaa\"))"
   ]
  },
  {
   "cell_type": "code",
   "execution_count": null,
   "metadata": {},
   "outputs": [],
   "source": []
  },
  {
   "cell_type": "code",
   "execution_count": null,
   "metadata": {},
   "outputs": [],
   "source": []
  }
 ],
 "metadata": {
  "kernelspec": {
   "display_name": "Python 3",
   "language": "python",
   "name": "python3"
  },
  "language_info": {
   "codemirror_mode": {
    "name": "ipython",
    "version": 3
   },
   "file_extension": ".py",
   "mimetype": "text/x-python",
   "name": "python",
   "nbconvert_exporter": "python",
   "pygments_lexer": "ipython3",
   "version": "3.7.1"
  }
 },
 "nbformat": 4,
 "nbformat_minor": 2
}
