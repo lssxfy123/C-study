{
 "cells": [
  {
   "cell_type": "code",
   "execution_count": 1,
   "metadata": {},
   "outputs": [],
   "source": [
    "# Copyright(C) 2021 刘珅珅\n",
    "# Environment: python 3.7\n",
    "# Date: 2021.2.23\n",
    "# 寻找峰值 II：lintcode 390"
   ]
  },
  {
   "cell_type": "code",
   "execution_count": 16,
   "metadata": {},
   "outputs": [],
   "source": [
    "## O(n+m)的时间复杂度\n",
    "class Solution:\n",
    "    \"\"\"\n",
    "    @param A: An integer matrix\n",
    "    @return: The index of the peak\n",
    "    \"\"\"\n",
    "    def findPeakII(self, A):\n",
    "        # write your code here\n",
    "        if not A or not A[0]:\n",
    "            return [-1, -1]\n",
    "        \n",
    "        ## n行m列\n",
    "        n, m = len(A), len(A[0])\n",
    "        up, bottom = 0, n - 1\n",
    "        left, right = 0, m - 1\n",
    "        \n",
    "        ## 仍然是二分的思想，只是同时将行和列进行二分\n",
    "        ## 先判断十字的行和列的最大值是否为峰值，如果不是\n",
    "        ## 十字将矩阵分成4个象限，将4个指针移动到某一个象限中\n",
    "        ## 时间复杂度分析-《九章学习第七课-二分法深入学习.docx》\n",
    "        while up + 1 < bottom or left + 1 < right:\n",
    "            mid_row = (up + bottom) // 2\n",
    "            mid_column = (left + right) // 2\n",
    "            row_max_index = self.find_row_max_index(A, mid_row, left, right)\n",
    "            column_max_index = self.find_column_max_index(A, mid_column, up, bottom)\n",
    "            \n",
    "            ## 判断up, bottom移动的方向与之前的只二分行的思想是一致的\n",
    "            ## 找出mid_row的最大值，然后判断其与所在列的上下行的元素的关系\n",
    "            ## 移动指针的理由也和之前只二分行的移动指针理由是一致的\n",
    "            if A[mid_row][row_max_index] < A[mid_row - 1][row_max_index]:\n",
    "                bottom = mid_row\n",
    "            elif A[mid_row][row_max_index] < A[mid_row + 1][row_max_index]:\n",
    "                up = mid_row\n",
    "            else:\n",
    "                return [mid_row, row_max_index]\n",
    "            \n",
    "            ## 二分列\n",
    "            if A[column_max_index][mid_column] < A[column_max_index][mid_column - 1]:\n",
    "                right = mid_column\n",
    "            elif A[column_max_index][mid_column] < A[column_max_index][mid_column + 1]:\n",
    "                left = mid_column\n",
    "            else:\n",
    "                return [column_max_index, mid_column]\n",
    "        \n",
    "        ## 如果之前的while循环没有退出，则峰值肯定在[[up, left], [up, right], [bottom, left], [bottom, right]]中\n",
    "        ## 因为这时矩阵已经被缩减到只剩这4个元素了\n",
    "        for row in [up, bottom]:\n",
    "            for column in [left, right]:\n",
    "                if A[row][column] > A[row][column + 1] and A[row][column - 1] and A[row - 1][column] and A[row + 1][column]:\n",
    "                    return [row, column]\n",
    "        return [-1, -1]\n",
    "    \n",
    "    ## 求某一行从start到end之间的最大值并返回索引\n",
    "    def find_row_max_index(self, A, row, start, end):\n",
    "        max_value = A[row][start]\n",
    "        max_index = start\n",
    "        for i in range(start + 1, end + 1):\n",
    "            if A[row][i] > max_value:\n",
    "                max_index = i\n",
    "                max_value = A[row][i]\n",
    "        return max_index\n",
    "    \n",
    "    ## 求某一列从start到end之间的最大值并返回索引\n",
    "    def find_column_max_index(self, A, column, start, end):\n",
    "        max_value = A[start][column]\n",
    "        max_index = start\n",
    "        for i in range(start + 1, end + 1):\n",
    "            if A[i][column] > max_value:\n",
    "                max_index = i\n",
    "                max_value = A[i][column]\n",
    "        return max_index"
   ]
  },
  {
   "cell_type": "code",
   "execution_count": 18,
   "metadata": {},
   "outputs": [
    {
     "name": "stdout",
     "output_type": "stream",
     "text": [
      "mid row: 2, mid column: 2\n",
      "2 2\n",
      "[2, 2]\n"
     ]
    }
   ],
   "source": [
    "solution = Solution()\n",
    "A = [[1,2,3,5,4],[16,41,23,22,6],[15,17,24,21,7],[14,18,19,20,8],[12,13,11,10,9]]\n",
    "#A = [[1,5,3],[4,10,9],[2,8,7]]\n",
    "#A = [[1,3,2],[4,6,5],[7,9,8],[13,15,14],[10,12,11]]\n",
    "print(solution.findPeakII(A))"
   ]
  },
  {
   "cell_type": "code",
   "execution_count": null,
   "metadata": {},
   "outputs": [],
   "source": []
  }
 ],
 "metadata": {
  "kernelspec": {
   "display_name": "Python 3",
   "language": "python",
   "name": "python3"
  },
  "language_info": {
   "codemirror_mode": {
    "name": "ipython",
    "version": 3
   },
   "file_extension": ".py",
   "mimetype": "text/x-python",
   "name": "python",
   "nbconvert_exporter": "python",
   "pygments_lexer": "ipython3",
   "version": "3.7.1"
  }
 },
 "nbformat": 4,
 "nbformat_minor": 2
}
