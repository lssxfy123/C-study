{
 "cells": [
  {
   "cell_type": "code",
   "execution_count": 1,
   "metadata": {},
   "outputs": [],
   "source": [
    "# Copyright(C) 2021 刘珅珅\n",
    "# Environment: python 3.7\n",
    "# Date: 2021.2.23\n",
    "# 寻找峰值 II：lintcode 390"
   ]
  },
  {
   "cell_type": "code",
   "execution_count": 1,
   "metadata": {},
   "outputs": [],
   "source": [
    "## O(n+m)的时间复杂度\n",
    "class Solution:\n",
    "    \"\"\"\n",
    "    @param A: An integer matrix\n",
    "    @return: The index of the peak\n",
    "    \"\"\"\n",
    "    def findPeakII(self, A):\n",
    "        # write your code here\n",
    "        if not A or not A[0]:\n",
    "            return [-1, -1]\n",
    "        \n",
    "        ## n行m列\n",
    "        n, m = len(A), len(A[0])\n",
    "        \n",
    "        up, bottom = 0, n - 1\n",
    "        left, right = 0, m - 1\n",
    "        ## 二分法，分割行(也可以分割列，原理是相同的)\n",
    "        while up + 1 < bottom:\n",
    "            mid = (up + bottom) // 2\n",
    "            row_max_value, row_max_index = self.find_row_max(A[mid])\n",
    "            if A[mid - 1][row_max_index] > row_max_value:\n",
    "                bottom = mid\n",
    "            elif A[mid + 1][row_max_index] > row_max_value:\n",
    "                up = mid\n",
    "            else:\n",
    "                ## 查找到矩阵峰值，直接返回\n",
    "                return [mid, row_max_index]\n",
    "        \n",
    "        ## 如果之前的while循环没有返回，则峰值肯定在up，bottom两行，并且肯定在两行最大值中较大的位置处\n",
    "        ## 还是用反证法，假设bottom_max_value更大，A[bottom][bottom_max_index]不是矩阵峰值，\n",
    "        ## 则肯定A[up][bottom_max_index] > bottom_max_value，而A[up]的最大值up_max_value却小于bottom_max_value\n",
    "        ## 二者是相互矛盾的\n",
    "        up_max_value, up_max_index = self.find_row_max(A[up])\n",
    "        bottom_max_value, bottom_max_index = self.find_row_max(A[bottom])\n",
    "        if up_max_value > bottom_max_value:\n",
    "            return [up, up_max_index]\n",
    "        return [bottom, bottom_max_index]\n",
    "            \n",
    "    \n",
    "    def find_row_max(self, nums):\n",
    "        max_value = nums[0]\n",
    "        max_index = 0\n",
    "        for i in range(1, len(nums)):\n",
    "            if nums[i] > max_value:\n",
    "                max_value = nums[i]\n",
    "                max_index = i\n",
    "        return max_value, max_index"
   ]
  },
  {
   "cell_type": "code",
   "execution_count": 2,
   "metadata": {},
   "outputs": [
    {
     "name": "stdout",
     "output_type": "stream",
     "text": [
      "[2, 2]\n"
     ]
    }
   ],
   "source": [
    "solution = Solution()\n",
    "A = [[1,2,3,5,4],[16,41,23,22,6],[15,17,24,21,7],[14,18,19,20,8],[12,13,11,10,9]]\n",
    "print(solution.findPeakII(A))"
   ]
  },
  {
   "cell_type": "code",
   "execution_count": null,
   "metadata": {},
   "outputs": [],
   "source": []
  }
 ],
 "metadata": {
  "kernelspec": {
   "display_name": "Python 3",
   "language": "python",
   "name": "python3"
  },
  "language_info": {
   "codemirror_mode": {
    "name": "ipython",
    "version": 3
   },
   "file_extension": ".py",
   "mimetype": "text/x-python",
   "name": "python",
   "nbconvert_exporter": "python",
   "pygments_lexer": "ipython3",
   "version": "3.7.1"
  }
 },
 "nbformat": 4,
 "nbformat_minor": 2
}
