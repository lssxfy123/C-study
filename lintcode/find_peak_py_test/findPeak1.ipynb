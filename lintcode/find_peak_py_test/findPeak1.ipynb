{
 "cells": [
  {
   "cell_type": "code",
   "execution_count": 1,
   "metadata": {},
   "outputs": [],
   "source": [
    "# Copyright(C) 2021 刘珅珅\n",
    "# Environment: python 3.7\n",
    "# Date: 2021.2.21\n",
    "# 寻找峰值：lintcode 75"
   ]
  },
  {
   "cell_type": "code",
   "execution_count": 7,
   "metadata": {},
   "outputs": [],
   "source": [
    "## 九章算法模板\n",
    "## 相比于我之前的方法，在while循环中的比较次数少了一些\n",
    "class Solution:\n",
    "    \"\"\"\n",
    "    @param A: An integers array.\n",
    "    @return: return any of peek positions.\n",
    "    \"\"\"\n",
    "    def findPeak(self, A):\n",
    "        # write your code here\n",
    "        if not A or len(A) < 3:\n",
    "            return -1\n",
    "        left, right = 0, len(A) - 1\n",
    "        ## 数组中至少有1个峰值，所以while循环必然会返回\n",
    "        while left + 1 < right:\n",
    "            mid = (left + right) // 2\n",
    "            \n",
    "            ## 如果A[mid]小于右侧元素，表示其和其右侧元素构成了上升区间\n",
    "            ## 由于A[n - 2] > A[n - 1]，这是下降区间，则其中间必然有峰值\n",
    "            ## 所以将left指针移动到mid\n",
    "            if A[mid] < A[mid + 1]:\n",
    "                left = mid\n",
    "            ## 如果A[mid]小于左侧元素，表示其和其左侧元素构成了下降区间\n",
    "            ## 由于A[1] > A[0]，这是上升区间，则其中间必然有峰值\n",
    "            ## 所以将right指针移动到mid\n",
    "            elif A[mid] < A[mid - 1]:\n",
    "                right = mid\n",
    "            else:\n",
    "                return mid\n",
    "        \n",
    "        ## 退出while循环时，A[left]和A[right]必然有1个是峰值，因为while循环中，left和right一直\n",
    "        ## 包围着峰值\n",
    "        if A[left] > A[right]:\n",
    "            return left\n",
    "        return right"
   ]
  },
  {
   "cell_type": "code",
   "execution_count": null,
   "metadata": {},
   "outputs": [],
   "source": []
  }
 ],
 "metadata": {
  "kernelspec": {
   "display_name": "Python 3",
   "language": "python",
   "name": "python3"
  },
  "language_info": {
   "codemirror_mode": {
    "name": "ipython",
    "version": 3
   },
   "file_extension": ".py",
   "mimetype": "text/x-python",
   "name": "python",
   "nbconvert_exporter": "python",
   "pygments_lexer": "ipython3",
   "version": "3.7.1"
  }
 },
 "nbformat": 4,
 "nbformat_minor": 2
}
