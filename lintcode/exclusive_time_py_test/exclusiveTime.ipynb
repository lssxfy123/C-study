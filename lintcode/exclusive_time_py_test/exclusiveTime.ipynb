{
 "cells": [
  {
   "cell_type": "code",
   "execution_count": 1,
   "metadata": {},
   "outputs": [],
   "source": [
    "# Copyright(C) 2021 刘珅珅\n",
    "# Environment: python 3.7\n",
    "# Date: 2021.6.24\n",
    "# 函数执行时间：lintcode 1116"
   ]
  },
  {
   "cell_type": "code",
   "execution_count": 4,
   "metadata": {},
   "outputs": [],
   "source": [
    "class Solution:\n",
    "    \"\"\"\n",
    "    @param n: a integer\n",
    "    @param logs: a list of integers\n",
    "    @return: return a list of integers\n",
    "    \"\"\"\n",
    "    def exclusiveTime(self, n, logs):\n",
    "        # write your code here\n",
    "        ## 传入的logs保证从0到n-1的id的程序都存在\n",
    "        result = [0 for i in range(n)]\n",
    "        stack = []\n",
    "        last_timestamp = 0\n",
    "        for log in logs:\n",
    "            log_splits = log.split(':')\n",
    "            id, status, timestamp = int(log_splits[0]), log_splits[1], int(log_splits[2])\n",
    "            if status == 'start':\n",
    "                ## 如果状态是start，则stack中最后一个id肯定不会再独占时间片了\n",
    "                if stack:\n",
    "                    result[stack[-1]] += timestamp - last_timestamp\n",
    "                stack.append(id)\n",
    "            else:\n",
    "                ## 从题目描述来看，一个函数可以被递归或其它函数调用，时间片0时执行函数i后\n",
    "                ## 之后的函数是i调用的或i调用的函数再调用的，所以当函数j的'end'日志到来时\n",
    "                ## 上一条日志一定是函数j的'start'日志，而不会是函数j的父函数或更高级的函数\n",
    "                ## 对于'end'日志，其timestamp需要加1，因为是表示在这个时间片末尾程序结束\n",
    "                ## 计算函数j的时间片个数时要加1\n",
    "                timestamp += 1\n",
    "                result[stack.pop()] += timestamp - last_timestamp\n",
    "            \n",
    "            last_timestamp = timestamp\n",
    "            \n",
    "        return result"
   ]
  },
  {
   "cell_type": "code",
   "execution_count": 5,
   "metadata": {},
   "outputs": [
    {
     "name": "stdout",
     "output_type": "stream",
     "text": [
      "[3, 4]\n"
     ]
    }
   ],
   "source": [
    "solution = Solution()\n",
    "n = 2\n",
    "logs = [\"0:start:0\", \"1:start:2\", \"1:end:5\", \"0:end:6\"]\n",
    "print(solution.exclusiveTime(n, logs))"
   ]
  },
  {
   "cell_type": "code",
   "execution_count": 3,
   "metadata": {},
   "outputs": [
    {
     "name": "stdout",
     "output_type": "stream",
     "text": [
      "0 start 0\n"
     ]
    }
   ],
   "source": [
    "id, status, time = \"0:start:0\".split(\":\")\n",
    "print(id, status, time)"
   ]
  },
  {
   "cell_type": "code",
   "execution_count": null,
   "metadata": {},
   "outputs": [],
   "source": []
  }
 ],
 "metadata": {
  "kernelspec": {
   "display_name": "Python 3",
   "language": "python",
   "name": "python3"
  },
  "language_info": {
   "codemirror_mode": {
    "name": "ipython",
    "version": 3
   },
   "file_extension": ".py",
   "mimetype": "text/x-python",
   "name": "python",
   "nbconvert_exporter": "python",
   "pygments_lexer": "ipython3",
   "version": "3.7.1"
  }
 },
 "nbformat": 4,
 "nbformat_minor": 2
}
