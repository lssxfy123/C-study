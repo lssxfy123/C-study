{
 "cells": [
  {
   "cell_type": "code",
   "execution_count": 1,
   "metadata": {},
   "outputs": [],
   "source": [
    "# Copyright(C) 2021 刘珅珅\n",
    "# Environment: python 3.7\n",
    "# Date: 2021.4.2\n",
    "# 合并k个排序数组：lintcode 486"
   ]
  },
  {
   "cell_type": "markdown",
   "metadata": {},
   "source": [
    "# 归并排序合并，时间复杂度为O(nlogk)，其中n为k个排序数组所有的元素"
   ]
  },
  {
   "cell_type": "code",
   "execution_count": 4,
   "metadata": {},
   "outputs": [],
   "source": [
    "class Solution:\n",
    "    \"\"\"\n",
    "    @param arrays: k sorted integer arrays\n",
    "    @return: a sorted array\n",
    "    \"\"\"\n",
    "    def mergekSortedArrays(self, arrays):\n",
    "        # write your code here\n",
    "        if not arrays:\n",
    "            return []\n",
    "        \n",
    "        result = []\n",
    "        return self.merge_sorted_array(arrays, 0, len(arrays) - 1)\n",
    "    \n",
    "    def merge_sorted_array(self, arrays, start, end):\n",
    "        if start == end:\n",
    "            return arrays[start]\n",
    "        \n",
    "        mid = (start + end) // 2\n",
    "        left_array = self.merge_sorted_array(arrays, start, mid)\n",
    "        right_array = self.merge_sorted_array(arrays, mid + 1, end)\n",
    "        return self.merge_two_sorted_arrays(left_array, right_array)\n",
    "        \n",
    "    \n",
    "    def merge_two_sorted_arrays(self, array1, array2):\n",
    "        result = []\n",
    "        i = j = 0\n",
    "        while i < len(array1) and j < len(array2):\n",
    "            if array1[i] < array2[j]:\n",
    "                result.append(array1[i])\n",
    "                i += 1\n",
    "            else:\n",
    "                result.append(array2[j])\n",
    "                j += 1\n",
    "        \n",
    "        while i < len(array1):\n",
    "            result.append(array1[i])\n",
    "            i += 1\n",
    "        \n",
    "        while j < len(array2):\n",
    "            result.append(array2[j])\n",
    "            j += 1\n",
    "        \n",
    "        return result"
   ]
  },
  {
   "cell_type": "code",
   "execution_count": 5,
   "metadata": {},
   "outputs": [
    {
     "name": "stdout",
     "output_type": "stream",
     "text": [
      "[0, 1, 2, 3, 4, 5, 6, 7, 8, 9, 10, 11]\n"
     ]
    }
   ],
   "source": [
    "solution = Solution()\n",
    "arrays = [[1,3,5,7],[2,4,6],[0,8,9,10,11]]\n",
    "print(solution.mergekSortedArrays(arrays))"
   ]
  },
  {
   "cell_type": "code",
   "execution_count": null,
   "metadata": {},
   "outputs": [],
   "source": []
  }
 ],
 "metadata": {
  "kernelspec": {
   "display_name": "Python 3",
   "language": "python",
   "name": "python3"
  },
  "language_info": {
   "codemirror_mode": {
    "name": "ipython",
    "version": 3
   },
   "file_extension": ".py",
   "mimetype": "text/x-python",
   "name": "python",
   "nbconvert_exporter": "python",
   "pygments_lexer": "ipython3",
   "version": "3.7.1"
  }
 },
 "nbformat": 4,
 "nbformat_minor": 2
}
