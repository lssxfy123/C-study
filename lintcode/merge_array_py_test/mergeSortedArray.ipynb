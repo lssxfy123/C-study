{
 "cells": [
  {
   "cell_type": "code",
   "execution_count": 1,
   "metadata": {},
   "outputs": [],
   "source": [
    "# Copyright(C) 2021 刘珅珅\n",
    "# Environment: python 3.7\n",
    "# Date: 2021.2.13\n",
    "# 合并排序数组 II：lintcode 6"
   ]
  },
  {
   "cell_type": "code",
   "execution_count": 15,
   "metadata": {},
   "outputs": [],
   "source": [
    "class Solution:\n",
    "    \"\"\"\n",
    "    @param A: sorted integer array A\n",
    "    @param B: sorted integer array B\n",
    "    @return: A new sorted integer array\n",
    "    \"\"\"\n",
    "    def mergeSortedArray(self, A, B):\n",
    "        # write your code here\n",
    "        if not A or len(A) == 0:\n",
    "            return B\n",
    "        \n",
    "        if not B or len(B) == 0:\n",
    "            return A\n",
    "        \n",
    "        length_A = len(A)\n",
    "        length_B = len(B)\n",
    "        min_length = min(length_A, length_B)\n",
    "        result = []\n",
    "        index_A = 0\n",
    "        index_B = 0\n",
    "        while (index_A < min_length or index_B < min_length):\n",
    "            if A[index_A] < B[index_B]:\n",
    "                result.append(A[index_A])\n",
    "                index_A += 1\n",
    "            else:\n",
    "                result.append(B[index_B])\n",
    "                index_B += 1\n",
    "            if index_A >= length_A or index_B >= length_B:\n",
    "                break\n",
    "        if index_A < length_A:\n",
    "            result += A[index_A : length_A]\n",
    "        if index_B < length_B:\n",
    "            result += B[index_B : length_B]\n",
    "        \n",
    "        return result\n",
    "            "
   ]
  },
  {
   "cell_type": "code",
   "execution_count": 17,
   "metadata": {},
   "outputs": [
    {
     "name": "stdout",
     "output_type": "stream",
     "text": [
      "[1, 3, 4, 5]\n"
     ]
    }
   ],
   "source": [
    "solution = Solution()\n",
    "print(solution.mergeSortedArray([1, 3, 5], [4]))"
   ]
  },
  {
   "cell_type": "code",
   "execution_count": null,
   "metadata": {},
   "outputs": [],
   "source": []
  }
 ],
 "metadata": {
  "kernelspec": {
   "display_name": "Python 3",
   "language": "python",
   "name": "python3"
  },
  "language_info": {
   "codemirror_mode": {
    "name": "ipython",
    "version": 3
   },
   "file_extension": ".py",
   "mimetype": "text/x-python",
   "name": "python",
   "nbconvert_exporter": "python",
   "pygments_lexer": "ipython3",
   "version": "3.7.1"
  }
 },
 "nbformat": 4,
 "nbformat_minor": 2
}
