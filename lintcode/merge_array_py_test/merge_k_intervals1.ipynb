{
 "cells": [
  {
   "cell_type": "code",
   "execution_count": 1,
   "metadata": {},
   "outputs": [],
   "source": [
    "# Copyright(C) 2021 刘珅珅\n",
    "# Environment: python 3.7\n",
    "# Date: 2021.4.2\n",
    "# 合并K个排序间隔列表：lintcode 577"
   ]
  },
  {
   "cell_type": "code",
   "execution_count": 2,
   "metadata": {},
   "outputs": [],
   "source": [
    "class Interval(object):\n",
    "    def __init__(self, start, end):\n",
    "        self.start = start\n",
    "        self.end = end"
   ]
  },
  {
   "cell_type": "markdown",
   "metadata": {},
   "source": [
    "# 使用堆，时间复杂度为O(nlogk)，n为k个列表中所有的间隔数"
   ]
  },
  {
   "cell_type": "code",
   "execution_count": 4,
   "metadata": {},
   "outputs": [],
   "source": [
    "import heapq\n",
    "\n",
    "class Solution:\n",
    "    \"\"\"\n",
    "    @param intervals: the given k sorted interval lists\n",
    "    @return:  the new sorted interval list\n",
    "    \"\"\"\n",
    "    def mergeKSortedIntervalLists(self, intervals):\n",
    "        # write your code here\n",
    "        heap = []\n",
    "        result = []\n",
    "        \n",
    "        for index, interval in enumerate(intervals):\n",
    "            if len(interval) == 0:\n",
    "                continue \n",
    "            heapq.heappush(heap, (interval[0].start, interval[0].end, index, 0))\n",
    "        \n",
    "        while heap:\n",
    "            start, end, index, interval_index = heapq.heappop(heap)\n",
    "            self.push_back(result, Interval(start, end))\n",
    "            if interval_index + 1 < len(intervals[index]):\n",
    "                heapq.heappush(heap, (intervals[index][interval_index + 1].start, intervals[index][interval_index + 1].end, index, interval_index + 1))\n",
    "        \n",
    "        return result\n",
    "            \n",
    "    \n",
    "    def push_back(self, intervals, interval):\n",
    "        if not intervals:\n",
    "            intervals.append(interval)\n",
    "            return\n",
    "        \n",
    "        last_interval = intervals[-1]\n",
    "        if interval.start > last_interval.end:\n",
    "            intervals.append(interval)\n",
    "            return\n",
    "        \n",
    "        last_interval.end = max(last_interval.end, interval.end)"
   ]
  },
  {
   "cell_type": "code",
   "execution_count": null,
   "metadata": {},
   "outputs": [],
   "source": []
  }
 ],
 "metadata": {
  "kernelspec": {
   "display_name": "Python 3",
   "language": "python",
   "name": "python3"
  },
  "language_info": {
   "codemirror_mode": {
    "name": "ipython",
    "version": 3
   },
   "file_extension": ".py",
   "mimetype": "text/x-python",
   "name": "python",
   "nbconvert_exporter": "python",
   "pygments_lexer": "ipython3",
   "version": "3.7.1"
  }
 },
 "nbformat": 4,
 "nbformat_minor": 2
}
