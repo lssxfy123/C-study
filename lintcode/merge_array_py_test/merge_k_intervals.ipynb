{
 "cells": [
  {
   "cell_type": "code",
   "execution_count": 1,
   "metadata": {},
   "outputs": [],
   "source": [
    "# Copyright(C) 2021 刘珅珅\n",
    "# Environment: python 3.7\n",
    "# Date: 2021.4.2\n",
    "# 合并K个排序间隔列表：lintcode 577"
   ]
  },
  {
   "cell_type": "code",
   "execution_count": 1,
   "metadata": {},
   "outputs": [],
   "source": [
    "class Interval(object):\n",
    "    def __init__(self, start, end):\n",
    "        self.start = start\n",
    "        self.end = end"
   ]
  },
  {
   "cell_type": "markdown",
   "metadata": {},
   "source": [
    "# 归并排序合并，时间复杂度为O(nlogk)，n为k个列表中所有的间隔数"
   ]
  },
  {
   "cell_type": "code",
   "execution_count": 2,
   "metadata": {},
   "outputs": [],
   "source": [
    "class Solution:\n",
    "    \"\"\"\n",
    "    @param intervals: the given k sorted interval lists\n",
    "    @return:  the new sorted interval list\n",
    "    \"\"\"\n",
    "    def mergeKSortedIntervalLists(self, intervals):\n",
    "        # write your code here\n",
    "        return self.merge_k_sorted_intervals(intervals, 0, len(intervals) - 1)\n",
    "    \n",
    "    def merge_k_sorted_intervals(self, intervals, start, end):\n",
    "        if start == end:\n",
    "            return intervals[start]\n",
    "        \n",
    "        mid = (start + end) // 2\n",
    "        left_interval = self.merge_k_sorted_intervals(intervals, start, mid)\n",
    "        right_interval = self.merge_k_sorted_intervals(intervals, mid + 1, end)\n",
    "        return self.merge_two_sorted_intervals(left_interval, right_interval)\n",
    "    \n",
    "    def merge_two_sorted_intervals(self, interval1, interval2):\n",
    "        first = second = 0\n",
    "        result = []\n",
    "        while first < len(interval1) and second < len(interval2):\n",
    "            if interval1[first].start < interval2[second].start:\n",
    "                self.push_back(result, interval1[first])\n",
    "                first += 1\n",
    "            else:\n",
    "                self.push_back(result, interval2[second])\n",
    "                second += 1\n",
    "        \n",
    "        while first < len(interval1):\n",
    "            self.push_back(result, interval1[first])\n",
    "            first += 1\n",
    "        \n",
    "        while second < len(interval2):\n",
    "            self.push_back(result, interval2[second])\n",
    "            second += 1\n",
    "        \n",
    "        return result\n",
    "    \n",
    "    def push_back(self, intervals, interval):\n",
    "        if not intervals:\n",
    "            intervals.append(interval)\n",
    "            return\n",
    "        \n",
    "        last_interval = intervals[-1]\n",
    "        if interval.start > last_interval.end:\n",
    "            intervals.append(interval)\n",
    "            return\n",
    "        \n",
    "        last_interval.end = max(last_interval.end, interval.end)"
   ]
  },
  {
   "cell_type": "code",
   "execution_count": null,
   "metadata": {},
   "outputs": [],
   "source": []
  }
 ],
 "metadata": {
  "kernelspec": {
   "display_name": "Python 3",
   "language": "python",
   "name": "python3"
  },
  "language_info": {
   "codemirror_mode": {
    "name": "ipython",
    "version": 3
   },
   "file_extension": ".py",
   "mimetype": "text/x-python",
   "name": "python",
   "nbconvert_exporter": "python",
   "pygments_lexer": "ipython3",
   "version": "3.7.1"
  }
 },
 "nbformat": 4,
 "nbformat_minor": 2
}
