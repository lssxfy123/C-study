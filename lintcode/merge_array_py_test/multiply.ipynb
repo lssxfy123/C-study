{
 "cells": [
  {
   "cell_type": "code",
   "execution_count": 1,
   "metadata": {},
   "outputs": [],
   "source": [
    "# Copyright(C) 2021 刘珅珅\n",
    "# Environment: python 3.7\n",
    "# Date: 2021.4.2\n",
    "# 稀疏矩阵乘法：lintcode 654"
   ]
  },
  {
   "cell_type": "markdown",
   "metadata": {},
   "source": [
    "### 矩阵的乘法：对于两个nxn的矩阵A和B进行相乘，时间复杂度为O(n^3)，A中的每一行和B中的每一列相乘，时间复杂度为O(n)，相乘后的矩阵C也是nxn的，C中的一个元素需要O(n)的时间复杂度，所以总共是O(n^3)"
   ]
  },
  {
   "cell_type": "markdown",
   "metadata": {},
   "source": [
    "### 对于稀疏矩阵而言，由于每一行每一列大部分都为0，所以可以进行优化，A中每一行记录不为0的元素的索引和元素值，B中每一列记录不为0的元素的索引和原始值，然后进行行列相乘时，只计算索引相同的项。时间复杂度的优化：假设A和B中非0元素都为α，α<<n，时间复杂度就为O(α*n^2)"
   ]
  },
  {
   "cell_type": "code",
   "execution_count": 4,
   "metadata": {},
   "outputs": [],
   "source": [
    "class Solution:\n",
    "    \"\"\"\n",
    "    @param A: a sparse matrix\n",
    "    @param B: a sparse matrix\n",
    "    @return: the result of A * B\n",
    "    \"\"\"\n",
    "    def multiply(self, A, B):\n",
    "        # write your code here\n",
    "        ## A的行数\n",
    "        n = len(A)\n",
    "        \n",
    "        ## A的列数，B的行数\n",
    "        m = len(A[0])\n",
    "        \n",
    "        ## B的列数\n",
    "        k = len(B[0])\n",
    "        \n",
    "        \"\"\"\n",
    "        转换A的行向量，时间复杂度为O(n^2)\n",
    "        \"\"\"\n",
    "        row_vectors = [[(j, A[i][j]) for j in range(m) if A[i][j] != 0] for i in range(n)]\n",
    "        \n",
    "        \"\"\"\n",
    "        转换B的列向量，时间复杂度为O(n^2)\n",
    "        \"\"\"\n",
    "        column_vectors = [[(i, B[i][j]) for i in range(m) if B[i][j] != 0] for j in range(k)]\n",
    "        \n",
    "        \"\"\"\n",
    "        时间复杂度为：O(α*n^2)\n",
    "        \"\"\"\n",
    "        return [[self.multi(row, column) for column in column_vectors] for row in row_vectors]\n",
    "    \n",
    "    def multi(self, row, column):\n",
    "        i, j, sum = 0, 0, 0\n",
    "        while i < len(row) and j < len(column):\n",
    "            index1, val1 = row[i]\n",
    "            index2, val2 = column[j]\n",
    "            if index1 < index2:\n",
    "                i += 1\n",
    "            elif index1 > index2:\n",
    "                j += 1\n",
    "            else:\n",
    "                sum += (val1 * val2)\n",
    "                i += 1\n",
    "                j += 1\n",
    "        return sum\n",
    "        \n",
    "\n",
    "        "
   ]
  },
  {
   "cell_type": "code",
   "execution_count": 5,
   "metadata": {},
   "outputs": [
    {
     "name": "stdout",
     "output_type": "stream",
     "text": [
      "[[(0, 1)], [(0, -1), (2, 3)]]\n",
      "[[7, 0, 0], [-7, 0, 3]]\n"
     ]
    }
   ],
   "source": [
    "solution = Solution()\n",
    "A = [[1,0,0],[-1,0,3]]\n",
    "B = [[7,0,0],[0,0,0],[0,0,1]]\n",
    "print(solution.multiply(A, B))"
   ]
  },
  {
   "cell_type": "code",
   "execution_count": null,
   "metadata": {},
   "outputs": [],
   "source": []
  }
 ],
 "metadata": {
  "kernelspec": {
   "display_name": "Python 3",
   "language": "python",
   "name": "python3"
  },
  "language_info": {
   "codemirror_mode": {
    "name": "ipython",
    "version": 3
   },
   "file_extension": ".py",
   "mimetype": "text/x-python",
   "name": "python",
   "nbconvert_exporter": "python",
   "pygments_lexer": "ipython3",
   "version": "3.7.1"
  }
 },
 "nbformat": 4,
 "nbformat_minor": 2
}
