{
 "cells": [
  {
   "cell_type": "code",
   "execution_count": 1,
   "metadata": {},
   "outputs": [],
   "source": [
    "# Copyright(C) 2021 刘珅珅\n",
    "# Environment: python 3.7\n",
    "# Date: 2021.4.2\n",
    "# 合并k个排序数组：lintcode 486"
   ]
  },
  {
   "cell_type": "markdown",
   "metadata": {},
   "source": [
    "# 使用堆来进行合并"
   ]
  },
  {
   "cell_type": "code",
   "execution_count": 8,
   "metadata": {},
   "outputs": [],
   "source": [
    "import heapq\n",
    "\n",
    "class Solution:\n",
    "    \"\"\"\n",
    "    @param arrays: k sorted integer arrays\n",
    "    @return: a sorted array\n",
    "    \"\"\"\n",
    "    def mergekSortedArrays(self, arrays):\n",
    "        # write your code here\n",
    "        if not arrays:\n",
    "            return []\n",
    "        \n",
    "        result = []\n",
    "        heap = []\n",
    "        for index, array in enumerate(arrays):\n",
    "            ## arrays中有可能有空数组\n",
    "            if len(array) == 0:\n",
    "                continue\n",
    "            ## 插入堆中的结构为：val, arrays中的索引，val在arrays[index]中的索引\n",
    "            heapq.heappush(heap, (array[0], index, 0))\n",
    "        \n",
    "        while heap:\n",
    "            val, arrays_index, val_index = heapq.heappop(heap)\n",
    "            result.append(val)\n",
    "            if val_index + 1 < len(arrays[arrays_index]):\n",
    "                heapq.heappush(heap, (arrays[arrays_index][val_index + 1], arrays_index, val_index + 1))\n",
    "        return result\n",
    "        "
   ]
  },
  {
   "cell_type": "code",
   "execution_count": 9,
   "metadata": {},
   "outputs": [
    {
     "name": "stdout",
     "output_type": "stream",
     "text": [
      "[0, 1, 3, 5, 7, 8, 9, 10, 11]\n"
     ]
    }
   ],
   "source": [
    "solution = Solution()\n",
    "arrays = [[1,3,5,7],[],[0,8,9,10,11]]\n",
    "print(solution.mergekSortedArrays(arrays))"
   ]
  },
  {
   "cell_type": "code",
   "execution_count": null,
   "metadata": {},
   "outputs": [],
   "source": []
  }
 ],
 "metadata": {
  "kernelspec": {
   "display_name": "Python 3",
   "language": "python",
   "name": "python3"
  },
  "language_info": {
   "codemirror_mode": {
    "name": "ipython",
    "version": 3
   },
   "file_extension": ".py",
   "mimetype": "text/x-python",
   "name": "python",
   "nbconvert_exporter": "python",
   "pygments_lexer": "ipython3",
   "version": "3.7.1"
  }
 },
 "nbformat": 4,
 "nbformat_minor": 2
}
