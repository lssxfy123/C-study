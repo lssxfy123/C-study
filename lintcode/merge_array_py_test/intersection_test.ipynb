{
 "cells": [
  {
   "cell_type": "code",
   "execution_count": 1,
   "metadata": {},
   "outputs": [],
   "source": [
    "# Copyright(C) 2021 刘珅珅\n",
    "# Environment: python 3.7\n",
    "# Date: 2021.4.2\n",
    "# 两数组的交集：lintcode 547"
   ]
  },
  {
   "cell_type": "markdown",
   "metadata": {},
   "source": [
    "# 方法1：哈希表，时间复杂度为O(n+m)"
   ]
  },
  {
   "cell_type": "code",
   "execution_count": 1,
   "metadata": {},
   "outputs": [],
   "source": [
    "class Solution:\n",
    "    \"\"\"\n",
    "    @param nums1: an integer array\n",
    "    @param nums2: an integer array\n",
    "    @return: an integer array\n",
    "    \"\"\"\n",
    "    def intersection(self, nums1, nums2):\n",
    "        # write your code here\n",
    "        if not nums1 or not nums2:\n",
    "            return []\n",
    "        \n",
    "        nums1 = set(nums1)\n",
    "        nums2 = set(nums2)\n",
    "        result = []\n",
    "        for num in nums2:\n",
    "            if num in nums1:\n",
    "                result.append(num)\n",
    "        return result"
   ]
  },
  {
   "cell_type": "markdown",
   "metadata": {},
   "source": [
    "# 方法2：双指针，nums1和nums2分别排序，然后用两个同向双指针判断nums1和nums2的元素是否相等，把相等的数据加入1个set中\n",
    "# 时间复杂度：O(mlogm+nlogn)"
   ]
  },
  {
   "cell_type": "code",
   "execution_count": 3,
   "metadata": {},
   "outputs": [],
   "source": [
    "class Solution:\n",
    "    \"\"\"\n",
    "    @param nums1: an integer array\n",
    "    @param nums2: an integer array\n",
    "    @return: an integer array\n",
    "    \"\"\"\n",
    "    def intersection(self, nums1, nums2):\n",
    "        # write your code here\n",
    "        if not nums1 or not nums2:\n",
    "            return []\n",
    "        \n",
    "        nums1.sort()\n",
    "        nums2.sort()\n",
    "        result = []\n",
    "        interset = set()\n",
    "        first = second = 0\n",
    "        while first < len(nums1) and second < len(nums2):\n",
    "            if nums1[first] < nums2[second]:\n",
    "                first += 1\n",
    "                continue\n",
    "            if nums1[first] > nums2[second]:\n",
    "                second += 1\n",
    "                continue\n",
    "            interset.add(nums1[first])\n",
    "            first += 1\n",
    "            second += 1\n",
    "        result = list(interset)\n",
    "        return result"
   ]
  },
  {
   "cell_type": "markdown",
   "metadata": {},
   "source": [
    "# 方法3：二分查找，时间复杂度为O(mlogm+nlogm)"
   ]
  },
  {
   "cell_type": "code",
   "execution_count": 7,
   "metadata": {},
   "outputs": [],
   "source": [
    "class Solution:\n",
    "    \"\"\"\n",
    "    @param nums1: an integer array\n",
    "    @param nums2: an integer array\n",
    "    @return: an integer array\n",
    "    \"\"\"\n",
    "    def intersection(self, nums1, nums2):\n",
    "        # write your code here\n",
    "        if not nums1 or not nums2:\n",
    "            return []\n",
    "        m, n = len(nums1), len(nums2)\n",
    "        if m > n:\n",
    "            nums1, nums2 = nums2, nums1\n",
    "            m, n = n, m\n",
    "        nums1.sort()\n",
    "\n",
    "        result = []\n",
    "        interset = set()\n",
    "        for num in nums2:\n",
    "            if self.is_in_nums_by_binary_search(nums1, num):\n",
    "                interset.add(num)\n",
    "\n",
    "        result = list(interset)\n",
    "        return result\n",
    "    \n",
    "    def is_in_nums_by_binary_search(self, nums, num):\n",
    "        left, right = 0, len(nums) - 1\n",
    "        while left + 1 < right:\n",
    "            mid = (left + right) // 2\n",
    "            if nums[mid] == num:\n",
    "                return True\n",
    "            \n",
    "            if nums[mid] < num:\n",
    "                left = mid\n",
    "            else:\n",
    "                right = mid\n",
    "        if nums[left] == num or nums[right] == num:\n",
    "            return True\n",
    "        return False"
   ]
  },
  {
   "cell_type": "code",
   "execution_count": 8,
   "metadata": {},
   "outputs": [
    {
     "name": "stdout",
     "output_type": "stream",
     "text": [
      "[2]\n"
     ]
    }
   ],
   "source": [
    "solution = Solution()\n",
    "nums1 = [1,2,2,1]\n",
    "nums2 = [2,2]\n",
    "print(solution.intersection(nums1, nums2))"
   ]
  },
  {
   "cell_type": "code",
   "execution_count": null,
   "metadata": {},
   "outputs": [],
   "source": []
  }
 ],
 "metadata": {
  "kernelspec": {
   "display_name": "Python 3",
   "language": "python",
   "name": "python3"
  },
  "language_info": {
   "codemirror_mode": {
    "name": "ipython",
    "version": 3
   },
   "file_extension": ".py",
   "mimetype": "text/x-python",
   "name": "python",
   "nbconvert_exporter": "python",
   "pygments_lexer": "ipython3",
   "version": "3.7.1"
  }
 },
 "nbformat": 4,
 "nbformat_minor": 2
}
