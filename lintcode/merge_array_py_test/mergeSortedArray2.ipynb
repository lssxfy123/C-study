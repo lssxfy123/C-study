{
 "cells": [
  {
   "cell_type": "code",
   "execution_count": 1,
   "metadata": {},
   "outputs": [],
   "source": [
    "# Copyright(C) 2021 刘珅珅\n",
    "# Environment: python 3.7\n",
    "# Date: 2021.4.1\n",
    "# 合并排序数组：lintcode 64"
   ]
  },
  {
   "cell_type": "code",
   "execution_count": 1,
   "metadata": {},
   "outputs": [],
   "source": [
    "class Solution:\n",
    "    \"\"\"\n",
    "    @param: A: sorted integer array A which has m elements, but size of A is m+n\n",
    "    @param: m: An integer\n",
    "    @param: B: sorted integer array B which has n elements\n",
    "    @param: n: An integer\n",
    "    @return: nothing\n",
    "    \"\"\"\n",
    "    def mergeSortedArray(self, A, m, B, n):\n",
    "        # write your code here\n",
    "        ## A的size为m+n，其右边界为m+n - 1\n",
    "        right_border_A = m + n - 1\n",
    "        current_A = m - 1\n",
    "        \"\"\"\n",
    "        解题思路：由于A的头部没有空间，尾部有空间，如果直接从A和B的头开始比较，时间复杂度最坏能有O(n*m)\n",
    "        可以从A和B的尾部开始比较，较大的放大尾部后面的空间里\n",
    "        \"\"\"\n",
    "        i = n - 1\n",
    "        while i >= 0:\n",
    "            ## A中的元素都被往后挪了\n",
    "            if current_A < 0:\n",
    "                ## A中剩余的位置是0-right_border_A\n",
    "                ## B中剩余的元素肯定也是0-right_border_A\n",
    "                for j in range(right_border_A + 1):\n",
    "                    A[j] = B[j]\n",
    "                break\n",
    "            \n",
    "            if A[current_A] > B[i]:\n",
    "                A[right_border_A] = A[current_A]\n",
    "                right_border_A -= 1\n",
    "                current_A -= 1\n",
    "            else:\n",
    "                ## B中的元素放到右边界位置，然后比较B的下一个元素\n",
    "                A[right_border_A] = B[i]\n",
    "                right_border_A -= 1\n",
    "                i -= 1\n"
   ]
  },
  {
   "cell_type": "code",
   "execution_count": 6,
   "metadata": {},
   "outputs": [
    {
     "name": "stdout",
     "output_type": "stream",
     "text": [
      "None\n",
      "[1, 2, 3, 4, 5]\n"
     ]
    }
   ],
   "source": [
    "solution = Solution()\n",
    "A = [1, 3, 5, -1, -1]\n",
    "print(solution.mergeSortedArray(A, 3, [2,4], 2))\n",
    "print(A)"
   ]
  },
  {
   "cell_type": "code",
   "execution_count": null,
   "metadata": {},
   "outputs": [],
   "source": []
  }
 ],
 "metadata": {
  "kernelspec": {
   "display_name": "Python 3",
   "language": "python",
   "name": "python3"
  },
  "language_info": {
   "codemirror_mode": {
    "name": "ipython",
    "version": 3
   },
   "file_extension": ".py",
   "mimetype": "text/x-python",
   "name": "python",
   "nbconvert_exporter": "python",
   "pygments_lexer": "ipython3",
   "version": "3.7.1"
  }
 },
 "nbformat": 4,
 "nbformat_minor": 2
}
