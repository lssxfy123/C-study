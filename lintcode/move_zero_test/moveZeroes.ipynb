{
 "cells": [
  {
   "cell_type": "code",
   "execution_count": 1,
   "metadata": {},
   "outputs": [],
   "source": [
    "# Copyright(C) 2021 刘珅珅\n",
    "# Environment: python 3.7\n",
    "# Date: 2021.2.15\n",
    "# 移动零：lintcode 539"
   ]
  },
  {
   "cell_type": "code",
   "execution_count": 2,
   "metadata": {},
   "outputs": [],
   "source": [
    "## 不考虑原来元素的顺序\n",
    "class Solution:\n",
    "    \"\"\"\n",
    "    @param nums: an integer array\n",
    "    @return: nothing\n",
    "    \"\"\"\n",
    "    def moveZeroes(self, nums):\n",
    "        # write your code here\n",
    "        if not nums or len(nums) < 2:\n",
    "            return\n",
    "        \n",
    "        left, right = 0, len(nums) - 1\n",
    "        while left < right:\n",
    "            while left < right and nums[left]:\n",
    "                left += 1\n",
    "            while left < right and not nums[right]:\n",
    "                right -= 1\n",
    "            \n",
    "            if left < right:\n",
    "                nums[left], nums[right] = nums[right], nums[left]\n",
    "                left += 1\n",
    "                right -= 1\n",
    "                \n",
    "                 "
   ]
  },
  {
   "cell_type": "code",
   "execution_count": null,
   "metadata": {},
   "outputs": [],
   "source": [
    "## 考虑原来元素的顺序\n",
    "## 同向双指针\n",
    "class Solution:\n",
    "    \"\"\"\n",
    "    @param nums: an integer array\n",
    "    @return: nothing\n",
    "    \"\"\"\n",
    "    def moveZeroes(self, nums):\n",
    "        # write your code here\n",
    "        if not nums or len(nums) < 2:\n",
    "            return\n",
    "        \n",
    "        ## 尽量不要使用插入操作，比较耗时\n",
    "        left, right = 0, 0\n",
    "        while right < len(nums):\n",
    "            ## left, right刚开始都指向0位置\n",
    "            ## 如果nums[right]不为0，则left加1\n",
    "            ## 而right每次循环都加1，如果left!=right\n",
    "            ## 则left到right的之间(包含left，不包含right)的元素肯定都为0\n",
    "            ## 将nums[right]覆盖nums[left]，其实就是把非0的元素向数组前面移动\n",
    "            ## 例如:nums = [1, 0, 2, 3]，每次循环后，nums分别为：\n",
    "            ## [1, 0, 2, 3]:left = 1, right = 1\n",
    "            ## [1, 0, 2, 3]:left = 1, right = 2\n",
    "            ## [1, 2, 2, 3]:left = 2, right = 3\n",
    "            ## [1, 2, 3, 3]:left = 3, right = 4，此时退出循环\n",
    "            ## 可以看出nums中非0的元素都被移动到了一起，但多出了一些\n",
    "            ## 后面的while循环就是将其修正为0\n",
    "            if nums[right] != 0:\n",
    "                if left != right:\n",
    "                    nums[left] = nums[right]\n",
    "                left += 1\n",
    "            right += 1\n",
    "            \n",
    "        ## left之后的元素应该全部为0\n",
    "        while left < len(nums):\n",
    "            if nums[left] != 0:\n",
    "                nums[left] = 0\n",
    "            left += 1"
   ]
  },
  {
   "cell_type": "code",
   "execution_count": 3,
   "metadata": {},
   "outputs": [
    {
     "name": "stdout",
     "output_type": "stream",
     "text": [
      "[2, 2, 2, 2, 2, 1, 1, 1, 0, 0, 0, 0, 0, 0, 0]\n"
     ]
    }
   ],
   "source": [
    "solution = Solution()\n",
    "nums = [0,2,2,2,2,1,0,1,0,0,0,1,0,2,0]\n",
    "solution.moveZeroes(nums)\n",
    "print(nums)"
   ]
  },
  {
   "cell_type": "code",
   "execution_count": null,
   "metadata": {},
   "outputs": [],
   "source": []
  }
 ],
 "metadata": {
  "kernelspec": {
   "display_name": "Python 3",
   "language": "python",
   "name": "python3"
  },
  "language_info": {
   "codemirror_mode": {
    "name": "ipython",
    "version": 3
   },
   "file_extension": ".py",
   "mimetype": "text/x-python",
   "name": "python",
   "nbconvert_exporter": "python",
   "pygments_lexer": "ipython3",
   "version": "3.7.1"
  }
 },
 "nbformat": 4,
 "nbformat_minor": 2
}
