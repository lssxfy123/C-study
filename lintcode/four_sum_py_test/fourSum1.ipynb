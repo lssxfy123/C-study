{
 "cells": [
  {
   "cell_type": "code",
   "execution_count": 1,
   "metadata": {},
   "outputs": [],
   "source": [
    "# Copyright(C) 2021 刘珅珅\n",
    "# Environment: python 3.7\n",
    "# Date: 2021.2.17\n",
    "# 4数和 II：lintcode 976"
   ]
  },
  {
   "cell_type": "code",
   "execution_count": 1,
   "metadata": {},
   "outputs": [],
   "source": [
    "class Solution:\n",
    "    \"\"\"\n",
    "    @param A: a list\n",
    "    @param B: a list\n",
    "    @param C: a list\n",
    "    @param D: a list\n",
    "    @return: how many tuples (i, j, k, l) there are such that A[i] + B[j] + C[k] + D[l] is zero\n",
    "    \"\"\"\n",
    "    def fourSumCount(self, A, B, C, D):\n",
    "        # Write your code here\n",
    "        if not A or not B or not C or not D:\n",
    "            return 0\n",
    "        ## 4个数组长度相同\n",
    "        if len(A) == 0:\n",
    "            return 0\n",
    "        \n",
    "        counter = {}\n",
    "        ans = 0\n",
    "        for a in A:\n",
    "            for b in B:\n",
    "                ## 如果字典中存在key为a+b的元素就取出对应的值\n",
    "                ## 如果不存在，就取0\n",
    "                counter[a + b] = counter.get(a + b, 0) + 1\n",
    "        \n",
    "        for c in C:\n",
    "            for d in D:\n",
    "                ans += counter.get(-c - d, 0)\n",
    "        return ans"
   ]
  },
  {
   "cell_type": "code",
   "execution_count": 3,
   "metadata": {},
   "outputs": [
    {
     "name": "stdout",
     "output_type": "stream",
     "text": [
      "2\n"
     ]
    }
   ],
   "source": [
    "solution = Solution()\n",
    "A = [1, 2]\n",
    "B = [-2,-1]\n",
    "C = [-1, 2]\n",
    "D = [0, 2]\n",
    "print(solution.fourSumCount(A, B, C, D))"
   ]
  },
  {
   "cell_type": "code",
   "execution_count": null,
   "metadata": {},
   "outputs": [],
   "source": []
  }
 ],
 "metadata": {
  "kernelspec": {
   "display_name": "Python 3",
   "language": "python",
   "name": "python3"
  },
  "language_info": {
   "codemirror_mode": {
    "name": "ipython",
    "version": 3
   },
   "file_extension": ".py",
   "mimetype": "text/x-python",
   "name": "python",
   "nbconvert_exporter": "python",
   "pygments_lexer": "ipython3",
   "version": "3.7.1"
  }
 },
 "nbformat": 4,
 "nbformat_minor": 2
}
