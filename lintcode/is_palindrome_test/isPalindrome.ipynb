{
 "cells": [
  {
   "cell_type": "code",
   "execution_count": 1,
   "metadata": {},
   "outputs": [],
   "source": [
    "# Copyright(C) 2021 刘珅珅\n",
    "# Environment: python 3.7\n",
    "# Date: 2021.1.26\n",
    "# 有效回文串:lintcode 415"
   ]
  },
  {
   "cell_type": "code",
   "execution_count": 8,
   "metadata": {},
   "outputs": [],
   "source": [
    "## 时间复杂度O(n)\n",
    "class Solution:\n",
    "    \"\"\"\n",
    "    @param s: A string\n",
    "    @return: Whether the string is a valid palindrome\n",
    "    \"\"\"\n",
    "    def isPalindrome(self, s):\n",
    "        # write your code here\n",
    "        ## 即使字符串只有1个标点，则视其为空串，也是回文串\n",
    "        if not s or len(s) <= 1:\n",
    "            return True\n",
    "        \n",
    "        left = 0\n",
    "        right = len(s) - 1\n",
    "        while (left < right):\n",
    "            if not(s[left].isdigit() or s[left].isalpha()):\n",
    "                left += 1\n",
    "                continue\n",
    "                \n",
    "            if not(s[right].isdigit() or s[right].isalpha()):\n",
    "                right -= 1\n",
    "                continue\n",
    "            \n",
    "            if s[left].lower() != s[right].lower():\n",
    "                return False\n",
    "            else:\n",
    "                left += 1\n",
    "                right -= 1\n",
    "        return True\n",
    "            "
   ]
  },
  {
   "cell_type": "code",
   "execution_count": 3,
   "metadata": {},
   "outputs": [],
   "source": [
    "## 时间复杂度O(n)\n",
    "class Solution:\n",
    "    \"\"\"\n",
    "    @param s: A string\n",
    "    @return: Whether the string is a valid palindrome\n",
    "    \"\"\"\n",
    "    def isPalindrome(self, s):\n",
    "        # write your code here\n",
    "        ## 即使字符串只有1个标点，则视其为空串，也是回文串\n",
    "        if not s or len(s) <= 1:\n",
    "            return True\n",
    "        \n",
    "        left = 0\n",
    "        right = len(s) - 1\n",
    "        ## 尽管有两层while循环，但时间复杂度为O(n)\n",
    "        ## 内层的两个while循环和外层的一个while循环\n",
    "        ## 只会把s中的所有字符都访问1次，不会出现多次的情况\n",
    "        while (left < right):\n",
    "            ## 优化代码\n",
    "            while left < right and not self.is_valid(s[left]):\n",
    "                left += 1\n",
    "                \n",
    "            while left < right and not self.is_valid(s[right]):\n",
    "                right -= 1\n",
    "                continue\n",
    "            \n",
    "            if left < right and s[left].lower() != s[right].lower():\n",
    "                return False\n",
    "            left += 1\n",
    "            right -= 1\n",
    "        return True\n",
    "    \n",
    "    def is_valid(self, char):\n",
    "        return char.isdigit() or char.isalpha()"
   ]
  },
  {
   "cell_type": "code",
   "execution_count": 4,
   "metadata": {},
   "outputs": [
    {
     "name": "stdout",
     "output_type": "stream",
     "text": [
      "True\n"
     ]
    }
   ],
   "source": [
    "solution = Solution()\n",
    "print(solution.isPalindrome(\"a\"))"
   ]
  },
  {
   "cell_type": "code",
   "execution_count": 7,
   "metadata": {},
   "outputs": [
    {
     "name": "stdout",
     "output_type": "stream",
     "text": [
      "True\n"
     ]
    }
   ],
   "source": [
    "s = \"abcA, 12\"\n",
    "print(s[3].isdigit() or s[3].isalpha())"
   ]
  },
  {
   "cell_type": "code",
   "execution_count": null,
   "metadata": {},
   "outputs": [],
   "source": []
  }
 ],
 "metadata": {
  "kernelspec": {
   "display_name": "Python 3",
   "language": "python",
   "name": "python3"
  },
  "language_info": {
   "codemirror_mode": {
    "name": "ipython",
    "version": 3
   },
   "file_extension": ".py",
   "mimetype": "text/x-python",
   "name": "python",
   "nbconvert_exporter": "python",
   "pygments_lexer": "ipython3",
   "version": "3.7.1"
  }
 },
 "nbformat": 4,
 "nbformat_minor": 2
}
