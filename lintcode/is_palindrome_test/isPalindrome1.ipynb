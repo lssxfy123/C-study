{
 "cells": [
  {
   "cell_type": "code",
   "execution_count": 1,
   "metadata": {},
   "outputs": [],
   "source": [
    "# Copyright(C) 2021 刘珅珅\n",
    "# Environment: python 3.7\n",
    "# Date: 2021.2.12\n",
    "# 有效回文串 II:lintcode 891"
   ]
  },
  {
   "cell_type": "code",
   "execution_count": 10,
   "metadata": {},
   "outputs": [],
   "source": [
    "## 时间复杂度O(n)\n",
    "class Solution:\n",
    "    \"\"\"\n",
    "    @param s: A string\n",
    "    @return: Whether the string is a valid palindrome\n",
    "    \"\"\"\n",
    "    def validPalindrome(self, s):\n",
    "        # write your code here\n",
    "        if not s or len(s) <= 2:\n",
    "            return True\n",
    "        \n",
    "        left, right = self.find_diff(s, 0, len(s) - 1)\n",
    "        \n",
    "        ## 原始字符串是回文串，不需要剔除1个字符\n",
    "        if left >= right:\n",
    "            return True\n",
    "        \n",
    "        return self.is_palindrome(s, left + 1, right) or self.is_palindrome(s, left, right - 1)\n",
    "    \n",
    "    ## 寻找第一个不相等的位置\n",
    "    def find_diff(self, s, left, right):\n",
    "        while left < right:\n",
    "            if s[left] != s[right]:\n",
    "                return left, right\n",
    "            left += 1\n",
    "            right -= 1\n",
    "        return left, right\n",
    "    \n",
    "    ## 判断是否为回文串，复用上面find_diff，避免重复代码\n",
    "    def is_palindrome(self, s, left, right):\n",
    "        left, right = self.find_diff(s, left, right)\n",
    "        return left >= right    \n",
    "                  "
   ]
  },
  {
   "cell_type": "code",
   "execution_count": 12,
   "metadata": {},
   "outputs": [
    {
     "name": "stdout",
     "output_type": "stream",
     "text": [
      "True\n"
     ]
    }
   ],
   "source": [
    "solution = Solution()\n",
    "print(solution.validPalindrome(\"abc\"))"
   ]
  },
  {
   "cell_type": "code",
   "execution_count": null,
   "metadata": {},
   "outputs": [],
   "source": []
  }
 ],
 "metadata": {
  "kernelspec": {
   "display_name": "Python 3",
   "language": "python",
   "name": "python3"
  },
  "language_info": {
   "codemirror_mode": {
    "name": "ipython",
    "version": 3
   },
   "file_extension": ".py",
   "mimetype": "text/x-python",
   "name": "python",
   "nbconvert_exporter": "python",
   "pygments_lexer": "ipython3",
   "version": "3.7.1"
  }
 },
 "nbformat": 4,
 "nbformat_minor": 2
}
