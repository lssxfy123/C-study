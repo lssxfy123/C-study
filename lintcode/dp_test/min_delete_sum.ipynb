{
 "cells": [
  {
   "cell_type": "code",
   "execution_count": 1,
   "metadata": {},
   "outputs": [],
   "source": [
    "# Copyright(C) 2021 刘珅珅\n",
    "# Environment: python 3.7\n",
    "# Date: 2021.4.7\n",
    "# 两字符串ASCII的最小删除和：lintcode 1076"
   ]
  },
  {
   "cell_type": "markdown",
   "metadata": {},
   "source": [
    "## 转换为寻找最大公共子序列的问题，找到最大公共子列后，分别用两个字符串的ASCII码和减去最大公共子序列的ASII码和，相加就是最小删除和。\n",
    "## 两个字符串的长度都小于1000，不会出现数值越界的问题"
   ]
  },
  {
   "cell_type": "code",
   "execution_count": 25,
   "metadata": {},
   "outputs": [],
   "source": [
    "class Solution:\n",
    "    \"\"\"\n",
    "    @param s1: a string\n",
    "    @param s2: a string\n",
    "    @return: the lowest ASCII sum of deleted characters to make two strings equal\n",
    "    \"\"\"\n",
    "    def minimumDeleteSum(self, s1, s2):\n",
    "        # Write your code here\n",
    "        if not s1:\n",
    "            return self.sum_ascii(s2)\n",
    "        if not s2:\n",
    "            return self.sum_ascii(s1)\n",
    "        \n",
    "    \n",
    "    def sum_ascii(self, s):\n",
    "        sum = 0\n",
    "        for char in s:\n",
    "            sum += ord(char)\n",
    "        return sum"
   ]
  },
  {
   "cell_type": "code",
   "execution_count": 26,
   "metadata": {},
   "outputs": [
    {
     "name": "stdout",
     "output_type": "stream",
     "text": [
      "-1\n"
     ]
    }
   ],
   "source": [
    "s1 = \"sea\"\n",
    "s2 = \"eat\"\n",
    "solution = Solution()\n",
    "print(solution.minimumDeleteSum(s1, s2))"
   ]
  },
  {
   "cell_type": "code",
   "execution_count": null,
   "metadata": {},
   "outputs": [],
   "source": []
  }
 ],
 "metadata": {
  "kernelspec": {
   "display_name": "Python 3",
   "language": "python",
   "name": "python3"
  },
  "language_info": {
   "codemirror_mode": {
    "name": "ipython",
    "version": 3
   },
   "file_extension": ".py",
   "mimetype": "text/x-python",
   "name": "python",
   "nbconvert_exporter": "python",
   "pygments_lexer": "ipython3",
   "version": "3.7.1"
  }
 },
 "nbformat": 4,
 "nbformat_minor": 2
}
