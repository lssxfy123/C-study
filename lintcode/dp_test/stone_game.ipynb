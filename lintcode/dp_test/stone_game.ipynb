{
 "cells": [
  {
   "cell_type": "code",
   "execution_count": 1,
   "metadata": {},
   "outputs": [],
   "source": [
    "# Copyright(C) 2021 刘珅珅\n",
    "# Environment: python 3.7\n",
    "# Date: 2021.4.1\n",
    "# 石子归并：lintcode 476"
   ]
  },
  {
   "cell_type": "markdown",
   "metadata": {},
   "source": [
    "# 区间型动态规划"
   ]
  },
  {
   "cell_type": "code",
   "execution_count": 14,
   "metadata": {},
   "outputs": [],
   "source": [
    "class Solution:\n",
    "    \"\"\"\n",
    "    @param A: An integer array\n",
    "    @return: An integer\n",
    "    \"\"\"\n",
    "    def stoneGame(self, A):\n",
    "        # write your code here\n",
    "        if not A or len(A) < 2:\n",
    "            return 0\n",
    "        \n",
    "        ## 状态：dp[i][j]从i合并到j的最小耗费\n",
    "        n = len(A)\n",
    "        dp = [[float('inf')] * n for _ in range(n)]\n",
    "        \n",
    "        ## 初始化:1堆石子的合并耗费为0\n",
    "        for i in range(n):\n",
    "            dp[i][i] = 0\n",
    "        \n",
    "        ## 状态转移方程：dp[i][j]=min(dp[i][k]+dp[k+1][j])+sum(i,j)\n",
    "        ## 其中i<=k<j，由于每次只能合并相邻的石子堆，从i合并到j有j-i中划分方式，把它划分成两部分\n",
    "        ## 这两部分各自的耗费相加再加上它们合并的耗费就是dp[i][j]\n",
    "        ## sum(i,j)表示i到j的子数组和，它就是dp[i][k]与dp[k][j]进行合并的耗费，无论怎么划分，最后1次合并时\n",
    "        ## 的耗费都是sum(i,j)，就是A中从i到j的元素相加的和\n",
    "        ## 从上述的状态转移方程可以看出，i依赖于更后面的i，k+1是大于i的，所以i要从后往前进行递推\n",
    "        for i in range(n - 2, -1, -1):\n",
    "            for j in range(i + 1, n):\n",
    "                for k in range(i, j):         \n",
    "                    dp[i][j] = min(dp[i][j], dp[i][k] + dp[k + 1][j] + sum(A[i : j + 1]))\n",
    "        \n",
    "                    \n",
    "        return dp[0][n - 1]\n",
    "                \n",
    "        \n"
   ]
  },
  {
   "cell_type": "code",
   "execution_count": 16,
   "metadata": {},
   "outputs": [
    {
     "name": "stdout",
     "output_type": "stream",
     "text": [
      "1 2 7\n",
      "0 1 7\n",
      "0 2 10\n",
      "0 2 10\n",
      "[[0, 7, 17], [inf, 0, 7], [inf, inf, 0]]\n",
      "17\n"
     ]
    }
   ],
   "source": [
    "A = [3,4,3]\n",
    "#A = [4, 1, 1, 4]\n",
    "solution = Solution()\n",
    "print(solution.stoneGame(A))"
   ]
  },
  {
   "cell_type": "code",
   "execution_count": null,
   "metadata": {},
   "outputs": [],
   "source": []
  }
 ],
 "metadata": {
  "kernelspec": {
   "display_name": "Python 3",
   "language": "python",
   "name": "python3"
  },
  "language_info": {
   "codemirror_mode": {
    "name": "ipython",
    "version": 3
   },
   "file_extension": ".py",
   "mimetype": "text/x-python",
   "name": "python",
   "nbconvert_exporter": "python",
   "pygments_lexer": "ipython3",
   "version": "3.7.1"
  }
 },
 "nbformat": 4,
 "nbformat_minor": 2
}
