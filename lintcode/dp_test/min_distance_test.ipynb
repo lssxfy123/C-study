{
 "cells": [
  {
   "cell_type": "code",
   "execution_count": 1,
   "metadata": {},
   "outputs": [],
   "source": [
    "# Copyright(C) 2021 刘珅珅\n",
    "# Environment: python 3.7\n",
    "# Date: 2021.4.3\n",
    "# 编辑距离：lintcode 119"
   ]
  },
  {
   "cell_type": "code",
   "execution_count": 5,
   "metadata": {},
   "outputs": [],
   "source": [
    "class Solution:\n",
    "    \"\"\"\n",
    "    @param word1: A string\n",
    "    @param word2: A string\n",
    "    @return: The minimum number of steps.\n",
    "    \"\"\"\n",
    "    def minDistance(self, word1, word2):\n",
    "        # write your code here\n",
    "        ## 状态：dp[i][j]：表示word1的前i个字符转换为word2的前j个字符的最少操作次数\n",
    "        n, m = len(word1), len(word2)\n",
    "        dp = [[float('inf')] * (m + 1) for _ in range(n + 1)]\n",
    "        \n",
    "        ## 初始化\n",
    "        ## 需要进行初始化的原因是后续的状态转移方程中，无法迭代到dp[i][0]和dp[0][j]\n",
    "        ## dp创建时所有元素都是float('inf')，所以需要单独对它们进行初始化\n",
    "        for i in range(n + 1):\n",
    "            dp[i][0] = i\n",
    "        \n",
    "        for j in range(m + 1):\n",
    "            dp[0][j] = j\n",
    "        \n",
    "        for i in range(1, n + 1):\n",
    "            for j in range(1, m + 1):\n",
    "                if word1[i - 1] == word2[j - 1]:\n",
    "                    ## 有3种情况：word1前i-1个字符转换为word2前j-1个字符的dp[i-1][j-1]\n",
    "                    ## word1前i-1个字符转换为word2前j个字符，这样就需要删除掉word1的第i个字符，所以要加1\n",
    "                    ## word1前i个字符转换为word2的前j-1个字符，这样就需要加上word2的第j个字符，所以也需要加1\n",
    "                    dp[i][j] = min(dp[i - 1][j - 1], dp[i - 1][j] + 1, dp[i][j - 1] + 1)\n",
    "                else:\n",
    "                    ## word1前i-1个字符转换为word2前j-1个字符，还需要把word1[i-1]转换为word2[j-1]，所以需要加1\n",
    "                    dp[i][j] = min(dp[i - 1][j - 1] + 1, dp[i - 1][j] + 1, dp[i][j - 1] + 1)\n",
    "        return dp[n][m]\n"
   ]
  },
  {
   "cell_type": "code",
   "execution_count": 6,
   "metadata": {},
   "outputs": [
    {
     "name": "stdout",
     "output_type": "stream",
     "text": [
      "3\n"
     ]
    }
   ],
   "source": [
    "word1 = \"horse\"\n",
    "word2 = \"ros\"\n",
    "solution = Solution()\n",
    "print(solution.minDistance(word1, word2))"
   ]
  },
  {
   "cell_type": "code",
   "execution_count": null,
   "metadata": {},
   "outputs": [],
   "source": []
  }
 ],
 "metadata": {
  "kernelspec": {
   "display_name": "Python 3",
   "language": "python",
   "name": "python3"
  },
  "language_info": {
   "codemirror_mode": {
    "name": "ipython",
    "version": 3
   },
   "file_extension": ".py",
   "mimetype": "text/x-python",
   "name": "python",
   "nbconvert_exporter": "python",
   "pygments_lexer": "ipython3",
   "version": "3.7.1"
  }
 },
 "nbformat": 4,
 "nbformat_minor": 2
}
