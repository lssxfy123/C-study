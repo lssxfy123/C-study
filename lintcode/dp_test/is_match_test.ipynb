{
 "cells": [
  {
   "cell_type": "code",
   "execution_count": 1,
   "metadata": {},
   "outputs": [],
   "source": [
    "# Copyright(C) 2021 刘珅珅\n",
    "# Environment: python 3.7\n",
    "# Date: 2021.3.17\n",
    "# 通配符匹配：lintcode 192"
   ]
  },
  {
   "cell_type": "markdown",
   "metadata": {},
   "source": [
    "# 动态规划版"
   ]
  },
  {
   "cell_type": "code",
   "execution_count": 5,
   "metadata": {},
   "outputs": [],
   "source": [
    "class Solution:\n",
    "    \"\"\"\n",
    "    @param s: A string \n",
    "    @param p: A string includes \"?\" and \"*\"\n",
    "    @return: is Match?\n",
    "    \"\"\"\n",
    "    def isMatch(self, s, p):\n",
    "        # write your code here\n",
    "        ## 空串不是None，但not \"\"得到的值是True\n",
    "        if s is None or p is None:\n",
    "            return False\n",
    "        ## 状态：dp[i][j]表示s的前i个字符是否和p的前j个字符匹配\n",
    "        n, m = len(s), len(p)\n",
    "        dp = [[False] * (m + 1) for _ in range(n + 1)]\n",
    "        \n",
    "        ## 初始化：s和p都不取字符，两个空字符串是匹配的\n",
    "        dp[0][0] = True\n",
    "        ## 只有p包含通配符\n",
    "        for j in range(1, m + 1):\n",
    "            if p[j - 1] != \"*\":\n",
    "                break\n",
    "            dp[0][j] = True\n",
    "        \n",
    "        for i in range(1, n + 1):\n",
    "            for j in range(1, m + 1):\n",
    "                ## 状态转移方程\n",
    "                if dp[i - 1][j - 1] and (s[i - 1] == p[j - 1] or p[j - 1] == \"*\" or p[j - 1] == \"?\"):\n",
    "                    dp[i][j] = True\n",
    "                    continue\n",
    "                \n",
    "                if (dp[i][j - 1] or dp[i - 1][j]) and p[j - 1] == \"*\":\n",
    "                    dp[i][j] = True\n",
    "        \n",
    "        return dp[n][m]\n",
    "                "
   ]
  },
  {
   "cell_type": "code",
   "execution_count": 6,
   "metadata": {},
   "outputs": [
    {
     "name": "stdout",
     "output_type": "stream",
     "text": [
      "True\n"
     ]
    }
   ],
   "source": [
    "s = \"aa\"\n",
    "p = \"*\"\n",
    "solution = Solution()\n",
    "print(solution.isMatch(s, p))"
   ]
  },
  {
   "cell_type": "code",
   "execution_count": 7,
   "metadata": {},
   "outputs": [
    {
     "data": {
      "text/plain": [
       "False"
      ]
     },
     "execution_count": 7,
     "metadata": {},
     "output_type": "execute_result"
    }
   ],
   "source": [
    "\"\" is None"
   ]
  },
  {
   "cell_type": "code",
   "execution_count": null,
   "metadata": {},
   "outputs": [],
   "source": []
  }
 ],
 "metadata": {
  "kernelspec": {
   "display_name": "Python 3",
   "language": "python",
   "name": "python3"
  },
  "language_info": {
   "codemirror_mode": {
    "name": "ipython",
    "version": 3
   },
   "file_extension": ".py",
   "mimetype": "text/x-python",
   "name": "python",
   "nbconvert_exporter": "python",
   "pygments_lexer": "ipython3",
   "version": "3.7.1"
  }
 },
 "nbformat": 4,
 "nbformat_minor": 2
}
