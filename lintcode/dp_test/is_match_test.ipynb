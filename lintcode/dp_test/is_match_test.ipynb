{
 "cells": [
  {
   "cell_type": "code",
   "execution_count": 1,
   "metadata": {},
   "outputs": [],
   "source": [
    "# Copyright(C) 2021 刘珅珅\n",
    "# Environment: python 3.7\n",
    "# Date: 2021.3.17\n",
    "# 通配符匹配：lintcode 192"
   ]
  },
  {
   "cell_type": "markdown",
   "metadata": {},
   "source": [
    "# 动态规划版"
   ]
  },
  {
   "cell_type": "code",
   "execution_count": 5,
   "metadata": {},
   "outputs": [],
   "source": [
    "class Solution:\n",
    "    \"\"\"\n",
    "    @param s: A string \n",
    "    @param p: A string includes \"?\" and \"*\"\n",
    "    @return: is Match?\n",
    "    \"\"\"\n",
    "    def isMatch(self, s, p):\n",
    "        # write your code here\n",
    "        ## 空串不是None，但not \"\"得到的值是True\n",
    "        if s is None or p is None:\n",
    "            return False\n",
    "        ## 状态：dp[i][j]表示s的前i个字符是否和p的前j个字符匹配\n",
    "        n, m = len(s), len(p)\n",
    "        dp = [[False] * (m + 1) for _ in range(n + 1)]\n",
    "        \n",
    "        ## 初始化：s和p都不取字符，两个空字符串是匹配的\n",
    "        dp[0][0] = True\n",
    "        ## 只有p包含通配符\n",
    "        for j in range(1, m + 1):\n",
    "            if p[j - 1] != \"*\":\n",
    "                break\n",
    "            dp[0][j] = True\n",
    "        \n",
    "        for i in range(1, n + 1):\n",
    "            for j in range(1, m + 1):\n",
    "                ## 状态转移方程\n",
    "                if dp[i - 1][j - 1] and (s[i - 1] == p[j - 1] or p[j - 1] == \"*\" or p[j - 1] == \"?\"):\n",
    "                    dp[i][j] = True\n",
    "                    continue\n",
    "                \n",
    "                if (dp[i][j - 1] or dp[i - 1][j]) and p[j - 1] == \"*\":\n",
    "                    dp[i][j] = True\n",
    "        \n",
    "        return dp[n][m]\n",
    "                "
   ]
  },
  {
   "cell_type": "markdown",
   "metadata": {},
   "source": [
    "## 滚动数组优化"
   ]
  },
  {
   "cell_type": "code",
   "execution_count": 9,
   "metadata": {},
   "outputs": [],
   "source": [
    "class Solution:\n",
    "    \"\"\"\n",
    "    @param s: A string \n",
    "    @param p: A string includes \"?\" and \"*\"\n",
    "    @return: is Match?\n",
    "    \"\"\"\n",
    "    def isMatch(self, s, p):\n",
    "        # write your code here\n",
    "        ## 空串不是None，但not \"\"得到的值是True\n",
    "        if s is None or p is None:\n",
    "            return False\n",
    "        ## 状态：dp[i][j]表示s的前i个字符是否和p的前j个字符匹配\n",
    "        n, m = len(s), len(p)\n",
    "        dp = [[False] * (m + 1) for _ in range(2)]\n",
    "        \n",
    "        ## 初始化：s和p都不取字符，两个空字符串是匹配的\n",
    "        dp[0][0] = True\n",
    "        ## 只有p包含通配符\n",
    "        for j in range(1, m + 1):\n",
    "            if p[j - 1] != \"*\":\n",
    "                break\n",
    "            dp[0][j] = True\n",
    "        \n",
    "        for i in range(1, n + 1):\n",
    "            ## 需要在这里进行初始化，dp[0][0]=True，而之后dp[1][0],dp[2][0],dp[4][0]都是False，所以需要覆盖掉dp[0][0]\n",
    "            dp[i % 2][0] = False\n",
    "            for j in range(1, m + 1):\n",
    "                ## 状态转移方程\n",
    "                if p[j - 1] == \"*\":\n",
    "                    dp[i % 2][j] = dp[i % 2][j - 1] or dp[(i - 1) % 2][j]\n",
    "                else:\n",
    "                    dp[i % 2][j] = dp[(i - 1) % 2][j - 1] and (s[i - 1] == p[j - 1] or p[j - 1] == \"?\")\n",
    "        \n",
    "        return dp[n % 2][m]\n",
    "                "
   ]
  },
  {
   "cell_type": "code",
   "execution_count": 10,
   "metadata": {},
   "outputs": [
    {
     "name": "stdout",
     "output_type": "stream",
     "text": [
      "False\n"
     ]
    }
   ],
   "source": [
    "s = \"aa\"\n",
    "p = \"*\"\n",
    "s = \"bbbbabaabbabbababaabaabababaababaaaabaaabbbabbbbbbabbabbabbaaabaababbbababbbaaababbbbaabbaababbabababbbbbbabbbbbaabbabaababbabbbbbbaabbbabbbaabaaababaabaaaabababbababbaaabbaabaabaabbbbbbaabbaaaaaabbabb\"\n",
    "p = \"aa***bb*b**a***bb***b*b*ba********ba***bbbb*bba*a*b***ba*a*b**aabbba*aba****a*ba*****a*bab**a**b**b*a*\"\n",
    "s = \"abbabaaabbabbaababbabbbbbabbbabbbabaaaaababababbbabababaabbababaabbbbbbaaaabababbbaabbbbaabbbbababababbaabbaababaabbbababababbbbaaabbbbbabaaaabbababbbbaababaabbababbbbbababbbabaaaaaaaabbbbbaabaaababaaaabb\"\n",
    "p = \"**aa*****ba*a*bb**aa*ab****a*aaaaaa***a*aaaa**bbabb*b*b**aaaaaaaaa*a********ba*bbb***a*ba*bb*bb**a*b*bb\"\n",
    "solution = Solution()\n",
    "print(solution.isMatch(s, p))"
   ]
  },
  {
   "cell_type": "code",
   "execution_count": 7,
   "metadata": {},
   "outputs": [
    {
     "data": {
      "text/plain": [
       "False"
      ]
     },
     "execution_count": 7,
     "metadata": {},
     "output_type": "execute_result"
    }
   ],
   "source": [
    "\"\" is None"
   ]
  },
  {
   "cell_type": "code",
   "execution_count": null,
   "metadata": {},
   "outputs": [],
   "source": []
  }
 ],
 "metadata": {
  "kernelspec": {
   "display_name": "Python 3",
   "language": "python",
   "name": "python3"
  },
  "language_info": {
   "codemirror_mode": {
    "name": "ipython",
    "version": 3
   },
   "file_extension": ".py",
   "mimetype": "text/x-python",
   "name": "python",
   "nbconvert_exporter": "python",
   "pygments_lexer": "ipython3",
   "version": "3.7.1"
  }
 },
 "nbformat": 4,
 "nbformat_minor": 2
}
