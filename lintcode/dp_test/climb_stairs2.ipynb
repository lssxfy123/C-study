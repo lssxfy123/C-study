{
 "cells": [
  {
   "cell_type": "code",
   "execution_count": 1,
   "metadata": {},
   "outputs": [],
   "source": [
    "# Copyright(C) 2021 刘珅珅\n",
    "# Environment: python 3.7\n",
    "# Date: 2021.4.4\n",
    "# 爬楼梯 II：lintcode 272"
   ]
  },
  {
   "cell_type": "markdown",
   "metadata": {},
   "source": [
    "# 直接DFS，会超时"
   ]
  },
  {
   "cell_type": "code",
   "execution_count": 10,
   "metadata": {},
   "outputs": [],
   "source": [
    "class Solution:\n",
    "    def __init__(self):\n",
    "        self.total = 0\n",
    "        self.STEPS = [1, 2, 3]\n",
    "        \n",
    "    \"\"\"\n",
    "    @param n: An integer\n",
    "    @return: An Integer\n",
    "    \"\"\"\n",
    "    def climbStairs2(self, n):\n",
    "        # write your code here\n",
    "        if n < 0:\n",
    "            return 0\n",
    "        \n",
    "        if n == 0:\n",
    "            return 1\n",
    "        \n",
    "        self.dfs(n, 0)\n",
    "        \n",
    "        return self.total\n",
    "        \n",
    "    def dfs(self, n, index):\n",
    "        if index == n:\n",
    "            self.total += 1\n",
    "            return\n",
    "        \n",
    "        for step in self.STEPS:\n",
    "            if step + index > n:\n",
    "                continue\n",
    "            self.dfs(n, step + index)\n"
   ]
  },
  {
   "cell_type": "markdown",
   "metadata": {},
   "source": [
    "# 记忆化搜索"
   ]
  },
  {
   "cell_type": "code",
   "execution_count": 20,
   "metadata": {},
   "outputs": [],
   "source": [
    "class Solution:\n",
    "    def __init__(self):\n",
    "        self.STEPS = [1, 2, 3]\n",
    "        \n",
    "    \"\"\"\n",
    "    @param n: An integer\n",
    "    @return: An Integer\n",
    "    \"\"\"\n",
    "    def climbStairs2(self, n):\n",
    "        # write your code here\n",
    "        if n < 0:\n",
    "            return 0\n",
    "        \n",
    "        if n == 0:\n",
    "            return 1\n",
    "        \n",
    "        memo = {}\n",
    "        \n",
    "        return self.dfs(n, 0, memo)\n",
    "        \n",
    "    ## 递归的定义：从index爬到终点的方案数\n",
    "    def dfs(self, n, index, memo):\n",
    "        if index == n:\n",
    "            return 1\n",
    "        \n",
    "        if index in memo:\n",
    "            return memo[index]\n",
    "        \n",
    "        total = 0\n",
    "        for step in self.STEPS:\n",
    "            if step + index > n:\n",
    "                continue\n",
    "            total += self.dfs(n, step + index, memo)\n",
    "        memo[index] = total\n",
    "        return total\n"
   ]
  },
  {
   "cell_type": "markdown",
   "metadata": {},
   "source": [
    "# 动态规划"
   ]
  },
  {
   "cell_type": "code",
   "execution_count": 22,
   "metadata": {},
   "outputs": [],
   "source": [
    "class Solution:\n",
    "    def __init__(self):\n",
    "        self.STEPS = [1, 2, 3]\n",
    "        \n",
    "    \"\"\"\n",
    "    @param n: An integer\n",
    "    @return: An Integer\n",
    "    \"\"\"\n",
    "    def climbStairs2(self, n):\n",
    "        # write your code here\n",
    "        if n < 0:\n",
    "            return 0\n",
    "        \n",
    "        if n == 0:\n",
    "            return 1\n",
    "        \n",
    "        if n == 1 or n == 2:\n",
    "            return n\n",
    "        \n",
    "        ## 状态：dp[i]表示爬到前i层的方案数\n",
    "        dp = [0] * (n + 1)\n",
    "        \n",
    "        ## 初始化\n",
    "        dp[0] = 1\n",
    "        dp[1] = 1\n",
    "        dp[2] = 2\n",
    "        \n",
    "        for i in range(3, n + 1):\n",
    "            dp[i] = dp[i - 1] + dp[i - 2] + dp[i - 3]\n",
    "        \n",
    "        \n",
    "        return dp[n]\n",
    "        \n",
    "  "
   ]
  },
  {
   "cell_type": "code",
   "execution_count": 23,
   "metadata": {},
   "outputs": [
    {
     "name": "stdout",
     "output_type": "stream",
     "text": [
      "7\n"
     ]
    }
   ],
   "source": [
    "n = 4\n",
    "solution = Solution()\n",
    "print(solution.climbStairs2(n))"
   ]
  },
  {
   "cell_type": "code",
   "execution_count": null,
   "metadata": {},
   "outputs": [],
   "source": []
  }
 ],
 "metadata": {
  "kernelspec": {
   "display_name": "Python 3",
   "language": "python",
   "name": "python3"
  },
  "language_info": {
   "codemirror_mode": {
    "name": "ipython",
    "version": 3
   },
   "file_extension": ".py",
   "mimetype": "text/x-python",
   "name": "python",
   "nbconvert_exporter": "python",
   "pygments_lexer": "ipython3",
   "version": "3.7.1"
  }
 },
 "nbformat": 4,
 "nbformat_minor": 2
}
