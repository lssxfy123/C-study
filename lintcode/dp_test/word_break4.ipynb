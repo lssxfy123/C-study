{
 "cells": [
  {
   "cell_type": "code",
   "execution_count": 1,
   "metadata": {},
   "outputs": [],
   "source": [
    "# Copyright(C) 2021 刘珅珅\n",
    "# Environment: python 3.7\n",
    "# Date: 2021.3.18\n",
    "# 单词拆分 III：lintcode 683"
   ]
  },
  {
   "cell_type": "markdown",
   "metadata": {},
   "source": [
    "# 动态规划版：空间复杂度优化"
   ]
  },
  {
   "cell_type": "code",
   "execution_count": 1,
   "metadata": {},
   "outputs": [],
   "source": [
    "class Solution:\n",
    "    \"\"\"\n",
    "    @param s: A string\n",
    "    @param dict: A set of word\n",
    "    @return: the number of possible sentences.\n",
    "    \"\"\"\n",
    "    def wordBreak3(self, s, dict):\n",
    "        # Write your code here\n",
    "        if not dict:\n",
    "            return 0\n",
    "        \n",
    "        ## 状态：dp[i]表示前i个字符串的拆分方案数\n",
    "        n = len(s)\n",
    "        dp = [0] * (n + 1)\n",
    "        \n",
    "        ## 忽略大小写\n",
    "        s = s.lower()\n",
    "        ## 字典中有可能有相同的单词\n",
    "        hash_dict = set()\n",
    "        for word in dict:\n",
    "            hash_dict.add(word.lower())\n",
    "        \n",
    "        ## 初始化：空串的拆分方案数为1\n",
    "        dp[0] = 1\n",
    "        \n",
    "        ## 状态转移方程,对i之后的字符串进行枚举,如果i到j的子串在字典中，则dp[j]+=dp[i-1]\n",
    "        ## 表示前j个字符可以分成前i个和i-j两个子串，随着i的变化，dp[j]的结果也是将前j个字符进行不同方式的分隔\n",
    "        ## 这其实和未优化的状态转移方程是一致的\n",
    "        for i in range(1, n + 1):\n",
    "            for j in range(i, n + 1):\n",
    "                sub = s[i - 1:j]\n",
    "                if sub in hash_dict:\n",
    "                    dp[j] += dp[i - 1]\n",
    "        \n",
    "        return dp[n]\n",
    "    \n",
    "    \n"
   ]
  },
  {
   "cell_type": "code",
   "execution_count": 2,
   "metadata": {},
   "outputs": [
    {
     "name": "stdout",
     "output_type": "stream",
     "text": [
      "3\n"
     ]
    }
   ],
   "source": [
    "s = \"CatMat\"\n",
    "dict = [\"Cat\",\"mat\",\"Ca\",\"tm\",\"at\",\"C\",\"Dog\",\"og\",\"Do\"]\n",
    "solution = Solution()\n",
    "print(solution.wordBreak3(s, dict))"
   ]
  },
  {
   "cell_type": "code",
   "execution_count": 1,
   "metadata": {},
   "outputs": [
    {
     "data": {
      "text/plain": [
       "'cat'"
      ]
     },
     "execution_count": 1,
     "metadata": {},
     "output_type": "execute_result"
    }
   ],
   "source": [
    "\"Cat\".lower()"
   ]
  },
  {
   "cell_type": "code",
   "execution_count": null,
   "metadata": {},
   "outputs": [],
   "source": []
  }
 ],
 "metadata": {
  "kernelspec": {
   "display_name": "Python 3",
   "language": "python",
   "name": "python3"
  },
  "language_info": {
   "codemirror_mode": {
    "name": "ipython",
    "version": 3
   },
   "file_extension": ".py",
   "mimetype": "text/x-python",
   "name": "python",
   "nbconvert_exporter": "python",
   "pygments_lexer": "ipython3",
   "version": "3.7.1"
  }
 },
 "nbformat": 4,
 "nbformat_minor": 2
}
