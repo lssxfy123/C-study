{
 "cells": [
  {
   "cell_type": "code",
   "execution_count": 1,
   "metadata": {},
   "outputs": [],
   "source": [
    "# Copyright(C) 2021 刘珅珅\n",
    "# Environment: python 3.7\n",
    "# Date: 2021.4.4\n",
    "# 俄罗斯套娃信封：lintcode 602"
   ]
  },
  {
   "cell_type": "markdown",
   "metadata": {},
   "source": [
    "# 二分法的优化，时间复杂度为O(nlogn)"
   ]
  },
  {
   "cell_type": "code",
   "execution_count": 1,
   "metadata": {},
   "outputs": [],
   "source": [
    "class Solution:\n",
    "    \"\"\"\n",
    "    @param envelopes: a number of envelopes with widths and heights\n",
    "    @return: the maximum number of envelopes\n",
    "    \"\"\"\n",
    "    def maxEnvelopes(self, envelopes):\n",
    "        # write your code here\n",
    "        if not envelopes:\n",
    "            return 0\n",
    "        \n",
    "        ## 按w的升序排列，如果w相同，按h的降序排列\n",
    "        ## envelopes按w排好序后，问题就转换为求h序列的最长上升子序列的长度问题\n",
    "        ## 将h降序排列，可以减少比较次数\n",
    "        envelopes.sort(key=lambda x: (x[0], -x[1]))\n",
    "        n = len(envelopes)\n",
    "        LIS = [float('inf')] * (n + 1)\n",
    "        LIS[0] = -float('inf')\n",
    "        \n",
    "        longest = 0\n",
    "        for _, h in envelopes:\n",
    "            index = self.first_gte(h, LIS)\n",
    "            LIS[index] = h\n",
    "            longest = max(index, longest)\n",
    "        return longest\n",
    "    \n",
    "    def first_gte(self, target, nums):\n",
    "        start, end = 0, len(nums) - 1\n",
    "        while start + 1 < end:\n",
    "            mid = (start + end) // 2\n",
    "            if nums[mid] < target:\n",
    "                start = mid\n",
    "            else:\n",
    "                end = mid\n",
    "        if nums[start] >= target:\n",
    "            return start\n",
    "        return end\n"
   ]
  },
  {
   "cell_type": "code",
   "execution_count": 2,
   "metadata": {},
   "outputs": [
    {
     "name": "stdout",
     "output_type": "stream",
     "text": [
      "3\n"
     ]
    }
   ],
   "source": [
    "envelopes = [[5,4],[6,4],[6,7],[2,3]]\n",
    "solution = Solution()\n",
    "print(solution.maxEnvelopes(envelopes))"
   ]
  },
  {
   "cell_type": "code",
   "execution_count": null,
   "metadata": {},
   "outputs": [],
   "source": []
  }
 ],
 "metadata": {
  "kernelspec": {
   "display_name": "Python 3",
   "language": "python",
   "name": "python3"
  },
  "language_info": {
   "codemirror_mode": {
    "name": "ipython",
    "version": 3
   },
   "file_extension": ".py",
   "mimetype": "text/x-python",
   "name": "python",
   "nbconvert_exporter": "python",
   "pygments_lexer": "ipython3",
   "version": "3.7.1"
  }
 },
 "nbformat": 4,
 "nbformat_minor": 2
}
