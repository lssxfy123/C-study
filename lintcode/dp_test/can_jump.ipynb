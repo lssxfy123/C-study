{
 "cells": [
  {
   "cell_type": "code",
   "execution_count": 1,
   "metadata": {},
   "outputs": [],
   "source": [
    "# Copyright(C) 2021 刘珅珅\n",
    "# Environment: python 3.7\n",
    "# Date: 2021.3.15\n",
    "# 跳跃游戏：lintcode 116"
   ]
  },
  {
   "cell_type": "code",
   "execution_count": 4,
   "metadata": {},
   "outputs": [],
   "source": [
    "class Solution:\n",
    "    \"\"\"\n",
    "    @param A: A list of integers\n",
    "    @return: A boolean\n",
    "    \"\"\"\n",
    "    def canJump(self, A):\n",
    "        # write your code here\n",
    "        if not A:\n",
    "            return False\n",
    "        \n",
    "        length = len(A)\n",
    "        ## 状态：dp[i]表示能否跳到第i个位置\n",
    "        dp = [False] * length\n",
    "        dp[0] = True\n",
    "        \n",
    "        for i in range(1, length):\n",
    "            ## i前面的所有能跳到位置中，如果可以跳到i，则表示i可以被跳到\n",
    "            for j in range(0, i):\n",
    "                if dp[j] and A[j] >= (i - j):\n",
    "                    dp[i] = True\n",
    "                    break\n",
    "        \n",
    "        return dp[length - 1]\n"
   ]
  },
  {
   "cell_type": "code",
   "execution_count": 5,
   "metadata": {},
   "outputs": [
    {
     "name": "stdout",
     "output_type": "stream",
     "text": [
      "True\n"
     ]
    }
   ],
   "source": [
    "A = [0,8,2,0,9]\n",
    "A = [2,3,1,1,4]\n",
    "solution = Solution()\n",
    "print(solution.canJump(A))"
   ]
  },
  {
   "cell_type": "code",
   "execution_count": null,
   "metadata": {},
   "outputs": [],
   "source": []
  }
 ],
 "metadata": {
  "kernelspec": {
   "display_name": "Python 3",
   "language": "python",
   "name": "python3"
  },
  "language_info": {
   "codemirror_mode": {
    "name": "ipython",
    "version": 3
   },
   "file_extension": ".py",
   "mimetype": "text/x-python",
   "name": "python",
   "nbconvert_exporter": "python",
   "pygments_lexer": "ipython3",
   "version": "3.7.1"
  }
 },
 "nbformat": 4,
 "nbformat_minor": 2
}
