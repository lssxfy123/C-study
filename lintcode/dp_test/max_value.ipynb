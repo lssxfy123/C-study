{
 "cells": [
  {
   "cell_type": "code",
   "execution_count": 1,
   "metadata": {},
   "outputs": [],
   "source": [
    "# Copyright(C) 2021 刘珅珅\n",
    "# Environment: python 3.7\n",
    "# Date: 2021.4.3\n",
    "# 计算最大值II：lintcode 741"
   ]
  },
  {
   "cell_type": "code",
   "execution_count": 1,
   "metadata": {},
   "outputs": [],
   "source": [
    "class Solution:\n",
    "    \"\"\"\n",
    "    @param str: a string of numbers\n",
    "    @return: the maximum value\n",
    "    \"\"\"\n",
    "    def maxValue(self, str):\n",
    "        # write your code here\n",
    "        if not str:\n",
    "            return 0\n",
    "        \n",
    "        n = len(str)\n",
    "        \n",
    "        ## dp[i][j]表示i到j所能获取的最大值\n",
    "        dp = [[0] * n for _ in range(n)]\n",
    "        \n",
    "        ## 初始化\n",
    "        for i in range(n):\n",
    "            dp[i][i] = ord(str[i]) - ord('0')\n",
    "        \n",
    "        for length in range(2, n + 1):\n",
    "            for i in range(n - length + 1):\n",
    "                j = i + length - 1\n",
    "                for k in range(i, j):\n",
    "                    ## 状态转移方程dp[i][j]=max(dp[i][k]+dp[k+1][j], dp[i][k]*dp[k+1][j])\n",
    "                    dp[i][j] = max(dp[i][j], dp[i][k] + dp[k + 1][j])\n",
    "                    dp[i][j] = max(dp[i][j], dp[i][k] * dp[k + 1][j])\n",
    "        return dp[0][n - 1]\n",
    "        "
   ]
  },
  {
   "cell_type": "code",
   "execution_count": 2,
   "metadata": {},
   "outputs": [
    {
     "name": "stdout",
     "output_type": "stream",
     "text": [
      "12\n"
     ]
    }
   ],
   "source": [
    "solution = Solution()\n",
    "str = \"01231\"\n",
    "print(solution.maxValue(str))"
   ]
  },
  {
   "cell_type": "code",
   "execution_count": null,
   "metadata": {},
   "outputs": [],
   "source": []
  }
 ],
 "metadata": {
  "kernelspec": {
   "display_name": "Python 3",
   "language": "python",
   "name": "python3"
  },
  "language_info": {
   "codemirror_mode": {
    "name": "ipython",
    "version": 3
   },
   "file_extension": ".py",
   "mimetype": "text/x-python",
   "name": "python",
   "nbconvert_exporter": "python",
   "pygments_lexer": "ipython3",
   "version": "3.7.1"
  }
 },
 "nbformat": 4,
 "nbformat_minor": 2
}
