{
 "cells": [
  {
   "cell_type": "code",
   "execution_count": 1,
   "metadata": {},
   "outputs": [],
   "source": [
    "# Copyright(C) 2021 刘珅珅\n",
    "# Environment: python 3.7\n",
    "# Date: 2021.4.8\n",
    "# 买卖股票的最佳时机 IV：lintcode 393"
   ]
  },
  {
   "cell_type": "markdown",
   "metadata": {},
   "source": [
    "## 动态规划优化，时间复杂度为O(nk)"
   ]
  },
  {
   "cell_type": "code",
   "execution_count": 7,
   "metadata": {},
   "outputs": [],
   "source": [
    "class Solution:\n",
    "    \"\"\"\n",
    "    @param K: An integer\n",
    "    @param prices: An integer array\n",
    "    @return: Maximum profit\n",
    "    \"\"\"\n",
    "    def maxProfit(self, K, prices):\n",
    "        # write your code here\n",
    "        if not prices or K == 0:\n",
    "            return 0\n",
    "        profit = 0\n",
    "        n = len(prices)\n",
    "        \n",
    "        ## 贪心法\n",
    "        if K >= n // 2:\n",
    "            for i in range(n - 1):\n",
    "                if prices[i + 1] > prices[i]:\n",
    "                    profit += prices[i + 1] - prices[i]\n",
    "            return profit\n",
    "        \n",
    "        ## 动态规划\n",
    "        ## 状态：dp[i][j]表示最多进行i次交易在第j天的最大获益\n",
    "        ## K+1是因为交易次数为0-K次\n",
    "        dp = [[0] * n for _ in range(K + 1)]\n",
    "        \n",
    "        for i in range(1, K + 1):\n",
    "            max_diff = -float('inf')\n",
    "            for j in range(1, n):\n",
    "                ## 第j天卖出的情况：根据上个版本的状态转移方程：max(dp[i-1][k] + prices[j] - prices[k])，k从0到j-1\n",
    "                ## 计算dp[i][j]到dp[i][j+1]时，只是k的取值多了1个，其它都是不变的，大部分工作是重复的，\n",
    "                # 把dp[i-1][k] - prices[k]看成一个整体max_diff，当j增加1时，0-j-2的max_diff已经计算过了，\n",
    "                ## 只需要计算j-1的情况就行了\n",
    "                max_diff = max(max_diff, dp[i - 1][j - 1] - prices[j - 1])\n",
    "                dp[i][j] = max(dp[i][j - 1], max_diff + prices[j])\n",
    "        return dp[K][n - 1]\n"
   ]
  },
  {
   "cell_type": "code",
   "execution_count": 8,
   "metadata": {},
   "outputs": [
    {
     "name": "stdout",
     "output_type": "stream",
     "text": [
      "6\n"
     ]
    }
   ],
   "source": [
    "prices = [4,4,6,1,1,4,2,5]\n",
    "k = 2\n",
    "# k = 1\n",
    "# prices = [3, 2, 1]\n",
    "solution = Solution()\n",
    "print(solution.maxProfit(k, prices))"
   ]
  },
  {
   "cell_type": "code",
   "execution_count": null,
   "metadata": {},
   "outputs": [],
   "source": []
  }
 ],
 "metadata": {
  "kernelspec": {
   "display_name": "Python 3",
   "language": "python",
   "name": "python3"
  },
  "language_info": {
   "codemirror_mode": {
    "name": "ipython",
    "version": 3
   },
   "file_extension": ".py",
   "mimetype": "text/x-python",
   "name": "python",
   "nbconvert_exporter": "python",
   "pygments_lexer": "ipython3",
   "version": "3.7.1"
  }
 },
 "nbformat": 4,
 "nbformat_minor": 2
}
