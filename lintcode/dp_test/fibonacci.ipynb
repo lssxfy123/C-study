{
 "cells": [
  {
   "cell_type": "code",
   "execution_count": 1,
   "metadata": {},
   "outputs": [],
   "source": [
    "# Copyright(C) 2021 刘珅珅\n",
    "# Environment: python 3.7\n",
    "# Date: 2021.3.20\n",
    "# 斐波纳契数列：lintcode 366"
   ]
  },
  {
   "cell_type": "markdown",
   "metadata": {},
   "source": [
    "# 动态规划版"
   ]
  },
  {
   "cell_type": "code",
   "execution_count": 27,
   "metadata": {},
   "outputs": [],
   "source": [
    "class Solution:\n",
    "    \"\"\"\n",
    "    @param n: an integer\n",
    "    @return: an ineger f(n)\n",
    "    \"\"\"\n",
    "    def fibonacci(self, n):\n",
    "        # write your code here  \n",
    "        if n == 1:\n",
    "            return 0\n",
    "        \n",
    "        ## 状态：dp[i]表示第i个斐波那契值\n",
    "        ## 滚动数组优化\n",
    "        dp = [0] * 3\n",
    "        \n",
    "        ## 初始化\n",
    "        ## i=1，表示第1个斐波那契值，dp[1 % 3] = 0\n",
    "        dp[1 % 3] = 0\n",
    "        dp[2 % 3] = 1\n",
    "        for i in range(3, n + 1):\n",
    "            dp[i % 3] = dp[(i - 1) % 3] + dp[(i - 2) % 3]\n",
    "        \n",
    "        return dp[n % 3]\n"
   ]
  },
  {
   "cell_type": "code",
   "execution_count": 28,
   "metadata": {},
   "outputs": [
    {
     "name": "stdout",
     "output_type": "stream",
     "text": [
      "34\n"
     ]
    }
   ],
   "source": [
    "n = 10\n",
    "solution = Solution()\n",
    "print(solution.fibonacci(n))"
   ]
  },
  {
   "cell_type": "code",
   "execution_count": 1,
   "metadata": {},
   "outputs": [
    {
     "data": {
      "text/plain": [
       "'cat'"
      ]
     },
     "execution_count": 1,
     "metadata": {},
     "output_type": "execute_result"
    }
   ],
   "source": [
    "\"Cat\".lower()"
   ]
  },
  {
   "cell_type": "code",
   "execution_count": null,
   "metadata": {},
   "outputs": [],
   "source": []
  }
 ],
 "metadata": {
  "kernelspec": {
   "display_name": "Python 3",
   "language": "python",
   "name": "python3"
  },
  "language_info": {
   "codemirror_mode": {
    "name": "ipython",
    "version": 3
   },
   "file_extension": ".py",
   "mimetype": "text/x-python",
   "name": "python",
   "nbconvert_exporter": "python",
   "pygments_lexer": "ipython3",
   "version": "3.7.1"
  }
 },
 "nbformat": 4,
 "nbformat_minor": 2
}
