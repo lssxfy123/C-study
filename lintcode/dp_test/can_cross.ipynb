{
 "cells": [
  {
   "cell_type": "code",
   "execution_count": 1,
   "metadata": {},
   "outputs": [],
   "source": [
    "# Copyright(C) 2021 刘珅珅\n",
    "# Environment: python 3.7\n",
    "# Date: 2021.4.12\n",
    "# 青蛙跳：lintcode 622"
   ]
  },
  {
   "cell_type": "code",
   "execution_count": 3,
   "metadata": {},
   "outputs": [],
   "source": [
    "class Solution:\n",
    "    \"\"\"\n",
    "    @param stones: a list of stones' positions in sorted ascending order\n",
    "    @return: true if the frog is able to cross the river or false\n",
    "    \"\"\"\n",
    "    def canCross(self, stones):\n",
    "        # write your code here\n",
    "        if not stones or len(stones) <= 1:\n",
    "            return True\n",
    "        \n",
    "        ## 第1次只能跳一步\n",
    "        if not(stones[0] == 0 and stones[1] == 1):\n",
    "            return False\n",
    "        \n",
    "        n = len(stones)\n",
    "        dp = {}\n",
    "        ## 状态：key表示石头的位置，value表示从上一块石头跳到stone的可能步数\n",
    "        for stone in stones:\n",
    "            dp[stone] = set()\n",
    "        \n",
    "        ## 初始化\n",
    "        dp[0].add(1)\n",
    "        \n",
    "        for stone in stones:\n",
    "            for step in dp[stone]:\n",
    "                ## step - 1，不能往会跳\n",
    "                if step > 1 and stone + step - 1 in dp:\n",
    "                    dp[stone + step - 1].add(step - 1)\n",
    "                \n",
    "                ## step\n",
    "                if stone + step in dp:\n",
    "                    dp[stone + step].add(step)\n",
    "                \n",
    "                ## step + 1\n",
    "                if stone + step + 1 in dp:\n",
    "                    dp[stone + step + 1].add(step + 1)\n",
    "        \n",
    "        ## 答案：最后一个石头对应的步数集是否为空\n",
    "        return len(dp[stones[-1]]) > 0\n"
   ]
  },
  {
   "cell_type": "code",
   "execution_count": 4,
   "metadata": {},
   "outputs": [
    {
     "name": "stdout",
     "output_type": "stream",
     "text": [
      "True\n"
     ]
    }
   ],
   "source": [
    "stones = [0,1,3,5,6,8,12,17]\n",
    "solution = Solution()\n",
    "print(solution.canCross(stones))"
   ]
  },
  {
   "cell_type": "code",
   "execution_count": null,
   "metadata": {},
   "outputs": [],
   "source": []
  }
 ],
 "metadata": {
  "kernelspec": {
   "display_name": "Python 3",
   "language": "python",
   "name": "python3"
  },
  "language_info": {
   "codemirror_mode": {
    "name": "ipython",
    "version": 3
   },
   "file_extension": ".py",
   "mimetype": "text/x-python",
   "name": "python",
   "nbconvert_exporter": "python",
   "pygments_lexer": "ipython3",
   "version": "3.7.1"
  }
 },
 "nbformat": 4,
 "nbformat_minor": 2
}
