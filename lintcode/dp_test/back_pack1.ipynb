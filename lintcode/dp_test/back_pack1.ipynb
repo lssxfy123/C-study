{
 "cells": [
  {
   "cell_type": "code",
   "execution_count": 1,
   "metadata": {},
   "outputs": [],
   "source": [
    "# Copyright(C) 2021 刘珅珅\n",
    "# Environment: python 3.7\n",
    "# Date: 2021.3.15\n",
    "# 背包问题：lintcode 92"
   ]
  },
  {
   "cell_type": "markdown",
   "metadata": {},
   "source": [
    "# 动态规划的滚动优化"
   ]
  },
  {
   "cell_type": "code",
   "execution_count": 1,
   "metadata": {},
   "outputs": [],
   "source": [
    "class Solution:\n",
    "    \"\"\"\n",
    "    @param m: An integer m denotes the size of a backpack\n",
    "    @param A: Given n items with size A[i]\n",
    "    @return: The maximum size\n",
    "    \"\"\"\n",
    "    def backPack(self, m, A):\n",
    "        # write your code here\n",
    "        if not A:\n",
    "            return 0\n",
    "        n = len(A)\n",
    "        \n",
    "        ## 状态：dp[i][j]前i个物品能否占用空间j\n",
    "        dp = [[False] * (m + 1), [False] * (m + 1)]\n",
    "        \n",
    "        ## 初始化，前0个物品占用空间0\n",
    "        dp[0][0] = True\n",
    "        \n",
    "        for i in range(1, n + 1):\n",
    "            ## 前i个物品肯定能占用空间0，因为前0个物品占用空间0\n",
    "            dp[i % 2][0] = True\n",
    "            for j in range(1, m + 1):\n",
    "                ## 第i个物品的重量为A[i - 1]\n",
    "                if j >= A[i - 1]:\n",
    "                    ## 状态转移方程：dp[i - 1][j]表示不选第i个物品\n",
    "                    ## dp[i - 1][j - A[i - 1]]表示选择第i个物品，前i-1个物品占用j - A[i - 1]空间\n",
    "                    dp[i % 2][j] = dp[(i - 1) % 2][j] or dp[(i - 1) % 2][j - A[i - 1]]\n",
    "                else:\n",
    "                    ## 前i-1个物品如果能占用j空间，则前i个物品肯定也能\n",
    "                    dp[i % 2][j] = dp[(i - 1) % 2][j]\n",
    "                \n",
    "        \n",
    "        for j in range(m, -1, -1):\n",
    "            if dp[n % 2][j]:\n",
    "                return j\n",
    "        return -1\n"
   ]
  },
  {
   "cell_type": "code",
   "execution_count": 2,
   "metadata": {},
   "outputs": [
    {
     "name": "stdout",
     "output_type": "stream",
     "text": [
      "9\n"
     ]
    }
   ],
   "source": [
    "m = 10\n",
    "A = [3,4,8,5]\n",
    "solution = Solution()\n",
    "print(solution.backPack(m, A))"
   ]
  },
  {
   "cell_type": "code",
   "execution_count": null,
   "metadata": {},
   "outputs": [],
   "source": []
  }
 ],
 "metadata": {
  "kernelspec": {
   "display_name": "Python 3",
   "language": "python",
   "name": "python3"
  },
  "language_info": {
   "codemirror_mode": {
    "name": "ipython",
    "version": 3
   },
   "file_extension": ".py",
   "mimetype": "text/x-python",
   "name": "python",
   "nbconvert_exporter": "python",
   "pygments_lexer": "ipython3",
   "version": "3.7.1"
  }
 },
 "nbformat": 4,
 "nbformat_minor": 2
}
