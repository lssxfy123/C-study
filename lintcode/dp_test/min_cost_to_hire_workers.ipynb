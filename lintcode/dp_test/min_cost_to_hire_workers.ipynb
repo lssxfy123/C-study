{
 "cells": [
  {
   "cell_type": "code",
   "execution_count": 1,
   "metadata": {},
   "outputs": [],
   "source": [
    "# Copyright(C) 2021 刘珅珅\n",
    "# Environment: python 3.7\n",
    "# Date: 2021.4.8\n",
    "# 雇佣K个人的最低费用：lintcode 1512"
   ]
  },
  {
   "cell_type": "code",
   "execution_count": 6,
   "metadata": {},
   "outputs": [],
   "source": [
    "import heapq\n",
    "\n",
    "class Solution:\n",
    "    \"\"\"\n",
    "    @param quality: an array\n",
    "    @param wage: an array\n",
    "    @param K: an integer\n",
    "    @return: the least amount of money needed to form a paid group\n",
    "    \"\"\"\n",
    "    def mincostToHireWorkers(self, quality, wage, K):\n",
    "        # Write your code here\n",
    "        ## 按期望工资/质量进行升序排列，越小越划算\n",
    "        workers = sorted([float(w) / q, q] for w, q in zip(wage, quality))\n",
    "        max_heap = []\n",
    "        sum = 0\n",
    "        result = float('inf')\n",
    "        ## 雇佣K个工人，最终所有工人的工资/质量肯定是相同的，题目中要求按质量比例获的报酬\n",
    "        ## 而且需要使用工资/质量最高的那个比例才能满足要求\n",
    "        ## 维持一个质量大根堆，workers所有元素都依次入堆，如果堆的数量大于K，就把对堆顶元素弹出\n",
    "        ## 此时堆顶元素是一个负数，其相反值就是质量的最大值，sum加上这个负数，就是从sum中剔除这个质量\n",
    "        ## 因为对于一个r，质量肯定越小越好，所以要剔除掉质量最大的元素，如果堆的数量为K，就计算出最小的雇佣费用\n",
    "        for r, q in workers:\n",
    "            heapq.heappush(max_heap, -q)\n",
    "            sum += q\n",
    "            if len(max_heap) > K:\n",
    "                sum += heapq.heappop(max_heap)\n",
    "            \n",
    "            if len(max_heap) == K:\n",
    "                result = min(result, sum * r)\n",
    "        return result\n"
   ]
  },
  {
   "cell_type": "code",
   "execution_count": 7,
   "metadata": {},
   "outputs": [
    {
     "name": "stdout",
     "output_type": "stream",
     "text": [
      "[[2.5, 10], [2.5, 20], [6.0, 5]]\n",
      "75.0\n"
     ]
    }
   ],
   "source": [
    "quality = [10,20,5]\n",
    "wage = [25,50,30]\n",
    "K = 2\n",
    "solution = Solution()\n",
    "print(solution.mincostToHireWorkers(quality, wage, K))"
   ]
  },
  {
   "cell_type": "code",
   "execution_count": null,
   "metadata": {},
   "outputs": [],
   "source": []
  }
 ],
 "metadata": {
  "kernelspec": {
   "display_name": "Python 3",
   "language": "python",
   "name": "python3"
  },
  "language_info": {
   "codemirror_mode": {
    "name": "ipython",
    "version": 3
   },
   "file_extension": ".py",
   "mimetype": "text/x-python",
   "name": "python",
   "nbconvert_exporter": "python",
   "pygments_lexer": "ipython3",
   "version": "3.7.1"
  }
 },
 "nbformat": 4,
 "nbformat_minor": 2
}
