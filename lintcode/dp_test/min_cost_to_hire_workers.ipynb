{
 "cells": [
  {
   "cell_type": "code",
   "execution_count": 1,
   "metadata": {},
   "outputs": [],
   "source": [
    "# Copyright(C) 2021 刘珅珅\n",
    "# Environment: python 3.7\n",
    "# Date: 2021.4.8\n",
    "# 雇佣K个人的最低费用：lintcode 1512"
   ]
  },
  {
   "cell_type": "code",
   "execution_count": 5,
   "metadata": {},
   "outputs": [],
   "source": [
    "class Solution:\n",
    "    \"\"\"\n",
    "    @param quality: an array\n",
    "    @param wage: an array\n",
    "    @param K: an integer\n",
    "    @return: the least amount of money needed to form a paid group\n",
    "    \"\"\"\n",
    "    def mincostToHireWorkers(self, quality, wage, K):\n",
    "        # Write your code here\n",
    "        workers = sorted([float(w) / q, q] for w, q in zip(wage, quality))\n",
    "        print(workers)\n"
   ]
  },
  {
   "cell_type": "code",
   "execution_count": 4,
   "metadata": {},
   "outputs": [
    {
     "name": "stdout",
     "output_type": "stream",
     "text": [
      "<zip object at 0x000001D87646AEC8>\n",
      "[[2.5, 20], [6.0, 5], [7.0, 10]]\n",
      "None\n"
     ]
    }
   ],
   "source": [
    "quality = [10,20,5]\n",
    "wage = [70,50,30]\n",
    "K = 2\n",
    "solution = Solution()\n",
    "print(solution.mincostToHireWorkers(quality, wage, K))"
   ]
  },
  {
   "cell_type": "code",
   "execution_count": null,
   "metadata": {},
   "outputs": [],
   "source": []
  }
 ],
 "metadata": {
  "kernelspec": {
   "display_name": "Python 3",
   "language": "python",
   "name": "python3"
  },
  "language_info": {
   "codemirror_mode": {
    "name": "ipython",
    "version": 3
   },
   "file_extension": ".py",
   "mimetype": "text/x-python",
   "name": "python",
   "nbconvert_exporter": "python",
   "pygments_lexer": "ipython3",
   "version": "3.7.1"
  }
 },
 "nbformat": 4,
 "nbformat_minor": 2
}
