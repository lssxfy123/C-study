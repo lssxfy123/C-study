{
 "cells": [
  {
   "cell_type": "code",
   "execution_count": 1,
   "metadata": {},
   "outputs": [],
   "source": [
    "# Copyright(C) 2021 刘珅珅\n",
    "# Environment: python 3.7\n",
    "# Date: 2021.3.13\n",
    "# 不同的路径：lintcode 114"
   ]
  },
  {
   "cell_type": "code",
   "execution_count": 5,
   "metadata": {},
   "outputs": [],
   "source": [
    "class Solution:\n",
    "    \"\"\"\n",
    "    @param m: positive integer (1 <= m <= 100)\n",
    "    @param n: positive integer (1 <= n <= 100)\n",
    "    @return: An integer\n",
    "    \"\"\"\n",
    "    def uniquePaths(self, m, n):\n",
    "        # write your code here\n",
    "\n",
    "        ## 自底向上\n",
    "        ## dp[i][j]表示从(i, j)走到终点(m - 1, n - 1)的路径数\n",
    "        dp = [[0] * n for _ in range(m)]\n",
    "        \n",
    "        ## 初始化，最后一行的所有状态路径数都是1，最后一列的所有状态数也都是1\n",
    "        for j in range(n):\n",
    "            dp[m - 1][j] = 1\n",
    "        \n",
    "        for i in range(m):\n",
    "            dp[i][n - 1] = 1\n",
    "        \n",
    "        for i in range(m - 2, -1, -1):\n",
    "            for j in range(n - 2, -1, -1):\n",
    "                ## 状态转移方程 \n",
    "                dp[i][j] = dp[i][j + 1] + dp[i + 1][j]\n",
    "        return dp[0][0]"
   ]
  },
  {
   "cell_type": "code",
   "execution_count": 6,
   "metadata": {},
   "outputs": [
    {
     "name": "stdout",
     "output_type": "stream",
     "text": [
      "6\n"
     ]
    }
   ],
   "source": [
    "m = 3\n",
    "n = 3\n",
    "solution = Solution()\n",
    "print(solution.uniquePaths(m, n))"
   ]
  },
  {
   "cell_type": "code",
   "execution_count": null,
   "metadata": {},
   "outputs": [],
   "source": []
  }
 ],
 "metadata": {
  "kernelspec": {
   "display_name": "Python 3",
   "language": "python",
   "name": "python3"
  },
  "language_info": {
   "codemirror_mode": {
    "name": "ipython",
    "version": 3
   },
   "file_extension": ".py",
   "mimetype": "text/x-python",
   "name": "python",
   "nbconvert_exporter": "python",
   "pygments_lexer": "ipython3",
   "version": "3.7.1"
  }
 },
 "nbformat": 4,
 "nbformat_minor": 2
}
