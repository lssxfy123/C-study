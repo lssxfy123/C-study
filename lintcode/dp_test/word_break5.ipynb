{
 "cells": [
  {
   "cell_type": "code",
   "execution_count": 1,
   "metadata": {},
   "outputs": [],
   "source": [
    "# Copyright(C) 2021 刘珅珅\n",
    "# Environment: python 3.7\n",
    "# Date: 2021.3.18\n",
    "# 单词拆分 III：lintcode 683"
   ]
  },
  {
   "cell_type": "markdown",
   "metadata": {},
   "source": [
    "# 记忆化搜索版"
   ]
  },
  {
   "cell_type": "code",
   "execution_count": 11,
   "metadata": {},
   "outputs": [],
   "source": [
    "class Solution:\n",
    "    \"\"\"\n",
    "    @param s: A string\n",
    "    @param dict: A set of word\n",
    "    @return: the number of possible sentences.\n",
    "    \"\"\"\n",
    "    def wordBreak3(self, s, dict):\n",
    "        # Write your code here\n",
    "        if not dict:\n",
    "            return 0\n",
    "        \n",
    "        ## 忽略大小写\n",
    "        s = s.lower()\n",
    "        max_word_length, hash_dict = self.initialize(dict)\n",
    "        \n",
    "        return self.dfs(s, 0, max_word_length, hash_dict, {})\n",
    "    \n",
    "    def initialize(self, dict):\n",
    "        max_length = 0\n",
    "        hash_dict = set()\n",
    "        for word in dict:\n",
    "            max_length = max(max_length, len(word))\n",
    "            hash_dict.add(word.lower())\n",
    "        \n",
    "        return max_length, hash_dict\n",
    "    \n",
    "    ## 递归的定义：前index字符的拆分方案数\n",
    "    def dfs(self, s, index, max_word_length, hash_dict, memo):\n",
    "        ## 递归的出口\n",
    "        ## 空串的拆分方案数为1\n",
    "        if index == len(s):\n",
    "            return 1\n",
    "        \n",
    "        if index in memo:\n",
    "            return memo[index]\n",
    "        \n",
    "        result = 0\n",
    "        for i in range(index, len(s)):\n",
    "            if i + 1 - index > max_word_length:\n",
    "                continue\n",
    "            word = s[index : i + 1]\n",
    "            if word not in hash_dict:\n",
    "                continue\n",
    "            result += self.dfs(s, index + len(word), max_word_length, hash_dict, memo)\n",
    "        \n",
    "        memo[index] = result\n",
    "        return result\n",
    "                \n",
    "        \n"
   ]
  },
  {
   "cell_type": "code",
   "execution_count": 12,
   "metadata": {},
   "outputs": [
    {
     "name": "stdout",
     "output_type": "stream",
     "text": [
      "3\n"
     ]
    }
   ],
   "source": [
    "s = \"CatMat\"\n",
    "dict = [\"Cat\",\"mat\",\"Ca\",\"tm\",\"at\",\"C\",\"Dog\",\"og\",\"Do\"]\n",
    "solution = Solution()\n",
    "print(solution.wordBreak3(s, dict))"
   ]
  },
  {
   "cell_type": "code",
   "execution_count": 1,
   "metadata": {},
   "outputs": [
    {
     "data": {
      "text/plain": [
       "'cat'"
      ]
     },
     "execution_count": 1,
     "metadata": {},
     "output_type": "execute_result"
    }
   ],
   "source": [
    "\"Cat\".lower()"
   ]
  },
  {
   "cell_type": "code",
   "execution_count": null,
   "metadata": {},
   "outputs": [],
   "source": []
  }
 ],
 "metadata": {
  "kernelspec": {
   "display_name": "Python 3",
   "language": "python",
   "name": "python3"
  },
  "language_info": {
   "codemirror_mode": {
    "name": "ipython",
    "version": 3
   },
   "file_extension": ".py",
   "mimetype": "text/x-python",
   "name": "python",
   "nbconvert_exporter": "python",
   "pygments_lexer": "ipython3",
   "version": "3.7.1"
  }
 },
 "nbformat": 4,
 "nbformat_minor": 2
}
