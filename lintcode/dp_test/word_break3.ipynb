{
 "cells": [
  {
   "cell_type": "code",
   "execution_count": 1,
   "metadata": {},
   "outputs": [],
   "source": [
    "# Copyright(C) 2021 刘珅珅\n",
    "# Environment: python 3.7\n",
    "# Date: 2021.3.18\n",
    "# 单词拆分 III：lintcode 683"
   ]
  },
  {
   "cell_type": "markdown",
   "metadata": {},
   "source": [
    "# 动态规划版"
   ]
  },
  {
   "cell_type": "code",
   "execution_count": 2,
   "metadata": {},
   "outputs": [],
   "source": [
    "class Solution:\n",
    "    \"\"\"\n",
    "    @param s: A string\n",
    "    @param dict: A set of word\n",
    "    @return: the number of possible sentences.\n",
    "    \"\"\"\n",
    "    def wordBreak3(self, s, dict):\n",
    "        # Write your code here\n",
    "        if not dict:\n",
    "            return 0\n",
    "        \n",
    "        ## 状态：dp[i][j]表示s[i:j+1]从i到j的字符串的拆分方案数\n",
    "        n = len(s)\n",
    "        dp = [[0] * n for _ in range(n)]\n",
    "        \n",
    "        ## 忽略大小写\n",
    "        s = s.lower()\n",
    "        ## 字典中有可能有相同的单词\n",
    "        hash_dict = set()\n",
    "        for word in dict:\n",
    "            hash_dict.add(word.lower())\n",
    "        \n",
    "        ## 初始化：s[i:j+1]如果在dict中，则表示拆分数至少为1\n",
    "        for i in range(n):\n",
    "            for j in range(i, n):\n",
    "                sub = s[i:j + 1]\n",
    "                if sub in hash_dict:\n",
    "                    dp[i][j] = 1\n",
    "        \n",
    "        \n",
    "        ## 状态转移方程,dp[i][j]等于任意把s[i:j + 1]拆分成两段，分别计算这两段的拆分方案，dp[i][k]和dp[k+1][j]\n",
    "        ## s[i:j+1]在k处分割的拆分数就是dp[i][k]*dp[k+1][j]，而k总共有j-i种情况，分别计算，然后求和\n",
    "        for i in range(n):\n",
    "            for j in range(i, n):\n",
    "                for k in range(i, j):\n",
    "                    dp[i][j] += dp[i][k] * dp[k + 1][j]\n",
    "        \n",
    "        return dp[0][n - 1]\n",
    "    \n",
    "    \n"
   ]
  },
  {
   "cell_type": "code",
   "execution_count": 4,
   "metadata": {},
   "outputs": [
    {
     "name": "stdout",
     "output_type": "stream",
     "text": [
      "3\n"
     ]
    }
   ],
   "source": [
    "s = \"CatMat\"\n",
    "dict = [\"Cat\",\"mat\",\"Ca\",\"tm\",\"at\",\"C\",\"Dog\",\"og\",\"Do\"]\n",
    "solution = Solution()\n",
    "print(solution.wordBreak3(s, dict))"
   ]
  },
  {
   "cell_type": "code",
   "execution_count": 1,
   "metadata": {},
   "outputs": [
    {
     "data": {
      "text/plain": [
       "'cat'"
      ]
     },
     "execution_count": 1,
     "metadata": {},
     "output_type": "execute_result"
    }
   ],
   "source": [
    "\"Cat\".lower()"
   ]
  },
  {
   "cell_type": "code",
   "execution_count": null,
   "metadata": {},
   "outputs": [],
   "source": []
  }
 ],
 "metadata": {
  "kernelspec": {
   "display_name": "Python 3",
   "language": "python",
   "name": "python3"
  },
  "language_info": {
   "codemirror_mode": {
    "name": "ipython",
    "version": 3
   },
   "file_extension": ".py",
   "mimetype": "text/x-python",
   "name": "python",
   "nbconvert_exporter": "python",
   "pygments_lexer": "ipython3",
   "version": "3.7.1"
  }
 },
 "nbformat": 4,
 "nbformat_minor": 2
}
