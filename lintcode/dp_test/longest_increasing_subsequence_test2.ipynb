{
 "cells": [
  {
   "cell_type": "code",
   "execution_count": 1,
   "metadata": {},
   "outputs": [],
   "source": [
    "# Copyright(C) 2021 刘珅珅\n",
    "# Environment: python 3.7\n",
    "# Date: 2021.3.21\n",
    "# 最长上升连续子序列 II：lintcode 398"
   ]
  },
  {
   "cell_type": "markdown",
   "metadata": {},
   "source": [
    "# 动态规划版"
   ]
  },
  {
   "cell_type": "code",
   "execution_count": 3,
   "metadata": {},
   "outputs": [],
   "source": [
    "class Solution:\n",
    "    \"\"\"\n",
    "    @param matrix: A 2D-array of integers\n",
    "    @return: an integer\n",
    "    \"\"\"\n",
    "    def longestContinuousIncreasingSubsequence2(self, matrix):\n",
    "        # write your code here\n",
    "        if not matrix or not matrix[0]:\n",
    "            return 0\n",
    "        \n",
    "        n, m = len(matrix), len(matrix[0])\n",
    "        \n",
    "        ## 状态：动态规划中，状态的寻找要找到1个严格递增或递减的变量\n",
    "        ## 这个题不能以坐标作为变量，因为它依赖上下左右的值\n",
    "        \n",
    "        ## 排序\n",
    "        points = []\n",
    "        for i in range(n):\n",
    "            for j in range(m):\n",
    "                points.append((matrix[i][j], i, j))\n",
    "        \n",
    "        ## points是个3元组，排序后不影响其上下左右的关系\n",
    "        ## 时间复杂度为O(nmlog(nm))\n",
    "        points.sort()\n",
    "        \n",
    "        ## 这里的dp不再是个一维或二维数组，而是一个哈希表\n",
    "        dp = {}\n",
    "        \n",
    "        for i in range(len(points)):\n",
    "            key = points[i][1], points[i][2]\n",
    "            ## 初始化：每个坐标的上升序列至少为1\n",
    "            dp[key] = 1\n",
    "            \n",
    "            ## 上下左右4个方向\n",
    "            for dx, dy in [(0, 1), (0, -1), (1, 0), (-1, 0)]:\n",
    "                x, y = points[i][1] + dx, points[i][2] + dy\n",
    "                ## 状态转移方程\n",
    "                if 0 <= x < n and 0 <= y < m and (x, y) in dp and matrix[x][y] < points[i][0]:\n",
    "                    dp[key] = max(dp[key], dp[(x, y)] + 1)\n",
    "        \n",
    "        ## 结果：dp中最大的值\n",
    "        return max(dp.values())\n",
    "                    \n",
    "        \n",
    "        "
   ]
  },
  {
   "cell_type": "code",
   "execution_count": 4,
   "metadata": {},
   "outputs": [
    {
     "name": "stdout",
     "output_type": "stream",
     "text": [
      "25\n"
     ]
    }
   ],
   "source": [
    "matrix = [[1,2,3,4,5],[16,17,24,23,6],[15,18,25,22,7],[14,19,20,21,8],[13,12,11,10,9]]\n",
    "\n",
    "solution = Solution()\n",
    "print(solution.longestContinuousIncreasingSubsequence2(matrix))"
   ]
  },
  {
   "cell_type": "code",
   "execution_count": 1,
   "metadata": {},
   "outputs": [
    {
     "data": {
      "text/plain": [
       "'cat'"
      ]
     },
     "execution_count": 1,
     "metadata": {},
     "output_type": "execute_result"
    }
   ],
   "source": [
    "\"Cat\".lower()"
   ]
  },
  {
   "cell_type": "code",
   "execution_count": null,
   "metadata": {},
   "outputs": [],
   "source": []
  }
 ],
 "metadata": {
  "kernelspec": {
   "display_name": "Python 3",
   "language": "python",
   "name": "python3"
  },
  "language_info": {
   "codemirror_mode": {
    "name": "ipython",
    "version": 3
   },
   "file_extension": ".py",
   "mimetype": "text/x-python",
   "name": "python",
   "nbconvert_exporter": "python",
   "pygments_lexer": "ipython3",
   "version": "3.7.1"
  }
 },
 "nbformat": 4,
 "nbformat_minor": 2
}
