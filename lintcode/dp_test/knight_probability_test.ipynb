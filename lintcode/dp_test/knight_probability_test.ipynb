{
 "cells": [
  {
   "cell_type": "code",
   "execution_count": 1,
   "metadata": {},
   "outputs": [],
   "source": [
    "# Copyright(C) 2021 刘珅珅\n",
    "# Environment: python 3.7\n",
    "# Date: 2021.6.21\n",
    "# “马”在棋盘上的概率：lintcode 1084"
   ]
  },
  {
   "cell_type": "code",
   "execution_count": 16,
   "metadata": {},
   "outputs": [],
   "source": [
    "class Solution:\n",
    "    \"\"\"\n",
    "    @param N: int\n",
    "    @param K: int\n",
    "    @param r: int\n",
    "    @param c: int\n",
    "    @return: the probability\n",
    "    \"\"\"\n",
    "    def knightProbability(self, N, K, r, c):\n",
    "        # Write your code here.\n",
    "        ## 状态：dp[i][j][k]表示从i行j列走k步不出界的概率\n",
    "        ## 要考虑K为0的情况\n",
    "        dp = [[[0 for k in range(K + 1)] for j in range(N)] for i in range(N)]\n",
    "        print(dp)\n",
    "        next_directons = [[1, 2], [1, -2], [-1, -2], [-1, 2], [2, 1], [-2, 1], [-2, -1], [2, -1]]\n",
    "        \n",
    "        ## 初始化：k==0，表示不再移动，将永远留在该位置，不出界的概率为1.0\n",
    "        for i in range(N):\n",
    "            for j in range(N):\n",
    "                dp[i][j][0] = 1.0\n",
    "        \n",
    "        ## 状态转移方程\n",
    "        for k in range(1, K + 1):\n",
    "            for i in range(N):\n",
    "                for j in range(N):\n",
    "                    tmp_probability = 0.0\n",
    "                    ## dp[i][j][k]不出界的概率为从8个方向跳出后，再跳k-1步不出界的概率和\n",
    "                    ## 统计8个方向走k-1步不出界的概率\n",
    "                    ## 注意：选择每个方向的概率都是1/8，所以dp[next_row][next_column][k-1]要乘以0.125\n",
    "                    for direction in next_directons:\n",
    "                        next_row = i + direction[0]\n",
    "                        next_column = j + direction[1]\n",
    "                        if next_row < 0 or next_column < 0 or next_row >= N or next_column >= N:\n",
    "                            continue\n",
    "                        ## dp[next_row][next_column][k - 1]之所以除以8，是因为选择跳\n",
    "                        tmp_probability += (dp[next_row][next_column][k - 1] * 0.125)\n",
    "                    \n",
    "                    dp[i][j][k] = tmp_probability\n",
    "        return dp[r][c][K]\n",
    " "
   ]
  },
  {
   "cell_type": "code",
   "execution_count": 17,
   "metadata": {},
   "outputs": [
    {
     "name": "stdout",
     "output_type": "stream",
     "text": [
      "[[[0, 0, 0, 0], [0, 0, 0, 0], [0, 0, 0, 0]], [[0, 0, 0, 0], [0, 0, 0, 0], [0, 0, 0, 0]], [[0, 0, 0, 0], [0, 0, 0, 0], [0, 0, 0, 0]]]\n",
      "0.015625\n"
     ]
    }
   ],
   "source": [
    "solution = Solution()\n",
    "N, K, r, c = 3, 3, 0, 0\n",
    "print(solution.knightProbability(N, K, r, c))"
   ]
  },
  {
   "cell_type": "code",
   "execution_count": 25,
   "metadata": {},
   "outputs": [],
   "source": [
    "class Solution:\n",
    "    \"\"\"\n",
    "    @param m: An integer m denotes the size of a backpack\n",
    "    @param A: Given n items with size A[i]\n",
    "    @return: The maximum size\n",
    "    \"\"\"\n",
    "    def backPack(self, m, A):\n",
    "        # write your code here\n",
    "        if not A:\n",
    "            return 0\n",
    "        n = len(A)\n",
    "        \n",
    "        ## 状态：dp[i][j]前i个物品能否占用空间j\n",
    "        dp = [[False] * (m + 1) for _ in range(n + 1)]\n",
    "        \n",
    "        ## 初始化，前0个物品占用空间0\n",
    "        dp[0][0] = True\n",
    "        \n",
    "        for i in range(1, n + 1):\n",
    "            ## 前i个物品肯定能占用空间0，因为前0个物品占用空间0\n",
    "            dp[i][0] = True\n",
    "            for j in range(1, m + 1):\n",
    "                ## 第i个物品的重量为A[i - 1]\n",
    "                if j >= A[i - 1]:\n",
    "                    ## 状态转移方程：dp[i - 1][j]表示不选第i个物品\n",
    "                    ## dp[i - 1][j - A[i - 1]]表示选择第i个物品，前i-1个物品占用j - A[i - 1]空间\n",
    "                    dp[i][j] = dp[i - 1][j] or dp[i - 1][j - A[i - 1]]\n",
    "                else:\n",
    "                    ## 前i-1个物品如果能占用j空间，则前i个物品肯定也能\n",
    "                    dp[i][j] = dp[i - 1][j]\n",
    "                \n",
    "        \n",
    "        for j in range(m, -1, -1):\n",
    "            if dp[n][j]:\n",
    "                return j\n",
    "        return -1\n"
   ]
  },
  {
   "cell_type": "code",
   "execution_count": 26,
   "metadata": {},
   "outputs": [
    {
     "name": "stdout",
     "output_type": "stream",
     "text": [
      "-1\n"
     ]
    }
   ],
   "source": [
    "m = 10\n",
    "A = [3,4,8,5]\n",
    "solution = Solution()\n",
    "print(solution.backPack(m, A))"
   ]
  },
  {
   "cell_type": "code",
   "execution_count": null,
   "metadata": {},
   "outputs": [],
   "source": []
  }
 ],
 "metadata": {
  "kernelspec": {
   "display_name": "Python 3",
   "language": "python",
   "name": "python3"
  },
  "language_info": {
   "codemirror_mode": {
    "name": "ipython",
    "version": 3
   },
   "file_extension": ".py",
   "mimetype": "text/x-python",
   "name": "python",
   "nbconvert_exporter": "python",
   "pygments_lexer": "ipython3",
   "version": "3.7.1"
  }
 },
 "nbformat": 4,
 "nbformat_minor": 2
}
