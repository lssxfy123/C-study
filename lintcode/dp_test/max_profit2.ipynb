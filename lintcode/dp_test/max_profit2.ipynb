{
 "cells": [
  {
   "cell_type": "code",
   "execution_count": 1,
   "metadata": {},
   "outputs": [],
   "source": [
    "# Copyright(C) 2021 刘珅珅\n",
    "# Environment: python 3.7\n",
    "# Date: 2021.4.8\n",
    "# 买卖股票的最佳时机 IV：lintcode 393"
   ]
  },
  {
   "cell_type": "markdown",
   "metadata": {},
   "source": [
    "## 如果k*2>=n，由于n天最多只能进行n//2次交易，就演变为lintcode 150的情况\n",
    "## 动态规划，时间复杂度为O(k*n^2)\n",
    "# lintcode测试会超时"
   ]
  },
  {
   "cell_type": "code",
   "execution_count": 11,
   "metadata": {},
   "outputs": [],
   "source": [
    "class Solution:\n",
    "    \"\"\"\n",
    "    @param K: An integer\n",
    "    @param prices: An integer array\n",
    "    @return: Maximum profit\n",
    "    \"\"\"\n",
    "    def maxProfit(self, K, prices):\n",
    "        # write your code here\n",
    "        if not prices or K == 0:\n",
    "            return 0\n",
    "        profit = 0\n",
    "        n = len(prices)\n",
    "        \n",
    "        ## 贪心法\n",
    "        if K >= n // 2:\n",
    "            for i in range(n - 1):\n",
    "                if prices[i + 1] > prices[i]:\n",
    "                    profit += prices[i + 1] - prices[i]\n",
    "            return profit\n",
    "        \n",
    "        ## 动态规划\n",
    "        ## 状态：dp[i][j]表示最多进行i次交易在第j天的最大获益\n",
    "        ## K+1是因为交易次数为0-K次\n",
    "        dp = [[0] * n for _ in range(K + 1)]\n",
    "        \n",
    "        for i in range(1, K + 1):\n",
    "            for j in range(1, n):\n",
    "                ## 第j天不卖出的情况\n",
    "                dp[i][j] = dp[i][j - 1]\n",
    "                \n",
    "                ## 第j天卖出的情况\n",
    "                ## 如果第j天要卖出股票，则在之前肯定至少要进行1次买入操作，dp[i - 1][k]表示至多进行i-1次操作第k天获取的最大收益，\n",
    "                ## 第k天买入，第j天卖出，产生的收益为prices[j] - prices[k]\n",
    "                for k in range(j):\n",
    "                    dp[i][j] = max(dp[i][j], dp[i - 1][k] + prices[j] - prices[k])\n",
    "        return dp[K][n - 1]\n"
   ]
  },
  {
   "cell_type": "code",
   "execution_count": 12,
   "metadata": {},
   "outputs": [
    {
     "name": "stdout",
     "output_type": "stream",
     "text": [
      "[[0, 0, 0, 0, 0, 0, 0, 0], [0, 0, 2, 2, 2, 3, 3, 4], [0, 0, 2, 2, 2, 5, 5, 6]]\n",
      "6\n"
     ]
    }
   ],
   "source": [
    "prices = [4,4,6,1,1,4,2,5]\n",
    "k = 2\n",
    "# k = 1\n",
    "# prices = [3, 2, 1]\n",
    "solution = Solution()\n",
    "print(solution.maxProfit(k, prices))"
   ]
  },
  {
   "cell_type": "code",
   "execution_count": null,
   "metadata": {},
   "outputs": [],
   "source": []
  }
 ],
 "metadata": {
  "kernelspec": {
   "display_name": "Python 3",
   "language": "python",
   "name": "python3"
  },
  "language_info": {
   "codemirror_mode": {
    "name": "ipython",
    "version": 3
   },
   "file_extension": ".py",
   "mimetype": "text/x-python",
   "name": "python",
   "nbconvert_exporter": "python",
   "pygments_lexer": "ipython3",
   "version": "3.7.1"
  }
 },
 "nbformat": 4,
 "nbformat_minor": 2
}
