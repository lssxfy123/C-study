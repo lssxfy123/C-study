{
 "cells": [
  {
   "cell_type": "code",
   "execution_count": 1,
   "metadata": {},
   "outputs": [],
   "source": [
    "# Copyright(C) 2021 刘珅珅\n",
    "# Environment: python 3.7\n",
    "# Date: 2021.4.3\n",
    "# 解码方法：lintcode 512"
   ]
  },
  {
   "cell_type": "code",
   "execution_count": 1,
   "metadata": {},
   "outputs": [],
   "source": [
    "class Solution:\n",
    "    \"\"\"\n",
    "    @param s: a string,  encoded message\n",
    "    @return: an integer, the number of ways decoding\n",
    "    \"\"\"\n",
    "    def numDecodings(self, s):\n",
    "        # write your code here\n",
    "        if not s or len(s) == 0:\n",
    "            return 0\n",
    "        \n",
    "        ## 状态：dp[i]表示前i个字符总共有几种解码方式\n",
    "        n = len(s)\n",
    "        dp = [0] * (n + 1)\n",
    "        \n",
    "        ## 初始化\n",
    "        ## 尽管s为空时，题目要求返回0，但dp[0]却要初始化为1，因为后面的状态转移方程需要dp[0]为1才能进行计算\n",
    "        ## 例如s=\"10\"，dp[2] = dp[1]*0+dp[0]*1，如果dp[0]初始化为0，就无法计算出正确结果\n",
    "        dp[0] = 1\n",
    "        \n",
    "        ## 状态转移方程中，i要从2开始，所以要初始化dp[1]\n",
    "        dp[1] = self.decode_ok(s[0])\n",
    "        \n",
    "        \n",
    "        for i in range(2, n + 1):\n",
    "            ## dp[i]表示前i个字符的解码方式，这里的解码是所有字符都能用于解码，不能存在有字符没用到的情况，如果有\n",
    "            ## 字符没用到，则解码方式就为0\n",
    "            ## 前i个字符的解码方式：decode_ok返回0或1，第i个字符如果不能够解码，返回0，则表示前i个字符的解码方式不能使用\n",
    "            ## 前i-1个字符的解码方式，因为会导致第i个字符用不到，同理如果第i-1到i个字符串不能够解码，前i-2个字符的解码方式也无法使用\n",
    "            ## dp[i-1]有几种解码方式就会映射出几种不同的大写字母字符串，dp[i-2]同样如此，并且dp[i-1]映射出来的大写字母字符串\n",
    "            ## 和dp[i-2]映射出的大写字母字符串肯定没有相同的，因为使用的s的字符个数都不同\n",
    "            ## 如果第i个字符可以解码，则dp[i-1]*self.decode_ok(s[i - 1 : i])就表示把前i-1个字符映射出来的大写字母字符串后面添加一个\n",
    "            ## s[i-1]解码的大写字母\n",
    "            ## 如果第i-1到i个字符可以解码，则dp[i - 2] * self.decode_ok(s[i - 2 : i])就表示前i-2个字符映射出来的大小字母字符串后面添加一个\n",
    "            ## s[i-2:i]解码的大写字母\n",
    "            dp[i] = dp[i - 1] * self.decode_ok(s[i - 1 : i]) + dp[i - 2] * self.decode_ok(s[i - 2 : i])\n",
    "        \n",
    "        return dp[n]\n",
    "            \n",
    "    \n",
    "    def decode_ok(self, substr):\n",
    "        code = int(substr)\n",
    "        ## 这里要判断substr的长度，防止出现substr为\"01\"，code为1，但其实不能解码\n",
    "        if len(substr) == 1 and code >= 1 and code <= 9:\n",
    "            return 1\n",
    "        if len(substr) == 2 and code >= 10 and code <= 26:\n",
    "            return 1\n",
    "        return 0"
   ]
  },
  {
   "cell_type": "code",
   "execution_count": 2,
   "metadata": {},
   "outputs": [
    {
     "name": "stdout",
     "output_type": "stream",
     "text": [
      "2\n"
     ]
    }
   ],
   "source": [
    "s = \"12\"\n",
    "solution = Solution()\n",
    "print(solution.numDecodings(s))"
   ]
  },
  {
   "cell_type": "code",
   "execution_count": null,
   "metadata": {},
   "outputs": [],
   "source": []
  }
 ],
 "metadata": {
  "kernelspec": {
   "display_name": "Python 3",
   "language": "python",
   "name": "python3"
  },
  "language_info": {
   "codemirror_mode": {
    "name": "ipython",
    "version": 3
   },
   "file_extension": ".py",
   "mimetype": "text/x-python",
   "name": "python",
   "nbconvert_exporter": "python",
   "pygments_lexer": "ipython3",
   "version": "3.7.1"
  }
 },
 "nbformat": 4,
 "nbformat_minor": 2
}
