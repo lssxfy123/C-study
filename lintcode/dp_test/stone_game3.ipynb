{
 "cells": [
  {
   "cell_type": "code",
   "execution_count": 1,
   "metadata": {},
   "outputs": [],
   "source": [
    "# Copyright(C) 2021 刘珅珅\n",
    "# Environment: python 3.7\n",
    "# Date: 2021.4.1\n",
    "# 石子归并：lintcode 476"
   ]
  },
  {
   "cell_type": "markdown",
   "metadata": {},
   "source": [
    "# 区间型动态规划：循环变量为长度length"
   ]
  },
  {
   "cell_type": "code",
   "execution_count": 9,
   "metadata": {},
   "outputs": [],
   "source": [
    "class Solution:\n",
    "    \"\"\"\n",
    "    @param A: An integer array\n",
    "    @return: An integer\n",
    "    \"\"\"\n",
    "    def stoneGame(self, A):\n",
    "        # write your code here\n",
    "        if not A or len(A) < 2:\n",
    "            return 0\n",
    "        \n",
    "        ## 状态：dp[i][j]从i合并到j的最小耗费\n",
    "        n = len(A)\n",
    "        dp = [[float('inf')] * n for _ in range(n)]\n",
    "        \n",
    "        ## 初始化:1堆石子的合并耗费为0\n",
    "        for i in range(n):\n",
    "            dp[i][i] = 0\n",
    "        \n",
    "        ## 使用前缀和替代之前的range_sum\n",
    "        prefix_sums = [0] * (n + 1)\n",
    "        for i in range(n):\n",
    "            prefix_sums[i + 1] = prefix_sums[i] + A[i]\n",
    "        \n",
    "        ## 长度从2开始\n",
    "        for length in range(2, n + 1):\n",
    "            for i in range(n - length + 1):\n",
    "                j = i + length - 1\n",
    "                for k in range(i, j):\n",
    "                    ## i到j的和为前j+1个数的和减去前i个数的和\n",
    "                    cost = prefix_sums[j + 1] - prefix_sums[i]\n",
    "                    dp[i][j] = min(dp[i][j], dp[i][k] + dp[k + 1][j] + cost)\n",
    "\n",
    "        return dp[0][n - 1]\n",
    "    "
   ]
  },
  {
   "cell_type": "code",
   "execution_count": 10,
   "metadata": {},
   "outputs": [
    {
     "name": "stdout",
     "output_type": "stream",
     "text": [
      "17\n"
     ]
    }
   ],
   "source": [
    "A = [3,4,3]\n",
    "#A = [4, 1, 1, 4]\n",
    "solution = Solution()\n",
    "print(solution.stoneGame(A))"
   ]
  },
  {
   "cell_type": "code",
   "execution_count": null,
   "metadata": {},
   "outputs": [],
   "source": []
  }
 ],
 "metadata": {
  "kernelspec": {
   "display_name": "Python 3",
   "language": "python",
   "name": "python3"
  },
  "language_info": {
   "codemirror_mode": {
    "name": "ipython",
    "version": 3
   },
   "file_extension": ".py",
   "mimetype": "text/x-python",
   "name": "python",
   "nbconvert_exporter": "python",
   "pygments_lexer": "ipython3",
   "version": "3.7.1"
  }
 },
 "nbformat": 4,
 "nbformat_minor": 2
}
