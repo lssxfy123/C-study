{
 "cells": [
  {
   "cell_type": "code",
   "execution_count": 1,
   "metadata": {},
   "outputs": [],
   "source": [
    "# Copyright(C) 2021 刘珅珅\n",
    "# Environment: python 3.7\n",
    "# Date: 2021.3.17\n",
    "# 通配符匹配：lintcode 192"
   ]
  },
  {
   "cell_type": "markdown",
   "metadata": {},
   "source": [
    "# 深度优先搜索+记忆化版"
   ]
  },
  {
   "cell_type": "code",
   "execution_count": 5,
   "metadata": {},
   "outputs": [],
   "source": [
    "class Solution:\n",
    "    \"\"\"\n",
    "    @param s: A string \n",
    "    @param p: A string includes \"?\" and \"*\"\n",
    "    @return: is Match?\n",
    "    \"\"\"\n",
    "    def isMatch(self, s, p):\n",
    "        # write your code here\n",
    "        ## 空串不是None，但not \"\"得到的值是True\n",
    "        if s is None or p is None:\n",
    "            return False\n",
    "        return self.dfs(s, 0, p, 0, {})\n",
    "    \n",
    "    def dfs(self, s, s_index, p, p_index, memo):\n",
    "        \n",
    "        ## 递归的出口\n",
    "        ## s中没有通配符，当p搜索完后，s也必须搜索完，否则肯定不匹配\n",
    "        if p_index == len(p):\n",
    "            return s_index == len(s)\n",
    "        \n",
    "        ## p中有通配符，如果s搜索完，则p剩下的必须全部是*\n",
    "        if s_index == len(s):\n",
    "            return self.is_all_start(p, p_index)\n",
    "        \n",
    "        ## 使用记忆过的结果\n",
    "        if (s_index, p_index) in memo:\n",
    "            return memo[(s_index, p_index)]\n",
    "        \n",
    "        match = False\n",
    "        ## 如果p_index字符不是*\n",
    "        if p[p_index] != \"*\":\n",
    "             match = self.is_char_match(s[s_index], p[p_index]) and self.dfs(s, s_index + 1, p, p_index + 1, memo)\n",
    "        else:\n",
    "            ## p_index是*，or前面表示*匹配空串，所以s_index不变，p_index+1\n",
    "            ## or后面表示*至少匹配1个字符，所以s_index+1，p_index不变\n",
    "            ## or前面的比较容易理解，or后面的推导如下例\n",
    "            ## s=\"abc\"，p=\"*?\"，*匹配a，得到(?, bc)是否匹配，*匹配ab,(?,c)，*匹配abc, (?, 空串)，总共有3中清空\n",
    "            ## s1=\"bc\"，p=\"*?\"，它的所有情况（包括or前面和or后面）为：1. (?,bc)这是or前面，即*匹配空，\n",
    "            ## or后面，(?,c), (?, 空串),发现s1和p的所有匹配子问题与s和p匹配的or后面的子问题是一致的\n",
    "            match = self.dfs(s, s_index, p, p_index + 1, memo) or self.dfs(s, s_index + 1, p, p_index, memo)\n",
    "        \n",
    "        memo[(s_index, p_index)] = match\n",
    "        return match\n",
    "            \n",
    "    \n",
    "    def is_all_start(self, p, p_index):\n",
    "        for i in range(p_index, len(p)):\n",
    "            if p[i] != \"*\":\n",
    "                return False\n",
    "        return True\n",
    "    \n",
    "    def is_char_match(self, s_char, p_char):\n",
    "        return s_char == p_char or p_char == \"?\"\n",
    "\n",
    "                "
   ]
  },
  {
   "cell_type": "code",
   "execution_count": 6,
   "metadata": {},
   "outputs": [
    {
     "name": "stdout",
     "output_type": "stream",
     "text": [
      "True\n"
     ]
    }
   ],
   "source": [
    "s = \"aa\"\n",
    "p = \"*\"\n",
    "solution = Solution()\n",
    "print(solution.isMatch(s, p))"
   ]
  },
  {
   "cell_type": "code",
   "execution_count": 7,
   "metadata": {},
   "outputs": [
    {
     "data": {
      "text/plain": [
       "False"
      ]
     },
     "execution_count": 7,
     "metadata": {},
     "output_type": "execute_result"
    }
   ],
   "source": [
    "\"\" is None"
   ]
  },
  {
   "cell_type": "code",
   "execution_count": null,
   "metadata": {},
   "outputs": [],
   "source": []
  }
 ],
 "metadata": {
  "kernelspec": {
   "display_name": "Python 3",
   "language": "python",
   "name": "python3"
  },
  "language_info": {
   "codemirror_mode": {
    "name": "ipython",
    "version": 3
   },
   "file_extension": ".py",
   "mimetype": "text/x-python",
   "name": "python",
   "nbconvert_exporter": "python",
   "pygments_lexer": "ipython3",
   "version": "3.7.1"
  }
 },
 "nbformat": 4,
 "nbformat_minor": 2
}
