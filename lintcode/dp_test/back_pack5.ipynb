{
 "cells": [
  {
   "cell_type": "code",
   "execution_count": 1,
   "metadata": {},
   "outputs": [],
   "source": [
    "# Copyright(C) 2021 刘珅珅\n",
    "# Environment: python 3.7\n",
    "# Date: 2021.3.17\n",
    "# 背包问题 III：lintcode 440"
   ]
  },
  {
   "cell_type": "markdown",
   "metadata": {},
   "source": [
    "# 算法优化"
   ]
  },
  {
   "cell_type": "code",
   "execution_count": 7,
   "metadata": {},
   "outputs": [],
   "source": [
    "class Solution:\n",
    "    \"\"\"\n",
    "    @param A: an integer array\n",
    "    @param V: an integer array\n",
    "    @param m: An integer\n",
    "    @return: an array\n",
    "    \"\"\"\n",
    "    def backPackIII(self, A, V, m):\n",
    "        # write your code here\n",
    "        if not A or not V:\n",
    "            return 0\n",
    "        \n",
    "        ## 状态：dp[i][j]表示前i个物品占用空间j所产生的最大价值\n",
    "        n = len(A)\n",
    "        dp = [[0] * (m + 1)  for _ in range(n + 1)]\n",
    "        \n",
    "        for i in range(1, n + 1):\n",
    "            for j in range(m + 1):\n",
    "                \"\"\"\n",
    "                状态转移方程的优化：\n",
    "                之前的状态转移方程为：dp[i][j] = max(dp[i - 1][j - count * A[i - 1]] + count * A[i - 1])\n",
    "                假设j的count = 2，即j = 2 * A[i - 1]，根据状态转移方程，\n",
    "                dp[i][j] = max(dp[i - 1][j], dp[i - 1][j - A[i - 1]] + V[i - 1], dp[i - 1][j - 2 * A[i - 1]] + 2 * V[i - 1])\n",
    "                由于j是从小到大循环的，所以：\n",
    "                dp[i][j - A[i - 1]] = max(dp[i - 1][j - A[i - 1]], dp[i - 1][j - 2 * A[i - 1]] + V[i - 1])\n",
    "                两边都同时加上V[i - 1]，可得：\n",
    "                dp[i][j - A[i - 1]] + V[i - 1] =max(dp[i - 1][j - A[i - 1]] + V[i - 1], dp[i - 1][j - 2 * A[i - 1]] + 2*V[i - 1])\n",
    "                可以看出其右边max函数中的两项和dp[i][j]中 max函数中的后两项是完全相同的，所以\n",
    "                dp[i][j] = max(dp[i - 1][j], dp[i][j - A[i - 1]] + V[i - 1])\n",
    "                这是新的状态转移方程\n",
    "                \"\"\"\n",
    "                if j >= A[i - 1]:\n",
    "                    dp[i][j] = max(dp[i - 1][j], dp[i][j - A[i - 1]] + V[i - 1])\n",
    "                else:\n",
    "                    dp[i][j] = dp[i - 1][j]\n",
    "        return dp[n][m]\n",
    "        "
   ]
  },
  {
   "cell_type": "code",
   "execution_count": 8,
   "metadata": {},
   "outputs": [
    {
     "name": "stdout",
     "output_type": "stream",
     "text": [
      "15\n"
     ]
    }
   ],
   "source": [
    "m = 10\n",
    "A = [2, 3, 5, 7]\n",
    "V = [1, 5, 2, 4]\n",
    "solution = Solution()\n",
    "print(solution.backPackIII(A, V, m))"
   ]
  },
  {
   "cell_type": "code",
   "execution_count": null,
   "metadata": {},
   "outputs": [],
   "source": []
  }
 ],
 "metadata": {
  "kernelspec": {
   "display_name": "Python 3",
   "language": "python",
   "name": "python3"
  },
  "language_info": {
   "codemirror_mode": {
    "name": "ipython",
    "version": 3
   },
   "file_extension": ".py",
   "mimetype": "text/x-python",
   "name": "python",
   "nbconvert_exporter": "python",
   "pygments_lexer": "ipython3",
   "version": "3.7.1"
  }
 },
 "nbformat": 4,
 "nbformat_minor": 2
}
