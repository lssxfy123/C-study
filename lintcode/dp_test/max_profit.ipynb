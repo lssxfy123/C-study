{
 "cells": [
  {
   "cell_type": "code",
   "execution_count": 1,
   "metadata": {},
   "outputs": [],
   "source": [
    "# Copyright(C) 2021 刘珅珅\n",
    "# Environment: python 3.7\n",
    "# Date: 2021.4.8\n",
    "# 买卖股票的最佳时机 III：lintcode 151"
   ]
  },
  {
   "cell_type": "markdown",
   "metadata": {},
   "source": [
    "## 一次交易指的是买入+卖出两次操作"
   ]
  },
  {
   "cell_type": "code",
   "execution_count": 1,
   "metadata": {},
   "outputs": [],
   "source": [
    "class Solution:\n",
    "    \"\"\"\n",
    "    @param prices: Given an integer array\n",
    "    @return: Maximum profit\n",
    "    \"\"\"\n",
    "    def maxProfit(self, prices):\n",
    "        # write your code here\n",
    "        if not prices:\n",
    "            return 0\n",
    "        \n",
    "        n = len(prices)\n",
    "        profit = 0\n",
    "        if n // 2 <= 2:\n",
    "            for i in range(n - 1):\n",
    "                if prices[i + 1] > prices[i]:\n",
    "                    profit += prices[i + 1] - prices[i]\n",
    "            return profit\n",
    "        \n",
    "        ## 状态：dp[i]：最多进行2次交易后，第i天的最大收益\n",
    "        dp = [[0] * n for _ in range(3)]\n",
    "        \n",
    "        for k in range(1, 3):\n",
    "            max_diff = -float('inf')\n",
    "            for i in range(1, n):\n",
    "                max_diff = max(max_diff, dp[k - 1][i - 1] - prices[i - 1])\n",
    "                ## 第i天不卖股票和第i天卖出股票的较大值\n",
    "                dp[k][i] = max(dp[k][i - 1], max_diff + prices[i])\n",
    "        \n",
    "        return dp[k][n - 1]\n",
    "                \n",
    "                    "
   ]
  },
  {
   "cell_type": "code",
   "execution_count": 2,
   "metadata": {},
   "outputs": [
    {
     "name": "stdout",
     "output_type": "stream",
     "text": [
      "6\n"
     ]
    }
   ],
   "source": [
    "prices = [4,4,6,1,1,4,2,5]\n",
    "solution = Solution()\n",
    "print(solution.maxProfit(prices))"
   ]
  },
  {
   "cell_type": "code",
   "execution_count": null,
   "metadata": {},
   "outputs": [],
   "source": []
  }
 ],
 "metadata": {
  "kernelspec": {
   "display_name": "Python 3",
   "language": "python",
   "name": "python3"
  },
  "language_info": {
   "codemirror_mode": {
    "name": "ipython",
    "version": 3
   },
   "file_extension": ".py",
   "mimetype": "text/x-python",
   "name": "python",
   "nbconvert_exporter": "python",
   "pygments_lexer": "ipython3",
   "version": "3.7.1"
  }
 },
 "nbformat": 4,
 "nbformat_minor": 2
}
