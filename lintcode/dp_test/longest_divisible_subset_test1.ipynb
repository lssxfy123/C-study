{
 "cells": [
  {
   "cell_type": "code",
   "execution_count": 1,
   "metadata": {},
   "outputs": [],
   "source": [
    "# Copyright(C) 2021 刘珅珅\n",
    "# Environment: python 3.7\n",
    "# Date: 2021.3.21\n",
    "# 最大整除子集：lintcode 603"
   ]
  },
  {
   "cell_type": "markdown",
   "metadata": {},
   "source": [
    "# 动态规划优化版：时间复杂度为O(n*(max(nums)的平方根))"
   ]
  },
  {
   "cell_type": "code",
   "execution_count": 3,
   "metadata": {},
   "outputs": [],
   "source": [
    "class Solution:\n",
    "    \"\"\"\n",
    "    @param nums: a set of distinct positive integers\n",
    "    @return: the largest subset \n",
    "    \"\"\"\n",
    "    def largestDivisibleSubset(self, nums):\n",
    "        # write your code here\n",
    "        if not nums:\n",
    "            return []\n",
    "        \n",
    "        ## 需要进行排序，题目求子集，并且对原始顺序没有要求\n",
    "        ## 排完序后，满足要求的子集中后面的值所以的因子都在其前面\n",
    "        nums.sort()\n",
    "        n = len(nums)\n",
    "        \n",
    "        ## 状态：dp[i]表示以nums[i]元素结尾的子集的最大长度，它是个哈希表\n",
    "        ## nums中没有重复数字\n",
    "        dp = {}\n",
    "        prev = {}\n",
    "        \n",
    "        for num in nums:\n",
    "            dp[num] = 1\n",
    "            prev[num] = -1\n",
    "        \n",
    "        ## 最大子集的最后一个元素\n",
    "        last_num = nums[0]\n",
    "        for num in nums:\n",
    "            for factor in self.get_factors(num):\n",
    "                ## 因子不在nums中\n",
    "                if factor not in dp:\n",
    "                    continue\n",
    "                \n",
    "                if dp[num] < dp[factor] + 1:\n",
    "                    dp[num] = dp[factor] + 1\n",
    "                    ## prev中记录是dp[num]的最大值的上一个元素\n",
    "                    prev[num] = factor\n",
    "                \n",
    "                if dp[num] > dp[last_num]:\n",
    "                    last_num = num\n",
    "        \n",
    "        return self.get_path(prev, last_num)\n",
    "    \n",
    "    ## 获取最优路径\n",
    "    def get_path(self, prev, last_num):\n",
    "        path = []\n",
    "        while last_num != -1:\n",
    "            path.append(last_num)\n",
    "            last_num = prev[last_num]\n",
    "        return path[::-1]\n",
    "    \n",
    "    ## 查找1个数所有的因子(不包含它自己)\n",
    "    ## 时间复杂度为O(num的平方根)\n",
    "    def get_factors(self, num):\n",
    "        ## 1的因子就是1\n",
    "        if num == 1:\n",
    "            return []\n",
    "        \n",
    "        factor = 1\n",
    "        factors = []\n",
    "        while factor * factor <= num:\n",
    "            if num % factor == 0:\n",
    "                factors.append(factor)\n",
    "                ## 找到一个因子，同时也能找到另一个与之对应的因子\n",
    "                if factor * factor != num and factor != 1:\n",
    "                    factors.append(num // factor)\n",
    "            factor += 1\n",
    "        return factors"
   ]
  },
  {
   "cell_type": "code",
   "execution_count": 4,
   "metadata": {},
   "outputs": [
    {
     "name": "stdout",
     "output_type": "stream",
     "text": [
      "[3, 9, 27, 81, 243, 486]\n"
     ]
    }
   ],
   "source": [
    "nums = [3,6,9,27,81,22,24,56,243,486,726,18,36,72]\n",
    "solution = Solution()\n",
    "print(solution.largestDivisibleSubset(nums))"
   ]
  },
  {
   "cell_type": "code",
   "execution_count": 1,
   "metadata": {},
   "outputs": [
    {
     "data": {
      "text/plain": [
       "'cat'"
      ]
     },
     "execution_count": 1,
     "metadata": {},
     "output_type": "execute_result"
    }
   ],
   "source": [
    "\"Cat\".lower()"
   ]
  },
  {
   "cell_type": "code",
   "execution_count": null,
   "metadata": {},
   "outputs": [],
   "source": []
  }
 ],
 "metadata": {
  "kernelspec": {
   "display_name": "Python 3",
   "language": "python",
   "name": "python3"
  },
  "language_info": {
   "codemirror_mode": {
    "name": "ipython",
    "version": 3
   },
   "file_extension": ".py",
   "mimetype": "text/x-python",
   "name": "python",
   "nbconvert_exporter": "python",
   "pygments_lexer": "ipython3",
   "version": "3.7.1"
  }
 },
 "nbformat": 4,
 "nbformat_minor": 2
}
