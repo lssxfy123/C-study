{
 "cells": [
  {
   "cell_type": "code",
   "execution_count": 1,
   "metadata": {},
   "outputs": [],
   "source": [
    "# Copyright(C) 2021 刘珅珅\n",
    "# Environment: python 3.7\n",
    "# Date: 2021.4.8\n",
    "# 房屋染色 II：lintcode 516"
   ]
  },
  {
   "cell_type": "markdown",
   "metadata": {},
   "source": [
    "# 坐标型动态规划"
   ]
  },
  {
   "cell_type": "code",
   "execution_count": 3,
   "metadata": {},
   "outputs": [],
   "source": [
    "class Solution:\n",
    "    \"\"\"\n",
    "    @param costs: n x k cost matrix\n",
    "    @return: an integer, the minimum cost to paint all houses\n",
    "    \"\"\"\n",
    "    def minCostII(self, costs):\n",
    "        # write your code here\n",
    "        if not costs:\n",
    "            return 0\n",
    "        \n",
    "        ## 状态：dp[i][j]表示第i个屋子选用第j种颜色的最小耗费\n",
    "        n, k = len(costs), len(costs[0])\n",
    "        dp = [[float('inf')] * k for _ in range(n)]\n",
    "        \n",
    "        ## 初始化\n",
    "        for i in range(k):\n",
    "            dp[0][i] = costs[0][i]\n",
    "        \n",
    "        \"\"\"\n",
    "        状态转移方程：lintcode 515中总共有3种颜色，可以直接枚举，这里有k种颜色，如果使用3重循环，时间复杂度为O(n*k^2)，过高。\n",
    "        可以记录dp[i - 1][:]中的最小值对应的颜色min_color和次小值对应的颜色second_min_color，这样计算dp[i][j]时，如果j不等于\n",
    "        min_color，就使用dp[i-1][min_color]来计算，如果j等于min_color，就使用dp[i - 1][second_min_color]\n",
    "        时间复杂度为O(nk)\n",
    "        \"\"\"\n",
    "        for i in range(1, n):\n",
    "            ## 计算dp[i-1][:]的最小颜色和次小颜色\n",
    "            min_color = second_min_color = -1\n",
    "            for j in range(k):\n",
    "                if min_color == -1 or dp[i - 1][j] < dp[i - 1][min_color]:\n",
    "                    second_min_color = min_color\n",
    "                    min_color = j\n",
    "                else:\n",
    "                    if second_min_color == -1 or dp[i - 1][j] < dp[i - 1][second_min_color]:\n",
    "                        second_min_color = j\n",
    "            \n",
    "            for j in range(k):\n",
    "                if j != min_color:\n",
    "                    dp[i][j] = dp[i - 1][min_color] + costs[i][j]\n",
    "                else:\n",
    "                    dp[i][j] = dp[i - 1][second_min_color] + costs[i][j]\n",
    "        return min(dp[n - 1][:])\n",
    "\n",
    "        \n",
    "        "
   ]
  },
  {
   "cell_type": "code",
   "execution_count": 5,
   "metadata": {},
   "outputs": [
    {
     "name": "stdout",
     "output_type": "stream",
     "text": [
      "5\n"
     ]
    }
   ],
   "source": [
    "costs = [[14,2,11],[11,14,5],[14,3,10]]\n",
    "costs = [[5]]\n",
    "solution = Solution()\n",
    "print(solution.minCostII(costs))"
   ]
  },
  {
   "cell_type": "code",
   "execution_count": null,
   "metadata": {},
   "outputs": [],
   "source": []
  }
 ],
 "metadata": {
  "kernelspec": {
   "display_name": "Python 3",
   "language": "python",
   "name": "python3"
  },
  "language_info": {
   "codemirror_mode": {
    "name": "ipython",
    "version": 3
   },
   "file_extension": ".py",
   "mimetype": "text/x-python",
   "name": "python",
   "nbconvert_exporter": "python",
   "pygments_lexer": "ipython3",
   "version": "3.7.1"
  }
 },
 "nbformat": 4,
 "nbformat_minor": 2
}
