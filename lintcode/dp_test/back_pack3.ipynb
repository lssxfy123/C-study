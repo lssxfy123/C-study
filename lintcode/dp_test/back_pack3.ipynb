{
 "cells": [
  {
   "cell_type": "code",
   "execution_count": 1,
   "metadata": {},
   "outputs": [],
   "source": [
    "# Copyright(C) 2021 刘珅珅\n",
    "# Environment: python 3.7\n",
    "# Date: 2021.3.17\n",
    "# 背包问题 II：lintcode 125"
   ]
  },
  {
   "cell_type": "code",
   "execution_count": 13,
   "metadata": {},
   "outputs": [],
   "source": [
    "## 空间优化\n",
    "class Solution:\n",
    "    \"\"\"\n",
    "    @param m: An integer m denotes the size of a backpack\n",
    "    @param A: Given n items with size A[i]\n",
    "    @param V: Given n items with value V[i]\n",
    "    @return: The maximum value\n",
    "    \"\"\"\n",
    "    def backPackII(self, m, A, V):\n",
    "        # write your code here\n",
    "        \n",
    "        ## 状态：dp[i][j]表示前i个物品占用空间j所产生的最大价值\n",
    "        ## 从之前的算法的状态转移方程可以看出，dp[i][j]的值和选不选A[i]有关\n",
    "        ## 如果无法选A[i]时，它的值等于dp[i - 1][j]，占用空间并未发生变化\n",
    "        ## 相当于dp[i][j]的值其实和i无关\n",
    "        n = len(A)\n",
    "        dp = [0] * (m + 1)\n",
    "        \n",
    "        for i in range(n):\n",
    "            for j in range(m, A[i] - 1, -1):\n",
    "                ## 状态转移方程\n",
    "                dp[j] = max(dp[j], dp[j - A[i]] + V[i])\n",
    "        return dp[m]\n",
    "        \n",
    "        \n"
   ]
  },
  {
   "cell_type": "code",
   "execution_count": 14,
   "metadata": {},
   "outputs": [
    {
     "name": "stdout",
     "output_type": "stream",
     "text": [
      "9\n"
     ]
    }
   ],
   "source": [
    "m = 10\n",
    "A = [3,4,8,5]\n",
    "V = [1,5,2,4]\n",
    "solution = Solution()\n",
    "print(solution.backPackII(m, A, V))"
   ]
  },
  {
   "cell_type": "code",
   "execution_count": 3,
   "metadata": {},
   "outputs": [
    {
     "name": "stdout",
     "output_type": "stream",
     "text": [
      "[[0, 0, 0, 0, 0, 0, 0, 0, 0, 0, 0], [0, 0, 2, 2, 2, 2, 2, 2, 2, 2, 2], [0, 0, 2, 5, 5, 7, 7, 7, 7, 7, 7], [0, 0, 2, 5, 5, 7, 7, 7, 8, 8, 10]]\n",
      "None\n"
     ]
    }
   ],
   "source": [
    "m = 10\n",
    "A = [2, 3, 8]\n",
    "V = [2, 5, 8]\n",
    "solution = Solution()\n",
    "print(solution.backPackII(m, A, V))"
   ]
  },
  {
   "cell_type": "code",
   "execution_count": null,
   "metadata": {},
   "outputs": [],
   "source": []
  }
 ],
 "metadata": {
  "kernelspec": {
   "display_name": "Python 3",
   "language": "python",
   "name": "python3"
  },
  "language_info": {
   "codemirror_mode": {
    "name": "ipython",
    "version": 3
   },
   "file_extension": ".py",
   "mimetype": "text/x-python",
   "name": "python",
   "nbconvert_exporter": "python",
   "pygments_lexer": "ipython3",
   "version": "3.7.1"
  }
 },
 "nbformat": 4,
 "nbformat_minor": 2
}
