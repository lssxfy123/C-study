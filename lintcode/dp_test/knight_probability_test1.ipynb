{
 "cells": [
  {
   "cell_type": "code",
   "execution_count": 1,
   "metadata": {},
   "outputs": [],
   "source": [
    "# Copyright(C) 2021 刘珅珅\n",
    "# Environment: python 3.7\n",
    "# Date: 2021.6.23\n",
    "# “马”在棋盘上的概率：lintcode 1084"
   ]
  },
  {
   "cell_type": "markdown",
   "metadata": {},
   "source": [
    "## 记忆化搜索"
   ]
  },
  {
   "cell_type": "code",
   "execution_count": 7,
   "metadata": {},
   "outputs": [],
   "source": [
    "class Solution:\n",
    "    \"\"\"\n",
    "    @param N: int\n",
    "    @param K: int\n",
    "    @param r: int\n",
    "    @param c: int\n",
    "    @return: the probability\n",
    "    \"\"\"\n",
    "    def knightProbability(self, N, K, r, c):\n",
    "        # Write your code here.\n",
    "        next_directions = [[1, 2], [1, -2], [-1, -2], [-1, 2], [2, 1], [-2, 1], [-2, -1], [2, -1]]\n",
    "        return self.dfs(N, K, r, c, next_directions, {})\n",
    "    \n",
    "    def dfs(self, N, k, row, column, next_directions, memo):\n",
    "        if k == 0:\n",
    "            return 1.0\n",
    "        if (row, column, k) in memo:\n",
    "            return memo[(row, column, k)]\n",
    "        \n",
    "        result_probability = 0.0\n",
    "        for direction in next_directions:\n",
    "            next_row = row + direction[0]\n",
    "            next_column = column + direction[1]\n",
    "            if not self.is_valid(N, next_row, next_column):\n",
    "                continue\n",
    "            result_probability += (self.dfs(N, k - 1, next_row, next_column, next_directions, memo) * 0.125)\n",
    "        memo[(row, column, k)] = result_probability\n",
    "        return result_probability\n",
    "    \n",
    "    def is_valid(self, N, row, column):\n",
    "        return row >= 0 and column >= 0 and row < N and column < N\n",
    "    \n",
    "            "
   ]
  },
  {
   "cell_type": "code",
   "execution_count": 9,
   "metadata": {},
   "outputs": [
    {
     "name": "stdout",
     "output_type": "stream",
     "text": [
      "0.0625\n"
     ]
    }
   ],
   "source": [
    "solution = Solution()\n",
    "N, K, r, c = 3, 2, 0, 0\n",
    "print(solution.knightProbability(N, K, r, c))"
   ]
  },
  {
   "cell_type": "code",
   "execution_count": null,
   "metadata": {},
   "outputs": [],
   "source": []
  }
 ],
 "metadata": {
  "kernelspec": {
   "display_name": "Python 3",
   "language": "python",
   "name": "python3"
  },
  "language_info": {
   "codemirror_mode": {
    "name": "ipython",
    "version": 3
   },
   "file_extension": ".py",
   "mimetype": "text/x-python",
   "name": "python",
   "nbconvert_exporter": "python",
   "pygments_lexer": "ipython3",
   "version": "3.7.1"
  }
 },
 "nbformat": 4,
 "nbformat_minor": 2
}
