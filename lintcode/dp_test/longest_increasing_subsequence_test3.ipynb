{
 "cells": [
  {
   "cell_type": "code",
   "execution_count": 1,
   "metadata": {},
   "outputs": [],
   "source": [
    "# Copyright(C) 2021 刘珅珅\n",
    "# Environment: python 3.7\n",
    "# Date: 2021.4.4\n",
    "# 最长上升连续子序列：lintcode 76"
   ]
  },
  {
   "cell_type": "markdown",
   "metadata": {},
   "source": [
    "# 二分法版：时间复杂度为O(nlogn)"
   ]
  },
  {
   "cell_type": "code",
   "execution_count": 3,
   "metadata": {},
   "outputs": [],
   "source": [
    "class Solution:\n",
    "    \"\"\"\n",
    "    @param nums: An integer array\n",
    "    @return: The length of LIS (longest increasing subsequence)\n",
    "    \"\"\"\n",
    "    def longestIncreasingSubsequence(self, nums):\n",
    "        # write your code here\n",
    "        if not nums:\n",
    "            return 0\n",
    "        \n",
    "        n = len(nums)\n",
    "        \"\"\"\n",
    "        LIS[i]表示长度为i的LIS的末尾的数最小是多少\n",
    "        LIS[0]的值初始为负无穷大，表示它后面可以接任何值\n",
    "        \"\"\"\n",
    "        LIS = [float('inf')] * (n + 1)\n",
    "        LIS[0] = -float('inf')\n",
    "        \n",
    "        longest = 0\n",
    "        ## 对于每1个num查找其在LIS中第一个大于或等于它的值的位置\n",
    "        ## 然后用num去替换这个位置的值，这样最大的index就是要找的最长连续上升子序列\n",
    "        for num in nums:\n",
    "            index = self.first_gte(num, LIS)\n",
    "            LIS[index] = num\n",
    "            longest = max(longest, index)\n",
    "        \n",
    "        return longest\n",
    "        \n",
    "    def first_gte(self, num, LIS):\n",
    "        start, end = 0, len(LIS) - 1\n",
    "        while start + 1 < end:\n",
    "            mid = (start + end) // 2\n",
    "            if LIS[mid] < num:\n",
    "                start = mid\n",
    "            else:\n",
    "                end = mid\n",
    "        if LIS[start] >= num:\n",
    "            return start\n",
    "        return end\n",
    "        \n",
    "            \n"
   ]
  },
  {
   "cell_type": "code",
   "execution_count": 4,
   "metadata": {},
   "outputs": [
    {
     "name": "stdout",
     "output_type": "stream",
     "text": [
      "3\n"
     ]
    }
   ],
   "source": [
    "nums = [5,4,1,2,3]\n",
    "solution = Solution()\n",
    "print(solution.longestIncreasingSubsequence(nums))"
   ]
  },
  {
   "cell_type": "code",
   "execution_count": null,
   "metadata": {},
   "outputs": [],
   "source": []
  }
 ],
 "metadata": {
  "kernelspec": {
   "display_name": "Python 3",
   "language": "python",
   "name": "python3"
  },
  "language_info": {
   "codemirror_mode": {
    "name": "ipython",
    "version": 3
   },
   "file_extension": ".py",
   "mimetype": "text/x-python",
   "name": "python",
   "nbconvert_exporter": "python",
   "pygments_lexer": "ipython3",
   "version": "3.7.1"
  }
 },
 "nbformat": 4,
 "nbformat_minor": 2
}
