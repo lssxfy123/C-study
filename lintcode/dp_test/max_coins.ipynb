{
 "cells": [
  {
   "cell_type": "code",
   "execution_count": 1,
   "metadata": {},
   "outputs": [],
   "source": [
    "# Copyright(C) 2021 刘珅珅\n",
    "# Environment: python 3.7\n",
    "# Date: 2021.4.1\n",
    "# 吹气球：lintcode 168"
   ]
  },
  {
   "cell_type": "code",
   "execution_count": 6,
   "metadata": {},
   "outputs": [],
   "source": [
    "class Solution:\n",
    "    \"\"\"\n",
    "    @param nums: A list of integer\n",
    "    @return: An integer, maximum coins\n",
    "    \"\"\"\n",
    "    def maxCoins(self, nums):\n",
    "        # write your code here\n",
    "        if not nums:\n",
    "            return 0\n",
    "        \n",
    "        ## 现在nums左右两端各加1个1，这样不影响最后的得分\n",
    "        nums = [1, *nums, 1]\n",
    "        n = len(nums)\n",
    "        \n",
    "        ## 状态：dp[i][j]表示吹爆i到j的气球(不含i,j)的最大得分\n",
    "        ## 这样dp[0][n - 1]就是所求结果\n",
    "        ## 这样定义状态，dp[i][i]和dp[i][i+1]都为0，不用再单独进行初始化\n",
    "        dp = [[0] * n for _ in range(n)]\n",
    "        \n",
    "        ## 状态转移方程\n",
    "        \"\"\"\n",
    "        dp[i][j]表示吹爆i到j之间(不含i,j)气球能获得的最多的分数\n",
    "        可以先任意吹爆一个气球k，能获得\n",
    "        nums[k]*(k的前一个数)*(k的后一个数)，\n",
    "        但由于不清楚k左边和右边的气球有没有被吹，所以无法确定k左右的数\n",
    "        那么换一种思路：最后吹爆任意一个气球k，那么k左右数字就确定了，(i < k < j)\n",
    "        左边肯定是nums[i]，右边肯定是nums[j],因为此刻第i到第j个气球\n",
    "        只剩下k没有被吹爆，这时获得的分数就是nums[i]*nums[k]*nums[j]\n",
    "        再加上吹爆k之前获得的最大分数dp[i][k]+dp[k][j]\n",
    "        状态转移方程：dp[i][j]=max(nums[i]*nums[k]*nums[j]+dp[i][k]+dp[k][j])\n",
    "        \"\"\"\n",
    "        ## i依赖于更后面的i值\n",
    "        ## nums的长度>=3，因为之前在其头尾都增加了1个元素1\n",
    "        ## 根据状态转移方程，i和j之间的距离至少为3，这样就保证至少有1个气球可以吹\n",
    "        for i in range(n - 3,-1, -1):\n",
    "            for j in range(i + 2, n):\n",
    "                for k in range(i + 1, j):\n",
    "                    dp[i][j] = max(dp[i][j], dp[i][k] + dp[k][j] + nums[i] * nums[k] * nums[j])\n",
    "        \n",
    "        return dp[0][n - 1]\n",
    "\n",
    "\n",
    "        \n"
   ]
  },
  {
   "cell_type": "code",
   "execution_count": 7,
   "metadata": {},
   "outputs": [
    {
     "name": "stdout",
     "output_type": "stream",
     "text": [
      "35\n"
     ]
    }
   ],
   "source": [
    "nums = [4,1,5,10]\n",
    "nums = [3, 1, 5]\n",
    "solution = Solution()\n",
    "print(solution.maxCoins(nums))"
   ]
  },
  {
   "cell_type": "code",
   "execution_count": null,
   "metadata": {},
   "outputs": [],
   "source": []
  }
 ],
 "metadata": {
  "kernelspec": {
   "display_name": "Python 3",
   "language": "python",
   "name": "python3"
  },
  "language_info": {
   "codemirror_mode": {
    "name": "ipython",
    "version": 3
   },
   "file_extension": ".py",
   "mimetype": "text/x-python",
   "name": "python",
   "nbconvert_exporter": "python",
   "pygments_lexer": "ipython3",
   "version": "3.7.1"
  }
 },
 "nbformat": 4,
 "nbformat_minor": 2
}
