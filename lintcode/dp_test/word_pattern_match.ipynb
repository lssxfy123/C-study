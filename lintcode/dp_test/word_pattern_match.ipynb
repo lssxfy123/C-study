{
 "cells": [
  {
   "cell_type": "code",
   "execution_count": 1,
   "metadata": {},
   "outputs": [],
   "source": [
    "# Copyright(C) 2021 刘珅珅\n",
    "# Environment: python 3.7\n",
    "# Date: 2021.3.18\n",
    "# 字模式 II：lintcode 829"
   ]
  },
  {
   "cell_type": "markdown",
   "metadata": {},
   "source": [
    "# 记忆化搜索版"
   ]
  },
  {
   "cell_type": "code",
   "execution_count": 6,
   "metadata": {},
   "outputs": [],
   "source": [
    "class Solution:\n",
    "    \"\"\"\n",
    "    @param pattern: a string,denote pattern string\n",
    "    @param str: a string, denote matching string\n",
    "    @return: a boolean\n",
    "    \"\"\"\n",
    "    def wordPatternMatch(self, pattern, str):\n",
    "        # write your code here\n",
    "        return self.is_match(pattern, str, {}, set())\n",
    "    \n",
    "    \"\"\"\n",
    "    解题思路：每次把pattern的第1个字符取出来，然后把string的前i个字符依次看成是pattern[0]的匹配字符串，并记录下来\n",
    "    然后把pattern剩余的字符和string剩余的字符再进行递归，最终判断是否匹配\n",
    "    \"\"\"\n",
    "    def is_match(self, pattern, string, mapping, used):\n",
    "        if not pattern:\n",
    "            return not string\n",
    "        \n",
    "        char = pattern[0]\n",
    "        ## 如果模式字符char已经有了与之对应的字符串\n",
    "        if char in mapping:\n",
    "            word = mapping[char]\n",
    "            ## char是pattern的第0个字符，如果string不是以word开头的，则肯定不匹配\n",
    "            if not string.startswith(word):\n",
    "                return False\n",
    "            \n",
    "            ## 如果string以word开头\n",
    "            return self.is_match(pattern[1:], string[len(word):], mapping, used)\n",
    "            \n",
    "        \n",
    "        ## 将string中的前i字符依次拿出来，判断用于匹配模式\n",
    "        ## pattern = \"abab\", string = \"redblueredblue\"，\"red\"匹配a, \"blue\"匹配b\n",
    "        for i in range(len(string)):\n",
    "            word = string[:i + 1]\n",
    "            \n",
    "            ## 如果word已经使用过，说明它已经有了对应的模式字符，并且肯定和char不同，否则就不会执行到这里，因为\n",
    "            ## mapping中已经有了word对应的模式字符的记录\n",
    "            if word in used:\n",
    "                continue\n",
    "            \n",
    "            ## 记录下来\n",
    "            used.add(word)\n",
    "            mapping[char] = word\n",
    "            ## 如果用word匹配pattern[0]，pattern刨除掉第0个字符后的模式能够与string刨除掉word的字符串进行匹配\n",
    "            ## 则说明匹配是成功的，直接返回True\n",
    "            if self.is_match(pattern[1:], string[i + 1:], mapping, used):\n",
    "                return True\n",
    "            \n",
    "            ## 如果不匹配\n",
    "            used.remove(word)\n",
    "            del mapping[char]\n",
    "        \n",
    "        ## 对于pattern[0]，如果没有任何word能匹配它，则肯定无法匹配\n",
    "        return False\n",
    "            \n",
    "                "
   ]
  },
  {
   "cell_type": "code",
   "execution_count": 7,
   "metadata": {},
   "outputs": [
    {
     "name": "stdout",
     "output_type": "stream",
     "text": [
      "False\n"
     ]
    }
   ],
   "source": [
    "pattern = \"lwpstyfsjf\"\n",
    "str = \"htkvcxwxkymrvrpcxw\"\n",
    "solution = Solution()\n",
    "print(solution.wordPatternMatch(pattern, str))"
   ]
  },
  {
   "cell_type": "code",
   "execution_count": 7,
   "metadata": {},
   "outputs": [
    {
     "data": {
      "text/plain": [
       "False"
      ]
     },
     "execution_count": 7,
     "metadata": {},
     "output_type": "execute_result"
    }
   ],
   "source": [
    "\"\" is None"
   ]
  },
  {
   "cell_type": "code",
   "execution_count": null,
   "metadata": {},
   "outputs": [],
   "source": []
  }
 ],
 "metadata": {
  "kernelspec": {
   "display_name": "Python 3",
   "language": "python",
   "name": "python3"
  },
  "language_info": {
   "codemirror_mode": {
    "name": "ipython",
    "version": 3
   },
   "file_extension": ".py",
   "mimetype": "text/x-python",
   "name": "python",
   "nbconvert_exporter": "python",
   "pygments_lexer": "ipython3",
   "version": "3.7.1"
  }
 },
 "nbformat": 4,
 "nbformat_minor": 2
}
