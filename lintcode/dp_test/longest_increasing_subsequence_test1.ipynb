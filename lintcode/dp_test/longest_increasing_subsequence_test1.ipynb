{
 "cells": [
  {
   "cell_type": "code",
   "execution_count": 1,
   "metadata": {},
   "outputs": [],
   "source": [
    "# Copyright(C) 2021 刘珅珅\n",
    "# Environment: python 3.7\n",
    "# Date: 2021.3.20\n",
    "# 最长上升子序列：lintcode 76的基础上求出具体的最长上升子序列"
   ]
  },
  {
   "cell_type": "markdown",
   "metadata": {},
   "source": [
    "# 动态规划版：动态规划不擅长找具体方案，但最优的方案还是可以找出"
   ]
  },
  {
   "cell_type": "code",
   "execution_count": 6,
   "metadata": {},
   "outputs": [],
   "source": [
    "class Solution:\n",
    "    \"\"\"\n",
    "    @param nums: An integer array\n",
    "    @return: The length of LIS (longest increasing subsequence)\n",
    "    \"\"\"\n",
    "    def longestIncreasingSubsequence(self, nums):\n",
    "        # write your code here\n",
    "        if not nums:\n",
    "            return []\n",
    "        \n",
    "        ## 状态：dp[i]表示以第i+1个元素结尾的子序列的长度\n",
    "        n = len(nums)\n",
    "        dp = [1] * n\n",
    "        prev = [-1] * n\n",
    "        \n",
    "        for i in range(1, n):\n",
    "            for j in range(i):\n",
    "                if nums[j] < nums[i] and dp[j] + 1 > dp[i]:\n",
    "                    dp[i] = dp[j] + 1\n",
    "                    ## prev[i]记录dp[i]的最优值是从哪个j算来的\n",
    "                    prev[i] = j\n",
    "        \n",
    "        ## longest表示最长上升子序列的长度，last表示最长上升子序列的尾结点\n",
    "        longest, last = 0, -1\n",
    "        for i in range(n):\n",
    "            if dp[i] > longest:\n",
    "                last = i\n",
    "        \n",
    "        path = []\n",
    "        while last != -1:\n",
    "            path.append(nums[last])\n",
    "            last = prev[last]\n",
    "        \n",
    "        path.reverse()\n",
    "        print(path)\n",
    "        \n",
    "        return max(dp)\n"
   ]
  },
  {
   "cell_type": "code",
   "execution_count": 7,
   "metadata": {},
   "outputs": [
    {
     "name": "stdout",
     "output_type": "stream",
     "text": [
      "[1, 2, 3]\n"
     ]
    },
    {
     "data": {
      "text/plain": [
       "3"
      ]
     },
     "execution_count": 7,
     "metadata": {},
     "output_type": "execute_result"
    }
   ],
   "source": [
    "nums = [5,4,1,2,3]\n",
    "solution = Solution()\n",
    "solution.longestIncreasingSubsequence(nums)"
   ]
  },
  {
   "cell_type": "code",
   "execution_count": 1,
   "metadata": {},
   "outputs": [
    {
     "data": {
      "text/plain": [
       "'cat'"
      ]
     },
     "execution_count": 1,
     "metadata": {},
     "output_type": "execute_result"
    }
   ],
   "source": [
    "\"Cat\".lower()"
   ]
  },
  {
   "cell_type": "code",
   "execution_count": null,
   "metadata": {},
   "outputs": [],
   "source": []
  }
 ],
 "metadata": {
  "kernelspec": {
   "display_name": "Python 3",
   "language": "python",
   "name": "python3"
  },
  "language_info": {
   "codemirror_mode": {
    "name": "ipython",
    "version": 3
   },
   "file_extension": ".py",
   "mimetype": "text/x-python",
   "name": "python",
   "nbconvert_exporter": "python",
   "pygments_lexer": "ipython3",
   "version": "3.7.1"
  }
 },
 "nbformat": 4,
 "nbformat_minor": 2
}
