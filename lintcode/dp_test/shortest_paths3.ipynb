{
 "cells": [
  {
   "cell_type": "code",
   "execution_count": 1,
   "metadata": {},
   "outputs": [],
   "source": [
    "# Copyright(C) 2021 刘珅珅\n",
    "# Environment: python 3.7\n",
    "# Date: 2021.3.20\n",
    "#  骑士的最短路径II：lintcode 630"
   ]
  },
  {
   "cell_type": "markdown",
   "metadata": {},
   "source": [
    "# 动态规划：滚动数组优化"
   ]
  },
  {
   "cell_type": "markdown",
   "metadata": {},
   "source": [
    "### 状态转移方程为：dp[i][j]=min(dp[i-1][j-2],dp[i+1][j-2],dp[i-2][j-1],dp[i+2][j-1])\n",
    "### 所以不能滚动i，而应该滚动j，因为j是严格递减的\n",
    "### 优化后的状态转移方程：dp[i][j%3]=min(dp[i-1][(j-2)%3],dp[i+1][(j-2)%3],dp[i-2][(j-1)%3],dp[i+2][(j-1)%3])"
   ]
  },
  {
   "cell_type": "code",
   "execution_count": 1,
   "metadata": {},
   "outputs": [],
   "source": [
    "class Solution:\n",
    "    def __init__(self):\n",
    "        self.DIRECTIONS = [(-1, -2), (1, -2), (2, -1), (-2, -1)]\n",
    "    \"\"\"\n",
    "    @param grid: a chessboard included 0 and 1\n",
    "    @return: the shortest path\n",
    "    \"\"\"\n",
    "    def shortestPath2(self, grid):\n",
    "        # write your code here\n",
    "        if not grid or not grid[0]:\n",
    "            return -1\n",
    "        \n",
    "        n, m = len(grid), len(grid[0])\n",
    "        if grid[n - 1][m - 1]:\n",
    "            return -1\n",
    "        \n",
    "        ## 状态：dp[i][j]表示从(0, 0)走到(i, j)的最短路径和\n",
    "        ## dp数组只需要有3列\n",
    "        dp = [[float('inf')] * 3 for _ in range(n)]\n",
    "        dp[0][0] = 0\n",
    "        \n",
    "        \n",
    "        ## 这里最外层的循环需要从列开始，因为骑士只能向其右边跳，整个状态表格中，前一行的值有可能会依赖后一行的值\n",
    "        ## 如果从行开始循环，就会出现部分状态值没能得到计算更新的问题\n",
    "        ## 动态规划一定要弄清楚状态之间的依赖关系\n",
    "        for j in range(1, m):\n",
    "            for i in range(n):\n",
    "                ## 这里需要先进行初始化，因为j%3这一列有可能存储了之前j-3列计算的值，如果计算第j列的值，则需要把它设置为无穷大\n",
    "                ## 否则后续比较最小值时可能有误\n",
    "                dp[i][j % 3] = float('inf')\n",
    "                if grid[i][j]:\n",
    "                    continue\n",
    "                \n",
    "                ## 状态转移方程\n",
    "                for delta_x, delta_y in self.DIRECTIONS:\n",
    "                    x, y = i + delta_x, j + delta_y\n",
    "                    if 0 <= x < n and 0 <= y < m:\n",
    "                        dp[i][j % 3] = min(dp[i][j % 3], dp[x][y % 3] + 1)\n",
    "\n",
    "        if dp[n - 1][(m - 1) % 3] == float('inf'):\n",
    "            return -1\n",
    "        return dp[n - 1][(m - 1) % 3]\n",
    "        \n",
    "\n"
   ]
  },
  {
   "cell_type": "code",
   "execution_count": 2,
   "metadata": {},
   "outputs": [
    {
     "name": "stdout",
     "output_type": "stream",
     "text": [
      "3\n"
     ]
    }
   ],
   "source": [
    "grid = [[0,1,0],[0,0,1],[0,0,0]]\n",
    "grid = [[0,0,0,0],[0,0,0,0],[0,0,0,0]]\n",
    "solution = Solution()\n",
    "print(solution.shortestPath2(grid))"
   ]
  },
  {
   "cell_type": "code",
   "execution_count": null,
   "metadata": {},
   "outputs": [],
   "source": [
    "[[0, inf, 2, inf], [inf, inf, 1, 2], [inf, 1, inf, 3]]\n",
    "[[0, inf, inf, inf], [inf, inf, 1, inf], [inf, 1, inf, inf]]"
   ]
  }
 ],
 "metadata": {
  "kernelspec": {
   "display_name": "Python 3",
   "language": "python",
   "name": "python3"
  },
  "language_info": {
   "codemirror_mode": {
    "name": "ipython",
    "version": 3
   },
   "file_extension": ".py",
   "mimetype": "text/x-python",
   "name": "python",
   "nbconvert_exporter": "python",
   "pygments_lexer": "ipython3",
   "version": "3.7.1"
  }
 },
 "nbformat": 4,
 "nbformat_minor": 2
}
