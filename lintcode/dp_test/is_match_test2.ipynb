{
 "cells": [
  {
   "cell_type": "code",
   "execution_count": 1,
   "metadata": {},
   "outputs": [],
   "source": [
    "# Copyright(C) 2021 刘珅珅\n",
    "# Environment: python 3.7\n",
    "# Date: 2021.3.17\n",
    "# 正则表达式匹配：lintcode 154"
   ]
  },
  {
   "cell_type": "markdown",
   "metadata": {},
   "source": [
    "# 深度优先搜索+记忆化版"
   ]
  },
  {
   "cell_type": "code",
   "execution_count": 8,
   "metadata": {},
   "outputs": [],
   "source": [
    "## 这个题和lintcode 192的匹配规则不同，p其实相当于是一个正则表达式\n",
    "## s = \"aab\", p = \"c*a*b\"，lintcode 192是不匹配，但这个题是匹配的\n",
    "class Solution:\n",
    "    \"\"\"\n",
    "    @param s: A string \n",
    "    @param p: A string includes \".\" and \"*\"\n",
    "    @return: is Match?\n",
    "    \"\"\"\n",
    "    def isMatch(self, s, p):\n",
    "        # write your code here\n",
    "        ## 空串不是None，但not \"\"得到的值是True\n",
    "        if s is None or p is None:\n",
    "            return False\n",
    "        return self.dfs(s, 0, p, 0, {})\n",
    "    \n",
    "    def dfs(self, s, s_index, p, p_index, memo):\n",
    "        \n",
    "        ## 递归的出口\n",
    "        ## s中没有通配符，当p搜索完后，s也必须搜索完，否则肯定不匹配\n",
    "        if p_index == len(p):\n",
    "            return s_index == len(s)\n",
    "        \n",
    "        ## p中有通配符，如果s搜索完，剩下的p只能匹配空\n",
    "        if s_index == len(s):\n",
    "            return self.is_empty(p, p_index)\n",
    "        \n",
    "        ## 使用记忆过的结果\n",
    "        if (s_index, p_index) in memo:\n",
    "            return memo[(s_index, p_index)]\n",
    "        \n",
    "        match = False\n",
    "        ## 正则匹配的不同处，如果p_index+1为*\n",
    "        if p_index + 1 < len(p) and p[p_index + 1] == \"*\":\n",
    "            ## s = \"ab\", p = \"a*\"\n",
    "            match1 = self.is_char_match(s[s_index], p[p_index]) and self.dfs(s, s_index + 1, p, p_index, memo)\n",
    "            \n",
    "            ## s = \"ab\", p = \"c*b\"，这样也是可以匹配的\n",
    "            match2 = self.dfs(s, s_index, p, p_index + 2, memo)\n",
    "            match = match1 or match2\n",
    "        else:\n",
    "            match = self.is_char_match(s[s_index], p[p_index]) and self.dfs(s, s_index + 1, p, p_index + 1, memo)\n",
    "\n",
    "        memo[(s_index, p_index)] = match\n",
    "        return match\n",
    "            \n",
    "    \"\"\"\n",
    "    当s搜索完成后，这里判断p后面是否可用匹配的规则与lintcode 192不同\n",
    "    lintcode 192要求必须全是*，但正则匹配后面可以还有其它字符，只要类似\n",
    "    x*x*这样的就行\n",
    "    \"\"\"\n",
    "    def is_empty(self, p, p_index):\n",
    "        p_len = len(p) - p_index\n",
    "        ## 长度必须是偶数\n",
    "        if p_len % 2 != 0:\n",
    "            return False\n",
    "        for i in range(p_len // 2):\n",
    "            if p[i * 2 + 1] != \"*\":\n",
    "                return False\n",
    "        return True\n",
    "    \n",
    "    def is_char_match(self, s_char, p_char):\n",
    "        return s_char == p_char or p_char == \".\"\n",
    "\n",
    "                \n",
    "\n",
    "\n",
    "                "
   ]
  },
  {
   "cell_type": "code",
   "execution_count": 9,
   "metadata": {},
   "outputs": [
    {
     "name": "stdout",
     "output_type": "stream",
     "text": [
      "True\n"
     ]
    }
   ],
   "source": [
    "s = \"aab\"\n",
    "p = \"c*a*b\"\n",
    "solution = Solution()\n",
    "print(solution.isMatch(s, p))"
   ]
  },
  {
   "cell_type": "code",
   "execution_count": 7,
   "metadata": {},
   "outputs": [
    {
     "data": {
      "text/plain": [
       "False"
      ]
     },
     "execution_count": 7,
     "metadata": {},
     "output_type": "execute_result"
    }
   ],
   "source": [
    "\"\" is None"
   ]
  },
  {
   "cell_type": "code",
   "execution_count": null,
   "metadata": {},
   "outputs": [],
   "source": []
  }
 ],
 "metadata": {
  "kernelspec": {
   "display_name": "Python 3",
   "language": "python",
   "name": "python3"
  },
  "language_info": {
   "codemirror_mode": {
    "name": "ipython",
    "version": 3
   },
   "file_extension": ".py",
   "mimetype": "text/x-python",
   "name": "python",
   "nbconvert_exporter": "python",
   "pygments_lexer": "ipython3",
   "version": "3.7.1"
  }
 },
 "nbformat": 4,
 "nbformat_minor": 2
}
