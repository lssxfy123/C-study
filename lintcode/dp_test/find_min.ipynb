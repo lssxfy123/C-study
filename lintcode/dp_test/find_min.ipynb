{
 "cells": [
  {
   "cell_type": "code",
   "execution_count": 1,
   "metadata": {},
   "outputs": [],
   "source": [
    "# Copyright(C) 2021 刘珅珅\n",
    "# Environment: python 3.7\n",
    "# Date: 2021.3.15\n",
    "# 最小划分：lintcode 724"
   ]
  },
  {
   "cell_type": "code",
   "execution_count": 1,
   "metadata": {},
   "outputs": [],
   "source": [
    "class Solution:\n",
    "    \"\"\"\n",
    "    @param nums: the given array\n",
    "    @return: the minimum difference between their sums \n",
    "    \"\"\"\n",
    "    def findMin(self, nums):\n",
    "        # write your code here\n",
    "        if not nums:\n",
    "            return 0\n",
    "        total_sum = sum(nums)\n",
    "        n = len(nums)\n",
    "        \n",
    "        ## 状态：dp[i]表示在数组nums中挑选部分元素出来，能否将其和取到i\n",
    "        ## 之所以将i最大设置为总和的一半，是因为题目要求两个分割数组的差值\n",
    "        ## 大于总和的一半，就意味着另一个数组肯定比总和的一半要小，\n",
    "        ## 如果能挑出元素凑成总和的一半，就意味着差值为0\n",
    "        dp = [False] * (total_sum // 2 + 1)\n",
    "        \n",
    "        ## 初始化：表示其中一个数组不挑任何元素，这样其和就为0\n",
    "        dp[0] = True\n",
    "        \n",
    "        diff = total_sum\n",
    "        for i in range(n):\n",
    "            ## 循环时，数组和j要从大到小进行递推，原因是每个nums[i]都只能取1次\n",
    "            ## 如果j从小到大进行递推，当j1==nums[i]时，会将dp[j1]置为True，后续\n",
    "            ## 碰到更大的j2时，如果j2 = j1 + nums[i]，也会将dp[j2]置为True，但\n",
    "            ## 实际上dp[j2]不一定能取到（除非有多个相同的nums[i]），这就相当于nums[i]取了多次\n",
    "            for j in range(total_sum // 2, nums[i] - 1, -1):\n",
    "                if j >= nums[i]:\n",
    "                    dp[j] = dp[j - nums[i]] or dp[j]\n",
    "\n",
    "        for j in range(total_sum // 2, -1, -1):\n",
    "            if dp[j]:\n",
    "                diff = total_sum - 2 * j\n",
    "                break\n",
    "        return diff\n",
    "                "
   ]
  },
  {
   "cell_type": "code",
   "execution_count": 3,
   "metadata": {},
   "outputs": [
    {
     "name": "stdout",
     "output_type": "stream",
     "text": [
      "[True, True, False, False, False, True, True, True, False, False, False, True]\n",
      "1\n"
     ]
    }
   ],
   "source": [
    "nums = [1,5,6,11]\n",
    "#nums = [1, 2, 3, 4]\n",
    "solution = Solution()\n",
    "print(solution.findMin(nums))"
   ]
  },
  {
   "cell_type": "code",
   "execution_count": 15,
   "metadata": {},
   "outputs": [],
   "source": [
    "class Solution:\n",
    "    \"\"\"\n",
    "    @param nums: the given array\n",
    "    @return: the minimum difference between their sums \n",
    "    \"\"\"\n",
    "    def findMin(self, nums):\n",
    "        # write your code here\n",
    "        if not nums:\n",
    "            return 0\n",
    "        total_sum = sum(nums)\n",
    "        n = len(nums)\n",
    "        \n",
    "        ## 状态：dp[i]表示在数组nums中挑选部分元素出来，能否将其和取到i\n",
    "        ## 之所以将i最大设置为总和的一半，是因为题目要求两个分割数组的差值\n",
    "        ## 大于总和的一半，就意味着另一个数组肯定比总和的一半要小，\n",
    "        ## 如果能挑出元素凑成总和的一半，就意味着差值为0\n",
    "        dp = [0] * (total_sum // 2 + 1)\n",
    "        \n",
    "        ## 初始化：表示其中一个数组不挑任何元素，这样其和就为0\n",
    "        dp[0] = 0\n",
    "        \n",
    "        diff = total_sum\n",
    "        for i in range(n):\n",
    "            for j in range(total_sum // 2, nums[i] - 1, -1):\n",
    "                if j >= nums[i]:\n",
    "                    dp[j] = dp[j - nums[i]] + nums[i] if dp[j - nums[i]] + nums[i] > dp[j] else dp[j]\n",
    "        print(dp)\n"
   ]
  },
  {
   "cell_type": "code",
   "execution_count": 17,
   "metadata": {},
   "outputs": [
    {
     "name": "stdout",
     "output_type": "stream",
     "text": [
      "[0, 1, 1, 1, 1, 5, 6, 7, 7, 7, 7, 11]\n"
     ]
    }
   ],
   "source": [
    "nums = [1,5,6,11]\n",
    "#nums = [1, 2, 3, 4]\n",
    "solution = Solution()\n",
    "solution.findMin(nums)"
   ]
  },
  {
   "cell_type": "code",
   "execution_count": null,
   "metadata": {},
   "outputs": [],
   "source": []
  }
 ],
 "metadata": {
  "kernelspec": {
   "display_name": "Python 3",
   "language": "python",
   "name": "python3"
  },
  "language_info": {
   "codemirror_mode": {
    "name": "ipython",
    "version": 3
   },
   "file_extension": ".py",
   "mimetype": "text/x-python",
   "name": "python",
   "nbconvert_exporter": "python",
   "pygments_lexer": "ipython3",
   "version": "3.7.1"
  }
 },
 "nbformat": 4,
 "nbformat_minor": 2
}
