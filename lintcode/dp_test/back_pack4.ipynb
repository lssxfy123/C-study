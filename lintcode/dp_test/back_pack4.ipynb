{
 "cells": [
  {
   "cell_type": "code",
   "execution_count": 1,
   "metadata": {},
   "outputs": [],
   "source": [
    "# Copyright(C) 2021 刘珅珅\n",
    "# Environment: python 3.7\n",
    "# Date: 2021.3.17\n",
    "# 背包问题 III：lintcode 440"
   ]
  },
  {
   "cell_type": "markdown",
   "metadata": {},
   "source": [
    "# 该算法会超时，时间复杂度为O(n * m ^ 2)"
   ]
  },
  {
   "cell_type": "code",
   "execution_count": 14,
   "metadata": {},
   "outputs": [],
   "source": [
    "class Solution:\n",
    "    \"\"\"\n",
    "    @param A: an integer array\n",
    "    @param V: an integer array\n",
    "    @param m: An integer\n",
    "    @return: an array\n",
    "    \"\"\"\n",
    "    def backPackIII(self, A, V, m):\n",
    "        # write your code here\n",
    "        if not A or not V:\n",
    "            return 0\n",
    "        \n",
    "        ## 状态：dp[i][j]表示前i个物品占用空间j所产生的最大价值\n",
    "        n = len(A)\n",
    "        dp = [[0] * (m + 1)  for _ in range(n + 1)]\n",
    "        \n",
    "        for i in range(1, n + 1):\n",
    "            for j in range(m + 1):\n",
    "                ## 第i个物品可以重复取\n",
    "                ## dp[i][j] = max(dp[i - 1][j - count * A[i - 1]] + count * A[i - 1])\n",
    "                for count in range(j // A[i - 1] + 1):\n",
    "                    dp[i][j] = max(dp[i][j], dp[i - 1][j - count * A[i - 1]] + count * V[i - 1])\n",
    "        return dp[n][m]\n",
    "        "
   ]
  },
  {
   "cell_type": "code",
   "execution_count": 15,
   "metadata": {},
   "outputs": [
    {
     "name": "stdout",
     "output_type": "stream",
     "text": [
      "15\n"
     ]
    }
   ],
   "source": [
    "m = 10\n",
    "A = [2, 3, 5, 7]\n",
    "V = [1, 5, 2, 4]\n",
    "solution = Solution()\n",
    "print(solution.backPackIII(A, V, m))"
   ]
  },
  {
   "cell_type": "code",
   "execution_count": null,
   "metadata": {},
   "outputs": [],
   "source": []
  }
 ],
 "metadata": {
  "kernelspec": {
   "display_name": "Python 3",
   "language": "python",
   "name": "python3"
  },
  "language_info": {
   "codemirror_mode": {
    "name": "ipython",
    "version": 3
   },
   "file_extension": ".py",
   "mimetype": "text/x-python",
   "name": "python",
   "nbconvert_exporter": "python",
   "pygments_lexer": "ipython3",
   "version": "3.7.1"
  }
 },
 "nbformat": 4,
 "nbformat_minor": 2
}
