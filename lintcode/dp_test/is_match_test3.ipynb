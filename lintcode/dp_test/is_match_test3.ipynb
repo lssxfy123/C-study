{
 "cells": [
  {
   "cell_type": "code",
   "execution_count": 1,
   "metadata": {},
   "outputs": [],
   "source": [
    "# Copyright(C) 2021 刘珅珅\n",
    "# Environment: python 3.7\n",
    "# Date: 2021.3.17\n",
    "# 正则表达式匹配：lintcode 154"
   ]
  },
  {
   "cell_type": "markdown",
   "metadata": {},
   "source": [
    "# 动态规划版"
   ]
  },
  {
   "cell_type": "code",
   "execution_count": 17,
   "metadata": {},
   "outputs": [],
   "source": [
    "## 这个题和lintcode 192的匹配规则不同，p其实相当于是一个正则表达式\n",
    "## s = \"aab\", p = \"c*a*b\"，lintcode 192是不匹配，但这个题是匹配的\n",
    "class Solution:\n",
    "    \"\"\"\n",
    "    @param s: A string \n",
    "    @param p: A string includes \".\" and \"*\"\n",
    "    @return: is Match?\n",
    "    \"\"\"\n",
    "    def isMatch(self, s, p):\n",
    "        # write your code here\n",
    "        ## 空串不是None，但not \"\"得到的值是True\n",
    "        if s is None or p is None:\n",
    "            return False\n",
    "        \n",
    "        n, m = len(s), len(p)\n",
    "        \n",
    "        ## 状态：dp[i][j]表示s的前i个字符是否和p的前j个字符符合正则匹配\n",
    "        dp = [[False] * (m + 1) for _ in range(n + 1)]\n",
    "        \n",
    "        ## 初始化\n",
    "        dp[0][0] = True\n",
    "        ## 只有p包含通配符\n",
    "        for j in range(1, m + 1):\n",
    "            if p[j - 1] == \"*\" and j - 2 >= 0:\n",
    "                dp[0][j] = dp[0][j - 2]\n",
    "\n",
    "        for i in range(1, n + 1):\n",
    "            for j in range(1, m + 1):\n",
    "                ## 状态转移方程\n",
    "                if p[j - 1] != \"*\":\n",
    "                    dp[i][j] = dp[i - 1][j - 1] and (s[i - 1] == p[j - 1] or p[j - 1] == \".\")\n",
    "                    continue\n",
    "                \n",
    "                ## p[j - 1] == \"*\"\n",
    "                ## 1. 如果p第j个字符为*，则s前i个字符如果和p前j-2的字符匹配，dp[i][j]就匹配\n",
    "                ## s = \"a\", p = \"ab*\", s和p是匹配的\n",
    "                if j - 2 >= 0:\n",
    "                    dp[i][j] = dp[i][j - 2]\n",
    "                \n",
    "                ## 2. s = \"abc\", p = \"ab.*\"或p = \"abc*\"\n",
    "                ## p[j - 1] = \"*\", s[i - 1] = \"c\"\n",
    "                if s[i - 1] == p[j - 2] or p[j - 2] == \".\":\n",
    "                    dp[i][j] |= dp[i - 1][j]\n",
    "        return dp[n][m]\n",
    "                "
   ]
  },
  {
   "cell_type": "code",
   "execution_count": 18,
   "metadata": {},
   "outputs": [
    {
     "name": "stdout",
     "output_type": "stream",
     "text": [
      "[[True, False, True, False, True, False], [False, False, False, True, True, False], [False, False, False, False, True, False], [False, False, False, False, False, True]]\n",
      "True\n"
     ]
    }
   ],
   "source": [
    "s = \"aab\"\n",
    "p = \"c*a*b\"\n",
    "solution = Solution()\n",
    "print(solution.isMatch(s, p))"
   ]
  },
  {
   "cell_type": "code",
   "execution_count": 7,
   "metadata": {},
   "outputs": [
    {
     "data": {
      "text/plain": [
       "False"
      ]
     },
     "execution_count": 7,
     "metadata": {},
     "output_type": "execute_result"
    }
   ],
   "source": [
    "\"\" is None"
   ]
  },
  {
   "cell_type": "code",
   "execution_count": null,
   "metadata": {},
   "outputs": [],
   "source": []
  }
 ],
 "metadata": {
  "kernelspec": {
   "display_name": "Python 3",
   "language": "python",
   "name": "python3"
  },
  "language_info": {
   "codemirror_mode": {
    "name": "ipython",
    "version": 3
   },
   "file_extension": ".py",
   "mimetype": "text/x-python",
   "name": "python",
   "nbconvert_exporter": "python",
   "pygments_lexer": "ipython3",
   "version": "3.7.1"
  }
 },
 "nbformat": 4,
 "nbformat_minor": 2
}
