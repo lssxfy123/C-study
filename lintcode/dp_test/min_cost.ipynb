{
 "cells": [
  {
   "cell_type": "code",
   "execution_count": 1,
   "metadata": {},
   "outputs": [],
   "source": [
    "# Copyright(C) 2021 刘珅珅\n",
    "# Environment: python 3.7\n",
    "# Date: 2021.4.8\n",
    "# 房屋染色：lintcode 515"
   ]
  },
  {
   "cell_type": "markdown",
   "metadata": {},
   "source": [
    "# 坐标型动态规划"
   ]
  },
  {
   "cell_type": "code",
   "execution_count": 9,
   "metadata": {},
   "outputs": [],
   "source": [
    "class Solution:\n",
    "    \"\"\"\n",
    "    @param costs: n x 3 cost matrix\n",
    "    @return: An integer, the minimum cost to paint all houses\n",
    "    \"\"\"\n",
    "    def minCost(self, costs):\n",
    "        # write your code here\n",
    "        if not costs:\n",
    "            return 0\n",
    "        \n",
    "        ## 状态：dp[i][j]表示第i个屋子选用第j种颜色的最小耗费\n",
    "        ## 不能将状态定位为前i个屋子的最小耗费，无法提取状态转移方程\n",
    "        ## 因为第i个屋子的选择会影响到之前的屋子的颜色选择\n",
    "        n = len(costs)\n",
    "        dp = [[float('inf')] * 3 for _ in range(n)]\n",
    "        \n",
    "        ## 初始化\n",
    "        for i in range(3):\n",
    "            dp[0][i] = costs[0][i]\n",
    "        \n",
    "        for i in range(1, n):\n",
    "            dp[i][0] = min(dp[i - 1][1], dp[i - 1][2]) + costs[i][0]\n",
    "            dp[i][1] = min(dp[i - 1][0], dp[i - 1][2]) + costs[i][1]\n",
    "            dp[i][2] = min(dp[i - 1][0], dp[i - 1][1]) + costs[i][2]\n",
    "        \n",
    "        return min(dp[n - 1][:])\n",
    "        \n",
    "        "
   ]
  },
  {
   "cell_type": "code",
   "execution_count": 10,
   "metadata": {},
   "outputs": [
    {
     "name": "stdout",
     "output_type": "stream",
     "text": [
      "[[14, 2, 11], [13, 25, 7], [21, 10, 23]]\n",
      "10\n"
     ]
    }
   ],
   "source": [
    "costs = [[14,2,11],[11,14,5],[14,3,10]]\n",
    "solution = Solution()\n",
    "print(solution.minCost(costs))"
   ]
  },
  {
   "cell_type": "code",
   "execution_count": null,
   "metadata": {},
   "outputs": [],
   "source": []
  }
 ],
 "metadata": {
  "kernelspec": {
   "display_name": "Python 3",
   "language": "python",
   "name": "python3"
  },
  "language_info": {
   "codemirror_mode": {
    "name": "ipython",
    "version": 3
   },
   "file_extension": ".py",
   "mimetype": "text/x-python",
   "name": "python",
   "nbconvert_exporter": "python",
   "pygments_lexer": "ipython3",
   "version": "3.7.1"
  }
 },
 "nbformat": 4,
 "nbformat_minor": 2
}
