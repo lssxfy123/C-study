{
 "cells": [
  {
   "cell_type": "code",
   "execution_count": 1,
   "metadata": {},
   "outputs": [],
   "source": [
    "# Copyright(C) 2021 刘珅珅\n",
    "# Environment: python 3.7\n",
    "# Date: 2021.4.3\n",
    "# 最长公共子序列：lintcode 77"
   ]
  },
  {
   "cell_type": "markdown",
   "metadata": {},
   "source": [
    "# 最长公共子序列(LCS)"
   ]
  },
  {
   "cell_type": "code",
   "execution_count": 17,
   "metadata": {},
   "outputs": [],
   "source": [
    "class Solution:\n",
    "    \"\"\"\n",
    "    @param A: A string\n",
    "    @param B: A string\n",
    "    @return: The length of longest common subsequence of A and B\n",
    "    \"\"\"\n",
    "    def longestCommonSubsequence(self, A, B):\n",
    "        # write your code here\n",
    "        if A is None or B is None:\n",
    "            return 0\n",
    "        \n",
    "        ## 状态:dp[i][j]：表示A中前i个字符和B中前j个字符的LCS的长度\n",
    "        n, m = len(A), len(B)\n",
    "        dp = [[0] * (m + 1) for _ in range(n + 1)]\n",
    "        \n",
    "        for i in range(1, n + 1):\n",
    "            for j in range(1, m + 1):\n",
    "                ## 如果末尾的字符相等，则dp[i][j]为dp[i-1][j],dp[i][j-1], dp[i-1][j-1]+1中的最大值\n",
    "                ## (i, j)的LCS有3种情况：(i-1, j)表示LCS肯定不包含第i个字符，(i, j-1)表示LCS肯定不包含第j个字符\n",
    "                ## (i-1, j-1)+1表示LCS肯定包含第i个或第j个字符\n",
    "                if A[i - 1] == B[j - 1]:\n",
    "                    dp[i][j] = max(dp[i - 1][j], dp[i][j - 1], dp[i - 1][j - 1] + 1) \n",
    "                else:\n",
    "                    dp[i][j] = max(dp[i - 1][j], dp[i][j - 1])\n",
    "        return dp[n][m]\n",
    "\n"
   ]
  },
  {
   "cell_type": "code",
   "execution_count": 18,
   "metadata": {},
   "outputs": [
    {
     "name": "stdout",
     "output_type": "stream",
     "text": [
      "1\n"
     ]
    }
   ],
   "source": [
    "A = \"ABCD\" \n",
    "B = \"EDCA\"\n",
    "B = \"EACB\"\n",
    "\n",
    "A = \"a\"\n",
    "B = \"aaaaaaaaaaaaa\"\n",
    "solution = Solution()\n",
    "print(solution.longestCommonSubsequence(A, B))"
   ]
  },
  {
   "cell_type": "code",
   "execution_count": null,
   "metadata": {},
   "outputs": [],
   "source": []
  }
 ],
 "metadata": {
  "kernelspec": {
   "display_name": "Python 3",
   "language": "python",
   "name": "python3"
  },
  "language_info": {
   "codemirror_mode": {
    "name": "ipython",
    "version": 3
   },
   "file_extension": ".py",
   "mimetype": "text/x-python",
   "name": "python",
   "nbconvert_exporter": "python",
   "pygments_lexer": "ipython3",
   "version": "3.7.1"
  }
 },
 "nbformat": 4,
 "nbformat_minor": 2
}
