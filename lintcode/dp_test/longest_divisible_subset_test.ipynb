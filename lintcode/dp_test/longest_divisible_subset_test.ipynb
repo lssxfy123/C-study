{
 "cells": [
  {
   "cell_type": "code",
   "execution_count": 1,
   "metadata": {},
   "outputs": [],
   "source": [
    "# Copyright(C) 2021 刘珅珅\n",
    "# Environment: python 3.7\n",
    "# Date: 2021.3.21\n",
    "# 最大整除子集：lintcode 603"
   ]
  },
  {
   "cell_type": "markdown",
   "metadata": {},
   "source": [
    "# 动态规划常规版：无法通过测试，时间复杂度为O(n^2)"
   ]
  },
  {
   "cell_type": "code",
   "execution_count": 15,
   "metadata": {},
   "outputs": [],
   "source": [
    "class Solution:\n",
    "    \"\"\"\n",
    "    @param nums: a set of distinct positive integers\n",
    "    @return: the largest subset \n",
    "    \"\"\"\n",
    "    def largestDivisibleSubset(self, nums):\n",
    "        # write your code here\n",
    "        if not nums:\n",
    "            return []\n",
    "        \n",
    "        ## 需要进行排序，题目求子集，并且对原始顺序没有要求\n",
    "        ## 排完序后，满足要求的子集中后面的值所以的因子都在其前面\n",
    "        nums.sort()\n",
    "        n = len(nums)\n",
    "        \n",
    "        ## 状态：dp[i]表示以第i+1个元素结尾的子集的最大长度\n",
    "        dp = [1] * n\n",
    "        \n",
    "        ## 记录dp[i]的最优值是从哪个dp[j]跳来的\n",
    "        prev = [-1] * n\n",
    "        \n",
    "        for i in range(1, n):\n",
    "            for j in range(i):\n",
    "                if nums[i] % nums[j] == 0 and dp[j] + 1 > dp[i]:\n",
    "                    dp[i] = dp[j] + 1\n",
    "                    prev[i] = j\n",
    "        \n",
    "        ## 求最大长度对应的子集\n",
    "        ## 先判断最大长度子集对应的最后一个元素\n",
    "        longest, last = 0, -1\n",
    "        for i in range(n):\n",
    "            if dp[i] > longest:\n",
    "                last = i\n",
    "                longest = dp[i]\n",
    "        \n",
    "        path = []\n",
    "        while last != -1:\n",
    "            path.append(nums[last])\n",
    "            last = prev[last]\n",
    "        return path[::-1]"
   ]
  },
  {
   "cell_type": "code",
   "execution_count": 16,
   "metadata": {},
   "outputs": [
    {
     "name": "stdout",
     "output_type": "stream",
     "text": [
      "[1, 2, 2, 3, 1, 3, 3, 4, 1, 5, 4, 5, 6, 3]\n",
      "[3, 6, 9, 18, 22, 24, 27, 36, 56, 72, 81, 243, 486, 726]\n",
      "12\n",
      "[3, 9, 27, 81, 243, 486]\n"
     ]
    }
   ],
   "source": [
    "nums = [3,6,9,27,81,22,24,56,243,486,726,18,36,72]\n",
    "solution = Solution()\n",
    "print(solution.largestDivisibleSubset(nums))"
   ]
  },
  {
   "cell_type": "code",
   "execution_count": 1,
   "metadata": {},
   "outputs": [
    {
     "data": {
      "text/plain": [
       "'cat'"
      ]
     },
     "execution_count": 1,
     "metadata": {},
     "output_type": "execute_result"
    }
   ],
   "source": [
    "\"Cat\".lower()"
   ]
  },
  {
   "cell_type": "code",
   "execution_count": null,
   "metadata": {},
   "outputs": [],
   "source": []
  }
 ],
 "metadata": {
  "kernelspec": {
   "display_name": "Python 3",
   "language": "python",
   "name": "python3"
  },
  "language_info": {
   "codemirror_mode": {
    "name": "ipython",
    "version": 3
   },
   "file_extension": ".py",
   "mimetype": "text/x-python",
   "name": "python",
   "nbconvert_exporter": "python",
   "pygments_lexer": "ipython3",
   "version": "3.7.1"
  }
 },
 "nbformat": 4,
 "nbformat_minor": 2
}
