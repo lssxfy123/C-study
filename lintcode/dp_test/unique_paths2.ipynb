{
 "cells": [
  {
   "cell_type": "code",
   "execution_count": 1,
   "metadata": {},
   "outputs": [],
   "source": [
    "# Copyright(C) 2021 刘珅珅\n",
    "# Environment: python 3.7\n",
    "# Date: 2021.3.15\n",
    "#  不同的路径 II：lintcode 115"
   ]
  },
  {
   "cell_type": "code",
   "execution_count": 4,
   "metadata": {},
   "outputs": [],
   "source": [
    "class Solution:\n",
    "    \"\"\"\n",
    "    @param obstacleGrid: A list of lists of integers\n",
    "    @return: An integer\n",
    "    \"\"\"\n",
    "    def uniquePathsWithObstacles(self, obstacleGrid):\n",
    "        # write your code here\n",
    "        if not obstacleGrid or not obstacleGrid[0]:\n",
    "            return 0\n",
    "        m, n = len(obstacleGrid), len(obstacleGrid[0])\n",
    "        ## 如果终点是障碍物，则没有路径能到达终点\n",
    "        if obstacleGrid[m - 1][n - 1] or obstacleGrid[0][0]:\n",
    "            return 0\n",
    "        \n",
    "        ## 状态dp[i][j]表示从(0, 0)走到(i,j)的路径数\n",
    "        dp = [[0] * n for _ in range(m)]\n",
    "        \n",
    "        ## 初始化，如果第0行中间有障碍物，则其后点的路径数都是0\n",
    "        for j in range(n):\n",
    "            if obstacleGrid[0][j]:\n",
    "                break\n",
    "            dp[0][j] = 1\n",
    " \n",
    "        \n",
    "        for i in range(m):\n",
    "            if obstacleGrid[i][0]:\n",
    "                break\n",
    "            dp[i][0] = 1\n",
    "        \n",
    "        \n",
    "        ## 状态转移方程\n",
    "        for i in range(1, m):\n",
    "            for j in range(1, n):\n",
    "                ## 如果(i,j)是障碍物，则路径数肯定为0\n",
    "                if obstacleGrid[i][j]:\n",
    "                    dp[i][j] = 0\n",
    "                    continue\n",
    "                dp[i][j] = dp[i - 1][j] + dp[i][j - 1]\n",
    "        return dp[m - 1][n - 1]\n"
   ]
  },
  {
   "cell_type": "code",
   "execution_count": 5,
   "metadata": {},
   "outputs": [
    {
     "name": "stdout",
     "output_type": "stream",
     "text": [
      "2\n"
     ]
    }
   ],
   "source": [
    "obstacleGrid = [[0,0,0],[0,1,0],[0,0,0]]\n",
    "solution = Solution()\n",
    "print(solution.uniquePathsWithObstacles(obstacleGrid))"
   ]
  },
  {
   "cell_type": "code",
   "execution_count": null,
   "metadata": {},
   "outputs": [],
   "source": []
  }
 ],
 "metadata": {
  "kernelspec": {
   "display_name": "Python 3",
   "language": "python",
   "name": "python3"
  },
  "language_info": {
   "codemirror_mode": {
    "name": "ipython",
    "version": 3
   },
   "file_extension": ".py",
   "mimetype": "text/x-python",
   "name": "python",
   "nbconvert_exporter": "python",
   "pygments_lexer": "ipython3",
   "version": "3.7.1"
  }
 },
 "nbformat": 4,
 "nbformat_minor": 2
}
