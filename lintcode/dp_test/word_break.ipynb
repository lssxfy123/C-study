{
 "cells": [
  {
   "cell_type": "code",
   "execution_count": 1,
   "metadata": {},
   "outputs": [],
   "source": [
    "# Copyright(C) 2021 刘珅珅\n",
    "# Environment: python 3.7\n",
    "# Date: 2021.3.18\n",
    "# 单词拆分 I：lintcode 107"
   ]
  },
  {
   "cell_type": "markdown",
   "metadata": {},
   "source": [
    "# 动态规划版"
   ]
  },
  {
   "cell_type": "code",
   "execution_count": 20,
   "metadata": {},
   "outputs": [],
   "source": [
    "class Solution:\n",
    "    \"\"\"\n",
    "    @param s: A string\n",
    "    @param wordSet: A dictionary of words dict\n",
    "    @return: A boolean\n",
    "    \"\"\"\n",
    "    def wordBreak(self, s, wordSet):\n",
    "        # write your code here\n",
    "        if not s and not wordSet:\n",
    "            return True\n",
    "        if not s or not wordSet:\n",
    "            return False\n",
    "        n = len(s)\n",
    "        ## 状态：dp[i]表示前i个字符是否可拆分\n",
    "        dp = [False] * (n + 1)\n",
    "        \n",
    "        ## 初始化\n",
    "        ## 前0个字符表示空串，由于s非空(为空的情况已在前面处理过)，所以可以看出空串和它本身拆分的\n",
    "        ## 如果不把空串设置为True，后续的状态转移方程也无法进行\n",
    "        dp[0] = True\n",
    "        max_length = self.get_max_sub_length(wordSet)\n",
    "        for i in range(1, n + 1):\n",
    "            j_upper = min(i, max_length)\n",
    "            ## j表示从前i个字符串中取出后j个\n",
    "            ## 思路就是把前i个字符的从尾部开始，依次取出来，判断是否可拆分\n",
    "            for j in range(1, j_upper + 1):\n",
    "                ## 状态转移方程：如果前i个字符串中的前i - j个不可拆分，则即使后j个在Wordset中，前i个字符也无法判断是否可拆分\n",
    "                if not dp[i - j]:\n",
    "                    continue\n",
    "\n",
    "                ## 前i - j个可拆分，后j个又在wordSet中，则前i个字符可拆分\n",
    "                if s[i - j : i] in wordSet:\n",
    "                    dp[i] = True\n",
    "                    break\n",
    "        return dp[n]\n",
    "    \n",
    "    ## 获取字符串s能够拆分的最大长度\n",
    "    def get_max_sub_length(self, wordSet):\n",
    "        max_length = 0\n",
    "        for word in wordSet:\n",
    "            max_length = max(max_length, len(word))\n",
    "        return max_length\n",
    "        \n"
   ]
  },
  {
   "cell_type": "code",
   "execution_count": 21,
   "metadata": {},
   "outputs": [
    {
     "name": "stdout",
     "output_type": "stream",
     "text": [
      "1\n",
      "s:  a\n",
      "1\n",
      "s:  a\n",
      "1\n",
      "s:  a\n",
      "1\n",
      "s:  b\n",
      "[True, True, True, True, True]\n",
      "True\n"
     ]
    }
   ],
   "source": [
    "s = \"aaab\"\n",
    "wordSet = [\"a\", \"b\"]\n",
    "solution = Solution()\n",
    "print(solution.wordBreak(s, wordSet))"
   ]
  },
  {
   "cell_type": "code",
   "execution_count": 7,
   "metadata": {},
   "outputs": [
    {
     "data": {
      "text/plain": [
       "False"
      ]
     },
     "execution_count": 7,
     "metadata": {},
     "output_type": "execute_result"
    }
   ],
   "source": [
    "\"\" is None"
   ]
  },
  {
   "cell_type": "code",
   "execution_count": null,
   "metadata": {},
   "outputs": [],
   "source": []
  }
 ],
 "metadata": {
  "kernelspec": {
   "display_name": "Python 3",
   "language": "python",
   "name": "python3"
  },
  "language_info": {
   "codemirror_mode": {
    "name": "ipython",
    "version": 3
   },
   "file_extension": ".py",
   "mimetype": "text/x-python",
   "name": "python",
   "nbconvert_exporter": "python",
   "pygments_lexer": "ipython3",
   "version": "3.7.1"
  }
 },
 "nbformat": 4,
 "nbformat_minor": 2
}
