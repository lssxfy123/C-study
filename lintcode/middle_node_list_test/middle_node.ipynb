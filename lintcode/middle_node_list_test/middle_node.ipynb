{
 "cells": [
  {
   "cell_type": "code",
   "execution_count": 1,
   "metadata": {},
   "outputs": [],
   "source": [
    "# Copyright(C) 2021 刘珅珅\n",
    "# Environment: python 3.7\n",
    "# Date: 2021.3.21\n",
    "# 链表的中点：lintcode 228"
   ]
  },
  {
   "cell_type": "code",
   "execution_count": 1,
   "metadata": {},
   "outputs": [],
   "source": [
    "class Solution:\n",
    "    \"\"\"\n",
    "    @param head: the head of linked list.\n",
    "    @return: a middle node of the linked list\n",
    "    \"\"\"\n",
    "    def middleNode(self, head):\n",
    "        # write your code here\n",
    "        if not head:\n",
    "            return None\n",
    "        \n",
    "        ## 同向双指针，快慢双指针\n",
    "        slow = fast = head\n",
    "        ## 对于一个链表而言，从头开始的两个指针，一个走1步，一个走两步\n",
    "        ## 则快指针走到尾部或尾部的前一个结点时，慢指针肯定走到链表的中点\n",
    "        ## 这里的尾部不是那个None结点\n",
    "        while fast.next and fast.next.next:\n",
    "            slow = slow.next\n",
    "            fast = fast.next.next\n",
    "        \n",
    "        return slow"
   ]
  },
  {
   "cell_type": "code",
   "execution_count": 7,
   "metadata": {},
   "outputs": [
    {
     "name": "stdout",
     "output_type": "stream",
     "text": [
      "1\n"
     ]
    }
   ],
   "source": [
    "solution = Solution()\n",
    "x = 5\n",
    "print(solution.sqrt(3))"
   ]
  },
  {
   "cell_type": "code",
   "execution_count": null,
   "metadata": {},
   "outputs": [],
   "source": []
  }
 ],
 "metadata": {
  "kernelspec": {
   "display_name": "Python 3",
   "language": "python",
   "name": "python3"
  },
  "language_info": {
   "codemirror_mode": {
    "name": "ipython",
    "version": 3
   },
   "file_extension": ".py",
   "mimetype": "text/x-python",
   "name": "python",
   "nbconvert_exporter": "python",
   "pygments_lexer": "ipython3",
   "version": "3.7.1"
  }
 },
 "nbformat": 4,
 "nbformat_minor": 2
}
