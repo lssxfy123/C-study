{
 "cells": [
  {
   "cell_type": "code",
   "execution_count": 1,
   "metadata": {},
   "outputs": [],
   "source": [
    "# Copyright(C) 2021 刘珅珅\n",
    "# Environment: python 3.7\n",
    "# Date: 2021.3.19\n",
    "# 合并k个排序链表：lintcode 104"
   ]
  },
  {
   "cell_type": "code",
   "execution_count": 1,
   "metadata": {},
   "outputs": [],
   "source": [
    "class ListNode(object):\n",
    "    def __init__(self, val, next=None):\n",
    "        self.val = val\n",
    "        self.next = next"
   ]
  },
  {
   "cell_type": "code",
   "execution_count": 7,
   "metadata": {},
   "outputs": [],
   "source": [
    "## 不使用堆，用归并合并，将k个链表分成两部分，左半部分进行合并，右半部分合并，然后进行归并，时间复杂度为O(nlogk)\n",
    "## 不要直接把第1个链表和第2个链表合并后，然后用合并结果取合并之后的链表，因为如果第1个链表和第2个链表合并后的\n",
    "## 链表结点数接近于链表结点总数n的话，由于用它参与了k次合并，时间复杂度最坏可以到达O(nk)\n",
    "class Solution:\n",
    "    \"\"\"\n",
    "    @param lists: a list of ListNode\n",
    "    @return: The head of one sorted list.\n",
    "    \"\"\"\n",
    "    def mergeKLists(self, lists):\n",
    "        # write your code here\n",
    "        if not lists:\n",
    "            return None\n",
    "        \n",
    "        return self.merge_sort_list(lists, 0, len(lists) - 1)\n",
    "    \n",
    "    def merge_sort_list(self, lists, start, end):\n",
    "        if start == end:\n",
    "            return lists[start]\n",
    "        \n",
    "        mid = (start + end) // 2\n",
    "        left = self.merge_sort_list(lists, start, mid)\n",
    "        right = self.merge_sort_list(lists, mid + 1, end)\n",
    "        return self.merge_two_lists(left, right)\n",
    "    \n",
    "    def merge_two_lists(self, head1, head2):\n",
    "        ## 链表操作，哨兵结点和尾结点\n",
    "        dummy = ListNode(0)\n",
    "        tail = dummy\n",
    "        while head1 and head2:\n",
    "            if head1.val < head2.val:\n",
    "                tail.next = head1\n",
    "                tail = head1\n",
    "                head1 = head1.next\n",
    "            else:\n",
    "                tail.next = head2\n",
    "                tail = head2\n",
    "                head2 = head2.next\n",
    "        \n",
    "        if head1:\n",
    "            tail.next = head1\n",
    "        \n",
    "        if head2:\n",
    "            tail.next = head2\n",
    "        \n",
    "        return dummy.next\n",
    "  \n",
    "\n",
    "        \n",
    "        \n",
    "                \n"
   ]
  },
  {
   "cell_type": "code",
   "execution_count": 8,
   "metadata": {},
   "outputs": [
    {
     "name": "stdout",
     "output_type": "stream",
     "text": [
      "4\n"
     ]
    }
   ],
   "source": [
    "solution = Solution()\n",
    "num = [100, 4, 200, 1, 3, 2]\n",
    "print(solution.longestConsecutive(num))"
   ]
  },
  {
   "cell_type": "code",
   "execution_count": null,
   "metadata": {},
   "outputs": [],
   "source": []
  }
 ],
 "metadata": {
  "kernelspec": {
   "display_name": "Python 3",
   "language": "python",
   "name": "python3"
  },
  "language_info": {
   "codemirror_mode": {
    "name": "ipython",
    "version": 3
   },
   "file_extension": ".py",
   "mimetype": "text/x-python",
   "name": "python",
   "nbconvert_exporter": "python",
   "pygments_lexer": "ipython3",
   "version": "3.7.1"
  }
 },
 "nbformat": 4,
 "nbformat_minor": 2
}
