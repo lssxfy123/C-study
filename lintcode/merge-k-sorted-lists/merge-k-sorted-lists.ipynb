{
 "cells": [
  {
   "cell_type": "code",
   "execution_count": 1,
   "metadata": {},
   "outputs": [],
   "source": [
    "# Copyright(C) 2021 刘珅珅\n",
    "# Environment: python 3.7\n",
    "# Date: 2021.3.19\n",
    "# 合并k个排序链表：lintcode 104"
   ]
  },
  {
   "cell_type": "code",
   "execution_count": 1,
   "metadata": {},
   "outputs": [],
   "source": [
    "class ListNode(object):\n",
    "    def __init__(self, val, next=None):\n",
    "        self.val = val\n",
    "        self.next = next"
   ]
  },
  {
   "cell_type": "code",
   "execution_count": 7,
   "metadata": {},
   "outputs": [],
   "source": [
    "import heapq\n",
    "\n",
    "## 需要重载ListNode的比较函数\n",
    "ListNode.__lt__ = lambda x, y : (x.val < y.val)\n",
    "\n",
    "## O(nlogk)\n",
    "class Solution:\n",
    "    \"\"\"\n",
    "    @param lists: a list of ListNode\n",
    "    @return: The head of one sorted list.\n",
    "    \"\"\"\n",
    "    def mergeKLists(self, lists):\n",
    "        # write your code here\n",
    "        if not lists:\n",
    "            return None\n",
    "        \n",
    "        ## 思路和合并两个有序链表类似，就是比较k个链表的第1个结点的大小，最小的就是合并后链表的头结点\n",
    "        ## 贡献最小结点的那个链表的指针后移1位，然后继续之前的判断，取k个元素的最小值，最有效的方式就是堆\n",
    "        k = len(lists)\n",
    "        if k == 1:\n",
    "            return lists[0]\n",
    "        \n",
    "        ## 哨兵结点\n",
    "        ## 链表的操作首先就要想到哨兵结点和尾部结点\n",
    "        dummy = ListNode(0)\n",
    "        tail = dummy\n",
    "        min_heap = []\n",
    "        \n",
    "        ## 先把所有的头结点都放入堆中\n",
    "        ## lists中存放的就是每个链表的头结点\n",
    "        ## O(klogk)\n",
    "        for head in lists:\n",
    "            if head:\n",
    "                heapq.heappush(min_heap, head)\n",
    "        \n",
    "        ## O(nlogk)，n为k个链表所有的结点数\n",
    "        while min_heap:\n",
    "            node = heapq.heappop(min_heap)\n",
    "            tail.next = node\n",
    "            tail = node\n",
    "            if node.next:\n",
    "                heapq.heappush(min_heap, node.next)\n",
    "        \n",
    "        return dummy.next\n",
    "        \n",
    "        \n",
    "                \n"
   ]
  },
  {
   "cell_type": "code",
   "execution_count": 8,
   "metadata": {},
   "outputs": [
    {
     "name": "stdout",
     "output_type": "stream",
     "text": [
      "4\n"
     ]
    }
   ],
   "source": [
    "solution = Solution()\n",
    "num = [100, 4, 200, 1, 3, 2]\n",
    "print(solution.longestConsecutive(num))"
   ]
  },
  {
   "cell_type": "code",
   "execution_count": null,
   "metadata": {},
   "outputs": [],
   "source": []
  }
 ],
 "metadata": {
  "kernelspec": {
   "display_name": "Python 3",
   "language": "python",
   "name": "python3"
  },
  "language_info": {
   "codemirror_mode": {
    "name": "ipython",
    "version": 3
   },
   "file_extension": ".py",
   "mimetype": "text/x-python",
   "name": "python",
   "nbconvert_exporter": "python",
   "pygments_lexer": "ipython3",
   "version": "3.7.1"
  }
 },
 "nbformat": 4,
 "nbformat_minor": 2
}
