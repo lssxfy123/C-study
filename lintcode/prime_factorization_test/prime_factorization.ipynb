{
 "cells": [
  {
   "cell_type": "code",
   "execution_count": 2,
   "metadata": {},
   "outputs": [],
   "source": [
    "# Copyright(C) 2021 刘珅珅\n",
    "# Environment: python 3.7\n",
    "# Date: 2021.3.24\n",
    "# 分解质因数：lintcode 235"
   ]
  },
  {
   "cell_type": "code",
   "execution_count": 9,
   "metadata": {},
   "outputs": [],
   "source": [
    "import math\n",
    "class Solution:\n",
    "    \"\"\"\n",
    "    @param num: An integer\n",
    "    @return: an integer array\n",
    "    \"\"\"\n",
    "    def primeFactorization(self, num):\n",
    "        # write your code here\n",
    "        ## 质因数不会超过up\n",
    "        up = int(math.sqrt(num))\n",
    "        result = []\n",
    "        k = 2\n",
    "        while k <= up and num > 1:\n",
    "            ## 求所有的质因数，相同的也都要放入结果中\n",
    "            ## 要求结果是从下到大的，所以针对满足要求k\n",
    "            ## 要一次性把所有k都插入结果中\n",
    "            while num % k == 0:\n",
    "                result.append(k)\n",
    "                num = num // k\n",
    "            k += 1\n",
    "        \n",
    "        if num > 1:\n",
    "            result.append(num)\n",
    "        return result\n",
    "            \n",
    "                \n",
    "        \n",
    "        \n"
   ]
  },
  {
   "cell_type": "code",
   "execution_count": 10,
   "metadata": {},
   "outputs": [
    {
     "name": "stdout",
     "output_type": "stream",
     "text": [
      "[2, 5]\n"
     ]
    }
   ],
   "source": [
    "solution = Solution()\n",
    "num = 10\n",
    "print(solution.primeFactorization(num))"
   ]
  },
  {
   "cell_type": "code",
   "execution_count": null,
   "metadata": {},
   "outputs": [],
   "source": []
  },
  {
   "cell_type": "code",
   "execution_count": null,
   "metadata": {},
   "outputs": [],
   "source": []
  }
 ],
 "metadata": {
  "kernelspec": {
   "display_name": "Python 3",
   "language": "python",
   "name": "python3"
  },
  "language_info": {
   "codemirror_mode": {
    "name": "ipython",
    "version": 3
   },
   "file_extension": ".py",
   "mimetype": "text/x-python",
   "name": "python",
   "nbconvert_exporter": "python",
   "pygments_lexer": "ipython3",
   "version": "3.7.1"
  }
 },
 "nbformat": 4,
 "nbformat_minor": 2
}
