{
 "cells": [
  {
   "cell_type": "code",
   "execution_count": 2,
   "metadata": {},
   "outputs": [],
   "source": [
    "# Copyright(C) 2021 刘珅珅\n",
    "# Environment: python 3.7\n",
    "# Date: 2021.4.19\n",
    "# 搜索图中节点：lintcode 618\n",
    "import collections"
   ]
  },
  {
   "cell_type": "code",
   "execution_count": 1,
   "metadata": {},
   "outputs": [],
   "source": [
    "class UndirectedGraphNode:\n",
    "    def __init__(self, x):\n",
    "        self.label = x\n",
    "        self.neighbors = []"
   ]
  },
  {
   "cell_type": "code",
   "execution_count": 8,
   "metadata": {},
   "outputs": [],
   "source": [
    "class Solution:\n",
    "    \"\"\"\n",
    "    @param: graph: a list of Undirected graph node\n",
    "    @param: values: a hash mapping, <UndirectedGraphNode, (int)value>\n",
    "    @param: node: an Undirected graph node\n",
    "    @param: target: An integer\n",
    "    @return: a node\n",
    "    \"\"\"\n",
    "    def searchNode(self, graph, values, node, target):\n",
    "        # write your code here\n",
    "        if not graph or not values:\n",
    "            return None\n",
    "        queue = collections.deque([node])\n",
    "        visited = set([node])\n",
    "        \n",
    "        while queue:\n",
    "            tmp = queue.popleft()\n",
    "            if values[tmp] == target:\n",
    "                return tmp\n",
    "            for neighbor in tmp.neighbors:\n",
    "                if neighbor in visited:\n",
    "                    continue\n",
    "                queue.append(neighbor)\n",
    "                visited.add(neighbor)\n",
    "        \n",
    "        return None\n",
    "\n",
    "                    \n",
    "        "
   ]
  },
  {
   "cell_type": "code",
   "execution_count": null,
   "metadata": {},
   "outputs": [],
   "source": []
  }
 ],
 "metadata": {
  "kernelspec": {
   "display_name": "Python 3",
   "language": "python",
   "name": "python3"
  },
  "language_info": {
   "codemirror_mode": {
    "name": "ipython",
    "version": 3
   },
   "file_extension": ".py",
   "mimetype": "text/x-python",
   "name": "python",
   "nbconvert_exporter": "python",
   "pygments_lexer": "ipython3",
   "version": "3.7.1"
  }
 },
 "nbformat": 4,
 "nbformat_minor": 2
}
