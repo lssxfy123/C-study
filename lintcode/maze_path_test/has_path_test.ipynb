{
 "cells": [
  {
   "cell_type": "code",
   "execution_count": 1,
   "metadata": {},
   "outputs": [],
   "source": [
    "# Copyright(C) 2021 刘珅珅\n",
    "# Environment: python 3.7\n",
    "# Date: 2021.4.4\n",
    "# 迷宫：lintcode 787"
   ]
  },
  {
   "cell_type": "code",
   "execution_count": 4,
   "metadata": {},
   "outputs": [],
   "source": [
    "import collections\n",
    "\n",
    "class Solution:\n",
    "    def __init__(self):\n",
    "        self.DIRECTIONS = [(1, 0), (-1, 0), (0, 1), (0, -1)]\n",
    "    \"\"\"\n",
    "    @param maze: the maze\n",
    "    @param start: the start\n",
    "    @param destination: the destination\n",
    "    @return: whether the ball could stop at the destination\n",
    "    \"\"\"\n",
    "    def hasPath(self, maze, start, destination):\n",
    "        # write your code here\n",
    "        if not maze:\n",
    "            return False\n",
    "        \n",
    "        n, m = len(maze), len(maze[0])\n",
    "        queue = collections.deque([(start[0], start[1])])\n",
    "        visited = set([(start[0], start[1])])\n",
    "        while queue:\n",
    "            x, y = queue.popleft()\n",
    "            if x == destination[0] and y == destination[1]:\n",
    "                return True\n",
    "            for dx, dy in self.DIRECTIONS:\n",
    "                new_x, new_y = x, y\n",
    "                ## 下一个可能的位置，题目中要求小球不撞墙不停止，\n",
    "                ## 所以下一个位置需要用while循环来计算\n",
    "                while self.is_valid(new_x + dx, new_y + dy, maze):\n",
    "                    new_x += dx\n",
    "                    new_y += dy\n",
    "                \n",
    "                if maze[new_x][new_y] != 0 or (new_x, new_y) in visited:\n",
    "                    continue\n",
    "                queue.append((new_x, new_y))\n",
    "                visited.add((new_x, new_y))\n",
    "        \n",
    "        return False\n",
    "    \n",
    "    def is_valid(self, x, y, maze):\n",
    "        n, m = len(maze), len(maze[0])\n",
    "        if 0 <= x < n and 0 <= y < m and maze[x][y] == 0:\n",
    "            return True\n",
    "        return False\n",
    "            \n"
   ]
  },
  {
   "cell_type": "code",
   "execution_count": 5,
   "metadata": {},
   "outputs": [
    {
     "name": "stdout",
     "output_type": "stream",
     "text": [
      "0 4\n",
      "2 4\n",
      "0 3\n",
      "1 3\n",
      "1 4\n",
      "1 0\n",
      "2 0\n",
      "0 0\n",
      "2 2\n",
      "0 1\n",
      "4 2\n",
      "1 2\n",
      "2 1\n",
      "4 4\n",
      "4 0\n",
      "False\n",
      "0 4\n",
      "2 4\n",
      "0 3\n",
      "1 3\n",
      "1 4\n",
      "1 0\n",
      "2 0\n",
      "0 0\n",
      "2 2\n",
      "0 1\n",
      "4 2\n",
      "1 2\n",
      "2 1\n",
      "4 4\n",
      "True\n"
     ]
    }
   ],
   "source": [
    "maze = [[0,0,1,0,0],\n",
    " [0,0,0,0,0],\n",
    " [0,0,0,1,0],\n",
    " [1,1,0,1,1],\n",
    " [0,0,0,0,0]\n",
    "]\n",
    "start = [0,4]\n",
    "end = [3,2]\n",
    "\n",
    "solution = Solution()\n",
    "print(solution.hasPath(maze, start, end))\n",
    "\n",
    "end = [4, 4]\n",
    "print(solution.hasPath(maze, start, end))"
   ]
  },
  {
   "cell_type": "code",
   "execution_count": null,
   "metadata": {},
   "outputs": [],
   "source": []
  }
 ],
 "metadata": {
  "kernelspec": {
   "display_name": "Python 3",
   "language": "python",
   "name": "python3"
  },
  "language_info": {
   "codemirror_mode": {
    "name": "ipython",
    "version": 3
   },
   "file_extension": ".py",
   "mimetype": "text/x-python",
   "name": "python",
   "nbconvert_exporter": "python",
   "pygments_lexer": "ipython3",
   "version": "3.7.1"
  }
 },
 "nbformat": 4,
 "nbformat_minor": 2
}
