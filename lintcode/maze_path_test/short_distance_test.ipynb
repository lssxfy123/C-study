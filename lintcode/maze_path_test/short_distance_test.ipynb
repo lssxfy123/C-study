{
 "cells": [
  {
   "cell_type": "code",
   "execution_count": 1,
   "metadata": {},
   "outputs": [],
   "source": [
    "# Copyright(C) 2021 刘珅珅\n",
    "# Environment: python 3.7\n",
    "# Date: 2021.4.4\n",
    "# 迷宫II：lintcode 788"
   ]
  },
  {
   "cell_type": "markdown",
   "metadata": {},
   "source": [
    "# 宽度优先搜索：时间复杂度为O(n*m)"
   ]
  },
  {
   "cell_type": "code",
   "execution_count": 1,
   "metadata": {},
   "outputs": [],
   "source": [
    "import collections\n",
    "\n",
    "class Solution:\n",
    "    def __init__(self):\n",
    "        self.DIRECTIONS = [(1, 0), (-1, 0), (0, 1), (0, -1)]\n",
    "        \n",
    "    \"\"\"\n",
    "    @param maze: the maze\n",
    "    @param start: the start\n",
    "    @param destination: the destination\n",
    "    @return: the shortest distance for the ball to stop at the destination\n",
    "    \"\"\"\n",
    "    def shortestDistance(self, maze, start, destination):\n",
    "        # write your code here\n",
    "        if not maze:\n",
    "            return -1\n",
    "        \n",
    "        n, m = len(maze), len(maze[0])\n",
    "        queue = collections.deque([(start[0], start[1])])\n",
    "        distance = {(start[0], start[1]) : 0}\n",
    "        \n",
    "        while queue:\n",
    "            x, y = queue.popleft()\n",
    "                \n",
    "            for dx, dy in self.DIRECTIONS:\n",
    "                new_x, new_y = x, y\n",
    "                ## 下一个可能的位置，题目中要求小球不撞墙不停止，\n",
    "                ## 所以下一个位置需要用while循环来计算\n",
    "                count = 0\n",
    "                while self.is_valid(new_x + dx, new_y + dy, maze):\n",
    "                    new_x += dx\n",
    "                    new_y += dy\n",
    "                    count += 1\n",
    "                \n",
    "                if (new_x, new_y) not in distance:\n",
    "                    queue.append((new_x, new_y))\n",
    "                    distance[(new_x, new_y)] = distance[(x, y)] + count\n",
    "                else:\n",
    "                    ## (new_x, new_y)之前已经在distance中，如果需要更新distance[(new_x, new_y)]\n",
    "                    ## 就需要把它重新插入到队列中，因为它所对应的距离更新了，它的下一步对应点的距离也需要进行更新\n",
    "                    ## 所以需要重新入队\n",
    "                    if distance[(new_x, new_y)] > (distance[(x,y)] + count):\n",
    "                        queue.append((new_x, new_y))\n",
    "                        distance[(new_x, new_y)] = distance[(x, y)] + count\n",
    "        \n",
    "        if (destination[0], destination[1]) in distance:\n",
    "            return distance[(destination[0], destination[1])]\n",
    "                \n",
    "        return -1\n",
    "                \n",
    "    def is_valid(self, x, y, maze):\n",
    "        n, m = len(maze), len(maze[0])\n",
    "        if 0 <= x < n and 0 <= y < m and maze[x][y] == 0:\n",
    "            return True\n",
    "        return False\n",
    "            \n"
   ]
  },
  {
   "cell_type": "markdown",
   "metadata": {},
   "source": [
    "# 深度优先搜索，lintcode会超时"
   ]
  },
  {
   "cell_type": "code",
   "execution_count": 3,
   "metadata": {},
   "outputs": [],
   "source": [
    "class Solution:\n",
    "    \"\"\"\n",
    "    @param maze: the maze\n",
    "    @param start: the start\n",
    "    @param destination: the destination\n",
    "    @return: the shortest distance for the ball to stop at the destination\n",
    "    \"\"\"\n",
    "    def shortestDistance(self, maze, start, destination):\n",
    "        self.m, self.n = len(maze), len(maze[0])\n",
    "        self.paths = []\n",
    "        visited = set([(start[0], start[1])])\n",
    "        \n",
    "        self.dfs(maze, start, destination, 0, visited)\n",
    "        if len(self.paths) == 0:\n",
    "            return -1\n",
    "        return min(self.paths)\n",
    "    \n",
    "    def dfs(self, maze, start, destination, step, visited):\n",
    "        if start[0] == destination[0] and start[1] == destination[1]:\n",
    "            self.paths.append(step)\n",
    "            return\n",
    "        \n",
    "        for move in [(0, 1), (0, -1), (1, 0), (-1, 0)]:\n",
    "            x, y = start[0], start[1]\n",
    "            # for each move need to reset the step\n",
    "            starting_step = step\n",
    "            while (x >= 0 and x < self.m and y >= 0 and y < self.n and maze[x][y] != 1):\n",
    "                x += move[0]\n",
    "                y += move[1]\n",
    "                starting_step += 1\n",
    "            x -= move[0]\n",
    "            y -= move[1]\n",
    "            starting_step -= 1\n",
    "            \n",
    "            if (x, y) not in visited:\n",
    "                visited.add((x, y))\n",
    "                self.dfs(maze, [x, y], destination, starting_step, visited)\n",
    "                visited.remove((x, y))"
   ]
  },
  {
   "cell_type": "code",
   "execution_count": null,
   "metadata": {},
   "outputs": [],
   "source": []
  }
 ],
 "metadata": {
  "kernelspec": {
   "display_name": "Python 3",
   "language": "python",
   "name": "python3"
  },
  "language_info": {
   "codemirror_mode": {
    "name": "ipython",
    "version": 3
   },
   "file_extension": ".py",
   "mimetype": "text/x-python",
   "name": "python",
   "nbconvert_exporter": "python",
   "pygments_lexer": "ipython3",
   "version": "3.7.1"
  }
 },
 "nbformat": 4,
 "nbformat_minor": 2
}
