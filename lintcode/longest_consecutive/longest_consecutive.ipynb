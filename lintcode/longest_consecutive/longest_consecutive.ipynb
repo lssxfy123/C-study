{
 "cells": [
  {
   "cell_type": "code",
   "execution_count": 1,
   "metadata": {},
   "outputs": [],
   "source": [
    "# Copyright(C) 2021 刘珅珅\n",
    "# Environment: python 3.7\n",
    "# Date: 2021.3.19\n",
    "# 最长连续序列：lintcode 124"
   ]
  },
  {
   "cell_type": "code",
   "execution_count": 7,
   "metadata": {},
   "outputs": [],
   "source": [
    "## 题目要求是O(n)的实际复杂度，数组又是未排序的，所以很自然就该想到哈希表\n",
    "class Solution:\n",
    "    \"\"\"\n",
    "    @param num: A list of integers\n",
    "    @return: An integer\n",
    "    \"\"\"\n",
    "    def longestConsecutive(self, num):\n",
    "        # write your code here\n",
    "        ## 把num中所有不同的元素都放入哈希表中\n",
    "        hash_set = set(num)\n",
    "        \n",
    "        longest = 0\n",
    "        ## 遍历num中的所有元素，对于任意一个元素x，判断其上下元素总共有多少个在num中，然后求出最长连续序列长度\n",
    "        ## 时间复杂度为O(n)，尽管有两重循环，但是最内层的while循环的循环体最多只会执行n次，因为hash_set的长度最多为n\n",
    "        ## 每次执行循环体时，都会把值从hash_set中删除掉，所以最多会执行n次\n",
    "        for x in num:\n",
    "            down = x - 1\n",
    "            while down in hash_set:\n",
    "                hash_set.remove(down)\n",
    "                down -= 1\n",
    "            \n",
    "            up = x + 1\n",
    "            while up in hash_set:\n",
    "                hash_set.remove(up)\n",
    "                up += 1\n",
    "                \n",
    "            longest = max(longest, up - down - 1)\n",
    "        \n",
    "        return longest\n",
    "                \n"
   ]
  },
  {
   "cell_type": "code",
   "execution_count": 8,
   "metadata": {},
   "outputs": [
    {
     "name": "stdout",
     "output_type": "stream",
     "text": [
      "4\n"
     ]
    }
   ],
   "source": [
    "solution = Solution()\n",
    "num = [100, 4, 200, 1, 3, 2]\n",
    "print(solution.longestConsecutive(num))"
   ]
  },
  {
   "cell_type": "code",
   "execution_count": null,
   "metadata": {},
   "outputs": [],
   "source": []
  }
 ],
 "metadata": {
  "kernelspec": {
   "display_name": "Python 3",
   "language": "python",
   "name": "python3"
  },
  "language_info": {
   "codemirror_mode": {
    "name": "ipython",
    "version": 3
   },
   "file_extension": ".py",
   "mimetype": "text/x-python",
   "name": "python",
   "nbconvert_exporter": "python",
   "pygments_lexer": "ipython3",
   "version": "3.7.1"
  }
 },
 "nbformat": 4,
 "nbformat_minor": 2
}
