{
 "cells": [
  {
   "cell_type": "code",
   "execution_count": 1,
   "metadata": {},
   "outputs": [],
   "source": [
    "# Copyright(C) 2021 刘珅珅\n",
    "# Environment: python 3.7\n",
    "# Date: 2021.6.18\n",
    "#  终止进程：lintcode 872\n",
    "import collections"
   ]
  },
  {
   "cell_type": "code",
   "execution_count": 7,
   "metadata": {},
   "outputs": [],
   "source": [
    "class Solution:\n",
    "    \"\"\"\n",
    "    @param pid: the process id\n",
    "    @param ppid: the parent process id\n",
    "    @param kill: a PID you want to kill\n",
    "    @return: a list of PIDs of processes that will be killed in the end\n",
    "    \"\"\"\n",
    "    def killProcess(self, pid, ppid, kill):\n",
    "        # Write your code here\n",
    "        result = []\n",
    "        queue = collections.deque([kill])\n",
    "        pid_map = {}\n",
    "        for i, parent_id in enumerate(ppid):\n",
    "            if parent_id not in pid_map:\n",
    "                pid_map[parent_id] = []\n",
    "            pid_map[parent_id].append(pid[i])\n",
    "                \n",
    "        while queue:\n",
    "            kill_id = queue.popleft()\n",
    "            result.append(kill_id)\n",
    "            if kill_id in pid_map:\n",
    "                queue += pid_map[kill_id]\n",
    "            \n",
    "        return result\n",
    "            \n"
   ]
  },
  {
   "cell_type": "code",
   "execution_count": 8,
   "metadata": {},
   "outputs": [
    {
     "name": "stdout",
     "output_type": "stream",
     "text": [
      "[5, 10]\n"
     ]
    }
   ],
   "source": [
    "pid = [1,3,10,5]\n",
    "ppid = [3,0,5,3]\n",
    "kill = 5\n",
    "\n",
    "solution = Solution()\n",
    "print(solution.killProcess(pid, ppid, kill))"
   ]
  },
  {
   "cell_type": "code",
   "execution_count": null,
   "metadata": {},
   "outputs": [],
   "source": []
  }
 ],
 "metadata": {
  "kernelspec": {
   "display_name": "Python 3",
   "language": "python",
   "name": "python3"
  },
  "language_info": {
   "codemirror_mode": {
    "name": "ipython",
    "version": 3
   },
   "file_extension": ".py",
   "mimetype": "text/x-python",
   "name": "python",
   "nbconvert_exporter": "python",
   "pygments_lexer": "ipython3",
   "version": "3.7.1"
  }
 },
 "nbformat": 4,
 "nbformat_minor": 2
}
