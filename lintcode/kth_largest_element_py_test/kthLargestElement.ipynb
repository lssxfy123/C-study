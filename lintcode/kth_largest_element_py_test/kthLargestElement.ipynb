{
 "cells": [
  {
   "cell_type": "code",
   "execution_count": 1,
   "metadata": {},
   "outputs": [],
   "source": [
    "# Copyright(C) 2021 刘珅珅\n",
    "# Environment: python 3.7\n",
    "# Date: 2021.2.14\n",
    "# 第k大元素：lintcode 5"
   ]
  },
  {
   "cell_type": "code",
   "execution_count": 28,
   "metadata": {},
   "outputs": [],
   "source": [
    "class Solution:\n",
    "    \"\"\"\n",
    "    @param n: An integer\n",
    "    @param nums: An array\n",
    "    @return: the Kth largest element\n",
    "    \"\"\"\n",
    "    def kthLargestElement(self, n, nums):\n",
    "        # write your code here\n",
    "        if not nums or n <= 0:\n",
    "            return -1\n",
    "        \n",
    "        self.quick_select(n, 0, len(nums) - 1, nums)\n",
    "        print(nums)\n",
    "        if n < len(nums):\n",
    "            return nums[n - 1]\n",
    "        return nums[-1]\n",
    "    \n",
    "    def quick_select(self, n, start, end, nums):\n",
    "        if start >= end:\n",
    "            return\n",
    "        \n",
    "        left = start\n",
    "        right = end\n",
    "        pivot = nums[(start + end) // 2]\n",
    "        while left <= right:\n",
    "            ## 降序排列\n",
    "            while left <= right and nums[left] > pivot:\n",
    "                left += 1\n",
    "            \n",
    "            while left <= right and nums[right] < pivot:\n",
    "                right -= 1\n",
    "            \n",
    "            if left <= right:\n",
    "                nums[left], nums[right] = nums[right], nums[left]\n",
    "                left += 1\n",
    "                right -= 1\n",
    "\n",
    "        ## 第n大元素，对应数组的位置为n-1\n",
    "        if n - 1 <= right:\n",
    "            self.quick_select(n, start, right, nums)\n",
    "        else:\n",
    "            self.quick_select(n, left, end, nums)\n",
    "        \n",
    "            "
   ]
  },
  {
   "cell_type": "code",
   "execution_count": 29,
   "metadata": {},
   "outputs": [
    {
     "name": "stdout",
     "output_type": "stream",
     "text": [
      "[9, 3, 8, 4, 2]\n",
      "4 3\n",
      "[9, 4, 8, 3, 2]\n",
      "3 2\n",
      "[9, 8, 4, 3, 2]\n",
      "2 1\n",
      "[9, 8, 4, 3, 2]\n",
      "4\n"
     ]
    }
   ],
   "source": [
    "solution = Solution()\n",
    "n = 3\n",
    "nums = [9,3,2,4,8]\n",
    "print(solution.kthLargestElement(n, nums))"
   ]
  },
  {
   "cell_type": "code",
   "execution_count": null,
   "metadata": {},
   "outputs": [],
   "source": []
  }
 ],
 "metadata": {
  "kernelspec": {
   "display_name": "Python 3",
   "language": "python",
   "name": "python3"
  },
  "language_info": {
   "codemirror_mode": {
    "name": "ipython",
    "version": 3
   },
   "file_extension": ".py",
   "mimetype": "text/x-python",
   "name": "python",
   "nbconvert_exporter": "python",
   "pygments_lexer": "ipython3",
   "version": "3.7.1"
  }
 },
 "nbformat": 4,
 "nbformat_minor": 2
}
