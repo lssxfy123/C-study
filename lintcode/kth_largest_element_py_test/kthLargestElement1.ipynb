{
 "cells": [
  {
   "cell_type": "code",
   "execution_count": 1,
   "metadata": {},
   "outputs": [],
   "source": [
    "# Copyright(C) 2021 刘珅珅\n",
    "# Environment: python 3.7\n",
    "# Date: 2021.4.6\n",
    "# 第K大的元素 II：lintcode 606"
   ]
  },
  {
   "cell_type": "markdown",
   "metadata": {},
   "source": [
    "# 可以直接套用lintcode 5的代码，也可以使用堆来处理"
   ]
  },
  {
   "cell_type": "code",
   "execution_count": 1,
   "metadata": {},
   "outputs": [],
   "source": [
    "import heapq\n",
    "\n",
    "class Solution:\n",
    "    \"\"\"\n",
    "    @param n: An integer\n",
    "    @param nums: An array\n",
    "    @return: the Kth largest element\n",
    "    \"\"\"\n",
    "    def kthLargestElement2(self, nums, k):\n",
    "        # write your code here\n",
    "        if not nums or k <= 0:\n",
    "            return -1\n",
    "        \n",
    "        heap = []\n",
    "        for num in nums:\n",
    "            heapq.heappush(heap, num)\n",
    "            if len(heap) > k:\n",
    "                heapq.heappop(heap)\n",
    "        return heapq.heappop(heap)\n",
    "        \n",
    "    \n",
    "  \n",
    "            \n"
   ]
  },
  {
   "cell_type": "code",
   "execution_count": 2,
   "metadata": {},
   "outputs": [
    {
     "name": "stdout",
     "output_type": "stream",
     "text": [
      "4\n"
     ]
    }
   ],
   "source": [
    "solution = Solution()\n",
    "n = 3\n",
    "nums = [9,3,2,4,8]\n",
    "print(solution.kthLargestElement2(nums, n))"
   ]
  },
  {
   "cell_type": "code",
   "execution_count": null,
   "metadata": {},
   "outputs": [],
   "source": []
  }
 ],
 "metadata": {
  "kernelspec": {
   "display_name": "Python 3",
   "language": "python",
   "name": "python3"
  },
  "language_info": {
   "codemirror_mode": {
    "name": "ipython",
    "version": 3
   },
   "file_extension": ".py",
   "mimetype": "text/x-python",
   "name": "python",
   "nbconvert_exporter": "python",
   "pygments_lexer": "ipython3",
   "version": "3.7.1"
  }
 },
 "nbformat": 4,
 "nbformat_minor": 2
}
