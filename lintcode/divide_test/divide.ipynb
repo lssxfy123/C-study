{
 "cells": [
  {
   "cell_type": "code",
   "execution_count": 1,
   "metadata": {},
   "outputs": [],
   "source": [
    "# Copyright(C) 2021 刘珅珅\n",
    "# Environment: python 3.7\n",
    "# Date: 2021.4.27\n",
    "# 两个整数相除：lintcode 414"
   ]
  },
  {
   "cell_type": "markdown",
   "metadata": {},
   "source": [
    "### 解题的思路：由于题目要求不能使用乘法，除法和mod，所以考虑使用减法，用dividend不断减掉divisor，直到dividend小于divisor或为0终止，减掉divisor的次数就是要求的结果\n",
    "### 这里要注意dividend和divisor符号不相同的情况\n",
    "### 时间复杂度为O(log(dividend/divisor))"
   ]
  },
  {
   "cell_type": "code",
   "execution_count": 5,
   "metadata": {},
   "outputs": [],
   "source": [
    "class Solution:\n",
    "    \"\"\"\n",
    "    @param dividend: the dividend\n",
    "    @param divisor: the divisor\n",
    "    @return: the result\n",
    "    \"\"\"\n",
    "    def divide(self, dividend, divisor):\n",
    "        # write your code here\n",
    "        if divisor == 0:\n",
    "            return None\n",
    "        is_negative = False\n",
    "        if (dividend > 0 and divisor < 0) or (dividend < 0 and divisor > 0):\n",
    "            is_negative = True\n",
    "        dividend = abs(dividend)\n",
    "        divisor = abs(divisor)\n",
    "        answer = 0\n",
    "        while dividend >= divisor:\n",
    "            tmp = divisor\n",
    "            count = 1\n",
    "            while dividend >= tmp:\n",
    "                dividend -= tmp\n",
    "                answer += count\n",
    "                ## 采用倍增法，如果一直都减去divisor，速度会较慢\n",
    "                ## 左移1位，tmp和count都相当于乘以2\n",
    "                tmp = tmp << 1\n",
    "                count = count << 1\n",
    "        if is_negative:\n",
    "            answer = -answer\n",
    "        \n",
    "        if answer > 2147483647:\n",
    "            answer = 2147483647\n",
    "        return answer\n",
    "        \n"
   ]
  },
  {
   "cell_type": "code",
   "execution_count": 4,
   "metadata": {},
   "outputs": [
    {
     "name": "stdout",
     "output_type": "stream",
     "text": [
      "0\n"
     ]
    }
   ],
   "source": [
    "solution = Solution()\n",
    "dividend = 0\n",
    "divisor = 1\n",
    "print(solution.divide(dividend, divisor))"
   ]
  },
  {
   "cell_type": "code",
   "execution_count": null,
   "metadata": {},
   "outputs": [],
   "source": []
  }
 ],
 "metadata": {
  "kernelspec": {
   "display_name": "Python 3",
   "language": "python",
   "name": "python3"
  },
  "language_info": {
   "codemirror_mode": {
    "name": "ipython",
    "version": 3
   },
   "file_extension": ".py",
   "mimetype": "text/x-python",
   "name": "python",
   "nbconvert_exporter": "python",
   "pygments_lexer": "ipython3",
   "version": "3.7.1"
  }
 },
 "nbformat": 4,
 "nbformat_minor": 2
}
