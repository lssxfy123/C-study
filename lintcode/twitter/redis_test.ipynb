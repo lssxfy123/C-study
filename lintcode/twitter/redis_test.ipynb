{
 "cells": [
  {
   "cell_type": "code",
   "execution_count": 1,
   "metadata": {},
   "outputs": [],
   "source": [
    "# Copyright(C) 2021 刘珅珅\n",
    "# Environment: python 3.7\n",
    "# Date: 2021.10.11\n",
    "# redis分布式锁"
   ]
  },
  {
   "cell_type": "code",
   "execution_count": 16,
   "metadata": {},
   "outputs": [],
   "source": [
    "import time\n",
    "import uuid\n",
    "from threading import Thread\n",
    "\n",
    "import redis"
   ]
  },
  {
   "cell_type": "code",
   "execution_count": 41,
   "metadata": {},
   "outputs": [],
   "source": [
    "\n",
    "def acquire_lock(conn, lock_name, acquire_timeout=3, lock_timeout=2):\n",
    "    \"\"\"\n",
    "    基于 Redis 实现的分布式锁\n",
    "    \n",
    "    :param conn: Redis 连接\n",
    "    :param lock_name: 锁的名称\n",
    "    :param acquire_timeout: 获取锁的超时时间，默认 3 秒\n",
    "    :param lock_timeout: 锁的超时时间，默认 2 秒\n",
    "    \"\"\"\n",
    "    # 这个采用uuid生成的标识符，主要是在release_lock时，不要删除掉不是由自己创建的锁\n",
    "    identifier = str(uuid.uuid4())\n",
    "    end = time.time() + acquire_timeout\n",
    "    lock_name = \"string:lock:{}\".format(lock_name)\n",
    "    while time.time() < end:\n",
    "        \"\"\"\n",
    "        获取锁如果没有超时，其它客户端释放锁时，会删除掉名称为lock_name的key，客户端就能重新设置\n",
    "        一个名称为lock_name的key\n",
    "        \"\"\"\n",
    "        if conn.set(lock_name, identifier, ex=lock_timeout, nx=True):\n",
    "            return identifier\n",
    "        time.sleep(0.001)\n",
    "    return \"\"\n",
    "\n"
   ]
  },
  {
   "cell_type": "code",
   "execution_count": 42,
   "metadata": {},
   "outputs": [],
   "source": [
    "def release_lock(conn, lock_name, identifier):\n",
    "    \"\"\"\n",
    "    释放锁\n",
    "    \n",
    "    :param conn: Redis 连接\n",
    "    :param lockname: 锁的名称\n",
    "    :param identifier: 锁的标识\n",
    "    :return:\n",
    "    \"\"\"\n",
    "    unlock_script = \"\"\"\n",
    "    if redis.call(\"get\",KEYS[1]) == ARGV[1] then\n",
    "        return redis.call(\"del\",KEYS[1])\n",
    "    else\n",
    "        return 0\n",
    "    end\n",
    "    \"\"\"\n",
    "    lock_name = \"string:lock:{}\".format(lock_name)\n",
    "    # 调用redis内嵌的lua脚本，保证get和delete的原子操作\n",
    "    unlock = conn.register_script(unlock_script)\n",
    "    result = unlock(keys=[lock_name], args=[identifier])\n",
    "    if result:\n",
    "        return True\n",
    "    else:\n",
    "        return False"
   ]
  },
  {
   "cell_type": "code",
   "execution_count": 43,
   "metadata": {},
   "outputs": [],
   "source": [
    "conn = redis.Redis(host='localhost', port=6379, db=0)"
   ]
  },
  {
   "cell_type": "code",
   "execution_count": 49,
   "metadata": {},
   "outputs": [],
   "source": [
    "count = 10\n",
    "\n",
    "def run(i):\n",
    "    identifier = acquire_lock(conn, 'resource')\n",
    "    if len(identifier) == 0:\n",
    "        return\n",
    "    \n",
    "    print(\"线程:{}--获得了锁\\n\".format(i))\n",
    "    time.sleep(0.01)\n",
    "    global count\n",
    "    if count < 1:\n",
    "        print(\"线程:{}--没抢到，票抢完了\\n\".format(i))\n",
    "        return\n",
    "    count -= 1\n",
    "    print(\"线程:{}--抢到一张票，还剩{}张票\\n\".format(i, count))\n",
    "    release_lock(conn, 'resource', identifier)\n",
    "            "
   ]
  },
  {
   "cell_type": "code",
   "execution_count": 50,
   "metadata": {},
   "outputs": [
    {
     "name": "stdout",
     "output_type": "stream",
     "text": [
      "线程:0--获得了锁\n",
      "\n",
      "线程:0--抢到一张票，还剩9张票\n",
      "\n",
      "线程:6--获得了锁\n",
      "\n",
      "线程:6--抢到一张票，还剩8张票\n",
      "\n",
      "线程:7--获得了锁\n",
      "\n",
      "线程:7--抢到一张票，还剩7张票\n",
      "\n",
      "线程:17--获得了锁\n",
      "\n",
      "线程:17--抢到一张票，还剩6张票\n",
      "\n",
      "线程:3--获得了锁\n",
      "\n",
      "线程:3--抢到一张票，还剩5张票\n",
      "\n",
      "线程:16--获得了锁\n",
      "\n",
      "线程:16--抢到一张票，还剩4张票\n",
      "\n",
      "线程:11--获得了锁\n",
      "\n",
      "线程:11--抢到一张票，还剩3张票\n",
      "\n",
      "线程:21--获得了锁\n",
      "\n",
      "线程:21--抢到一张票，还剩2张票\n",
      "\n",
      "线程:43--获得了锁\n",
      "\n",
      "线程:43--抢到一张票，还剩1张票\n",
      "\n",
      "线程:48--获得了锁\n",
      "\n",
      "线程:48--抢到一张票，还剩0张票\n",
      "\n",
      "线程:32--获得了锁\n",
      "\n",
      "线程:32--没抢到，票抢完了\n",
      "\n",
      "线程:34--获得了锁\n",
      "\n",
      "线程:34--没抢到，票抢完了\n",
      "\n"
     ]
    }
   ],
   "source": [
    "for i in range(50):\n",
    "    t = Thread(target=run,args=(i,))\n",
    "    t.start()"
   ]
  },
  {
   "cell_type": "code",
   "execution_count": null,
   "metadata": {},
   "outputs": [],
   "source": []
  }
 ],
 "metadata": {
  "kernelspec": {
   "display_name": "Python 3",
   "language": "python",
   "name": "python3"
  },
  "language_info": {
   "codemirror_mode": {
    "name": "ipython",
    "version": 3
   },
   "file_extension": ".py",
   "mimetype": "text/x-python",
   "name": "python",
   "nbconvert_exporter": "python",
   "pygments_lexer": "ipython3",
   "version": "3.7.1"
  }
 },
 "nbformat": 4,
 "nbformat_minor": 2
}
