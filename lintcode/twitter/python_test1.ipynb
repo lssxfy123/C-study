{
 "cells": [
  {
   "cell_type": "code",
   "execution_count": 1,
   "metadata": {},
   "outputs": [],
   "source": [
    "# Copyright(C) 2021 刘珅珅\n",
    "# Environment: python 3.7\n",
    "# Date: 2021.7.28\n",
    "# python中类的继承"
   ]
  },
  {
   "cell_type": "code",
   "execution_count": 6,
   "metadata": {},
   "outputs": [],
   "source": [
    "class Animal:\n",
    "    species = 'animal'\n",
    "\n",
    "    # write a class method show_species to print the species of the class\n",
    "    # like this \"It's dog\". so that every subclass could call the same method\n",
    "    # to print their own species\n",
    "    # -- write your code here --\n",
    "    @classmethod\n",
    "    def show_species(cls):\n",
    "        print(cls.species)\n",
    "\n",
    "\n",
    "\n",
    "# Make Class Dog inherit from Class Animal\n",
    "# -- write your code here --\n",
    "class Dog(Animal):\n",
    "    species = 'dog'\n",
    "\n",
    "    def __init__(self, breed):\n",
    "        self.__breed = breed\n",
    "        self.__color = 'undefined'\n",
    "\n",
    "    def barking(self):\n",
    "        print(\"{0} {1} is barking!\".format(self.__color, self.__breed))\n",
    "    \n",
    "    @property\n",
    "    def color(self):\n",
    "        return self.__color\n",
    "    \n",
    "    @color.setter\n",
    "    def color(self, value):\n",
    "        self.__color = value"
   ]
  },
  {
   "cell_type": "code",
   "execution_count": 8,
   "metadata": {},
   "outputs": [
    {
     "name": "stdout",
     "output_type": "stream",
     "text": [
      "undefined Pug is barking!\n",
      "Brown Pug is barking!\n"
     ]
    }
   ],
   "source": [
    "dog = Dog(\"Pug\")\n",
    "dog.barking()\n",
    "dog.color = \"Brown\"\n",
    "dog.barking()"
   ]
  },
  {
   "cell_type": "code",
   "execution_count": null,
   "metadata": {},
   "outputs": [],
   "source": []
  }
 ],
 "metadata": {
  "kernelspec": {
   "display_name": "Python 3",
   "language": "python",
   "name": "python3"
  },
  "language_info": {
   "codemirror_mode": {
    "name": "ipython",
    "version": 3
   },
   "file_extension": ".py",
   "mimetype": "text/x-python",
   "name": "python",
   "nbconvert_exporter": "python",
   "pygments_lexer": "ipython3",
   "version": "3.7.1"
  }
 },
 "nbformat": 4,
 "nbformat_minor": 2
}
