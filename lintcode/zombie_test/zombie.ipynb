{
 "cells": [
  {
   "cell_type": "code",
   "execution_count": 1,
   "metadata": {},
   "outputs": [],
   "source": [
    "# Copyright(C) 2021 刘珅珅\n",
    "# Environment: python 3.7\n",
    "# Date: 2021.4.19\n",
    "# 僵尸矩阵：lintcode 598\n",
    "import collections"
   ]
  },
  {
   "cell_type": "markdown",
   "metadata": {},
   "source": [
    "# 时间复杂度O(nm)"
   ]
  },
  {
   "cell_type": "code",
   "execution_count": 8,
   "metadata": {},
   "outputs": [],
   "source": [
    "class Solution:\n",
    "    \"\"\"\n",
    "    @param grid: a 2D integer grid\n",
    "    @return: an integer\n",
    "    \"\"\"\n",
    "    def zombie(self, grid):\n",
    "        # write your code here\n",
    "        if not grid or not grid[0]:\n",
    "            return -1\n",
    "        days = 0\n",
    "        directions = [(0, 1), (0, -1), (1, 0), (-1, 0)]\n",
    "        queue = collections.deque()\n",
    "        n, m = len(grid), len(grid[0])\n",
    "        \n",
    "        ## 多源点bfs，查找所有的僵尸\n",
    "        [[queue.append((i, j)) for j in range(m) if grid[i][j] == 1] for i in range(n)]\n",
    "        \n",
    "        while queue:\n",
    "            days += 1\n",
    "            length = len(queue)\n",
    "            for k in range(length):\n",
    "                x, y = queue.popleft()\n",
    "                for dx, dy in directions:\n",
    "                    new_x, new_y = x + dx, y + dy\n",
    "                    if not self.is_valid(new_x, new_y, grid):\n",
    "                        continue\n",
    "                    grid[new_x][new_y] = 1\n",
    "                    queue.append((new_x, new_y))\n",
    "        \n",
    "        ## 是否全是僵尸\n",
    "        for i in range(n):\n",
    "            for j in range(m):\n",
    "                if grid[i][j] == 0:\n",
    "                    return -1\n",
    "                    \n",
    "        \n",
    "        return days - 1\n",
    "    \n",
    "    def is_valid(self, x, y, grid):\n",
    "        n, m = len(grid), len(grid[0])\n",
    "        if 0 <= x < n and 0 <= y < m and grid[x][y] == 0:\n",
    "            return True\n",
    "        return False\n",
    "        \n"
   ]
  },
  {
   "cell_type": "code",
   "execution_count": 9,
   "metadata": {},
   "outputs": [
    {
     "name": "stdout",
     "output_type": "stream",
     "text": [
      "2\n"
     ]
    }
   ],
   "source": [
    "grid = [[0,1,2,0,0],[1,0,0,2,1],[0,1,0,0,0]]\n",
    "solution = Solution()\n",
    "print(solution.zombie(grid))"
   ]
  },
  {
   "cell_type": "code",
   "execution_count": null,
   "metadata": {},
   "outputs": [],
   "source": []
  }
 ],
 "metadata": {
  "kernelspec": {
   "display_name": "Python 3",
   "language": "python",
   "name": "python3"
  },
  "language_info": {
   "codemirror_mode": {
    "name": "ipython",
    "version": 3
   },
   "file_extension": ".py",
   "mimetype": "text/x-python",
   "name": "python",
   "nbconvert_exporter": "python",
   "pygments_lexer": "ipython3",
   "version": "3.7.1"
  }
 },
 "nbformat": 4,
 "nbformat_minor": 2
}
