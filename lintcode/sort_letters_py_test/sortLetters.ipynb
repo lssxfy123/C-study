{
 "cells": [
  {
   "cell_type": "code",
   "execution_count": 2,
   "metadata": {},
   "outputs": [],
   "source": [
    "# Copyright(C) 2021 刘珅珅\n",
    "# Environment: python 3.7\n",
    "# Date: 2021.2.18\n",
    "# 字符大小写排序：lintcode 49"
   ]
  },
  {
   "cell_type": "code",
   "execution_count": 14,
   "metadata": {},
   "outputs": [],
   "source": [
    "class Solution:\n",
    "    \"\"\"\n",
    "    @param: chars: The letter array you should sort by Case\n",
    "    @return: nothing\n",
    "    \"\"\"\n",
    "    def sortLetters(self, chars):  ## chars为列表\n",
    "        # write your code here\n",
    "        if not chars or len(chars) < 2:\n",
    "            return chars\n",
    "        \n",
    "        left = 0\n",
    "        right = len(chars) - 1\n",
    "        \n",
    "        ## 不需要返回分割的位置，所以用left < right\n",
    "        while left < right:\n",
    "            while left < right and chars[left].islower():\n",
    "                left += 1\n",
    "            while left < right and chars[right].isupper():\n",
    "                right -= 1\n",
    "            \n",
    "            if (left < right):\n",
    "                chars[left], chars[right] = chars[right], chars[left]\n",
    "                left += 1\n",
    "                right -= 1\n",
    "  "
   ]
  },
  {
   "cell_type": "code",
   "execution_count": 15,
   "metadata": {},
   "outputs": [
    {
     "name": "stdout",
     "output_type": "stream",
     "text": [
      "['a', 'd', 'C', 'A']\n"
     ]
    }
   ],
   "source": [
    "solution = Solution()\n",
    "chars = ['a', 'A', 'C', 'd']\n",
    "solution.sortLetters(chars)\n",
    "print(chars)"
   ]
  },
  {
   "cell_type": "code",
   "execution_count": 8,
   "metadata": {},
   "outputs": [
    {
     "name": "stdout",
     "output_type": "stream",
     "text": [
      "['a', 'b']\n"
     ]
    }
   ],
   "source": [
    "a = ['a', 'b']\n",
    "print(str(a))"
   ]
  },
  {
   "cell_type": "code",
   "execution_count": null,
   "metadata": {},
   "outputs": [],
   "source": []
  }
 ],
 "metadata": {
  "kernelspec": {
   "display_name": "Python 3",
   "language": "python",
   "name": "python3"
  },
  "language_info": {
   "codemirror_mode": {
    "name": "ipython",
    "version": 3
   },
   "file_extension": ".py",
   "mimetype": "text/x-python",
   "name": "python",
   "nbconvert_exporter": "python",
   "pygments_lexer": "ipython3",
   "version": "3.7.1"
  }
 },
 "nbformat": 4,
 "nbformat_minor": 2
}
