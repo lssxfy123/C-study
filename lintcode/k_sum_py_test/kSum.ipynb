{
 "cells": [
  {
   "cell_type": "code",
   "execution_count": 1,
   "metadata": {},
   "outputs": [],
   "source": [
    "# Copyright(C) 2021 刘珅珅\n",
    "# Environment: python 3.7\n",
    "# Date: 2021.2.17\n",
    "# k数之和：lintcode 89"
   ]
  },
  {
   "cell_type": "code",
   "execution_count": 16,
   "metadata": {},
   "outputs": [],
   "source": [
    "class Solution:\n",
    "    \"\"\"\n",
    "    @param A: An integer array\n",
    "    @param k: A positive integer (k <= length(A))\n",
    "    @param target: An integer\n",
    "    @return: An integer\n",
    "    \"\"\"\n",
    "    def kSum(self, A, k, target):\n",
    "        # write your code here\n",
    "        ## A中全为正整数\n",
    "        if not A or len(A) < k or target <= 0 or k <= 0:\n",
    "            return 0\n",
    "\n",
    "        "
   ]
  },
  {
   "cell_type": "code",
   "execution_count": 17,
   "metadata": {},
   "outputs": [
    {
     "name": "stdout",
     "output_type": "stream",
     "text": [
      "[-11, -7, -5, -4, -4, -3, -3, -2, -2, -1, -1, 1, 2, 3, 4, 5, 5, 7]\n",
      "[[-11, 1, 5, 7], [-11, 2, 4, 7], [-11, 3, 5, 5], [-7, -3, 5, 7], [-7, -2, 4, 7], [-7, -1, 3, 7], [-7, -1, 5, 5], [-7, 1, 3, 5], [-7, 2, 3, 4], [-5, -4, 4, 7], [-5, -3, 3, 7], [-5, -3, 5, 5], [-5, -2, 2, 7], [-5, -2, 4, 5], [-5, -1, 1, 7], [-5, -1, 3, 5], [-5, 1, 2, 4], [-4, -4, 3, 7], [-4, -4, 5, 5], [-4, -3, 2, 7], [-4, -3, 4, 5], [-4, -2, 1, 7], [-4, -2, 3, 5], [-4, -1, 2, 5], [-4, -1, 3, 4], [-4, 1, 2, 3], [-3, -3, 1, 7], [-3, -3, 3, 5], [-3, -2, 2, 5], [-3, -2, 3, 4], [-3, -1, -1, 7], [-3, -1, 1, 5], [-3, -1, 2, 4], [-2, -2, -1, 7], [-2, -2, 1, 5], [-2, -2, 2, 4], [-2, -1, 1, 4], [-2, -1, 2, 3], [-1, -1, 1, 3]]\n"
     ]
    }
   ],
   "source": [
    "solution = Solution()\n",
    "print(solution.fourSum([-2,-3,5,-1,-4,5,-11,7,1,2,3,4,-7,-1,-2,-3,-4,-5], 2))"
   ]
  },
  {
   "cell_type": "code",
   "execution_count": null,
   "metadata": {},
   "outputs": [],
   "source": []
  }
 ],
 "metadata": {
  "kernelspec": {
   "display_name": "Python 3",
   "language": "python",
   "name": "python3"
  },
  "language_info": {
   "codemirror_mode": {
    "name": "ipython",
    "version": 3
   },
   "file_extension": ".py",
   "mimetype": "text/x-python",
   "name": "python",
   "nbconvert_exporter": "python",
   "pygments_lexer": "ipython3",
   "version": "3.7.1"
  }
 },
 "nbformat": 4,
 "nbformat_minor": 2
}
