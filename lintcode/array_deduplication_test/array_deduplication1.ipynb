{
 "cells": [
  {
   "cell_type": "code",
   "execution_count": 1,
   "metadata": {},
   "outputs": [],
   "source": [
    "# Copyright(C) 2021 刘珅珅\n",
    "# Environment: python 3.7\n",
    "# Date: 2021.3.21\n",
    "# 去除重复元素：lintcode 521"
   ]
  },
  {
   "cell_type": "markdown",
   "metadata": {},
   "source": [
    "### O(n)的时间复杂度需要使用哈希表，需要空间复杂度为O(n)"
   ]
  },
  {
   "cell_type": "code",
   "execution_count": 3,
   "metadata": {},
   "outputs": [],
   "source": [
    "## O(n)的时间复杂度，O(n)的空间复杂度\n",
    "class Solution:\n",
    "    \"\"\"\n",
    "    @param nums: an array of integers\n",
    "    @return: the number of unique integers\n",
    "    \"\"\"\n",
    "    def deduplication(self, nums):\n",
    "        # write your code here\n",
    "        if not nums:\n",
    "            return 0\n",
    "        hash = {}\n",
    "        result = 0\n",
    "        for num in nums:\n",
    "            if num not in hash:\n",
    "                hash[num] = True\n",
    "                ## 题目不仅要求计算不同元素的个数，还要求把不同的元素放到nums的前面\n",
    "                nums[result] = num\n",
    "                result += 1\n",
    "        \n",
    "        return result"
   ]
  },
  {
   "cell_type": "code",
   "execution_count": 4,
   "metadata": {},
   "outputs": [
    {
     "name": "stdout",
     "output_type": "stream",
     "text": [
      "4\n"
     ]
    }
   ],
   "source": [
    "nums = [1,3,1,4,4,2]\n",
    "solution = Solution()\n",
    "print(solution.deduplication(nums))"
   ]
  },
  {
   "cell_type": "code",
   "execution_count": null,
   "metadata": {},
   "outputs": [],
   "source": []
  }
 ],
 "metadata": {
  "kernelspec": {
   "display_name": "Python 3",
   "language": "python",
   "name": "python3"
  },
  "language_info": {
   "codemirror_mode": {
    "name": "ipython",
    "version": 3
   },
   "file_extension": ".py",
   "mimetype": "text/x-python",
   "name": "python",
   "nbconvert_exporter": "python",
   "pygments_lexer": "ipython3",
   "version": "3.7.1"
  }
 },
 "nbformat": 4,
 "nbformat_minor": 2
}
