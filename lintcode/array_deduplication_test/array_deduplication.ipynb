{
 "cells": [
  {
   "cell_type": "code",
   "execution_count": 1,
   "metadata": {},
   "outputs": [],
   "source": [
    "# Copyright(C) 2021 刘珅珅\n",
    "# Environment: python 3.7\n",
    "# Date: 2021.3.21\n",
    "# 去除重复元素：lintcode 521"
   ]
  },
  {
   "cell_type": "markdown",
   "metadata": {},
   "source": [
    "### 如果允许使用额外空间，直接用哈希表set()\n",
    "### O(nlogn)的时间复杂度就是直接排序，然后同向双指针"
   ]
  },
  {
   "cell_type": "code",
   "execution_count": 3,
   "metadata": {},
   "outputs": [],
   "source": [
    "class Solution:\n",
    "    \"\"\"\n",
    "    @param nums: an array of integers\n",
    "    @return: the number of unique integers\n",
    "    \"\"\"\n",
    "    def deduplication(self, nums):\n",
    "        # write your code here\n",
    "        if not nums:\n",
    "            return 0\n",
    "        nums.sort()\n",
    "        \n",
    "        j = 1\n",
    "        for i in range(len(nums)):\n",
    "            ## 判断i后面第一个不等于nums[i]的位置\n",
    "            while j < len(nums) and nums[j] == nums[i]:\n",
    "                j += 1\n",
    "                \n",
    "            if j >= len(nums):\n",
    "                break\n",
    "            \n",
    "            ## 此时，nums[j]的值与nums[i]不同，所以放在其后面1个位置上\n",
    "            ## 题目不仅要求计算不同元素的个数，还要求把不同的元素放到nums的前面\n",
    "            nums[i + 1] = nums[j]\n",
    "        \n",
    "        return i + 1\n",
    "\n",
    "\n",
    "        \n",
    "        "
   ]
  },
  {
   "cell_type": "code",
   "execution_count": 4,
   "metadata": {},
   "outputs": [
    {
     "name": "stdout",
     "output_type": "stream",
     "text": [
      "4\n"
     ]
    }
   ],
   "source": [
    "nums = [1,3,1,4,4,2]\n",
    "solution = Solution()\n",
    "print(solution.deduplication(nums))"
   ]
  },
  {
   "cell_type": "code",
   "execution_count": null,
   "metadata": {},
   "outputs": [],
   "source": []
  }
 ],
 "metadata": {
  "kernelspec": {
   "display_name": "Python 3",
   "language": "python",
   "name": "python3"
  },
  "language_info": {
   "codemirror_mode": {
    "name": "ipython",
    "version": 3
   },
   "file_extension": ".py",
   "mimetype": "text/x-python",
   "name": "python",
   "nbconvert_exporter": "python",
   "pygments_lexer": "ipython3",
   "version": "3.7.1"
  }
 },
 "nbformat": 4,
 "nbformat_minor": 2
}
