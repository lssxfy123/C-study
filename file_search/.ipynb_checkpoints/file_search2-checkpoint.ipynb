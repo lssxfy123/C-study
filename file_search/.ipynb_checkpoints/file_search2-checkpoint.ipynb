{
 "cells": [
  {
   "cell_type": "code",
   "execution_count": 1,
   "metadata": {},
   "outputs": [],
   "source": [
    "import os\n",
    "import sys\n",
    "import re\n",
    "import datetime"
   ]
  },
  {
   "cell_type": "code",
   "execution_count": 4,
   "metadata": {},
   "outputs": [
    {
     "name": "stdout",
     "output_type": "stream",
     "text": [
      "C:\\Users\\Zhao.LJ\\AppData\\Roaming\\Founder\\WordClient\\SchemaTemplate\\20191228\\log.txt\n",
      "\n",
      "\n",
      "C:\\Users\\Zhao.LJ\\AppData\\Roaming\\Founder\\WordClient\\SchemaTemplate\\20191228\\江苏通典-浙教八下答案_3004_b07db310-d8bf-45c0-b971-09a9c4b81e5e.log\n",
      "\n",
      "\n"
     ]
    }
   ],
   "source": [
    "find_str_in_file(r'C:\\Qt\\4.8.6')"
   ]
  },
  {
   "cell_type": "code",
   "execution_count": 3,
   "metadata": {},
   "outputs": [],
   "source": [
    "def find_str_in_file(parent_path, target):\n",
    "    fs = os.listdir(parent_path)\n",
    "    fs = [file_path for file_path in fs if re.match(\"^[a-zA-Z]\", file_path) != None]\n",
    "    for fp in fs:\n",
    "        tmp_path = os.path.join(parent_path, fp)\n",
    "        if os.path.isdir(tmp_path):\n",
    "            traverse(tmp_path, target)"
   ]
  },
  {
   "cell_type": "code",
   "execution_count": 2,
   "metadata": {},
   "outputs": [],
   "source": [
    "regex_datetime = re.compile('\\d{4}/\\d{2}/\\d{2}[\\s]*\\d{2}:\\d{2}:\\d{2}')\n",
    "regex_consuming = re.compile('耗时(\\d+)秒')\n",
    "\n",
    "def traverse(folder_path, target):\n",
    "    fs = os.listdir(folder_path)\n",
    "    for fp in fs:\n",
    "        tmp_path = os.path.join(folder_path, fp)\n",
    "        flag = False\n",
    "        if not(os.path.isdir(tmp_path)) and re.match(r'(.*)\\.[hc](pp)?$', tmp_path):\n",
    "            with open(tmp_path, 'r', encoding='utf-8') as fb:\n",
    "                lines = fb.readlines()\n",
    "        elif os.path.isdir(tmp_path):\n",
    "            traverse(tmp_path)\n",
    "                    "
   ]
  },
  {
   "cell_type": "code",
   "execution_count": null,
   "metadata": {},
   "outputs": [],
   "source": []
  }
 ],
 "metadata": {
  "kernelspec": {
   "display_name": "Python 3",
   "language": "python",
   "name": "python3"
  },
  "language_info": {
   "codemirror_mode": {
    "name": "ipython",
    "version": 3
   },
   "file_extension": ".py",
   "mimetype": "text/x-python",
   "name": "python",
   "nbconvert_exporter": "python",
   "pygments_lexer": "ipython3",
   "version": "3.7.1"
  }
 },
 "nbformat": 4,
 "nbformat_minor": 2
}
