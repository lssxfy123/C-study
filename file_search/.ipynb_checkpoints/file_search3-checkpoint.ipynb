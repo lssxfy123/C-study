{
 "cells": [
  {
   "cell_type": "code",
   "execution_count": 1,
   "metadata": {},
   "outputs": [],
   "source": [
    "import os\n",
    "import sys\n",
    "import re\n",
    "import datetime"
   ]
  },
  {
   "cell_type": "code",
   "execution_count": 4,
   "metadata": {},
   "outputs": [
    {
     "name": "stdout",
     "output_type": "stream",
     "text": [
      "C:\\Users\\Zhao.LJ\\AppData\\Roaming\\Founder\\WordClient\\SchemaTemplate\\20191228\\log.txt\n",
      "\n",
      "\n",
      "C:\\Users\\Zhao.LJ\\AppData\\Roaming\\Founder\\WordClient\\SchemaTemplate\\20191228\\江苏通典-浙教八下答案_3004_b07db310-d8bf-45c0-b971-09a9c4b81e5e.log\n",
      "\n",
      "\n"
     ]
    }
   ],
   "source": [
    "find_str_in_file(r'C:\\Users\\Zhao.LJ\\AppData\\Roaming\\Founder\\WordClient\\SchemaTemplate')"
   ]
  },
  {
   "cell_type": "code",
   "execution_count": 3,
   "metadata": {},
   "outputs": [],
   "source": [
    "def find_str_in_file(parent_path):\n",
    "    fs = os.listdir(parent_path)\n",
    "    for fp in fs:\n",
    "        tmp_path = os.path.join(parent_path, fp)\n",
    "        if os.path.isdir(tmp_path):\n",
    "            traverse(tmp_path)"
   ]
  },
  {
   "cell_type": "code",
   "execution_count": 2,
   "metadata": {},
   "outputs": [],
   "source": [
    "regex_datetime = re.compile('\\d{4}/\\d{2}/\\d{2}[\\s]*\\d{2}:\\d{2}:\\d{2}')\n",
    "regex_consuming = re.compile('耗时(\\d+)秒')\n",
    "\n",
    "def traverse(folder_path):\n",
    "    fs = os.listdir(folder_path)\n",
    "    for fp in fs:\n",
    "        tmp_path = os.path.join(folder_path, fp)\n",
    "        flag = False\n",
    "        if not(os.path.isdir(tmp_path)) and re.match(r'(.*)\\.(log|txt)$', tmp_path):\n",
    "            with open(tmp_path, 'r', encoding='utf-8') as fb:\n",
    "                lines = fb.readlines()\n",
    "                ##用时是否超过1小时\n",
    "                lines1 = [line for line in lines if re.match('\\d{4}/\\d{2}/\\d{2}[\\s]*\\d{2}:\\d{2}:\\d{2}', line) != None]\n",
    "                if len(lines1) > 1:\n",
    "                    first_datetime = lines1[0]\n",
    "                    first_datetime = regex_datetime.search(first_datetime).group()\n",
    "                    first_datetime = datetime.datetime.strptime(first_datetime, '%Y/%m/%d %H:%M:%S')\n",
    "                    last_datetime = lines1[-1]\n",
    "                    last_datetime = regex_datetime.search(last_datetime).group()\n",
    "                    last_datetime = datetime.datetime.strptime(last_datetime, '%Y/%m/%d %H:%M:%S')\n",
    "                    gap_time = last_datetime - first_datetime\n",
    "                    if gap_time.seconds >= 3600:\n",
    "                        print(tmp_path)\n",
    "                        print('\\n')\n",
    "                        flag = True\n",
    "                    else:\n",
    "                        lines2 = [line for line in lines if re.match('(.*)耗时(\\d+)秒', line) != None]\n",
    "                        for line in lines2:\n",
    "                            consuming_time = regex_consuming.search(line).groups()[0]\n",
    "                            if int(consuming_time) >= 300:\n",
    "                                print(line)\n",
    "                                print(tmp_path)\n",
    "                                print('\\n')\n",
    "                                flag = True\n",
    "                                break\n",
    "            if not(flag):\n",
    "                os.remove(tmp_path)\n",
    "        elif os.path.isdir(tmp_path):\n",
    "            traverse(tmp_path)\n",
    "        else:\n",
    "            os.remove(tmp_path)\n",
    "                    "
   ]
  },
  {
   "cell_type": "code",
   "execution_count": 2,
   "metadata": {},
   "outputs": [
    {
     "name": "stdout",
     "output_type": "stream",
     "text": [
      "size is 1.484288 MB\n"
     ]
    }
   ],
   "source": [
    "file_name = r'C:\\Users\\Zhao.LJ\\Desktop\\Word结构化稿件\\有问题' \\\n",
    "'\\《iOS编程（第5版）》第4章.doc'\n",
    "size = os.path.getsize(file_name)\n",
    "if size > 1000000:\n",
    "    print('size is {0} MB'.format(float(size / 1000000)))"
   ]
  },
  {
   "cell_type": "code",
   "execution_count": null,
   "metadata": {},
   "outputs": [],
   "source": []
  }
 ],
 "metadata": {
  "kernelspec": {
   "display_name": "Python 3",
   "language": "python",
   "name": "python3"
  },
  "language_info": {
   "codemirror_mode": {
    "name": "ipython",
    "version": 3
   },
   "file_extension": ".py",
   "mimetype": "text/x-python",
   "name": "python",
   "nbconvert_exporter": "python",
   "pygments_lexer": "ipython3",
   "version": "3.7.1"
  }
 },
 "nbformat": 4,
 "nbformat_minor": 2
}
