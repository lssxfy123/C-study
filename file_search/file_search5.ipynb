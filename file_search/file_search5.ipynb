{
 "cells": [
  {
   "cell_type": "code",
   "execution_count": 1,
   "metadata": {},
   "outputs": [
    {
     "name": "stderr",
     "output_type": "stream",
     "text": [
      "C:\\ProgramData\\Anaconda3\\lib\\site-packages\\ipykernel\\parentpoller.py:116: UserWarning: Parent poll failed.  If the frontend dies,\n",
      "                the kernel may be left running.  Please let us know\n",
      "                about your system (bitness, Python, etc.) at\n",
      "                ipython-dev@scipy.org\n",
      "  ipython-dev@scipy.org\"\"\")\n"
     ]
    }
   ],
   "source": [
    "# Copyright(C) 2018 刘珅珅\n",
    "# Environment: python 3.6.4\n",
    "# Date: 2018.10.22\n",
    "# 所有doc文件转换docx\n",
    "import os\n",
    "import win32api\n",
    "import win32com.client as win32\n",
    "all_file_list = []"
   ]
  },
  {
   "cell_type": "code",
   "execution_count": 2,
   "metadata": {},
   "outputs": [],
   "source": [
    "def traverse(folder_path):\n",
    "    fs = os.listdir(folder_path)\n",
    "\n",
    "    try:\n",
    "        for f in fs:\n",
    "            tmp_path = os.path.join(folder_path, f)\n",
    "            if not os.path.isdir(tmp_path):\n",
    "                file_split_part = os.path.splitext(tmp_path)\n",
    "                if len(file_split_part) == 2 and file_split_part[1] == '.doc' \\\n",
    "                        and not os.path.exists(file_split_part[0] + '.docx') \\\n",
    "                        and not file_split_part[0].startswith('~$'):\n",
    "                    all_file_list.append(tmp_path)\n",
    "            else:\n",
    "                traverse(tmp_path)\n",
    "    except:\n",
    "        pass"
   ]
  },
  {
   "cell_type": "code",
   "execution_count": 3,
   "metadata": {},
   "outputs": [],
   "source": [
    "def doc2docx():\n",
    "    if len(all_file_list) == 0:\n",
    "        return\n",
    "    \n",
    "    try:\n",
    "        word = win32.gencache.EnsureDispatch('Word.Application')\n",
    "        for file in all_file_list:\n",
    "            print(file)\n",
    "            file_split_part = os.path.splitext(file)\n",
    "            docx_name = file_split_part[0] + '.docx'\n",
    "            doc = word.Documents.Open(file)\n",
    "            doc.SaveAs(docx_name, 16)\n",
    "            doc.Close()\n",
    "        word.Application.Quit()\n",
    "    except:\n",
    "        print('Exception')"
   ]
  },
  {
   "cell_type": "code",
   "execution_count": 12,
   "metadata": {},
   "outputs": [
    {
     "name": "stdout",
     "output_type": "stream",
     "text": [
      "开始将doc转换为docx\n",
      "C:\\Users\\shenshen\\Desktop\\test\\test1\n",
      "C:\\Users\\shenshen\\Desktop\\test\\test1\\华为笔试-刘珅珅1.doc\n",
      "C:\\Users\\shenshen\\Desktop\\test\\华为笔试-刘珅珅.doc\n",
      "C:\\Users\\shenshen\\Desktop\\test\\test1\\华为笔试-刘珅珅1.doc\n",
      "C:\\Users\\shenshen\\Desktop\\test\\华为笔试-刘珅珅.doc\n",
      "转换完成\n"
     ]
    }
   ],
   "source": [
    "all_file_list.clear()\n",
    "folder_path = r'C:\\Users\\shenshen\\Desktop\\test2'  # r'C:\\Users\\Zhao.LJ\\Desktop\\中国农业出版社'\n",
    "print('开始将doc转换为docx')\n",
    "traverse(folder_path)\n",
    "doc2docx()\n",
    "print('转换完成')"
   ]
  },
  {
   "cell_type": "code",
   "execution_count": null,
   "metadata": {},
   "outputs": [],
   "source": []
  }
 ],
 "metadata": {
  "kernelspec": {
   "display_name": "Python 3",
   "language": "python",
   "name": "python3"
  },
  "language_info": {
   "codemirror_mode": {
    "name": "ipython",
    "version": 3
   },
   "file_extension": ".py",
   "mimetype": "text/x-python",
   "name": "python",
   "nbconvert_exporter": "python",
   "pygments_lexer": "ipython3",
   "version": "3.7.1"
  }
 },
 "nbformat": 4,
 "nbformat_minor": 2
}
