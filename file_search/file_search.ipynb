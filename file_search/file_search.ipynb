{
 "cells": [
  {
   "cell_type": "code",
   "execution_count": 6,
   "metadata": {},
   "outputs": [],
   "source": [
    "import os\n",
    "import sys\n",
    "import re"
   ]
  },
  {
   "cell_type": "code",
   "execution_count": 52,
   "metadata": {},
   "outputs": [
    {
     "name": "stdout",
     "output_type": "stream",
     "text": [
      "C:\\study\\C-study\\dfs_test3\\test.cpp\n"
     ]
    }
   ],
   "source": [
    "find_str_in_file('拯救小哈')"
   ]
  },
  {
   "cell_type": "code",
   "execution_count": 51,
   "metadata": {},
   "outputs": [],
   "source": [
    "def find_str_in_file(target):\n",
    "    parent_path = os.path.abspath(\"..\")\n",
    "    fs = os.listdir(parent_path)\n",
    "    fs = [file_path for file_path in fs if re.match(\"^[a-zA-Z]\", file_path) != None]\n",
    "    for fp in fs:\n",
    "        tmp_path = os.path.join(parent_path, fp)\n",
    "        traverse(tmp_path, target)"
   ]
  },
  {
   "cell_type": "code",
   "execution_count": 48,
   "metadata": {},
   "outputs": [],
   "source": [
    "def traverse(folder_path, target):\n",
    "    fs = os.listdir(folder_path)\n",
    "    for fp in fs:\n",
    "        tmp_path = os.path.join(folder_path, fp)\n",
    "        if not(os.path.isdir(tmp_path)) and re.match(r'(.*)\\.[hc](pp)?$', tmp_path):\n",
    "            with open(tmp_path, 'r', encoding='gbk') as fb:\n",
    "                for line in fb:\n",
    "                    if line.find(target) > 0:\n",
    "                        print(tmp_path)\n",
    "                        break\n",
    "        elif os.path.isdir(tmp_path):\n",
    "            traverse(tmp_path, target)\n",
    "                    "
   ]
  },
  {
   "cell_type": "code",
   "execution_count": null,
   "metadata": {},
   "outputs": [],
   "source": []
  }
 ],
 "metadata": {
  "kernelspec": {
   "display_name": "Python 3",
   "language": "python",
   "name": "python3"
  },
  "language_info": {
   "codemirror_mode": {
    "name": "ipython",
    "version": 3
   },
   "file_extension": ".py",
   "mimetype": "text/x-python",
   "name": "python",
   "nbconvert_exporter": "python",
   "pygments_lexer": "ipython3",
   "version": "3.7.1"
  }
 },
 "nbformat": 4,
 "nbformat_minor": 2
}
