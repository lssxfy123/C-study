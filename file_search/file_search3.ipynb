{
 "cells": [
  {
   "cell_type": "code",
   "execution_count": 1,
   "metadata": {},
   "outputs": [],
   "source": [
    "import os\n",
    "import sys\n",
    "import re\n",
    "import datetime\n",
    "import shutil"
   ]
  },
  {
   "cell_type": "code",
   "execution_count": 4,
   "metadata": {},
   "outputs": [],
   "source": [
    "find_big_file(r'C:\\Users\\Zhao.LJ\\Desktop\\Word结构化稿件\\有问题', r'C:\\Users\\Zhao.LJ\\Desktop\\test1')"
   ]
  },
  {
   "cell_type": "code",
   "execution_count": 3,
   "metadata": {},
   "outputs": [],
   "source": [
    "def find_big_file(parent_path, dest_path):\n",
    "    fs = os.listdir(parent_path)\n",
    "    for fp in fs:\n",
    "        tmp_path = os.path.join(parent_path, fp)\n",
    "        if os.path.isdir(tmp_path):\n",
    "            traverse(tmp_path, dest_path)"
   ]
  },
  {
   "cell_type": "code",
   "execution_count": 2,
   "metadata": {},
   "outputs": [],
   "source": [
    "def traverse(folder_path, dest_path):\n",
    "    fs = os.listdir(folder_path)\n",
    "    for fp in fs:\n",
    "        tmp_path = os.path.join(folder_path, fp)\n",
    "        flag = False\n",
    "        if not(os.path.isdir(tmp_path)) and re.match(r'(.*)\\.doc(x)?$', tmp_path):\n",
    "            size = os.path.getsize(tmp_path)\n",
    "            if size > 1000000:\n",
    "                new_path = os.path.join(dest_path, fp)\n",
    "                shutil.copyfile(tmp_path, new_path)\n",
    "        elif os.path.isdir(tmp_path):\n",
    "            traverse(tmp_path, dest_path)\n",
    "                    "
   ]
  },
  {
   "cell_type": "code",
   "execution_count": 7,
   "metadata": {},
   "outputs": [],
   "source": [
    "file_name = r'C:\\Users\\Zhao.LJ\\Desktop\\Word结构化稿件\\有问题' \\\n",
    "'\\《iOS编程（第5版）》第4章.doc'\n",
    "new_file_name = r'C:\\Users\\Zhao.LJ\\Desktop\\Word结构化稿件\\有问题\\test1' \\\n",
    "'\\《iOS编程（第5版）》第4章.doc'\n",
    "size = os.path.getsize(file_name)\n",
    "if size > 1000000:\n",
    "    shutil.copyfile(file_name, new_file_name)"
   ]
  },
  {
   "cell_type": "code",
   "execution_count": null,
   "metadata": {},
   "outputs": [],
   "source": []
  }
 ],
 "metadata": {
  "kernelspec": {
   "display_name": "Python 3",
   "language": "python",
   "name": "python3"
  },
  "language_info": {
   "codemirror_mode": {
    "name": "ipython",
    "version": 3
   },
   "file_extension": ".py",
   "mimetype": "text/x-python",
   "name": "python",
   "nbconvert_exporter": "python",
   "pygments_lexer": "ipython3",
   "version": "3.7.1"
  }
 },
 "nbformat": 4,
 "nbformat_minor": 2
}
